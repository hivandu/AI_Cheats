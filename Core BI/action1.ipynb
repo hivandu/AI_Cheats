{
 "cells": [
  {
   "cell_type": "markdown",
   "metadata": {},
   "source": [
    "# Action1 男女声音识别"
   ]
  },
  {
   "cell_type": "code",
   "execution_count": 4,
   "metadata": {},
   "outputs": [],
   "source": [
    "import pandas as pd\n",
    "from sklearn.linear_model import LogisticRegression\n",
    "from sklearn.preprocessing import LabelEncoder\n",
    "from sklearn.preprocessing import StandardScaler, MinMaxScaler\n",
    "from sklearn.model_selection import train_test_split\n",
    "from sklearn.metrics import accuracy_score\n",
    "import xgboost as xgb"
   ]
  },
  {
   "cell_type": "code",
   "execution_count": 5,
   "metadata": {},
   "outputs": [
    {
     "data": {
      "text/html": [
       "<div>\n",
       "<style scoped>\n",
       "    .dataframe tbody tr th:only-of-type {\n",
       "        vertical-align: middle;\n",
       "    }\n",
       "\n",
       "    .dataframe tbody tr th {\n",
       "        vertical-align: top;\n",
       "    }\n",
       "\n",
       "    .dataframe thead th {\n",
       "        text-align: right;\n",
       "    }\n",
       "</style>\n",
       "<table border=\"1\" class=\"dataframe\">\n",
       "  <thead>\n",
       "    <tr style=\"text-align: right;\">\n",
       "      <th></th>\n",
       "      <th>meanfreq</th>\n",
       "      <th>sd</th>\n",
       "      <th>median</th>\n",
       "      <th>Q25</th>\n",
       "      <th>Q75</th>\n",
       "      <th>IQR</th>\n",
       "      <th>skew</th>\n",
       "      <th>kurt</th>\n",
       "      <th>sp.ent</th>\n",
       "      <th>sfm</th>\n",
       "      <th>...</th>\n",
       "      <th>centroid</th>\n",
       "      <th>meanfun</th>\n",
       "      <th>minfun</th>\n",
       "      <th>maxfun</th>\n",
       "      <th>meandom</th>\n",
       "      <th>mindom</th>\n",
       "      <th>maxdom</th>\n",
       "      <th>dfrange</th>\n",
       "      <th>modindx</th>\n",
       "      <th>label</th>\n",
       "    </tr>\n",
       "  </thead>\n",
       "  <tbody>\n",
       "    <tr>\n",
       "      <th>0</th>\n",
       "      <td>0.059781</td>\n",
       "      <td>0.064241</td>\n",
       "      <td>0.032027</td>\n",
       "      <td>0.015071</td>\n",
       "      <td>0.090193</td>\n",
       "      <td>0.075122</td>\n",
       "      <td>12.863462</td>\n",
       "      <td>274.402906</td>\n",
       "      <td>0.893369</td>\n",
       "      <td>0.491918</td>\n",
       "      <td>...</td>\n",
       "      <td>0.059781</td>\n",
       "      <td>0.084279</td>\n",
       "      <td>0.015702</td>\n",
       "      <td>0.275862</td>\n",
       "      <td>0.007812</td>\n",
       "      <td>0.007812</td>\n",
       "      <td>0.007812</td>\n",
       "      <td>0.000000</td>\n",
       "      <td>0.000000</td>\n",
       "      <td>male</td>\n",
       "    </tr>\n",
       "    <tr>\n",
       "      <th>1</th>\n",
       "      <td>0.066009</td>\n",
       "      <td>0.067310</td>\n",
       "      <td>0.040229</td>\n",
       "      <td>0.019414</td>\n",
       "      <td>0.092666</td>\n",
       "      <td>0.073252</td>\n",
       "      <td>22.423285</td>\n",
       "      <td>634.613855</td>\n",
       "      <td>0.892193</td>\n",
       "      <td>0.513724</td>\n",
       "      <td>...</td>\n",
       "      <td>0.066009</td>\n",
       "      <td>0.107937</td>\n",
       "      <td>0.015826</td>\n",
       "      <td>0.250000</td>\n",
       "      <td>0.009014</td>\n",
       "      <td>0.007812</td>\n",
       "      <td>0.054688</td>\n",
       "      <td>0.046875</td>\n",
       "      <td>0.052632</td>\n",
       "      <td>male</td>\n",
       "    </tr>\n",
       "    <tr>\n",
       "      <th>2</th>\n",
       "      <td>0.077316</td>\n",
       "      <td>0.083829</td>\n",
       "      <td>0.036718</td>\n",
       "      <td>0.008701</td>\n",
       "      <td>0.131908</td>\n",
       "      <td>0.123207</td>\n",
       "      <td>30.757155</td>\n",
       "      <td>1024.927705</td>\n",
       "      <td>0.846389</td>\n",
       "      <td>0.478905</td>\n",
       "      <td>...</td>\n",
       "      <td>0.077316</td>\n",
       "      <td>0.098706</td>\n",
       "      <td>0.015656</td>\n",
       "      <td>0.271186</td>\n",
       "      <td>0.007990</td>\n",
       "      <td>0.007812</td>\n",
       "      <td>0.015625</td>\n",
       "      <td>0.007812</td>\n",
       "      <td>0.046512</td>\n",
       "      <td>male</td>\n",
       "    </tr>\n",
       "    <tr>\n",
       "      <th>3</th>\n",
       "      <td>0.151228</td>\n",
       "      <td>0.072111</td>\n",
       "      <td>0.158011</td>\n",
       "      <td>0.096582</td>\n",
       "      <td>0.207955</td>\n",
       "      <td>0.111374</td>\n",
       "      <td>1.232831</td>\n",
       "      <td>4.177296</td>\n",
       "      <td>0.963322</td>\n",
       "      <td>0.727232</td>\n",
       "      <td>...</td>\n",
       "      <td>0.151228</td>\n",
       "      <td>0.088965</td>\n",
       "      <td>0.017798</td>\n",
       "      <td>0.250000</td>\n",
       "      <td>0.201497</td>\n",
       "      <td>0.007812</td>\n",
       "      <td>0.562500</td>\n",
       "      <td>0.554688</td>\n",
       "      <td>0.247119</td>\n",
       "      <td>male</td>\n",
       "    </tr>\n",
       "    <tr>\n",
       "      <th>4</th>\n",
       "      <td>0.135120</td>\n",
       "      <td>0.079146</td>\n",
       "      <td>0.124656</td>\n",
       "      <td>0.078720</td>\n",
       "      <td>0.206045</td>\n",
       "      <td>0.127325</td>\n",
       "      <td>1.101174</td>\n",
       "      <td>4.333713</td>\n",
       "      <td>0.971955</td>\n",
       "      <td>0.783568</td>\n",
       "      <td>...</td>\n",
       "      <td>0.135120</td>\n",
       "      <td>0.106398</td>\n",
       "      <td>0.016931</td>\n",
       "      <td>0.266667</td>\n",
       "      <td>0.712812</td>\n",
       "      <td>0.007812</td>\n",
       "      <td>5.484375</td>\n",
       "      <td>5.476562</td>\n",
       "      <td>0.208274</td>\n",
       "      <td>male</td>\n",
       "    </tr>\n",
       "  </tbody>\n",
       "</table>\n",
       "<p>5 rows × 21 columns</p>\n",
       "</div>"
      ],
      "text/plain": [
       "   meanfreq        sd    median       Q25       Q75       IQR       skew  \\\n",
       "0  0.059781  0.064241  0.032027  0.015071  0.090193  0.075122  12.863462   \n",
       "1  0.066009  0.067310  0.040229  0.019414  0.092666  0.073252  22.423285   \n",
       "2  0.077316  0.083829  0.036718  0.008701  0.131908  0.123207  30.757155   \n",
       "3  0.151228  0.072111  0.158011  0.096582  0.207955  0.111374   1.232831   \n",
       "4  0.135120  0.079146  0.124656  0.078720  0.206045  0.127325   1.101174   \n",
       "\n",
       "          kurt    sp.ent       sfm  ...  centroid   meanfun    minfun  \\\n",
       "0   274.402906  0.893369  0.491918  ...  0.059781  0.084279  0.015702   \n",
       "1   634.613855  0.892193  0.513724  ...  0.066009  0.107937  0.015826   \n",
       "2  1024.927705  0.846389  0.478905  ...  0.077316  0.098706  0.015656   \n",
       "3     4.177296  0.963322  0.727232  ...  0.151228  0.088965  0.017798   \n",
       "4     4.333713  0.971955  0.783568  ...  0.135120  0.106398  0.016931   \n",
       "\n",
       "     maxfun   meandom    mindom    maxdom   dfrange   modindx  label  \n",
       "0  0.275862  0.007812  0.007812  0.007812  0.000000  0.000000   male  \n",
       "1  0.250000  0.009014  0.007812  0.054688  0.046875  0.052632   male  \n",
       "2  0.271186  0.007990  0.007812  0.015625  0.007812  0.046512   male  \n",
       "3  0.250000  0.201497  0.007812  0.562500  0.554688  0.247119   male  \n",
       "4  0.266667  0.712812  0.007812  5.484375  5.476562  0.208274   male  \n",
       "\n",
       "[5 rows x 21 columns]"
      ]
     },
     "execution_count": 5,
     "metadata": {},
     "output_type": "execute_result"
    }
   ],
   "source": [
    "dataframe = pd.read_csv('/Volumes/Library/SynologyDrive/data/AI_Cheats/voice/voice.csv')\n",
    "dataframe.head()"
   ]
  },
  {
   "cell_type": "code",
   "execution_count": 6,
   "metadata": {},
   "outputs": [
    {
     "name": "stdout",
     "output_type": "stream",
     "text": [
      "meanfreq    0\n",
      "sd          0\n",
      "median      0\n",
      "Q25         0\n",
      "Q75         0\n",
      "IQR         0\n",
      "skew        0\n",
      "kurt        0\n",
      "sp.ent      0\n",
      "sfm         0\n",
      "mode        0\n",
      "centroid    0\n",
      "meanfun     0\n",
      "minfun      0\n",
      "maxfun      0\n",
      "meandom     0\n",
      "mindom      0\n",
      "maxdom      0\n",
      "dfrange     0\n",
      "modindx     0\n",
      "label       0\n",
      "dtype: int64\n",
      "(3168, 21)\n"
     ]
    }
   ],
   "source": [
    "# 缺失值个数\n",
    "print(dataframe.isnull().sum())\n",
    "# 矩阵的大小\n",
    "print(dataframe.shape)"
   ]
  },
  {
   "cell_type": "code",
   "execution_count": 7,
   "metadata": {},
   "outputs": [
    {
     "name": "stdout",
     "output_type": "stream",
     "text": [
      "男性个数:1584\n",
      "女性个数:1584\n"
     ]
    }
   ],
   "source": [
    "print('男性个数:{}'.format(dataframe[dataframe.label=='male'].shape[0]))\n",
    "print('女性个数:{}'.format(dataframe[dataframe.label=='female'].shape[0]))"
   ]
  },
  {
   "cell_type": "code",
   "execution_count": 8,
   "metadata": {},
   "outputs": [],
   "source": [
    "# 提取特征列，目标列 target\n",
    "X = dataframe.iloc[:, :-1]\n",
    "y = dataframe.iloc[:, -1]"
   ]
  },
  {
   "cell_type": "code",
   "execution_count": 9,
   "metadata": {},
   "outputs": [
    {
     "name": "stdout",
     "output_type": "stream",
     "text": [
      "0         male\n",
      "1         male\n",
      "2         male\n",
      "3         male\n",
      "4         male\n",
      "         ...  \n",
      "3163    female\n",
      "3164    female\n",
      "3165    female\n",
      "3166    female\n",
      "3167    female\n",
      "Name: label, Length: 3168, dtype: object\n",
      "[1 1 1 ... 0 0 0]\n"
     ]
    }
   ],
   "source": [
    "# 使用标签编码\n",
    "gender_encoder = LabelEncoder()\n",
    "print(y)\n",
    "y = gender_encoder.fit_transform(y)\n",
    "print(y)"
   ]
  },
  {
   "cell_type": "code",
   "execution_count": 10,
   "metadata": {},
   "outputs": [
    {
     "name": "stdout",
     "output_type": "stream",
     "text": [
      "[[-4.04924806  0.4273553  -4.22490077 ... -1.43142165 -1.41913712\n",
      "  -1.45477229]\n",
      " [-3.84105325  0.6116695  -3.99929342 ... -1.41810716 -1.4058184\n",
      "  -1.01410294]\n",
      " [-3.46306647  1.60384791 -4.09585052 ... -1.42920257 -1.41691733\n",
      "  -1.06534356]\n",
      " ...\n",
      " [-1.29877326  2.32272355 -0.05197279 ... -0.5992661  -0.58671739\n",
      "   0.17588664]\n",
      " [-1.2452018   2.012196   -0.01772849 ... -0.41286326 -0.40025537\n",
      "   1.14916112]\n",
      " [-0.51474626  2.14765111 -0.07087873 ... -1.27608595 -1.2637521\n",
      "   1.47567886]]\n"
     ]
    }
   ],
   "source": [
    "# 数据归一化\n",
    "scaler = StandardScaler()\n",
    "# 对原时特征进行归一化\n",
    "X = scaler.fit_transform(X)\n",
    "print(X)\n"
   ]
  },
  {
   "cell_type": "code",
   "execution_count": 11,
   "metadata": {},
   "outputs": [],
   "source": [
    "param = {\n",
    "    'boosting_type': 'gbdt',\n",
    "    'objective': 'binary:logistic', #\n",
    "    'eval_metric': 'auc',\n",
    "    'eta': 0.1,\n",
    "    'max_depth': 1,\n",
    "    'colsample_bytree': 0.8,\n",
    "    'subsample': 0.9,\n",
    "    'subsample_freq': 7,\n",
    "    'alpha': 0,\n",
    "    'lambda': 0,\n",
    "}"
   ]
  },
  {
   "cell_type": "code",
   "execution_count": 12,
   "metadata": {},
   "outputs": [],
   "source": [
    "# 数据集切分\n",
    "X_train, X_test, y_train, y_test = train_test_split(X, y, train_size=0.2, random_state=2023)"
   ]
  },
  {
   "cell_type": "code",
   "execution_count": 13,
   "metadata": {},
   "outputs": [],
   "source": [
    "train_data = xgb.DMatrix(X_train, label=y_train)\n",
    "test_data = xgb.DMatrix(X_test, label=y_test)"
   ]
  },
  {
   "cell_type": "code",
   "execution_count": 14,
   "metadata": {},
   "outputs": [
    {
     "name": "stdout",
     "output_type": "stream",
     "text": [
      "[0]\ttrain-auc:0.95815\tvalid-auc:0.95209\n",
      "[5]\ttrain-auc:0.97504\tvalid-auc:0.96278\n",
      "[10]\ttrain-auc:0.98285\tvalid-auc:0.97298\n",
      "[15]\ttrain-auc:0.99263\tvalid-auc:0.98828\n",
      "[20]\ttrain-auc:0.99390\tvalid-auc:0.98890\n",
      "[25]\ttrain-auc:0.99404\tvalid-auc:0.98902\n",
      "[30]\ttrain-auc:0.99436\tvalid-auc:0.98927\n",
      "[35]\ttrain-auc:0.99535\tvalid-auc:0.99090\n",
      "[40]\ttrain-auc:0.99553\tvalid-auc:0.99108\n",
      "[45]\ttrain-auc:0.99639\tvalid-auc:0.99221\n",
      "[50]\ttrain-auc:0.99659\tvalid-auc:0.99242\n",
      "[55]\ttrain-auc:0.99672\tvalid-auc:0.99265\n",
      "[60]\ttrain-auc:0.99705\tvalid-auc:0.99297\n",
      "[65]\ttrain-auc:0.99729\tvalid-auc:0.99300\n"
     ]
    },
    {
     "name": "stdout",
     "output_type": "stream",
     "text": [
      "[70]\ttrain-auc:0.99751\tvalid-auc:0.99350\n"
     ]
    },
    {
     "name": "stderr",
     "output_type": "stream",
     "text": [
      "/Users/du/miniforge3/envs/tf/lib/python3.8/site-packages/xgboost/core.py:160: UserWarning: [23:12:40] WARNING: /Users/runner/miniforge3/conda-bld/xgboost-split_1705650237050/work/src/learner.cc:742: \n",
      "Parameters: { \"boosting_type\", \"subsample_freq\" } are not used.\n",
      "\n",
      "  warnings.warn(smsg, UserWarning)\n"
     ]
    },
    {
     "name": "stdout",
     "output_type": "stream",
     "text": [
      "[75]\ttrain-auc:0.99763\tvalid-auc:0.99349\n",
      "[80]\ttrain-auc:0.99776\tvalid-auc:0.99371\n",
      "[85]\ttrain-auc:0.99790\tvalid-auc:0.99379\n",
      "[90]\ttrain-auc:0.99815\tvalid-auc:0.99380\n",
      "[95]\ttrain-auc:0.99823\tvalid-auc:0.99384\n",
      "[100]\ttrain-auc:0.99832\tvalid-auc:0.99402\n",
      "[105]\ttrain-auc:0.99836\tvalid-auc:0.99402\n",
      "[110]\ttrain-auc:0.99847\tvalid-auc:0.99411\n",
      "[115]\ttrain-auc:0.99858\tvalid-auc:0.99424\n",
      "[120]\ttrain-auc:0.99876\tvalid-auc:0.99426\n",
      "[125]\ttrain-auc:0.99886\tvalid-auc:0.99420\n",
      "[130]\ttrain-auc:0.99884\tvalid-auc:0.99412\n",
      "[135]\ttrain-auc:0.99899\tvalid-auc:0.99416\n",
      "[140]\ttrain-auc:0.99913\tvalid-auc:0.99420\n",
      "[145]\ttrain-auc:0.99920\tvalid-auc:0.99414\n",
      "[150]\ttrain-auc:0.99936\tvalid-auc:0.99420\n",
      "[155]\ttrain-auc:0.99937\tvalid-auc:0.99424\n",
      "[160]\ttrain-auc:0.99942\tvalid-auc:0.99424\n",
      "[165]\ttrain-auc:0.99953\tvalid-auc:0.99429\n",
      "[170]\ttrain-auc:0.99954\tvalid-auc:0.99431\n",
      "[175]\ttrain-auc:0.99957\tvalid-auc:0.99435\n",
      "[180]\ttrain-auc:0.99959\tvalid-auc:0.99428\n",
      "[185]\ttrain-auc:0.99964\tvalid-auc:0.99430\n",
      "[190]\ttrain-auc:0.99968\tvalid-auc:0.99433\n",
      "[195]\ttrain-auc:0.99971\tvalid-auc:0.99439\n",
      "[200]\ttrain-auc:0.99974\tvalid-auc:0.99439\n",
      "[205]\ttrain-auc:0.99976\tvalid-auc:0.99433\n",
      "[210]\ttrain-auc:0.99981\tvalid-auc:0.99434\n",
      "[215]\ttrain-auc:0.99981\tvalid-auc:0.99432\n",
      "[220]\ttrain-auc:0.99984\tvalid-auc:0.99432\n",
      "[225]\ttrain-auc:0.99985\tvalid-auc:0.99434\n",
      "[230]\ttrain-auc:0.99988\tvalid-auc:0.99429\n",
      "[235]\ttrain-auc:0.99988\tvalid-auc:0.99426\n",
      "[240]\ttrain-auc:0.99988\tvalid-auc:0.99431\n",
      "[245]\ttrain-auc:0.99991\tvalid-auc:0.99434\n",
      "[250]\ttrain-auc:0.99992\tvalid-auc:0.99435\n",
      "[255]\ttrain-auc:0.99995\tvalid-auc:0.99428\n",
      "[260]\ttrain-auc:0.99994\tvalid-auc:0.99434\n",
      "[265]\ttrain-auc:0.99995\tvalid-auc:0.99433\n",
      "[270]\ttrain-auc:0.99996\tvalid-auc:0.99430\n",
      "[275]\ttrain-auc:0.99997\tvalid-auc:0.99428\n",
      "[280]\ttrain-auc:0.99998\tvalid-auc:0.99428\n",
      "[285]\ttrain-auc:0.99999\tvalid-auc:0.99429\n",
      "[290]\ttrain-auc:0.99999\tvalid-auc:0.99424\n",
      "[293]\ttrain-auc:0.99999\tvalid-auc:0.99426\n",
      "XGBoost 预测结果：[1 0 1 ... 0 0 0], \n",
      " 准确率: 1.0\n"
     ]
    }
   ],
   "source": [
    "model = xgb.train(param, train_data, evals=[(train_data, 'train'), (test_data, 'valid')], num_boost_round = 100000, early_stopping_rounds=100, verbose_eval=5)\n",
    "y_pred = model.predict(test_data)\n",
    "y_pred = [1 if x>=0.5 else 0 for x in y_pred]\n",
    "print('XGBoost 预测结果：{}, \\n 准确率: {}'.format(y_test, accuracy_score(y_test, y_test)))"
   ]
  },
  {
   "cell_type": "code",
   "execution_count": null,
   "metadata": {},
   "outputs": [],
   "source": []
  }
 ],
 "metadata": {
  "kernelspec": {
   "display_name": "tf",
   "language": "python",
   "name": "python3"
  },
  "language_info": {
   "codemirror_mode": {
    "name": "ipython",
    "version": 3
   },
   "file_extension": ".py",
   "mimetype": "text/x-python",
   "name": "python",
   "nbconvert_exporter": "python",
   "pygments_lexer": "ipython3",
   "version": "3.8.16"
  }
 },
 "nbformat": 4,
 "nbformat_minor": 2
}
