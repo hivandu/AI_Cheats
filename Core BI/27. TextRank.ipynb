{
 "cells": [
  {
   "cell_type": "markdown",
   "metadata": {},
   "source": [
    "## TextRank"
   ]
  },
  {
   "cell_type": "code",
   "execution_count": 1,
   "metadata": {},
   "outputs": [
    {
     "name": "stderr",
     "output_type": "stream",
     "text": [
      "/Users/bindu/miniforge3/envs/ml/lib/python3.10/site-packages/jieba/_compat.py:18: UserWarning: pkg_resources is deprecated as an API. See https://setuptools.pypa.io/en/latest/pkg_resources.html. The pkg_resources package is slated for removal as early as 2025-11-30. Refrain from using this package or pin to Setuptools<81.\n",
      "  import pkg_resources\n"
     ]
    }
   ],
   "source": [
    "import jieba\n",
    "import jieba.analyse\n",
    "import jieba.posseg as pseg"
   ]
  },
  {
   "cell_type": "code",
   "execution_count": 4,
   "metadata": {},
   "outputs": [],
   "source": [
    "sentence = \"4 日，日本政府与驻日美军就支援能登半岛地震灾区进行协调。双方将商议具体的救援办法和开始时间。预计美方将负责运输救援物资和灾民。\""
   ]
  },
  {
   "cell_type": "code",
   "execution_count": 5,
   "metadata": {},
   "outputs": [
    {
     "name": "stderr",
     "output_type": "stream",
     "text": [
      "Building prefix dict from the default dictionary ...\n",
      "Loading model from cache /var/folders/z4/ytcxq0ps02v3py23b74t70kh0000gn/T/jieba.cache\n"
     ]
    },
    {
     "name": "stdout",
     "output_type": "stream",
     "text": [
      "<generator object Tokenizer.cut at 0x16c0407b0>\n"
     ]
    },
    {
     "name": "stderr",
     "output_type": "stream",
     "text": [
      "Loading model cost 0.279 seconds.\n",
      "Prefix dict has been built successfully.\n"
     ]
    },
    {
     "name": "stdout",
     "output_type": "stream",
     "text": [
      "4   日 ， 日本政府 与 驻 日美军 就 支援 能登 半岛 地震 灾区 进行 协调 。 双方 将 商议 具体 的 救援 办法 和 开始 时间 。 预计 美方 将 负责 运输 救援 物资 和 灾民 。\n"
     ]
    }
   ],
   "source": [
    "# 获取分词\n",
    "seg_list = jieba.cut(sentence, cut_all=False)\n",
    "print(seg_list)\n",
    "print(' '.join(seg_list))"
   ]
  },
  {
   "cell_type": "code",
   "execution_count": 6,
   "metadata": {},
   "outputs": [
    {
     "name": "stdout",
     "output_type": "stream",
     "text": [
      "4, x\n",
      " , x\n",
      "日, m\n",
      "，, x\n",
      "日本政府, nt\n",
      "与, p\n",
      "驻, n\n",
      "日美军, nt\n",
      "就, d\n",
      "支援, v\n",
      "能登, v\n",
      "半岛, n\n",
      "地震, n\n",
      "灾区, n\n",
      "进行, v\n",
      "协调, v\n",
      "。, x\n",
      "双方, n\n",
      "将, d\n",
      "商议, n\n",
      "具体, a\n",
      "的, uj\n",
      "救援, vn\n",
      "办法, n\n",
      "和, c\n",
      "开始, v\n",
      "时间, n\n",
      "。, x\n",
      "预计, vn\n",
      "美方, q\n",
      "将, d\n",
      "负责, v\n",
      "运输, vn\n",
      "救援, vn\n",
      "物资, n\n",
      "和, c\n",
      "灾民, n\n",
      "。, x\n"
     ]
    }
   ],
   "source": [
    "# 获取分词和词性\n",
    "words = pseg.cut(sentence)\n",
    "for word, flag in words:\n",
    "  print('{}, {}'.format(word, flag))"
   ]
  },
  {
   "cell_type": "code",
   "execution_count": 7,
   "metadata": {},
   "outputs": [
    {
     "name": "stdout",
     "output_type": "stream",
     "text": [
      "[('物资', 1.0), ('灾区', 0.9029542540380313), ('协调', 0.813209730604036), ('进行', 0.7819873703099046), ('地震', 0.765016907218688), ('半岛', 0.7610009528570525), ('办法', 0.6961337761036513), ('能登', 0.6451531732808463), ('双方', 0.5748933131432528), ('商议', 0.5275637879626666)]\n"
     ]
    }
   ],
   "source": [
    "print(jieba.analyse.textrank(sentence, topK=10, withWeight=True, allowPOS=('n','v')))"
   ]
  },
  {
   "cell_type": "code",
   "execution_count": 8,
   "metadata": {},
   "outputs": [
    {
     "name": "stdout",
     "output_type": "stream",
     "text": [
      "[('灾民', 1.0859492518811111), ('灾区', 1.029549851527778), ('半岛', 0.8272754542933334), ('物资', 0.79890606028), ('地震', 0.7844590136322221), ('商议', 0.7493023652622222), ('双方', 0.6399754657077777), ('办法', 0.5930617254077778), ('时间', 0.4532821813844445)]\n"
     ]
    }
   ],
   "source": [
    "print(jieba.analyse.extract_tags(sentence, topK=10, withWeight=True, allowPOS=('n')))"
   ]
  },
  {
   "cell_type": "code",
   "execution_count": 9,
   "metadata": {},
   "outputs": [],
   "source": [
    "from textrank4zh import TextRank4Keyword, TextRank4Sentence"
   ]
  },
  {
   "cell_type": "code",
   "execution_count": 10,
   "metadata": {},
   "outputs": [
    {
     "name": "stdout",
     "output_type": "stream",
     "text": [
      "关键词: \n",
      "救援 0.08460742657694138\n",
      "驻 0.060678202480621606\n",
      "进行 0.060678202480621606\n",
      "办法 0.06021819951441506\n",
      "运输 0.06021819951441506\n",
      "物资 0.06021819951441506\n",
      "日美军 0.05709948245499375\n",
      "灾区 0.05709948245499375\n",
      "支援 0.055243383024635995\n",
      "地震 0.055243383024635995\n",
      "能登 0.054454462011386574\n",
      "半岛 0.054454462011386574\n",
      "双方 0.05221932114882506\n",
      "商议 0.05221932114882506\n",
      "日本政府 0.03362107577248734\n",
      "协调 0.03362107577248734\n",
      "时间 0.03342440764052963\n",
      "负责 0.03342440764052963\n",
      "灾民 0.03342440764052963\n",
      "预计 0.00783289817232376\n"
     ]
    }
   ],
   "source": [
    "# 输出关键词, 设置文本小谢, 窗口为 2\n",
    "tr4w = TextRank4Keyword()\n",
    "tr4w.analyze(text=sentence, lower=True, window=2)\n",
    "print('关键词: ')\n",
    "for item in tr4w.get_keywords(20, word_min_len=1):\n",
    "  print(item.word, item.weight)"
   ]
  },
  {
   "cell_type": "code",
   "execution_count": null,
   "metadata": {},
   "outputs": [
    {
     "name": "stdout",
     "output_type": "stream",
     "text": [
      "摘要:\n",
      "2 0.34005590374029815 预计美方将负责运输救援物资和灾民\n",
      "0 0.3333333333333333 4 日，日本政府与驻日美军就支援能登半岛地震灾区进行协调\n",
      "1 0.32661076292636826 双方将商议具体的救援办法和开始时间\n"
     ]
    }
   ],
   "source": [
    "\"\"\"\n",
    "因为 textrank4zh 版本较老，没有支援 networkx 更新。所以需要更改 textrank4zh/unit.py 代码。\n",
    "将 nx.from_numpy_matrix 代码替换为 nx.from_numpy_array\n",
    "\"\"\"\n",
    "# 输出重要的句子\n",
    "tr4s = TextRank4Sentence()\n",
    "tr4s.analyze(text=sentence, lower=True, source='all_filters')\n",
    "print('摘要:')\n",
    "for item in tr4s.get_key_sentences(num=3):\n",
    "  print(item.index, item.weight, item.sentence)"
   ]
  },
  {
   "cell_type": "code",
   "execution_count": null,
   "metadata": {},
   "outputs": [],
   "source": []
  }
 ],
 "metadata": {
  "kernelspec": {
   "display_name": "ml",
   "language": "python",
   "name": "python3"
  },
  "language_info": {
   "codemirror_mode": {
    "name": "ipython",
    "version": 3
   },
   "file_extension": ".py",
   "mimetype": "text/x-python",
   "name": "python",
   "nbconvert_exporter": "python",
   "pygments_lexer": "ipython3",
   "version": "3.10.14"
  }
 },
 "nbformat": 4,
 "nbformat_minor": 2
}
