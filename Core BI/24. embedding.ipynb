{
 "cells": [
  {
   "cell_type": "markdown",
   "metadata": {},
   "source": [
    "# Word Embedding"
   ]
  },
  {
   "cell_type": "code",
   "execution_count": 2,
   "metadata": {},
   "outputs": [
    {
     "name": "stdout",
     "output_type": "stream",
     "text": [
      "/Volumes/Library/git/AI_Cheats/Core BI\n",
      "4.3.2\n"
     ]
    }
   ],
   "source": [
    "\"\"\"\n",
    "    @Project: nlp-learning-tutorials\n",
    "    @File   : Embedding.ipynb\n",
    "    @Author : Hivan Du\n",
    "    @E-mail : doo@hivan.me\n",
    "    @Wechat : 坍缩的奇点\n",
    "    @Date   : 2023-12-24 15:35\n",
    "\"\"\"\n",
    "import os\n",
    "print(os.getcwd())\n",
    "import gensim\n",
    "print(gensim.__version__)"
   ]
  },
  {
   "cell_type": "code",
   "execution_count": 17,
   "metadata": {},
   "outputs": [],
   "source": [
    "import jieba\n",
    "import os\n",
    "from utils import files_processing\n",
    "from gensim.models import word2vec\n",
    "import multiprocessing"
   ]
  },
  {
   "cell_type": "markdown",
   "metadata": {},
   "source": [
    "## Word segment"
   ]
  },
  {
   "cell_type": "code",
   "execution_count": 20,
   "metadata": {},
   "outputs": [],
   "source": [
    "# 源文件所在目录\n",
    "source_folder = 'dataset/journey_to_the_west/source'\n",
    "segment_folder = 'dataset/journey_to_the_west/segment'"
   ]
  },
  {
   "cell_type": "code",
   "execution_count": 21,
   "metadata": {},
   "outputs": [],
   "source": [
    "# 字词分割，对整个文件内容进行字词分割\n",
    "def segment_lines(file_list,segment_out_dir,stopwords=[]):\n",
    "    for i,file in enumerate(file_list):\n",
    "        segment_out_name=os.path.join(segment_out_dir,'segment_{}.txt'.format(i))\n",
    "        with open(file, 'rb') as f:\n",
    "            document = f.read()\n",
    "            document_cut = jieba.cut(document)\n",
    "            sentence_segment=[]\n",
    "            for word in document_cut:\n",
    "                if word not in stopwords:\n",
    "                    sentence_segment.append(word)\n",
    "            result = ' '.join(sentence_segment)\n",
    "            result = result.encode('utf-8')\n",
    "            with open(segment_out_name, 'wb') as f2:\n",
    "                f2.write(result)"
   ]
  },
  {
   "cell_type": "code",
   "execution_count": 22,
   "metadata": {},
   "outputs": [],
   "source": [
    "# 对 source 中的 txt 文件进行分词，输出到 segment 目录中\n",
    "file_list=files_processing.get_files_list(source_folder, postfix='*.txt')\n",
    "segment_lines(file_list, segment_folder)"
   ]
  },
  {
   "cell_type": "markdown",
   "metadata": {},
   "source": [
    "## Word similarity"
   ]
  },
  {
   "cell_type": "code",
   "execution_count": 28,
   "metadata": {},
   "outputs": [],
   "source": [
    "# 如果目录中有多个文件，可以使用 PathLineSentences\n",
    "segment_folder = 'dataset/journey_to_the_west/segment'\n",
    "sentences = word2vec.PathLineSentences(segment_folder)"
   ]
  },
  {
   "cell_type": "code",
   "execution_count": 38,
   "metadata": {},
   "outputs": [
    {
     "name": "stdout",
     "output_type": "stream",
     "text": [
      "0.93167263\n",
      "0.9488809\n",
      "[('菩萨', 0.9577512145042419), ('长老', 0.9549891948699951), ('者', 0.9549172520637512), ('传令', 0.9535742402076721), ('大笑', 0.9530635476112366), ('帝君', 0.9518557190895081), ('唏', 0.9517616629600525), ('大怒', 0.9510263800621033), ('老爷', 0.9499632120132446), ('叩头', 0.949319064617157)]\n"
     ]
    }
   ],
   "source": [
    "# 设置模型参数，进行训练\n",
    "model = word2vec.Word2Vec(sentences, vector_size=100, window=3, min_count=1)\n",
    "print(model.wv.similarity('孙悟空', '猪八戒'))\n",
    "print(model.wv.similarity('孙悟空', '孙行者'))\n",
    "print(model.wv.most_similar(positive=['孙悟空', '唐僧'], negative=['孙行者']))"
   ]
  },
  {
   "cell_type": "code",
   "execution_count": 39,
   "metadata": {},
   "outputs": [],
   "source": [
    "# 设置模型参数，进行训练\n",
    "model2 = word2vec.Word2Vec(sentences, vector_size=128, window=5, min_count=5, workers=multiprocessing.cpu_count())"
   ]
  },
  {
   "cell_type": "code",
   "execution_count": 40,
   "metadata": {},
   "outputs": [],
   "source": [
    "# 保存模型\n",
    "model2.save('dataset/models/word2Vec.model')"
   ]
  },
  {
   "cell_type": "code",
   "execution_count": 44,
   "metadata": {},
   "outputs": [
    {
     "name": "stdout",
     "output_type": "stream",
     "text": [
      "0.9254811\n",
      "0.9390204\n",
      "[('菩萨', 0.9448167681694031), ('上告', 0.897327184677124), ('大仙', 0.8964015245437622), ('弟子', 0.8933373093605042), ('应声', 0.8913703560829163), ('二童', 0.8896419405937195), ('吩咐', 0.8858462572097778), ('众', 0.8828431963920593), ('扯住', 0.8827558755874634), ('叩头', 0.8817187547683716)]\n"
     ]
    }
   ],
   "source": [
    "print(model2.wv.similarity('孙悟空', '猪八戒'))\n",
    "print(model2.wv.similarity('孙悟空', '孙行者'))\n",
    "print(model2.wv.most_similar(positive=['孙悟空', '唐僧'], negative=['孙行者']))"
   ]
  },
  {
   "cell_type": "code",
   "execution_count": null,
   "metadata": {},
   "outputs": [],
   "source": []
  }
 ],
 "metadata": {
  "kernelspec": {
   "display_name": "tf",
   "language": "python",
   "name": "python3"
  },
  "language_info": {
   "codemirror_mode": {
    "name": "ipython",
    "version": 3
   },
   "file_extension": ".py",
   "mimetype": "text/x-python",
   "name": "python",
   "nbconvert_exporter": "python",
   "pygments_lexer": "ipython3",
   "version": "3.8.18"
  }
 },
 "nbformat": 4,
 "nbformat_minor": 2
}
