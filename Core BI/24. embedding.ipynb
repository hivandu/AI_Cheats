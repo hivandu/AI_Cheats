{
 "cells": [
  {
   "cell_type": "markdown",
   "metadata": {},
   "source": [
    "# Word Embedding"
   ]
  },
  {
   "cell_type": "code",
   "execution_count": 1,
   "metadata": {},
   "outputs": [
    {
     "name": "stdout",
     "output_type": "stream",
     "text": [
      "/Volumes/Library/git/AI_Cheats/Core BI\n",
      "4.3.2\n"
     ]
    }
   ],
   "source": [
    "\"\"\"\n",
    "    @Project: nlp-learning-tutorials\n",
    "    @File   : Embedding.ipynb\n",
    "    @Author : Hivan Du\n",
    "    @E-mail : doo@hivan.me\n",
    "    @Wechat : 坍缩的奇点\n",
    "    @Date   : 2023-12-24 15:35\n",
    "\"\"\"\n",
    "import os\n",
    "print(os.getcwd())\n",
    "import gensim\n",
    "print(gensim.__version__)"
   ]
  },
  {
   "cell_type": "code",
   "execution_count": 2,
   "metadata": {},
   "outputs": [],
   "source": [
    "import jieba\n",
    "import os\n",
    "# utils 为自定义的一套程序\n",
    "from utils import files_processing\n",
    "from gensim.models import word2vec\n",
    "import multiprocessing"
   ]
  },
  {
   "cell_type": "markdown",
   "metadata": {},
   "source": [
    "## Word segment"
   ]
  },
  {
   "cell_type": "code",
   "execution_count": 3,
   "metadata": {},
   "outputs": [],
   "source": [
    "# 源文件所在目录\n",
    "source_folder = 'dataset/journey_to_the_west/source'\n",
    "segment_folder = 'dataset/journey_to_the_west/segment'"
   ]
  },
  {
   "cell_type": "code",
   "execution_count": 4,
   "metadata": {},
   "outputs": [],
   "source": [
    "# 字词分割，对整个文件内容进行字词分割\n",
    "def segment_lines(file_list,segment_out_dir,stopwords=[]):\n",
    "    for i,file in enumerate(file_list):\n",
    "        segment_out_name=os.path.join(segment_out_dir,'segment_{}.txt'.format(i))\n",
    "        with open(file, 'rb') as f:\n",
    "            document = f.read()\n",
    "            document_cut = jieba.cut(document)\n",
    "            sentence_segment=[]\n",
    "            for word in document_cut:\n",
    "                if word not in stopwords:\n",
    "                    sentence_segment.append(word)\n",
    "            result = ' '.join(sentence_segment)\n",
    "            result = result.encode('utf-8')\n",
    "            with open(segment_out_name, 'wb') as f2:\n",
    "                f2.write(result)"
   ]
  },
  {
   "cell_type": "code",
   "execution_count": 5,
   "metadata": {},
   "outputs": [
    {
     "name": "stderr",
     "output_type": "stream",
     "text": [
      "Building prefix dict from the default dictionary ...\n",
      "Loading model from cache /var/folders/h4/7cr1cmpn7v5b3x20_9wz8m740000gn/T/jieba.cache\n"
     ]
    },
    {
     "name": "stderr",
     "output_type": "stream",
     "text": [
      "Loading model cost 0.344 seconds.\n",
      "Prefix dict has been built successfully.\n"
     ]
    }
   ],
   "source": [
    "# 对 source 中的 txt 文件进行分词，输出到 segment 目录中\n",
    "file_list=files_processing.get_files_list(source_folder, postfix='*.txt')\n",
    "segment_lines(file_list, segment_folder)"
   ]
  },
  {
   "cell_type": "markdown",
   "metadata": {},
   "source": [
    "## Word similarity"
   ]
  },
  {
   "cell_type": "code",
   "execution_count": 6,
   "metadata": {},
   "outputs": [],
   "source": [
    "# 如果目录中有多个文件，可以使用 PathLineSentences\n",
    "segment_folder = 'dataset/journey_to_the_west/segment'\n",
    "sentences = word2vec.PathLineSentences(segment_folder)"
   ]
  },
  {
   "cell_type": "code",
   "execution_count": 7,
   "metadata": {},
   "outputs": [
    {
     "name": "stdout",
     "output_type": "stream",
     "text": [
      "0.933632\n",
      "0.9586093\n",
      "[('老高', 0.9716116189956665), ('者', 0.9710014462471008), ('上前', 0.9701845645904541), ('菩萨', 0.9676584005355835), ('二哥', 0.9670479893684387), ('跪下', 0.9643738865852356), ('我来', 0.9643673896789551), ('大王', 0.9637192487716675), ('悟空', 0.9630470871925354), ('长老', 0.9616209864616394)]\n"
     ]
    }
   ],
   "source": [
    "# 设置模型参数，进行训练\n",
    "model = word2vec.Word2Vec(sentences, vector_size=100, window=3, min_count=1)\n",
    "print(model.wv.similarity('孙悟空', '猪八戒'))\n",
    "print(model.wv.similarity('孙悟空', '孙行者'))\n",
    "print(model.wv.most_similar(positive=['孙悟空', '唐僧'], negative=['孙行者']))"
   ]
  },
  {
   "cell_type": "code",
   "execution_count": 8,
   "metadata": {},
   "outputs": [],
   "source": [
    "# 设置模型参数，进行训练\n",
    "model2 = word2vec.Word2Vec(sentences, vector_size=128, window=5, min_count=5, workers=multiprocessing.cpu_count())"
   ]
  },
  {
   "cell_type": "code",
   "execution_count": 9,
   "metadata": {},
   "outputs": [],
   "source": [
    "# 保存模型\n",
    "model2.save('dataset/models/word2Vec.model')"
   ]
  },
  {
   "cell_type": "code",
   "execution_count": 10,
   "metadata": {},
   "outputs": [
    {
     "name": "stdout",
     "output_type": "stream",
     "text": [
      "0.8977146\n",
      "0.9110702\n",
      "[('菩萨', 0.9150608777999878), ('老高', 0.9012092351913452), ('弟子', 0.8970403671264648), ('请', 0.8915565013885498), ('扯住', 0.8880948424339294), ('众', 0.8798324465751648), ('列位', 0.8727977871894836), ('老爷', 0.8690122961997986), ('武洗', 0.8664023876190186), ('跪下', 0.8619289398193359)]\n"
     ]
    }
   ],
   "source": [
    "print(model2.wv.similarity('孙悟空', '猪八戒'))\n",
    "print(model2.wv.similarity('孙悟空', '孙行者'))\n",
    "print(model2.wv.most_similar(positive=['孙悟空', '唐僧'], negative=['孙行者']))"
   ]
  },
  {
   "cell_type": "code",
   "execution_count": null,
   "metadata": {},
   "outputs": [],
   "source": []
  },
  {
   "cell_type": "code",
   "execution_count": null,
   "metadata": {},
   "outputs": [],
   "source": []
  }
 ],
 "metadata": {
  "kernelspec": {
   "display_name": "tf",
   "language": "python",
   "name": "python3"
  },
  "language_info": {
   "codemirror_mode": {
    "name": "ipython",
    "version": 3
   },
   "file_extension": ".py",
   "mimetype": "text/x-python",
   "name": "python",
   "nbconvert_exporter": "python",
   "pygments_lexer": "ipython3",
   "version": "3.8.16"
  }
 },
 "nbformat": 4,
 "nbformat_minor": 2
}
