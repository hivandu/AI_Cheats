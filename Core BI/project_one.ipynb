{
 "cells": [
  {
   "cell_type": "markdown",
   "metadata": {},
   "source": [
    "# Project One: 员工离职预测"
   ]
  },
  {
   "cell_type": "markdown",
   "metadata": {},
   "source": [
    "#### step 1, 对数据进行探索"
   ]
  },
  {
   "cell_type": "code",
   "execution_count": 308,
   "metadata": {},
   "outputs": [],
   "source": [
    "import pandas as pd\n",
    "from sklearn.linear_model._logistic import LogisticRegression\n",
    "from sklearn.model_selection import train_test_split\n",
    "from sklearn.feature_extraction import DictVectorizer\n",
    "from sklearn.preprocessing import LabelEncoder\n",
    "from sklearn.calibration import LinearSVC\n",
    "from sklearn.preprocessing import MinMaxScaler\n"
   ]
  },
  {
   "cell_type": "code",
   "execution_count": 265,
   "metadata": {},
   "outputs": [],
   "source": [
    "\n",
    "train = pd.read_csv('dataset/train.csv', index_col=0)\n",
    "test = pd.read_csv('dataset/test.csv', index_col=0)\n",
    "# print(train['Attrition'].value_counts())\n",
    "\n",
    "# 处理 Attrition 字段\n",
    "train['Attrition'] = train['Attrition'].map(lambda x:1 if x=='Yes' else 0)\n",
    "\n",
    "# 查看数据中每列是否有空值\n",
    "# print(train.isna().sum())"
   ]
  },
  {
   "cell_type": "markdown",
   "metadata": {},
   "source": [
    "#### step2, 去掉无用特征，处理分类特征"
   ]
  },
  {
   "cell_type": "code",
   "execution_count": 266,
   "metadata": {},
   "outputs": [
    {
     "name": "stdout",
     "output_type": "stream",
     "text": [
      "StandardHours\n",
      "80    1176\n",
      "Name: count, dtype: int64\n"
     ]
    }
   ],
   "source": [
    "print(train['StandardHours'].value_counts())"
   ]
  },
  {
   "cell_type": "code",
   "execution_count": 267,
   "metadata": {},
   "outputs": [],
   "source": [
    "# 去掉无用的列，员工号码，标准工时（=80)\n",
    "train = train.drop(['EmployeeNumber', 'StandardHours'], axis=1)\n",
    "test = test.drop(['EmployeeNumber', 'StandardHours'], axis=1)"
   ]
  },
  {
   "cell_type": "code",
   "execution_count": 268,
   "metadata": {},
   "outputs": [
    {
     "name": "stdout",
     "output_type": "stream",
     "text": [
      "<class 'pandas.core.frame.DataFrame'>\n",
      "Index: 294 entries, 442 to 1229\n",
      "Data columns (total 32 columns):\n",
      " #   Column                    Non-Null Count  Dtype \n",
      "---  ------                    --------------  ----- \n",
      " 0   Age                       294 non-null    int64 \n",
      " 1   BusinessTravel            294 non-null    object\n",
      " 2   DailyRate                 294 non-null    int64 \n",
      " 3   Department                294 non-null    object\n",
      " 4   DistanceFromHome          294 non-null    int64 \n",
      " 5   Education                 294 non-null    int64 \n",
      " 6   EducationField            294 non-null    object\n",
      " 7   EmployeeCount             294 non-null    int64 \n",
      " 8   EnvironmentSatisfaction   294 non-null    int64 \n",
      " 9   Gender                    294 non-null    object\n",
      " 10  HourlyRate                294 non-null    int64 \n",
      " 11  JobInvolvement            294 non-null    int64 \n",
      " 12  JobLevel                  294 non-null    int64 \n",
      " 13  JobRole                   294 non-null    object\n",
      " 14  JobSatisfaction           294 non-null    int64 \n",
      " 15  MaritalStatus             294 non-null    object\n",
      " 16  MonthlyIncome             294 non-null    int64 \n",
      " 17  MonthlyRate               294 non-null    int64 \n",
      " 18  NumCompaniesWorked        294 non-null    int64 \n",
      " 19  Over18                    294 non-null    object\n",
      " 20  OverTime                  294 non-null    object\n",
      " 21  PercentSalaryHike         294 non-null    int64 \n",
      " 22  PerformanceRating         294 non-null    int64 \n",
      " 23  RelationshipSatisfaction  294 non-null    int64 \n",
      " 24  StockOptionLevel          294 non-null    int64 \n",
      " 25  TotalWorkingYears         294 non-null    int64 \n",
      " 26  TrainingTimesLastYear     294 non-null    int64 \n",
      " 27  WorkLifeBalance           294 non-null    int64 \n",
      " 28  YearsAtCompany            294 non-null    int64 \n",
      " 29  YearsInCurrentRole        294 non-null    int64 \n",
      " 30  YearsSinceLastPromotion   294 non-null    int64 \n",
      " 31  YearsWithCurrManager      294 non-null    int64 \n",
      "dtypes: int64(24), object(8)\n",
      "memory usage: 75.8+ KB\n"
     ]
    }
   ],
   "source": [
    "test.info()"
   ]
  },
  {
   "cell_type": "code",
   "execution_count": 269,
   "metadata": {},
   "outputs": [],
   "source": [
    "# 对于分类特征进行特征值编码\n",
    "attr=['Age','BusinessTravel','Department','Education','EducationField','Gender','JobRole','MaritalStatus','Over18','OverTime']\n",
    "lbe_list=[]\n",
    "for feature in attr:\n",
    "    lbe=LabelEncoder()\n",
    "    train[feature]=lbe.fit_transform(train[feature])\n",
    "    test[feature]=lbe.transform(test[feature])\n",
    "    lbe_list.append(lbe)"
   ]
  },
  {
   "cell_type": "code",
   "execution_count": 270,
   "metadata": {},
   "outputs": [
    {
     "name": "stdout",
     "output_type": "stream",
     "text": [
      "<class 'pandas.core.frame.DataFrame'>\n",
      "Index: 294 entries, 442 to 1229\n",
      "Data columns (total 32 columns):\n",
      " #   Column                    Non-Null Count  Dtype\n",
      "---  ------                    --------------  -----\n",
      " 0   Age                       294 non-null    int64\n",
      " 1   BusinessTravel            294 non-null    int64\n",
      " 2   DailyRate                 294 non-null    int64\n",
      " 3   Department                294 non-null    int64\n",
      " 4   DistanceFromHome          294 non-null    int64\n",
      " 5   Education                 294 non-null    int64\n",
      " 6   EducationField            294 non-null    int64\n",
      " 7   EmployeeCount             294 non-null    int64\n",
      " 8   EnvironmentSatisfaction   294 non-null    int64\n",
      " 9   Gender                    294 non-null    int64\n",
      " 10  HourlyRate                294 non-null    int64\n",
      " 11  JobInvolvement            294 non-null    int64\n",
      " 12  JobLevel                  294 non-null    int64\n",
      " 13  JobRole                   294 non-null    int64\n",
      " 14  JobSatisfaction           294 non-null    int64\n",
      " 15  MaritalStatus             294 non-null    int64\n",
      " 16  MonthlyIncome             294 non-null    int64\n",
      " 17  MonthlyRate               294 non-null    int64\n",
      " 18  NumCompaniesWorked        294 non-null    int64\n",
      " 19  Over18                    294 non-null    int64\n",
      " 20  OverTime                  294 non-null    int64\n",
      " 21  PercentSalaryHike         294 non-null    int64\n",
      " 22  PerformanceRating         294 non-null    int64\n",
      " 23  RelationshipSatisfaction  294 non-null    int64\n",
      " 24  StockOptionLevel          294 non-null    int64\n",
      " 25  TotalWorkingYears         294 non-null    int64\n",
      " 26  TrainingTimesLastYear     294 non-null    int64\n",
      " 27  WorkLifeBalance           294 non-null    int64\n",
      " 28  YearsAtCompany            294 non-null    int64\n",
      " 29  YearsInCurrentRole        294 non-null    int64\n",
      " 30  YearsSinceLastPromotion   294 non-null    int64\n",
      " 31  YearsWithCurrManager      294 non-null    int64\n",
      "dtypes: int64(32)\n",
      "memory usage: 75.8 KB\n"
     ]
    }
   ],
   "source": [
    "test.info()"
   ]
  },
  {
   "cell_type": "code",
   "execution_count": 271,
   "metadata": {},
   "outputs": [],
   "source": [
    "train.to_csv('dataset/train_label_encoder.csv')\n",
    "test.to_csv('dataset/test_label_encoder.csv')"
   ]
  },
  {
   "cell_type": "code",
   "execution_count": 306,
   "metadata": {},
   "outputs": [],
   "source": [
    "train_load = pd.read_csv('dataset/train_label_encoder.csv', index_col=0)\n",
    "test_load = pd.read_csv('dataset/test_label_encoder.csv', index_col=0)\n",
    "\n",
    "X_train, X_valid, y_train, y_valid = train_test_split(train_load.drop('Attrition',axis=1), train_load['Attrition'], test_size=0.2, random_state=2023)"
   ]
  },
  {
   "cell_type": "markdown",
   "metadata": {},
   "source": [
    "## LR"
   ]
  },
  {
   "cell_type": "code",
   "execution_count": 301,
   "metadata": {},
   "outputs": [
    {
     "name": "stdout",
     "output_type": "stream",
     "text": [
      "RUNNING THE L-BFGS-B CODE\n",
      "\n",
      "           * * *\n",
      "\n",
      "Machine precision = 2.220D-16\n",
      " N =           33     M =           10\n",
      "\n",
      "At X0         0 variables are exactly at the bounds\n",
      "\n",
      "At iterate    0    f=  6.51558D+02    |proj g|=  4.40316D+06\n",
      "\n",
      "At iterate   50    f=  3.80176D+02    |proj g|=  5.79065D+04\n"
     ]
    },
    {
     "name": "stderr",
     "output_type": "stream",
     "text": [
      " This problem is unconstrained.\n"
     ]
    },
    {
     "name": "stdout",
     "output_type": "stream",
     "text": [
      "\n",
      "At iterate  100    f=  3.65940D+02    |proj g|=  5.36072D+03\n",
      "\n",
      "           * * *\n",
      "\n",
      "Tit   = total number of iterations\n",
      "Tnf   = total number of function evaluations\n",
      "Tnint = total number of segments explored during Cauchy searches\n",
      "Skip  = number of BFGS updates skipped\n",
      "Nact  = number of active bounds at final generalized Cauchy point\n",
      "Projg = norm of the final projected gradient\n",
      "F     = final function value\n",
      "\n",
      "           * * *\n",
      "\n",
      "   N    Tit     Tnf  Tnint  Skip  Nact     Projg        F\n",
      "   33    100    116      1     0     0   5.361D+03   3.659D+02\n",
      "  F =   365.93961248786218     \n",
      "\n",
      "STOP: TOTAL NO. of ITERATIONS REACHED LIMIT                 \n",
      "\n",
      "Predict: \n",
      "[0.1188237  0.35698911 0.26744238 0.09076416 0.36492531 0.24040345\n",
      " 0.09114984 0.08645963 0.0472586  0.21236341 0.03074305 0.42434077\n",
      " 0.06909767 0.17419313 0.05966228 0.10779347 0.07809651 0.11039349\n",
      " 0.10721182 0.32849862 0.17779864 0.02407476 0.15552488 0.16607751\n",
      " 0.35725175 0.14760679 0.22492627 0.05034543 0.37735218 0.12043144\n",
      " 0.05058955 0.04665091 0.14392077 0.04309873 0.08724109 0.063751\n",
      " 0.1152805  0.26107411 0.05900968 0.27969881 0.05269304 0.08065073\n",
      " 0.03392499 0.03675006 0.05776435 0.25972027 0.30350518 0.05059634\n",
      " 0.26735752 0.21309656 0.07481517 0.18030399 0.1675116  0.06418183\n",
      " 0.11360859 0.08802824 0.17586272 0.13029906 0.14836902 0.26829006\n",
      " 0.07146267 0.34075989 0.09788646 0.06683497 0.23409558 0.0742152\n",
      " 0.12063913 0.11877226 0.12628483 0.15994145 0.03564376 0.42144208\n",
      " 0.28619939 0.25090056 0.18999193 0.30754229 0.24797966 0.0467801\n",
      " 0.35623423 0.07352236 0.01867364 0.06527207 0.21741677 0.08453677\n",
      " 0.11721043 0.09799076 0.01336476 0.0796555  0.0771403  0.21443723\n",
      " 0.287601   0.25461902 0.36766986 0.23406738 0.05915244 0.36965386\n",
      " 0.37423173 0.23936264 0.14919086 0.08589247 0.18338829 0.3078857\n",
      " 0.09941966 0.11010485 0.11491157 0.08479283 0.06991351 0.3151156\n",
      " 0.21954457 0.1104229  0.07586132 0.01560751 0.07964989 0.18580628\n",
      " 0.170604   0.06397725 0.04077884 0.0722312  0.02714497 0.07691482\n",
      " 0.31996196 0.14200841 0.10831988 0.47923929 0.10176714 0.01033559\n",
      " 0.03477333 0.20028472 0.12700067 0.03973694 0.02445085 0.24424962\n",
      " 0.19678501 0.11116053 0.05844067 0.07403707 0.24558088 0.09623472\n",
      " 0.12946094 0.07268436 0.06088016 0.0992947  0.07391493 0.0989612\n",
      " 0.04836338 0.143871   0.04067522 0.00869838 0.05080773 0.08800328\n",
      " 0.11182273 0.09765066 0.2181613  0.00751812 0.01717839 0.0531736\n",
      " 0.05352053 0.21434936 0.08514419 0.04537114 0.04129776 0.03098908\n",
      " 0.25447366 0.36468781 0.06759657 0.27271058 0.07091555 0.25503684\n",
      " 0.26448908 0.02193278 0.14035332 0.09536668 0.11336416 0.40283134\n",
      " 0.02226099 0.27875413 0.21420689 0.0363608  0.16481986 0.06079479\n",
      " 0.18218953 0.09737708 0.00946728 0.23552777 0.13387969 0.16124487\n",
      " 0.26843973 0.04658171 0.39692276 0.3105421  0.39895878 0.23966988\n",
      " 0.25824606 0.16821371 0.28050424 0.05473078 0.07235156 0.06452438\n",
      " 0.30913289 0.0659188  0.15338661 0.26684928 0.40203441 0.13635744\n",
      " 0.39512614 0.17273961 0.32624644 0.0260783  0.23096779 0.04997373\n",
      " 0.14818623 0.29244842 0.12911786 0.18472376 0.1569074  0.0815495\n",
      " 0.02270094 0.13654885 0.05793019 0.20851658 0.12395881 0.27183794\n",
      " 0.51550571 0.04037618 0.20743992 0.16956546 0.23871599 0.12573851\n",
      " 0.31466054 0.0761827  0.03734336 0.20468371 0.16474441 0.13213939\n",
      " 0.09584534 0.17288686 0.33441382 0.08515926 0.16658408 0.06202875\n",
      " 0.18124193 0.27650159 0.01273619 0.19083604 0.06675759 0.07841865\n",
      " 0.13865693 0.1459324  0.09292475 0.05660131 0.33561009 0.04450665\n",
      " 0.6249552  0.06824828 0.12606306 0.20307896 0.00765452 0.32919589\n",
      " 0.36921358 0.11069601 0.11698376 0.06021808 0.14797611 0.21870563\n",
      " 0.09959717 0.18652218 0.06689581 0.1375354  0.22212455 0.09393232\n",
      " 0.13568821 0.04271671 0.33257887 0.21057742 0.09808898 0.03852558\n",
      " 0.06099197 0.09290142 0.38805312 0.20584852 0.20664237 0.14148188\n",
      " 0.18816569 0.06725243 0.00649157 0.16929244 0.06347024 0.3095067\n",
      " 0.00989318 0.06890693 0.18358894 0.16761086 0.17571858 0.17361131]\n"
     ]
    },
    {
     "name": "stderr",
     "output_type": "stream",
     "text": [
      "/Users/du/miniforge3/envs/tf/lib/python3.10/site-packages/sklearn/linear_model/_logistic.py:460: ConvergenceWarning: lbfgs failed to converge (status=1):\n",
      "STOP: TOTAL NO. of ITERATIONS REACHED LIMIT.\n",
      "\n",
      "Increase the number of iterations (max_iter) or scale the data as shown in:\n",
      "    https://scikit-learn.org/stable/modules/preprocessing.html\n",
      "Please also refer to the documentation for alternative solver options:\n",
      "    https://scikit-learn.org/stable/modules/linear_model.html#logistic-regression\n",
      "  n_iter_i = _check_optimize_result(\n"
     ]
    }
   ],
   "source": [
    "\n",
    "model = LogisticRegression(max_iter=100, \n",
    "                           verbose=True, \n",
    "                           random_state=33,\n",
    "                           tol=1e-4\n",
    "                          )\n",
    "\n",
    "model.fit(X_train, y_train)\n",
    "\n",
    "# 二分类结果， 0 或者 1\n",
    "# predict = model.predict(test_load)\n",
    "# print(predict)\n",
    "\n",
    "# 二分类任务，有 2 个概率值，label=0 的概率，label=1 的概率\n",
    "predict = model.predict_proba(test_load)[:, 1]\n",
    "print('\\nPredict: \\n{}'.format(predict))"
   ]
  },
  {
   "cell_type": "code",
   "execution_count": 302,
   "metadata": {},
   "outputs": [
    {
     "name": "stdout",
     "output_type": "stream",
     "text": [
      "submit_lr.csv saved\n"
     ]
    }
   ],
   "source": [
    "test_load['Attrition']=predict\n",
    "test_load[['Attrition']].to_csv('dataset/submit_lr.csv')\n",
    "print('submit_lr.csv saved')"
   ]
  },
  {
   "cell_type": "code",
   "execution_count": null,
   "metadata": {},
   "outputs": [],
   "source": [
    "# 转化为二分类输出\n",
    "#test_load['Attrition']=test_load['Attrition'].map(lambda x:1 if x>=0.5 else 0)\n",
    "#test_load[['Attrition']].to_csv('dataset/submit_lr.csv')"
   ]
  },
  {
   "cell_type": "markdown",
   "metadata": {},
   "source": [
    "## SVM 支持向量机"
   ]
  },
  {
   "cell_type": "code",
   "execution_count": 111,
   "metadata": {},
   "outputs": [],
   "source": [
    "# 三种 SVM 方法\n",
    "\n",
    "# sklearn.svm.SVC(C=1.0, kernel='rbf', degree=3, gamma='auto', coef0=0.0, shrinking=True, probability=False, tol=0.001, cache_size=200, class_weight=None, verbose=False, max_iter=1, decision_function_shape='ovr', random_state=None)\n",
    "\n",
    "# sklearn.svm.NuSVC(nu=0.5, kernel='rbf', degree=3, gamma='auto', coef0=0.0, shrinking=True, probability=False, tol=0.001, cache_size=200, class_weight=None, verbose=False, max_iter=1, decision_function_shape='ovr', random_state=None)\n",
    "\n",
    "# sklearn.svm.LinearSVC(penalty='l2', loss='squared_hinge', dual=True, tol=0.0001, C=1.0, multi_class='ovr', fit_intercept=True, intercept_scaling=1, class_weight=None, verbose=0, random_state=None, max_iter=1000)"
   ]
  },
  {
   "cell_type": "code",
   "execution_count": 309,
   "metadata": {},
   "outputs": [],
   "source": [
    "mms = MinMaxScaler(feature_range=(0, 1))\n",
    "X_train = mms.fit_transform(X_train)\n",
    "X_valid = mms.fit_transform(X_valid)\n",
    "test_load = mms.fit_transform(test_load)"
   ]
  },
  {
   "cell_type": "code",
   "execution_count": 310,
   "metadata": {},
   "outputs": [
    {
     "name": "stdout",
     "output_type": "stream",
     "text": [
      "[LibLinear]...............................*\n",
      "optimization finished, #iter = 319\n",
      "Objective value = -380.794014\n",
      "nSV = 637\n",
      "\n",
      "Predict\n",
      ":[0 0 0 0 1 0 1 0 0 0 0 0 0 1 0 0 0 0 0 0 0 0 0 0 1 0 0 0 1 0 0 0 0 0 0 0 0\n",
      " 0 0 0 0 0 0 0 0 1 0 0 1 1 0 0 0 0 1 0 0 0 0 0 0 0 0 0 0 0 0 0 0 0 0 0 0 0\n",
      " 0 0 0 0 0 0 0 0 0 0 0 0 0 0 0 0 0 0 0 0 0 0 0 0 0 0 0 1 1 0 0 0 0 0 0 0 0\n",
      " 0 0 0 0 0 0 0 0 0 0 0 0 1 0 0 0 0 0 0 0 0 0 0 0 1 1 0 0 0 0 0 0 0 0 0 0 0\n",
      " 0 0 0 0 0 0 0 0 0 0 0 0 0 0 0 1 0 0 0 0 0 0 0 0 0 0 0 0 0 0 0 0 0 0 0 1 0\n",
      " 0 0 0 1 0 0 0 0 0 0 0 0 0 0 0 0 0 1 0 0 0 1 0 0 0 0 0 0 0 0 0 0 0 0 0 0 0\n",
      " 1 0 0 0 0 0 0 0 0 0 0 0 0 0 0 0 0 0 0 0 0 0 0 0 0 0 0 0 0 0 1 0 0 0 0 1 0\n",
      " 0 0 0 0 0 0 0 0 0 0 0 0 0 0 0 0 0 0 0 0 0 0 0 0 0 0 0 0 0 0 0 0 1 0 0]\n"
     ]
    },
    {
     "name": "stderr",
     "output_type": "stream",
     "text": [
      "/Users/du/miniforge3/envs/tf/lib/python3.10/site-packages/sklearn/svm/_classes.py:32: FutureWarning: The default value of `dual` will change from `True` to `'auto'` in 1.5. Set the value of `dual` explicitly to suppress the warning.\n",
      "  warnings.warn(\n"
     ]
    }
   ],
   "source": [
    "\n",
    "model = LinearSVC(max_iter=1000,\n",
    "                  random_state=33,\n",
    "                  verbose=True)\n",
    "\n",
    "model.fit(X_train, y_train)\n",
    "predict = model.predict(test_load)\n",
    "print('\\nPredict\\n:{}'.format(predict))"
   ]
  },
  {
   "cell_type": "code",
   "execution_count": 305,
   "metadata": {},
   "outputs": [
    {
     "name": "stdout",
     "output_type": "stream",
     "text": [
      "submit_svc.csv saved\n"
     ]
    }
   ],
   "source": [
    "test_load['Attrition'] = predict\n",
    "test_load[['Attrition']].to_csv('dataset/submit_svc.csv')\n",
    "print('submit_svc.csv saved')"
   ]
  },
  {
   "cell_type": "markdown",
   "metadata": {},
   "source": [
    "课程地址： 待更新...\n",
    "\n",
    "欢迎关注「坍缩的奇点」， 获取更多免费教程。\n",
    "\n",
    "![欢迎订阅：坍缩的奇点](../assets/Capture-2023-11-02-164446.png)"
   ]
  },
  {
   "cell_type": "code",
   "execution_count": null,
   "metadata": {},
   "outputs": [],
   "source": []
  }
 ],
 "metadata": {
  "kernelspec": {
   "display_name": "tf",
   "language": "python",
   "name": "python3"
  },
  "language_info": {
   "codemirror_mode": {
    "name": "ipython",
    "version": 3
   },
   "file_extension": ".py",
   "mimetype": "text/x-python",
   "name": "python",
   "nbconvert_exporter": "python",
   "pygments_lexer": "ipython3",
   "version": "3.10.12"
  }
 },
 "nbformat": 4,
 "nbformat_minor": 2
}
