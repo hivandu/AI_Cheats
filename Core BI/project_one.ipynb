{
 "cells": [
  {
   "cell_type": "markdown",
   "metadata": {},
   "source": [
    "# Project One: 员工离职预测"
   ]
  },
  {
   "cell_type": "markdown",
   "metadata": {},
   "source": [
    "#### step 1, 对数据进行探索"
   ]
  },
  {
   "cell_type": "code",
   "execution_count": 35,
   "metadata": {},
   "outputs": [],
   "source": [
    "import pandas as pd\n",
    "from sklearn.linear_model._logistic import LogisticRegression\n",
    "from sklearn.model_selection import train_test_split\n",
    "from sklearn.feature_extraction import DictVectorizer\n",
    "from sklearn.preprocessing import LabelEncoder\n",
    "from sklearn.calibration import LinearSVC\n",
    "from sklearn.preprocessing import MinMaxScaler\n",
    "\n",
    "import os\n",
    "import warnings\n",
    "\n",
    "data_path = os.environ.get('DATA_PATH') + 'AI_Cheats/'\n",
    "warnings.filterwarnings('ignore')"
   ]
  },
  {
   "cell_type": "code",
   "execution_count": 36,
   "metadata": {},
   "outputs": [],
   "source": [
    "train = pd.read_csv(data_path + 'employee_turnover/train.csv', index_col=0)\n",
    "test = pd.read_csv(data_path + 'employee_turnover/test.csv', index_col=0)\n",
    "\n",
    "# print(train['Attrition'].value_counts())\n",
    "\n",
    "# 处理 Attrition 字段\n",
    "train['Attrition'] = train['Attrition'].map(lambda x:1 if x=='Yes' else 0)\n",
    "\n",
    "# 查看数据中每列是否有空值\n",
    "# print(train.isna().sum())"
   ]
  },
  {
   "cell_type": "markdown",
   "metadata": {},
   "source": [
    "#### step2, 去掉无用特征，处理分类特征"
   ]
  },
  {
   "cell_type": "code",
   "execution_count": 37,
   "metadata": {},
   "outputs": [
    {
     "name": "stdout",
     "output_type": "stream",
     "text": [
      "StandardHours\n",
      "80    1176\n",
      "Name: count, dtype: int64\n"
     ]
    }
   ],
   "source": [
    "print(train['StandardHours'].value_counts())"
   ]
  },
  {
   "cell_type": "code",
   "execution_count": 38,
   "metadata": {},
   "outputs": [],
   "source": [
    "# 去掉无用的列，员工号码，标准工时（=80)\n",
    "train = train.drop(['EmployeeNumber', 'StandardHours'], axis=1)\n",
    "test = test.drop(['EmployeeNumber', 'StandardHours'], axis=1)"
   ]
  },
  {
   "cell_type": "code",
   "execution_count": 39,
   "metadata": {},
   "outputs": [
    {
     "name": "stdout",
     "output_type": "stream",
     "text": [
      "<class 'pandas.core.frame.DataFrame'>\n",
      "Index: 294 entries, 442 to 1229\n",
      "Data columns (total 32 columns):\n",
      " #   Column                    Non-Null Count  Dtype \n",
      "---  ------                    --------------  ----- \n",
      " 0   Age                       294 non-null    int64 \n",
      " 1   BusinessTravel            294 non-null    object\n",
      " 2   DailyRate                 294 non-null    int64 \n",
      " 3   Department                294 non-null    object\n",
      " 4   DistanceFromHome          294 non-null    int64 \n",
      " 5   Education                 294 non-null    int64 \n",
      " 6   EducationField            294 non-null    object\n",
      " 7   EmployeeCount             294 non-null    int64 \n",
      " 8   EnvironmentSatisfaction   294 non-null    int64 \n",
      " 9   Gender                    294 non-null    object\n",
      " 10  HourlyRate                294 non-null    int64 \n",
      " 11  JobInvolvement            294 non-null    int64 \n",
      " 12  JobLevel                  294 non-null    int64 \n",
      " 13  JobRole                   294 non-null    object\n",
      " 14  JobSatisfaction           294 non-null    int64 \n",
      " 15  MaritalStatus             294 non-null    object\n",
      " 16  MonthlyIncome             294 non-null    int64 \n",
      " 17  MonthlyRate               294 non-null    int64 \n",
      " 18  NumCompaniesWorked        294 non-null    int64 \n",
      " 19  Over18                    294 non-null    object\n",
      " 20  OverTime                  294 non-null    object\n",
      " 21  PercentSalaryHike         294 non-null    int64 \n",
      " 22  PerformanceRating         294 non-null    int64 \n",
      " 23  RelationshipSatisfaction  294 non-null    int64 \n",
      " 24  StockOptionLevel          294 non-null    int64 \n",
      " 25  TotalWorkingYears         294 non-null    int64 \n",
      " 26  TrainingTimesLastYear     294 non-null    int64 \n",
      " 27  WorkLifeBalance           294 non-null    int64 \n",
      " 28  YearsAtCompany            294 non-null    int64 \n",
      " 29  YearsInCurrentRole        294 non-null    int64 \n",
      " 30  YearsSinceLastPromotion   294 non-null    int64 \n",
      " 31  YearsWithCurrManager      294 non-null    int64 \n",
      "dtypes: int64(24), object(8)\n",
      "memory usage: 75.8+ KB\n"
     ]
    }
   ],
   "source": [
    "test.info()"
   ]
  },
  {
   "cell_type": "code",
   "execution_count": 40,
   "metadata": {},
   "outputs": [],
   "source": [
    "# 对于分类特征进行特征值编码\n",
    "attr=['Age','BusinessTravel','Department','Education','EducationField','Gender','JobRole','MaritalStatus','Over18','OverTime']\n",
    "lbe_list=[]\n",
    "for feature in attr:\n",
    "    lbe=LabelEncoder()\n",
    "    train[feature]=lbe.fit_transform(train[feature])\n",
    "    test[feature]=lbe.transform(test[feature])\n",
    "    lbe_list.append(lbe)"
   ]
  },
  {
   "cell_type": "code",
   "execution_count": 41,
   "metadata": {},
   "outputs": [
    {
     "name": "stdout",
     "output_type": "stream",
     "text": [
      "<class 'pandas.core.frame.DataFrame'>\n",
      "Index: 294 entries, 442 to 1229\n",
      "Data columns (total 32 columns):\n",
      " #   Column                    Non-Null Count  Dtype\n",
      "---  ------                    --------------  -----\n",
      " 0   Age                       294 non-null    int64\n",
      " 1   BusinessTravel            294 non-null    int64\n",
      " 2   DailyRate                 294 non-null    int64\n",
      " 3   Department                294 non-null    int64\n",
      " 4   DistanceFromHome          294 non-null    int64\n",
      " 5   Education                 294 non-null    int64\n",
      " 6   EducationField            294 non-null    int64\n",
      " 7   EmployeeCount             294 non-null    int64\n",
      " 8   EnvironmentSatisfaction   294 non-null    int64\n",
      " 9   Gender                    294 non-null    int64\n",
      " 10  HourlyRate                294 non-null    int64\n",
      " 11  JobInvolvement            294 non-null    int64\n",
      " 12  JobLevel                  294 non-null    int64\n",
      " 13  JobRole                   294 non-null    int64\n",
      " 14  JobSatisfaction           294 non-null    int64\n",
      " 15  MaritalStatus             294 non-null    int64\n",
      " 16  MonthlyIncome             294 non-null    int64\n",
      " 17  MonthlyRate               294 non-null    int64\n",
      " 18  NumCompaniesWorked        294 non-null    int64\n",
      " 19  Over18                    294 non-null    int64\n",
      " 20  OverTime                  294 non-null    int64\n",
      " 21  PercentSalaryHike         294 non-null    int64\n",
      " 22  PerformanceRating         294 non-null    int64\n",
      " 23  RelationshipSatisfaction  294 non-null    int64\n",
      " 24  StockOptionLevel          294 non-null    int64\n",
      " 25  TotalWorkingYears         294 non-null    int64\n",
      " 26  TrainingTimesLastYear     294 non-null    int64\n",
      " 27  WorkLifeBalance           294 non-null    int64\n",
      " 28  YearsAtCompany            294 non-null    int64\n",
      " 29  YearsInCurrentRole        294 non-null    int64\n",
      " 30  YearsSinceLastPromotion   294 non-null    int64\n",
      " 31  YearsWithCurrManager      294 non-null    int64\n",
      "dtypes: int64(32)\n",
      "memory usage: 75.8 KB\n"
     ]
    }
   ],
   "source": [
    "test.info()"
   ]
  },
  {
   "cell_type": "code",
   "execution_count": 65,
   "metadata": {},
   "outputs": [],
   "source": [
    "train.to_csv(data_path + 'employee_turnover/train_label_encoder.csv')\n",
    "test.to_csv(data_path + 'employee_turnover/test_label_encoder.csv')"
   ]
  },
  {
   "cell_type": "code",
   "execution_count": 66,
   "metadata": {},
   "outputs": [],
   "source": [
    "train_load = pd.read_csv(data_path + 'employee_turnover/train_label_encoder.csv', index_col=0)\n",
    "test_load = pd.read_csv(data_path + 'employee_turnover/test_label_encoder.csv', index_col=0)\n",
    "\n",
    "X_train, X_valid, y_train, y_valid = train_test_split(train_load.drop('Attrition',axis=1), train_load['Attrition'], test_size=0.2, random_state=2023)"
   ]
  },
  {
   "cell_type": "markdown",
   "metadata": {},
   "source": [
    "## LR"
   ]
  },
  {
   "cell_type": "code",
   "execution_count": 44,
   "metadata": {},
   "outputs": [
    {
     "name": "stdout",
     "output_type": "stream",
     "text": [
      "RUNNING THE L-BFGS-B CODE\n",
      "\n",
      "           * * *\n",
      "\n",
      "Machine precision = 2.220D-16\n",
      " N =           33     M =           10\n",
      "\n",
      "At X0         0 variables are exactly at the bounds\n",
      "\n",
      "At iterate    0    f=  6.93147D-01    |proj g|=  4.68422D+03\n",
      "\n",
      "At iterate   50    f=  4.04442D-01    |proj g|=  6.16026D+01\n",
      "\n",
      "At iterate  100    f=  3.89299D-01    |proj g|=  4.25417D+00\n",
      "\n",
      "           * * *\n",
      "\n",
      "Tit   = total number of iterations\n",
      "Tnf   = total number of function evaluations\n",
      "Tnint = total number of segments explored during Cauchy searches\n",
      "Skip  = number of BFGS updates skipped\n",
      "Nact  = number of active bounds at final generalized Cauchy point\n",
      "Projg = norm of the final projected gradient\n",
      "F     = final function value\n",
      "\n",
      "           * * *\n",
      "\n",
      "   N    Tit     Tnf  Tnint  Skip  Nact     Projg        F\n",
      "   33    100    116      1     0     0   4.254D+00   3.893D-01\n",
      "  F =  0.38929889777669030     \n",
      "\n",
      "STOP: TOTAL NO. of ITERATIONS REACHED LIMIT                 \n",
      "\n",
      "Predict: \n",
      "[0.11885568 0.35716284 0.26763537 0.09078963 0.36526366 0.24054829\n",
      " 0.09114114 0.08645168 0.04729498 0.21262639 0.03077151 0.42486617\n",
      " 0.06913961 0.1742714  0.05973973 0.10777653 0.07809049 0.11035926\n",
      " 0.10731137 0.32866495 0.17784642 0.02410593 0.15572492 0.16613587\n",
      " 0.35733223 0.14765471 0.22514385 0.05037889 0.37748995 0.12048874\n",
      " 0.0506447  0.04666664 0.14415772 0.04311558 0.08720456 0.06381977\n",
      " 0.11542425 0.26128748 0.05904752 0.28003815 0.05268231 0.08062617\n",
      " 0.03398973 0.03678581 0.05777198 0.25981008 0.30356232 0.05061201\n",
      " 0.2676703  0.2131821  0.07494152 0.18035521 0.16769305 0.06419396\n",
      " 0.1136118  0.08801883 0.17609442 0.13034435 0.14838215 0.26860626\n",
      " 0.07153987 0.34115798 0.09793219 0.06683064 0.23445713 0.07425955\n",
      " 0.12061275 0.11882966 0.12639271 0.15996566 0.03566486 0.42184487\n",
      " 0.28655937 0.25117424 0.19011022 0.30778791 0.24817257 0.04682383\n",
      " 0.35659021 0.07360199 0.01868638 0.06531461 0.21769872 0.08450379\n",
      " 0.11721798 0.0979986  0.01337644 0.07968127 0.07716129 0.21477641\n",
      " 0.28753898 0.254913   0.36824023 0.23427368 0.05914663 0.3701191\n",
      " 0.37451666 0.23958278 0.14920977 0.08590727 0.18338917 0.30822221\n",
      " 0.09960551 0.11018966 0.11491006 0.08483002 0.06990044 0.3154554\n",
      " 0.21962066 0.11047221 0.07587686 0.0156043  0.07975165 0.18601826\n",
      " 0.17075903 0.0639478  0.0407955  0.0723239  0.02719688 0.07690463\n",
      " 0.32028984 0.14204923 0.10836009 0.47957454 0.10189899 0.01033669\n",
      " 0.03478454 0.2005187  0.12707194 0.03975516 0.02446523 0.24443541\n",
      " 0.19694098 0.11116176 0.05841825 0.074036   0.2456699  0.09620646\n",
      " 0.12957881 0.07273104 0.06096012 0.09922824 0.07394301 0.09895381\n",
      " 0.04829846 0.14404535 0.04067032 0.00870426 0.05082988 0.08792683\n",
      " 0.11191474 0.09780216 0.2183514  0.00752538 0.01720005 0.05317348\n",
      " 0.05362508 0.21451438 0.08519154 0.04534438 0.04132726 0.03098375\n",
      " 0.2545925  0.36511235 0.06757565 0.27300712 0.07092635 0.25509511\n",
      " 0.2647612  0.02197021 0.14060876 0.0953435  0.11342335 0.40324341\n",
      " 0.02227028 0.2789541  0.21441381 0.03641143 0.16486033 0.06090398\n",
      " 0.18225884 0.09741126 0.00946311 0.23586407 0.13392737 0.16146794\n",
      " 0.26875293 0.04654672 0.39725291 0.31079582 0.39940307 0.23977491\n",
      " 0.25856597 0.1683368  0.28053889 0.05470086 0.07236894 0.06455084\n",
      " 0.30926631 0.06587452 0.15346539 0.26703664 0.40238401 0.13638277\n",
      " 0.39542724 0.17275941 0.3265768  0.026107   0.23135417 0.04997184\n",
      " 0.14832139 0.29269094 0.1291456  0.18481232 0.15705386 0.08159426\n",
      " 0.02273335 0.13655541 0.05804344 0.20854636 0.12398224 0.2720403\n",
      " 0.51604752 0.04038422 0.20771655 0.16959583 0.23877586 0.1257521\n",
      " 0.31460826 0.07616098 0.03737931 0.20478351 0.16491042 0.13228985\n",
      " 0.09582235 0.17302287 0.33464526 0.08518209 0.16663558 0.06213371\n",
      " 0.18145363 0.27676998 0.01273931 0.19106989 0.06677891 0.07848614\n",
      " 0.13883171 0.14586369 0.09289943 0.05655323 0.33596178 0.0445228\n",
      " 0.62552626 0.06841716 0.12604297 0.20327453 0.00765876 0.32952246\n",
      " 0.36927672 0.11066746 0.11704253 0.06019128 0.14810289 0.21904017\n",
      " 0.09963364 0.18658613 0.06690574 0.13750316 0.22239487 0.09392557\n",
      " 0.13583505 0.04270449 0.333037   0.21091216 0.09806139 0.03850363\n",
      " 0.0610378  0.09288421 0.38860675 0.20591913 0.20683168 0.14153978\n",
      " 0.18820972 0.06738053 0.00649653 0.16939388 0.06348478 0.30997642\n",
      " 0.00988676 0.0689824  0.18373583 0.16776418 0.17590672 0.17389559]\n"
     ]
    },
    {
     "name": "stderr",
     "output_type": "stream",
     "text": [
      " This problem is unconstrained.\n"
     ]
    }
   ],
   "source": [
    "\n",
    "model = LogisticRegression(max_iter=100, \n",
    "                           verbose=True, \n",
    "                           random_state=33,\n",
    "                           tol=1e-4\n",
    "                          )\n",
    "\n",
    "model.fit(X_train, y_train)\n",
    "\n",
    "# 二分类结果， 0 或者 1\n",
    "# predict = model.predict(test_load)\n",
    "# print(predict)\n",
    "\n",
    "# 二分类任务，有 2 个概率值，label=0 的概率，label=1 的概率\n",
    "predict = model.predict_proba(test_load)[:, 1]\n",
    "print('\\nPredict: \\n{}'.format(predict))"
   ]
  },
  {
   "cell_type": "code",
   "execution_count": 45,
   "metadata": {},
   "outputs": [
    {
     "name": "stdout",
     "output_type": "stream",
     "text": [
      "submit_lr.csv saved\n"
     ]
    }
   ],
   "source": [
    "test_load['Attrition'] = predict\n",
    "test_load[['Attrition']].to_csv(data_path + 'employee_turnover/submit_lr.csv')\n",
    "print('submit_lr.csv saved')"
   ]
  },
  {
   "cell_type": "code",
   "execution_count": 46,
   "metadata": {},
   "outputs": [],
   "source": [
    "# 转化为二分类输出\n",
    "#test_load['Attrition']=test_load['Attrition'].map(lambda x:1 if x>=0.5 else 0)\n",
    "#test_load[['Attrition']].to_csv('dataset/submit_lr.csv')"
   ]
  },
  {
   "cell_type": "markdown",
   "metadata": {},
   "source": [
    "## SVM 支持向量机"
   ]
  },
  {
   "cell_type": "code",
   "execution_count": 47,
   "metadata": {},
   "outputs": [],
   "source": [
    "# 三种 SVM 方法\n",
    "\n",
    "# sklearn.svm.SVC(C=1.0, kernel='rbf', degree=3, gamma='auto', coef0=0.0, shrinking=True, probability=False, tol=0.001, cache_size=200, class_weight=None, verbose=False, max_iter=1, decision_function_shape='ovr', random_state=None)\n",
    "\n",
    "# sklearn.svm.NuSVC(nu=0.5, kernel='rbf', degree=3, gamma='auto', coef0=0.0, shrinking=True, probability=False, tol=0.001, cache_size=200, class_weight=None, verbose=False, max_iter=1, decision_function_shape='ovr', random_state=None)\n",
    "\n",
    "# sklearn.svm.LinearSVC(penalty='l2', loss='squared_hinge', dual=True, tol=0.0001, C=1.0, multi_class='ovr', fit_intercept=True, intercept_scaling=1, class_weight=None, verbose=0, random_state=None, max_iter=1000)"
   ]
  },
  {
   "cell_type": "code",
   "execution_count": 67,
   "metadata": {},
   "outputs": [],
   "source": [
    "mms = MinMaxScaler(feature_range=(0, 1))\n",
    "X_train = mms.fit_transform(X_train)\n",
    "X_valid = mms.fit_transform(X_valid)\n",
    "Y_test = mms.fit_transform(test_load)"
   ]
  },
  {
   "cell_type": "code",
   "execution_count": 68,
   "metadata": {},
   "outputs": [
    {
     "data": {
      "text/plain": [
       "(940, 32)"
      ]
     },
     "execution_count": 68,
     "metadata": {},
     "output_type": "execute_result"
    }
   ],
   "source": [
    "X_train.shape"
   ]
  },
  {
   "cell_type": "code",
   "execution_count": 69,
   "metadata": {},
   "outputs": [
    {
     "name": "stdout",
     "output_type": "stream",
     "text": [
      "[LibLinear]...............................*\n",
      "optimization finished, #iter = 319\n",
      "Objective value = -380.794014\n",
      "nSV = 637\n",
      "\n",
      "Predict\n",
      ":[0 0 0 0 1 0 1 0 0 0 0 0 0 1 0 0 0 0 0 0 0 0 0 0 1 0 0 0 1 0 0 0 0 0 0 0 0\n",
      " 0 0 0 0 0 0 0 0 1 0 0 1 1 0 0 0 0 1 0 0 0 0 0 0 0 0 0 0 0 0 0 0 0 0 0 0 0\n",
      " 0 0 0 0 0 0 0 0 0 0 0 0 0 0 0 0 0 0 0 0 0 0 0 0 0 0 0 1 1 0 0 0 0 0 0 0 0\n",
      " 0 0 0 0 0 0 0 0 0 0 0 0 1 0 0 0 0 0 0 0 0 0 0 0 1 1 0 0 0 0 0 0 0 0 0 0 0\n",
      " 0 0 0 0 0 0 0 0 0 0 0 0 0 0 0 1 0 0 0 0 0 0 0 0 0 0 0 0 0 0 0 0 0 0 0 1 0\n",
      " 0 0 0 1 0 0 0 0 0 0 0 0 0 0 0 0 0 1 0 0 0 1 0 0 0 0 0 0 0 0 0 0 0 0 0 0 0\n",
      " 1 0 0 0 0 0 0 0 0 0 0 0 0 0 0 0 0 0 0 0 0 0 0 0 0 0 0 0 0 0 1 0 0 0 0 1 0\n",
      " 0 0 0 0 0 0 0 0 0 0 0 0 0 0 0 0 0 0 0 0 0 0 0 0 0 0 0 0 0 0 0 0 1 0 0]\n"
     ]
    }
   ],
   "source": [
    "\n",
    "model = LinearSVC(max_iter=1000,\n",
    "                  random_state=33,\n",
    "                  verbose=True)\n",
    "\n",
    "model.fit(X_train, y_train)\n",
    "predict = model.predict(Y_test)\n",
    "print('\\nPredict\\n:{}'.format(predict))"
   ]
  },
  {
   "cell_type": "code",
   "execution_count": 71,
   "metadata": {},
   "outputs": [],
   "source": [
    "# predict_series = pd.Series(predict, index = test_load.index)\n",
    "# submission_df = pd.DataFrame({'Attrition':predict})\n",
    "\n",
    "test_load['Attrition'] = predict\n",
    "test_load[['Attrition']].to_csv(data_path + 'employee_turnover/submit_svc.csv')\n",
    "# print('submit_svc.csv saved')"
   ]
  },
  {
   "cell_type": "markdown",
   "metadata": {},
   "source": [
    "课程地址： 待更新...\n",
    "\n",
    "欢迎关注「坍缩的奇点」， 获取更多免费教程。\n",
    "\n",
    "![欢迎订阅：坍缩的奇点](../assets/Capture-2023-11-02-164446.png)"
   ]
  },
  {
   "cell_type": "code",
   "execution_count": null,
   "metadata": {},
   "outputs": [],
   "source": []
  }
 ],
 "metadata": {
  "kernelspec": {
   "display_name": "tf",
   "language": "python",
   "name": "python3"
  },
  "language_info": {
   "codemirror_mode": {
    "name": "ipython",
    "version": 3
   },
   "file_extension": ".py",
   "mimetype": "text/x-python",
   "name": "python",
   "nbconvert_exporter": "python",
   "pygments_lexer": "ipython3",
   "version": "3.8.16"
  }
 },
 "nbformat": 4,
 "nbformat_minor": 2
}
