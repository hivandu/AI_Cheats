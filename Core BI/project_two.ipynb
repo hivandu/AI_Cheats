{
 "cells": [
  {
   "cell_type": "markdown",
   "metadata": {},
   "source": [
    "# Project two: 男女声音识别"
   ]
  },
  {
   "cell_type": "code",
   "execution_count": 1,
   "metadata": {},
   "outputs": [],
   "source": [
    "import pandas as pd\n",
    "from sklearn.linear_model import LogisticRegression\n",
    "from sklearn.preprocessing import LabelEncoder\n",
    "from sklearn.preprocessing import StandardScaler, MinMaxScaler\n",
    "from sklearn.model_selection import train_test_split\n",
    "from sklearn.svm import SVC\n",
    "from sklearn.metrics import accuracy_score\n",
    "import os\n",
    "\n",
    "data_path = os.environ.get('DATA_PATH') + 'AI_Cheats/'\n"
   ]
  },
  {
   "cell_type": "code",
   "execution_count": 2,
   "metadata": {},
   "outputs": [
    {
     "data": {
      "application/vnd.microsoft.datawrangler.viewer.v0+json": {
       "columns": [
        {
         "name": "index",
         "rawType": "int64",
         "type": "integer"
        },
        {
         "name": "meanfreq",
         "rawType": "float64",
         "type": "float"
        },
        {
         "name": "sd",
         "rawType": "float64",
         "type": "float"
        },
        {
         "name": "median",
         "rawType": "float64",
         "type": "float"
        },
        {
         "name": "Q25",
         "rawType": "float64",
         "type": "float"
        },
        {
         "name": "Q75",
         "rawType": "float64",
         "type": "float"
        },
        {
         "name": "IQR",
         "rawType": "float64",
         "type": "float"
        },
        {
         "name": "skew",
         "rawType": "float64",
         "type": "float"
        },
        {
         "name": "kurt",
         "rawType": "float64",
         "type": "float"
        },
        {
         "name": "sp.ent",
         "rawType": "float64",
         "type": "float"
        },
        {
         "name": "sfm",
         "rawType": "float64",
         "type": "float"
        },
        {
         "name": "mode",
         "rawType": "float64",
         "type": "float"
        },
        {
         "name": "centroid",
         "rawType": "float64",
         "type": "float"
        },
        {
         "name": "meanfun",
         "rawType": "float64",
         "type": "float"
        },
        {
         "name": "minfun",
         "rawType": "float64",
         "type": "float"
        },
        {
         "name": "maxfun",
         "rawType": "float64",
         "type": "float"
        },
        {
         "name": "meandom",
         "rawType": "float64",
         "type": "float"
        },
        {
         "name": "mindom",
         "rawType": "float64",
         "type": "float"
        },
        {
         "name": "maxdom",
         "rawType": "float64",
         "type": "float"
        },
        {
         "name": "dfrange",
         "rawType": "float64",
         "type": "float"
        },
        {
         "name": "modindx",
         "rawType": "float64",
         "type": "float"
        },
        {
         "name": "label",
         "rawType": "object",
         "type": "string"
        }
       ],
       "ref": "fbcccb4a-34c2-4e23-ad00-d40b4853bfb9",
       "rows": [
        [
         "0",
         "0.0597809849598081",
         "0.0642412677031359",
         "0.032026913372582",
         "0.0150714886459209",
         "0.0901934398654331",
         "0.0751219512195122",
         "12.8634618371626",
         "274.402905502067",
         "0.893369416700807",
         "0.491917766397811",
         "0.0",
         "0.0597809849598081",
         "0.084279106440321",
         "0.0157016683022571",
         "0.275862068965517",
         "0.0078125",
         "0.0078125",
         "0.0078125",
         "0.0",
         "0.0",
         "male"
        ],
        [
         "1",
         "0.066008740387572",
         "0.0673100287952527",
         "0.040228734810579",
         "0.0194138670478914",
         "0.0926661901358113",
         "0.0732523230879199",
         "22.4232853628204",
         "634.613854542068",
         "0.892193242265734",
         "0.513723842537073",
         "0.0",
         "0.066008740387572",
         "0.107936553670454",
         "0.0158259149357072",
         "0.25",
         "0.009014423076923",
         "0.0078125",
         "0.0546875",
         "0.046875",
         "0.0526315789473684",
         "male"
        ],
        [
         "2",
         "0.0773155026958227",
         "0.0838294209445061",
         "0.0367184586699814",
         "0.0087010565568676",
         "0.131908017402113",
         "0.123206960845246",
         "30.7571545800584",
         "1024.927704721",
         "0.846389091878782",
         "0.478904979116727",
         "0.0",
         "0.0773155026958227",
         "0.0987062615673936",
         "0.0156555772994129",
         "0.271186440677966",
         "0.0079900568181818",
         "0.0078125",
         "0.015625",
         "0.0078125",
         "0.0465116279069767",
         "male"
        ],
        [
         "3",
         "0.151228091724635",
         "0.0721105872627985",
         "0.158011187072716",
         "0.0965817277812306",
         "0.207955251709136",
         "0.111373523927906",
         "1.23283127554372",
         "4.17729621025317",
         "0.963322461535984",
         "0.727231798861951",
         "0.0838781852082039",
         "0.151228091724635",
         "0.0889648485504597",
         "0.017797552836485",
         "0.25",
         "0.201497395833333",
         "0.0078125",
         "0.5625",
         "0.5546875",
         "0.247119078104994",
         "male"
        ],
        [
         "4",
         "0.135120387296677",
         "0.0791461004935869",
         "0.124656228727025",
         "0.0787202178352621",
         "0.206044928522805",
         "0.127324710687543",
         "1.10117366551545",
         "4.3337131547091",
         "0.971955076212905",
         "0.783568057553871",
         "0.1042614023145",
         "0.135120387296677",
         "0.106397844620363",
         "0.0169312169312169",
         "0.266666666666667",
         "0.7128125",
         "0.0078125",
         "5.484375",
         "5.4765625",
         "0.208273894436519",
         "male"
        ]
       ],
       "shape": {
        "columns": 21,
        "rows": 5
       }
      },
      "text/html": [
       "<div>\n",
       "<style scoped>\n",
       "    .dataframe tbody tr th:only-of-type {\n",
       "        vertical-align: middle;\n",
       "    }\n",
       "\n",
       "    .dataframe tbody tr th {\n",
       "        vertical-align: top;\n",
       "    }\n",
       "\n",
       "    .dataframe thead th {\n",
       "        text-align: right;\n",
       "    }\n",
       "</style>\n",
       "<table border=\"1\" class=\"dataframe\">\n",
       "  <thead>\n",
       "    <tr style=\"text-align: right;\">\n",
       "      <th></th>\n",
       "      <th>meanfreq</th>\n",
       "      <th>sd</th>\n",
       "      <th>median</th>\n",
       "      <th>Q25</th>\n",
       "      <th>Q75</th>\n",
       "      <th>IQR</th>\n",
       "      <th>skew</th>\n",
       "      <th>kurt</th>\n",
       "      <th>sp.ent</th>\n",
       "      <th>sfm</th>\n",
       "      <th>...</th>\n",
       "      <th>centroid</th>\n",
       "      <th>meanfun</th>\n",
       "      <th>minfun</th>\n",
       "      <th>maxfun</th>\n",
       "      <th>meandom</th>\n",
       "      <th>mindom</th>\n",
       "      <th>maxdom</th>\n",
       "      <th>dfrange</th>\n",
       "      <th>modindx</th>\n",
       "      <th>label</th>\n",
       "    </tr>\n",
       "  </thead>\n",
       "  <tbody>\n",
       "    <tr>\n",
       "      <th>0</th>\n",
       "      <td>0.059781</td>\n",
       "      <td>0.064241</td>\n",
       "      <td>0.032027</td>\n",
       "      <td>0.015071</td>\n",
       "      <td>0.090193</td>\n",
       "      <td>0.075122</td>\n",
       "      <td>12.863462</td>\n",
       "      <td>274.402906</td>\n",
       "      <td>0.893369</td>\n",
       "      <td>0.491918</td>\n",
       "      <td>...</td>\n",
       "      <td>0.059781</td>\n",
       "      <td>0.084279</td>\n",
       "      <td>0.015702</td>\n",
       "      <td>0.275862</td>\n",
       "      <td>0.007812</td>\n",
       "      <td>0.007812</td>\n",
       "      <td>0.007812</td>\n",
       "      <td>0.000000</td>\n",
       "      <td>0.000000</td>\n",
       "      <td>male</td>\n",
       "    </tr>\n",
       "    <tr>\n",
       "      <th>1</th>\n",
       "      <td>0.066009</td>\n",
       "      <td>0.067310</td>\n",
       "      <td>0.040229</td>\n",
       "      <td>0.019414</td>\n",
       "      <td>0.092666</td>\n",
       "      <td>0.073252</td>\n",
       "      <td>22.423285</td>\n",
       "      <td>634.613855</td>\n",
       "      <td>0.892193</td>\n",
       "      <td>0.513724</td>\n",
       "      <td>...</td>\n",
       "      <td>0.066009</td>\n",
       "      <td>0.107937</td>\n",
       "      <td>0.015826</td>\n",
       "      <td>0.250000</td>\n",
       "      <td>0.009014</td>\n",
       "      <td>0.007812</td>\n",
       "      <td>0.054688</td>\n",
       "      <td>0.046875</td>\n",
       "      <td>0.052632</td>\n",
       "      <td>male</td>\n",
       "    </tr>\n",
       "    <tr>\n",
       "      <th>2</th>\n",
       "      <td>0.077316</td>\n",
       "      <td>0.083829</td>\n",
       "      <td>0.036718</td>\n",
       "      <td>0.008701</td>\n",
       "      <td>0.131908</td>\n",
       "      <td>0.123207</td>\n",
       "      <td>30.757155</td>\n",
       "      <td>1024.927705</td>\n",
       "      <td>0.846389</td>\n",
       "      <td>0.478905</td>\n",
       "      <td>...</td>\n",
       "      <td>0.077316</td>\n",
       "      <td>0.098706</td>\n",
       "      <td>0.015656</td>\n",
       "      <td>0.271186</td>\n",
       "      <td>0.007990</td>\n",
       "      <td>0.007812</td>\n",
       "      <td>0.015625</td>\n",
       "      <td>0.007812</td>\n",
       "      <td>0.046512</td>\n",
       "      <td>male</td>\n",
       "    </tr>\n",
       "    <tr>\n",
       "      <th>3</th>\n",
       "      <td>0.151228</td>\n",
       "      <td>0.072111</td>\n",
       "      <td>0.158011</td>\n",
       "      <td>0.096582</td>\n",
       "      <td>0.207955</td>\n",
       "      <td>0.111374</td>\n",
       "      <td>1.232831</td>\n",
       "      <td>4.177296</td>\n",
       "      <td>0.963322</td>\n",
       "      <td>0.727232</td>\n",
       "      <td>...</td>\n",
       "      <td>0.151228</td>\n",
       "      <td>0.088965</td>\n",
       "      <td>0.017798</td>\n",
       "      <td>0.250000</td>\n",
       "      <td>0.201497</td>\n",
       "      <td>0.007812</td>\n",
       "      <td>0.562500</td>\n",
       "      <td>0.554688</td>\n",
       "      <td>0.247119</td>\n",
       "      <td>male</td>\n",
       "    </tr>\n",
       "    <tr>\n",
       "      <th>4</th>\n",
       "      <td>0.135120</td>\n",
       "      <td>0.079146</td>\n",
       "      <td>0.124656</td>\n",
       "      <td>0.078720</td>\n",
       "      <td>0.206045</td>\n",
       "      <td>0.127325</td>\n",
       "      <td>1.101174</td>\n",
       "      <td>4.333713</td>\n",
       "      <td>0.971955</td>\n",
       "      <td>0.783568</td>\n",
       "      <td>...</td>\n",
       "      <td>0.135120</td>\n",
       "      <td>0.106398</td>\n",
       "      <td>0.016931</td>\n",
       "      <td>0.266667</td>\n",
       "      <td>0.712812</td>\n",
       "      <td>0.007812</td>\n",
       "      <td>5.484375</td>\n",
       "      <td>5.476562</td>\n",
       "      <td>0.208274</td>\n",
       "      <td>male</td>\n",
       "    </tr>\n",
       "  </tbody>\n",
       "</table>\n",
       "<p>5 rows × 21 columns</p>\n",
       "</div>"
      ],
      "text/plain": [
       "   meanfreq        sd    median       Q25       Q75       IQR       skew  \\\n",
       "0  0.059781  0.064241  0.032027  0.015071  0.090193  0.075122  12.863462   \n",
       "1  0.066009  0.067310  0.040229  0.019414  0.092666  0.073252  22.423285   \n",
       "2  0.077316  0.083829  0.036718  0.008701  0.131908  0.123207  30.757155   \n",
       "3  0.151228  0.072111  0.158011  0.096582  0.207955  0.111374   1.232831   \n",
       "4  0.135120  0.079146  0.124656  0.078720  0.206045  0.127325   1.101174   \n",
       "\n",
       "          kurt    sp.ent       sfm  ...  centroid   meanfun    minfun  \\\n",
       "0   274.402906  0.893369  0.491918  ...  0.059781  0.084279  0.015702   \n",
       "1   634.613855  0.892193  0.513724  ...  0.066009  0.107937  0.015826   \n",
       "2  1024.927705  0.846389  0.478905  ...  0.077316  0.098706  0.015656   \n",
       "3     4.177296  0.963322  0.727232  ...  0.151228  0.088965  0.017798   \n",
       "4     4.333713  0.971955  0.783568  ...  0.135120  0.106398  0.016931   \n",
       "\n",
       "     maxfun   meandom    mindom    maxdom   dfrange   modindx  label  \n",
       "0  0.275862  0.007812  0.007812  0.007812  0.000000  0.000000   male  \n",
       "1  0.250000  0.009014  0.007812  0.054688  0.046875  0.052632   male  \n",
       "2  0.271186  0.007990  0.007812  0.015625  0.007812  0.046512   male  \n",
       "3  0.250000  0.201497  0.007812  0.562500  0.554688  0.247119   male  \n",
       "4  0.266667  0.712812  0.007812  5.484375  5.476562  0.208274   male  \n",
       "\n",
       "[5 rows x 21 columns]"
      ]
     },
     "execution_count": 2,
     "metadata": {},
     "output_type": "execute_result"
    }
   ],
   "source": [
    "dataframe = pd.read_csv(data_path + 'voice/voice.csv')\n",
    "dataframe.head()"
   ]
  },
  {
   "cell_type": "markdown",
   "metadata": {},
   "source": [
    "### 数据探索"
   ]
  },
  {
   "cell_type": "markdown",
   "metadata": {},
   "source": []
  },
  {
   "cell_type": "code",
   "execution_count": 3,
   "metadata": {},
   "outputs": [
    {
     "name": "stdout",
     "output_type": "stream",
     "text": [
      "meanfreq    0\n",
      "sd          0\n",
      "median      0\n",
      "Q25         0\n",
      "Q75         0\n",
      "IQR         0\n",
      "skew        0\n",
      "kurt        0\n",
      "sp.ent      0\n",
      "sfm         0\n",
      "mode        0\n",
      "centroid    0\n",
      "meanfun     0\n",
      "minfun      0\n",
      "maxfun      0\n",
      "meandom     0\n",
      "mindom      0\n",
      "maxdom      0\n",
      "dfrange     0\n",
      "modindx     0\n",
      "label       0\n",
      "dtype: int64\n",
      "(3168, 21)\n"
     ]
    }
   ],
   "source": [
    "# 缺失值个数\n",
    "print(dataframe.isnull().sum())\n",
    "# 矩阵的大小\n",
    "print(dataframe.shape)"
   ]
  },
  {
   "cell_type": "code",
   "execution_count": 4,
   "metadata": {},
   "outputs": [
    {
     "name": "stdout",
     "output_type": "stream",
     "text": [
      "男性个数:1584\n",
      "女性个数:1584\n"
     ]
    }
   ],
   "source": [
    "print('男性个数:{}'.format(dataframe[dataframe.label=='male'].shape[0]))\n",
    "print('女性个数:{}'.format(dataframe[dataframe.label=='female'].shape[0]))"
   ]
  },
  {
   "cell_type": "code",
   "execution_count": 5,
   "metadata": {},
   "outputs": [],
   "source": [
    "# 提取特征列，目标列 target\n",
    "X = dataframe.iloc[:, :-1]\n",
    "y = dataframe.iloc[:, -1]"
   ]
  },
  {
   "cell_type": "code",
   "execution_count": 6,
   "metadata": {},
   "outputs": [
    {
     "name": "stdout",
     "output_type": "stream",
     "text": [
      "0         male\n",
      "1         male\n",
      "2         male\n",
      "3         male\n",
      "4         male\n",
      "         ...  \n",
      "3163    female\n",
      "3164    female\n",
      "3165    female\n",
      "3166    female\n",
      "3167    female\n",
      "Name: label, Length: 3168, dtype: object\n",
      "[1 1 1 ... 0 0 0]\n"
     ]
    }
   ],
   "source": [
    "# 使用标签编码\n",
    "gender_encoder = LabelEncoder()\n",
    "print(y)\n",
    "y = gender_encoder.fit_transform(y)\n",
    "print(y)"
   ]
  },
  {
   "cell_type": "code",
   "execution_count": 7,
   "metadata": {},
   "outputs": [
    {
     "name": "stdout",
     "output_type": "stream",
     "text": [
      "[[-4.04924806  0.4273553  -4.22490077 ... -1.43142165 -1.41913712\n",
      "  -1.45477229]\n",
      " [-3.84105325  0.6116695  -3.99929342 ... -1.41810716 -1.4058184\n",
      "  -1.01410294]\n",
      " [-3.46306647  1.60384791 -4.09585052 ... -1.42920257 -1.41691733\n",
      "  -1.06534356]\n",
      " ...\n",
      " [-1.29877326  2.32272355 -0.05197279 ... -0.5992661  -0.58671739\n",
      "   0.17588664]\n",
      " [-1.2452018   2.012196   -0.01772849 ... -0.41286326 -0.40025537\n",
      "   1.14916112]\n",
      " [-0.51474626  2.14765111 -0.07087873 ... -1.27608595 -1.2637521\n",
      "   1.47567886]]\n"
     ]
    }
   ],
   "source": [
    "# 数据归一化\n",
    "scaler = StandardScaler()\n",
    "# 对原时特征进行归一化\n",
    "X = scaler.fit_transform(X)\n",
    "print(X)\n"
   ]
  },
  {
   "cell_type": "code",
   "execution_count": 8,
   "metadata": {},
   "outputs": [],
   "source": [
    "# 数据集切分\n",
    "X_train, X_test, y_train, y_test = train_test_split(X, y, train_size=0.2, random_state=2023)"
   ]
  },
  {
   "cell_type": "code",
   "execution_count": 9,
   "metadata": {},
   "outputs": [],
   "source": [
    "# 数据建模\n",
    "model = SVC()"
   ]
  },
  {
   "cell_type": "code",
   "execution_count": 10,
   "metadata": {},
   "outputs": [],
   "source": [
    "model = LogisticRegression()"
   ]
  },
  {
   "cell_type": "code",
   "execution_count": 11,
   "metadata": {},
   "outputs": [],
   "source": [
    "# 模型训练\n",
    "model.fit(X_train, y_train)\n",
    "# 用训练好的模型进行预测\n",
    "y_pred = model.predict(X_test)"
   ]
  },
  {
   "cell_type": "code",
   "execution_count": 12,
   "metadata": {},
   "outputs": [
    {
     "name": "stdout",
     "output_type": "stream",
     "text": [
      "SVM 预测结果：[1 0 1 ... 0 0 0], \n",
      " 准确率: 0.9692307692307692\n"
     ]
    }
   ],
   "source": [
    "print('SVM 预测结果：{}, \\n 准确率: {}'.format(y_pred, accuracy_score(y_test, y_pred)))"
   ]
  },
  {
   "cell_type": "markdown",
   "metadata": {},
   "source": [
    "> 本文数据集可以查看公众号原文，文末有数据集地址。原文待发布，地址待更新...\n",
    "\n",
    "欢迎关注「坍缩的奇点」，解锁更多免费教程。\n",
    "\n",
    "![欢迎订阅：坍缩的奇点](../assets/Capture-2023-11-02-164446.png)"
   ]
  },
  {
   "cell_type": "markdown",
   "metadata": {},
   "source": []
  },
  {
   "cell_type": "markdown",
   "metadata": {},
   "source": []
  },
  {
   "cell_type": "markdown",
   "metadata": {},
   "source": []
  }
 ],
 "metadata": {
  "kernelspec": {
   "display_name": "mlo",
   "language": "python",
   "name": "python3"
  },
  "language_info": {
   "codemirror_mode": {
    "name": "ipython",
    "version": 3
   },
   "file_extension": ".py",
   "mimetype": "text/x-python",
   "name": "python",
   "nbconvert_exporter": "python",
   "pygments_lexer": "ipython3",
   "version": "3.10.14"
  }
 },
 "nbformat": 4,
 "nbformat_minor": 2
}
