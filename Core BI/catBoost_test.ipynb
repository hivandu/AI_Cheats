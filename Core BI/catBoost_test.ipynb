{
 "cells": [
  {
   "cell_type": "markdown",
   "metadata": {},
   "source": [
    "# CatBoost"
   ]
  },
  {
   "cell_type": "code",
   "execution_count": 1,
   "metadata": {},
   "outputs": [],
   "source": [
    "import pandas as pd\n",
    "import numpy as np\n",
    "import catboost as cb\n",
    "from sklearn.preprocessing import LabelEncoder, OneHotEncoder\n",
    "from sklearn.model_selection import train_test_split\n",
    "from sklearn.metrics import accuracy_score\n",
    "import os\n",
    "data_path = os.environ.get('DATA_PATH')"
   ]
  },
  {
   "cell_type": "code",
   "execution_count": 2,
   "metadata": {},
   "outputs": [],
   "source": [
    "train = pd.read_csv(data_path + 'AI_Cheats/employee_turnover/train.csv', index_col=0)\n",
    "test = pd.read_csv(data_path + 'AI_Cheats/employee_turnover/test.csv', index_col=0)\n",
    "# print(train['Attrition'].value_counts())\n",
    "\n",
    "# 处理 Attrition 字段\n",
    "train['Attrition'] = train['Attrition'].map(lambda x:1 if x=='Yes' else 0)\n",
    "\n",
    "# 查看数据中每列是否有空值\n",
    "# print(train.isna().sum())"
   ]
  },
  {
   "cell_type": "code",
   "execution_count": 3,
   "metadata": {},
   "outputs": [],
   "source": [
    "# 去掉没用的列 员工号码，标准工时（=80）\n",
    "train = train.drop(['EmployeeNumber', 'StandardHours'], axis=1)\n",
    "test = test.drop(['EmployeeNumber', 'StandardHours'], axis=1)\n"
   ]
  },
  {
   "cell_type": "code",
   "execution_count": 4,
   "metadata": {},
   "outputs": [],
   "source": [
    "# 对于分类特征进行特征值编码\n",
    "attr=['Age','BusinessTravel','Department','Education','EducationField','Gender','JobRole','MaritalStatus','Over18','OverTime']\n",
    "lbe_list=[]\n",
    "for feature in attr:\n",
    "    lbe=LabelEncoder()\n",
    "    train[feature]=lbe.fit_transform(train[feature])\n",
    "    test[feature]=lbe.transform(test[feature])\n",
    "    lbe_list.append(lbe)\n",
    "#print(train)"
   ]
  },
  {
   "cell_type": "code",
   "execution_count": 5,
   "metadata": {},
   "outputs": [],
   "source": [
    "X_train, X_valid, y_train, y_valid = train_test_split(train.drop('Attrition',axis=1), train['Attrition'], test_size=0.2, random_state=42)"
   ]
  },
  {
   "cell_type": "code",
   "execution_count": 6,
   "metadata": {},
   "outputs": [],
   "source": [
    "model = cb.CatBoostClassifier(\n",
    "    iterations=1000, \n",
    "    depth=7, \n",
    "    learning_rate=0.01, \n",
    "    loss_function='Logloss', \n",
    "    eval_metric='AUC',\n",
    "    logging_level='Verbose', \n",
    "    metric_period=50\n",
    ")"
   ]
  },
  {
   "cell_type": "code",
   "execution_count": 7,
   "metadata": {},
   "outputs": [
    {
     "name": "stdout",
     "output_type": "stream",
     "text": [
      "[0, 1, 3, 5, 6, 9, 13, 15, 19, 20]\n"
     ]
    }
   ],
   "source": [
    "# 得到分类特征的列号\n",
    "categorical_features_indices = []\n",
    "for i in range(len(X_train.columns)):\n",
    "    if X_train.columns.values[i] in attr:\n",
    "        categorical_features_indices.append(i)\n",
    "print(categorical_features_indices)"
   ]
  },
  {
   "cell_type": "code",
   "execution_count": 8,
   "metadata": {},
   "outputs": [
    {
     "name": "stdout",
     "output_type": "stream",
     "text": [
      "0:\ttest: 0.6390374\tbest: 0.6390374 (0)\ttotal: 55.1ms\tremaining: 55s\n",
      "50:\ttest: 0.7895886\tbest: 0.7895886 (50)\ttotal: 254ms\tremaining: 4.72s\n",
      "100:\ttest: 0.8008294\tbest: 0.8008294 (100)\ttotal: 397ms\tremaining: 3.53s\n",
      "150:\ttest: 0.8057405\tbest: 0.8057405 (150)\ttotal: 497ms\tremaining: 2.79s\n",
      "200:\ttest: 0.8041035\tbest: 0.8057405 (150)\ttotal: 607ms\tremaining: 2.41s\n",
      "250:\ttest: 0.8029030\tbest: 0.8057405 (150)\ttotal: 746ms\tremaining: 2.23s\n",
      "300:\ttest: 0.8059587\tbest: 0.8059587 (300)\ttotal: 859ms\tremaining: 1.99s\n",
      "350:\ttest: 0.8075958\tbest: 0.8075958 (350)\ttotal: 967ms\tremaining: 1.79s\n",
      "400:\ttest: 0.8081414\tbest: 0.8081414 (400)\ttotal: 1.09s\tremaining: 1.63s\n",
      "450:\ttest: 0.8068318\tbest: 0.8081414 (400)\ttotal: 1.24s\tremaining: 1.51s\n",
      "500:\ttest: 0.8113063\tbest: 0.8113063 (500)\ttotal: 1.35s\tremaining: 1.35s\n",
      "550:\ttest: 0.8118520\tbest: 0.8118520 (550)\ttotal: 1.52s\tremaining: 1.24s\n",
      "600:\ttest: 0.8129434\tbest: 0.8129434 (600)\ttotal: 1.64s\tremaining: 1.09s\n",
      "650:\ttest: 0.8150169\tbest: 0.8150169 (650)\ttotal: 1.79s\tremaining: 958ms\n",
      "700:\ttest: 0.8142530\tbest: 0.8150169 (650)\ttotal: 1.93s\tremaining: 823ms\n",
      "750:\ttest: 0.8155626\tbest: 0.8155626 (750)\ttotal: 2.04s\tremaining: 678ms\n",
      "800:\ttest: 0.8156717\tbest: 0.8156717 (800)\ttotal: 2.17s\tremaining: 539ms\n",
      "850:\ttest: 0.8161083\tbest: 0.8161083 (850)\ttotal: 2.31s\tremaining: 405ms\n",
      "900:\ttest: 0.8164357\tbest: 0.8164357 (900)\ttotal: 2.43s\tremaining: 267ms\n",
      "950:\ttest: 0.8166539\tbest: 0.8166539 (950)\ttotal: 2.55s\tremaining: 132ms\n",
      "999:\ttest: 0.8163265\tbest: 0.8166539 (950)\ttotal: 2.67s\tremaining: 0us\n",
      "\n",
      "bestTest = 0.8166539343\n",
      "bestIteration = 950\n",
      "\n",
      "Shrink model to first 951 iterations.\n"
     ]
    },
    {
     "data": {
      "text/plain": [
       "<catboost.core.CatBoostClassifier at 0x3295e7400>"
      ]
     },
     "execution_count": 8,
     "metadata": {},
     "output_type": "execute_result"
    }
   ],
   "source": [
    "model.fit(X_train, y_train, eval_set=(X_valid, y_valid), cat_features=categorical_features_indices)"
   ]
  },
  {
   "cell_type": "code",
   "execution_count": 9,
   "metadata": {},
   "outputs": [],
   "source": [
    "predict = model.predict(test)\n",
    "test['Attrition']=predict\n",
    "test[['Attrition']].to_csv(data_path + 'AI_Cheats/employee_turnover/submit_cb.csv')"
   ]
  },
  {
   "cell_type": "code",
   "execution_count": null,
   "metadata": {},
   "outputs": [],
   "source": []
  }
 ],
 "metadata": {
  "kernelspec": {
   "display_name": "mlo",
   "language": "python",
   "name": "python3"
  },
  "language_info": {
   "codemirror_mode": {
    "name": "ipython",
    "version": 3
   },
   "file_extension": ".py",
   "mimetype": "text/x-python",
   "name": "python",
   "nbconvert_exporter": "python",
   "pygments_lexer": "ipython3",
   "version": "3.10.14"
  }
 },
 "nbformat": 4,
 "nbformat_minor": 2
}
