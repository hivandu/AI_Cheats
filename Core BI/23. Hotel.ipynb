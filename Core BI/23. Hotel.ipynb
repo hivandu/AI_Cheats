{
 "cells": [
  {
   "cell_type": "markdown",
   "metadata": {},
   "source": [
    "# 内容推荐系统"
   ]
  },
  {
   "cell_type": "code",
   "execution_count": 1,
   "metadata": {},
   "outputs": [],
   "source": [
    "import pandas as pd\n",
    "pd.options.display.max_columns = 30\n",
    "import numpy as np\n",
    "from math import sqrt\n",
    "from nltk.corpus import stopwords\n",
    "from sklearn.metrics.pairwise import linear_kernel\n",
    "from sklearn.feature_extraction.text import CountVectorizer, TfidfVectorizer\n",
    "from sklearn.decomposition import LatentDirichletAllocation\n",
    "import re\n",
    "import random\n",
    "import matplotlib.pyplot as plt\n",
    "\n",
    "import os\n",
    "data_path = os.environ.get('DATA_PATH') + 'AI_Cheats/'"
   ]
  },
  {
   "cell_type": "code",
   "execution_count": 2,
   "metadata": {},
   "outputs": [],
   "source": [
    "# 支持中文\n",
    "plt.rcParams['font.sans-serif'] = ['SimHei']"
   ]
  },
  {
   "cell_type": "code",
   "execution_count": 3,
   "metadata": {},
   "outputs": [],
   "source": [
    "df = pd.read_csv(data_path + 'Seattle_Hotels.csv', encoding='latin-1')"
   ]
  },
  {
   "cell_type": "markdown",
   "metadata": {},
   "source": [
    "### 数据探索"
   ]
  },
  {
   "cell_type": "code",
   "execution_count": 4,
   "metadata": {},
   "outputs": [
    {
     "name": "stdout",
     "output_type": "stream",
     "text": [
      "                             name  \\\n",
      "0  Hilton Garden Seattle Downtown   \n",
      "1          Sheraton Grand Seattle   \n",
      "2   Crowne Plaza Seattle Downtown   \n",
      "3   Kimpton Hotel Monaco Seattle    \n",
      "4              The Westin Seattle   \n",
      "\n",
      "                                           address  \\\n",
      "0  1821 Boren Avenue, Seattle Washington 98101 USA   \n",
      "1   1400 6th Avenue, Seattle, Washington 98101 USA   \n",
      "2                  1113 6th Ave, Seattle, WA 98101   \n",
      "3                   1101 4th Ave, Seattle, WA98101   \n",
      "4   1900 5th Avenue, Seattle, Washington 98101 USA   \n",
      "\n",
      "                                                desc  \n",
      "0  Located on the southern tip of Lake Union, the...  \n",
      "1  Located in the city's vibrant core, the Sherat...  \n",
      "2  Located in the heart of downtown Seattle, the ...  \n",
      "3  What?s near our hotel downtown Seattle locatio...  \n",
      "4  Situated amid incredible shopping and iconic a...  \n",
      "数据中的酒店个数: 152\n"
     ]
    }
   ],
   "source": [
    "print(df.head())\n",
    "print('数据中的酒店个数: {}'.format(len(df)))"
   ]
  },
  {
   "cell_type": "code",
   "execution_count": 5,
   "metadata": {},
   "outputs": [
    {
     "name": "stdout",
     "output_type": "stream",
     "text": [
      "Soak up the vibrant scene in the Living Room Bar and get in the mix with our live music and DJ series before heading to a memorable dinner at TRACE. Offering inspired seasonal fare in an award-winning atmosphere, it's a not-to-be-missed culinary experience in downtown Seattle. Work it all off the next morning at FIT®, our state-of-the-art fitness center before wandering out to explore many of the area's nearby attractions, including Pike Place Market, Pioneer Square and the Seattle Art Museum. As always, we've got you covered during your time at W Seattle with our signature Whatever/Whenever® service - your wish is truly our command.\n",
      "Name: W Seattle\n"
     ]
    }
   ],
   "source": [
    "def print_description(index):\n",
    "    example = df[df.index==index][['desc', 'name']].values[0]\n",
    "    if len(example) > 0:\n",
    "        print(example[0])\n",
    "        print('Name: {}'.format(example[1]))\n",
    "\n",
    "print_description(10)"
   ]
  },
  {
   "cell_type": "code",
   "execution_count": 6,
   "metadata": {},
   "outputs": [
    {
     "name": "stderr",
     "output_type": "stream",
     "text": [
      "findfont: Generic family 'sans-serif' not found because none of the following families were found: SimHei\n",
      "findfont: Generic family 'sans-serif' not found because none of the following families were found: SimHei\n",
      "findfont: Generic family 'sans-serif' not found because none of the following families were found: SimHei\n",
      "findfont: Generic family 'sans-serif' not found because none of the following families were found: SimHei\n",
      "findfont: Generic family 'sans-serif' not found because none of the following families were found: SimHei\n",
      "findfont: Generic family 'sans-serif' not found because none of the following families were found: SimHei\n",
      "findfont: Generic family 'sans-serif' not found because none of the following families were found: SimHei\n",
      "findfont: Generic family 'sans-serif' not found because none of the following families were found: SimHei\n",
      "findfont: Generic family 'sans-serif' not found because none of the following families were found: SimHei\n",
      "findfont: Generic family 'sans-serif' not found because none of the following families were found: SimHei\n",
      "findfont: Generic family 'sans-serif' not found because none of the following families were found: SimHei\n",
      "findfont: Generic family 'sans-serif' not found because none of the following families were found: SimHei\n",
      "findfont: Generic family 'sans-serif' not found because none of the following families were found: SimHei\n",
      "findfont: Generic family 'sans-serif' not found because none of the following families were found: SimHei\n",
      "findfont: Generic family 'sans-serif' not found because none of the following families were found: SimHei\n",
      "findfont: Generic family 'sans-serif' not found because none of the following families were found: SimHei\n",
      "findfont: Generic family 'sans-serif' not found because none of the following families were found: SimHei\n",
      "findfont: Generic family 'sans-serif' not found because none of the following families were found: SimHei\n",
      "findfont: Generic family 'sans-serif' not found because none of the following families were found: SimHei\n",
      "findfont: Generic family 'sans-serif' not found because none of the following families were found: SimHei\n",
      "findfont: Generic family 'sans-serif' not found because none of the following families were found: SimHei\n",
      "findfont: Generic family 'sans-serif' not found because none of the following families were found: SimHei\n",
      "findfont: Generic family 'sans-serif' not found because none of the following families were found: SimHei\n",
      "findfont: Generic family 'sans-serif' not found because none of the following families were found: SimHei\n"
     ]
    },
    {
     "name": "stderr",
     "output_type": "stream",
     "text": [
      "/Users/bindu/miniforge3/envs/mlo/lib/python3.10/site-packages/IPython/core/pylabtools.py:170: UserWarning: Glyph 21435 (\\N{CJK UNIFIED IDEOGRAPH-53BB}) missing from font(s) DejaVu Sans.\n",
      "  fig.canvas.print_figure(bytes_io, **kw)\n",
      "/Users/bindu/miniforge3/envs/mlo/lib/python3.10/site-packages/IPython/core/pylabtools.py:170: UserWarning: Glyph 25481 (\\N{CJK UNIFIED IDEOGRAPH-6389}) missing from font(s) DejaVu Sans.\n",
      "  fig.canvas.print_figure(bytes_io, **kw)\n",
      "/Users/bindu/miniforge3/envs/mlo/lib/python3.10/site-packages/IPython/core/pylabtools.py:170: UserWarning: Glyph 20572 (\\N{CJK UNIFIED IDEOGRAPH-505C}) missing from font(s) DejaVu Sans.\n",
      "  fig.canvas.print_figure(bytes_io, **kw)\n",
      "/Users/bindu/miniforge3/envs/mlo/lib/python3.10/site-packages/IPython/core/pylabtools.py:170: UserWarning: Glyph 29992 (\\N{CJK UNIFIED IDEOGRAPH-7528}) missing from font(s) DejaVu Sans.\n",
      "  fig.canvas.print_figure(bytes_io, **kw)\n",
      "/Users/bindu/miniforge3/envs/mlo/lib/python3.10/site-packages/IPython/core/pylabtools.py:170: UserWarning: Glyph 35789 (\\N{CJK UNIFIED IDEOGRAPH-8BCD}) missing from font(s) DejaVu Sans.\n",
      "  fig.canvas.print_figure(bytes_io, **kw)\n",
      "/Users/bindu/miniforge3/envs/mlo/lib/python3.10/site-packages/IPython/core/pylabtools.py:170: UserWarning: Glyph 21518 (\\N{CJK UNIFIED IDEOGRAPH-540E}) missing from font(s) DejaVu Sans.\n",
      "  fig.canvas.print_figure(bytes_io, **kw)\n",
      "/Users/bindu/miniforge3/envs/mlo/lib/python3.10/site-packages/IPython/core/pylabtools.py:170: UserWarning: Glyph 65292 (\\N{FULLWIDTH COMMA}) missing from font(s) DejaVu Sans.\n",
      "  fig.canvas.print_figure(bytes_io, **kw)\n",
      "/Users/bindu/miniforge3/envs/mlo/lib/python3.10/site-packages/IPython/core/pylabtools.py:170: UserWarning: Glyph 37202 (\\N{CJK UNIFIED IDEOGRAPH-9152}) missing from font(s) DejaVu Sans.\n",
      "  fig.canvas.print_figure(bytes_io, **kw)\n",
      "/Users/bindu/miniforge3/envs/mlo/lib/python3.10/site-packages/IPython/core/pylabtools.py:170: UserWarning: Glyph 24215 (\\N{CJK UNIFIED IDEOGRAPH-5E97}) missing from font(s) DejaVu Sans.\n",
      "  fig.canvas.print_figure(bytes_io, **kw)\n",
      "/Users/bindu/miniforge3/envs/mlo/lib/python3.10/site-packages/IPython/core/pylabtools.py:170: UserWarning: Glyph 25551 (\\N{CJK UNIFIED IDEOGRAPH-63CF}) missing from font(s) DejaVu Sans.\n",
      "  fig.canvas.print_figure(bytes_io, **kw)\n",
      "/Users/bindu/miniforge3/envs/mlo/lib/python3.10/site-packages/IPython/core/pylabtools.py:170: UserWarning: Glyph 36848 (\\N{CJK UNIFIED IDEOGRAPH-8FF0}) missing from font(s) DejaVu Sans.\n",
      "  fig.canvas.print_figure(bytes_io, **kw)\n",
      "/Users/bindu/miniforge3/envs/mlo/lib/python3.10/site-packages/IPython/core/pylabtools.py:170: UserWarning: Glyph 20013 (\\N{CJK UNIFIED IDEOGRAPH-4E2D}) missing from font(s) DejaVu Sans.\n",
      "  fig.canvas.print_figure(bytes_io, **kw)\n",
      "/Users/bindu/miniforge3/envs/mlo/lib/python3.10/site-packages/IPython/core/pylabtools.py:170: UserWarning: Glyph 30340 (\\N{CJK UNIFIED IDEOGRAPH-7684}) missing from font(s) DejaVu Sans.\n",
      "  fig.canvas.print_figure(bytes_io, **kw)\n",
      "/Users/bindu/miniforge3/envs/mlo/lib/python3.10/site-packages/IPython/core/pylabtools.py:170: UserWarning: Glyph 21333 (\\N{CJK UNIFIED IDEOGRAPH-5355}) missing from font(s) DejaVu Sans.\n",
      "  fig.canvas.print_figure(bytes_io, **kw)\n",
      "findfont: Generic family 'sans-serif' not found because none of the following families were found: SimHei\n",
      "findfont: Generic family 'sans-serif' not found because none of the following families were found: SimHei\n",
      "findfont: Generic family 'sans-serif' not found because none of the following families were found: SimHei\n",
      "findfont: Generic family 'sans-serif' not found because none of the following families were found: SimHei\n",
      "findfont: Generic family 'sans-serif' not found because none of the following families were found: SimHei\n",
      "findfont: Generic family 'sans-serif' not found because none of the following families were found: SimHei\n",
      "findfont: Generic family 'sans-serif' not found because none of the following families were found: SimHei\n",
      "findfont: Generic family 'sans-serif' not found because none of the following families were found: SimHei\n",
      "findfont: Generic family 'sans-serif' not found because none of the following families were found: SimHei\n",
      "findfont: Generic family 'sans-serif' not found because none of the following families were found: SimHei\n",
      "findfont: Generic family 'sans-serif' not found because none of the following families were found: SimHei\n",
      "findfont: Generic family 'sans-serif' not found because none of the following families were found: SimHei\n",
      "findfont: Generic family 'sans-serif' not found because none of the following families were found: SimHei\n",
      "findfont: Generic family 'sans-serif' not found because none of the following families were found: SimHei\n",
      "findfont: Generic family 'sans-serif' not found because none of the following families were found: SimHei\n",
      "findfont: Generic family 'sans-serif' not found because none of the following families were found: SimHei\n",
      "findfont: Generic family 'sans-serif' not found because none of the following families were found: SimHei\n",
      "findfont: Generic family 'sans-serif' not found because none of the following families were found: SimHei\n",
      "findfont: Generic family 'sans-serif' not found because none of the following families were found: SimHei\n",
      "findfont: Generic family 'sans-serif' not found because none of the following families were found: SimHei\n",
      "findfont: Generic family 'sans-serif' not found because none of the following families were found: SimHei\n",
      "findfont: Generic family 'sans-serif' not found because none of the following families were found: SimHei\n",
      "findfont: Generic family 'sans-serif' not found because none of the following families were found: SimHei\n",
      "findfont: Generic family 'sans-serif' not found because none of the following families were found: SimHei\n",
      "findfont: Generic family 'sans-serif' not found because none of the following families were found: SimHei\n",
      "findfont: Generic family 'sans-serif' not found because none of the following families were found: SimHei\n",
      "findfont: Generic family 'sans-serif' not found because none of the following families were found: SimHei\n",
      "findfont: Generic family 'sans-serif' not found because none of the following families were found: SimHei\n",
      "findfont: Generic family 'sans-serif' not found because none of the following families were found: SimHei\n",
      "findfont: Generic family 'sans-serif' not found because none of the following families were found: SimHei\n",
      "findfont: Generic family 'sans-serif' not found because none of the following families were found: SimHei\n",
      "findfont: Generic family 'sans-serif' not found because none of the following families were found: SimHei\n",
      "findfont: Generic family 'sans-serif' not found because none of the following families were found: SimHei\n",
      "findfont: Generic family 'sans-serif' not found because none of the following families were found: SimHei\n",
      "findfont: Generic family 'sans-serif' not found because none of the following families were found: SimHei\n",
      "findfont: Generic family 'sans-serif' not found because none of the following families were found: SimHei\n",
      "findfont: Generic family 'sans-serif' not found because none of the following families were found: SimHei\n",
      "findfont: Generic family 'sans-serif' not found because none of the following families were found: SimHei\n",
      "findfont: Generic family 'sans-serif' not found because none of the following families were found: SimHei\n",
      "findfont: Generic family 'sans-serif' not found because none of the following families were found: SimHei\n",
      "findfont: Generic family 'sans-serif' not found because none of the following families were found: SimHei\n",
      "findfont: Generic family 'sans-serif' not found because none of the following families were found: SimHei\n",
      "findfont: Generic family 'sans-serif' not found because none of the following families were found: SimHei\n",
      "findfont: Generic family 'sans-serif' not found because none of the following families were found: SimHei\n",
      "findfont: Generic family 'sans-serif' not found because none of the following families were found: SimHei\n",
      "findfont: Generic family 'sans-serif' not found because none of the following families were found: SimHei\n",
      "findfont: Generic family 'sans-serif' not found because none of the following families were found: SimHei\n",
      "findfont: Generic family 'sans-serif' not found because none of the following families were found: SimHei\n",
      "findfont: Generic family 'sans-serif' not found because none of the following families were found: SimHei\n",
      "findfont: Generic family 'sans-serif' not found because none of the following families were found: SimHei\n",
      "findfont: Generic family 'sans-serif' not found because none of the following families were found: SimHei\n",
      "findfont: Generic family 'sans-serif' not found because none of the following families were found: SimHei\n",
      "findfont: Generic family 'sans-serif' not found because none of the following families were found: SimHei\n",
      "findfont: Generic family 'sans-serif' not found because none of the following families were found: SimHei\n",
      "findfont: Generic family 'sans-serif' not found because none of the following families were found: SimHei\n",
      "findfont: Generic family 'sans-serif' not found because none of the following families were found: SimHei\n",
      "findfont: Generic family 'sans-serif' not found because none of the following families were found: SimHei\n",
      "findfont: Generic family 'sans-serif' not found because none of the following families were found: SimHei\n",
      "findfont: Generic family 'sans-serif' not found because none of the following families were found: SimHei\n",
      "findfont: Generic family 'sans-serif' not found because none of the following families were found: SimHei\n",
      "findfont: Generic family 'sans-serif' not found because none of the following families were found: SimHei\n",
      "findfont: Generic family 'sans-serif' not found because none of the following families were found: SimHei\n",
      "findfont: Generic family 'sans-serif' not found because none of the following families were found: SimHei\n",
      "findfont: Generic family 'sans-serif' not found because none of the following families were found: SimHei\n"
     ]
    },
    {
     "data": {
      "image/png": "[encoded data removed]",
      "text/plain": [
       "<Figure size 640x480 with 1 Axes>"
      ]
     },
     "metadata": {},
     "output_type": "display_data"
    }
   ],
   "source": [
    "# 得到酒店描述中 n-gram 特征中的 Top-K\n",
    "def get_top_n_words(corpus, n=1, k=None):\n",
    "    # 统计 ngram 词频矩阵\n",
    "    vec = CountVectorizer(ngram_range=(n, n), stop_words='english').fit(corpus)\n",
    "    bag_of_words = vec.transform(corpus)\n",
    "    sum_words = bag_of_words.sum(axis=0)\n",
    "    words_freq = [(word, sum_words[0, idx]) for word, idx in vec.vocabulary_.items()]\n",
    "\n",
    "    # 按照词频从大到小进行排序\n",
    "    words_freq = sorted(words_freq, key=lambda x:x[1], reverse=True)\n",
    "    return words_freq[:k]\n",
    "\n",
    "common_words = get_top_n_words(df['desc'], 1, 20)\n",
    "df1 = pd.DataFrame(common_words, columns=['desc', 'count'])\n",
    "df1.groupby('desc').sum()['count'].sort_values().plot(kind='barh', title='去掉停用词后，酒店描述中的 Top20 单词')\n",
    "\n",
    "plt.show()"
   ]
  },
  {
   "cell_type": "code",
   "execution_count": 7,
   "metadata": {},
   "outputs": [
    {
     "name": "stderr",
     "output_type": "stream",
     "text": [
      "findfont: Generic family 'sans-serif' not found because none of the following families were found: SimHei\n",
      "findfont: Generic family 'sans-serif' not found because none of the following families were found: SimHei\n",
      "findfont: Generic family 'sans-serif' not found because none of the following families were found: SimHei\n",
      "findfont: Generic family 'sans-serif' not found because none of the following families were found: SimHei\n",
      "findfont: Generic family 'sans-serif' not found because none of the following families were found: SimHei\n",
      "findfont: Generic family 'sans-serif' not found because none of the following families were found: SimHei\n",
      "findfont: Generic family 'sans-serif' not found because none of the following families were found: SimHei\n",
      "findfont: Generic family 'sans-serif' not found because none of the following families were found: SimHei\n",
      "findfont: Generic family 'sans-serif' not found because none of the following families were found: SimHei\n",
      "findfont: Generic family 'sans-serif' not found because none of the following families were found: SimHei\n",
      "findfont: Generic family 'sans-serif' not found because none of the following families were found: SimHei\n",
      "findfont: Generic family 'sans-serif' not found because none of the following families were found: SimHei\n",
      "findfont: Generic family 'sans-serif' not found because none of the following families were found: SimHei\n",
      "findfont: Generic family 'sans-serif' not found because none of the following families were found: SimHei\n",
      "findfont: Generic family 'sans-serif' not found because none of the following families were found: SimHei\n",
      "findfont: Generic family 'sans-serif' not found because none of the following families were found: SimHei\n",
      "findfont: Generic family 'sans-serif' not found because none of the following families were found: SimHei\n",
      "findfont: Generic family 'sans-serif' not found because none of the following families were found: SimHei\n",
      "findfont: Generic family 'sans-serif' not found because none of the following families were found: SimHei\n",
      "findfont: Generic family 'sans-serif' not found because none of the following families were found: SimHei\n",
      "findfont: Generic family 'sans-serif' not found because none of the following families were found: SimHei\n",
      "findfont: Generic family 'sans-serif' not found because none of the following families were found: SimHei\n",
      "findfont: Generic family 'sans-serif' not found because none of the following families were found: SimHei\n",
      "findfont: Generic family 'sans-serif' not found because none of the following families were found: SimHei\n",
      "/Users/bindu/miniforge3/envs/mlo/lib/python3.10/site-packages/IPython/core/pylabtools.py:170: UserWarning: Glyph 21435 (\\N{CJK UNIFIED IDEOGRAPH-53BB}) missing from font(s) DejaVu Sans.\n",
      "  fig.canvas.print_figure(bytes_io, **kw)\n",
      "/Users/bindu/miniforge3/envs/mlo/lib/python3.10/site-packages/IPython/core/pylabtools.py:170: UserWarning: Glyph 25481 (\\N{CJK UNIFIED IDEOGRAPH-6389}) missing from font(s) DejaVu Sans.\n",
      "  fig.canvas.print_figure(bytes_io, **kw)\n",
      "/Users/bindu/miniforge3/envs/mlo/lib/python3.10/site-packages/IPython/core/pylabtools.py:170: UserWarning: Glyph 20572 (\\N{CJK UNIFIED IDEOGRAPH-505C}) missing from font(s) DejaVu Sans.\n",
      "  fig.canvas.print_figure(bytes_io, **kw)\n",
      "/Users/bindu/miniforge3/envs/mlo/lib/python3.10/site-packages/IPython/core/pylabtools.py:170: UserWarning: Glyph 29992 (\\N{CJK UNIFIED IDEOGRAPH-7528}) missing from font(s) DejaVu Sans.\n",
      "  fig.canvas.print_figure(bytes_io, **kw)\n",
      "/Users/bindu/miniforge3/envs/mlo/lib/python3.10/site-packages/IPython/core/pylabtools.py:170: UserWarning: Glyph 35789 (\\N{CJK UNIFIED IDEOGRAPH-8BCD}) missing from font(s) DejaVu Sans.\n",
      "  fig.canvas.print_figure(bytes_io, **kw)\n",
      "/Users/bindu/miniforge3/envs/mlo/lib/python3.10/site-packages/IPython/core/pylabtools.py:170: UserWarning: Glyph 21518 (\\N{CJK UNIFIED IDEOGRAPH-540E}) missing from font(s) DejaVu Sans.\n",
      "  fig.canvas.print_figure(bytes_io, **kw)\n",
      "/Users/bindu/miniforge3/envs/mlo/lib/python3.10/site-packages/IPython/core/pylabtools.py:170: UserWarning: Glyph 65292 (\\N{FULLWIDTH COMMA}) missing from font(s) DejaVu Sans.\n",
      "  fig.canvas.print_figure(bytes_io, **kw)\n",
      "/Users/bindu/miniforge3/envs/mlo/lib/python3.10/site-packages/IPython/core/pylabtools.py:170: UserWarning: Glyph 37202 (\\N{CJK UNIFIED IDEOGRAPH-9152}) missing from font(s) DejaVu Sans.\n",
      "  fig.canvas.print_figure(bytes_io, **kw)\n",
      "/Users/bindu/miniforge3/envs/mlo/lib/python3.10/site-packages/IPython/core/pylabtools.py:170: UserWarning: Glyph 24215 (\\N{CJK UNIFIED IDEOGRAPH-5E97}) missing from font(s) DejaVu Sans.\n",
      "  fig.canvas.print_figure(bytes_io, **kw)\n",
      "/Users/bindu/miniforge3/envs/mlo/lib/python3.10/site-packages/IPython/core/pylabtools.py:170: UserWarning: Glyph 25551 (\\N{CJK UNIFIED IDEOGRAPH-63CF}) missing from font(s) DejaVu Sans.\n",
      "  fig.canvas.print_figure(bytes_io, **kw)\n",
      "/Users/bindu/miniforge3/envs/mlo/lib/python3.10/site-packages/IPython/core/pylabtools.py:170: UserWarning: Glyph 36848 (\\N{CJK UNIFIED IDEOGRAPH-8FF0}) missing from font(s) DejaVu Sans.\n",
      "  fig.canvas.print_figure(bytes_io, **kw)\n",
      "/Users/bindu/miniforge3/envs/mlo/lib/python3.10/site-packages/IPython/core/pylabtools.py:170: UserWarning: Glyph 20013 (\\N{CJK UNIFIED IDEOGRAPH-4E2D}) missing from font(s) DejaVu Sans.\n",
      "  fig.canvas.print_figure(bytes_io, **kw)\n",
      "/Users/bindu/miniforge3/envs/mlo/lib/python3.10/site-packages/IPython/core/pylabtools.py:170: UserWarning: Glyph 30340 (\\N{CJK UNIFIED IDEOGRAPH-7684}) missing from font(s) DejaVu Sans.\n",
      "  fig.canvas.print_figure(bytes_io, **kw)\n",
      "/Users/bindu/miniforge3/envs/mlo/lib/python3.10/site-packages/IPython/core/pylabtools.py:170: UserWarning: Glyph 21333 (\\N{CJK UNIFIED IDEOGRAPH-5355}) missing from font(s) DejaVu Sans.\n",
      "  fig.canvas.print_figure(bytes_io, **kw)\n",
      "findfont: Generic family 'sans-serif' not found because none of the following families were found: SimHei\n",
      "findfont: Generic family 'sans-serif' not found because none of the following families were found: SimHei\n",
      "findfont: Generic family 'sans-serif' not found because none of the following families were found: SimHei\n",
      "findfont: Generic family 'sans-serif' not found because none of the following families were found: SimHei\n",
      "findfont: Generic family 'sans-serif' not found because none of the following families were found: SimHei\n",
      "findfont: Generic family 'sans-serif' not found because none of the following families were found: SimHei\n",
      "findfont: Generic family 'sans-serif' not found because none of the following families were found: SimHei\n",
      "findfont: Generic family 'sans-serif' not found because none of the following families were found: SimHei\n",
      "findfont: Generic family 'sans-serif' not found because none of the following families were found: SimHei\n",
      "findfont: Generic family 'sans-serif' not found because none of the following families were found: SimHei\n",
      "findfont: Generic family 'sans-serif' not found because none of the following families were found: SimHei\n",
      "findfont: Generic family 'sans-serif' not found because none of the following families were found: SimHei\n",
      "findfont: Generic family 'sans-serif' not found because none of the following families were found: SimHei\n",
      "findfont: Generic family 'sans-serif' not found because none of the following families were found: SimHei\n",
      "findfont: Generic family 'sans-serif' not found because none of the following families were found: SimHei\n",
      "findfont: Generic family 'sans-serif' not found because none of the following families were found: SimHei\n",
      "findfont: Generic family 'sans-serif' not found because none of the following families were found: SimHei\n",
      "findfont: Generic family 'sans-serif' not found because none of the following families were found: SimHei\n",
      "findfont: Generic family 'sans-serif' not found because none of the following families were found: SimHei\n",
      "findfont: Generic family 'sans-serif' not found because none of the following families were found: SimHei\n",
      "findfont: Generic family 'sans-serif' not found because none of the following families were found: SimHei\n",
      "findfont: Generic family 'sans-serif' not found because none of the following families were found: SimHei\n",
      "findfont: Generic family 'sans-serif' not found because none of the following families were found: SimHei\n",
      "findfont: Generic family 'sans-serif' not found because none of the following families were found: SimHei\n",
      "findfont: Generic family 'sans-serif' not found because none of the following families were found: SimHei\n",
      "findfont: Generic family 'sans-serif' not found because none of the following families were found: SimHei\n",
      "findfont: Generic family 'sans-serif' not found because none of the following families were found: SimHei\n",
      "findfont: Generic family 'sans-serif' not found because none of the following families were found: SimHei\n",
      "findfont: Generic family 'sans-serif' not found because none of the following families were found: SimHei\n",
      "findfont: Generic family 'sans-serif' not found because none of the following families were found: SimHei\n",
      "findfont: Generic family 'sans-serif' not found because none of the following families were found: SimHei\n",
      "findfont: Generic family 'sans-serif' not found because none of the following families were found: SimHei\n",
      "findfont: Generic family 'sans-serif' not found because none of the following families were found: SimHei\n",
      "findfont: Generic family 'sans-serif' not found because none of the following families were found: SimHei\n",
      "findfont: Generic family 'sans-serif' not found because none of the following families were found: SimHei\n",
      "findfont: Generic family 'sans-serif' not found because none of the following families were found: SimHei\n",
      "findfont: Generic family 'sans-serif' not found because none of the following families were found: SimHei\n",
      "findfont: Generic family 'sans-serif' not found because none of the following families were found: SimHei\n",
      "findfont: Generic family 'sans-serif' not found because none of the following families were found: SimHei\n",
      "findfont: Generic family 'sans-serif' not found because none of the following families were found: SimHei\n",
      "findfont: Generic family 'sans-serif' not found because none of the following families were found: SimHei\n",
      "findfont: Generic family 'sans-serif' not found because none of the following families were found: SimHei\n",
      "findfont: Generic family 'sans-serif' not found because none of the following families were found: SimHei\n",
      "findfont: Generic family 'sans-serif' not found because none of the following families were found: SimHei\n",
      "findfont: Generic family 'sans-serif' not found because none of the following families were found: SimHei\n",
      "findfont: Generic family 'sans-serif' not found because none of the following families were found: SimHei\n",
      "findfont: Generic family 'sans-serif' not found because none of the following families were found: SimHei\n",
      "findfont: Generic family 'sans-serif' not found because none of the following families were found: SimHei\n",
      "findfont: Generic family 'sans-serif' not found because none of the following families were found: SimHei\n",
      "findfont: Generic family 'sans-serif' not found because none of the following families were found: SimHei\n",
      "findfont: Generic family 'sans-serif' not found because none of the following families were found: SimHei\n",
      "findfont: Generic family 'sans-serif' not found because none of the following families were found: SimHei\n",
      "findfont: Generic family 'sans-serif' not found because none of the following families were found: SimHei\n",
      "findfont: Generic family 'sans-serif' not found because none of the following families were found: SimHei\n",
      "findfont: Generic family 'sans-serif' not found because none of the following families were found: SimHei\n",
      "findfont: Generic family 'sans-serif' not found because none of the following families were found: SimHei\n",
      "findfont: Generic family 'sans-serif' not found because none of the following families were found: SimHei\n",
      "findfont: Generic family 'sans-serif' not found because none of the following families were found: SimHei\n",
      "findfont: Generic family 'sans-serif' not found because none of the following families were found: SimHei\n",
      "findfont: Generic family 'sans-serif' not found because none of the following families were found: SimHei\n",
      "findfont: Generic family 'sans-serif' not found because none of the following families were found: SimHei\n"
     ]
    },
    {
     "data": {
      "image/png": "[encoded data removed]",
      "text/plain": [
       "<Figure size 640x480 with 1 Axes>"
      ]
     },
     "metadata": {},
     "output_type": "display_data"
    }
   ],
   "source": [
    "common_words = get_top_n_words(df['desc'], 2, 20)\n",
    "df1 = pd.DataFrame(common_words, columns=['desc', 'count'])\n",
    "df1.groupby('desc').sum()['count'].sort_values().plot(kind='barh', title='去掉停用词后，酒店描述中的 Top20 单词')\n",
    "\n",
    "plt.show()"
   ]
  },
  {
   "cell_type": "code",
   "execution_count": 8,
   "metadata": {},
   "outputs": [
    {
     "name": "stderr",
     "output_type": "stream",
     "text": [
      "findfont: Generic family 'sans-serif' not found because none of the following families were found: SimHei\n",
      "findfont: Generic family 'sans-serif' not found because none of the following families were found: SimHei\n",
      "findfont: Generic family 'sans-serif' not found because none of the following families were found: SimHei\n",
      "findfont: Generic family 'sans-serif' not found because none of the following families were found: SimHei\n",
      "findfont: Generic family 'sans-serif' not found because none of the following families were found: SimHei\n",
      "findfont: Generic family 'sans-serif' not found because none of the following families were found: SimHei\n",
      "findfont: Generic family 'sans-serif' not found because none of the following families were found: SimHei\n",
      "findfont: Generic family 'sans-serif' not found because none of the following families were found: SimHei\n",
      "findfont: Generic family 'sans-serif' not found because none of the following families were found: SimHei\n",
      "findfont: Generic family 'sans-serif' not found because none of the following families were found: SimHei\n",
      "findfont: Generic family 'sans-serif' not found because none of the following families were found: SimHei\n",
      "findfont: Generic family 'sans-serif' not found because none of the following families were found: SimHei\n",
      "findfont: Generic family 'sans-serif' not found because none of the following families were found: SimHei\n",
      "findfont: Generic family 'sans-serif' not found because none of the following families were found: SimHei\n",
      "findfont: Generic family 'sans-serif' not found because none of the following families were found: SimHei\n",
      "findfont: Generic family 'sans-serif' not found because none of the following families were found: SimHei\n",
      "findfont: Generic family 'sans-serif' not found because none of the following families were found: SimHei\n",
      "findfont: Generic family 'sans-serif' not found because none of the following families were found: SimHei\n",
      "findfont: Generic family 'sans-serif' not found because none of the following families were found: SimHei\n",
      "findfont: Generic family 'sans-serif' not found because none of the following families were found: SimHei\n",
      "findfont: Generic family 'sans-serif' not found because none of the following families were found: SimHei\n",
      "findfont: Generic family 'sans-serif' not found because none of the following families were found: SimHei\n",
      "findfont: Generic family 'sans-serif' not found because none of the following families were found: SimHei\n",
      "findfont: Generic family 'sans-serif' not found because none of the following families were found: SimHei\n",
      "/Users/bindu/miniforge3/envs/mlo/lib/python3.10/site-packages/IPython/core/pylabtools.py:170: UserWarning: Glyph 21435 (\\N{CJK UNIFIED IDEOGRAPH-53BB}) missing from font(s) DejaVu Sans.\n",
      "  fig.canvas.print_figure(bytes_io, **kw)\n",
      "/Users/bindu/miniforge3/envs/mlo/lib/python3.10/site-packages/IPython/core/pylabtools.py:170: UserWarning: Glyph 25481 (\\N{CJK UNIFIED IDEOGRAPH-6389}) missing from font(s) DejaVu Sans.\n",
      "  fig.canvas.print_figure(bytes_io, **kw)\n",
      "/Users/bindu/miniforge3/envs/mlo/lib/python3.10/site-packages/IPython/core/pylabtools.py:170: UserWarning: Glyph 20572 (\\N{CJK UNIFIED IDEOGRAPH-505C}) missing from font(s) DejaVu Sans.\n",
      "  fig.canvas.print_figure(bytes_io, **kw)\n",
      "/Users/bindu/miniforge3/envs/mlo/lib/python3.10/site-packages/IPython/core/pylabtools.py:170: UserWarning: Glyph 29992 (\\N{CJK UNIFIED IDEOGRAPH-7528}) missing from font(s) DejaVu Sans.\n",
      "  fig.canvas.print_figure(bytes_io, **kw)\n",
      "/Users/bindu/miniforge3/envs/mlo/lib/python3.10/site-packages/IPython/core/pylabtools.py:170: UserWarning: Glyph 35789 (\\N{CJK UNIFIED IDEOGRAPH-8BCD}) missing from font(s) DejaVu Sans.\n",
      "  fig.canvas.print_figure(bytes_io, **kw)\n",
      "/Users/bindu/miniforge3/envs/mlo/lib/python3.10/site-packages/IPython/core/pylabtools.py:170: UserWarning: Glyph 21518 (\\N{CJK UNIFIED IDEOGRAPH-540E}) missing from font(s) DejaVu Sans.\n",
      "  fig.canvas.print_figure(bytes_io, **kw)\n",
      "/Users/bindu/miniforge3/envs/mlo/lib/python3.10/site-packages/IPython/core/pylabtools.py:170: UserWarning: Glyph 65292 (\\N{FULLWIDTH COMMA}) missing from font(s) DejaVu Sans.\n",
      "  fig.canvas.print_figure(bytes_io, **kw)\n",
      "/Users/bindu/miniforge3/envs/mlo/lib/python3.10/site-packages/IPython/core/pylabtools.py:170: UserWarning: Glyph 37202 (\\N{CJK UNIFIED IDEOGRAPH-9152}) missing from font(s) DejaVu Sans.\n",
      "  fig.canvas.print_figure(bytes_io, **kw)\n",
      "/Users/bindu/miniforge3/envs/mlo/lib/python3.10/site-packages/IPython/core/pylabtools.py:170: UserWarning: Glyph 24215 (\\N{CJK UNIFIED IDEOGRAPH-5E97}) missing from font(s) DejaVu Sans.\n",
      "  fig.canvas.print_figure(bytes_io, **kw)\n",
      "/Users/bindu/miniforge3/envs/mlo/lib/python3.10/site-packages/IPython/core/pylabtools.py:170: UserWarning: Glyph 25551 (\\N{CJK UNIFIED IDEOGRAPH-63CF}) missing from font(s) DejaVu Sans.\n",
      "  fig.canvas.print_figure(bytes_io, **kw)\n",
      "/Users/bindu/miniforge3/envs/mlo/lib/python3.10/site-packages/IPython/core/pylabtools.py:170: UserWarning: Glyph 36848 (\\N{CJK UNIFIED IDEOGRAPH-8FF0}) missing from font(s) DejaVu Sans.\n",
      "  fig.canvas.print_figure(bytes_io, **kw)\n",
      "/Users/bindu/miniforge3/envs/mlo/lib/python3.10/site-packages/IPython/core/pylabtools.py:170: UserWarning: Glyph 20013 (\\N{CJK UNIFIED IDEOGRAPH-4E2D}) missing from font(s) DejaVu Sans.\n",
      "  fig.canvas.print_figure(bytes_io, **kw)\n",
      "/Users/bindu/miniforge3/envs/mlo/lib/python3.10/site-packages/IPython/core/pylabtools.py:170: UserWarning: Glyph 30340 (\\N{CJK UNIFIED IDEOGRAPH-7684}) missing from font(s) DejaVu Sans.\n",
      "  fig.canvas.print_figure(bytes_io, **kw)\n",
      "/Users/bindu/miniforge3/envs/mlo/lib/python3.10/site-packages/IPython/core/pylabtools.py:170: UserWarning: Glyph 21333 (\\N{CJK UNIFIED IDEOGRAPH-5355}) missing from font(s) DejaVu Sans.\n",
      "  fig.canvas.print_figure(bytes_io, **kw)\n",
      "findfont: Generic family 'sans-serif' not found because none of the following families were found: SimHei\n",
      "findfont: Generic family 'sans-serif' not found because none of the following families were found: SimHei\n",
      "findfont: Generic family 'sans-serif' not found because none of the following families were found: SimHei\n",
      "findfont: Generic family 'sans-serif' not found because none of the following families were found: SimHei\n",
      "findfont: Generic family 'sans-serif' not found because none of the following families were found: SimHei\n",
      "findfont: Generic family 'sans-serif' not found because none of the following families were found: SimHei\n",
      "findfont: Generic family 'sans-serif' not found because none of the following families were found: SimHei\n",
      "findfont: Generic family 'sans-serif' not found because none of the following families were found: SimHei\n",
      "findfont: Generic family 'sans-serif' not found because none of the following families were found: SimHei\n",
      "findfont: Generic family 'sans-serif' not found because none of the following families were found: SimHei\n",
      "findfont: Generic family 'sans-serif' not found because none of the following families were found: SimHei\n",
      "findfont: Generic family 'sans-serif' not found because none of the following families were found: SimHei\n",
      "findfont: Generic family 'sans-serif' not found because none of the following families were found: SimHei\n",
      "findfont: Generic family 'sans-serif' not found because none of the following families were found: SimHei\n",
      "findfont: Generic family 'sans-serif' not found because none of the following families were found: SimHei\n",
      "findfont: Generic family 'sans-serif' not found because none of the following families were found: SimHei\n",
      "findfont: Generic family 'sans-serif' not found because none of the following families were found: SimHei\n",
      "findfont: Generic family 'sans-serif' not found because none of the following families were found: SimHei\n",
      "findfont: Generic family 'sans-serif' not found because none of the following families were found: SimHei\n",
      "findfont: Generic family 'sans-serif' not found because none of the following families were found: SimHei\n",
      "findfont: Generic family 'sans-serif' not found because none of the following families were found: SimHei\n",
      "findfont: Generic family 'sans-serif' not found because none of the following families were found: SimHei\n",
      "findfont: Generic family 'sans-serif' not found because none of the following families were found: SimHei\n",
      "findfont: Generic family 'sans-serif' not found because none of the following families were found: SimHei\n",
      "findfont: Generic family 'sans-serif' not found because none of the following families were found: SimHei\n",
      "findfont: Generic family 'sans-serif' not found because none of the following families were found: SimHei\n",
      "findfont: Generic family 'sans-serif' not found because none of the following families were found: SimHei\n",
      "findfont: Generic family 'sans-serif' not found because none of the following families were found: SimHei\n",
      "findfont: Generic family 'sans-serif' not found because none of the following families were found: SimHei\n",
      "findfont: Generic family 'sans-serif' not found because none of the following families were found: SimHei\n",
      "findfont: Generic family 'sans-serif' not found because none of the following families were found: SimHei\n",
      "findfont: Generic family 'sans-serif' not found because none of the following families were found: SimHei\n",
      "findfont: Generic family 'sans-serif' not found because none of the following families were found: SimHei\n",
      "findfont: Generic family 'sans-serif' not found because none of the following families were found: SimHei\n",
      "findfont: Generic family 'sans-serif' not found because none of the following families were found: SimHei\n",
      "findfont: Generic family 'sans-serif' not found because none of the following families were found: SimHei\n",
      "findfont: Generic family 'sans-serif' not found because none of the following families were found: SimHei\n",
      "findfont: Generic family 'sans-serif' not found because none of the following families were found: SimHei\n",
      "findfont: Generic family 'sans-serif' not found because none of the following families were found: SimHei\n",
      "findfont: Generic family 'sans-serif' not found because none of the following families were found: SimHei\n",
      "findfont: Generic family 'sans-serif' not found because none of the following families were found: SimHei\n",
      "findfont: Generic family 'sans-serif' not found because none of the following families were found: SimHei\n",
      "findfont: Generic family 'sans-serif' not found because none of the following families were found: SimHei\n",
      "findfont: Generic family 'sans-serif' not found because none of the following families were found: SimHei\n",
      "findfont: Generic family 'sans-serif' not found because none of the following families were found: SimHei\n",
      "findfont: Generic family 'sans-serif' not found because none of the following families were found: SimHei\n",
      "findfont: Generic family 'sans-serif' not found because none of the following families were found: SimHei\n",
      "findfont: Generic family 'sans-serif' not found because none of the following families were found: SimHei\n",
      "findfont: Generic family 'sans-serif' not found because none of the following families were found: SimHei\n",
      "findfont: Generic family 'sans-serif' not found because none of the following families were found: SimHei\n",
      "findfont: Generic family 'sans-serif' not found because none of the following families were found: SimHei\n",
      "findfont: Generic family 'sans-serif' not found because none of the following families were found: SimHei\n",
      "findfont: Generic family 'sans-serif' not found because none of the following families were found: SimHei\n",
      "findfont: Generic family 'sans-serif' not found because none of the following families were found: SimHei\n",
      "findfont: Generic family 'sans-serif' not found because none of the following families were found: SimHei\n",
      "findfont: Generic family 'sans-serif' not found because none of the following families were found: SimHei\n",
      "findfont: Generic family 'sans-serif' not found because none of the following families were found: SimHei\n",
      "findfont: Generic family 'sans-serif' not found because none of the following families were found: SimHei\n",
      "findfont: Generic family 'sans-serif' not found because none of the following families were found: SimHei\n",
      "findfont: Generic family 'sans-serif' not found because none of the following families were found: SimHei\n",
      "findfont: Generic family 'sans-serif' not found because none of the following families were found: SimHei\n",
      "findfont: Generic family 'sans-serif' not found because none of the following families were found: SimHei\n",
      "findfont: Generic family 'sans-serif' not found because none of the following families were found: SimHei\n",
      "findfont: Generic family 'sans-serif' not found because none of the following families were found: SimHei\n",
      "findfont: Generic family 'sans-serif' not found because none of the following families were found: SimHei\n",
      "findfont: Generic family 'sans-serif' not found because none of the following families were found: SimHei\n",
      "findfont: Generic family 'sans-serif' not found because none of the following families were found: SimHei\n",
      "findfont: Generic family 'sans-serif' not found because none of the following families were found: SimHei\n",
      "findfont: Generic family 'sans-serif' not found because none of the following families were found: SimHei\n",
      "findfont: Generic family 'sans-serif' not found because none of the following families were found: SimHei\n",
      "findfont: Generic family 'sans-serif' not found because none of the following families were found: SimHei\n",
      "findfont: Generic family 'sans-serif' not found because none of the following families were found: SimHei\n",
      "findfont: Generic family 'sans-serif' not found because none of the following families were found: SimHei\n"
     ]
    },
    {
     "data": {
      "image/png": "[encoded data removed]",
      "text/plain": [
       "<Figure size 640x480 with 1 Axes>"
      ]
     },
     "metadata": {},
     "output_type": "display_data"
    }
   ],
   "source": [
    "common_words = get_top_n_words(df['desc'], 3, 20)\n",
    "df1 = pd.DataFrame(common_words, columns=['desc', 'count'])\n",
    "df1.groupby('desc').sum()['count'].sort_values().plot(kind='barh', title='去掉停用词后，酒店描述中的 Top20 单词')\n",
    "\n",
    "plt.show()"
   ]
  },
  {
   "cell_type": "markdown",
   "metadata": {},
   "source": [
    "### 进行推荐"
   ]
  },
  {
   "cell_type": "code",
   "execution_count": 9,
   "metadata": {},
   "outputs": [
    {
     "data": {
      "text/plain": [
       "{'a',\n",
       " 'about',\n",
       " 'above',\n",
       " 'after',\n",
       " 'again',\n",
       " 'against',\n",
       " 'ain',\n",
       " 'all',\n",
       " 'am',\n",
       " 'an',\n",
       " 'and',\n",
       " 'any',\n",
       " 'are',\n",
       " 'aren',\n",
       " \"aren't\",\n",
       " 'as',\n",
       " 'at',\n",
       " 'be',\n",
       " 'because',\n",
       " 'been',\n",
       " 'before',\n",
       " 'being',\n",
       " 'below',\n",
       " 'between',\n",
       " 'both',\n",
       " 'but',\n",
       " 'by',\n",
       " 'can',\n",
       " 'couldn',\n",
       " \"couldn't\",\n",
       " 'd',\n",
       " 'did',\n",
       " 'didn',\n",
       " \"didn't\",\n",
       " 'do',\n",
       " 'does',\n",
       " 'doesn',\n",
       " \"doesn't\",\n",
       " 'doing',\n",
       " 'don',\n",
       " \"don't\",\n",
       " 'down',\n",
       " 'during',\n",
       " 'each',\n",
       " 'few',\n",
       " 'for',\n",
       " 'from',\n",
       " 'further',\n",
       " 'had',\n",
       " 'hadn',\n",
       " \"hadn't\",\n",
       " 'has',\n",
       " 'hasn',\n",
       " \"hasn't\",\n",
       " 'have',\n",
       " 'haven',\n",
       " \"haven't\",\n",
       " 'having',\n",
       " 'he',\n",
       " \"he'd\",\n",
       " \"he'll\",\n",
       " \"he's\",\n",
       " 'her',\n",
       " 'here',\n",
       " 'hers',\n",
       " 'herself',\n",
       " 'him',\n",
       " 'himself',\n",
       " 'his',\n",
       " 'how',\n",
       " 'i',\n",
       " \"i'd\",\n",
       " \"i'll\",\n",
       " \"i'm\",\n",
       " \"i've\",\n",
       " 'if',\n",
       " 'in',\n",
       " 'into',\n",
       " 'is',\n",
       " 'isn',\n",
       " \"isn't\",\n",
       " 'it',\n",
       " \"it'd\",\n",
       " \"it'll\",\n",
       " \"it's\",\n",
       " 'its',\n",
       " 'itself',\n",
       " 'just',\n",
       " 'll',\n",
       " 'm',\n",
       " 'ma',\n",
       " 'me',\n",
       " 'mightn',\n",
       " \"mightn't\",\n",
       " 'more',\n",
       " 'most',\n",
       " 'mustn',\n",
       " \"mustn't\",\n",
       " 'my',\n",
       " 'myself',\n",
       " 'needn',\n",
       " \"needn't\",\n",
       " 'no',\n",
       " 'nor',\n",
       " 'not',\n",
       " 'now',\n",
       " 'o',\n",
       " 'of',\n",
       " 'off',\n",
       " 'on',\n",
       " 'once',\n",
       " 'only',\n",
       " 'or',\n",
       " 'other',\n",
       " 'our',\n",
       " 'ours',\n",
       " 'ourselves',\n",
       " 'out',\n",
       " 'over',\n",
       " 'own',\n",
       " 're',\n",
       " 's',\n",
       " 'same',\n",
       " 'shan',\n",
       " \"shan't\",\n",
       " 'she',\n",
       " \"she'd\",\n",
       " \"she'll\",\n",
       " \"she's\",\n",
       " 'should',\n",
       " \"should've\",\n",
       " 'shouldn',\n",
       " \"shouldn't\",\n",
       " 'so',\n",
       " 'some',\n",
       " 'such',\n",
       " 't',\n",
       " 'than',\n",
       " 'that',\n",
       " \"that'll\",\n",
       " 'the',\n",
       " 'their',\n",
       " 'theirs',\n",
       " 'them',\n",
       " 'themselves',\n",
       " 'then',\n",
       " 'there',\n",
       " 'these',\n",
       " 'they',\n",
       " \"they'd\",\n",
       " \"they'll\",\n",
       " \"they're\",\n",
       " \"they've\",\n",
       " 'this',\n",
       " 'those',\n",
       " 'through',\n",
       " 'to',\n",
       " 'too',\n",
       " 'under',\n",
       " 'until',\n",
       " 'up',\n",
       " 've',\n",
       " 'very',\n",
       " 'was',\n",
       " 'wasn',\n",
       " \"wasn't\",\n",
       " 'we',\n",
       " \"we'd\",\n",
       " \"we'll\",\n",
       " \"we're\",\n",
       " \"we've\",\n",
       " 'were',\n",
       " 'weren',\n",
       " \"weren't\",\n",
       " 'what',\n",
       " 'when',\n",
       " 'where',\n",
       " 'which',\n",
       " 'while',\n",
       " 'who',\n",
       " 'whom',\n",
       " 'why',\n",
       " 'will',\n",
       " 'with',\n",
       " 'won',\n",
       " \"won't\",\n",
       " 'wouldn',\n",
       " \"wouldn't\",\n",
       " 'y',\n",
       " 'you',\n",
       " \"you'd\",\n",
       " \"you'll\",\n",
       " \"you're\",\n",
       " \"you've\",\n",
       " 'your',\n",
       " 'yours',\n",
       " 'yourself',\n",
       " 'yourselves'}"
      ]
     },
     "execution_count": 9,
     "metadata": {},
     "output_type": "execute_result"
    }
   ],
   "source": [
    "# 加载停用词\n",
    "STOPWORDS = set(stopwords.words('english'))\n",
    "STOPWORDS"
   ]
  },
  {
   "cell_type": "code",
   "execution_count": 10,
   "metadata": {},
   "outputs": [],
   "source": [
    "# 文本预处理\n",
    "REPLACE_BY_SPACE_RE = re.compile('[/(){}\\[\\]\\|@,;]')\n",
    "BAD_SYMBOLS_RE = re.compile('[^0-9a-z #+_]')"
   ]
  },
  {
   "cell_type": "code",
   "execution_count": 11,
   "metadata": {},
   "outputs": [
    {
     "data": {
      "application/vnd.microsoft.datawrangler.viewer.v0+json": {
       "columns": [
        {
         "name": "index",
         "rawType": "int64",
         "type": "integer"
        },
        {
         "name": "desc_clean",
         "rawType": "object",
         "type": "string"
        }
       ],
       "ref": "d9fa82b3-430e-4d75-b384-393220b11a03",
       "rows": [
        [
         "0",
         "located southern tip lake union hilton garden inn seattle downtown hotel perfectly located business leisure neighborhood home numerous major international companies including amazon google bill melinda gates foundation wealth eclectic restaurants bars make area seattle one sought locals visitors proximity lake union allows visitors take pacific northwests majestic scenery enjoy outdoor activities like kayaking sailing 2 000 sq ft versatile space complimentary business center stateoftheart v technology helpful staff guarantee conference cocktail reception wedding success refresh sparkling saltwater pool energize latest equipment 24hour fitness center tastefully decorated flooded natural light guest rooms suites offer everything need relax stay productive unwind bar enjoy american cuisine breakfast lunch dinner restaurant 24hour pavilion pantry stocks variety snacks drinks sundries"
        ],
        [
         "1",
         "located citys vibrant core sheraton grand seattle provides gateway diverse sights sounds pacific northwest step front doors find gourmet dining bars worldclass shopping exciting entertainment iconic local attractions including pike place market space needle chihuly garden glass museum one seven sheraton hotels north america earn esteemed grand designation guests book confidently knowing theyre receiving highest benchmark product service offerings available experience recently completed multimilliondollar transformation featuring new guest rooms expanded sheraton club lounge modern meeting event spaces gather stylish new lobby enjoy private art collection featuring local artists enjoying favorite beverage starbucks sheraton grand features several dining options including loulay kitchen bar james beard award winning chef thierry rautureau"
        ],
        [
         "2",
         "located heart downtown seattle awardwinning crowne plaza hotel seattle downtown offers exceptional blend service style comfort youll notice cool comfortable unconventional touches set us apart soon step inside marvel stunning views city lights relaxing new sleep advantage beds enjoy complimentary wireless internet throughout hotel amenities help relax like temple spa sleep tight amenity kits featuring lavender spray lotions help rejuvenate unwind enjoy invigorating workout 24hour fitness center get dining suggestions expert concierge savor sumptuous cuisine regatta bar grille restaurant enjoy happy hour lounge daily 4pm 7pm monthly drink specials come experience emerald city offer us"
        ],
        [
         "3",
         "whats near hotel downtown seattle location better question might whats nearby addition one hotels near pike place market heres small sampling rest columbia center whose sky view observatory 73rd floor tallest public viewing area west mississippi historic 5th avenue theatre home musical productions seattle central library architectural marvel within half mile mustsee pike place market houses original starbucks pioneer square seattles original downtown seattle art museum fantastic shopping including flagship nordstrom nordstrom rack macys columbia sportswear louis vuitton arcteryx oodles independent boutiques great wheel washington state convention center within mile iconic space needle bell street pier cruise terminal pier 66 sports stadiums centurylink field safeco field home seattle seahawks seattle mariners seattle sounders"
        ],
        [
         "4",
         "situated amid incredible shopping iconic attractions westin seattle contemporary prime location relax recharge stylish accommodations modern comforts signature heavenly amenities gorgeous views seattle skyline puget sound lake union cascade mountain range experience newly renovated lobby including 1900 fifth new lobby bar offering carefully curated wine crafted cocktail experience explore spectacular collection celebrated attractions including space needle centurylink field washington state convention center pike place market seattle waterfront host unforgettable meetings social engagements 70 000 square feet event space enhanced expert planning custom catering refresh pool energize mind body sleek westinworkout fitness studio designed reflect style substance emerald city hotel welcoming near best downtown seattle"
        ]
       ],
       "shape": {
        "columns": 1,
        "rows": 5
       }
      },
      "text/plain": [
       "0    located southern tip lake union hilton garden ...\n",
       "1    located citys vibrant core sheraton grand seat...\n",
       "2    located heart downtown seattle awardwinning cr...\n",
       "3    whats near hotel downtown seattle location bet...\n",
       "4    situated amid incredible shopping iconic attra...\n",
       "Name: desc_clean, dtype: object"
      ]
     },
     "execution_count": 11,
     "metadata": {},
     "output_type": "execute_result"
    }
   ],
   "source": [
    "# 对文本进行清晰\n",
    "def clean_text(text):\n",
    "    # 全部小写\n",
    "    text = text.lower()\n",
    "    # 用空格替代一些特殊符号，如标点\n",
    "    text = REPLACE_BY_SPACE_RE.sub(' ', text)\n",
    "    # 移出 BAD_SYMBOLS_RE\n",
    "    text = BAD_SYMBOLS_RE.sub('', text)\n",
    "    # 从文本中去掉停用词\n",
    "    text = ' '.join(word for word in text.split() if word not in STOPWORDS )\n",
    "    return text\n",
    "\n",
    "df['desc_clean'] = df['desc'].apply(clean_text)\n",
    "df['desc_clean'].head()"
   ]
  },
  {
   "cell_type": "code",
   "execution_count": 12,
   "metadata": {},
   "outputs": [],
   "source": [
    "df.set_index('name', inplace=True)"
   ]
  },
  {
   "cell_type": "code",
   "execution_count": 13,
   "metadata": {},
   "outputs": [
    {
     "name": "stdout",
     "output_type": "stream",
     "text": [
      "TFIDF feature names: ['000' '000 sq' '000 sq ft' ... 'yummy' 'zones' 'zoo'],\n",
      " 个数: 3154\n"
     ]
    }
   ],
   "source": [
    "# 建模\n",
    "\n",
    "# ngram_range=(1, 3) 代表 1-gram + 2-gram + 3-gram\n",
    "tf = TfidfVectorizer(analyzer='word', ngram_range=(1, 3), min_df=0.01, stop_words='english')\n",
    "# 针对 desc_clean 提取 tfidf\n",
    "# fit_transform = fit + transform\n",
    "tfidf_matrix = tf.fit_transform(df['desc_clean'])\n",
    "print('TFIDF feature names: {},\\n 个数: {}'.format(tf.get_feature_names_out(), len(tf.get_feature_names_out())))"
   ]
  },
  {
   "cell_type": "code",
   "execution_count": 14,
   "metadata": {},
   "outputs": [
    {
     "name": "stdout",
     "output_type": "stream",
     "text": [
      "tfidf_matrix:   (0, 1625)\t0.0675674024366863\n",
      "  (0, 1539)\t0.12914025688521913\n",
      "  (0, 2918)\t0.13863600997729336\n",
      "  (0, 1290)\t0.07729044349327371\n",
      "  (0, 1146)\t0.07931838005978617\n",
      "  (0, 1463)\t0.05091325602038314\n",
      "  (0, 2389)\t0.0488370289889908\n",
      "  (0, 783)\t0.03378370121834315\n",
      "  (0, 1334)\t0.028492126044112425\n",
      "  (0, 2059)\t0.08690743468812835\n",
      "  (0, 402)\t0.08847898433132195\n",
      "  (0, 1565)\t0.06931800498864668\n",
      "  (0, 1910)\t0.05982225189657243\n",
      "  (0, 1307)\t0.051480682433109826\n",
      "  (0, 1686)\t0.07373599540001421\n",
      "  (0, 1482)\t0.05818473416407789\n",
      "  (0, 589)\t0.08690743468812835\n",
      "  (0, 1439)\t0.052063656694149744\n",
      "  (0, 152)\t0.06681190831132637\n",
      "  (0, 1168)\t0.09018733407575145\n",
      "  (0, 1775)\t0.0940666316769628\n",
      "  (0, 1148)\t0.09018733407575145\n",
      "  (0, 1062)\t0.0940666316769628\n",
      "  (0, 831)\t0.08156015992850298\n",
      "  (0, 2282)\t0.052663054907738\n",
      "  :\t:\n",
      "  (151, 13)\t0.10246415970664388\n",
      "  (151, 2894)\t0.11650263971349295\n",
      "  (151, 2821)\t0.10246415970664388\n",
      "  (151, 557)\t0.11090487719264122\n",
      "  (151, 1113)\t0.10246415970664388\n",
      "  (151, 2692)\t0.11650263971349295\n",
      "  (151, 1074)\t0.10633117218815537\n",
      "  (151, 2576)\t0.12371941077233464\n",
      "  (151, 336)\t0.11650263971349295\n",
      "  (151, 2587)\t0.12371941077233464\n",
      "  (151, 2054)\t0.11650263971349295\n",
      "  (151, 3152)\t0.12371941077233464\n",
      "  (151, 2548)\t0.12371941077233464\n",
      "  (151, 249)\t0.12371941077233464\n",
      "  (151, 2058)\t0.12371941077233464\n",
      "  (151, 2499)\t0.12371941077233464\n",
      "  (151, 3126)\t0.12371941077233464\n",
      "  (151, 1404)\t0.12371941077233464\n",
      "  (151, 879)\t0.12371941077233464\n",
      "  (151, 2215)\t0.12371941077233464\n",
      "  (151, 2202)\t0.12371941077233464\n",
      "  (151, 2308)\t0.12371941077233464\n",
      "  (151, 2363)\t0.12371941077233464\n",
      "  (151, 1751)\t0.12371941077233464\n",
      "  (151, 1519)\t0.12371941077233464\n"
     ]
    }
   ],
   "source": [
    "print('tfidf_matrix: {}'.format(tfidf_matrix))"
   ]
  },
  {
   "cell_type": "code",
   "execution_count": 15,
   "metadata": {},
   "outputs": [
    {
     "name": "stdout",
     "output_type": "stream",
     "text": [
      "(152, 3154)\n",
      "(152, 3154)\n"
     ]
    }
   ],
   "source": [
    "temp = tfidf_matrix.toarray()\n",
    "print(temp.shape)\n",
    "print(tfidf_matrix.shape)"
   ]
  },
  {
   "cell_type": "code",
   "execution_count": 16,
   "metadata": {},
   "outputs": [
    {
     "name": "stdout",
     "output_type": "stream",
     "text": [
      "[[1.         0.0391713  0.10519839 ... 0.04506191 0.01188579 0.02732358]\n",
      " [0.0391713  1.         0.06121291 ... 0.06131857 0.01508036 0.03706011]\n",
      " [0.10519839 0.06121291 1.         ... 0.09179925 0.04235642 0.05607314]\n",
      " ...\n",
      " [0.04506191 0.06131857 0.09179925 ... 1.         0.0579826  0.04145794]\n",
      " [0.01188579 0.01508036 0.04235642 ... 0.0579826  1.         0.0172546 ]\n",
      " [0.02732358 0.03706011 0.05607314 ... 0.04145794 0.0172546  1.        ]]\n",
      "(152, 152)\n"
     ]
    }
   ],
   "source": [
    "# 计算酒店之间的余弦相似度（线性核函数）\n",
    "cosine_similarities = linear_kernel(tfidf_matrix, tfidf_matrix)\n",
    "print(cosine_similarities)\n",
    "print(cosine_similarities.shape)"
   ]
  },
  {
   "cell_type": "code",
   "execution_count": 17,
   "metadata": {},
   "outputs": [
    {
     "data": {
      "application/vnd.microsoft.datawrangler.viewer.v0+json": {
       "columns": [
        {
         "name": "index",
         "rawType": "int64",
         "type": "integer"
        },
        {
         "name": "name",
         "rawType": "object",
         "type": "string"
        }
       ],
       "ref": "60005d52-1fc1-4cdb-884b-7f2d06a49c3a",
       "rows": [
        [
         "0",
         "Hilton Garden Seattle Downtown"
        ],
        [
         "1",
         "Sheraton Grand Seattle"
        ],
        [
         "2",
         "Crowne Plaza Seattle Downtown"
        ],
        [
         "3",
         "Kimpton Hotel Monaco Seattle "
        ],
        [
         "4",
         "The Westin Seattle"
        ],
        [
         "5",
         "The Paramount Hotel Seattle"
        ],
        [
         "6",
         "Hilton Seattle"
        ],
        [
         "7",
         "Motif Seattle"
        ],
        [
         "8",
         "Warwick Seattle"
        ],
        [
         "9",
         "Four Seasons Hotel Seattle"
        ],
        [
         "10",
         "W Seattle"
        ],
        [
         "11",
         "Gand Hyatt Seattle"
        ],
        [
         "12",
         "Kimpton Alexis Hotel"
        ],
        [
         "13",
         "Hotel Max"
        ],
        [
         "14",
         "Ace Hotel Seattle"
        ],
        [
         "15",
         "Seattle Marriott Waterfront"
        ],
        [
         "16",
         "The Edgewater Hotel Seattle"
        ],
        [
         "17",
         "SpringHill Suites Seattle Downtown"
        ],
        [
         "18",
         "Fairmont Olympic Hotel"
        ],
        [
         "19",
         "La Quinta Inn & Suites Seattle Downtown"
        ],
        [
         "20",
         "Embassy Suites by Hilton Seattle Downtown Pioneer Square"
        ],
        [
         "21",
         "Pan Pacific Seattle"
        ],
        [
         "22",
         "Kimpton Hotel Vintage Seattle"
        ],
        [
         "23",
         "Hyatt Place Seattle"
        ],
        [
         "24",
         "Hyatt House Seattle"
        ],
        [
         "25",
         "Inn at the Market"
        ],
        [
         "26",
         "Moxy Seattle Downtown"
        ],
        [
         "27",
         "Thompson Seattle"
        ],
        [
         "28",
         "Holiday Inn Seattle Downtown"
        ],
        [
         "29",
         "Executive Hotel Pacific"
        ],
        [
         "30",
         "Hotel Andra"
        ],
        [
         "31",
         "Residence Inn by Marriott Seattle Downtown/Convention Center"
        ],
        [
         "32",
         "Best Western Plus Pioneer Square Hotel Downtown"
        ],
        [
         "33",
         "Travelodge Seattle by The Space Needle"
        ],
        [
         "34",
         "Homewood Suites by Hilton Seattle Convention Center Pike Street"
        ],
        [
         "35",
         "Hyatt Regency Seattle"
        ],
        [
         "36",
         "Hotel Sorrento"
        ],
        [
         "37",
         "City Hostel Seattle"
        ],
        [
         "38",
         "Holiday Inn Express & Suites Seattle-City Center"
        ],
        [
         "39",
         "Staybridge Suites Seattle - Fremont"
        ],
        [
         "40",
         "Mayflower Park Hotel"
        ],
        [
         "41",
         "The Inn at El Gaucho"
        ],
        [
         "42",
         "Palihotel Seattle"
        ],
        [
         "43",
         "Courtyard by Marriott Seattle Downtown/Pioneer Square"
        ],
        [
         "44",
         "The Arctic Club Seattle - a DoubleTree by Hilton Hotel"
        ],
        [
         "45",
         "Sheraton Bellevue Hotel"
        ],
        [
         "46",
         "Inn at Queen Anne"
        ],
        [
         "47",
         "Aloft Seattle Redmond"
        ],
        [
         "48",
         "Seattle Airport Marriott"
        ],
        [
         "49",
         "Hilton Seattle Airport & Conference Center"
        ]
       ],
       "shape": {
        "columns": 1,
        "rows": 50
       }
      },
      "text/plain": [
       "0                        Hilton Garden Seattle Downtown\n",
       "1                                Sheraton Grand Seattle\n",
       "2                         Crowne Plaza Seattle Downtown\n",
       "3                         Kimpton Hotel Monaco Seattle \n",
       "4                                    The Westin Seattle\n",
       "5                           The Paramount Hotel Seattle\n",
       "6                                        Hilton Seattle\n",
       "7                                         Motif Seattle\n",
       "8                                       Warwick Seattle\n",
       "9                            Four Seasons Hotel Seattle\n",
       "10                                            W Seattle\n",
       "11                                   Gand Hyatt Seattle\n",
       "12                                 Kimpton Alexis Hotel\n",
       "13                                            Hotel Max\n",
       "14                                    Ace Hotel Seattle\n",
       "15                          Seattle Marriott Waterfront\n",
       "16                          The Edgewater Hotel Seattle\n",
       "17                   SpringHill Suites Seattle Downtown\n",
       "18                               Fairmont Olympic Hotel\n",
       "19              La Quinta Inn & Suites Seattle Downtown\n",
       "20    Embassy Suites by Hilton Seattle Downtown Pion...\n",
       "21                                  Pan Pacific Seattle\n",
       "22                        Kimpton Hotel Vintage Seattle\n",
       "23                                  Hyatt Place Seattle\n",
       "24                                  Hyatt House Seattle\n",
       "25                                    Inn at the Market\n",
       "26                                Moxy Seattle Downtown\n",
       "27                                     Thompson Seattle\n",
       "28                         Holiday Inn Seattle Downtown\n",
       "29                              Executive Hotel Pacific\n",
       "30                                          Hotel Andra\n",
       "31    Residence Inn by Marriott Seattle Downtown/Con...\n",
       "32      Best Western Plus Pioneer Square Hotel Downtown\n",
       "33               Travelodge Seattle by The Space Needle\n",
       "34    Homewood Suites by Hilton Seattle Convention C...\n",
       "35                                Hyatt Regency Seattle\n",
       "36                                       Hotel Sorrento\n",
       "37                                  City Hostel Seattle\n",
       "38     Holiday Inn Express & Suites Seattle-City Center\n",
       "39                  Staybridge Suites Seattle - Fremont\n",
       "40                                 Mayflower Park Hotel\n",
       "41                                 The Inn at El Gaucho\n",
       "42                                    Palihotel Seattle\n",
       "43    Courtyard by Marriott Seattle Downtown/Pioneer...\n",
       "44    The Arctic Club Seattle - a DoubleTree by Hilt...\n",
       "45                              Sheraton Bellevue Hotel\n",
       "46                                    Inn at Queen Anne\n",
       "47                                Aloft Seattle Redmond\n",
       "48                             Seattle Airport Marriott\n",
       "49           Hilton Seattle Airport & Conference Center\n",
       "Name: name, dtype: object"
      ]
     },
     "execution_count": 17,
     "metadata": {},
     "output_type": "execute_result"
    }
   ],
   "source": [
    "indices = pd.Series(df.index) # df.index 是酒店名称\n",
    "indices[:50]"
   ]
  },
  {
   "cell_type": "code",
   "execution_count": 18,
   "metadata": {},
   "outputs": [],
   "source": [
    "# 基于相似度矩阵和指定的酒店 name，推荐 TOP10 酒店\n",
    "def recommendations(name, cosine_similarities = cosine_similarities):\n",
    "    recommended_hotels = []\n",
    "\n",
    "    # 找到要查询酒店名称的 idx\n",
    "    idx = indices[indices == name].index[0]\n",
    "    print('idx: {}'.format(idx))\n",
    "\n",
    "    # 对于 idx 酒店的余弦相似度向量按照从大到小进行排序。\n",
    "    score_series = pd.Series(cosine_similarities[idx]).sort_values(ascending=False)\n",
    "\n",
    "    # 取相似度最大的前 10 个（除了自己以外）\n",
    "    top_10_indexes = list(score_series.iloc[1:11].index)\n",
    "\n",
    "    # 放到推荐列表中\n",
    "    for i in top_10_indexes:\n",
    "        recommended_hotels.append(list(df.index)[i])\n",
    "\n",
    "    return recommended_hotels"
   ]
  },
  {
   "cell_type": "code",
   "execution_count": 19,
   "metadata": {},
   "outputs": [
    {
     "name": "stdout",
     "output_type": "stream",
     "text": [
      "idx: 49\n"
     ]
    },
    {
     "data": {
      "text/plain": [
       "['Embassy Suites by Hilton Seattle Tacoma International Airport',\n",
       " 'DoubleTree by Hilton Hotel Seattle Airport',\n",
       " 'Seattle Airport Marriott',\n",
       " 'Motel 6 Seattle Sea-Tac Airport South',\n",
       " 'Knights Inn Tukwila',\n",
       " 'Four Points by Sheraton Downtown Seattle Center',\n",
       " 'Radisson Hotel Seattle Airport',\n",
       " 'Hampton Inn Seattle/Southcenter',\n",
       " 'Home2 Suites by Hilton Seattle Airport',\n",
       " 'Red Lion Hotel Seattle Airport Sea-Tac']"
      ]
     },
     "execution_count": 19,
     "metadata": {},
     "output_type": "execute_result"
    }
   ],
   "source": [
    "recommendations('Hilton Seattle Airport & Conference Center')"
   ]
  },
  {
   "cell_type": "code",
   "execution_count": 20,
   "metadata": {},
   "outputs": [
    {
     "name": "stdout",
     "output_type": "stream",
     "text": [
      "idx: 116\n"
     ]
    },
    {
     "data": {
      "text/plain": [
       "['11th Avenue Inn Bed and Breakfast',\n",
       " 'Shafer Baillie Mansion Bed & Breakfast',\n",
       " 'Gaslight Inn',\n",
       " 'Bed and Breakfast Inn Seattle',\n",
       " 'Chittenden House Bed and Breakfast',\n",
       " 'Hyatt House Seattle',\n",
       " 'Mozart Guest House',\n",
       " 'Silver Cloud Hotel - Seattle Broadway',\n",
       " 'WorldMark Seattle - The Camlin',\n",
       " 'Pensione Nichols Bed and Breakfast']"
      ]
     },
     "execution_count": 20,
     "metadata": {},
     "output_type": "execute_result"
    }
   ],
   "source": [
    "recommendations(\"The Bacon Mansion Bed and Breakfast\")"
   ]
  },
  {
   "cell_type": "code",
   "execution_count": null,
   "metadata": {},
   "outputs": [],
   "source": []
  },
  {
   "cell_type": "code",
   "execution_count": null,
   "metadata": {},
   "outputs": [],
   "source": []
  },
  {
   "cell_type": "code",
   "execution_count": null,
   "metadata": {},
   "outputs": [],
   "source": []
  },
  {
   "cell_type": "code",
   "execution_count": null,
   "metadata": {},
   "outputs": [],
   "source": []
  }
 ],
 "metadata": {
  "kernelspec": {
   "display_name": "mlo",
   "language": "python",
   "name": "python3"
  },
  "language_info": {
   "codemirror_mode": {
    "name": "ipython",
    "version": 3
   },
   "file_extension": ".py",
   "mimetype": "text/x-python",
   "name": "python",
   "nbconvert_exporter": "python",
   "pygments_lexer": "ipython3",
   "version": "3.10.14"
  }
 },
 "nbformat": 4,
 "nbformat_minor": 2
}
