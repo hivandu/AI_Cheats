{
 "cells": [
  {
   "cell_type": "markdown",
   "metadata": {},
   "source": [
    "# LightGBM"
   ]
  },
  {
   "cell_type": "code",
   "execution_count": 146,
   "metadata": {},
   "outputs": [],
   "source": [
    "import pandas as pd\n",
    "import numpy as np\n",
    "import lightgbm as lgb\n",
    "from sklearn.preprocessing import LabelEncoder, OneHotEncoder\n",
    "from sklearn.model_selection import train_test_split\n",
    "from sklearn.metrics import accuracy_score"
   ]
  },
  {
   "cell_type": "code",
   "execution_count": 147,
   "metadata": {},
   "outputs": [],
   "source": [
    "train = pd.read_csv('dataset/train.csv', index_col=0)\n",
    "test = pd.read_csv('dataset/test.csv', index_col=0)\n",
    "# print(train['Attrition'].value_counts())\n",
    "\n",
    "# 处理 Attrition 字段\n",
    "train['Attrition'] = train['Attrition'].map(lambda x:1 if x=='Yes' else 0)\n",
    "\n",
    "# 查看数据中每列是否有空值\n",
    "# print(train.isna().sum())"
   ]
  },
  {
   "cell_type": "code",
   "execution_count": 148,
   "metadata": {},
   "outputs": [],
   "source": [
    "# 去掉没用的列 员工号码，标准工时（=80）\n",
    "train = train.drop(['EmployeeNumber', 'StandardHours'], axis=1)\n",
    "test = test.drop(['EmployeeNumber', 'StandardHours'], axis=1)"
   ]
  },
  {
   "cell_type": "code",
   "execution_count": 149,
   "metadata": {},
   "outputs": [],
   "source": [
    "# 对于分类特征进行特征值编码\n",
    "attr=['Age','BusinessTravel','Department','Education','EducationField','Gender','JobRole','MaritalStatus','Over18','OverTime']"
   ]
  },
  {
   "cell_type": "code",
   "execution_count": 156,
   "metadata": {},
   "outputs": [],
   "source": [
    "label_encoder = LabelEncoder()\n",
    "\n",
    "for col in attr:\n",
    "    train[col] = label_encoder.fit_transform(train[col])\n",
    "    test[col] = label_encoder.transform(test[col])\n",
    "\n",
    "X_train, X_valid, y_train, y_valid = train_test_split(train.drop('Attrition', axis=1), train['Attrition'], test_size=0.2, random_state=2023)"
   ]
  },
  {
   "cell_type": "code",
   "execution_count": 185,
   "metadata": {},
   "outputs": [
    {
     "name": "stdout",
     "output_type": "stream",
     "text": [
      "[LightGBM] [Info] Number of positive: 153, number of negative: 787\n",
      "[LightGBM] [Info] Total Bins 1128\n",
      "[LightGBM] [Info] Number of data points in the train set: 940, number of used features: 30\n",
      "[LightGBM] [Info] [binary:BoostFromScore]: pavg=0.162766 -> initscore=-1.637790\n",
      "[LightGBM] [Info] Start training from score -1.637790\n",
      "准确率：0.864406779661017\n"
     ]
    }
   ],
   "source": [
    "params = {\n",
    "    'boosting_type': 'gbdt',\n",
    "    'objective': 'binary', \n",
    "    'eta': 0.01,\n",
    "    'max_depth': 6,\n",
    "    'num_leaves': 8,  # 根据需要调整\n",
    "    'colsample_bytree': 0.8,\n",
    "    'subsample': 0.9,\n",
    "    'subsample_freq': 8,\n",
    "    'alpha': 0.6,\n",
    "    'lambda': 0,\n",
    "    'device_type': 'cpu',\n",
    "    'force_row_wise': True\n",
    "}\n",
    "\n",
    "trn_data = lgb.Dataset(X_train, label=y_train)\n",
    "val_data = lgb.Dataset(X_valid, label=y_valid)\n",
    "\n",
    "model = lgb.train(params, trn_data, num_boost_round=100, valid_sets=[val_data], feature_name='auto', categorical_feature='auto', keep_training_booster=False)\n",
    "\n",
    "# 使用训练好的模型进行预测\n",
    "y_pred = model.predict(X_valid, num_iteration=model.best_iteration)\n",
    "\n",
    "# 将概率值转换为类别标签\n",
    "threshold = 0.5  # 设置阈值\n",
    "y_pred_binary = np.where(y_pred > threshold, 1, 0)\n",
    "\n",
    "# 计算准确率\n",
    "accuracy = accuracy_score(y_valid, y_pred_binary)\n",
    "print(f\"准确率：{accuracy}\")"
   ]
  },
  {
   "cell_type": "code",
   "execution_count": 178,
   "metadata": {},
   "outputs": [
    {
     "data": {
      "text/plain": [
       "32768"
      ]
     },
     "execution_count": 178,
     "metadata": {},
     "output_type": "execute_result"
    }
   ],
   "source": [
    "2**15"
   ]
  },
  {
   "cell_type": "code",
   "execution_count": null,
   "metadata": {},
   "outputs": [],
   "source": []
  }
 ],
 "metadata": {
  "kernelspec": {
   "display_name": "tf",
   "language": "python",
   "name": "python3"
  },
  "language_info": {
   "codemirror_mode": {
    "name": "ipython",
    "version": 3
   },
   "file_extension": ".py",
   "mimetype": "text/x-python",
   "name": "python",
   "nbconvert_exporter": "python",
   "pygments_lexer": "ipython3",
   "version": "3.10.12"
  }
 },
 "nbformat": 4,
 "nbformat_minor": 2
}
