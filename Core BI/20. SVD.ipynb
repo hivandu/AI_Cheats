{
 "cells": [
  {
   "cell_type": "markdown",
   "metadata": {},
   "source": [
    "# 矩阵分解"
   ]
  },
  {
   "cell_type": "code",
   "execution_count": 1,
   "metadata": {},
   "outputs": [],
   "source": [
    "import numpy as np\n",
    "import os\n",
    "data_path = os.environ.get('DATA_PATH') + 'AI_Cheats/'"
   ]
  },
  {
   "cell_type": "code",
   "execution_count": 2,
   "metadata": {},
   "outputs": [
    {
     "name": "stdout",
     "output_type": "stream",
     "text": [
      "矩阵: \n",
      " [[5 1]\n",
      " [1 1]]\n",
      "特征值: \n",
      " [5.23606798 0.76393202]\n",
      "特征向量: \n",
      " [[ 0.97324899 -0.22975292]\n",
      " [ 0.22975292  0.97324899]]\n"
     ]
    }
   ],
   "source": [
    "A = np.array([[5, 3], [1, 1]])\n",
    "B = np.array([[5, 1], [1, 1]])\n",
    "C = np.array([[4, 2, -5], [6, 4, -9], [5, 3, -7]])\n",
    "\n",
    "def work(x):\n",
    "    lamda, U = np.linalg.eig(x)\n",
    "    print('矩阵: \\n {}'.format(x))\n",
    "    print('特征值: \\n {}'.format(lamda))\n",
    "    print('特征向量: \\n {}'.format(U))\n",
    "\n",
    "work(B)"
   ]
  },
  {
   "cell_type": "code",
   "execution_count": 3,
   "metadata": {},
   "outputs": [],
   "source": [
    "from scipy.linalg import svd\n",
    "import numpy as np"
   ]
  },
  {
   "cell_type": "code",
   "execution_count": 4,
   "metadata": {},
   "outputs": [
    {
     "name": "stdout",
     "output_type": "stream",
     "text": [
      "P=[[-0.85065081 -0.52573111]\n",
      " [-0.52573111  0.85065081]\n",
      " [ 0.          0.        ]]\n",
      "S=[2.61803399 0.38196601]\n",
      "Q=[[-0.52573111 -0.85065081]\n",
      " [ 0.85065081 -0.52573111]]\n"
     ]
    }
   ],
   "source": [
    "A = np.array([[1, 2], [1, 1], [0, 0]])\n",
    "p, s, q = svd(A, full_matrices=False)\n",
    "print('P={}'.format(p))\n",
    "print('S={}'.format(s))\n",
    "print('Q={}'.format(q))"
   ]
  },
  {
   "cell_type": "code",
   "execution_count": null,
   "metadata": {},
   "outputs": [],
   "source": []
  },
  {
   "cell_type": "code",
   "execution_count": null,
   "metadata": {},
   "outputs": [],
   "source": []
  }
 ],
 "metadata": {
  "kernelspec": {
   "display_name": "ml",
   "language": "python",
   "name": "python3"
  },
  "language_info": {
   "codemirror_mode": {
    "name": "ipython",
    "version": 3
   },
   "file_extension": ".py",
   "mimetype": "text/x-python",
   "name": "python",
   "nbconvert_exporter": "python",
   "pygments_lexer": "ipython3",
   "version": "3.10.18"
  }
 },
 "nbformat": 4,
 "nbformat_minor": 2
}
