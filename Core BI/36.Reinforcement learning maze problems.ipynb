{
 "cells": [
  {
   "cell_type": "markdown",
   "metadata": {},
   "source": [
    "# Project 迷宫问题"
   ]
  },
  {
   "cell_type": "code",
   "execution_count": 1,
   "metadata": {},
   "outputs": [],
   "source": [
    "import numpy as np"
   ]
  },
  {
   "cell_type": "code",
   "execution_count": 2,
   "metadata": {},
   "outputs": [],
   "source": [
    "# 模拟迷宫问题\n",
    "GAMMA = 0.8\n",
    "Q = np.zeros((6, 6))\n",
    "R = np.asarray([[-1, -1, -1, -1, 0, -1],\n",
    "                [-1, -1, -1, 0, -1, 100],\n",
    "                [-1, -1, -1, 0, -1, -1],\n",
    "                [-1, 0, 0, -1, 0, -1],\n",
    "                [0, -1, -1, 0, -1, 100],\n",
    "                [-1, 0, -1, -1, 0, 100]])"
   ]
  },
  {
   "cell_type": "code",
   "execution_count": 3,
   "metadata": {},
   "outputs": [],
   "source": [
    "# 取每一行的最大值\n",
    "def getMaxQ(state):\n",
    "  # 通过选取最大动作值来进行最优策略学习\n",
    "  return max(Q[state, :])"
   ]
  },
  {
   "cell_type": "code",
   "execution_count": 4,
   "metadata": {},
   "outputs": [
    {
     "name": "stdout",
     "output_type": "stream",
     "text": [
      "[[  0.    0.    0.    0.   80.    0. ]\n",
      " [  0.    0.    0.   64.    0.  100. ]\n",
      " [  0.    0.    0.   64.    0.    0. ]\n",
      " [  0.   80.   51.2   0.   80.    0. ]\n",
      " [ 64.    0.    0.   64.    0.  100. ]\n",
      " [  0.   80.    0.    0.   80.  100. ]]\n"
     ]
    }
   ],
   "source": [
    "# Q-Learning 函数\n",
    "def QLearning(state):\n",
    "  # 选择的动作\n",
    "  curAction = None\n",
    "  # 遍历所有节点，查看是否可以移动下一步\n",
    "  for action in range(6):\n",
    "    # 如果不能走，价值函数为 0\n",
    "    if(R[state][action] == -1):\n",
    "      Q[state, action] = 0\n",
    "    # 可以走，记录 curAction, 并且等于 curAction 最大值的贴现 + 当前的反馈\n",
    "    else:\n",
    "      curAction = action\n",
    "      # 选择动作最大的，假设学习率为1\n",
    "      # 环境给当下的奖励 + 未来最大收益的贴现\n",
    "      Q[state, action] = R[state][action] + GAMMA * getMaxQ(curAction)\n",
    "\n",
    "# 模拟100次\n",
    "for count in range(1000):\n",
    "  # 遍历\n",
    "  for i in range(6):\n",
    "    QLearning(i)\n",
    "# 显示保留小数点后一位\n",
    "np.set_printoptions(precision = 1)\n",
    "print(Q/5)"
   ]
  },
  {
   "cell_type": "code",
   "execution_count": null,
   "metadata": {},
   "outputs": [],
   "source": []
  }
 ],
 "metadata": {
  "kernelspec": {
   "display_name": "ml",
   "language": "python",
   "name": "python3"
  },
  "language_info": {
   "codemirror_mode": {
    "name": "ipython",
    "version": 3
   },
   "file_extension": ".py",
   "mimetype": "text/x-python",
   "name": "python",
   "nbconvert_exporter": "python",
   "pygments_lexer": "ipython3",
   "version": "3.10.18"
  }
 },
 "nbformat": 4,
 "nbformat_minor": 2
}
