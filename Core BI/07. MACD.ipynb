{
 "cells": [
  {
   "cell_type": "markdown",
   "metadata": {},
   "source": [
    "# MACD 策略"
   ]
  },
  {
   "cell_type": "code",
   "execution_count": 1,
   "metadata": {},
   "outputs": [],
   "source": [
    "# 获取股票数据\n",
    "import yfinance as yf\n",
    "import numpy as np\n",
    "import pandas as pd\n",
    "import matplotlib.pyplot as plt\n",
    "import os\n",
    "\n",
    "dp = os.environ.get('DATA_PATH')"
   ]
  },
  {
   "cell_type": "code",
   "execution_count": 2,
   "metadata": {},
   "outputs": [
    {
     "name": "stdout",
     "output_type": "stream",
     "text": [
      "YF.download() has changed argument auto_adjust default to True\n"
     ]
    },
    {
     "name": "stderr",
     "output_type": "stream",
     "text": [
      "[*********************100%***********************]  1 of 6 completed\n",
      "\n",
      "6 Failed downloads:\n",
      "['BIDU', 'GOOGL', 'BABA', 'META', 'AAPL', 'AMZN']: YFRateLimitError('Too Many Requests. Rate limited. Try after a while.')\n"
     ]
    }
   ],
   "source": [
    "tickers = ['AAPL','BABA','BIDU','GOOGL','META','AMZN']\n",
    "data = yf.download(tickers = tickers, start = '2023-01-01', end='2024-12-31')\n",
    "# data"
   ]
  },
  {
   "cell_type": "code",
   "execution_count": 3,
   "metadata": {},
   "outputs": [],
   "source": [
    "data.to_csv(dp + 'AI_Cheats/2022_macd.csv')"
   ]
  },
  {
   "cell_type": "code",
   "execution_count": 4,
   "metadata": {},
   "outputs": [],
   "source": [
    "# 计算 df 的短期平均 ma1， 长期平均 ma2\n",
    "def macd(df):\n",
    "    # 计算 ma1 和 ma2\n",
    "    df['ma1'] = df['Close'].rolling(window=ma1, min_periods=1).mean() # 快线\n",
    "    df['ma2'] = df['Close'].rolling(window=ma2, min_periods=1).mean() # 慢线\n",
    "    # 短期均线与长期均线的 DIF\n",
    "    df['diff'] = df['ma1'] - df['ma2']\n",
    "    # DEA = DIFF 的平滑（9 天的均值）\n",
    "    df['dea'] = df['diff'].rolling(window=9, min_periods=1).mean() # 两次平滑 => 过滤异常值，效果好\n",
    "    return df"
   ]
  },
  {
   "cell_type": "code",
   "execution_count": 5,
   "metadata": {},
   "outputs": [],
   "source": [
    "def signal_compute(df):\n",
    "    '''\n",
    "    当短均线大于长均线时，我们看多并持有\n",
    "    当短均线小于长均线时，我们清仓\n",
    "    背后的逻辑是短均线有动量的影响（惯性）\n",
    "    我们可以用 diff = 长均线-短均线\n",
    "    diff 有时候是正，有时是负\n",
    "    这就是为什么称为 Moving Average Convergence Divergence\n",
    "    '''\n",
    "    # 计算短期平均 ma1, 长期平均 ma2， diff， dea\n",
    "    df = macd(df)\n",
    "    # 初始化 positions 均为 0\n",
    "    df['positions'] = 0\n",
    "\n",
    "    # 当短均线 > 长均线, positions=1\n",
    "    '''\n",
    "    df['ma1'] 快线特征， [ma1:] 12 之后的数据\n",
    "    '''\n",
    "    df.loc[df.index[ma1:], 'positions'] = np.where(df.loc[df.index[ma1:], 'ma1'] >= df.loc[df.index[ma1:], 'ma2'], 1,0)\n",
    "    # df['positions'] = np.where(df['diff']>df['dea'],1,0)\n",
    "    \n",
    "    # positions 表明了需要持有，计算前后两天的 positions diff, 代表交易信号 signals\n",
    "    # signals=1 买入，signals=-1 卖出\n",
    "    df['signals'] = df['positions'].diff()\n",
    "\n",
    "    # 震荡 diff = 两个移动平均之差\n",
    "    df['diff'] = df['ma1'] - df['ma2']\n",
    "    df['macd'] = 2 * (df['diff'] - df['dea'])\n",
    "\n",
    "    return df"
   ]
  },
  {
   "cell_type": "code",
   "execution_count": 6,
   "metadata": {},
   "outputs": [],
   "source": [
    "# 绘制回测结果\n",
    "def plot(df, ticker):\n",
    "    # the first plot is the actual close price with long/short positions\n",
    "    # 绘制实际的股票收盘数据\n",
    "    fig = plt.figure(figsize=(12, 6))\n",
    "    ax = fig.add_subplot(111)\n",
    "    ax.plot(df.index, df['Close'], label=ticker)\n",
    "    # 只显示时刻点，不显示折线图 => 设置 linewidth=0\n",
    "    ax.plot(df.loc[df['signals']==1].index, df['Close'][df['signals']==1], label='Buy', linewidth=0, marker='^', c='g')\n",
    "    ax.plot(df.loc[df['signals']==-1].index, df['Close'][df['signals']==-1], label='Sell', linewidth=0, marker='v', c='r')\n",
    "\n",
    "    plt.legend(loc='best')\n",
    "    plt.grid(True)\n",
    "    plt.title('Positions')\n",
    "    plt.show()\n",
    "\n",
    "    # 显示 diff，即 ma1-ma2\n",
    "    fig = plt.figure(figsize=(12, 6))\n",
    "    cx = fig.add_subplot(211)\n",
    "    df['diff'].plot(kind='bar', color='r')\n",
    "\n",
    "    plt.legend(loc='best')\n",
    "    plt.grid(True)\n",
    "    plt.xticks([]) # 不显示 x 轴刻度\n",
    "    # plt.xlabel('')\n",
    "    # plt.title('MACD Diff (ma1-ma2)')\n",
    "    # plt.title('MACD 2*(diff-dea)')\n",
    "\n",
    "    # 绘制 ma1, ma2 曲线\n",
    "    bx = fig.add_subplot(212)\n",
    "    bx.plot(df.index, df['ma1'], label='ma1', color='orange')\n",
    "    bx.plot(df.index, df['ma2'], label='ma2', linestyle=':', color='blue')\n",
    "\n",
    "    plt.legend(loc='best')\n",
    "    plt.grid(True)\n",
    "    plt.show()"
   ]
  },
  {
   "cell_type": "code",
   "execution_count": 7,
   "metadata": {},
   "outputs": [
    {
     "name": "stderr",
     "output_type": "stream",
     "text": [
      "[*********************100%***********************]  1 of 1 completed\n",
      "\n",
      "1 Failed download:\n",
      "['AAPL']: YFRateLimitError('Too Many Requests. Rate limited. Try after a while.')\n"
     ]
    }
   ],
   "source": [
    "# MACD 简单有效，但是需要注意，进入信号总是很晚，需要注意向下的均线\n",
    "# 可以采用 12， 26， 也可以采用 10 和 21\n",
    "ma1 = 12\n",
    "ma2 = 26\n",
    "\n",
    "# 使用 slicer 进行切片，如果数据很大，回测曲线会比较乱，因为有太多的标记记载一起\n",
    "slicer = 0\n",
    "\n",
    "# 获取某一支股票的数据\n",
    "data = yf.download(tickers='AAPL', start='2021-01-01', end='2022-1-1')\n",
    "data.to_csv('./dataset/AAPL_2021_MACD.csv')\n",
    "# data"
   ]
  },
  {
   "cell_type": "code",
   "execution_count": 8,
   "metadata": {},
   "outputs": [
    {
     "data": {
      "application/vnd.microsoft.datawrangler.viewer.v0+json": {
       "columns": [
        {
         "name": "Date",
         "rawType": "datetime64[ns]",
         "type": "datetime"
        },
        {
         "name": "('Adj Close', 'AAPL')",
         "rawType": "float64",
         "type": "float"
        },
        {
         "name": "('Close', 'AAPL')",
         "rawType": "float64",
         "type": "float"
        },
        {
         "name": "('High', 'AAPL')",
         "rawType": "float64",
         "type": "float"
        },
        {
         "name": "('Low', 'AAPL')",
         "rawType": "float64",
         "type": "float"
        },
        {
         "name": "('Open', 'AAPL')",
         "rawType": "float64",
         "type": "float"
        },
        {
         "name": "('Volume', 'AAPL')",
         "rawType": "float64",
         "type": "float"
        },
        {
         "name": "('ma1', '')",
         "rawType": "float64",
         "type": "float"
        },
        {
         "name": "('ma2', '')",
         "rawType": "float64",
         "type": "float"
        },
        {
         "name": "('diff', '')",
         "rawType": "float64",
         "type": "float"
        },
        {
         "name": "('dea', '')",
         "rawType": "float64",
         "type": "float"
        },
        {
         "name": "('positions', '')",
         "rawType": "int64",
         "type": "integer"
        },
        {
         "name": "('signals', '')",
         "rawType": "float64",
         "type": "float"
        },
        {
         "name": "('macd', '')",
         "rawType": "float64",
         "type": "float"
        },
        {
         "name": "('Date', '')",
         "rawType": "datetime64[ns]",
         "type": "datetime"
        },
        {
         "name": "('name', '')",
         "rawType": "object",
         "type": "string"
        }
       ],
       "ref": "25891ef6-96e7-4001-b1ba-1562eec4fc72",
       "rows": [],
       "shape": {
        "columns": 15,
        "rows": 0
       }
      },
      "text/html": [
       "<div>\n",
       "<style scoped>\n",
       "    .dataframe tbody tr th:only-of-type {\n",
       "        vertical-align: middle;\n",
       "    }\n",
       "\n",
       "    .dataframe tbody tr th {\n",
       "        vertical-align: top;\n",
       "    }\n",
       "\n",
       "    .dataframe thead tr th {\n",
       "        text-align: left;\n",
       "    }\n",
       "\n",
       "    .dataframe thead tr:last-of-type th {\n",
       "        text-align: right;\n",
       "    }\n",
       "</style>\n",
       "<table border=\"1\" class=\"dataframe\">\n",
       "  <thead>\n",
       "    <tr>\n",
       "      <th>Price</th>\n",
       "      <th>Adj Close</th>\n",
       "      <th>Close</th>\n",
       "      <th>High</th>\n",
       "      <th>Low</th>\n",
       "      <th>Open</th>\n",
       "      <th>Volume</th>\n",
       "      <th>ma1</th>\n",
       "      <th>ma2</th>\n",
       "      <th>diff</th>\n",
       "      <th>dea</th>\n",
       "      <th>positions</th>\n",
       "      <th>signals</th>\n",
       "      <th>macd</th>\n",
       "      <th>Date</th>\n",
       "      <th>name</th>\n",
       "    </tr>\n",
       "    <tr>\n",
       "      <th>Ticker</th>\n",
       "      <th>AAPL</th>\n",
       "      <th>AAPL</th>\n",
       "      <th>AAPL</th>\n",
       "      <th>AAPL</th>\n",
       "      <th>AAPL</th>\n",
       "      <th>AAPL</th>\n",
       "      <th></th>\n",
       "      <th></th>\n",
       "      <th></th>\n",
       "      <th></th>\n",
       "      <th></th>\n",
       "      <th></th>\n",
       "      <th></th>\n",
       "      <th></th>\n",
       "      <th></th>\n",
       "    </tr>\n",
       "    <tr>\n",
       "      <th>Date</th>\n",
       "      <th></th>\n",
       "      <th></th>\n",
       "      <th></th>\n",
       "      <th></th>\n",
       "      <th></th>\n",
       "      <th></th>\n",
       "      <th></th>\n",
       "      <th></th>\n",
       "      <th></th>\n",
       "      <th></th>\n",
       "      <th></th>\n",
       "      <th></th>\n",
       "      <th></th>\n",
       "      <th></th>\n",
       "      <th></th>\n",
       "    </tr>\n",
       "  </thead>\n",
       "  <tbody>\n",
       "  </tbody>\n",
       "</table>\n",
       "</div>"
      ],
      "text/plain": [
       "Empty DataFrame\n",
       "Columns: [(Adj Close, AAPL), (Close, AAPL), (High, AAPL), (Low, AAPL), (Open, AAPL), (Volume, AAPL), (ma1, ), (ma2, ), (diff, ), (dea, ), (positions, ), (signals, ), (macd, ), (Date, ), (name, )]\n",
       "Index: []"
      ]
     },
     "execution_count": 8,
     "metadata": {},
     "output_type": "execute_result"
    }
   ],
   "source": [
    "# pd.set_option('display.max_rows', None)\n",
    "# 计算 ma1，ma2， positions， signals， diff 指标\n",
    "df = signal_compute(data)\n",
    "df['Date'] = pd.to_datetime(df.index)\n",
    "df['name'] = 'AAPL'\n",
    "df.head()"
   ]
  },
  {
   "cell_type": "code",
   "execution_count": 9,
   "metadata": {},
   "outputs": [
    {
     "name": "stdout",
     "output_type": "stream",
     "text": [
      "买入信号： DatetimeIndex([], dtype='datetime64[ns]', name='Date', freq=None)\n",
      "买入信号时的收盘价： Empty DataFrame\n",
      "Columns: [AAPL]\n",
      "Index: []\n",
      "卖出信号： DatetimeIndex([], dtype='datetime64[ns]', name='Date', freq=None)\n",
      "卖出信号时的收盘价： Empty DataFrame\n",
      "Columns: [AAPL]\n",
      "Index: []\n"
     ]
    }
   ],
   "source": [
    "print('买入信号：', df.loc[df['signals']==1].index)\n",
    "print('买入信号时的收盘价：',df['Close'][df['signals']==1])\n",
    "print('卖出信号：', df.loc[df['signals']==-1].index)\n",
    "print('卖出信号时的收盘价：', df['Close'][df['signals']==-1])"
   ]
  },
  {
   "cell_type": "code",
   "execution_count": 10,
   "metadata": {},
   "outputs": [
    {
     "data": {
      "image/png": "[encoded data removed]",
      "text/plain": [
       "<Figure size 1200x600 with 1 Axes>"
      ]
     },
     "metadata": {},
     "output_type": "display_data"
    },
    {
     "ename": "IndexError",
     "evalue": "index 0 is out of bounds for axis 0 with size 0",
     "output_type": "error",
     "traceback": [
      "\u001b[31m---------------------------------------------------------------------------\u001b[39m",
      "\u001b[31mIndexError\u001b[39m                                Traceback (most recent call last)",
      "\u001b[36mCell\u001b[39m\u001b[36m \u001b[39m\u001b[32mIn[10]\u001b[39m\u001b[32m, line 1\u001b[39m\n\u001b[32m----> \u001b[39m\u001b[32m1\u001b[39m \u001b[43mplot\u001b[49m\u001b[43m(\u001b[49m\u001b[43mdf\u001b[49m\u001b[43m,\u001b[49m\u001b[43m \u001b[49m\u001b[33;43m'\u001b[39;49m\u001b[33;43mAAPL\u001b[39;49m\u001b[33;43m'\u001b[39;49m\u001b[43m)\u001b[49m\n",
      "\u001b[36mCell\u001b[39m\u001b[36m \u001b[39m\u001b[32mIn[6]\u001b[39m\u001b[32m, line 20\u001b[39m, in \u001b[36mplot\u001b[39m\u001b[34m(df, ticker)\u001b[39m\n\u001b[32m     18\u001b[39m fig = plt.figure(figsize=(\u001b[32m12\u001b[39m, \u001b[32m6\u001b[39m))\n\u001b[32m     19\u001b[39m cx = fig.add_subplot(\u001b[32m211\u001b[39m)\n\u001b[32m---> \u001b[39m\u001b[32m20\u001b[39m \u001b[43mdf\u001b[49m\u001b[43m[\u001b[49m\u001b[33;43m'\u001b[39;49m\u001b[33;43mdiff\u001b[39;49m\u001b[33;43m'\u001b[39;49m\u001b[43m]\u001b[49m\u001b[43m.\u001b[49m\u001b[43mplot\u001b[49m\u001b[43m(\u001b[49m\u001b[43mkind\u001b[49m\u001b[43m=\u001b[49m\u001b[33;43m'\u001b[39;49m\u001b[33;43mbar\u001b[39;49m\u001b[33;43m'\u001b[39;49m\u001b[43m,\u001b[49m\u001b[43m \u001b[49m\u001b[43mcolor\u001b[49m\u001b[43m=\u001b[49m\u001b[33;43m'\u001b[39;49m\u001b[33;43mr\u001b[39;49m\u001b[33;43m'\u001b[39;49m\u001b[43m)\u001b[49m\n\u001b[32m     22\u001b[39m plt.legend(loc=\u001b[33m'\u001b[39m\u001b[33mbest\u001b[39m\u001b[33m'\u001b[39m)\n\u001b[32m     23\u001b[39m plt.grid(\u001b[38;5;28;01mTrue\u001b[39;00m)\n",
      "\u001b[36mFile \u001b[39m\u001b[32m~/miniforge3/envs/ml/lib/python3.11/site-packages/pandas/plotting/_core.py:1030\u001b[39m, in \u001b[36mPlotAccessor.__call__\u001b[39m\u001b[34m(self, *args, **kwargs)\u001b[39m\n\u001b[32m   1027\u001b[39m             label_name = label_kw \u001b[38;5;129;01mor\u001b[39;00m data.columns\n\u001b[32m   1028\u001b[39m             data.columns = label_name\n\u001b[32m-> \u001b[39m\u001b[32m1030\u001b[39m \u001b[38;5;28;01mreturn\u001b[39;00m \u001b[43mplot_backend\u001b[49m\u001b[43m.\u001b[49m\u001b[43mplot\u001b[49m\u001b[43m(\u001b[49m\u001b[43mdata\u001b[49m\u001b[43m,\u001b[49m\u001b[43m \u001b[49m\u001b[43mkind\u001b[49m\u001b[43m=\u001b[49m\u001b[43mkind\u001b[49m\u001b[43m,\u001b[49m\u001b[43m \u001b[49m\u001b[43m*\u001b[49m\u001b[43m*\u001b[49m\u001b[43mkwargs\u001b[49m\u001b[43m)\u001b[49m\n",
      "\u001b[36mFile \u001b[39m\u001b[32m~/miniforge3/envs/ml/lib/python3.11/site-packages/pandas/plotting/_matplotlib/__init__.py:71\u001b[39m, in \u001b[36mplot\u001b[39m\u001b[34m(data, kind, **kwargs)\u001b[39m\n\u001b[32m     69\u001b[39m         kwargs[\u001b[33m\"\u001b[39m\u001b[33max\u001b[39m\u001b[33m\"\u001b[39m] = \u001b[38;5;28mgetattr\u001b[39m(ax, \u001b[33m\"\u001b[39m\u001b[33mleft_ax\u001b[39m\u001b[33m\"\u001b[39m, ax)\n\u001b[32m     70\u001b[39m plot_obj = PLOT_CLASSES[kind](data, **kwargs)\n\u001b[32m---> \u001b[39m\u001b[32m71\u001b[39m \u001b[43mplot_obj\u001b[49m\u001b[43m.\u001b[49m\u001b[43mgenerate\u001b[49m\u001b[43m(\u001b[49m\u001b[43m)\u001b[49m\n\u001b[32m     72\u001b[39m plot_obj.draw()\n\u001b[32m     73\u001b[39m \u001b[38;5;28;01mreturn\u001b[39;00m plot_obj.result\n",
      "\u001b[36mFile \u001b[39m\u001b[32m~/miniforge3/envs/ml/lib/python3.11/site-packages/pandas/plotting/_matplotlib/core.py:508\u001b[39m, in \u001b[36mMPLPlot.generate\u001b[39m\u001b[34m(self)\u001b[39m\n\u001b[32m    506\u001b[39m \u001b[38;5;28;01mfor\u001b[39;00m ax \u001b[38;5;129;01min\u001b[39;00m \u001b[38;5;28mself\u001b[39m.axes:\n\u001b[32m    507\u001b[39m     \u001b[38;5;28mself\u001b[39m._post_plot_logic_common(ax)\n\u001b[32m--> \u001b[39m\u001b[32m508\u001b[39m     \u001b[38;5;28;43mself\u001b[39;49m\u001b[43m.\u001b[49m\u001b[43m_post_plot_logic\u001b[49m\u001b[43m(\u001b[49m\u001b[43max\u001b[49m\u001b[43m,\u001b[49m\u001b[43m \u001b[49m\u001b[38;5;28;43mself\u001b[39;49m\u001b[43m.\u001b[49m\u001b[43mdata\u001b[49m\u001b[43m)\u001b[49m\n",
      "\u001b[36mFile \u001b[39m\u001b[32m~/miniforge3/envs/ml/lib/python3.11/site-packages/pandas/plotting/_matplotlib/core.py:1972\u001b[39m, in \u001b[36mBarPlot._post_plot_logic\u001b[39m\u001b[34m(self, ax, data)\u001b[39m\n\u001b[32m   1969\u001b[39m \u001b[38;5;28;01melse\u001b[39;00m:\n\u001b[32m   1970\u001b[39m     str_index = [pprint_thing(key) \u001b[38;5;28;01mfor\u001b[39;00m key \u001b[38;5;129;01min\u001b[39;00m \u001b[38;5;28mrange\u001b[39m(data.shape[\u001b[32m0\u001b[39m])]\n\u001b[32m-> \u001b[39m\u001b[32m1972\u001b[39m s_edge = \u001b[38;5;28;43mself\u001b[39;49m\u001b[43m.\u001b[49m\u001b[43max_pos\u001b[49m\u001b[43m[\u001b[49m\u001b[32;43m0\u001b[39;49m\u001b[43m]\u001b[49m - \u001b[32m0.25\u001b[39m + \u001b[38;5;28mself\u001b[39m.lim_offset\n\u001b[32m   1973\u001b[39m e_edge = \u001b[38;5;28mself\u001b[39m.ax_pos[-\u001b[32m1\u001b[39m] + \u001b[32m0.25\u001b[39m + \u001b[38;5;28mself\u001b[39m.bar_width + \u001b[38;5;28mself\u001b[39m.lim_offset\n\u001b[32m   1975\u001b[39m \u001b[38;5;28mself\u001b[39m._decorate_ticks(ax, \u001b[38;5;28mself\u001b[39m._get_index_name(), str_index, s_edge, e_edge)\n",
      "\u001b[31mIndexError\u001b[39m: index 0 is out of bounds for axis 0 with size 0"
     ]
    },
    {
     "data": {
      "image/png": "[encoded data removed]",
      "text/plain": [
       "<Figure size 1200x600 with 1 Axes>"
      ]
     },
     "metadata": {},
     "output_type": "display_data"
    }
   ],
   "source": [
    "plot(df, 'AAPL')"
   ]
  },
  {
   "cell_type": "code",
   "execution_count": null,
   "metadata": {},
   "outputs": [
    {
     "data": {
      "text/plain": [
       " 0.0    244\n",
       " 1.0      4\n",
       "-1.0      3\n",
       "Name: signals, dtype: int64"
      ]
     },
     "execution_count": 11,
     "metadata": {},
     "output_type": "execute_result"
    }
   ],
   "source": [
    "# 信号分布\n",
    "df['signals'].value_counts()"
   ]
  },
  {
   "cell_type": "code",
   "execution_count": null,
   "metadata": {},
   "outputs": [
    {
     "data": {
      "text/plain": [
       "1    161\n",
       "0     91\n",
       "Name: positions, dtype: int64"
      ]
     },
     "execution_count": 12,
     "metadata": {},
     "output_type": "execute_result"
    }
   ],
   "source": [
    "df['positions'].value_counts()"
   ]
  },
  {
   "cell_type": "code",
   "execution_count": null,
   "metadata": {},
   "outputs": [
    {
     "name": "stdout",
     "output_type": "stream",
     "text": [
      "252\n"
     ]
    },
    {
     "data": {
      "text/plain": [
       "array(['2021-01-04T00:00:00.000000000', '2021-01-05T00:00:00.000000000',\n",
       "       '2021-01-06T00:00:00.000000000', '2021-01-07T00:00:00.000000000',\n",
       "       '2021-01-08T00:00:00.000000000', '2021-01-11T00:00:00.000000000',\n",
       "       '2021-01-12T00:00:00.000000000', '2021-01-13T00:00:00.000000000',\n",
       "       '2021-01-14T00:00:00.000000000', '2021-01-15T00:00:00.000000000',\n",
       "       '2021-01-19T00:00:00.000000000', '2021-01-20T00:00:00.000000000',\n",
       "       '2021-01-21T00:00:00.000000000', '2021-01-22T00:00:00.000000000',\n",
       "       '2021-01-25T00:00:00.000000000', '2021-01-26T00:00:00.000000000',\n",
       "       '2021-01-27T00:00:00.000000000', '2021-01-28T00:00:00.000000000',\n",
       "       '2021-01-29T00:00:00.000000000', '2021-02-01T00:00:00.000000000',\n",
       "       '2021-02-02T00:00:00.000000000', '2021-02-03T00:00:00.000000000',\n",
       "       '2021-02-04T00:00:00.000000000', '2021-02-05T00:00:00.000000000',\n",
       "       '2021-02-08T00:00:00.000000000', '2021-02-09T00:00:00.000000000',\n",
       "       '2021-02-10T00:00:00.000000000', '2021-02-11T00:00:00.000000000',\n",
       "       '2021-02-12T00:00:00.000000000', '2021-02-16T00:00:00.000000000',\n",
       "       '2021-02-17T00:00:00.000000000', '2021-02-18T00:00:00.000000000',\n",
       "       '2021-02-19T00:00:00.000000000', '2021-02-22T00:00:00.000000000',\n",
       "       '2021-02-23T00:00:00.000000000', '2021-02-24T00:00:00.000000000',\n",
       "       '2021-02-25T00:00:00.000000000', '2021-02-26T00:00:00.000000000',\n",
       "       '2021-03-01T00:00:00.000000000', '2021-03-02T00:00:00.000000000',\n",
       "       '2021-03-03T00:00:00.000000000', '2021-03-04T00:00:00.000000000',\n",
       "       '2021-03-05T00:00:00.000000000', '2021-03-08T00:00:00.000000000',\n",
       "       '2021-03-09T00:00:00.000000000', '2021-03-10T00:00:00.000000000',\n",
       "       '2021-03-11T00:00:00.000000000', '2021-03-12T00:00:00.000000000',\n",
       "       '2021-03-15T00:00:00.000000000', '2021-03-16T00:00:00.000000000',\n",
       "       '2021-03-17T00:00:00.000000000', '2021-03-18T00:00:00.000000000',\n",
       "       '2021-03-19T00:00:00.000000000', '2021-03-22T00:00:00.000000000',\n",
       "       '2021-03-23T00:00:00.000000000', '2021-03-24T00:00:00.000000000',\n",
       "       '2021-03-25T00:00:00.000000000', '2021-03-26T00:00:00.000000000',\n",
       "       '2021-03-29T00:00:00.000000000', '2021-03-30T00:00:00.000000000',\n",
       "       '2021-03-31T00:00:00.000000000', '2021-04-01T00:00:00.000000000',\n",
       "       '2021-04-05T00:00:00.000000000', '2021-04-06T00:00:00.000000000',\n",
       "       '2021-04-07T00:00:00.000000000', '2021-04-08T00:00:00.000000000',\n",
       "       '2021-04-09T00:00:00.000000000', '2021-04-12T00:00:00.000000000',\n",
       "       '2021-04-13T00:00:00.000000000', '2021-04-14T00:00:00.000000000',\n",
       "       '2021-04-15T00:00:00.000000000', '2021-04-16T00:00:00.000000000',\n",
       "       '2021-04-19T00:00:00.000000000', '2021-04-20T00:00:00.000000000',\n",
       "       '2021-04-21T00:00:00.000000000', '2021-04-22T00:00:00.000000000',\n",
       "       '2021-04-23T00:00:00.000000000', '2021-04-26T00:00:00.000000000',\n",
       "       '2021-04-27T00:00:00.000000000', '2021-04-28T00:00:00.000000000',\n",
       "       '2021-04-29T00:00:00.000000000', '2021-04-30T00:00:00.000000000',\n",
       "       '2021-05-03T00:00:00.000000000', '2021-05-04T00:00:00.000000000',\n",
       "       '2021-05-05T00:00:00.000000000', '2021-05-06T00:00:00.000000000',\n",
       "       '2021-05-07T00:00:00.000000000', '2021-05-10T00:00:00.000000000',\n",
       "       '2021-05-11T00:00:00.000000000', '2021-05-12T00:00:00.000000000',\n",
       "       '2021-05-13T00:00:00.000000000', '2021-05-14T00:00:00.000000000',\n",
       "       '2021-05-17T00:00:00.000000000', '2021-05-18T00:00:00.000000000',\n",
       "       '2021-05-19T00:00:00.000000000', '2021-05-20T00:00:00.000000000',\n",
       "       '2021-05-21T00:00:00.000000000', '2021-05-24T00:00:00.000000000',\n",
       "       '2021-05-25T00:00:00.000000000', '2021-05-26T00:00:00.000000000',\n",
       "       '2021-05-27T00:00:00.000000000', '2021-05-28T00:00:00.000000000',\n",
       "       '2021-06-01T00:00:00.000000000', '2021-06-02T00:00:00.000000000',\n",
       "       '2021-06-03T00:00:00.000000000', '2021-06-04T00:00:00.000000000',\n",
       "       '2021-06-07T00:00:00.000000000', '2021-06-08T00:00:00.000000000',\n",
       "       '2021-06-09T00:00:00.000000000', '2021-06-10T00:00:00.000000000',\n",
       "       '2021-06-11T00:00:00.000000000', '2021-06-14T00:00:00.000000000',\n",
       "       '2021-06-15T00:00:00.000000000', '2021-06-16T00:00:00.000000000',\n",
       "       '2021-06-17T00:00:00.000000000', '2021-06-18T00:00:00.000000000',\n",
       "       '2021-06-21T00:00:00.000000000', '2021-06-22T00:00:00.000000000',\n",
       "       '2021-06-23T00:00:00.000000000', '2021-06-24T00:00:00.000000000',\n",
       "       '2021-06-25T00:00:00.000000000', '2021-06-28T00:00:00.000000000',\n",
       "       '2021-06-29T00:00:00.000000000', '2021-06-30T00:00:00.000000000',\n",
       "       '2021-07-01T00:00:00.000000000', '2021-07-02T00:00:00.000000000',\n",
       "       '2021-07-06T00:00:00.000000000', '2021-07-07T00:00:00.000000000',\n",
       "       '2021-07-08T00:00:00.000000000', '2021-07-09T00:00:00.000000000',\n",
       "       '2021-07-12T00:00:00.000000000', '2021-07-13T00:00:00.000000000',\n",
       "       '2021-07-14T00:00:00.000000000', '2021-07-15T00:00:00.000000000',\n",
       "       '2021-07-16T00:00:00.000000000', '2021-07-19T00:00:00.000000000',\n",
       "       '2021-07-20T00:00:00.000000000', '2021-07-21T00:00:00.000000000',\n",
       "       '2021-07-22T00:00:00.000000000', '2021-07-23T00:00:00.000000000',\n",
       "       '2021-07-26T00:00:00.000000000', '2021-07-27T00:00:00.000000000',\n",
       "       '2021-07-28T00:00:00.000000000', '2021-07-29T00:00:00.000000000',\n",
       "       '2021-07-30T00:00:00.000000000', '2021-08-02T00:00:00.000000000',\n",
       "       '2021-08-03T00:00:00.000000000', '2021-08-04T00:00:00.000000000',\n",
       "       '2021-08-05T00:00:00.000000000', '2021-08-06T00:00:00.000000000',\n",
       "       '2021-08-09T00:00:00.000000000', '2021-08-10T00:00:00.000000000',\n",
       "       '2021-08-11T00:00:00.000000000', '2021-08-12T00:00:00.000000000',\n",
       "       '2021-08-13T00:00:00.000000000', '2021-08-16T00:00:00.000000000',\n",
       "       '2021-08-17T00:00:00.000000000', '2021-08-18T00:00:00.000000000',\n",
       "       '2021-08-19T00:00:00.000000000', '2021-08-20T00:00:00.000000000',\n",
       "       '2021-08-23T00:00:00.000000000', '2021-08-24T00:00:00.000000000',\n",
       "       '2021-08-25T00:00:00.000000000', '2021-08-26T00:00:00.000000000',\n",
       "       '2021-08-27T00:00:00.000000000', '2021-08-30T00:00:00.000000000',\n",
       "       '2021-08-31T00:00:00.000000000', '2021-09-01T00:00:00.000000000',\n",
       "       '2021-09-02T00:00:00.000000000', '2021-09-03T00:00:00.000000000',\n",
       "       '2021-09-07T00:00:00.000000000', '2021-09-08T00:00:00.000000000',\n",
       "       '2021-09-09T00:00:00.000000000', '2021-09-10T00:00:00.000000000',\n",
       "       '2021-09-13T00:00:00.000000000', '2021-09-14T00:00:00.000000000',\n",
       "       '2021-09-15T00:00:00.000000000', '2021-09-16T00:00:00.000000000',\n",
       "       '2021-09-17T00:00:00.000000000', '2021-09-20T00:00:00.000000000',\n",
       "       '2021-09-21T00:00:00.000000000', '2021-09-22T00:00:00.000000000',\n",
       "       '2021-09-23T00:00:00.000000000', '2021-09-24T00:00:00.000000000',\n",
       "       '2021-09-27T00:00:00.000000000', '2021-09-28T00:00:00.000000000',\n",
       "       '2021-09-29T00:00:00.000000000', '2021-09-30T00:00:00.000000000',\n",
       "       '2021-10-01T00:00:00.000000000', '2021-10-04T00:00:00.000000000',\n",
       "       '2021-10-05T00:00:00.000000000', '2021-10-06T00:00:00.000000000',\n",
       "       '2021-10-07T00:00:00.000000000', '2021-10-08T00:00:00.000000000',\n",
       "       '2021-10-11T00:00:00.000000000', '2021-10-12T00:00:00.000000000',\n",
       "       '2021-10-13T00:00:00.000000000', '2021-10-14T00:00:00.000000000',\n",
       "       '2021-10-15T00:00:00.000000000', '2021-10-18T00:00:00.000000000',\n",
       "       '2021-10-19T00:00:00.000000000', '2021-10-20T00:00:00.000000000',\n",
       "       '2021-10-21T00:00:00.000000000', '2021-10-22T00:00:00.000000000',\n",
       "       '2021-10-25T00:00:00.000000000', '2021-10-26T00:00:00.000000000',\n",
       "       '2021-10-27T00:00:00.000000000', '2021-10-28T00:00:00.000000000',\n",
       "       '2021-10-29T00:00:00.000000000', '2021-11-01T00:00:00.000000000',\n",
       "       '2021-11-02T00:00:00.000000000', '2021-11-03T00:00:00.000000000',\n",
       "       '2021-11-04T00:00:00.000000000', '2021-11-05T00:00:00.000000000',\n",
       "       '2021-11-08T00:00:00.000000000', '2021-11-09T00:00:00.000000000',\n",
       "       '2021-11-10T00:00:00.000000000', '2021-11-11T00:00:00.000000000',\n",
       "       '2021-11-12T00:00:00.000000000', '2021-11-15T00:00:00.000000000',\n",
       "       '2021-11-16T00:00:00.000000000', '2021-11-17T00:00:00.000000000',\n",
       "       '2021-11-18T00:00:00.000000000', '2021-11-19T00:00:00.000000000',\n",
       "       '2021-11-22T00:00:00.000000000', '2021-11-23T00:00:00.000000000',\n",
       "       '2021-11-24T00:00:00.000000000', '2021-11-26T00:00:00.000000000',\n",
       "       '2021-11-29T00:00:00.000000000', '2021-11-30T00:00:00.000000000',\n",
       "       '2021-12-01T00:00:00.000000000', '2021-12-02T00:00:00.000000000',\n",
       "       '2021-12-03T00:00:00.000000000', '2021-12-06T00:00:00.000000000',\n",
       "       '2021-12-07T00:00:00.000000000', '2021-12-08T00:00:00.000000000',\n",
       "       '2021-12-09T00:00:00.000000000', '2021-12-10T00:00:00.000000000',\n",
       "       '2021-12-13T00:00:00.000000000', '2021-12-14T00:00:00.000000000',\n",
       "       '2021-12-15T00:00:00.000000000', '2021-12-16T00:00:00.000000000',\n",
       "       '2021-12-17T00:00:00.000000000', '2021-12-20T00:00:00.000000000',\n",
       "       '2021-12-21T00:00:00.000000000', '2021-12-22T00:00:00.000000000',\n",
       "       '2021-12-23T00:00:00.000000000', '2021-12-27T00:00:00.000000000',\n",
       "       '2021-12-28T00:00:00.000000000', '2021-12-29T00:00:00.000000000',\n",
       "       '2021-12-30T00:00:00.000000000', '2021-12-31T00:00:00.000000000'],\n",
       "      dtype='datetime64[ns]')"
      ]
     },
     "execution_count": 13,
     "metadata": {},
     "output_type": "execute_result"
    }
   ],
   "source": [
    "# 交易日情况\n",
    "open_dates = np.unique(df.Date)\n",
    "print(len(open_dates))\n",
    "open_dates"
   ]
  },
  {
   "cell_type": "code",
   "execution_count": null,
   "metadata": {},
   "outputs": [],
   "source": [
    "# 计算投资组合价值\n",
    "def get_portfolio_value(port, evaluation_date):\n",
    "    # if evaluation_date not in open_dates:\n",
    "    #     print('Market closed for today')\n",
    "    #     return 0\n",
    "    # 总价值\n",
    "    total_value = 0\n",
    "    # 累加每支股票的 value\n",
    "    for stock in port.keys():\n",
    "        if stock == 'cash':\n",
    "            total_value += port['cash']\n",
    "            continue\n",
    "        # 找到 evaluation_date 时，该股票的 price\n",
    "        print(stock)\n",
    "        stock_price = df.iloc[0]['Close']\n",
    "        # 计算该股票的 value\n",
    "        position = stock_price * port[stock]\n",
    "        total_value += position\n",
    "    # 打印当前的 portfolio\n",
    "    # print(port)  \n",
    "    return total_value"
   ]
  },
  {
   "cell_type": "code",
   "execution_count": null,
   "metadata": {},
   "outputs": [],
   "source": [
    "def portfolio_buy(port, purchase_day, stock_name, num):\n",
    "    # 如果不开市\n",
    "    # if purchase_day not in open_dates:\n",
    "    #     print('Market closed for today')\n",
    "    #     return port\n",
    "    # 计算股票需要购买的金额\n",
    "    stock_price = df[(df.name==stock_name) & (df.Date==purchase_day)].iloc[0]['Open']\n",
    "    order_price = stock_price * num\n",
    "    # 考虑 portfolio 钱够不够的问题\n",
    "    if port['cash'] < order_price:\n",
    "        # 没买成，原封不动\n",
    "        return port\n",
    "    # 购买成公，cash 减少\n",
    "    port['cash'] -= order_price\n",
    "    # 如果之前没有持有过这个股票\n",
    "    if stock_name not in port.keys():\n",
    "        port[stock_name] = num\n",
    "        return port\n",
    "    elif stock_name in port.keys():\n",
    "        port[stock_name] += num\n",
    "        return port\n",
    "    else:\n",
    "        print('Error')\n",
    "        return port"
   ]
  },
  {
   "cell_type": "code",
   "execution_count": null,
   "metadata": {},
   "outputs": [],
   "source": [
    "def portfolio_sell(port, sell_day, stock_name, num):\n",
    "    # 如果不开市\n",
    "    # if sell_day not in open_dates:\n",
    "    #     print('Market closed for today')\n",
    "    #     return port\n",
    "    # 计算卖出的股票金额\n",
    "    stock_price = df[(df.name==stock_name) & (df.Date==sell_day)].iloc[0]['Close']\n",
    "    order_price=stock_price * num\n",
    "    # 如果之前没有持有过这个股票\n",
    "    if stock_name not in port.keys():\n",
    "        # 没卖成，原封不动\n",
    "        return port\n",
    "    # 如果卖出的数量 > 手上持有的数量，没卖成\n",
    "    if num > port[stock_name]:\n",
    "        return port\n",
    "    # 卖成功了，减少股票数量，增加 cash\n",
    "    if stock_name in port.keys():\n",
    "        port[stock_name] -= num\n",
    "        port['cash'] += order_price\n",
    "        return port"
   ]
  },
  {
   "cell_type": "code",
   "execution_count": null,
   "metadata": {},
   "outputs": [],
   "source": [
    "# 假设初始资金 10000\n",
    "portfolio = dict()\n",
    "portfolio['cash'] = 10000"
   ]
  },
  {
   "cell_type": "code",
   "execution_count": null,
   "metadata": {},
   "outputs": [
    {
     "data": {
      "text/plain": [
       "74"
      ]
     },
     "execution_count": 18,
     "metadata": {},
     "output_type": "execute_result"
    }
   ],
   "source": [
    "# 计算能买多少股\n",
    "valid_num = int(portfolio['cash'] / df.iloc[0]['Open'])\n",
    "valid_num"
   ]
  },
  {
   "cell_type": "code",
   "execution_count": null,
   "metadata": {},
   "outputs": [
    {
     "data": {
      "text/plain": [
       "{'cash': 12797.898483276367, 'AAPL': 0}"
      ]
     },
     "execution_count": 19,
     "metadata": {},
     "output_type": "execute_result"
    }
   ],
   "source": [
    "# 买卖股票\n",
    "portfolio_buy(portfolio, '2021-01-21', 'AAPL', 70)\n",
    "portfolio_sell(portfolio, '2021-02-19', 'AAPL', 70)\n",
    "portfolio_buy(portfolio, '2021-04-07', 'AAPL', 70)\n",
    "portfolio_sell(portfolio, '2021-05-10', 'AAPL', 70)\n",
    "portfolio_buy(portfolio, '2021-06-15', 'AAPL', 70)\n",
    "portfolio_sell(portfolio, '2021-09-21', 'AAPL', 70)\n",
    "portfolio_buy(portfolio, '2021-10-21', 'AAPL', 70)\n",
    "portfolio_sell(portfolio, '2021-12-30', 'AAPL', 70)"
   ]
  },
  {
   "cell_type": "code",
   "execution_count": null,
   "metadata": {},
   "outputs": [
    {
     "data": {
      "text/plain": [
       "{'cash': 15905.898056030273, 'AAPL': 0}"
      ]
     },
     "execution_count": 20,
     "metadata": {},
     "output_type": "execute_result"
    }
   ],
   "source": [
    "portfolio_buy(portfolio, '2021-01-21', 'AAPL', 70)\n",
    "portfolio_sell(portfolio, '2021-12-30', 'AAPL', 70)"
   ]
  },
  {
   "cell_type": "code",
   "execution_count": null,
   "metadata": {},
   "outputs": [],
   "source": []
  },
  {
   "cell_type": "code",
   "execution_count": null,
   "metadata": {},
   "outputs": [],
   "source": []
  },
  {
   "cell_type": "code",
   "execution_count": null,
   "metadata": {},
   "outputs": [],
   "source": []
  }
 ],
 "metadata": {
  "kernelspec": {
   "display_name": "ml",
   "language": "python",
   "name": "python3"
  },
  "language_info": {
   "codemirror_mode": {
    "name": "ipython",
    "version": 3
   },
   "file_extension": ".py",
   "mimetype": "text/x-python",
   "name": "python",
   "nbconvert_exporter": "python",
   "pygments_lexer": "ipython3",
   "version": "3.11.13"
  }
 },
 "nbformat": 4,
 "nbformat_minor": 2
}
