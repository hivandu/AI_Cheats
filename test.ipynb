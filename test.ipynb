{
 "cells": [
  {
   "cell_type": "code",
   "execution_count": 1,
   "metadata": {},
   "outputs": [
    {
     "name": "stdout",
     "output_type": "stream",
     "text": [
      "/Users/du/未命名文件夹\n",
      "修改前，一共有29个文件\n",
      "  ['Vol-249：无需代码而增强人类智力？红杉资本视角下 Notion 的故事.md', 'Vol-259：2022 年的十篇精选.md', 'Vol-265：太忙碌，意味着你的个人战略很糟糕.md', 'Vol-269： 想法是脆弱的。但如果它们被解决，那就不再是想法，而是产品。.md', 'Vol-275：澄清概念，而不是寻求解释.md', 'Vol-271：我什么都不是，所以我终于可以自由地做我自己了.md', 'Vol-254：付出最多的人，关注最多.md', 'Vol-268： 一个系统最重要的价值，不是一直扩张，而是长期存在.md', 'Vol-250：时间不应该只被当做资源，充满工具性.md', 'Vol-270：若 AI 可以像人一样完成工作，那么人类不该再复制这些能力.md', 'Vol-278：知道低谷期存在，是一个很大的优势.md', 'Vol-252：我们看似一直在解决新问题，实则总在类似场景解决类似的问题.md', 'Vol-274： 普通人使用概念，哲学家考察概念.md', 'Vol-267： 如果大语言模型是电，灯泡之外还会有什么应用？.md', 'Vol-257：没有人在乎你能做什么，每个人都在乎你能为他们做什么.md', 'Vol-266：超负荷生长会导致永久损伤，试着成为一家「新西兰」公司.md', 'Vol-256：ChatGPT 究竟意味着什么？产品经理为何像教练？.md', 'Vol-251：做的足够好未必能赢，因为用户未必能感知.md', 'Vol-263：如果不得不成为一名商人，那就要按自己的规则来.md', 'Vol-255：AI 如水，虽有危险，但知道如何与水相处才能过得更好.md', 'Vol-262：每一个小的抱怨，都可能成为扩展的种子.md', 'Vol-258：在迷茫的时候，选择难走的路.md', 'Vol-260：品质是一种工作方式，使用你建造的东西，然后再交付.md', 'Vol_294：当向日葵掀起热潮时，应及时洒下蒲公英的种子.md', 'Vol-276：理解人们的自证信仰，尊重他们的错觉.md', 'Vol-264：永远不要超越自己的极限.md', 'Vol-261：没有痛苦，就没有奔向新事物的征程.md', 'Vol-277：做 idea 的海贼王.md', 'Vol-273：Steve Jobs 失意的十年 1985 - 1996.md']\n",
      "修改后，一共有29个文件\n",
      "  ['Vol_249：无需代码而增强人类智力？红杉资本视角下 Notion 的故事.md', 'Vol_259：2022 年的十篇精选.md', 'Vol_265：太忙碌，意味着你的个人战略很糟糕.md', 'Vol_269： 想法是脆弱的。但如果它们被解决，那就不再是想法，而是产品。.md', 'Vol_275：澄清概念，而不是寻求解释.md', 'Vol_271：我什么都不是，所以我终于可以自由地做我自己了.md', 'Vol_254：付出最多的人，关注最多.md', 'Vol_268： 一个系统最重要的价值，不是一直扩张，而是长期存在.md', 'Vol_250：时间不应该只被当做资源，充满工具性.md', 'Vol_270：若 AI 可以像人一样完成工作，那么人类不该再复制这些能力.md', 'Vol_278：知道低谷期存在，是一个很大的优势.md', 'Vol_252：我们看似一直在解决新问题，实则总在类似场景解决类似的问题.md', 'Vol_274： 普通人使用概念，哲学家考察概念.md', 'Vol_267： 如果大语言模型是电，灯泡之外还会有什么应用？.md', 'Vol_257：没有人在乎你能做什么，每个人都在乎你能为他们做什么.md', 'Vol_266：超负荷生长会导致永久损伤，试着成为一家「新西兰」公司.md', 'Vol_256：ChatGPT 究竟意味着什么？产品经理为何像教练？.md', 'Vol_251：做的足够好未必能赢，因为用户未必能感知.md', 'Vol_263：如果不得不成为一名商人，那就要按自己的规则来.md', 'Vol_255：AI 如水，虽有危险，但知道如何与水相处才能过得更好.md', 'Vol_262：每一个小的抱怨，都可能成为扩展的种子.md', 'Vol_258：在迷茫的时候，选择难走的路.md', 'Vol_260：品质是一种工作方式，使用你建造的东西，然后再交付.md', 'Vol_294：当向日葵掀起热潮时，应及时洒下蒲公英的种子.md', 'Vol_276：理解人们的自证信仰，尊重他们的错觉.md', 'Vol_264：永远不要超越自己的极限.md', 'Vol_261：没有痛苦，就没有奔向新事物的征程.md', 'Vol_277：做 idea 的海贼王.md', 'Vol_273：Steve Jobs 失意的十年 1985 _ 1996.md']\n"
     ]
    },
    {
     "ename": "",
     "evalue": "",
     "output_type": "error",
     "traceback": [
      "\u001b[1;31m在当前单元格或上一个单元格中执行代码时 Kernel 崩溃。请查看单元格中的代码，以确定故障的可能原因。有关详细信息，请单击 <a href='https://aka.ms/vscodeJupyterKernelCrash'>此处</a>。有关更多详细信息，请查看 Jupyter <a href='command:jupyter.viewOutput'>log</a>。"
     ]
    }
   ],
   "source": [
    "import os\n",
    "import tkinter as tk\n",
    "from tkinter import filedialog\n",
    "import re\n",
    "\n",
    "root = tk.Tk()\n",
    "root.withdraw()\n",
    "\n",
    "folderPath = filedialog.askdirectory() # 获得选择好的文件夹\n",
    "# filePath = filedialog.askopenfilename() # 获得选择好的文件\n",
    "\n",
    "print(folderPath)\n",
    "# print(filePath)\n",
    "\n",
    "files = os.listdir(folderPath)\n",
    "\n",
    "fileList = []\n",
    "newFileList = []\n",
    "\n",
    "oldStr = input('请输入要修改的内容或正则:')\n",
    "newStr = input('请输入要替换的内容，不修改只删除可留空:')\n",
    "\n",
    "for i in files:\n",
    "    if i[0] != '.':\n",
    "        portion = os.path.splitext(i)\n",
    "        newname = re.sub(r'{}'.format(oldStr), r'{}'.format(newStr), portion[0])\n",
    "        os.chdir(folderPath) # 测试完毕后要正式修改文件名取消这里注释\n",
    "        os.rename(portion[0]+portion[1], newname+portion[1]) # 测试完毕后要正式修改文件名取消这里注释\n",
    "        \n",
    "        fileList.append(portion[0]+portion[1])\n",
    "        newFileList.append(newname+portion[1])\n",
    "\n",
    "print('修改前，一共有{}个文件\\n  {}'.format(len(fileList), fileList))\n",
    "print('修改后，一共有{}个文件\\n  {}'.format(len(newFileList), newFileList))"
   ]
  },
  {
   "cell_type": "code",
   "execution_count": null,
   "metadata": {},
   "outputs": [],
   "source": []
  }
 ],
 "metadata": {
  "kernelspec": {
   "display_name": "tf",
   "language": "python",
   "name": "python3"
  },
  "language_info": {
   "codemirror_mode": {
    "name": "ipython",
    "version": 3
   },
   "file_extension": ".py",
   "mimetype": "text/x-python",
   "name": "python",
   "nbconvert_exporter": "python",
   "pygments_lexer": "ipython3",
   "version": "3.10.12"
  }
 },
 "nbformat": 4,
 "nbformat_minor": 2
}
