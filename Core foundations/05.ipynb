{
 "cells": [
  {
   "cell_type": "markdown",
   "metadata": {},
   "source": [
    "# 机器学习入门 1"
   ]
  },
  {
   "cell_type": "code",
   "execution_count": 1,
   "metadata": {},
   "outputs": [],
   "source": [
    "prices = [1, 5, 8, 9, 10, 17, 17, 20, 24, 30 , 33]"
   ]
  },
  {
   "cell_type": "code",
   "execution_count": 2,
   "metadata": {},
   "outputs": [],
   "source": [
    "complete_price = { i+1: p for i, p in enumerate(prices)}\n",
    "# print(complete_price[9])\n",
    "# print(complete_price[30])"
   ]
  },
  {
   "cell_type": "code",
   "execution_count": 3,
   "metadata": {},
   "outputs": [],
   "source": [
    "from collections import defaultdict\n",
    "\n",
    "prices = [1, 5, 8, 9, 10, 17, 17, 20, 24, 30 , 33]\n",
    "complete_price = defaultdict(int)\n",
    "\n",
    "for i, p in enumerate(prices): complete_price[i+1] = p"
   ]
  },
  {
   "cell_type": "code",
   "execution_count": 4,
   "metadata": {},
   "outputs": [
    {
     "name": "stdout",
     "output_type": "stream",
     "text": [
      "22\n"
     ]
    }
   ],
   "source": [
    "def r(n):\n",
    "    candidates = [complete_price[n]]\n",
    "\n",
    "    for i in range(1, n):\n",
    "        left = i\n",
    "        right = n-i\n",
    "\n",
    "        total_r = r(left) + r(right)\n",
    "        candidates.append(total_r)\n",
    "    return max(candidates)\n",
    "print(r(8))"
   ]
  },
  {
   "cell_type": "code",
   "execution_count": 5,
   "metadata": {},
   "outputs": [
    {
     "name": "stdout",
     "output_type": "stream",
     "text": [
      "52\n",
      "[10, 6, 2]\n"
     ]
    }
   ],
   "source": [
    "# 优化为 Python 向\n",
    "\n",
    "solution = {}\n",
    "\n",
    "cache = {}\n",
    "\n",
    "def r(n):\n",
    "    if n in cache: return cache[n]\n",
    "\n",
    "    candidates = [(complete_price[n], (n, 0))] + [(r(i) + r(n-i), (i, n-i)) for i in range(1, n)]\n",
    "    optimal_price, split = max(candidates)\n",
    "\n",
    "    solution[n] = split\n",
    "\n",
    "    cache[n]  = optimal_price\n",
    "\n",
    "    return optimal_price\n",
    "\n",
    "def parse_solution(n, cut_solution):\n",
    "    left, right = cut_solution[n]\n",
    "\n",
    "    if left == 0 or right == 0: return [left+right, ]\n",
    "\n",
    "    else:\n",
    "        return parse_solution(left, cut_solution) + parse_solution(right, cut_solution)\n",
    "\n",
    "print(r(18))\n",
    "print(parse_solution(18, solution))"
   ]
  },
  {
   "cell_type": "code",
   "execution_count": 6,
   "metadata": {},
   "outputs": [
    {
     "name": "stdout",
     "output_type": "stream",
     "text": [
      "52\n",
      "[10, 6, 2]\n"
     ]
    }
   ],
   "source": [
    "from collections import defaultdict\n",
    "from functools import lru_cache\n",
    "\n",
    "prices = [1, 5, 8, 9, 10, 17, 17, 20, 24, 30 , 33]\n",
    "complete_price = defaultdict(int)\n",
    "\n",
    "for i, p in enumerate(prices): complete_price[i+1] = p\n",
    "\n",
    "solution = {}\n",
    "cache = {}\n",
    "\n",
    "@lru_cache(maxsize=2**10)\n",
    "def r(n):\n",
    "\n",
    "    candidates = [(complete_price[n], (n, 0))] + [(r(i) + r(n-i), (i, n-i)) for i in range(1, n)]\n",
    "    optimal_price, split = max(candidates)\n",
    "\n",
    "    solution[n] = split\n",
    "    return optimal_price\n",
    "\n",
    "def parse_solution(n, cut_solution):\n",
    "    left, right = cut_solution[n]\n",
    "\n",
    "    if left == 0 or right == 0: return [left+right, ]\n",
    "\n",
    "    else:\n",
    "        return parse_solution(left, cut_solution) + parse_solution(right, cut_solution)\n",
    "\n",
    "print(r(18))\n",
    "print(parse_solution(18, solution))"
   ]
  },
  {
   "cell_type": "code",
   "execution_count": 7,
   "metadata": {},
   "outputs": [
    {
     "data": {
      "text/plain": [
       "-64"
      ]
     },
     "execution_count": 7,
     "metadata": {},
     "output_type": "execute_result"
    }
   ],
   "source": [
    "-2**6"
   ]
  },
  {
   "cell_type": "code",
   "execution_count": 8,
   "metadata": {},
   "outputs": [
    {
     "data": {
      "text/plain": [
       "-0.125"
      ]
     },
     "execution_count": 8,
     "metadata": {},
     "output_type": "execute_result"
    }
   ],
   "source": [
    "(1/8) - (1/2)**2"
   ]
  },
  {
   "cell_type": "code",
   "execution_count": 9,
   "metadata": {},
   "outputs": [
    {
     "data": {
      "text/plain": [
       "25"
      ]
     },
     "execution_count": 9,
     "metadata": {},
     "output_type": "execute_result"
    }
   ],
   "source": [
    "(-2)-(-3)**3"
   ]
  },
  {
   "cell_type": "code",
   "execution_count": 10,
   "metadata": {},
   "outputs": [
    {
     "data": {
      "text/plain": [
       "-12.5"
      ]
     },
     "execution_count": 10,
     "metadata": {},
     "output_type": "execute_result"
    }
   ],
   "source": [
    "(-1/6) / (1/3) * ((-2) - (-3)**3)"
   ]
  },
  {
   "cell_type": "code",
   "execution_count": 11,
   "metadata": {},
   "outputs": [
    {
     "data": {
      "text/plain": [
       "-51.625"
      ]
     },
     "execution_count": 11,
     "metadata": {},
     "output_type": "execute_result"
    }
   ],
   "source": [
    "-64 - (-12.5) - 1/8"
   ]
  },
  {
   "cell_type": "code",
   "execution_count": 12,
   "metadata": {},
   "outputs": [
    {
     "data": {
      "text/plain": [
       "12.5"
      ]
     },
     "execution_count": 12,
     "metadata": {},
     "output_type": "execute_result"
    }
   ],
   "source": [
    "(1/6) / (1/3) * 25"
   ]
  },
  {
   "cell_type": "code",
   "execution_count": 13,
   "metadata": {},
   "outputs": [
    {
     "data": {
      "text/plain": [
       "0.625"
      ]
     },
     "execution_count": 13,
     "metadata": {},
     "output_type": "execute_result"
    }
   ],
   "source": [
    "5/8"
   ]
  },
  {
   "cell_type": "markdown",
   "metadata": {},
   "source": [
    "![欢迎订阅：坍缩的奇点](../assets/Capture-2023-11-02-164446.png)"
   ]
  },
  {
   "cell_type": "code",
   "execution_count": null,
   "metadata": {},
   "outputs": [],
   "source": []
  }
 ],
 "metadata": {
  "kernelspec": {
   "display_name": "ml",
   "language": "python",
   "name": "python3"
  },
  "language_info": {
   "codemirror_mode": {
    "name": "ipython",
    "version": 3
   },
   "file_extension": ".py",
   "mimetype": "text/x-python",
   "name": "python",
   "nbconvert_exporter": "python",
   "pygments_lexer": "ipython3",
   "version": "3.10.18"
  },
  "orig_nbformat": 4
 },
 "nbformat": 4,
 "nbformat_minor": 2
}
