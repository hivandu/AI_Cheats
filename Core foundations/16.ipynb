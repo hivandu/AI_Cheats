{
 "cells": [
  {
   "cell_type": "markdown",
   "metadata": {},
   "source": [
    "## 决策树"
   ]
  },
  {
   "cell_type": "markdown",
   "metadata": {},
   "source": []
  },
  {
   "cell_type": "code",
   "execution_count": 57,
   "metadata": {},
   "outputs": [],
   "source": [
    "import numpy as np\n",
    "from collections import Counter\n",
    "from icecream import ic"
   ]
  },
  {
   "cell_type": "code",
   "execution_count": 76,
   "metadata": {},
   "outputs": [],
   "source": [
    "def pr(es):\n",
    "    counter = Counter(es)\n",
    "\n",
    "    def _wrap(e):\n",
    "        return counter[e] / len(es)\n",
    "    return _wrap\n",
    "\n",
    "def entropy(elements):\n",
    "    # 信息熵\n",
    "    p = pr(elements)\n",
    "    return -np.sum(p(e) * np.log(p(e)) for e in set(elements))\n",
    "\n",
    "def gini(elements):\n",
    "    p = pr(elements)\n",
    "    return 1 - np.sum(p(e) ** 2 for e in set(elements))"
   ]
  },
  {
   "cell_type": "code",
   "execution_count": 77,
   "metadata": {},
   "outputs": [],
   "source": [
    "pure_func = gini"
   ]
  },
  {
   "cell_type": "code",
   "execution_count": 83,
   "metadata": {},
   "outputs": [
    {
     "name": "stderr",
     "output_type": "stream",
     "text": [
      "/var/folders/h4/7cr1cmpn7v5b3x20_9wz8m740000gn/T/ipykernel_29467/623598540.py:15: DeprecationWarning: Calling np.sum(generator) is deprecated, and in the future will give a different result. Use np.sum(np.fromiter(generator)) or the python sum builtin instead.\n",
      "  return 1 - np.sum(p(e) ** 2 for e in set(elements))\n",
      "ic| pure_func([1,1,1,1,1,0]): 0.2777777777777777\n",
      "ic| pure_func([1,1,1,1,1,1]): 0.0\n",
      "ic| pure_func([1,2,3,4,5,8]): 0.8333333333333333\n",
      "ic| pure_func([1,2,3,4,5,9]): 0.8333333333333333\n",
      "ic| pure_func(['a','b','c','c','c','c','c']): 0.44897959183673464\n",
      "ic| pure_func(['a','b','c','c','c','c','d']): 0.6122448979591837\n",
      "ic| pure_func(\"probability\"): 0.8760330578512396\n",
      "ic| pure_func(\"apple\"): 0.72\n",
      "ic| pure_func(\"boom\"): 0.625\n",
      "ic| pure_func(\"dad\"): 0.4444444444444444\n"
     ]
    },
    {
     "data": {
      "text/plain": [
       "0.4444444444444444"
      ]
     },
     "execution_count": 83,
     "metadata": {},
     "output_type": "execute_result"
    }
   ],
   "source": [
    "ic(pure_func([1,1,1,1,1,0]))\n",
    "ic(pure_func([1,1,1,1,1,1]))\n",
    "ic(pure_func([1,2,3,4,5,8]))\n",
    "ic(pure_func([1,2,3,4,5,9]))\n",
    "ic(pure_func(['a','b','c','c','c','c','c']))\n",
    "ic(pure_func(['a','b','c','c','c','c','d']))\n",
    "ic(pure_func(\"probability\"))\n",
    "ic(pure_func(\"apple\"))\n",
    "ic(pure_func(\"boom\"))\n",
    "ic(pure_func(\"dad\"))"
   ]
  },
  {
   "cell_type": "markdown",
   "metadata": {},
   "source": [
    "![欢迎订阅：坍缩的奇点](../assets/Capture-2023-11-02-164446.png)"
   ]
  },
  {
   "cell_type": "code",
   "execution_count": null,
   "metadata": {},
   "outputs": [],
   "source": []
  }
 ],
 "metadata": {
  "kernelspec": {
   "display_name": "tf",
   "language": "python",
   "name": "python3"
  },
  "language_info": {
   "codemirror_mode": {
    "name": "ipython",
    "version": 3
   },
   "file_extension": ".py",
   "mimetype": "text/x-python",
   "name": "python",
   "nbconvert_exporter": "python",
   "pygments_lexer": "ipython3",
   "version": "3.10.12"
  }
 },
 "nbformat": 4,
 "nbformat_minor": 2
}
