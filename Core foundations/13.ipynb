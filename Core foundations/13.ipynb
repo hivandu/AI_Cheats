{
 "cells": [
  {
   "cell_type": "markdown",
   "metadata": {},
   "source": []
  },
  {
   "cell_type": "code",
   "execution_count": 1,
   "metadata": {},
   "outputs": [],
   "source": [
    "from sklearn.model_selection import train_test_split\n",
    "import numpy as np"
   ]
  },
  {
   "cell_type": "code",
   "execution_count": 6,
   "metadata": {},
   "outputs": [],
   "source": [
    "# method-01: split, using sklearn, pytorch, keras\n",
    "sample_data = np.random.random(size=(100, 5))\n",
    "train, test = train_test_split(sample_data, train_size=0.8)\n",
    "# train"
   ]
  },
  {
   "cell_type": "code",
   "execution_count": 11,
   "metadata": {},
   "outputs": [
    {
     "data": {
      "text/plain": [
       "80"
      ]
     },
     "execution_count": 11,
     "metadata": {},
     "output_type": "execute_result"
    }
   ],
   "source": [
    "# method-02: numpy random\n",
    "indices = np.random.choice(range(len(sample_data)), size=int(0.8*(len(sample_data))), replace=True)\n",
    "len(indices)"
   ]
  },
  {
   "cell_type": "code",
   "execution_count": 20,
   "metadata": {},
   "outputs": [
    {
     "name": "stderr",
     "output_type": "stream",
     "text": [
      "ic| normalize(np.array(some_large_number)): array([0.07847317, 1.        , 0.18225672, 0.        , 0.50979325,\n",
      "                                                   0.5055623 ])\n"
     ]
    },
    {
     "data": {
      "text/plain": [
       "array([0.07847317, 1.        , 0.18225672, 0.        , 0.50979325,\n",
       "       0.5055623 ])"
      ]
     },
     "execution_count": 20,
     "metadata": {},
     "output_type": "execute_result"
    }
   ],
   "source": [
    "from icecream import ic\n",
    "some_large_number = [23421421,42155151,25531238,21826139, 32189732, 32103721]\n",
    "\n",
    "def normalize(x):\n",
    "    return (x - np.min(x)) / (np.max(x) - np.min(x))\n",
    "\n",
    "ic(normalize(np.array(some_large_number)))"
   ]
  },
  {
   "cell_type": "code",
   "execution_count": 22,
   "metadata": {},
   "outputs": [
    {
     "name": "stderr",
     "output_type": "stream",
     "text": [
      "ic| normalize(np.array(some_small_number)): array([0.        , 0.56588085, 0.00185592, 1.        , 0.05639333])\n"
     ]
    },
    {
     "data": {
      "text/plain": [
       "array([0.        , 0.56588085, 0.00185592, 1.        , 0.05639333])"
      ]
     },
     "execution_count": 22,
     "metadata": {},
     "output_type": "execute_result"
    }
   ],
   "source": [
    "some_small_number = [0.00000231213,  0.0005600321, 0.0000041412892, 0.000987890576, 0.0000578921764]\n",
    "ic(normalize(np.array(some_small_number)))"
   ]
  },
  {
   "cell_type": "code",
   "execution_count": 25,
   "metadata": {},
   "outputs": [
    {
     "name": "stderr",
     "output_type": "stream",
     "text": [
      "ic| standarlize(np.array(some_dense_number)): array([-0.18752289,  0.51568795,  1.2188988 , -1.59394459,  0.93761446,\n",
      "                                                     -0.89073374])\n"
     ]
    },
    {
     "data": {
      "text/plain": [
       "array([-0.18752289,  0.51568795,  1.2188988 , -1.59394459,  0.93761446,\n",
       "       -0.89073374])"
      ]
     },
     "execution_count": 25,
     "metadata": {},
     "output_type": "execute_result"
    }
   ],
   "source": [
    "some_dense_number = [47238941, 47238946, 47238951, 47238931, 47238949, 47238936]\n",
    "def standarlize(x):\n",
    "    return (x - np.mean(x))/ np.std(x)\n",
    "\n",
    "ic(standarlize(np.array(some_dense_number)))"
   ]
  },
  {
   "cell_type": "code",
   "execution_count": 26,
   "metadata": {},
   "outputs": [],
   "source": [
    "def f(x):\n",
    "    return (0, 1) # 是否买入"
   ]
  },
  {
   "cell_type": "code",
   "execution_count": 32,
   "metadata": {},
   "outputs": [
    {
     "name": "stderr",
     "output_type": "stream",
     "text": [
      "ic| one_hot(array): [[0, 0, 0, 1, 0],\n",
      "                     [0, 0, 0, 0, 1],\n",
      "                     [0, 0, 1, 0, 0],\n",
      "                     [1, 0, 0, 0, 0],\n",
      "                     [0, 1, 0, 0, 0],\n",
      "                     [0, 0, 0, 0, 1],\n",
      "                     [0, 0, 0, 1, 0]]\n"
     ]
    },
    {
     "data": {
      "text/plain": [
       "[[0, 0, 0, 1, 0],\n",
       " [0, 0, 0, 0, 1],\n",
       " [0, 0, 1, 0, 0],\n",
       " [1, 0, 0, 0, 0],\n",
       " [0, 1, 0, 0, 0],\n",
       " [0, 0, 0, 0, 1],\n",
       " [0, 0, 0, 1, 0]]"
      ]
     },
     "execution_count": 32,
     "metadata": {},
     "output_type": "execute_result"
    }
   ],
   "source": [
    "array = ['北京','上海','广州','宁夏','成都','上海','北京']\n",
    "\n",
    "def one_hot(elements):\n",
    "    pure = list(set(elements))\n",
    "    \n",
    "    vectors = []\n",
    "\n",
    "    for i in elements:\n",
    "        vec = [0] * len(pure)\n",
    "        vec[pure.index(i)] = 1\n",
    "        vectors.append(vec)\n",
    "\n",
    "    return vectors\n",
    "ic(one_hot(array))"
   ]
  },
  {
   "cell_type": "code",
   "execution_count": 48,
   "metadata": {},
   "outputs": [],
   "source": [
    "x = [1231, 12314, 4341, 1542, 4123, 4512, 3213, 1241, 1231, 6842]\n",
    "x = np.array(normalize(x))\n",
    "\n",
    "weights = np.random.random(size=(10, 3))"
   ]
  },
  {
   "cell_type": "code",
   "execution_count": 49,
   "metadata": {},
   "outputs": [],
   "source": [
    "logits = np.dot(x, weights)"
   ]
  },
  {
   "cell_type": "markdown",
   "metadata": {},
   "source": [
    "## SOFTMAX"
   ]
  },
  {
   "cell_type": "code",
   "execution_count": 61,
   "metadata": {},
   "outputs": [
    {
     "name": "stderr",
     "output_type": "stream",
     "text": [
      "ic| softmax(logits): array([0.35582057, 0.35321973, 0.2909597 ])\n"
     ]
    },
    {
     "data": {
      "text/plain": [
       "array([0.35582057, 0.35321973, 0.2909597 ])"
      ]
     },
     "execution_count": 61,
     "metadata": {},
     "output_type": "execute_result"
    }
   ],
   "source": [
    "def softmax(x):\n",
    "    x = np.array(x)\n",
    "    x -= np.max(x)\n",
    "    return np.exp(x) / np.sum(np.exp(x))\n",
    "\n",
    "ic(softmax(logits))"
   ]
  },
  {
   "cell_type": "code",
   "execution_count": 51,
   "metadata": {},
   "outputs": [],
   "source": [
    "def cross_entropy(yhat, y):\n",
    "    return -np.sum(y_i * np.log(yhat_i) for y_i, yhat_i in zip(y, yhat))"
   ]
  },
  {
   "cell_type": "code",
   "execution_count": 62,
   "metadata": {},
   "outputs": [
    {
     "name": "stderr",
     "output_type": "stream",
     "text": [
      "/var/folders/h4/7cr1cmpn7v5b3x20_9wz8m740000gn/T/ipykernel_68922/3167118538.py:2: DeprecationWarning: Calling np.sum(generator) is deprecated, and in the future will give a different result. Use np.sum(np.fromiter(generator)) or the python sum builtin instead.\n",
      "  return -np.sum(y_i * np.log(yhat_i) for y_i, yhat_i in zip(y, yhat))\n",
      "ic| cross_entropy(softmax(logits),y): 1.040664959870481\n"
     ]
    },
    {
     "data": {
      "text/plain": [
       "1.040664959870481"
      ]
     },
     "execution_count": 62,
     "metadata": {},
     "output_type": "execute_result"
    }
   ],
   "source": [
    "y = [0, 1, 0]\n",
    "ic(cross_entropy(softmax(logits),y))"
   ]
  },
  {
   "cell_type": "markdown",
   "metadata": {},
   "source": [
    "![欢迎订阅：坍缩的奇点](../assets/Capture-2023-11-02-164446.png)"
   ]
  },
  {
   "cell_type": "code",
   "execution_count": null,
   "metadata": {},
   "outputs": [],
   "source": []
  }
 ],
 "metadata": {
  "kernelspec": {
   "display_name": "tf",
   "language": "python",
   "name": "python3"
  },
  "language_info": {
   "codemirror_mode": {
    "name": "ipython",
    "version": 3
   },
   "file_extension": ".py",
   "mimetype": "text/x-python",
   "name": "python",
   "nbconvert_exporter": "python",
   "pygments_lexer": "ipython3",
   "version": "3.10.12"
  }
 },
 "nbformat": 4,
 "nbformat_minor": 2
}
