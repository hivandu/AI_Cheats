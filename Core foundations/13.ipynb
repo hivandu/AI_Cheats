{
 "cells": [
  {
   "cell_type": "markdown",
   "metadata": {},
   "source": []
  },
  {
   "cell_type": "code",
   "execution_count": 1,
   "metadata": {},
   "outputs": [],
   "source": [
    "from sklearn.model_selection import train_test_split\n",
    "import numpy as np"
   ]
  },
  {
   "cell_type": "code",
   "execution_count": 2,
   "metadata": {},
   "outputs": [],
   "source": [
    "# method-01: split, using sklearn, pytorch, keras\n",
    "sample_data = np.random.random(size=(100, 5))\n",
    "train, test = train_test_split(sample_data, train_size=0.8)\n",
    "# train"
   ]
  },
  {
   "cell_type": "code",
   "execution_count": 3,
   "metadata": {},
   "outputs": [
    {
     "data": {
      "text/plain": [
       "80"
      ]
     },
     "execution_count": 3,
     "metadata": {},
     "output_type": "execute_result"
    }
   ],
   "source": [
    "# method-02: numpy random\n",
    "indices = np.random.choice(range(len(sample_data)), size=int(0.8*(len(sample_data))), replace=True)\n",
    "len(indices)"
   ]
  },
  {
   "cell_type": "code",
   "execution_count": 4,
   "metadata": {},
   "outputs": [
    {
     "name": "stderr",
     "output_type": "stream",
     "text": [
      "\u001b[38;5;247mic\u001b[39m\u001b[38;5;245m|\u001b[39m\u001b[38;5;245m \u001b[39m\u001b[38;5;247mnormalize\u001b[39m\u001b[38;5;245m(\u001b[39m\u001b[38;5;247mnp\u001b[39m\u001b[38;5;245m.\u001b[39m\u001b[38;5;247marray\u001b[39m\u001b[38;5;245m(\u001b[39m\u001b[38;5;247msome_large_number\u001b[39m\u001b[38;5;245m)\u001b[39m\u001b[38;5;245m)\u001b[39m\u001b[38;5;245m:\u001b[39m\u001b[38;5;245m \u001b[39m\u001b[38;5;247marray\u001b[39m\u001b[38;5;245m(\u001b[39m\u001b[38;5;245m[\u001b[39m\u001b[38;5;36m0.07847317\u001b[39m\u001b[38;5;245m,\u001b[39m\u001b[38;5;245m \u001b[39m\u001b[38;5;36m1.\u001b[39m\u001b[38;5;245m        \u001b[39m\u001b[38;5;245m,\u001b[39m\u001b[38;5;245m \u001b[39m\u001b[38;5;36m0.18225672\u001b[39m\u001b[38;5;245m,\u001b[39m\u001b[38;5;245m \u001b[39m\u001b[38;5;36m0.\u001b[39m\u001b[38;5;245m        \u001b[39m\u001b[38;5;245m,\u001b[39m\u001b[38;5;245m \u001b[39m\u001b[38;5;36m0.50979325\u001b[39m\u001b[38;5;245m,\u001b[39m\n",
      "\u001b[38;5;245m                                                   \u001b[39m\u001b[38;5;36m0.5055623\u001b[39m\u001b[38;5;245m \u001b[39m\u001b[38;5;245m]\u001b[39m\u001b[38;5;245m)\u001b[39m\n"
     ]
    },
    {
     "data": {
      "text/plain": [
       "array([0.07847317, 1.        , 0.18225672, 0.        , 0.50979325,\n",
       "       0.5055623 ])"
      ]
     },
     "execution_count": 4,
     "metadata": {},
     "output_type": "execute_result"
    }
   ],
   "source": [
    "from icecream import ic\n",
    "some_large_number = [23421421,42155151,25531238,21826139, 32189732, 32103721]\n",
    "\n",
    "def normalize(x):\n",
    "    return (x - np.min(x)) / (np.max(x) - np.min(x))\n",
    "\n",
    "ic(normalize(np.array(some_large_number)))"
   ]
  },
  {
   "cell_type": "code",
   "execution_count": 5,
   "metadata": {},
   "outputs": [
    {
     "name": "stderr",
     "output_type": "stream",
     "text": [
      "\u001b[38;5;247mic\u001b[39m\u001b[38;5;245m|\u001b[39m\u001b[38;5;245m \u001b[39m\u001b[38;5;247mnormalize\u001b[39m\u001b[38;5;245m(\u001b[39m\u001b[38;5;247mnp\u001b[39m\u001b[38;5;245m.\u001b[39m\u001b[38;5;247marray\u001b[39m\u001b[38;5;245m(\u001b[39m\u001b[38;5;247msome_small_number\u001b[39m\u001b[38;5;245m)\u001b[39m\u001b[38;5;245m)\u001b[39m\u001b[38;5;245m:\u001b[39m\u001b[38;5;245m \u001b[39m\u001b[38;5;247marray\u001b[39m\u001b[38;5;245m(\u001b[39m\u001b[38;5;245m[\u001b[39m\u001b[38;5;36m0.\u001b[39m\u001b[38;5;245m        \u001b[39m\u001b[38;5;245m,\u001b[39m\u001b[38;5;245m \u001b[39m\u001b[38;5;36m0.56588085\u001b[39m\u001b[38;5;245m,\u001b[39m\u001b[38;5;245m \u001b[39m\u001b[38;5;36m0.00185592\u001b[39m\u001b[38;5;245m,\u001b[39m\u001b[38;5;245m \u001b[39m\u001b[38;5;36m1.\u001b[39m\u001b[38;5;245m        \u001b[39m\u001b[38;5;245m,\u001b[39m\u001b[38;5;245m \u001b[39m\u001b[38;5;36m0.05639333\u001b[39m\u001b[38;5;245m]\u001b[39m\u001b[38;5;245m)\u001b[39m\n"
     ]
    },
    {
     "data": {
      "text/plain": [
       "array([0.        , 0.56588085, 0.00185592, 1.        , 0.05639333])"
      ]
     },
     "execution_count": 5,
     "metadata": {},
     "output_type": "execute_result"
    }
   ],
   "source": [
    "some_small_number = [0.00000231213,  0.0005600321, 0.0000041412892, 0.000987890576, 0.0000578921764]\n",
    "ic(normalize(np.array(some_small_number)))"
   ]
  },
  {
   "cell_type": "code",
   "execution_count": 6,
   "metadata": {},
   "outputs": [
    {
     "name": "stderr",
     "output_type": "stream",
     "text": [
      "\u001b[38;5;247mic\u001b[39m\u001b[38;5;245m|\u001b[39m\u001b[38;5;245m \u001b[39m\u001b[38;5;247mstandarlize\u001b[39m\u001b[38;5;245m(\u001b[39m\u001b[38;5;247mnp\u001b[39m\u001b[38;5;245m.\u001b[39m\u001b[38;5;247marray\u001b[39m\u001b[38;5;245m(\u001b[39m\u001b[38;5;247msome_dense_number\u001b[39m\u001b[38;5;245m)\u001b[39m\u001b[38;5;245m)\u001b[39m\u001b[38;5;245m:\u001b[39m\u001b[38;5;245m \u001b[39m\u001b[38;5;247marray\u001b[39m\u001b[38;5;245m(\u001b[39m\u001b[38;5;245m[\u001b[39m\u001b[38;5;245m-\u001b[39m\u001b[38;5;36m0.18752289\u001b[39m\u001b[38;5;245m,\u001b[39m\u001b[38;5;245m  \u001b[39m\u001b[38;5;36m0.51568795\u001b[39m\u001b[38;5;245m,\u001b[39m\u001b[38;5;245m  \u001b[39m\u001b[38;5;36m1.2188988\u001b[39m\u001b[38;5;245m \u001b[39m\u001b[38;5;245m,\u001b[39m\u001b[38;5;245m \u001b[39m\u001b[38;5;245m-\u001b[39m\u001b[38;5;36m1.59394459\u001b[39m\u001b[38;5;245m,\u001b[39m\u001b[38;5;245m  \u001b[39m\u001b[38;5;36m0.93761446\u001b[39m\u001b[38;5;245m,\u001b[39m\n",
      "\u001b[38;5;245m                                                     \u001b[39m\u001b[38;5;245m-\u001b[39m\u001b[38;5;36m0.89073374\u001b[39m\u001b[38;5;245m]\u001b[39m\u001b[38;5;245m)\u001b[39m\n"
     ]
    },
    {
     "data": {
      "text/plain": [
       "array([-0.18752289,  0.51568795,  1.2188988 , -1.59394459,  0.93761446,\n",
       "       -0.89073374])"
      ]
     },
     "execution_count": 6,
     "metadata": {},
     "output_type": "execute_result"
    }
   ],
   "source": [
    "some_dense_number = [47238941, 47238946, 47238951, 47238931, 47238949, 47238936]\n",
    "def standarlize(x):\n",
    "    return (x - np.mean(x))/ np.std(x)\n",
    "\n",
    "ic(standarlize(np.array(some_dense_number)))"
   ]
  },
  {
   "cell_type": "code",
   "execution_count": 7,
   "metadata": {},
   "outputs": [],
   "source": [
    "def f(x):\n",
    "    return (0, 1) # 是否买入"
   ]
  },
  {
   "cell_type": "code",
   "execution_count": 8,
   "metadata": {},
   "outputs": [
    {
     "name": "stderr",
     "output_type": "stream",
     "text": [
      "\u001b[38;5;247mic\u001b[39m\u001b[38;5;245m|\u001b[39m\u001b[38;5;245m \u001b[39m\u001b[38;5;247mone_hot\u001b[39m\u001b[38;5;245m(\u001b[39m\u001b[38;5;247marray\u001b[39m\u001b[38;5;245m)\u001b[39m\u001b[38;5;245m:\u001b[39m\u001b[38;5;245m \u001b[39m\u001b[38;5;245m[\u001b[39m\u001b[38;5;245m[\u001b[39m\u001b[38;5;36m0\u001b[39m\u001b[38;5;245m,\u001b[39m\u001b[38;5;245m \u001b[39m\u001b[38;5;36m0\u001b[39m\u001b[38;5;245m,\u001b[39m\u001b[38;5;245m \u001b[39m\u001b[38;5;36m0\u001b[39m\u001b[38;5;245m,\u001b[39m\u001b[38;5;245m \u001b[39m\u001b[38;5;36m0\u001b[39m\u001b[38;5;245m,\u001b[39m\u001b[38;5;245m \u001b[39m\u001b[38;5;36m1\u001b[39m\u001b[38;5;245m]\u001b[39m\u001b[38;5;245m,\u001b[39m\n",
      "\u001b[38;5;245m                     \u001b[39m\u001b[38;5;245m[\u001b[39m\u001b[38;5;36m1\u001b[39m\u001b[38;5;245m,\u001b[39m\u001b[38;5;245m \u001b[39m\u001b[38;5;36m0\u001b[39m\u001b[38;5;245m,\u001b[39m\u001b[38;5;245m \u001b[39m\u001b[38;5;36m0\u001b[39m\u001b[38;5;245m,\u001b[39m\u001b[38;5;245m \u001b[39m\u001b[38;5;36m0\u001b[39m\u001b[38;5;245m,\u001b[39m\u001b[38;5;245m \u001b[39m\u001b[38;5;36m0\u001b[39m\u001b[38;5;245m]\u001b[39m\u001b[38;5;245m,\u001b[39m\n",
      "\u001b[38;5;245m                     \u001b[39m\u001b[38;5;245m[\u001b[39m\u001b[38;5;36m0\u001b[39m\u001b[38;5;245m,\u001b[39m\u001b[38;5;245m \u001b[39m\u001b[38;5;36m0\u001b[39m\u001b[38;5;245m,\u001b[39m\u001b[38;5;245m \u001b[39m\u001b[38;5;36m1\u001b[39m\u001b[38;5;245m,\u001b[39m\u001b[38;5;245m \u001b[39m\u001b[38;5;36m0\u001b[39m\u001b[38;5;245m,\u001b[39m\u001b[38;5;245m \u001b[39m\u001b[38;5;36m0\u001b[39m\u001b[38;5;245m]\u001b[39m\u001b[38;5;245m,\u001b[39m\n",
      "\u001b[38;5;245m                     \u001b[39m\u001b[38;5;245m[\u001b[39m\u001b[38;5;36m0\u001b[39m\u001b[38;5;245m,\u001b[39m\u001b[38;5;245m \u001b[39m\u001b[38;5;36m1\u001b[39m\u001b[38;5;245m,\u001b[39m\u001b[38;5;245m \u001b[39m\u001b[38;5;36m0\u001b[39m\u001b[38;5;245m,\u001b[39m\u001b[38;5;245m \u001b[39m\u001b[38;5;36m0\u001b[39m\u001b[38;5;245m,\u001b[39m\u001b[38;5;245m \u001b[39m\u001b[38;5;36m0\u001b[39m\u001b[38;5;245m]\u001b[39m\u001b[38;5;245m,\u001b[39m\n",
      "\u001b[38;5;245m                     \u001b[39m\u001b[38;5;245m[\u001b[39m\u001b[38;5;36m0\u001b[39m\u001b[38;5;245m,\u001b[39m\u001b[38;5;245m \u001b[39m\u001b[38;5;36m0\u001b[39m\u001b[38;5;245m,\u001b[39m\u001b[38;5;245m \u001b[39m\u001b[38;5;36m0\u001b[39m\u001b[38;5;245m,\u001b[39m\u001b[38;5;245m \u001b[39m\u001b[38;5;36m1\u001b[39m\u001b[38;5;245m,\u001b[39m\u001b[38;5;245m \u001b[39m\u001b[38;5;36m0\u001b[39m\u001b[38;5;245m]\u001b[39m\u001b[38;5;245m,\u001b[39m\n",
      "\u001b[38;5;245m                     \u001b[39m\u001b[38;5;245m[\u001b[39m\u001b[38;5;36m1\u001b[39m\u001b[38;5;245m,\u001b[39m\u001b[38;5;245m \u001b[39m\u001b[38;5;36m0\u001b[39m\u001b[38;5;245m,\u001b[39m\u001b[38;5;245m \u001b[39m\u001b[38;5;36m0\u001b[39m\u001b[38;5;245m,\u001b[39m\u001b[38;5;245m \u001b[39m\u001b[38;5;36m0\u001b[39m\u001b[38;5;245m,\u001b[39m\u001b[38;5;245m \u001b[39m\u001b[38;5;36m0\u001b[39m\u001b[38;5;245m]\u001b[39m\u001b[38;5;245m,\u001b[39m\n",
      "\u001b[38;5;245m                     \u001b[39m\u001b[38;5;245m[\u001b[39m\u001b[38;5;36m0\u001b[39m\u001b[38;5;245m,\u001b[39m\u001b[38;5;245m \u001b[39m\u001b[38;5;36m0\u001b[39m\u001b[38;5;245m,\u001b[39m\u001b[38;5;245m \u001b[39m\u001b[38;5;36m0\u001b[39m\u001b[38;5;245m,\u001b[39m\u001b[38;5;245m \u001b[39m\u001b[38;5;36m0\u001b[39m\u001b[38;5;245m,\u001b[39m\u001b[38;5;245m \u001b[39m\u001b[38;5;36m1\u001b[39m\u001b[38;5;245m]\u001b[39m\u001b[38;5;245m]\u001b[39m\n"
     ]
    },
    {
     "data": {
      "text/plain": [
       "[[0, 0, 0, 0, 1],\n",
       " [1, 0, 0, 0, 0],\n",
       " [0, 0, 1, 0, 0],\n",
       " [0, 1, 0, 0, 0],\n",
       " [0, 0, 0, 1, 0],\n",
       " [1, 0, 0, 0, 0],\n",
       " [0, 0, 0, 0, 1]]"
      ]
     },
     "execution_count": 8,
     "metadata": {},
     "output_type": "execute_result"
    }
   ],
   "source": [
    "array = ['北京','上海','广州','宁夏','成都','上海','北京']\n",
    "\n",
    "def one_hot(elements):\n",
    "    pure = list(set(elements))\n",
    "    \n",
    "    vectors = []\n",
    "\n",
    "    for i in elements:\n",
    "        vec = [0] * len(pure)\n",
    "        vec[pure.index(i)] = 1\n",
    "        vectors.append(vec)\n",
    "\n",
    "    return vectors\n",
    "ic(one_hot(array))"
   ]
  },
  {
   "cell_type": "code",
   "execution_count": 9,
   "metadata": {},
   "outputs": [],
   "source": [
    "x = [1231, 12314, 4341, 1542, 4123, 4512, 3213, 1241, 1231, 6842]\n",
    "x = np.array(normalize(x))\n",
    "\n",
    "weights = np.random.random(size=(10, 3))"
   ]
  },
  {
   "cell_type": "code",
   "execution_count": 10,
   "metadata": {},
   "outputs": [],
   "source": [
    "logits = np.dot(x, weights)"
   ]
  },
  {
   "cell_type": "markdown",
   "metadata": {},
   "source": [
    "## SOFTMAX"
   ]
  },
  {
   "cell_type": "code",
   "execution_count": 11,
   "metadata": {},
   "outputs": [
    {
     "name": "stderr",
     "output_type": "stream",
     "text": [
      "\u001b[38;5;247mic\u001b[39m\u001b[38;5;245m|\u001b[39m\u001b[38;5;245m \u001b[39m\u001b[38;5;247msoftmax\u001b[39m\u001b[38;5;245m(\u001b[39m\u001b[38;5;247mlogits\u001b[39m\u001b[38;5;245m)\u001b[39m\u001b[38;5;245m:\u001b[39m\u001b[38;5;245m \u001b[39m\u001b[38;5;247marray\u001b[39m\u001b[38;5;245m(\u001b[39m\u001b[38;5;245m[\u001b[39m\u001b[38;5;36m0.32260344\u001b[39m\u001b[38;5;245m,\u001b[39m\u001b[38;5;245m \u001b[39m\u001b[38;5;36m0.41559881\u001b[39m\u001b[38;5;245m,\u001b[39m\u001b[38;5;245m \u001b[39m\u001b[38;5;36m0.26179774\u001b[39m\u001b[38;5;245m]\u001b[39m\u001b[38;5;245m)\u001b[39m\n"
     ]
    },
    {
     "data": {
      "text/plain": [
       "array([0.32260344, 0.41559881, 0.26179774])"
      ]
     },
     "execution_count": 11,
     "metadata": {},
     "output_type": "execute_result"
    }
   ],
   "source": [
    "def softmax(x):\n",
    "    x = np.array(x)\n",
    "    x -= np.max(x)\n",
    "    return np.exp(x) / np.sum(np.exp(x))\n",
    "\n",
    "ic(softmax(logits))"
   ]
  },
  {
   "cell_type": "code",
   "execution_count": 12,
   "metadata": {},
   "outputs": [],
   "source": [
    "def cross_entropy(yhat, y):\n",
    "    return -np.sum(y_i * np.log(yhat_i) for y_i, yhat_i in zip(y, yhat))"
   ]
  },
  {
   "cell_type": "code",
   "execution_count": 13,
   "metadata": {},
   "outputs": [
    {
     "name": "stderr",
     "output_type": "stream",
     "text": [
      "/var/folders/h4/7cr1cmpn7v5b3x20_9wz8m740000gn/T/ipykernel_65688/3167118538.py:2: DeprecationWarning: Calling np.sum(generator) is deprecated, and in the future will give a different result. Use np.sum(np.fromiter(generator)) or the python sum builtin instead.\n",
      "  return -np.sum(y_i * np.log(yhat_i) for y_i, yhat_i in zip(y, yhat))\n",
      "\u001b[38;5;247mic\u001b[39m\u001b[38;5;245m|\u001b[39m\u001b[38;5;245m \u001b[39m\u001b[38;5;247mcross_entropy\u001b[39m\u001b[38;5;245m(\u001b[39m\u001b[38;5;247msoftmax\u001b[39m\u001b[38;5;245m(\u001b[39m\u001b[38;5;247mlogits\u001b[39m\u001b[38;5;245m)\u001b[39m\u001b[38;5;245m,\u001b[39m\u001b[38;5;247my\u001b[39m\u001b[38;5;245m)\u001b[39m\u001b[38;5;245m:\u001b[39m\u001b[38;5;245m \u001b[39m\u001b[38;5;36m0.8780348724585387\u001b[39m\n"
     ]
    },
    {
     "data": {
      "text/plain": [
       "0.8780348724585387"
      ]
     },
     "execution_count": 13,
     "metadata": {},
     "output_type": "execute_result"
    }
   ],
   "source": [
    "y = [0, 1, 0]\n",
    "ic(cross_entropy(softmax(logits),y))"
   ]
  },
  {
   "cell_type": "markdown",
   "metadata": {},
   "source": [
    "![欢迎订阅：坍缩的奇点](../assets/Capture-2023-11-02-164446.png)"
   ]
  },
  {
   "cell_type": "code",
   "execution_count": null,
   "metadata": {},
   "outputs": [],
   "source": []
  }
 ],
 "metadata": {
  "kernelspec": {
   "display_name": "ml",
   "language": "python",
   "name": "python3"
  },
  "language_info": {
   "codemirror_mode": {
    "name": "ipython",
    "version": 3
   },
   "file_extension": ".py",
   "mimetype": "text/x-python",
   "name": "python",
   "nbconvert_exporter": "python",
   "pygments_lexer": "ipython3",
   "version": "3.10.18"
  }
 },
 "nbformat": 4,
 "nbformat_minor": 2
}
