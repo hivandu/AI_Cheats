{
 "cells": [
  {
   "cell_type": "markdown",
   "metadata": {},
   "source": [
    "# 10. 机器学习"
   ]
  },
  {
   "cell_type": "markdown",
   "metadata": {},
   "source": []
  },
  {
   "cell_type": "code",
   "execution_count": 33,
   "metadata": {},
   "outputs": [],
   "source": [
    "import random\n",
    "\n",
    "import pandas as pd\n",
    "import matplotlib.pyplot as plt\n",
    "import seaborn as sns\n",
    "import numpy as np\n",
    "import re\n",
    "from matplotlib.animation import FuncAnimation\n",
    "from sklearn.datasets import fetch_openml\n",
    "\n",
    "dataset = fetch_openml(name='boston', version=1, as_frame=True, return_X_y=False, parser='pandas')"
   ]
  },
  {
   "cell_type": "code",
   "execution_count": 34,
   "metadata": {},
   "outputs": [],
   "source": [
    "data = dataset['data']\n",
    "target = dataset['target']\n",
    "columns = dataset['feature_names']\n",
    "\n",
    "dataframe = pd.DataFrame(data)\n",
    "dataframe.columns = columns\n",
    "dataframe['price'] = dataset['target']\n",
    "\n",
    "rm = dataframe['RM']\n",
    "lstat = dataframe['LSTAT']"
   ]
  },
  {
   "cell_type": "code",
   "execution_count": 35,
   "metadata": {},
   "outputs": [],
   "source": [
    "greater_then_most = np.percentile(dataframe['price'], 66)\n",
    "dataframe['expensive'] = dataframe['price'].apply(lambda p: int(p > greater_then_most))\n",
    "expensive = dataframe['expensive']"
   ]
  },
  {
   "cell_type": "code",
   "execution_count": 23,
   "metadata": {},
   "outputs": [],
   "source": [
    "def logistic(x):\n",
    "    return 1 / (1 + np.exp(-x))\n",
    "\n",
    "def model(x, w, b):\n",
    "    return logistic(np.dot(x, w.T) + b)\n",
    "\n",
    "def loss(yhat, y):\n",
    "    return -np.sum(y * np.log(yhat) + (1 - y) * np.log(1 - yhat))\n",
    "\n",
    "def partial_w(x, y, yhat):\n",
    "    return np.array([np.sum((yhat - y) * x[0]), np.sum((yhat - y) * x[1])])\n",
    "\n",
    "def partial_b(x, y, yhat):\n",
    "    return np.sum((yhat - y))"
   ]
  },
  {
   "cell_type": "code",
   "execution_count": 24,
   "metadata": {},
   "outputs": [],
   "source": [
    "import pickle"
   ]
  },
  {
   "cell_type": "code",
   "execution_count": 25,
   "metadata": {},
   "outputs": [],
   "source": [
    "def train(model_to_be_train, target, loss, pw, pb):\n",
    "    w = np.random.random_sample((1, 2))\n",
    "    b = 0\n",
    "\n",
    "    learning_rate = 1e-5\n",
    "    epoch = 200\n",
    "    losses = []\n",
    "\n",
    "    history_k_b_loss = []\n",
    "\n",
    "    for i in range(epoch):\n",
    "        batch_loss = []\n",
    "        for batch in range(len(rm)):\n",
    "            index = random.choice(range(len(rm)))\n",
    "\n",
    "            x = np.array([rm[index], lstat[index]])\n",
    "            y = expensive[index]\n",
    "\n",
    "            yhat = model_to_be_train(x, w, b)\n",
    "            loss_v = loss(yhat, y)\n",
    "\n",
    "            w = w + -1 * partial_w(x, y, yhat) * learning_rate\n",
    "            b = b + -1 * partial_b(x, y, yhat) * learning_rate\n",
    "\n",
    "            batch_loss.append(loss_v)\n",
    "            history_k_b_loss.append((w, b, loss_v))\n",
    "\n",
    "        #     if batch % 100 == 0:\n",
    "        #         print('Epoch: {}, Batch: {}, loss:{}'.format(i, batch, loss_v))\n",
    "        # losses.append(np.mean(batch_loss))\n",
    "    return model_to_be_train, w, b, losses"
   ]
  },
  {
   "cell_type": "code",
   "execution_count": 18,
   "metadata": {},
   "outputs": [
    {
     "name": "stdout",
     "output_type": "stream",
     "text": [
      "pickle write finished\n"
     ]
    }
   ],
   "source": [
    "model, w, b, losses = train(model, target, loss, partial_w, partial_b)\n",
    "\n",
    "with open('logistic_regression.model', 'wb') as f:\n",
    "    pickle.dump(model, f)\n",
    "\n",
    "with open('w.model', 'wb') as f:\n",
    "    pickle.dump(w, f)\n",
    "\n",
    "with open('b.model', 'wb') as f:\n",
    "    pickle.dump(b, f)\n",
    "\n",
    "print('pickle write finished')"
   ]
  },
  {
   "cell_type": "code",
   "execution_count": 31,
   "metadata": {},
   "outputs": [
    {
     "name": "stdout",
     "output_type": "stream",
     "text": [
      "pickle read finished\n"
     ]
    }
   ],
   "source": [
    "import pickle\n",
    "\n",
    "with open('logistic_regression.model', 'rb') as f:\n",
    "    model_r = pickle.load(f)\n",
    "\n",
    "with open('w.model', 'rb') as f:\n",
    "    w_r = pickle.load(f)\n",
    "\n",
    "with open('b.model', 'rb') as f:\n",
    "    b_r = pickle.load(f)\n",
    "\n",
    "print('pickle read finished')"
   ]
  },
  {
   "cell_type": "code",
   "execution_count": 40,
   "metadata": {},
   "outputs": [],
   "source": [
    "true_labels, predicated_labels = [], []"
   ]
  },
  {
   "cell_type": "code",
   "execution_count": 41,
   "metadata": {},
   "outputs": [
    {
     "name": "stdout",
     "output_type": "stream",
     "text": [
      "RM:6.975, LSTAT:4.56, EXPENSIVE:1, Predicated:1\n",
      "RM:6.968, LSTAT:17.21, EXPENSIVE:0, Predicated:0\n",
      "RM:6.164, LSTAT:21.46, EXPENSIVE:0, Predicated:0\n",
      "RM:5.594, LSTAT:13.09, EXPENSIVE:0, Predicated:0\n",
      "RM:6.072, LSTAT:13.04, EXPENSIVE:0, Predicated:0\n",
      "RM:7.52, LSTAT:7.26, EXPENSIVE:1, Predicated:1\n",
      "RM:5.966, LSTAT:14.44, EXPENSIVE:0, Predicated:0\n",
      "RM:6.405, LSTAT:8.2, EXPENSIVE:0, Predicated:0\n",
      "RM:6.854, LSTAT:2.98, EXPENSIVE:1, Predicated:1\n",
      "RM:5.782, LSTAT:15.94, EXPENSIVE:0, Predicated:0\n",
      "RM:6.75, LSTAT:7.74, EXPENSIVE:1, Predicated:1\n",
      "RM:6.826, LSTAT:4.16, EXPENSIVE:1, Predicated:1\n",
      "RM:6.563, LSTAT:5.68, EXPENSIVE:1, Predicated:1\n",
      "RM:7.82, LSTAT:3.57, EXPENSIVE:1, Predicated:1\n",
      "RM:6.459, LSTAT:23.98, EXPENSIVE:0, Predicated:0\n",
      "RM:7.875, LSTAT:2.97, EXPENSIVE:1, Predicated:1\n",
      "RM:5.708, LSTAT:11.74, EXPENSIVE:0, Predicated:0\n",
      "RM:6.072, LSTAT:13.04, EXPENSIVE:0, Predicated:0\n",
      "RM:4.138, LSTAT:37.97, EXPENSIVE:0, Predicated:0\n",
      "RM:6.212, LSTAT:17.6, EXPENSIVE:0, Predicated:0\n",
      "RM:6.162, LSTAT:7.43, EXPENSIVE:1, Predicated:0\n",
      "RM:6.579, LSTAT:5.49, EXPENSIVE:1, Predicated:1\n",
      "RM:6.516, LSTAT:6.36, EXPENSIVE:0, Predicated:1\n",
      "RM:6.172, LSTAT:19.15, EXPENSIVE:1, Predicated:0\n",
      "RM:5.889, LSTAT:15.71, EXPENSIVE:0, Predicated:0\n",
      "RM:5.304, LSTAT:24.91, EXPENSIVE:0, Predicated:0\n",
      "RM:5.875, LSTAT:8.88, EXPENSIVE:1, Predicated:0\n",
      "RM:5.663, LSTAT:8.05, EXPENSIVE:0, Predicated:0\n",
      "RM:6.341, LSTAT:17.79, EXPENSIVE:0, Predicated:0\n",
      "RM:5.854, LSTAT:11.64, EXPENSIVE:0, Predicated:0\n",
      "RM:6.031, LSTAT:7.83, EXPENSIVE:0, Predicated:0\n",
      "RM:6.436, LSTAT:16.22, EXPENSIVE:0, Predicated:0\n",
      "RM:4.88, LSTAT:30.62, EXPENSIVE:0, Predicated:0\n",
      "RM:6.162, LSTAT:24.1, EXPENSIVE:0, Predicated:0\n",
      "RM:7.645, LSTAT:3.01, EXPENSIVE:1, Predicated:1\n",
      "RM:5.599, LSTAT:16.51, EXPENSIVE:0, Predicated:0\n",
      "RM:6.54, LSTAT:8.65, EXPENSIVE:0, Predicated:0\n",
      "RM:5.963, LSTAT:13.45, EXPENSIVE:0, Predicated:0\n",
      "RM:5.88, LSTAT:12.03, EXPENSIVE:0, Predicated:0\n",
      "RM:6.649, LSTAT:23.24, EXPENSIVE:0, Predicated:0\n",
      "RM:5.851, LSTAT:16.47, EXPENSIVE:0, Predicated:0\n",
      "RM:5.759, LSTAT:14.13, EXPENSIVE:0, Predicated:0\n",
      "RM:5.412, LSTAT:29.55, EXPENSIVE:1, Predicated:0\n",
      "RM:7.007, LSTAT:5.5, EXPENSIVE:1, Predicated:1\n",
      "RM:5.857, LSTAT:21.32, EXPENSIVE:0, Predicated:0\n",
      "RM:6.092, LSTAT:17.09, EXPENSIVE:0, Predicated:0\n",
      "RM:6.77, LSTAT:4.84, EXPENSIVE:1, Predicated:1\n",
      "RM:6.549, LSTAT:7.39, EXPENSIVE:1, Predicated:1\n",
      "RM:6.77, LSTAT:4.84, EXPENSIVE:1, Predicated:1\n",
      "RM:5.96, LSTAT:17.27, EXPENSIVE:0, Predicated:0\n",
      "RM:5.727, LSTAT:11.28, EXPENSIVE:0, Predicated:0\n",
      "RM:4.97, LSTAT:3.26, EXPENSIVE:1, Predicated:1\n",
      "RM:6.861, LSTAT:3.33, EXPENSIVE:1, Predicated:1\n",
      "RM:6.29, LSTAT:4.67, EXPENSIVE:0, Predicated:1\n",
      "RM:6.185, LSTAT:18.13, EXPENSIVE:0, Predicated:0\n",
      "RM:8.034, LSTAT:2.88, EXPENSIVE:1, Predicated:1\n",
      "RM:5.924, LSTAT:16.3, EXPENSIVE:0, Predicated:0\n",
      "RM:8.259, LSTAT:3.54, EXPENSIVE:1, Predicated:1\n",
      "RM:6.051, LSTAT:18.76, EXPENSIVE:0, Predicated:0\n",
      "RM:4.138, LSTAT:37.97, EXPENSIVE:0, Predicated:0\n",
      "RM:7.82, LSTAT:3.76, EXPENSIVE:1, Predicated:1\n",
      "RM:6.152, LSTAT:15.02, EXPENSIVE:0, Predicated:0\n",
      "RM:6.49, LSTAT:5.98, EXPENSIVE:0, Predicated:1\n",
      "RM:5.951, LSTAT:17.92, EXPENSIVE:0, Predicated:0\n",
      "RM:6.38, LSTAT:23.69, EXPENSIVE:0, Predicated:0\n",
      "RM:6.575, LSTAT:4.98, EXPENSIVE:1, Predicated:1\n",
      "RM:6.417, LSTAT:6.72, EXPENSIVE:1, Predicated:1\n",
      "RM:6.824, LSTAT:22.74, EXPENSIVE:0, Predicated:0\n",
      "RM:6.635, LSTAT:5.99, EXPENSIVE:1, Predicated:1\n",
      "RM:6.122, LSTAT:5.98, EXPENSIVE:0, Predicated:1\n",
      "RM:5.851, LSTAT:16.47, EXPENSIVE:0, Predicated:0\n",
      "RM:8.375, LSTAT:3.32, EXPENSIVE:1, Predicated:1\n",
      "RM:6.229, LSTAT:12.87, EXPENSIVE:0, Predicated:0\n",
      "RM:5.875, LSTAT:8.88, EXPENSIVE:1, Predicated:0\n",
      "RM:6.083, LSTAT:12.79, EXPENSIVE:0, Predicated:0\n",
      "RM:6.794, LSTAT:21.24, EXPENSIVE:0, Predicated:0\n",
      "RM:6.122, LSTAT:5.98, EXPENSIVE:0, Predicated:1\n",
      "RM:6.096, LSTAT:20.34, EXPENSIVE:0, Predicated:0\n",
      "RM:5.427, LSTAT:18.14, EXPENSIVE:0, Predicated:0\n",
      "RM:5.99, LSTAT:14.67, EXPENSIVE:0, Predicated:0\n",
      "RM:4.926, LSTAT:29.53, EXPENSIVE:0, Predicated:0\n",
      "RM:6.195, LSTAT:13.0, EXPENSIVE:0, Predicated:0\n",
      "RM:6.096, LSTAT:20.34, EXPENSIVE:0, Predicated:0\n",
      "RM:5.456, LSTAT:11.69, EXPENSIVE:0, Predicated:0\n",
      "RM:6.718, LSTAT:6.56, EXPENSIVE:1, Predicated:1\n",
      "RM:5.924, LSTAT:16.3, EXPENSIVE:0, Predicated:0\n",
      "RM:6.167, LSTAT:16.29, EXPENSIVE:0, Predicated:0\n",
      "RM:6.437, LSTAT:14.36, EXPENSIVE:0, Predicated:0\n",
      "RM:6.461, LSTAT:18.05, EXPENSIVE:0, Predicated:0\n",
      "RM:6.103, LSTAT:23.29, EXPENSIVE:0, Predicated:0\n",
      "RM:6.341, LSTAT:17.79, EXPENSIVE:0, Predicated:0\n",
      "RM:6.874, LSTAT:4.61, EXPENSIVE:1, Predicated:1\n",
      "RM:5.924, LSTAT:16.3, EXPENSIVE:0, Predicated:0\n",
      "RM:5.608, LSTAT:12.13, EXPENSIVE:1, Predicated:0\n",
      "RM:5.95, LSTAT:27.71, EXPENSIVE:0, Predicated:0\n",
      "RM:6.417, LSTAT:19.31, EXPENSIVE:0, Predicated:0\n",
      "RM:5.987, LSTAT:26.77, EXPENSIVE:0, Predicated:0\n",
      "RM:6.023, LSTAT:11.72, EXPENSIVE:0, Predicated:0\n",
      "RM:6.113, LSTAT:12.73, EXPENSIVE:0, Predicated:0\n",
      "RM:5.787, LSTAT:10.24, EXPENSIVE:0, Predicated:0\n"
     ]
    },
    {
     "name": "stderr",
     "output_type": "stream",
     "text": [
      "/var/folders/h4/7cr1cmpn7v5b3x20_9wz8m740000gn/T/ipykernel_19185/959449814.py:7: DeprecationWarning: Conversion of an array with ndim > 0 to a scalar is deprecated, and will error in future. Ensure you extract a single element from your array before performing this operation. (Deprecated NumPy 1.25.)\n",
      "  predicate_label = int(predicate > decision_boundary)\n"
     ]
    }
   ],
   "source": [
    "random_test_indices = np.random.choice(range(len(rm)), size=100)\n",
    "decision_boundary = 0.5\n",
    "\n",
    "for i in random_test_indices:\n",
    "    x1, x2, y = rm[i], lstat[i], expensive[i]\n",
    "    predicate = model_r(np.array([x1, x2]), w_r, b_r)\n",
    "    predicate_label = int(predicate > decision_boundary)\n",
    "\n",
    "    print('RM:{}, LSTAT:{}, EXPENSIVE:{}, Predicated:{}'.format(x1, x2, y, predicate_label))\n",
    "\n",
    "    true_labels.append(y)\n",
    "    predicated_labels.append(predicate_label)"
   ]
  },
  {
   "cell_type": "code",
   "execution_count": 82,
   "metadata": {},
   "outputs": [],
   "source": [
    "def accuracy(ytrues, yhats):\n",
    "    return sum(1 for yt, y1 in zip(ytrues, yhats) if yt == y1) / len(ytrues)"
   ]
  },
  {
   "cell_type": "code",
   "execution_count": 83,
   "metadata": {},
   "outputs": [
    {
     "data": {
      "text/plain": [
       "0.89"
      ]
     },
     "execution_count": 83,
     "metadata": {},
     "output_type": "execute_result"
    }
   ],
   "source": [
    "accuracy(true_labels, predicated_labels)"
   ]
  },
  {
   "cell_type": "code",
   "execution_count": 61,
   "metadata": {},
   "outputs": [],
   "source": [
    "def precision(ytrues, yhats):\n",
    "    # 预测标签是1的里面，正确的比例是多少\n",
    "\n",
    "    positives_pred = [y for y in yhats if y == 1]\n",
    "    return sum(1 for yt, y in zip(ytrues, yhats) if yt == y and y == 1) / len(positives_pred)"
   ]
  },
  {
   "cell_type": "code",
   "execution_count": 62,
   "metadata": {},
   "outputs": [
    {
     "data": {
      "text/plain": [
       "0.8333333333333334"
      ]
     },
     "execution_count": 62,
     "metadata": {},
     "output_type": "execute_result"
    }
   ],
   "source": [
    "precision(true_labels, predicated_labels)"
   ]
  },
  {
   "cell_type": "code",
   "execution_count": 63,
   "metadata": {},
   "outputs": [],
   "source": [
    "def recall(ytrues, yhats):\n",
    "    \n",
    "    true_positive = [y for y in ytrues if y == 1]     \n",
    "    return sum(1 for yt, y in zip(ytrues, yhats) if yt == y and yt == 1) / len(true_positive)"
   ]
  },
  {
   "cell_type": "code",
   "execution_count": 64,
   "metadata": {},
   "outputs": [
    {
     "data": {
      "text/plain": [
       "0.8064516129032258"
      ]
     },
     "execution_count": 64,
     "metadata": {},
     "output_type": "execute_result"
    }
   ],
   "source": [
    "recall(true_labels, predicated_labels)"
   ]
  },
  {
   "cell_type": "code",
   "execution_count": 84,
   "metadata": {},
   "outputs": [],
   "source": [
    "people = [0] * 90 + [1] * 10"
   ]
  },
  {
   "cell_type": "code",
   "execution_count": 85,
   "metadata": {},
   "outputs": [],
   "source": [
    "import random\n",
    "random.shuffle(people)"
   ]
  },
  {
   "cell_type": "code",
   "execution_count": 86,
   "metadata": {},
   "outputs": [],
   "source": [
    "a = [0] * 100\n",
    "b = [1] * 100"
   ]
  },
  {
   "cell_type": "code",
   "execution_count": 87,
   "metadata": {},
   "outputs": [
    {
     "data": {
      "text/plain": [
       "0.9"
      ]
     },
     "execution_count": 87,
     "metadata": {},
     "output_type": "execute_result"
    }
   ],
   "source": [
    "accuracy(people, a)"
   ]
  },
  {
   "cell_type": "code",
   "execution_count": 89,
   "metadata": {},
   "outputs": [
    {
     "ename": "ZeroDivisionError",
     "evalue": "division by zero",
     "output_type": "error",
     "traceback": [
      "\u001b[0;31m---------------------------------------------------------------------------\u001b[0m",
      "\u001b[0;31mZeroDivisionError\u001b[0m                         Traceback (most recent call last)",
      "\u001b[1;32m/Users/du/git/AI_Cheats/Core foundations/10.ipynb 单元格 23\u001b[0m line \u001b[0;36m1\n\u001b[0;32m----> <a href='vscode-notebook-cell:/Users/du/git/AI_Cheats/Core%20foundations/10.ipynb#X35sZmlsZQ%3D%3D?line=0'>1</a>\u001b[0m precision(people, a)\n",
      "\u001b[1;32m/Users/du/git/AI_Cheats/Core foundations/10.ipynb 单元格 23\u001b[0m line \u001b[0;36m5\n\u001b[1;32m      <a href='vscode-notebook-cell:/Users/du/git/AI_Cheats/Core%20foundations/10.ipynb#X35sZmlsZQ%3D%3D?line=0'>1</a>\u001b[0m \u001b[39mdef\u001b[39;00m \u001b[39mprecision\u001b[39m(ytrues, yhats):\n\u001b[1;32m      <a href='vscode-notebook-cell:/Users/du/git/AI_Cheats/Core%20foundations/10.ipynb#X35sZmlsZQ%3D%3D?line=1'>2</a>\u001b[0m     \u001b[39m# 预测标签是1的里面，正确的比例是多少\u001b[39;00m\n\u001b[1;32m      <a href='vscode-notebook-cell:/Users/du/git/AI_Cheats/Core%20foundations/10.ipynb#X35sZmlsZQ%3D%3D?line=3'>4</a>\u001b[0m     positives_pred \u001b[39m=\u001b[39m [y \u001b[39mfor\u001b[39;00m y \u001b[39min\u001b[39;00m yhats \u001b[39mif\u001b[39;00m y \u001b[39m==\u001b[39m \u001b[39m1\u001b[39m]\n\u001b[0;32m----> <a href='vscode-notebook-cell:/Users/du/git/AI_Cheats/Core%20foundations/10.ipynb#X35sZmlsZQ%3D%3D?line=4'>5</a>\u001b[0m     \u001b[39mreturn\u001b[39;00m \u001b[39msum\u001b[39;49m(\u001b[39m1\u001b[39;49m \u001b[39mfor\u001b[39;49;00m yt, y \u001b[39min\u001b[39;49;00m \u001b[39mzip\u001b[39;49m(ytrues, yhats) \u001b[39mif\u001b[39;49;00m yt \u001b[39m==\u001b[39;49m y \u001b[39mand\u001b[39;49;00m y \u001b[39m==\u001b[39;49m \u001b[39m1\u001b[39;49m) \u001b[39m/\u001b[39;49m \u001b[39mlen\u001b[39;49m(positives_pred)\n",
      "\u001b[0;31mZeroDivisionError\u001b[0m: division by zero"
     ]
    }
   ],
   "source": [
    "precision(people, a)"
   ]
  },
  {
   "cell_type": "code",
   "execution_count": 90,
   "metadata": {},
   "outputs": [
    {
     "data": {
      "text/plain": [
       "0.0"
      ]
     },
     "execution_count": 90,
     "metadata": {},
     "output_type": "execute_result"
    }
   ],
   "source": [
    "recall(people, a)"
   ]
  },
  {
   "cell_type": "code",
   "execution_count": 91,
   "metadata": {},
   "outputs": [
    {
     "data": {
      "text/plain": [
       "0.1"
      ]
     },
     "execution_count": 91,
     "metadata": {},
     "output_type": "execute_result"
    }
   ],
   "source": [
    "accuracy(people, b)"
   ]
  },
  {
   "cell_type": "code",
   "execution_count": 92,
   "metadata": {},
   "outputs": [
    {
     "data": {
      "text/plain": [
       "0.1"
      ]
     },
     "execution_count": 92,
     "metadata": {},
     "output_type": "execute_result"
    }
   ],
   "source": [
    "precision(people, b)"
   ]
  },
  {
   "cell_type": "code",
   "execution_count": 93,
   "metadata": {},
   "outputs": [
    {
     "data": {
      "text/plain": [
       "1.0"
      ]
     },
     "execution_count": 93,
     "metadata": {},
     "output_type": "execute_result"
    }
   ],
   "source": [
    "recall(people, b)"
   ]
  },
  {
   "cell_type": "code",
   "execution_count": null,
   "metadata": {},
   "outputs": [],
   "source": []
  }
 ],
 "metadata": {
  "kernelspec": {
   "display_name": "tf",
   "language": "python",
   "name": "python3"
  },
  "language_info": {
   "codemirror_mode": {
    "name": "ipython",
    "version": 3
   },
   "file_extension": ".py",
   "mimetype": "text/x-python",
   "name": "python",
   "nbconvert_exporter": "python",
   "pygments_lexer": "ipython3",
   "version": "3.10.12"
  }
 },
 "nbformat": 4,
 "nbformat_minor": 2
}
