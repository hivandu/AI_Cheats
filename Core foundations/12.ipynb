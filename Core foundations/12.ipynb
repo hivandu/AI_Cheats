{
 "cells": [
  {
   "cell_type": "markdown",
   "metadata": {},
   "source": [
    "## 异常值"
   ]
  },
  {
   "cell_type": "code",
   "execution_count": 1,
   "metadata": {},
   "outputs": [],
   "source": [
    "import random\n",
    "\n",
    "import pandas as pd\n",
    "import matplotlib.pyplot as plt\n",
    "import seaborn as sns\n",
    "import numpy as np\n",
    "import pickle\n",
    "import re\n",
    "from matplotlib.animation import FuncAnimation\n",
    "from sklearn.datasets import fetch_openml\n",
    "\n",
    "dataset = fetch_openml(name='boston', version=1, as_frame=True, return_X_y=False, parser='pandas')"
   ]
  },
  {
   "cell_type": "code",
   "execution_count": 2,
   "metadata": {},
   "outputs": [],
   "source": [
    "data = dataset['data']\n",
    "target = dataset['target']\n",
    "columns = dataset['feature_names']\n",
    "\n",
    "dataframe = pd.DataFrame(data)\n",
    "dataframe.columns = columns\n",
    "dataframe['price'] = dataset['target']\n",
    "\n",
    "rm = dataframe['RM']\n",
    "lstat = dataframe['LSTAT']"
   ]
  },
  {
   "cell_type": "code",
   "execution_count": 3,
   "metadata": {},
   "outputs": [
    {
     "data": {
      "application/vnd.microsoft.datawrangler.viewer.v0+json": {
       "columns": [
        {
         "name": "index",
         "rawType": "int64",
         "type": "integer"
        },
        {
         "name": "LSTAT",
         "rawType": "float64",
         "type": "float"
        }
       ],
       "ref": "d0c190f9-24a7-4fb1-9619-8e8c3fb87142",
       "rows": [
        [
         "0",
         "4.98"
        ],
        [
         "1",
         "9.14"
        ],
        [
         "2",
         "4.03"
        ],
        [
         "3",
         "2.94"
        ],
        [
         "4",
         "5.33"
        ],
        [
         "5",
         "5.21"
        ],
        [
         "6",
         "12.43"
        ],
        [
         "7",
         "19.15"
        ],
        [
         "8",
         "29.93"
        ],
        [
         "9",
         "17.1"
        ],
        [
         "10",
         "20.45"
        ],
        [
         "11",
         "13.27"
        ],
        [
         "12",
         "15.71"
        ],
        [
         "13",
         "8.26"
        ],
        [
         "14",
         "10.26"
        ],
        [
         "15",
         "8.47"
        ],
        [
         "16",
         "6.58"
        ],
        [
         "17",
         "14.67"
        ],
        [
         "18",
         "11.69"
        ],
        [
         "19",
         "11.28"
        ],
        [
         "20",
         "21.02"
        ],
        [
         "21",
         "13.83"
        ],
        [
         "22",
         "18.72"
        ],
        [
         "23",
         "19.88"
        ],
        [
         "24",
         "16.3"
        ],
        [
         "25",
         "16.51"
        ],
        [
         "26",
         "14.81"
        ],
        [
         "27",
         "17.28"
        ],
        [
         "28",
         "12.8"
        ],
        [
         "29",
         "11.98"
        ],
        [
         "30",
         "22.6"
        ],
        [
         "31",
         "13.04"
        ],
        [
         "32",
         "27.71"
        ],
        [
         "33",
         "18.35"
        ],
        [
         "34",
         "20.34"
        ],
        [
         "35",
         "9.68"
        ],
        [
         "36",
         "11.41"
        ],
        [
         "37",
         "8.77"
        ],
        [
         "38",
         "10.13"
        ],
        [
         "39",
         "4.32"
        ],
        [
         "40",
         "1.98"
        ],
        [
         "41",
         "4.84"
        ],
        [
         "42",
         "5.81"
        ],
        [
         "43",
         "7.44"
        ],
        [
         "44",
         "9.55"
        ],
        [
         "45",
         "10.21"
        ],
        [
         "46",
         "14.15"
        ],
        [
         "47",
         "18.8"
        ],
        [
         "48",
         "30.81"
        ],
        [
         "49",
         "16.2"
        ]
       ],
       "shape": {
        "columns": 1,
        "rows": 506
       }
      },
      "text/plain": [
       "0      4.98\n",
       "1      9.14\n",
       "2      4.03\n",
       "3      2.94\n",
       "4      5.33\n",
       "       ... \n",
       "501    9.67\n",
       "502    9.08\n",
       "503    5.64\n",
       "504    6.48\n",
       "505    7.88\n",
       "Name: LSTAT, Length: 506, dtype: float64"
      ]
     },
     "execution_count": 3,
     "metadata": {},
     "output_type": "execute_result"
    }
   ],
   "source": [
    "lstat"
   ]
  },
  {
   "cell_type": "code",
   "execution_count": 4,
   "metadata": {},
   "outputs": [
    {
     "data": {
      "text/plain": [
       "(array([], dtype=int64),)"
      ]
     },
     "execution_count": 4,
     "metadata": {},
     "output_type": "execute_result"
    }
   ],
   "source": [
    "np.where(np.array(lstat) <  np.percentile(np.array(lstat), 0.25) / 1.5) "
   ]
  },
  {
   "cell_type": "code",
   "execution_count": 5,
   "metadata": {},
   "outputs": [
    {
     "data": {
      "text/plain": [
       "(array([  8,  48, 141, 144, 147, 148, 214, 373, 374, 384, 385, 386, 387,\n",
       "        388, 398, 399, 412, 414, 415, 438, 490]),)"
      ]
     },
     "execution_count": 5,
     "metadata": {},
     "output_type": "execute_result"
    }
   ],
   "source": [
    "np.where(np.array(lstat) > np.percentile(np.array(lstat), 0.75) * 10) "
   ]
  },
  {
   "cell_type": "markdown",
   "metadata": {},
   "source": [
    "![欢迎订阅：坍缩的奇点](../assets/Capture-2023-11-02-164446.png)"
   ]
  },
  {
   "cell_type": "code",
   "execution_count": null,
   "metadata": {},
   "outputs": [],
   "source": []
  }
 ],
 "metadata": {
  "kernelspec": {
   "display_name": "ml",
   "language": "python",
   "name": "python3"
  },
  "language_info": {
   "codemirror_mode": {
    "name": "ipython",
    "version": 3
   },
   "file_extension": ".py",
   "mimetype": "text/x-python",
   "name": "python",
   "nbconvert_exporter": "python",
   "pygments_lexer": "ipython3",
   "version": "3.11.13"
  }
 },
 "nbformat": 4,
 "nbformat_minor": 2
}
