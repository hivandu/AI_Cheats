{
 "cells": [
  {
   "cell_type": "markdown",
   "metadata": {},
   "source": [
    "# LESON 31 卷积神经网络"
   ]
  },
  {
   "cell_type": "markdown",
   "metadata": {},
   "source": [
    "### RES_NET"
   ]
  },
  {
   "cell_type": "code",
   "execution_count": 1,
   "metadata": {},
   "outputs": [],
   "source": [
    "from torch import nn\n",
    "import torch"
   ]
  },
  {
   "cell_type": "code",
   "execution_count": 2,
   "metadata": {},
   "outputs": [],
   "source": [
    "class ResBlock(nn.Module):\n",
    "    def __init__(self, n_chans):\n",
    "        super(ResBlock, self).__init__()\n",
    "        self.conv = nn.Conv2d(n_chans, n_chans, kernel_size=3, padding=1, bias=False)\n",
    "        self.batch_normal = nn.BatchNorm2d(num_features=n_chans)\n",
    "        nn.init.kaiming_normal_(self.conv.weight, nonlinearity='relu')\n",
    "        nn.init.constant_(self.batch_normal.weight, 0.5)\n",
    "        nn.init.zeros_(self.batch_normal.bias)\n",
    "\n",
    "    def forward(self,x):\n",
    "        out = self.conv(x)\n",
    "        out = self.batch_normal(out)\n",
    "        out = torch.relu(out)\n",
    "\n",
    "        return out + x"
   ]
  },
  {
   "cell_type": "code",
   "execution_count": 3,
   "metadata": {},
   "outputs": [],
   "source": [
    "import torch.functional as F\n",
    "\n",
    "class NetResDeep(nn.Module):\n",
    "    def __init__(self, n_chans=32, n_blocks=10):\n",
    "        super().__init__()\n",
    "\n",
    "        self.n_chans = n_chans\n",
    "        self.conv = nn.Conv2d(3, n_chans, kernel_size=3, padding=1)\n",
    "\n",
    "        self.resblocks = nn.Sequential(\n",
    "            *[ResBlock(n_chans=n_chans) for _ in range(n_blocks)]\n",
    "        )\n",
    "\n",
    "        self.fc1 = nn.Linear(8 * 8 * n_chans, 32)\n",
    "        self.fc2 = nn.Linear(32, 10)\n",
    "\n",
    "    def forward(self, x):\n",
    "        out = F.max_pool2d(torch.relu(self.conv(x)), 2)\n",
    "        out = self.resblocks(out)\n",
    "\n",
    "        out = F.max_pool2d(out, 2)\n",
    "\n",
    "        out = out.view(-1, 8 * 8 * self.n_chans)\n",
    "        out = torch.relu(self.fc1(out))\n",
    "\n",
    "        out = self.fc2(out)\n",
    "\n",
    "        return out"
   ]
  },
  {
   "cell_type": "code",
   "execution_count": null,
   "metadata": {},
   "outputs": [],
   "source": []
  }
 ],
 "metadata": {
  "kernelspec": {
   "display_name": "ml",
   "language": "python",
   "name": "python3"
  },
  "language_info": {
   "codemirror_mode": {
    "name": "ipython",
    "version": 3
   },
   "file_extension": ".py",
   "mimetype": "text/x-python",
   "name": "python",
   "nbconvert_exporter": "python",
   "pygments_lexer": "ipython3",
   "version": "3.11.13"
  }
 },
 "nbformat": 4,
 "nbformat_minor": 2
}
