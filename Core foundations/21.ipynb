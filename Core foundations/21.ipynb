{
 "cells": [
  {
   "cell_type": "markdown",
   "metadata": {},
   "source": [
    "# 拓朴排序计算"
   ]
  },
  {
   "cell_type": "code",
   "execution_count": 723,
   "metadata": {},
   "outputs": [],
   "source": [
    "from matplotlib import pyplot as plt\n",
    "from functools import reduce\n",
    "from collections import defaultdict\n",
    "import numpy as np\n",
    "import random"
   ]
  },
  {
   "cell_type": "code",
   "execution_count": 667,
   "metadata": {},
   "outputs": [
    {
     "name": "stdout",
     "output_type": "stream",
     "text": [
      "[2, 4]\n"
     ]
    }
   ],
   "source": [
    "# 简单的实验\n",
    "simple_graph = {\n",
    "    'a': ['a', 2],\n",
    "    'b': ['b', 4]\n",
    "}\n",
    "\n",
    "a = list(simple_graph.keys())\n",
    "b = reduce(lambda a, b: a+b, list(simple_graph.values()))\n",
    "\n",
    "print(list(set(b) - set(a)))"
   ]
  },
  {
   "cell_type": "code",
   "execution_count": 668,
   "metadata": {},
   "outputs": [],
   "source": [
    "class Node:\n",
    "    def __init__(self, inputs=[], name='None', is_trainable=False):\n",
    "        self.inputs = inputs\n",
    "        self.outputs = []\n",
    "        self.name = name\n",
    "        self.value = None\n",
    "        self.gradients = dict() # 存储Loss对某个值的偏导\n",
    "        self.is_trainable = is_trainable\n",
    "        \n",
    "        for node in self.inputs:\n",
    "            node.outputs.append(self)\n",
    "        \n",
    "    def forward(self):\n",
    "        pass\n",
    "\n",
    "    def backward(self):\n",
    "        pass\n",
    "    \n",
    "    def __repr__(self):\n",
    "        return self.name"
   ]
  },
  {
   "cell_type": "code",
   "execution_count": 669,
   "metadata": {},
   "outputs": [],
   "source": [
    "class Placeholder(Node):\n",
    "    def __init__(self, name=None, is_trainable=False):\n",
    "        Node.__init__(self, name=name, is_trainable=is_trainable)\n",
    "        \n",
    "    def forward(self, value=None):\n",
    "        if value is not None: self.value = value\n",
    "\n",
    "    def backward(self):\n",
    "        self.gradients[self] = self.outputs[0].gradients[self]\n",
    "    \n",
    "class Linear(Node):\n",
    "    def __init__(self, x, k, b, name=None):\n",
    "        Node.__init__(self, inputs = [x, k, b], name=name)\n",
    "        \n",
    "    def forward(self):\n",
    "        x, k, b = self.inputs[0], self.inputs[1], self.inputs[2]\n",
    "        self.value = k.value * x.value + b.value\n",
    "\n",
    "    def backward(self):\n",
    "        x, k, b = self.inputs[0], self.inputs[1], self.inputs[2]\n",
    "        self.gradients[self.inputs[0]] = self.outputs[0].gradients[self] * k.value\n",
    "        self.gradients[self.inputs[1]] = self.outputs[0].gradients[self] * x.value\n",
    "        self.gradients[self.inputs[2]] = self.outputs[0].gradients[self] * 1\n",
    "        \n",
    "class Sigmoid(Node):\n",
    "    def __init__(self, x, name=None):\n",
    "        Node.__init__(self, inputs = [x], name=name)\n",
    "        self.x = self.inputs[0]\n",
    "        \n",
    "    def _sigmoid(self, x):\n",
    "        return 1. / (1 + np.exp(-1 * x))\n",
    "    \n",
    "    def forward(self):\n",
    "        self.value = self._sigmoid(self.x.value)\n",
    "\n",
    "    def backward(self):\n",
    "        self.value = self._sigmoid(self.x.value)\n",
    "        self.gradients[self.inputs[0]] = self.outputs[0].gradients[self] * self.value * (1 - self.value)\n",
    "\n",
    "class Loss(Node):\n",
    "    def __init__(self, y, yhat, name=None):\n",
    "        Node.__init__(self, inputs = [y, yhat], name=name)\n",
    "        self.y = self.inputs[0]\n",
    "        self.y_hat = self.inputs[1]\n",
    "        \n",
    "    def forward(self):        \n",
    "        y_v = np.array(self.y.value)\n",
    "        yhat_v = np.array(self.y_hat.value)\n",
    "        self.value = np.mean((y_v - yhat_v) ** 2)\n",
    "        \n",
    "    def backward(self):\n",
    "        y_v = self.y.value\n",
    "        yhat_v = self.y_hat.value\n",
    "        self.gradients[self.inputs[0]] = 2*np.mean(y_v - yhat_v)\n",
    "        self.gradients[self.inputs[1]] = -2*np.mean(y_v - yhat_v)"
   ]
  },
  {
   "cell_type": "code",
   "execution_count": 707,
   "metadata": {},
   "outputs": [],
   "source": [
    "node_x = Placeholder(name='x')\n",
    "node_y = Placeholder(name='y')\n",
    "node_k = Placeholder(name='k', is_trainable=True)\n",
    "node_b = Placeholder(name='b', is_trainable=True)\n",
    "node_linear = Linear(x = node_x, k = node_k, b = node_b, name='Linear')\n",
    "node_sigmoid = Sigmoid(x = node_linear, name='Sigmoid')\n",
    "node_loss = Loss(y= node_y, yhat = node_sigmoid, name='Loss')"
   ]
  },
  {
   "cell_type": "code",
   "execution_count": 708,
   "metadata": {},
   "outputs": [],
   "source": [
    "def topologic(graph):\n",
    "    sorted_node = []\n",
    "\n",
    "    while graph:\n",
    "        all_inputs = set(reduce(lambda a, b: a+b, list(graph.values())))\n",
    "        all_outputs = set(list(graph.keys()))\n",
    "\n",
    "        need_remove = all_outputs - all_inputs\n",
    "\n",
    "        if need_remove:\n",
    "            node = random.choice(list(need_remove))\n",
    "            sorted_node.append(node)\n",
    "\n",
    "            if len(graph) == 1: sorted_node += graph[node]\n",
    "            graph.pop(node)\n",
    "\n",
    "            for _, links in graph.items():\n",
    "                if node in links: links.remove(node)\n",
    "        else:\n",
    "            raise TypeError('This graph has circle, which cannot get topological order.')\n",
    "\n",
    "    return sorted_node"
   ]
  },
  {
   "cell_type": "code",
   "execution_count": 709,
   "metadata": {},
   "outputs": [],
   "source": [
    "feed_dict = {\n",
    "    node_x: 3,\n",
    "    node_y: random.random(),\n",
    "    node_k: random.random(),\n",
    "    node_b: 0.38,\n",
    "}"
   ]
  },
  {
   "cell_type": "code",
   "execution_count": 710,
   "metadata": {},
   "outputs": [],
   "source": [
    "def convert_feed_dict_to_graph(feed_dict):\n",
    "    need_expend = [n for n in feed_dict]\n",
    "    \n",
    "    computing_graph = defaultdict(list)\n",
    "    \n",
    "    while need_expend:\n",
    "        n = need_expend.pop(0) \n",
    "        \n",
    "        if isinstance(n, Placeholder):\n",
    "            n.value = feed_dict[n]\n",
    "        \n",
    "        if n in computing_graph: continue\n",
    "\n",
    "        for m in n.outputs:\n",
    "            computing_graph[n].append(m)\n",
    "            need_expend.append(m)\n",
    "    \n",
    "    return computing_graph"
   ]
  },
  {
   "cell_type": "code",
   "execution_count": 711,
   "metadata": {},
   "outputs": [],
   "source": [
    "sorted_nodes = topologic(convert_feed_dict_to_graph(feed_dict))"
   ]
  },
  {
   "cell_type": "code",
   "execution_count": 712,
   "metadata": {},
   "outputs": [
    {
     "data": {
      "text/plain": [
       "[k, y, x, b, Linear, Sigmoid, Loss]"
      ]
     },
     "execution_count": 712,
     "metadata": {},
     "output_type": "execute_result"
    }
   ],
   "source": [
    "sorted_nodes"
   ]
  },
  {
   "cell_type": "markdown",
   "metadata": {},
   "source": [
    "### 模拟神经网络的计算过程"
   ]
  },
  {
   "cell_type": "code",
   "execution_count": 713,
   "metadata": {},
   "outputs": [],
   "source": [
    "def forward(graph_sorted_nodes):\n",
    "    # Forward\n",
    "    for node in sorted_nodes:\n",
    "        node.forward()\n",
    "\n",
    "def backward(graph_sorted_nodes):\n",
    "    # Backward\n",
    "    for node in sorted_nodes[::-1]:\n",
    "        # if isinstance(node, Loss):\n",
    "        #     print('loss value: {}'.format(node.value))\n",
    "        node.backward()\n",
    "\n",
    "def run_one_epoch(graph_sorted_nodes):\n",
    "    forward(graph_sorted_nodes)\n",
    "    backward(graph_sorted_nodes)\n",
    "\n",
    "\n",
    "def optimize(graph_sorted_nodes, learning_rate=1e-3):\n",
    "    # optimize\n",
    "    for node in sorted_nodes:\n",
    "        if node.is_trainable:\n",
    "            node.value = node.value + -1 * node.gradients[node] * learning_rate\n",
    "            # cmp = 'large' if node.gradients[node] > 0 else 'small'\n",
    "            # print('{}的值{}，需要更新。{}'.format(node.name, cmp, node.value))\n"
   ]
  },
  {
   "cell_type": "code",
   "execution_count": 714,
   "metadata": {},
   "outputs": [],
   "source": [
    "# 完整的一次求值-求导-更新：\n",
    "loss_history = []\n",
    "for _ in range(100):\n",
    "    run_one_epoch(sorted_nodes)\n",
    "    _loss_node = sorted_nodes[-1]\n",
    "    assert isinstance(_loss_node, Loss)\n",
    "    loss_history.append(_loss_node.value)\n",
    "    optimize(sorted_nodes, learning_rate=1e-1)"
   ]
  },
  {
   "cell_type": "code",
   "execution_count": 715,
   "metadata": {},
   "outputs": [],
   "source": [
    "def sigmoid(x):\n",
    "    return 1/(1+np.exp(-x))"
   ]
  },
  {
   "cell_type": "code",
   "execution_count": 721,
   "metadata": {},
   "outputs": [
    {
     "data": {
      "text/plain": [
       "0.891165479601981"
      ]
     },
     "execution_count": 721,
     "metadata": {},
     "output_type": "execute_result"
    }
   ],
   "source": [
    "sigmoid_x = sorted_nodes[0].value * sorted_nodes[2].value + sorted_nodes[3].value\n",
    "\n",
    "sigmoid(sigmoid_x)"
   ]
  },
  {
   "cell_type": "code",
   "execution_count": 719,
   "metadata": {},
   "outputs": [
    {
     "data": {
      "text/plain": [
       "0.8988713384533658"
      ]
     },
     "execution_count": 719,
     "metadata": {},
     "output_type": "execute_result"
    }
   ],
   "source": [
    "sorted_nodes[1].value"
   ]
  },
  {
   "cell_type": "code",
   "execution_count": 717,
   "metadata": {},
   "outputs": [
    {
     "data": {
      "text/plain": [
       "[k, y, x, b, Linear, Sigmoid, Loss]"
      ]
     },
     "execution_count": 717,
     "metadata": {},
     "output_type": "execute_result"
    }
   ],
   "source": [
    "sorted_nodes"
   ]
  },
  {
   "cell_type": "code",
   "execution_count": 716,
   "metadata": {},
   "outputs": [
    {
     "data": {
      "text/plain": [
       "[<matplotlib.lines.Line2D at 0x108970a00>]"
      ]
     },
     "execution_count": 716,
     "metadata": {},
     "output_type": "execute_result"
    },
    {
     "data": {
      "image/png": "[encoded data removed]",
      "text/plain": [
       "<Figure size 640x480 with 1 Axes>"
      ]
     },
     "metadata": {},
     "output_type": "display_data"
    }
   ],
   "source": [
    "plt.plot(loss_history)"
   ]
  },
  {
   "cell_type": "markdown",
   "metadata": {},
   "source": [
    "## 多维向量版本"
   ]
  }
 ],
 "metadata": {
  "kernelspec": {
   "display_name": "tf",
   "language": "python",
   "name": "python3"
  },
  "language_info": {
   "codemirror_mode": {
    "name": "ipython",
    "version": 3
   },
   "file_extension": ".py",
   "mimetype": "text/x-python",
   "name": "python",
   "nbconvert_exporter": "python",
   "pygments_lexer": "ipython3",
   "version": "3.10.12"
  }
 },
 "nbformat": 4,
 "nbformat_minor": 2
}
