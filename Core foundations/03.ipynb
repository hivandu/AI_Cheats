{
 "cells": [
  {
   "cell_type": "markdown",
   "metadata": {},
   "source": [
    "# 03 导论 2"
   ]
  },
  {
   "cell_type": "code",
   "execution_count": 3,
   "metadata": {},
   "outputs": [],
   "source": [
    "import random"
   ]
  },
  {
   "cell_type": "code",
   "execution_count": 4,
   "metadata": {},
   "outputs": [],
   "source": [
    "grammar = \"\"\"\n",
    "句子 = s_句子 , 连词 句子 | s_句子\n",
    "连词 = 而且 | 但是 | 不过\n",
    "s_句子 = 主语 谓语 宾语\n",
    "主语 = 你| 我 | 他 \n",
    "谓语 = 吃| 玩 \n",
    "宾语 = 桃子| 皮球\n",
    "\"\"\""
   ]
  },
  {
   "cell_type": "code",
   "execution_count": 5,
   "metadata": {},
   "outputs": [
    {
     "name": "stdout",
     "output_type": "stream",
     "text": [
      "打饺子\n"
     ]
    }
   ],
   "source": [
    "import random\n",
    "def generate_verb():\n",
    "    return random.choice('吃|喝|玩|打'.split('|'))\n",
    "\n",
    "def 生成宾语():\n",
    "    return random.choice('皮球|桃子|饺子'.split('|'))\n",
    "\n",
    "print(generate_verb()+生成宾语())"
   ]
  },
  {
   "cell_type": "code",
   "execution_count": 6,
   "metadata": {},
   "outputs": [],
   "source": [
    "grammar2 = \"\"\"\n",
    "句子 = 打招呼 玩 活动 吗？\n",
    "打招呼 = 你好 | 您好 | 好久不见\n",
    "玩 = 需要玩 | 喜欢玩 | 想玩\n",
    "活动 = 骑马 | 打球 | 喝茶\n",
    "\"\"\""
   ]
  },
  {
   "cell_type": "code",
   "execution_count": 7,
   "metadata": {},
   "outputs": [
    {
     "name": "stdout",
     "output_type": "stream",
     "text": [
      "句子 = s_句子 , 连词 句子 | s_句子\n",
      "连词 = 而且 | 但是 | 不过\n",
      "s_句子 = 主语 谓语 宾语\n",
      "主语 = 你| 我 | 他 \n",
      "谓语 = 吃| 玩 \n",
      "宾语 = 桃子| 皮球\n",
      "{'句子': ['s_句子 , 连词 句子', 's_句子'], '连词': ['而且', '但是', '不过'], 's_句子': ['主语 谓语 宾语'], '主语': ['你', '我', '他'], '谓语': ['吃', '玩'], '宾语': ['桃子', '皮球']}\n"
     ]
    }
   ],
   "source": [
    "grammar_gen = dict()\n",
    "\n",
    "for line in grammar.split('\\n'):\n",
    "    if not line.strip(): continue\n",
    "    print(line)\n",
    "\n",
    "    stmt, expr = line.split('=')\n",
    "\n",
    "    expressions = expr.split('|')\n",
    "    grammar_gen[stmt.strip()] = [e.strip() for e in expressions]\n",
    "\n",
    "print(grammar_gen)"
   ]
  },
  {
   "cell_type": "code",
   "execution_count": 8,
   "metadata": {},
   "outputs": [
    {
     "name": "stdout",
     "output_type": "stream",
     "text": [
      "generated: \n",
      "我吃皮球,而且我吃皮球\n"
     ]
    }
   ],
   "source": [
    "def generate_sentence(gram, target='句子'):\n",
    "    if target not in gram: return target\n",
    "\n",
    "    exp = random.choice(gram[target])\n",
    "\n",
    "    return ''.join([generate_sentence(gram, e) for e in exp.split()])\n",
    "\n",
    "print('generated: \\n'+generate_sentence(grammar_gen))"
   ]
  },
  {
   "cell_type": "code",
   "execution_count": 9,
   "metadata": {},
   "outputs": [
    {
     "name": "stdout",
     "output_type": "stream",
     "text": [
      "generated: \n",
      "你吃皮球,不过他玩桃子\n",
      "generated: \n",
      "好久不见需要玩喝茶吗？\n"
     ]
    }
   ],
   "source": [
    "grammar = \"\"\"\n",
    "句子 = s_句子 , 连词 句子 | s_句子\n",
    "连词 = 而且 | 但是 | 不过\n",
    "s_句子 = 主语 谓语 宾语\n",
    "主语 = 你| 我 | 他 \n",
    "谓语 = 吃| 玩 \n",
    "宾语 = 桃子| 皮球\n",
    "\"\"\"\n",
    "\n",
    "grammar2 = \"\"\"\n",
    "句子 = 打招呼 玩 活动 吗？\n",
    "打招呼 = 你好 | 您好 | 好久不见\n",
    "玩 = 需要玩 | 喜欢玩 | 想玩\n",
    "活动 = 骑马 | 打球 | 喝茶\n",
    "\"\"\"\n",
    "\n",
    "def get_grammar(grammar_string):\n",
    "    grammar_gen = dict()\n",
    "\n",
    "    for line in grammar_string.split('\\n'):\n",
    "        if not line.strip(): continue\n",
    "\n",
    "        stmt, expr = line.split('=')\n",
    "\n",
    "        expressions = expr.split('|')\n",
    "        grammar_gen[stmt.strip()] = [e.strip() for e in expressions]\n",
    "    \n",
    "    return grammar_gen\n",
    "\n",
    "choice = lambda t: random.choice(t)\n",
    "\n",
    "def generate_sentence(gram, target='句子'):\n",
    "    if target not in gram: return target\n",
    "\n",
    "    # exp = random.choice(gram[target])\n",
    "    # return ''.join([generate_sentence(gram, e) for e in exp.split()])\n",
    "    \n",
    "    return ''.join([generate_sentence(gram, e) for e in choice(gram[target]).split()])\n",
    "\n",
    "\n",
    "\n",
    "print('generated: \\n'+generate_sentence(get_grammar(grammar)))\n",
    "print('generated: \\n'+generate_sentence(get_grammar(grammar2)))"
   ]
  },
  {
   "cell_type": "markdown",
   "metadata": {},
   "source": [
    "## 水杯问题"
   ]
  },
  {
   "cell_type": "code",
   "execution_count": 10,
   "metadata": {},
   "outputs": [
    {
     "name": "stdout",
     "output_type": "stream",
     "text": [
      "step:0,('init', (0, 0))\n",
      "step:1,('装满 x', (9, 0))\n",
      "step:2,('x => y', (5, 4))\n",
      "step:3,('倒空 y', (5, 0))\n",
      "step:4,('x => y', (1, 4))\n",
      "step:5,('倒空 y', (1, 0))\n",
      "step:6,('x => y', (0, 1))\n",
      "step:7,('装满 x', (9, 1))\n",
      "step:8,('x => y', (6, 4))\n",
      "step:9,('倒空 y', (6, 0))\n",
      "step:10,('x => y', (2, 4))\n",
      "step:11,('倒空 y', (2, 0))\n",
      "step:12,('x => y', (0, 2))\n",
      "step:13,('装满 x', (9, 2))\n",
      "step:14,('x => y', (7, 4))\n"
     ]
    }
   ],
   "source": [
    "def successors(x, y, X, Y):\n",
    "    return{\n",
    "        (x, 0): '倒空 y', \n",
    "        (0, y): '倒空 x',\n",
    "        (x, Y): '装满 y', \n",
    "        (X, y): '装满 x',\n",
    "        (0, x+y) if x+y <= Y else (x+y-Y, Y): 'x => y',\n",
    "        (x+y, 0) if x+y <= X else (X, x+y-x): 'y => x',\n",
    "    }\n",
    "\n",
    "def search_solution(capacity1, capacity2, goal, start=(0,0)):\n",
    "    if goal in start: return [start]\n",
    "\n",
    "    explored = set()\n",
    "\n",
    "    paths = [[('init', start)]]\n",
    "\n",
    "    while paths:\n",
    "        path = paths.pop(0)\n",
    "        (x, y)  = path[-1][-1]\n",
    "\n",
    "        for (state, action) in successors(x, y, capacity1, capacity2).items():\n",
    "\n",
    "            if state in explored: continue\n",
    "\n",
    "            new_path = path + [(action, state)]\n",
    "\n",
    "            if goal in state:\n",
    "                return new_path\n",
    "            else:\n",
    "                paths.append(new_path)\n",
    "\n",
    "            explored.add(state)\n",
    "    return []\n",
    "\n",
    "def get_solution(c1, c2, goal, start=(0, 0)):\n",
    "    solution = search_solution(c1, c2, goal, start)\n",
    "\n",
    "    for i, s in enumerate(solution):\n",
    "        print('step:{},{}'.format(i,s))\n",
    "\n",
    "if __name__ == '__main__':\n",
    "    get_solution(9, 4, 7)"
   ]
  },
  {
   "cell_type": "markdown",
   "metadata": {},
   "source": [
    "![欢迎订阅：坍缩的奇点](../assets/Capture-2023-11-02-164446.png)"
   ]
  },
  {
   "cell_type": "code",
   "execution_count": null,
   "metadata": {},
   "outputs": [],
   "source": []
  }
 ],
 "metadata": {
  "kernelspec": {
   "display_name": "base",
   "language": "python",
   "name": "python3"
  },
  "language_info": {
   "codemirror_mode": {
    "name": "ipython",
    "version": 3
   },
   "file_extension": ".py",
   "mimetype": "text/x-python",
   "name": "python",
   "nbconvert_exporter": "python",
   "pygments_lexer": "ipython3",
   "version": "3.8.18"
  },
  "orig_nbformat": 4
 },
 "nbformat": 4,
 "nbformat_minor": 2
}
