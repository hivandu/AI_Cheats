{
 "cells": [
  {
   "cell_type": "markdown",
   "metadata": {},
   "source": [
    "Dufferent Optimizer 优化方法"
   ]
  },
  {
   "cell_type": "code",
   "execution_count": 107,
   "metadata": {},
   "outputs": [],
   "source": [
    "import numpy as np\n",
    "import torch"
   ]
  },
  {
   "cell_type": "code",
   "execution_count": 270,
   "metadata": {},
   "outputs": [],
   "source": [
    "x = np.random.random(size=(10000, 8))"
   ]
  },
  {
   "cell_type": "code",
   "execution_count": 271,
   "metadata": {},
   "outputs": [],
   "source": [
    "ytrue = torch.from_numpy(np.random.uniform(0, 5, size=(10000, 1)))"
   ]
  },
  {
   "cell_type": "code",
   "execution_count": 272,
   "metadata": {},
   "outputs": [],
   "source": [
    "linear = torch.nn.Linear(in_features=8, out_features=1)\n",
    "\n",
    "sigmoid = torch.nn.Sigmoid()\n",
    "linear2 = torch.nn.Linear(in_features=1, out_features=1)"
   ]
  },
  {
   "cell_type": "code",
   "execution_count": 273,
   "metadata": {},
   "outputs": [],
   "source": [
    "model = torch.nn.Sequential(linear, sigmoid, linear2).double()"
   ]
  },
  {
   "cell_type": "code",
   "execution_count": 274,
   "metadata": {},
   "outputs": [],
   "source": [
    "train_x = torch.from_numpy(x)"
   ]
  },
  {
   "cell_type": "code",
   "execution_count": 275,
   "metadata": {},
   "outputs": [
    {
     "name": "stdout",
     "output_type": "stream",
     "text": [
      "torch.Size([10000, 1])\n",
      "torch.Size([10000, 1])\n"
     ]
    }
   ],
   "source": [
    "print(model(train_x).shape)\n",
    "print(ytrue.shape)"
   ]
  },
  {
   "cell_type": "code",
   "execution_count": 278,
   "metadata": {},
   "outputs": [
    {
     "name": "stdout",
     "output_type": "stream",
     "text": [
      "tensor(13.2516, dtype=torch.float64, grad_fn=<MseLossBackward0>)\n",
      "tensor(13.2631, dtype=torch.float64, grad_fn=<MseLossBackward0>)\n",
      "tensor(13.2701, dtype=torch.float64, grad_fn=<MseLossBackward0>)\n",
      "tensor(13.2727, dtype=torch.float64, grad_fn=<MseLossBackward0>)\n",
      "tensor(13.2707, dtype=torch.float64, grad_fn=<MseLossBackward0>)\n",
      "tensor(13.2643, dtype=torch.float64, grad_fn=<MseLossBackward0>)\n",
      "tensor(13.2534, dtype=torch.float64, grad_fn=<MseLossBackward0>)\n",
      "tensor(13.2380, dtype=torch.float64, grad_fn=<MseLossBackward0>)\n",
      "tensor(13.2181, dtype=torch.float64, grad_fn=<MseLossBackward0>)\n",
      "tensor(13.1939, dtype=torch.float64, grad_fn=<MseLossBackward0>)\n",
      "tensor(13.1652, dtype=torch.float64, grad_fn=<MseLossBackward0>)\n",
      "tensor(13.1321, dtype=torch.float64, grad_fn=<MseLossBackward0>)\n",
      "tensor(13.0947, dtype=torch.float64, grad_fn=<MseLossBackward0>)\n",
      "tensor(13.0529, dtype=torch.float64, grad_fn=<MseLossBackward0>)\n",
      "tensor(13.0068, dtype=torch.float64, grad_fn=<MseLossBackward0>)\n",
      "tensor(12.9564, dtype=torch.float64, grad_fn=<MseLossBackward0>)\n",
      "tensor(12.9018, dtype=torch.float64, grad_fn=<MseLossBackward0>)\n",
      "tensor(12.8430, dtype=torch.float64, grad_fn=<MseLossBackward0>)\n",
      "tensor(12.7801, dtype=torch.float64, grad_fn=<MseLossBackward0>)\n",
      "tensor(12.7131, dtype=torch.float64, grad_fn=<MseLossBackward0>)\n",
      "tensor(12.6421, dtype=torch.float64, grad_fn=<MseLossBackward0>)\n",
      "tensor(12.5671, dtype=torch.float64, grad_fn=<MseLossBackward0>)\n",
      "tensor(12.4882, dtype=torch.float64, grad_fn=<MseLossBackward0>)\n",
      "tensor(12.4054, dtype=torch.float64, grad_fn=<MseLossBackward0>)\n",
      "tensor(12.3188, dtype=torch.float64, grad_fn=<MseLossBackward0>)\n",
      "tensor(12.2285, dtype=torch.float64, grad_fn=<MseLossBackward0>)\n",
      "tensor(12.1346, dtype=torch.float64, grad_fn=<MseLossBackward0>)\n",
      "tensor(12.0371, dtype=torch.float64, grad_fn=<MseLossBackward0>)\n",
      "tensor(11.9361, dtype=torch.float64, grad_fn=<MseLossBackward0>)\n",
      "tensor(11.8317, dtype=torch.float64, grad_fn=<MseLossBackward0>)\n",
      "tensor(11.7240, dtype=torch.float64, grad_fn=<MseLossBackward0>)\n",
      "tensor(11.6130, dtype=torch.float64, grad_fn=<MseLossBackward0>)\n",
      "tensor(11.4988, dtype=torch.float64, grad_fn=<MseLossBackward0>)\n",
      "tensor(11.3816, dtype=torch.float64, grad_fn=<MseLossBackward0>)\n",
      "tensor(11.2615, dtype=torch.float64, grad_fn=<MseLossBackward0>)\n",
      "tensor(11.1385, dtype=torch.float64, grad_fn=<MseLossBackward0>)\n",
      "tensor(11.0126, dtype=torch.float64, grad_fn=<MseLossBackward0>)\n",
      "tensor(10.8842, dtype=torch.float64, grad_fn=<MseLossBackward0>)\n",
      "tensor(10.7531, dtype=torch.float64, grad_fn=<MseLossBackward0>)\n",
      "tensor(10.6196, dtype=torch.float64, grad_fn=<MseLossBackward0>)\n",
      "tensor(10.4837, dtype=torch.float64, grad_fn=<MseLossBackward0>)\n",
      "tensor(10.3456, dtype=torch.float64, grad_fn=<MseLossBackward0>)\n",
      "tensor(10.2053, dtype=torch.float64, grad_fn=<MseLossBackward0>)\n",
      "tensor(10.0630, dtype=torch.float64, grad_fn=<MseLossBackward0>)\n",
      "tensor(9.9188, dtype=torch.float64, grad_fn=<MseLossBackward0>)\n",
      "tensor(9.7728, dtype=torch.float64, grad_fn=<MseLossBackward0>)\n",
      "tensor(9.6251, dtype=torch.float64, grad_fn=<MseLossBackward0>)\n",
      "tensor(9.4759, dtype=torch.float64, grad_fn=<MseLossBackward0>)\n",
      "tensor(9.3252, dtype=torch.float64, grad_fn=<MseLossBackward0>)\n",
      "tensor(9.1732, dtype=torch.float64, grad_fn=<MseLossBackward0>)\n",
      "tensor(9.0199, dtype=torch.float64, grad_fn=<MseLossBackward0>)\n",
      "tensor(8.8656, dtype=torch.float64, grad_fn=<MseLossBackward0>)\n",
      "tensor(8.7104, dtype=torch.float64, grad_fn=<MseLossBackward0>)\n",
      "tensor(8.5543, dtype=torch.float64, grad_fn=<MseLossBackward0>)\n",
      "tensor(8.3975, dtype=torch.float64, grad_fn=<MseLossBackward0>)\n",
      "tensor(8.2401, dtype=torch.float64, grad_fn=<MseLossBackward0>)\n",
      "tensor(8.0823, dtype=torch.float64, grad_fn=<MseLossBackward0>)\n",
      "tensor(7.9241, dtype=torch.float64, grad_fn=<MseLossBackward0>)\n",
      "tensor(7.7658, dtype=torch.float64, grad_fn=<MseLossBackward0>)\n",
      "tensor(7.6073, dtype=torch.float64, grad_fn=<MseLossBackward0>)\n",
      "tensor(7.4489, dtype=torch.float64, grad_fn=<MseLossBackward0>)\n",
      "tensor(7.2907, dtype=torch.float64, grad_fn=<MseLossBackward0>)\n",
      "tensor(7.1328, dtype=torch.float64, grad_fn=<MseLossBackward0>)\n",
      "tensor(6.9754, dtype=torch.float64, grad_fn=<MseLossBackward0>)\n",
      "tensor(6.8184, dtype=torch.float64, grad_fn=<MseLossBackward0>)\n",
      "tensor(6.6622, dtype=torch.float64, grad_fn=<MseLossBackward0>)\n",
      "tensor(6.5068, dtype=torch.float64, grad_fn=<MseLossBackward0>)\n",
      "tensor(6.3523, dtype=torch.float64, grad_fn=<MseLossBackward0>)\n",
      "tensor(6.1988, dtype=torch.float64, grad_fn=<MseLossBackward0>)\n",
      "tensor(6.0466, dtype=torch.float64, grad_fn=<MseLossBackward0>)\n",
      "tensor(5.8956, dtype=torch.float64, grad_fn=<MseLossBackward0>)\n",
      "tensor(5.7460, dtype=torch.float64, grad_fn=<MseLossBackward0>)\n",
      "tensor(5.5980, dtype=torch.float64, grad_fn=<MseLossBackward0>)\n",
      "tensor(5.4517, dtype=torch.float64, grad_fn=<MseLossBackward0>)\n",
      "tensor(5.3071, dtype=torch.float64, grad_fn=<MseLossBackward0>)\n",
      "tensor(5.1644, dtype=torch.float64, grad_fn=<MseLossBackward0>)\n",
      "tensor(5.0238, dtype=torch.float64, grad_fn=<MseLossBackward0>)\n",
      "tensor(4.8852, dtype=torch.float64, grad_fn=<MseLossBackward0>)\n",
      "tensor(4.7489, dtype=torch.float64, grad_fn=<MseLossBackward0>)\n",
      "tensor(4.6149, dtype=torch.float64, grad_fn=<MseLossBackward0>)\n",
      "tensor(4.4833, dtype=torch.float64, grad_fn=<MseLossBackward0>)\n",
      "tensor(4.3543, dtype=torch.float64, grad_fn=<MseLossBackward0>)\n",
      "tensor(4.2280, dtype=torch.float64, grad_fn=<MseLossBackward0>)\n",
      "tensor(4.1044, dtype=torch.float64, grad_fn=<MseLossBackward0>)\n",
      "tensor(3.9837, dtype=torch.float64, grad_fn=<MseLossBackward0>)\n",
      "tensor(3.8659, dtype=torch.float64, grad_fn=<MseLossBackward0>)\n",
      "tensor(3.7511, dtype=torch.float64, grad_fn=<MseLossBackward0>)\n",
      "tensor(3.6395, dtype=torch.float64, grad_fn=<MseLossBackward0>)\n",
      "tensor(3.5311, dtype=torch.float64, grad_fn=<MseLossBackward0>)\n",
      "tensor(3.4260, dtype=torch.float64, grad_fn=<MseLossBackward0>)\n",
      "tensor(3.3244, dtype=torch.float64, grad_fn=<MseLossBackward0>)\n",
      "tensor(3.2262, dtype=torch.float64, grad_fn=<MseLossBackward0>)\n",
      "tensor(3.1315, dtype=torch.float64, grad_fn=<MseLossBackward0>)\n",
      "tensor(3.0405, dtype=torch.float64, grad_fn=<MseLossBackward0>)\n",
      "tensor(2.9532, dtype=torch.float64, grad_fn=<MseLossBackward0>)\n",
      "tensor(2.8697, dtype=torch.float64, grad_fn=<MseLossBackward0>)\n",
      "tensor(2.7900, dtype=torch.float64, grad_fn=<MseLossBackward0>)\n",
      "tensor(2.7142, dtype=torch.float64, grad_fn=<MseLossBackward0>)\n",
      "tensor(2.6424, dtype=torch.float64, grad_fn=<MseLossBackward0>)\n",
      "tensor(2.5746, dtype=torch.float64, grad_fn=<MseLossBackward0>)\n"
     ]
    }
   ],
   "source": [
    "loss_fn = torch.nn.MSELoss()\n",
    "\n",
    "# yhat = model(train_x)\n",
    "# loss = loss_fn(yhat, ytrue)\n",
    "# print(loss)\n",
    "\n",
    "optimer = torch.optim.SGD(model.parameters(), lr=1e-4)\n",
    "\n",
    "for e in range(100):\n",
    "    yhat = model(train_x)\n",
    "    loss = loss_fn(yhat, ytrue)\n",
    "    loss.backward()\n",
    "    print(loss)\n",
    "    optimer.step()"
   ]
  },
  {
   "cell_type": "code",
   "execution_count": null,
   "metadata": {},
   "outputs": [],
   "source": []
  }
 ],
 "metadata": {
  "kernelspec": {
   "display_name": "tf",
   "language": "python",
   "name": "python3"
  },
  "language_info": {
   "codemirror_mode": {
    "name": "ipython",
    "version": 3
   },
   "file_extension": ".py",
   "mimetype": "text/x-python",
   "name": "python",
   "nbconvert_exporter": "python",
   "pygments_lexer": "ipython3",
   "version": "3.10.12"
  }
 },
 "nbformat": 4,
 "nbformat_minor": 2
}
