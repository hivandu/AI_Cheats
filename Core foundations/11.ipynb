{
 "cells": [
  {
   "cell_type": "markdown",
   "metadata": {},
   "source": [
    "# 11. 机器学习"
   ]
  },
  {
   "cell_type": "markdown",
   "metadata": {},
   "source": [
    "## 矩阵"
   ]
  },
  {
   "cell_type": "code",
   "execution_count": 12,
   "metadata": {},
   "outputs": [],
   "source": [
    "import random\n",
    "\n",
    "import pandas as pd\n",
    "import matplotlib.pyplot as plt\n",
    "import seaborn as sns\n",
    "import numpy as np\n",
    "import re\n",
    "from matplotlib.animation import FuncAnimation\n",
    "from sklearn.datasets import fetch_openml\n",
    "import pickle\n",
    "\n",
    "dataset = fetch_openml(name='boston', version=1, as_frame=True, return_X_y=False, parser='pandas')"
   ]
  },
  {
   "cell_type": "code",
   "execution_count": 14,
   "metadata": {},
   "outputs": [],
   "source": [
    "class model():\n",
    "    pass"
   ]
  },
  {
   "cell_type": "code",
   "execution_count": 15,
   "metadata": {},
   "outputs": [
    {
     "name": "stdout",
     "output_type": "stream",
     "text": [
      "pickle read finished\n"
     ]
    }
   ],
   "source": [
    "with open('logistic_regression.model', 'rb') as f:\n",
    "    model_r = pickle.load(f)\n",
    "\n",
    "with open('w.model', 'rb') as f:\n",
    "    w_r = pickle.load(f)\n",
    "\n",
    "with open('b.model', 'rb') as f:\n",
    "    b_r = pickle.load(f)\n",
    "\n",
    "print('pickle read finished')"
   ]
  },
  {
   "cell_type": "code",
   "execution_count": 16,
   "metadata": {},
   "outputs": [],
   "source": [
    "with open('boston_labels', 'rb') as f:\n",
    "    labels_r = pickle.load(f)\n",
    "\n",
    "true_labels, predicated_labels, losses = labels_r[0], labels_r[1], labels_r[2]"
   ]
  },
  {
   "cell_type": "code",
   "execution_count": 17,
   "metadata": {},
   "outputs": [],
   "source": [
    "from sklearn.metrics import confusion_matrix"
   ]
  },
  {
   "cell_type": "code",
   "execution_count": 18,
   "metadata": {},
   "outputs": [
    {
     "data": {
      "text/plain": [
       "array([[61,  1],\n",
       "       [10, 28]])"
      ]
     },
     "execution_count": 18,
     "metadata": {},
     "output_type": "execute_result"
    }
   ],
   "source": [
    "confusion_matrix(true_labels, predicated_labels)"
   ]
  },
  {
   "cell_type": "code",
   "execution_count": 19,
   "metadata": {},
   "outputs": [
    {
     "name": "stdout",
     "output_type": "stream",
     "text": [
      "\u001b[31mSignature:\u001b[39m\n",
      "confusion_matrix(\n",
      "    y_true,\n",
      "    y_pred,\n",
      "    *,\n",
      "    labels=\u001b[38;5;28;01mNone\u001b[39;00m,\n",
      "    sample_weight=\u001b[38;5;28;01mNone\u001b[39;00m,\n",
      "    normalize=\u001b[38;5;28;01mNone\u001b[39;00m,\n",
      ")\n",
      "\u001b[31mSource:\u001b[39m   \n",
      "@validate_params(\n",
      "    {\n",
      "        \u001b[33m\"y_true\"\u001b[39m: [\u001b[33m\"array-like\"\u001b[39m],\n",
      "        \u001b[33m\"y_pred\"\u001b[39m: [\u001b[33m\"array-like\"\u001b[39m],\n",
      "        \u001b[33m\"labels\"\u001b[39m: [\u001b[33m\"array-like\"\u001b[39m, \u001b[38;5;28;01mNone\u001b[39;00m],\n",
      "        \u001b[33m\"sample_weight\"\u001b[39m: [\u001b[33m\"array-like\"\u001b[39m, \u001b[38;5;28;01mNone\u001b[39;00m],\n",
      "        \u001b[33m\"normalize\"\u001b[39m: [StrOptions({\u001b[33m\"true\"\u001b[39m, \u001b[33m\"pred\"\u001b[39m, \u001b[33m\"all\"\u001b[39m}), \u001b[38;5;28;01mNone\u001b[39;00m],\n",
      "    },\n",
      "    prefer_skip_nested_validation=\u001b[38;5;28;01mTrue\u001b[39;00m,\n",
      ")\n",
      "\u001b[38;5;28;01mdef\u001b[39;00m confusion_matrix(\n",
      "    y_true, y_pred, *, labels=\u001b[38;5;28;01mNone\u001b[39;00m, sample_weight=\u001b[38;5;28;01mNone\u001b[39;00m, normalize=\u001b[38;5;28;01mNone\u001b[39;00m\n",
      "):\n",
      "    \u001b[33m\"\"\"Compute confusion matrix to evaluate the accuracy of a classification.\u001b[39m\n",
      "\n",
      "\u001b[33m    By definition a confusion matrix :math:`C` is such that :math:`C_{i, j}`\u001b[39m\n",
      "\u001b[33m    is equal to the number of observations known to be in group :math:`i` and\u001b[39m\n",
      "\u001b[33m    predicted to be in group :math:`j`.\u001b[39m\n",
      "\n",
      "\u001b[33m    Thus in binary classification, the count of true negatives is\u001b[39m\n",
      "\u001b[33m    :math:`C_{0,0}`, false negatives is :math:`C_{1,0}`, true positives is\u001b[39m\n",
      "\u001b[33m    :math:`C_{1,1}` and false positives is :math:`C_{0,1}`.\u001b[39m\n",
      "\n",
      "\u001b[33m    Read more in the :ref:`User Guide <confusion_matrix>`.\u001b[39m\n",
      "\n",
      "\u001b[33m    Parameters\u001b[39m\n",
      "\u001b[33m    ----------\u001b[39m\n",
      "\u001b[33m    y_true : array-like of shape (n_samples,)\u001b[39m\n",
      "\u001b[33m        Ground truth (correct) target values.\u001b[39m\n",
      "\n",
      "\u001b[33m    y_pred : array-like of shape (n_samples,)\u001b[39m\n",
      "\u001b[33m        Estimated targets as returned by a classifier.\u001b[39m\n",
      "\n",
      "\u001b[33m    labels : array-like of shape (n_classes), default=None\u001b[39m\n",
      "\u001b[33m        List of labels to index the matrix. This may be used to reorder\u001b[39m\n",
      "\u001b[33m        or select a subset of labels.\u001b[39m\n",
      "\u001b[33m        If ``None`` is given, those that appear at least once\u001b[39m\n",
      "\u001b[33m        in ``y_true`` or ``y_pred`` are used in sorted order.\u001b[39m\n",
      "\n",
      "\u001b[33m    sample_weight : array-like of shape (n_samples,), default=None\u001b[39m\n",
      "\u001b[33m        Sample weights.\u001b[39m\n",
      "\n",
      "\u001b[33m        .. versionadded:: 0.18\u001b[39m\n",
      "\n",
      "\u001b[33m    normalize : {'true', 'pred', 'all'}, default=None\u001b[39m\n",
      "\u001b[33m        Normalizes confusion matrix over the true (rows), predicted (columns)\u001b[39m\n",
      "\u001b[33m        conditions or all the population. If None, confusion matrix will not be\u001b[39m\n",
      "\u001b[33m        normalized.\u001b[39m\n",
      "\n",
      "\u001b[33m    Returns\u001b[39m\n",
      "\u001b[33m    -------\u001b[39m\n",
      "\u001b[33m    C : ndarray of shape (n_classes, n_classes)\u001b[39m\n",
      "\u001b[33m        Confusion matrix whose i-th row and j-th\u001b[39m\n",
      "\u001b[33m        column entry indicates the number of\u001b[39m\n",
      "\u001b[33m        samples with true label being i-th class\u001b[39m\n",
      "\u001b[33m        and predicted label being j-th class.\u001b[39m\n",
      "\n",
      "\u001b[33m    See Also\u001b[39m\n",
      "\u001b[33m    --------\u001b[39m\n",
      "\u001b[33m    ConfusionMatrixDisplay.from_estimator : Plot the confusion matrix\u001b[39m\n",
      "\u001b[33m        given an estimator, the data, and the label.\u001b[39m\n",
      "\u001b[33m    ConfusionMatrixDisplay.from_predictions : Plot the confusion matrix\u001b[39m\n",
      "\u001b[33m        given the true and predicted labels.\u001b[39m\n",
      "\u001b[33m    ConfusionMatrixDisplay : Confusion Matrix visualization.\u001b[39m\n",
      "\n",
      "\u001b[33m    References\u001b[39m\n",
      "\u001b[33m    ----------\u001b[39m\n",
      "\u001b[33m    .. [1] `Wikipedia entry for the Confusion matrix\u001b[39m\n",
      "\u001b[33m           <https://en.wikipedia.org/wiki/Confusion_matrix>`_\u001b[39m\n",
      "\u001b[33m           (Wikipedia and other references may use a different\u001b[39m\n",
      "\u001b[33m           convention for axes).\u001b[39m\n",
      "\n",
      "\u001b[33m    Examples\u001b[39m\n",
      "\u001b[33m    --------\u001b[39m\n",
      "\u001b[33m    >>> from sklearn.metrics import confusion_matrix\u001b[39m\n",
      "\u001b[33m    >>> y_true = [2, 0, 2, 2, 0, 1]\u001b[39m\n",
      "\u001b[33m    >>> y_pred = [0, 0, 2, 2, 0, 2]\u001b[39m\n",
      "\u001b[33m    >>> confusion_matrix(y_true, y_pred)\u001b[39m\n",
      "\u001b[33m    array([[2, 0, 0],\u001b[39m\n",
      "\u001b[33m           [0, 0, 1],\u001b[39m\n",
      "\u001b[33m           [1, 0, 2]])\u001b[39m\n",
      "\n",
      "\u001b[33m    >>> y_true = [\"cat\", \"ant\", \"cat\", \"cat\", \"ant\", \"bird\"]\u001b[39m\n",
      "\u001b[33m    >>> y_pred = [\"ant\", \"ant\", \"cat\", \"cat\", \"ant\", \"cat\"]\u001b[39m\n",
      "\u001b[33m    >>> confusion_matrix(y_true, y_pred, labels=[\"ant\", \"bird\", \"cat\"])\u001b[39m\n",
      "\u001b[33m    array([[2, 0, 0],\u001b[39m\n",
      "\u001b[33m           [0, 0, 1],\u001b[39m\n",
      "\u001b[33m           [1, 0, 2]])\u001b[39m\n",
      "\n",
      "\u001b[33m    In the binary case, we can extract true positives, etc. as follows:\u001b[39m\n",
      "\n",
      "\u001b[33m    >>> tn, fp, fn, tp = confusion_matrix([0, 1, 0, 1], [1, 1, 1, 0]).ravel().tolist()\u001b[39m\n",
      "\u001b[33m    >>> (tn, fp, fn, tp)\u001b[39m\n",
      "\u001b[33m    (0, 2, 1, 1)\u001b[39m\n",
      "\u001b[33m    \"\"\"\u001b[39m\n",
      "    y_true, y_pred = attach_unique(y_true, y_pred)\n",
      "    y_type, y_true, y_pred = _check_targets(y_true, y_pred)\n",
      "    \u001b[38;5;28;01mif\u001b[39;00m y_type \u001b[38;5;28;01mnot\u001b[39;00m \u001b[38;5;28;01min\u001b[39;00m (\u001b[33m\"binary\"\u001b[39m, \u001b[33m\"multiclass\"\u001b[39m):\n",
      "        \u001b[38;5;28;01mraise\u001b[39;00m ValueError(\u001b[33m\"%s is not supported\"\u001b[39m % y_type)\n",
      "\n",
      "    \u001b[38;5;28;01mif\u001b[39;00m labels \u001b[38;5;28;01mis\u001b[39;00m \u001b[38;5;28;01mNone\u001b[39;00m:\n",
      "        labels = unique_labels(y_true, y_pred)\n",
      "    \u001b[38;5;28;01melse\u001b[39;00m:\n",
      "        labels = np.asarray(labels)\n",
      "        n_labels = labels.size\n",
      "        \u001b[38;5;28;01mif\u001b[39;00m n_labels == \u001b[32m0\u001b[39m:\n",
      "            \u001b[38;5;28;01mraise\u001b[39;00m ValueError(\u001b[33m\"'labels' should contains at least one label.\"\u001b[39m)\n",
      "        \u001b[38;5;28;01melif\u001b[39;00m y_true.size == \u001b[32m0\u001b[39m:\n",
      "            \u001b[38;5;28;01mreturn\u001b[39;00m np.zeros((n_labels, n_labels), dtype=int)\n",
      "        \u001b[38;5;28;01melif\u001b[39;00m len(np.intersect1d(y_true, labels)) == \u001b[32m0\u001b[39m:\n",
      "            \u001b[38;5;28;01mraise\u001b[39;00m ValueError(\u001b[33m\"At least one label specified must be in y_true\"\u001b[39m)\n",
      "\n",
      "    \u001b[38;5;28;01mif\u001b[39;00m sample_weight \u001b[38;5;28;01mis\u001b[39;00m \u001b[38;5;28;01mNone\u001b[39;00m:\n",
      "        sample_weight = np.ones(y_true.shape[\u001b[32m0\u001b[39m], dtype=np.int64)\n",
      "    \u001b[38;5;28;01melse\u001b[39;00m:\n",
      "        sample_weight = np.asarray(sample_weight)\n",
      "\n",
      "    check_consistent_length(y_true, y_pred, sample_weight)\n",
      "\n",
      "    n_labels = labels.size\n",
      "    \u001b[38;5;66;03m# If labels are not consecutive integers starting from zero, then\u001b[39;00m\n",
      "    \u001b[38;5;66;03m# y_true and y_pred must be converted into index form\u001b[39;00m\n",
      "    need_index_conversion = \u001b[38;5;28;01mnot\u001b[39;00m (\n",
      "        labels.dtype.kind \u001b[38;5;28;01min\u001b[39;00m {\u001b[33m\"i\"\u001b[39m, \u001b[33m\"u\"\u001b[39m, \u001b[33m\"b\"\u001b[39m}\n",
      "        \u001b[38;5;28;01mand\u001b[39;00m np.all(labels == np.arange(n_labels))\n",
      "        \u001b[38;5;28;01mand\u001b[39;00m y_true.min() >= \u001b[32m0\u001b[39m\n",
      "        \u001b[38;5;28;01mand\u001b[39;00m y_pred.min() >= \u001b[32m0\u001b[39m\n",
      "    )\n",
      "    \u001b[38;5;28;01mif\u001b[39;00m need_index_conversion:\n",
      "        label_to_ind = {y: x \u001b[38;5;28;01mfor\u001b[39;00m x, y \u001b[38;5;28;01min\u001b[39;00m enumerate(labels)}\n",
      "        y_pred = np.array([label_to_ind.get(x, n_labels + \u001b[32m1\u001b[39m) \u001b[38;5;28;01mfor\u001b[39;00m x \u001b[38;5;28;01min\u001b[39;00m y_pred])\n",
      "        y_true = np.array([label_to_ind.get(x, n_labels + \u001b[32m1\u001b[39m) \u001b[38;5;28;01mfor\u001b[39;00m x \u001b[38;5;28;01min\u001b[39;00m y_true])\n",
      "\n",
      "    \u001b[38;5;66;03m# intersect y_pred, y_true with labels, eliminate items not in labels\u001b[39;00m\n",
      "    ind = np.logical_and(y_pred < n_labels, y_true < n_labels)\n",
      "    \u001b[38;5;28;01mif\u001b[39;00m \u001b[38;5;28;01mnot\u001b[39;00m np.all(ind):\n",
      "        y_pred = y_pred[ind]\n",
      "        y_true = y_true[ind]\n",
      "        \u001b[38;5;66;03m# also eliminate weights of eliminated items\u001b[39;00m\n",
      "        sample_weight = sample_weight[ind]\n",
      "\n",
      "    \u001b[38;5;66;03m# Choose the accumulator dtype to always have high precision\u001b[39;00m\n",
      "    \u001b[38;5;28;01mif\u001b[39;00m sample_weight.dtype.kind \u001b[38;5;28;01min\u001b[39;00m {\u001b[33m\"i\"\u001b[39m, \u001b[33m\"u\"\u001b[39m, \u001b[33m\"b\"\u001b[39m}:\n",
      "        dtype = np.int64\n",
      "    \u001b[38;5;28;01melse\u001b[39;00m:\n",
      "        dtype = np.float64\n",
      "\n",
      "    cm = coo_matrix(\n",
      "        (sample_weight, (y_true, y_pred)),\n",
      "        shape=(n_labels, n_labels),\n",
      "        dtype=dtype,\n",
      "    ).toarray()\n",
      "\n",
      "    \u001b[38;5;28;01mwith\u001b[39;00m np.errstate(all=\u001b[33m\"ignore\"\u001b[39m):\n",
      "        \u001b[38;5;28;01mif\u001b[39;00m normalize == \u001b[33m\"true\"\u001b[39m:\n",
      "            cm = cm / cm.sum(axis=\u001b[32m1\u001b[39m, keepdims=\u001b[38;5;28;01mTrue\u001b[39;00m)\n",
      "        \u001b[38;5;28;01melif\u001b[39;00m normalize == \u001b[33m\"pred\"\u001b[39m:\n",
      "            cm = cm / cm.sum(axis=\u001b[32m0\u001b[39m, keepdims=\u001b[38;5;28;01mTrue\u001b[39;00m)\n",
      "        \u001b[38;5;28;01melif\u001b[39;00m normalize == \u001b[33m\"all\"\u001b[39m:\n",
      "            cm = cm / cm.sum()\n",
      "        cm = np.nan_to_num(cm)\n",
      "\n",
      "    \u001b[38;5;28;01mif\u001b[39;00m cm.shape == (\u001b[32m1\u001b[39m, \u001b[32m1\u001b[39m):\n",
      "        warnings.warn(\n",
      "            (\n",
      "                \u001b[33m\"A single label was found in 'y_true' and 'y_pred'. For the confusion \"\u001b[39m\n",
      "                \u001b[33m\"matrix to have the correct shape, use the 'labels' parameter to pass \"\u001b[39m\n",
      "                \u001b[33m\"all known labels.\"\u001b[39m\n",
      "            ),\n",
      "            UserWarning,\n",
      "        )\n",
      "\n",
      "    \u001b[38;5;28;01mreturn\u001b[39;00m cm\n",
      "\u001b[31mFile:\u001b[39m      ~/miniforge3/envs/ml/lib/python3.11/site-packages/sklearn/metrics/_classification.py\n",
      "\u001b[31mType:\u001b[39m      function"
     ]
    }
   ],
   "source": [
    "??confusion_matrix"
   ]
  },
  {
   "cell_type": "code",
   "execution_count": 20,
   "metadata": {},
   "outputs": [
    {
     "data": {
      "text/plain": [
       "100"
      ]
     },
     "execution_count": 20,
     "metadata": {},
     "output_type": "execute_result"
    }
   ],
   "source": [
    "len(losses)"
   ]
  },
  {
   "cell_type": "code",
   "execution_count": 21,
   "metadata": {},
   "outputs": [],
   "source": [
    "from sklearn.metrics import roc_curve, auc"
   ]
  },
  {
   "cell_type": "code",
   "execution_count": 22,
   "metadata": {},
   "outputs": [
    {
     "name": "stdout",
     "output_type": "stream",
     "text": [
      "AUC: 0.952037351443124\n"
     ]
    }
   ],
   "source": [
    "fpr, tpr, thresholds = roc_curve(true_labels, losses)\n",
    "\n",
    "roc_auc = auc(fpr, tpr)\n",
    "print('AUC: {}'.format(roc_auc))"
   ]
  },
  {
   "cell_type": "code",
   "execution_count": 24,
   "metadata": {},
   "outputs": [
    {
     "data": {
      "image/png": "[encoded data removed]",
      "text/plain": [
       "<Figure size 640x480 with 1 Axes>"
      ]
     },
     "metadata": {},
     "output_type": "display_data"
    }
   ],
   "source": [
    "plt.style.use('default')\n",
    "plt.figure()\n",
    "lw = 2\n",
    "plt.plot(fpr, tpr, color='darkorange', lw=lw, label=f'ROC curve (area = {roc_auc:.2f})')\n",
    "plt.plot([0, 1], [0, 1], color='navy', lw=lw, linestyle='--')\n",
    "plt.xlim([0.0, 1.0])\n",
    "plt.ylim([0.0, 1.05])\n",
    "plt.xlabel('False Positive Rate')\n",
    "plt.ylabel('True Positive Rate')\n",
    "plt.title('Receiver Operating Characteristic Example')\n",
    "plt.legend(loc='lower right')\n",
    "plt.show()"
   ]
  },
  {
   "cell_type": "markdown",
   "metadata": {},
   "source": [
    "![欢迎订阅：坍缩的奇点](../assets/Capture-2023-11-02-164446.png)"
   ]
  },
  {
   "cell_type": "code",
   "execution_count": null,
   "metadata": {},
   "outputs": [],
   "source": []
  }
 ],
 "metadata": {
  "kernelspec": {
   "display_name": "ml",
   "language": "python",
   "name": "python3"
  },
  "language_info": {
   "codemirror_mode": {
    "name": "ipython",
    "version": 3
   },
   "file_extension": ".py",
   "mimetype": "text/x-python",
   "name": "python",
   "nbconvert_exporter": "python",
   "pygments_lexer": "ipython3",
   "version": "3.11.13"
  }
 },
 "nbformat": 4,
 "nbformat_minor": 2
}
