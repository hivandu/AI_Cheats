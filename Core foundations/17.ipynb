{
 "cells": [
  {
   "cell_type": "markdown",
   "metadata": {},
   "source": [
    "## Random Forest"
   ]
  },
  {
   "cell_type": "code",
   "execution_count": 1,
   "metadata": {},
   "outputs": [],
   "source": [
    "from sklearn.datasets import load_iris\n",
    "from sklearn.tree import DecisionTreeRegressor\n",
    "from sklearn.tree import DecisionTreeClassifier\n",
    "from sklearn.model_selection import train_test_split\n",
    "from sklearn.datasets import fetch_openml\n",
    "import numpy as np\n",
    "import pandas as pd\n",
    "from sklearn.metrics import r2_score"
   ]
  },
  {
   "cell_type": "code",
   "execution_count": 2,
   "metadata": {},
   "outputs": [],
   "source": [
    "iris = load_iris()"
   ]
  },
  {
   "cell_type": "code",
   "execution_count": 3,
   "metadata": {},
   "outputs": [],
   "source": [
    "x = iris.data\n",
    "y = iris.target"
   ]
  },
  {
   "cell_type": "code",
   "execution_count": 4,
   "metadata": {},
   "outputs": [
    {
     "name": "stdout",
     "output_type": "stream",
     "text": [
      "[[5.1 3.5 1.4 0.2]\n",
      " [4.9 3.  1.4 0.2]\n",
      " [4.7 3.2 1.3 0.2]\n",
      " [4.6 3.1 1.5 0.2]\n",
      " [5.  3.6 1.4 0.2]\n",
      " [5.4 3.9 1.7 0.4]\n",
      " [4.6 3.4 1.4 0.3]\n",
      " [5.  3.4 1.5 0.2]\n",
      " [4.4 2.9 1.4 0.2]\n",
      " [4.9 3.1 1.5 0.1]\n",
      " [5.4 3.7 1.5 0.2]\n",
      " [4.8 3.4 1.6 0.2]\n",
      " [4.8 3.  1.4 0.1]\n",
      " [4.3 3.  1.1 0.1]\n",
      " [5.8 4.  1.2 0.2]\n",
      " [5.7 4.4 1.5 0.4]\n",
      " [5.4 3.9 1.3 0.4]\n",
      " [5.1 3.5 1.4 0.3]\n",
      " [5.7 3.8 1.7 0.3]\n",
      " [5.1 3.8 1.5 0.3]\n",
      " [5.4 3.4 1.7 0.2]\n",
      " [5.1 3.7 1.5 0.4]\n",
      " [4.6 3.6 1.  0.2]\n",
      " [5.1 3.3 1.7 0.5]\n",
      " [4.8 3.4 1.9 0.2]\n",
      " [5.  3.  1.6 0.2]\n",
      " [5.  3.4 1.6 0.4]\n",
      " [5.2 3.5 1.5 0.2]\n",
      " [5.2 3.4 1.4 0.2]\n",
      " [4.7 3.2 1.6 0.2]\n",
      " [4.8 3.1 1.6 0.2]\n",
      " [5.4 3.4 1.5 0.4]\n",
      " [5.2 4.1 1.5 0.1]\n",
      " [5.5 4.2 1.4 0.2]\n",
      " [4.9 3.1 1.5 0.2]\n",
      " [5.  3.2 1.2 0.2]\n",
      " [5.5 3.5 1.3 0.2]\n",
      " [4.9 3.6 1.4 0.1]\n",
      " [4.4 3.  1.3 0.2]\n",
      " [5.1 3.4 1.5 0.2]\n",
      " [5.  3.5 1.3 0.3]\n",
      " [4.5 2.3 1.3 0.3]\n",
      " [4.4 3.2 1.3 0.2]\n",
      " [5.  3.5 1.6 0.6]\n",
      " [5.1 3.8 1.9 0.4]\n",
      " [4.8 3.  1.4 0.3]\n",
      " [5.1 3.8 1.6 0.2]\n",
      " [4.6 3.2 1.4 0.2]\n",
      " [5.3 3.7 1.5 0.2]\n",
      " [5.  3.3 1.4 0.2]\n",
      " [7.  3.2 4.7 1.4]\n",
      " [6.4 3.2 4.5 1.5]\n",
      " [6.9 3.1 4.9 1.5]\n",
      " [5.5 2.3 4.  1.3]\n",
      " [6.5 2.8 4.6 1.5]\n",
      " [5.7 2.8 4.5 1.3]\n",
      " [6.3 3.3 4.7 1.6]\n",
      " [4.9 2.4 3.3 1. ]\n",
      " [6.6 2.9 4.6 1.3]\n",
      " [5.2 2.7 3.9 1.4]\n",
      " [5.  2.  3.5 1. ]\n",
      " [5.9 3.  4.2 1.5]\n",
      " [6.  2.2 4.  1. ]\n",
      " [6.1 2.9 4.7 1.4]\n",
      " [5.6 2.9 3.6 1.3]\n",
      " [6.7 3.1 4.4 1.4]\n",
      " [5.6 3.  4.5 1.5]\n",
      " [5.8 2.7 4.1 1. ]\n",
      " [6.2 2.2 4.5 1.5]\n",
      " [5.6 2.5 3.9 1.1]\n",
      " [5.9 3.2 4.8 1.8]\n",
      " [6.1 2.8 4.  1.3]\n",
      " [6.3 2.5 4.9 1.5]\n",
      " [6.1 2.8 4.7 1.2]\n",
      " [6.4 2.9 4.3 1.3]\n",
      " [6.6 3.  4.4 1.4]\n",
      " [6.8 2.8 4.8 1.4]\n",
      " [6.7 3.  5.  1.7]\n",
      " [6.  2.9 4.5 1.5]\n",
      " [5.7 2.6 3.5 1. ]\n",
      " [5.5 2.4 3.8 1.1]\n",
      " [5.5 2.4 3.7 1. ]\n",
      " [5.8 2.7 3.9 1.2]\n",
      " [6.  2.7 5.1 1.6]\n",
      " [5.4 3.  4.5 1.5]\n",
      " [6.  3.4 4.5 1.6]\n",
      " [6.7 3.1 4.7 1.5]\n",
      " [6.3 2.3 4.4 1.3]\n",
      " [5.6 3.  4.1 1.3]\n",
      " [5.5 2.5 4.  1.3]\n",
      " [5.5 2.6 4.4 1.2]\n",
      " [6.1 3.  4.6 1.4]\n",
      " [5.8 2.6 4.  1.2]\n",
      " [5.  2.3 3.3 1. ]\n",
      " [5.6 2.7 4.2 1.3]\n",
      " [5.7 3.  4.2 1.2]\n",
      " [5.7 2.9 4.2 1.3]\n",
      " [6.2 2.9 4.3 1.3]\n",
      " [5.1 2.5 3.  1.1]\n",
      " [5.7 2.8 4.1 1.3]\n",
      " [6.3 3.3 6.  2.5]\n",
      " [5.8 2.7 5.1 1.9]\n",
      " [7.1 3.  5.9 2.1]\n",
      " [6.3 2.9 5.6 1.8]\n",
      " [6.5 3.  5.8 2.2]\n",
      " [7.6 3.  6.6 2.1]\n",
      " [4.9 2.5 4.5 1.7]\n",
      " [7.3 2.9 6.3 1.8]\n",
      " [6.7 2.5 5.8 1.8]\n",
      " [7.2 3.6 6.1 2.5]\n",
      " [6.5 3.2 5.1 2. ]\n",
      " [6.4 2.7 5.3 1.9]\n",
      " [6.8 3.  5.5 2.1]\n",
      " [5.7 2.5 5.  2. ]\n",
      " [5.8 2.8 5.1 2.4]\n",
      " [6.4 3.2 5.3 2.3]\n",
      " [6.5 3.  5.5 1.8]\n",
      " [7.7 3.8 6.7 2.2]\n",
      " [7.7 2.6 6.9 2.3]\n",
      " [6.  2.2 5.  1.5]\n",
      " [6.9 3.2 5.7 2.3]\n",
      " [5.6 2.8 4.9 2. ]\n",
      " [7.7 2.8 6.7 2. ]\n",
      " [6.3 2.7 4.9 1.8]\n",
      " [6.7 3.3 5.7 2.1]\n",
      " [7.2 3.2 6.  1.8]\n",
      " [6.2 2.8 4.8 1.8]\n",
      " [6.1 3.  4.9 1.8]\n",
      " [6.4 2.8 5.6 2.1]\n",
      " [7.2 3.  5.8 1.6]\n",
      " [7.4 2.8 6.1 1.9]\n",
      " [7.9 3.8 6.4 2. ]\n",
      " [6.4 2.8 5.6 2.2]\n",
      " [6.3 2.8 5.1 1.5]\n",
      " [6.1 2.6 5.6 1.4]\n",
      " [7.7 3.  6.1 2.3]\n",
      " [6.3 3.4 5.6 2.4]\n",
      " [6.4 3.1 5.5 1.8]\n",
      " [6.  3.  4.8 1.8]\n",
      " [6.9 3.1 5.4 2.1]\n",
      " [6.7 3.1 5.6 2.4]\n",
      " [6.9 3.1 5.1 2.3]\n",
      " [5.8 2.7 5.1 1.9]\n",
      " [6.8 3.2 5.9 2.3]\n",
      " [6.7 3.3 5.7 2.5]\n",
      " [6.7 3.  5.2 2.3]\n",
      " [6.3 2.5 5.  1.9]\n",
      " [6.5 3.  5.2 2. ]\n",
      " [6.2 3.4 5.4 2.3]\n",
      " [5.9 3.  5.1 1.8]] [0 0 0 0 0 0 0 0 0 0 0 0 0 0 0 0 0 0 0 0 0 0 0 0 0 0 0 0 0 0 0 0 0 0 0 0 0\n",
      " 0 0 0 0 0 0 0 0 0 0 0 0 0 1 1 1 1 1 1 1 1 1 1 1 1 1 1 1 1 1 1 1 1 1 1 1 1\n",
      " 1 1 1 1 1 1 1 1 1 1 1 1 1 1 1 1 1 1 1 1 1 1 1 1 1 1 2 2 2 2 2 2 2 2 2 2 2\n",
      " 2 2 2 2 2 2 2 2 2 2 2 2 2 2 2 2 2 2 2 2 2 2 2 2 2 2 2 2 2 2 2 2 2 2 2 2 2\n",
      " 2 2]\n"
     ]
    }
   ],
   "source": [
    "print(x, y)"
   ]
  },
  {
   "cell_type": "code",
   "execution_count": 5,
   "metadata": {},
   "outputs": [
    {
     "data": {
      "text/plain": [
       "array([0.02666667, 0.        , 0.05072262, 0.92261071])"
      ]
     },
     "execution_count": 5,
     "metadata": {},
     "output_type": "execute_result"
    }
   ],
   "source": [
    "tree_clf = DecisionTreeClassifier()\n",
    "tree_clf.fit(x, y)\n",
    "\n",
    "tree_clf.feature_importances_"
   ]
  },
  {
   "cell_type": "code",
   "execution_count": 6,
   "metadata": {},
   "outputs": [
    {
     "name": "stdout",
     "output_type": "stream",
     "text": [
      "1.0\n",
      "0.9777777777777777\n"
     ]
    }
   ],
   "source": [
    "train_x, test_x,train_y, test_y = train_test_split(x, y, test_size=0.3, random_state=0)\n",
    "\n",
    "tree_clf = DecisionTreeClassifier()\n",
    "tree_clf.fit(train_x, train_y)\n",
    "\n",
    "print(tree_clf.score(train_x, train_y))\n",
    "print(tree_clf.score(test_x, test_y))"
   ]
  },
  {
   "cell_type": "code",
   "execution_count": 7,
   "metadata": {},
   "outputs": [],
   "source": [
    "dataset = fetch_openml(name='boston', version=1, as_frame=True, return_X_y=False, parser='pandas')\n",
    "\n",
    "data = dataset['data']\n",
    "target = dataset['target']"
   ]
  },
  {
   "cell_type": "code",
   "execution_count": 8,
   "metadata": {},
   "outputs": [
    {
     "name": "stdout",
     "output_type": "stream",
     "text": [
      "whole dataset train acc: 1.0\n",
      "whole dataset test acc: 0.6661053215849546\n"
     ]
    }
   ],
   "source": [
    "x_train, x_test, y_train, y_test = train_test_split(data, target, test_size=0.3, random_state=0)\n",
    "\n",
    "tree_reg = DecisionTreeRegressor()\n",
    "tree_reg.fit(x_train, y_train)\n",
    "\n",
    "print('whole dataset train acc: {}'.format(tree_reg.score(x_train, y_train)))\n",
    "print('whole dataset test acc: {}'.format(tree_reg.score(x_test, y_test)))"
   ]
  },
  {
   "cell_type": "code",
   "execution_count": 9,
   "metadata": {},
   "outputs": [],
   "source": [
    "def random_forest(x_train, y_train, x_test, y_test, drop_n=4):\n",
    "    features_random = np.random.choice(list(x_train.columns), size=len(x_train.columns)-drop_n)\n",
    "\n",
    "    x_sample = x_train[features_random]\n",
    "    y_sample = y_train\n",
    "\n",
    "    reg = DecisionTreeRegressor()\n",
    "    reg.fit(x_sample, y_sample)\n",
    "\n",
    "    score_train = reg.score(x_sample, y_sample)\n",
    "    score_test = reg.score(x_test[features_random], y_test)\n",
    "\n",
    "    print('sub sample :: train score: {}, test score: {}'.format(score_train, score_test))\n",
    "\n",
    "    y_predicated = reg.predict(x_test[features_random])\n",
    "\n",
    "    return y_predicated, score_test"
   ]
  },
  {
   "cell_type": "code",
   "execution_count": 10,
   "metadata": {},
   "outputs": [
    {
     "name": "stdout",
     "output_type": "stream",
     "text": [
      "sub sample :: train score: 0.8331785920058569, test score: 0.43429398341543435\n"
     ]
    },
    {
     "data": {
      "text/plain": [
       "(array([19.3       , 50.        , 22.4       ,  8.96363636, 20.55      ,\n",
       "        16.4       , 20.3       , 20.22857143, 20.475     , 20.85714286,\n",
       "         9.56666667, 17.1       , 12.77      , 11.38      , 38.5       ,\n",
       "        22.5       , 22.13333333, 32.45      , 24.68      , 21.2       ,\n",
       "        22.3       , 30.2375    , 20.85714286, 32.        , 21.46666667,\n",
       "        50.        , 16.4       , 16.33333333, 35.13333333, 19.72857143,\n",
       "        19.01666667, 15.34666667, 24.18      , 23.2       , 24.68      ,\n",
       "        20.73333333,  8.96363636, 13.8       , 15.25      , 15.25      ,\n",
       "        25.8       , 21.46666667, 19.3       , 15.25      , 24.76666667,\n",
       "        34.7       , 25.8       , 15.3       , 16.33333333, 20.85714286,\n",
       "        15.3       , 18.95      , 36.9       , 24.18      , 16.725     ,\n",
       "        18.9       , 19.4       , 17.5       , 17.1       , 20.56666667,\n",
       "        24.1       , 20.475     , 22.        , 36.9       , 20.73333333,\n",
       "        35.075     , 15.34666667, 18.9       , 17.1       , 23.73333333,\n",
       "        20.55      , 20.55      , 19.4       , 23.9       , 22.13333333,\n",
       "        11.38      , 34.43333333, 23.73333333, 24.76666667, 18.95      ,\n",
       "        23.2       , 16.725     , 11.9       , 36.9       , 36.9       ,\n",
       "        22.3       , 35.13333333, 15.25      , 16.33333333, 11.38      ,\n",
       "        33.        , 12.77      , 20.9       , 22.5       , 22.76666667,\n",
       "        24.18      , 13.8       , 35.13333333, 15.34666667, 21.625     ,\n",
       "        23.73333333, 20.85714286, 25.825     , 23.46666667, 23.2       ,\n",
       "        18.9       ,  9.56666667, 19.46666667, 22.76666667, 22.        ,\n",
       "        30.2375    , 17.1       , 18.9       , 19.72857143, 18.9       ,\n",
       "        20.56666667, 12.77      , 16.725     , 11.38      , 22.5       ,\n",
       "        35.075     , 11.38      , 21.46666667, 18.95      , 20.475     ,\n",
       "        19.53333333, 30.9       , 24.18      , 21.625     , 32.75      ,\n",
       "         8.96363636,  9.56666667, 12.6       , 30.2375    , 19.46666667,\n",
       "        30.1       , 34.43333333, 15.3       , 24.18      ,  9.56666667,\n",
       "        12.28333333, 18.95      , 36.05714286, 21.2       , 20.55      ,\n",
       "        16.4       , 34.9       , 33.4       ,  9.56666667, 11.38      ,\n",
       "        20.475     , 33.4       ]),\n",
       " 0.43429398341543435)"
      ]
     },
     "execution_count": 10,
     "metadata": {},
     "output_type": "execute_result"
    }
   ],
   "source": [
    "random_forest(x_train, y_train, x_test, y_test, 4)"
   ]
  },
  {
   "cell_type": "code",
   "execution_count": 11,
   "metadata": {},
   "outputs": [],
   "source": [
    "with_feature_names = pd.DataFrame(data)\n",
    "with_feature_names.columns = dataset['feature_names']"
   ]
  },
  {
   "cell_type": "code",
   "execution_count": 12,
   "metadata": {},
   "outputs": [],
   "source": [
    "x_train, x_test, y_train, y_test = train_test_split(with_feature_names, target, test_size=0.3, random_state=0)"
   ]
  },
  {
   "cell_type": "code",
   "execution_count": 13,
   "metadata": {},
   "outputs": [
    {
     "name": "stdout",
     "output_type": "stream",
     "text": [
      "sub sample :: train score: 1.0, test score: 0.5828499217537433\n"
     ]
    },
    {
     "data": {
      "text/plain": [
       "(array([37. , 22.8, 23.8, 12.5, 22.5, 20.4, 21.4, 19. , 22. , 19.3, 10.2,\n",
       "        17.9, 17.1,  8.7, 50. , 22.5, 23.1, 42.3, 19.4, 25. , 23.1, 22.7,\n",
       "        20.1, 24.7, 21.7, 15. , 21. , 13.1, 46.7, 18.9, 12.6, 17.7, 23.8,\n",
       "        22.2, 25.1, 10.9,  7.2, 22.8,  9.6, 12. , 20.9, 21.1, 20.3, 13.1,\n",
       "        20.9, 23.8, 16.6, 13.1, 14.6, 22.8, 13.1, 19.8, 18.2, 29.6, 18.1,\n",
       "        19.8, 19.7, 17.5, 22.8, 20. , 25. , 20.8, 23.7, 46.7, 19.9, 37. ,\n",
       "        14.1, 18.9, 16.3, 20.2, 17.6, 20.9, 23.7, 19.4, 25. ,  8.8, 46.7,\n",
       "        22.2, 22. , 19.9, 23.7, 10.9, 15. , 50. , 31.5, 23.1, 29.6, 11.7,\n",
       "        24.3, 14.9, 19.7, 12. , 23.1, 22.3, 21.6, 25. , 13.8, 23.1, 14.8,\n",
       "        16. , 25. , 19.6, 25. , 24.7, 22.2, 18.9,  7. , 10.9, 22.8, 20.9,\n",
       "        24.3, 17.9, 18.9, 19.8, 18.9, 22.2,  8.8, 19.6,  8.7, 42.3, 34.9,\n",
       "        11.3, 16.6, 21.8, 22.8, 14.3, 28.2, 16.6, 25. , 28.7, 12.5,  8.1,\n",
       "        15.1, 22.7, 10.5, 26.6, 20.7, 15.6, 24.4,  8.1,  7. , 21.8, 32.5,\n",
       "        26.6, 24.4, 18.4, 30.8, 35.1, 10.9,  8.8, 23.9, 35.1]),\n",
       " 0.5828499217537433)"
      ]
     },
     "execution_count": 13,
     "metadata": {},
     "output_type": "execute_result"
    }
   ],
   "source": [
    "random_forest(x_train, y_train, x_test, y_test, 4)"
   ]
  },
  {
   "cell_type": "code",
   "execution_count": 14,
   "metadata": {},
   "outputs": [
    {
     "name": "stdout",
     "output_type": "stream",
     "text": [
      "sub sample :: train score: 1.0, test score: 0.6303643870644049\n",
      "sub sample :: train score: 1.0, test score: 0.22216870278126066\n",
      "sub sample :: train score: 1.0, test score: 0.22545242830060186\n",
      "sub sample :: train score: 1.0, test score: 0.5794990363043866\n",
      "the mean result is: 21.927796052631578\n",
      "the score of forest is: 0.7294247406318071\n"
     ]
    }
   ],
   "source": [
    "tree_num = 4\n",
    "predicates = []\n",
    "for _ in range(tree_num):\n",
    "    predicated, score = random_forest(x_train, y_train, x_test, y_test)\n",
    "    predicates.append((predicated, score))\n",
    "\n",
    "predicates_value = [v for v, s in predicates]\n",
    "forest_scores = [s for v, s in predicates]\n",
    "\n",
    "print('the mean result is: {}'.format(np.mean(predicates_value), axis=0))\n",
    "print('the score of forest is: {}'.format(r2_score(y_test, np.mean(predicates_value, axis=0))))\n"
   ]
  },
  {
   "cell_type": "code",
   "execution_count": 15,
   "metadata": {},
   "outputs": [
    {
     "name": "stdout",
     "output_type": "stream",
     "text": [
      "the score of weighted forest is: 0.7394533612680413\n"
     ]
    }
   ],
   "source": [
    "weights = np.array(forest_scores) / np.sum(forest_scores)\n",
    "score_weights = np.zeros_like(np.mean(predicates_value, axis=0))\n",
    "\n",
    "for i, v in enumerate(predicates_value):\n",
    "    score_weights += v * weights[i]\n",
    "\n",
    "print('the score of weighted forest is: {}'.format(r2_score(y_test, score_weights)))"
   ]
  },
  {
   "cell_type": "markdown",
   "metadata": {},
   "source": [
    "![欢迎订阅：坍缩的奇点](../assets/Capture-2023-11-02-164446.png)"
   ]
  },
  {
   "cell_type": "code",
   "execution_count": null,
   "metadata": {},
   "outputs": [],
   "source": []
  }
 ],
 "metadata": {
  "kernelspec": {
   "display_name": "tf",
   "language": "python",
   "name": "python3"
  },
  "language_info": {
   "codemirror_mode": {
    "name": "ipython",
    "version": 3
   },
   "file_extension": ".py",
   "mimetype": "text/x-python",
   "name": "python",
   "nbconvert_exporter": "python",
   "pygments_lexer": "ipython3",
   "version": "3.8.16"
  }
 },
 "nbformat": 4,
 "nbformat_minor": 2
}
