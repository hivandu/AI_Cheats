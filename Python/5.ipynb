{
 "cells": [
  {
   "cell_type": "markdown",
   "metadata": {},
   "source": [
    "# 模块化编程"
   ]
  },
  {
   "cell_type": "markdown",
   "metadata": {},
   "source": [
    "## 函数"
   ]
  },
  {
   "cell_type": "code",
   "execution_count": 100,
   "metadata": {},
   "outputs": [
    {
     "ename": "SyntaxError",
     "evalue": "invalid syntax (2094696406.py, line 5)",
     "output_type": "error",
     "traceback": [
      "\u001b[0;36m  Cell \u001b[0;32mIn[100], line 5\u001b[0;36m\u001b[0m\n\u001b[0;31m    def 函数名([参数列表]):\u001b[0m\n\u001b[0m            ^\u001b[0m\n\u001b[0;31mSyntaxError\u001b[0m\u001b[0;31m:\u001b[0m invalid syntax\n"
     ]
    }
   ],
   "source": [
    "# 定义函数[基本结构]\n",
    "def 函数名([参数列表]):\n",
    "    当前行数的具体功能的代码\n",
    "    当前行数的具体功能的代码\n",
    "    ..."
   ]
  },
  {
   "cell_type": "code",
   "execution_count": 102,
   "metadata": {},
   "outputs": [
    {
     "name": "stdout",
     "output_type": "stream",
     "text": [
      "u\n",
      "don't\n",
      "love\n",
      "me\n"
     ]
    }
   ],
   "source": [
    "\"\"\"\n",
    "这里是整个文档的说明部分。\n",
    "\"\"\"\n",
    "# 函数的定义格式\n",
    "def love():\n",
    "    print('i')\n",
    "    print('love')\n",
    "    print('u')\n",
    "\n",
    "def love():\n",
    "    print('u')\n",
    "    print(\"don't\")\n",
    "    print('love')\n",
    "    print('me')\n",
    "\n",
    "# 函数的调用\n",
    "love()"
   ]
  },
  {
   "cell_type": "code",
   "execution_count": 6,
   "metadata": {},
   "outputs": [
    {
     "name": "stdout",
     "output_type": "stream",
     "text": [
      "i love 马户\n"
     ]
    },
    {
     "ename": "TypeError",
     "evalue": "love() missing 1 required positional argument: 'w'",
     "output_type": "error",
     "traceback": [
      "\u001b[0;31m---------------------------------------------------------------------------\u001b[0m",
      "\u001b[0;31mTypeError\u001b[0m                                 Traceback (most recent call last)",
      "Cell \u001b[0;32mIn[6], line 6\u001b[0m\n\u001b[1;32m      4\u001b[0m \u001b[39m# 调用带有行参的函数时，需要传递参数（实参）\u001b[39;00m\n\u001b[1;32m      5\u001b[0m love(\u001b[39m'\u001b[39m\u001b[39m马户\u001b[39m\u001b[39m'\u001b[39m)\n\u001b[0;32m----> 6\u001b[0m love()\n",
      "\u001b[0;31mTypeError\u001b[0m: love() missing 1 required positional argument: 'w'"
     ]
    }
   ],
   "source": [
    "def love(w):\n",
    "    print(f'i love {w}')\n",
    "\n",
    "# 调用带有行参的函数时，需要传递参数（实参）\n",
    "love('马户')\n",
    "love()"
   ]
  },
  {
   "cell_type": "code",
   "execution_count": 8,
   "metadata": {},
   "outputs": [
    {
     "name": "stdout",
     "output_type": "stream",
     "text": [
      "i love u\n"
     ]
    }
   ],
   "source": [
    "def love(m, n):\n",
    "    print(f'{m} love {n}')\n",
    "\n",
    "love('i', 'u')"
   ]
  },
  {
   "cell_type": "code",
   "execution_count": 10,
   "metadata": {},
   "outputs": [
    {
     "name": "stdout",
     "output_type": "stream",
     "text": [
      "2 100\n"
     ]
    }
   ],
   "source": [
    "def func(x, y=20):\n",
    "    print(x, y)\n",
    "\n",
    "func(2, 100)"
   ]
  },
  {
   "cell_type": "code",
   "execution_count": 26,
   "metadata": {},
   "outputs": [
    {
     "ename": "SyntaxError",
     "evalue": "non-default argument follows default argument (2913997035.py, line 11)",
     "output_type": "error",
     "traceback": [
      "\u001b[0;36m  Cell \u001b[0;32mIn[26], line 11\u001b[0;36m\u001b[0m\n\u001b[0;31m    def func(x, y=100, z):\u001b[0m\n\u001b[0m                       ^\u001b[0m\n\u001b[0;31mSyntaxError\u001b[0m\u001b[0;31m:\u001b[0m non-default argument follows default argument\n"
     ]
    }
   ],
   "source": [
    "def func(x=100, y=200, z):\n",
    "    print(x, y, z)\n",
    "\n",
    "func(100,200,300)\n",
    "\n",
    "def func(x=100, y, z=200):\n",
    "    print(x, y, z)\n",
    "\n",
    "func(100, 200, 300)\n",
    "\n",
    "def func(x, y=100, z):\n",
    "    print(x, y, z)\n",
    "\n",
    "func(300,200,50)"
   ]
  },
  {
   "cell_type": "code",
   "execution_count": 28,
   "metadata": {},
   "outputs": [
    {
     "name": "stdout",
     "output_type": "stream",
     "text": [
      "减法运算 (2, 3, 4, 5, 6, 7, 8)\n"
     ]
    }
   ],
   "source": [
    "def func(x=\"+\", *args):\n",
    "    if x == '+':\n",
    "        print('加法运算', args)\n",
    "    else:\n",
    "        print('减法运算', args)\n",
    "\n",
    "func(\"-\", 2, 3, 4, 5, 6, 7, 8)\n"
   ]
  },
  {
   "cell_type": "code",
   "execution_count": 29,
   "metadata": {},
   "outputs": [
    {
     "name": "stdout",
     "output_type": "stream",
     "text": [
      "- (1, 2, 3, 4, 5, 6)\n"
     ]
    }
   ],
   "source": [
    "def func(x=\"+\", *y):\n",
    "    if x == '+':\n",
    "        print('加法运算', y)\n",
    "    else:\n",
    "        print('减法运算', y)\n",
    "\n",
    "func(\"-\", 2, 3, 4, 5, 6, 7, 8)"
   ]
  },
  {
   "cell_type": "code",
   "execution_count": 38,
   "metadata": {},
   "outputs": [
    {
     "name": "stdout",
     "output_type": "stream",
     "text": [
      "1 2 3 \n",
      " 4 5 6 7 8 \n",
      " 茶桁\n"
     ]
    }
   ],
   "source": [
    "def func(a, b, c=3, *args, name):\n",
    "    print(a, b, c, \"\\n\", *args, \"\\n\", name)\n",
    "\n",
    "func(1, 2, 3, 4, 5, 6, 7, 8, name='茶桁')"
   ]
  },
  {
   "cell_type": "code",
   "execution_count": 41,
   "metadata": {},
   "outputs": [
    {
     "name": "stdout",
     "output_type": "stream",
     "text": [
      "1 2 3 \n",
      " 4 5 6 7 8 茶桁 \n",
      " _茶桁\n"
     ]
    }
   ],
   "source": [
    "def func(a, b, c=3, *args, name='_茶桁'):\n",
    "    print(a, b, c, \"\\n\", *args, \"\\n\", name)\n",
    "\n",
    "func(1, 2, 3, 4, 5, 6, 7, 8, '茶桁')"
   ]
  },
  {
   "cell_type": "code",
   "execution_count": 46,
   "metadata": {},
   "outputs": [
    {
     "name": "stdout",
     "output_type": "stream",
     "text": [
      "2 \t 3\n",
      "3 \t 2\n",
      "2 \t 3\n"
     ]
    }
   ],
   "source": [
    "def func(x, y):\n",
    "    print(x, \"\\t\", y)\n",
    "\n",
    "func(2, 3)\n",
    "func(y = 2, x = 3)"
   ]
  },
  {
   "cell_type": "code",
   "execution_count": 48,
   "metadata": {},
   "outputs": [
    {
     "name": "stdout",
     "output_type": "stream",
     "text": [
      "1 2 4\n",
      "(112, 123, 321, 541, 231)\n",
      "茶桁 18\n",
      "{'sex': 'male', 'height': 185, 'x': 'x', 'y': 'y'}\n"
     ]
    }
   ],
   "source": [
    "def func(a, b, c=3, *args, name, age,  **kwargs):\n",
    "    print(a, b, c)\n",
    "    print(args) # 普通收集参数，会把多余的参数收集为元组\n",
    "    print(name, age)\n",
    "    print(kwargs) # 关键字参数收集，会把多余的关键字参数收集为字典\n",
    "\n",
    "func(1, 2, 4, 112, 123, 321, 541, 231, name=\"茶桁\", age=18, sex='male', height=185, x='x', y='y')"
   ]
  },
  {
   "cell_type": "markdown",
   "metadata": {},
   "source": [
    "### 函数的返回值"
   ]
  },
  {
   "cell_type": "code",
   "execution_count": null,
   "metadata": {},
   "outputs": [],
   "source": [
    "# 没有返回值的函数\n",
    "def func(a, b):\n",
    "    print(f'{a} love {b}')"
   ]
  },
  {
   "cell_type": "code",
   "execution_count": 51,
   "metadata": {},
   "outputs": [
    {
     "name": "stdout",
     "output_type": "stream",
     "text": [
      "老鼠 love 布丁\n"
     ]
    }
   ],
   "source": [
    "# 有返回值的函数\n",
    "def func(a, b):\n",
    "    res = f'{a} love {b}'\n",
    "    # 可以在函数体内，使用return返回内容\n",
    "    return res\n",
    "\n",
    "r = func('老鼠', '布丁')\n",
    "print(r)"
   ]
  },
  {
   "cell_type": "code",
   "execution_count": 54,
   "metadata": {},
   "outputs": [
    {
     "name": "stdout",
     "output_type": "stream",
     "text": [
      "这是return前\n",
      "老鼠 love 布丁\n"
     ]
    }
   ],
   "source": [
    "def func(a, b):\n",
    "    res = f'{a} love {b}'\n",
    "    print('这是return前')\n",
    "    return res\n",
    "    print('这是return后')\n",
    "\n",
    "r = func('老鼠','布丁')\n",
    "print(r)"
   ]
  },
  {
   "cell_type": "code",
   "execution_count": 56,
   "metadata": {},
   "outputs": [
    {
     "name": "stdout",
     "output_type": "stream",
     "text": [
      "3\n"
     ]
    }
   ],
   "source": [
    "def func(x, y):\n",
    "    res = x + y\n",
    "    return res\n",
    "\n",
    "r = func(1, 2)\n",
    "print(r)"
   ]
  },
  {
   "cell_type": "markdown",
   "metadata": {},
   "source": [
    "### 变量的作用域"
   ]
  },
  {
   "cell_type": "code",
   "execution_count": 60,
   "metadata": {},
   "outputs": [
    {
     "name": "stdout",
     "output_type": "stream",
     "text": [
      "10\n"
     ]
    }
   ],
   "source": [
    "num = 10\n",
    "def func():\n",
    "    # num += 20 # 函数内不能直接更改函数外的变量\n",
    "    print(num)\n",
    "\n",
    "func()"
   ]
  },
  {
   "cell_type": "code",
   "execution_count": 61,
   "metadata": {},
   "outputs": [
    {
     "name": "stdout",
     "output_type": "stream",
     "text": [
      "[20, 2, 3, 4, 5]\n"
     ]
    }
   ],
   "source": [
    "items = [1, 2, 3, 4, 5]\n",
    "def func():\n",
    "    items[0] = 20\n",
    "    print(items)\n",
    "\n",
    "func()"
   ]
  },
  {
   "cell_type": "code",
   "execution_count": 62,
   "metadata": {},
   "outputs": [
    {
     "name": "stdout",
     "output_type": "stream",
     "text": [
      "{'a': 'aa', 'b': 'b'}\n"
     ]
    }
   ],
   "source": [
    "dicts = {'a':'a', 'b':'b'}\n",
    "def func():\n",
    "    dicts['a'] = 'aa'\n",
    "    print(dicts)\n",
    "\n",
    "func()"
   ]
  },
  {
   "cell_type": "code",
   "execution_count": 82,
   "metadata": {},
   "outputs": [
    {
     "name": "stdout",
     "output_type": "stream",
     "text": [
      "30\n",
      "{'__name__': '__main__', '__doc__': 'Automatically created module for IPython interactive environment', '__package__': None, '__loader__': None, '__spec__': None, '__builtin__': <module 'builtins' (built-in)>, '__builtins__': <module 'builtins' (built-in)>, '_ih': ['', \"# 函数的调用\\nlove()\\n# 函数的定义格式\\ndef love():\\n    print('i')\\n    print('love')\\n    print('u')\", \"# 函数的定义格式\\ndef love():\\n    print('i')\\n    print('love')\\n    print('u')\\n\\n# 函数的调用\\nlove()\", '# 函数的定义格式\\ndef love():\\n    print(\\'i\\')\\n    print(\\'love\\')\\n    print(\\'u\\')\\n\\ndef love():\\n    print(\\'u\\')\\n    print(\"don\\'t\")\\n    print(\\'love\\')\\n    print(\\'me\\')\\n\\n# 函数的调用\\nlove()', \"def love(w):\\n    print(f'i love you {w}')\", \"def love(w):\\n    print(f'i love {w}')\\n\\n# 调用带有行参的函数时，需要传递参数（实参）\\nlove('马户')\", \"def love(w):\\n    print(f'i love {w}')\\n\\n# 调用带有行参的函数时，需要传递参数（实参）\\nlove('马户')\\nlove()\", \"def love(m, n):\\n    print(f'{m} love {n}')\", \"def love(m, n):\\n    print(f'{m} love {n}')\\n\\nlove('i', 'u')\", 'def func(x, y=20):\\n    print(x, y)\\n\\nfunc(2)', 'def func(x, y=20):\\n    print(x, y)\\n\\nfunc(2, 100)', 'def func(x=100, y=200, z):\\n    print(x, y, z)\\n\\nfunc(300)', 'def func(x=100, y=200, z):\\n    print(x, y, z)\\n\\nfunc(100， 200， 300)', 'def func(x=100, y=200, z):\\n    print(x, y, z)\\n\\nfunc(100,200,300)', 'def func(x, y=200, z):\\n    print(x, y, z)\\n\\nfunc(100,200,300)', 'def func(x=100, y=200, z):\\n    print(x, y, z)\\n\\nfunc(100,200,300)', 'def func(x=100, y=200, z):\\n    print(x, y, z)\\n\\nfunc(100,200,300)\\n\\ndef func(x=100, y, z):\\n    print(x, y, z)\\n\\nfunc(100, 200, 300)', '# def func(x=100, y=200, z):\\n#     print(x, y, z)\\n\\n# func(100,200,300)\\n\\ndef func(x=100, y, z):\\n    print(x, y, z)\\n\\nfunc(100, 200, 300)', '# def func(x=100, y=200, z):\\n#     print(x, y, z)\\n\\n# func(100,200,300)\\n\\n# def func(x=100, y, z):\\n#     print(x, y, z)\\n\\n# func(100, 200, 300)\\n\\ndef func(x, y, z=100):\\n    print(x, y, z)\\n\\nfunc(100, 200, 300)', '# def func(x=100, y=200, z):\\n#     print(x, y, z)\\n\\n# func(100,200,300)\\n\\n# def func(x=100, y, z):\\n#     print(x, y, z)\\n\\n# func(100, 200, 300)\\n\\ndef func(x, y=100, z=100):\\n    print(x, y, z)\\n\\nfunc(100, 200, 300)', '# def func(x=100, y=200, z):\\n#     print(x, y, z)\\n\\n# func(100,200,300)\\n\\n# def func(x=100, y, z):\\n#     print(x, y, z)\\n\\n# func(100, 200, 300)\\n\\ndef func(x, y=100, z=100):\\n    print(x, y, z)\\n\\nfunc(300)', '# def func(x=100, y=200, z):\\n#     print(x, y, z)\\n\\n# func(100,200,300)\\n\\n# def func(x=100, y, z):\\n#     print(x, y, z)\\n\\n# func(100, 200, 300)\\n\\ndef func(x, y=100, z=100):\\n    print(x, y, z)\\n\\nfunc(300,200)', '# def func(x=100, y=200, z):\\n#     print(x, y, z)\\n\\n# func(100,200,300)\\n\\n# def func(x=100, y, z):\\n#     print(x, y, z)\\n\\n# func(100, 200, 300)\\n\\ndef func(x, y=100, z=100):\\n    print(x, y, z)\\n\\nfunc(300,200,100)', '# def func(x=100, y=200, z):\\n#     print(x, y, z)\\n\\n# func(100,200,300)\\n\\n# def func(x=100, y, z):\\n#     print(x, y, z)\\n\\n# func(100, 200, 300)\\n\\ndef func(x, y=100, z=100):\\n    print(x, y, z)\\n\\nfunc(300,200,50)', '# def func(x=100, y=200, z):\\n#     print(x, y, z)\\n\\n# func(100,200,300)\\n\\n# def func(x=100, y, z):\\n#     print(x, y, z)\\n\\n# func(100, 200, 300)\\n\\ndef func(x=50, y=100, z=100):\\n    print(x, y, z)\\n\\nfunc(300,200,50)', '# def func(x=100, y=200, z):\\n#     print(x, y, z)\\n\\n# func(100,200,300)\\n\\n# def func(x=100, y, z):\\n#     print(x, y, z)\\n\\n# func(100, 200, 300)\\n\\ndef func(x, y=100, z):\\n    print(x, y, z)\\n\\nfunc(300,200,50)', '# def func(x=100, y=200, z):\\n#     print(x, y, z)\\n\\n# func(100,200,300)\\n\\n# def func(x=100, y, z=200):\\n#     print(x, y, z)\\n\\n# func(100, 200, 300)\\n\\ndef func(x, y=100, z):\\n    print(x, y, z)\\n\\nfunc(300,200,50)', \"def func(x=0, *args):\\n    if x == 0:\\n        print('加法运算', args)\\n    else:\\n        print('减法运算', args)\\n\\nfunc(2,3,4)\", 'def func(x=\"+\", *args):\\n    if x == \\'+\\':\\n        print(\\'加法运算\\', args)\\n    else:\\n        print(\\'减法运算\\', args)\\n\\nfunc(\"-\", 2, 3, 4, 5, 6, 7, 8)', 'def func(x=\"+\", *y):\\n    if x == \\'+\\':\\n        print(y)\\n    else:\\n        print(\"-\", y)\\nfunc(\"-\", 1, 2, 3, 4, 5, 6)', 'def func(a, b, c=3, *args, name):\\n    print(a, b, c=3, *args, name)\\n\\nfunc(1, 2, 3, 4, 5, 6, 7, 8, name=20)', 'def func(a, b, c=3, *args, name):\\n    print(a, b, c=3, *args)\\n    print(name)\\n\\nfunc(1, 2, 3, 4, 5, 6, 7, 8, name=20)', 'def func(a, b, c=3, *args, name):\\n    print(a, b, c, *args)\\n    print(name)\\n\\nfunc(1, 2, 3, 4, 5, 6, 7, 8, name=20)', 'def func(a, b, c=3, *args, name):\\n    print(a, b, c, *args, name)\\n    print(name)\\n\\nfunc(1, 2, 3, 4, 5, 6, 7, 8, name=20)', 'def func(a, b, c=3, *args, name):\\n    print(a, b, c, *args, name)\\n\\nfunc(1, 2, 3, 4, 5, 6, 7, 8, name=20)', \"def func(a, b, c=3, *args, name):\\n    print(a, b, c, *args, name)\\n\\nfunc(1, 2, 3, 4, 5, 6, 7, 8, name='擦痕')\", \"def func(a, b, c=3, *args, name):\\n    print(a, b, c, *args, name)\\n\\nfunc(1, 2, 3, 4, 5, 6, 7, 8, name='茶桁')\", 'def func(a, b, c=3, *args, name):\\n    print(a, b, c, \"\\\\n\", *args, name)\\n\\nfunc(1, 2, 3, 4, 5, 6, 7, 8, name=\\'茶桁\\')', 'def func(a, b, c=3, *args, name):\\n    print(a, b, c, \"\\\\n\", *args, \"\\\\n\", name)\\n\\nfunc(1, 2, 3, 4, 5, 6, 7, 8, name=\\'茶桁\\')', 'def func(a, b, c=3, *args, name):\\n    print(a, b, c, \"\\\\n\", *args, \"\\\\n\", name)\\n\\nfunc(1, 2, 3, 4, 5, 6, 7, 8, \\'茶桁\\')', 'def func(a, b, c=3, *args, name=\\'茶桁\\'):\\n    print(a, b, c, \"\\\\n\", *args, \"\\\\n\", name)\\n\\nfunc(1, 2, 3, 4, 5, 6, 7, 8, \\'茶桁\\')', 'def func(a, b, c=3, *args, name=\\'_茶桁\\'):\\n    print(a, b, c, \"\\\\n\", *args, \"\\\\n\", name)\\n\\nfunc(1, 2, 3, 4, 5, 6, 7, 8, \\'茶桁\\')', 'def func(x, y):\\n    print(x, \"\\\\t\", y)\\n\\nfunc(2, 3)', 'def func(x, y):\\n    print(x, \"\\\\t\", y)\\n\\nfunc(2, 3)\\nfunc(x = 3, y = 2)', 'def func(x, y):\\n    print(x, \"\\\\t\", y)\\n\\nfunc(2, 3)\\nfunc(y = 2, x = 3)', 'def func(x, y):\\n    print(x, \"\\\\t\", y)\\n\\nfunc(2, 3)\\nfunc(y = 2, x = 3)\\nfunc(2, x = 3)', 'def func(x, y):\\n    print(x, \"\\\\t\", y)\\n\\nfunc(2, 3)\\nfunc(y = 2, x = 3)\\nfunc(2, y = 3)', 'def func(a, b, c=3, *args, name, age,  **kwargs):\\n    print(a, b, c)\\n    print(args) # 普通收集参数，会把多余的参数收集为元组\\n    print(kwargs) # 关键字参数收集，会把多余的关键字参数收集为字典\\n\\nfunc(1, 2, 4, 112, 123, 321, 541, 231, name=\"茶桁\", age=18, sex=\\'male\\', height=185, x=\\'x\\', y=\\'y\\')', 'def func(a, b, c=3, *args, name, age,  **kwargs):\\n    print(a, b, c)\\n    print(args) # 普通收集参数，会把多余的参数收集为元组\\n    print(name, age)\\n    print(kwargs) # 关键字参数收集，会把多余的关键字参数收集为字典\\n\\nfunc(1, 2, 4, 112, 123, 321, 541, 231, name=\"茶桁\", age=18, sex=\\'male\\', height=185, x=\\'x\\', y=\\'y\\')', \"# 有返回值的函数\\ndef func(a, b):\\n    res = f'{a} love {b}'\\n    # 可以在函数体内，使用return返回内容\\n    return res\\n\\nr = func('老鼠', '布丁')\", \"# 有返回值的函数\\ndef func(a, b):\\n    res = f'{a} love {b}'\\n    # 可以在函数体内，使用return返回内容\\n    return res\\n\\nr = func('老鼠', '布丁')\\nr\", \"# 有返回值的函数\\ndef func(a, b):\\n    res = f'{a} love {b}'\\n    # 可以在函数体内，使用return返回内容\\n    return res\\n\\nr = func('老鼠', '布丁')\\nprint(r)\", \"def func(a, b):\\n    res = f'{a} love {b}'\\n    print('这是return前')\\n    return res\\n    print('这是return后')\", \"def func(a, b):\\n    res = f'{a} love {b}'\\n    print('这是return前')\\n    return res\\n    print('这是return后')\", \"def func(a, b):\\n    res = f'{a} love {b}'\\n    print('这是return前')\\n    return res\\n    print('这是return后')\\n\\nr = func('老鼠','布丁')\\nprint(r)\", 'def func(x, y):\\n    res = x + y\\n    return res\\n\\nfunc(1, 2)', 'def func(x, y):\\n    res = x + y\\n    return res\\n\\nr = func(1, 2)\\nprint(r)', 'num = 10\\ndef func():\\n    print(num)\\n\\nfunc()', 'num = 10\\ndef func():\\n    num += 20\\n    print(num)\\n\\nfunc()', 'num = 10\\ndef func():\\n    # num += 20 # 函数内不能直接更改函数外的变量\\n    print(num)\\n\\n    a = 20\\n\\nfunc()\\nprint(a)', 'num = 10\\ndef func():\\n    # num += 20 # 函数内不能直接更改函数外的变量\\n    print(num)\\n\\nfunc()', 'items = [1, 2, 3, 4, 5]\\ndef func():\\n    items[0] = 20\\n    print(items)\\n\\nfunc()', \"dicts = {'a':'a', 'b':'b'}\\ndef func():\\n    dicts['a'] = 'aa'\\n    print(dicts)\\n\\nfunc()\", 'global num = 10\\ndef func():\\n    num += 20\\n    print(num)', 'num = 10\\ndef func():\\n    global num += 20\\n    print(num)', 'global num\\ndef func():\\n    num = 20\\n    print(num)\\n\\nfunc()', 'global num\\ndef func():\\n    num = 20\\n    num += 10\\n    print(num)\\n\\nfunc()', 'global num\\nnum = 20\\ndef func():\\n    num += 10\\n    print(num)\\n\\nfunc()', 'num = 20\\ndef func():\\n    global num\\n    num += 10\\n    print(num)\\n\\nfunc()', 'global num\\nnum = 20\\ndef func():\\n    num += 10\\n    print(num)\\n\\nfunc()', 'num = 20\\ndef func():\\n    global num\\n    num += 10\\n    print(num)\\n\\nfunc()', 'globals()', 'globals()\\nlocals()', '# globals()\\nlocals()', 'globals()\\n# locals()', 'num = 20\\ndef func():\\n    global num\\n    num += 10\\n    print(num)\\n    locals()\\n\\nfunc()', 'globals()', 'num = 20\\ndef func():\\n    global num\\n    num += 10\\n    print(num)\\n    locals()\\n\\nfunc()', 'num = 20\\ndef func():\\n    global num\\n    num += 10\\n    print(num)\\n\\nfunc()\\nglobals()\\nlocals()', 'num = 20\\ndef func():\\n    global num\\n    num += 10\\n    print(num)\\n\\nfunc()', 'num = 20\\ndef func():\\n    global num\\n    num += 10\\n    print(num)\\n    globals()\\n    locals()\\n\\nfunc()', 'num = 20\\ndef func():\\n    global num\\n    num += 10\\n    print(num)\\n\\nfunc()\\nprint(globals())\\nprint(locals())', 'num = 20\\ndef func():\\n    global num\\n    num += 10\\n    print(num)\\n    print(globals())\\n    print(locals())\\nfunc()\\n# print(globals())\\n# print(locals())'], '_oh': {50: '老鼠 love 布丁', 55: 3, 71: {...}, 72: {...}, 73: {...}, 74: {...}, 76: {...}, 78: {...}}, '_dh': [PosixPath('/Users/du/git/AI_Cheats/Python'), PosixPath('/Users/du/git/AI_Cheats/Python')], 'In': ['', \"# 函数的调用\\nlove()\\n# 函数的定义格式\\ndef love():\\n    print('i')\\n    print('love')\\n    print('u')\", \"# 函数的定义格式\\ndef love():\\n    print('i')\\n    print('love')\\n    print('u')\\n\\n# 函数的调用\\nlove()\", '# 函数的定义格式\\ndef love():\\n    print(\\'i\\')\\n    print(\\'love\\')\\n    print(\\'u\\')\\n\\ndef love():\\n    print(\\'u\\')\\n    print(\"don\\'t\")\\n    print(\\'love\\')\\n    print(\\'me\\')\\n\\n# 函数的调用\\nlove()', \"def love(w):\\n    print(f'i love you {w}')\", \"def love(w):\\n    print(f'i love {w}')\\n\\n# 调用带有行参的函数时，需要传递参数（实参）\\nlove('马户')\", \"def love(w):\\n    print(f'i love {w}')\\n\\n# 调用带有行参的函数时，需要传递参数（实参）\\nlove('马户')\\nlove()\", \"def love(m, n):\\n    print(f'{m} love {n}')\", \"def love(m, n):\\n    print(f'{m} love {n}')\\n\\nlove('i', 'u')\", 'def func(x, y=20):\\n    print(x, y)\\n\\nfunc(2)', 'def func(x, y=20):\\n    print(x, y)\\n\\nfunc(2, 100)', 'def func(x=100, y=200, z):\\n    print(x, y, z)\\n\\nfunc(300)', 'def func(x=100, y=200, z):\\n    print(x, y, z)\\n\\nfunc(100， 200， 300)', 'def func(x=100, y=200, z):\\n    print(x, y, z)\\n\\nfunc(100,200,300)', 'def func(x, y=200, z):\\n    print(x, y, z)\\n\\nfunc(100,200,300)', 'def func(x=100, y=200, z):\\n    print(x, y, z)\\n\\nfunc(100,200,300)', 'def func(x=100, y=200, z):\\n    print(x, y, z)\\n\\nfunc(100,200,300)\\n\\ndef func(x=100, y, z):\\n    print(x, y, z)\\n\\nfunc(100, 200, 300)', '# def func(x=100, y=200, z):\\n#     print(x, y, z)\\n\\n# func(100,200,300)\\n\\ndef func(x=100, y, z):\\n    print(x, y, z)\\n\\nfunc(100, 200, 300)', '# def func(x=100, y=200, z):\\n#     print(x, y, z)\\n\\n# func(100,200,300)\\n\\n# def func(x=100, y, z):\\n#     print(x, y, z)\\n\\n# func(100, 200, 300)\\n\\ndef func(x, y, z=100):\\n    print(x, y, z)\\n\\nfunc(100, 200, 300)', '# def func(x=100, y=200, z):\\n#     print(x, y, z)\\n\\n# func(100,200,300)\\n\\n# def func(x=100, y, z):\\n#     print(x, y, z)\\n\\n# func(100, 200, 300)\\n\\ndef func(x, y=100, z=100):\\n    print(x, y, z)\\n\\nfunc(100, 200, 300)', '# def func(x=100, y=200, z):\\n#     print(x, y, z)\\n\\n# func(100,200,300)\\n\\n# def func(x=100, y, z):\\n#     print(x, y, z)\\n\\n# func(100, 200, 300)\\n\\ndef func(x, y=100, z=100):\\n    print(x, y, z)\\n\\nfunc(300)', '# def func(x=100, y=200, z):\\n#     print(x, y, z)\\n\\n# func(100,200,300)\\n\\n# def func(x=100, y, z):\\n#     print(x, y, z)\\n\\n# func(100, 200, 300)\\n\\ndef func(x, y=100, z=100):\\n    print(x, y, z)\\n\\nfunc(300,200)', '# def func(x=100, y=200, z):\\n#     print(x, y, z)\\n\\n# func(100,200,300)\\n\\n# def func(x=100, y, z):\\n#     print(x, y, z)\\n\\n# func(100, 200, 300)\\n\\ndef func(x, y=100, z=100):\\n    print(x, y, z)\\n\\nfunc(300,200,100)', '# def func(x=100, y=200, z):\\n#     print(x, y, z)\\n\\n# func(100,200,300)\\n\\n# def func(x=100, y, z):\\n#     print(x, y, z)\\n\\n# func(100, 200, 300)\\n\\ndef func(x, y=100, z=100):\\n    print(x, y, z)\\n\\nfunc(300,200,50)', '# def func(x=100, y=200, z):\\n#     print(x, y, z)\\n\\n# func(100,200,300)\\n\\n# def func(x=100, y, z):\\n#     print(x, y, z)\\n\\n# func(100, 200, 300)\\n\\ndef func(x=50, y=100, z=100):\\n    print(x, y, z)\\n\\nfunc(300,200,50)', '# def func(x=100, y=200, z):\\n#     print(x, y, z)\\n\\n# func(100,200,300)\\n\\n# def func(x=100, y, z):\\n#     print(x, y, z)\\n\\n# func(100, 200, 300)\\n\\ndef func(x, y=100, z):\\n    print(x, y, z)\\n\\nfunc(300,200,50)', '# def func(x=100, y=200, z):\\n#     print(x, y, z)\\n\\n# func(100,200,300)\\n\\n# def func(x=100, y, z=200):\\n#     print(x, y, z)\\n\\n# func(100, 200, 300)\\n\\ndef func(x, y=100, z):\\n    print(x, y, z)\\n\\nfunc(300,200,50)', \"def func(x=0, *args):\\n    if x == 0:\\n        print('加法运算', args)\\n    else:\\n        print('减法运算', args)\\n\\nfunc(2,3,4)\", 'def func(x=\"+\", *args):\\n    if x == \\'+\\':\\n        print(\\'加法运算\\', args)\\n    else:\\n        print(\\'减法运算\\', args)\\n\\nfunc(\"-\", 2, 3, 4, 5, 6, 7, 8)', 'def func(x=\"+\", *y):\\n    if x == \\'+\\':\\n        print(y)\\n    else:\\n        print(\"-\", y)\\nfunc(\"-\", 1, 2, 3, 4, 5, 6)', 'def func(a, b, c=3, *args, name):\\n    print(a, b, c=3, *args, name)\\n\\nfunc(1, 2, 3, 4, 5, 6, 7, 8, name=20)', 'def func(a, b, c=3, *args, name):\\n    print(a, b, c=3, *args)\\n    print(name)\\n\\nfunc(1, 2, 3, 4, 5, 6, 7, 8, name=20)', 'def func(a, b, c=3, *args, name):\\n    print(a, b, c, *args)\\n    print(name)\\n\\nfunc(1, 2, 3, 4, 5, 6, 7, 8, name=20)', 'def func(a, b, c=3, *args, name):\\n    print(a, b, c, *args, name)\\n    print(name)\\n\\nfunc(1, 2, 3, 4, 5, 6, 7, 8, name=20)', 'def func(a, b, c=3, *args, name):\\n    print(a, b, c, *args, name)\\n\\nfunc(1, 2, 3, 4, 5, 6, 7, 8, name=20)', \"def func(a, b, c=3, *args, name):\\n    print(a, b, c, *args, name)\\n\\nfunc(1, 2, 3, 4, 5, 6, 7, 8, name='擦痕')\", \"def func(a, b, c=3, *args, name):\\n    print(a, b, c, *args, name)\\n\\nfunc(1, 2, 3, 4, 5, 6, 7, 8, name='茶桁')\", 'def func(a, b, c=3, *args, name):\\n    print(a, b, c, \"\\\\n\", *args, name)\\n\\nfunc(1, 2, 3, 4, 5, 6, 7, 8, name=\\'茶桁\\')', 'def func(a, b, c=3, *args, name):\\n    print(a, b, c, \"\\\\n\", *args, \"\\\\n\", name)\\n\\nfunc(1, 2, 3, 4, 5, 6, 7, 8, name=\\'茶桁\\')', 'def func(a, b, c=3, *args, name):\\n    print(a, b, c, \"\\\\n\", *args, \"\\\\n\", name)\\n\\nfunc(1, 2, 3, 4, 5, 6, 7, 8, \\'茶桁\\')', 'def func(a, b, c=3, *args, name=\\'茶桁\\'):\\n    print(a, b, c, \"\\\\n\", *args, \"\\\\n\", name)\\n\\nfunc(1, 2, 3, 4, 5, 6, 7, 8, \\'茶桁\\')', 'def func(a, b, c=3, *args, name=\\'_茶桁\\'):\\n    print(a, b, c, \"\\\\n\", *args, \"\\\\n\", name)\\n\\nfunc(1, 2, 3, 4, 5, 6, 7, 8, \\'茶桁\\')', 'def func(x, y):\\n    print(x, \"\\\\t\", y)\\n\\nfunc(2, 3)', 'def func(x, y):\\n    print(x, \"\\\\t\", y)\\n\\nfunc(2, 3)\\nfunc(x = 3, y = 2)', 'def func(x, y):\\n    print(x, \"\\\\t\", y)\\n\\nfunc(2, 3)\\nfunc(y = 2, x = 3)', 'def func(x, y):\\n    print(x, \"\\\\t\", y)\\n\\nfunc(2, 3)\\nfunc(y = 2, x = 3)\\nfunc(2, x = 3)', 'def func(x, y):\\n    print(x, \"\\\\t\", y)\\n\\nfunc(2, 3)\\nfunc(y = 2, x = 3)\\nfunc(2, y = 3)', 'def func(a, b, c=3, *args, name, age,  **kwargs):\\n    print(a, b, c)\\n    print(args) # 普通收集参数，会把多余的参数收集为元组\\n    print(kwargs) # 关键字参数收集，会把多余的关键字参数收集为字典\\n\\nfunc(1, 2, 4, 112, 123, 321, 541, 231, name=\"茶桁\", age=18, sex=\\'male\\', height=185, x=\\'x\\', y=\\'y\\')', 'def func(a, b, c=3, *args, name, age,  **kwargs):\\n    print(a, b, c)\\n    print(args) # 普通收集参数，会把多余的参数收集为元组\\n    print(name, age)\\n    print(kwargs) # 关键字参数收集，会把多余的关键字参数收集为字典\\n\\nfunc(1, 2, 4, 112, 123, 321, 541, 231, name=\"茶桁\", age=18, sex=\\'male\\', height=185, x=\\'x\\', y=\\'y\\')', \"# 有返回值的函数\\ndef func(a, b):\\n    res = f'{a} love {b}'\\n    # 可以在函数体内，使用return返回内容\\n    return res\\n\\nr = func('老鼠', '布丁')\", \"# 有返回值的函数\\ndef func(a, b):\\n    res = f'{a} love {b}'\\n    # 可以在函数体内，使用return返回内容\\n    return res\\n\\nr = func('老鼠', '布丁')\\nr\", \"# 有返回值的函数\\ndef func(a, b):\\n    res = f'{a} love {b}'\\n    # 可以在函数体内，使用return返回内容\\n    return res\\n\\nr = func('老鼠', '布丁')\\nprint(r)\", \"def func(a, b):\\n    res = f'{a} love {b}'\\n    print('这是return前')\\n    return res\\n    print('这是return后')\", \"def func(a, b):\\n    res = f'{a} love {b}'\\n    print('这是return前')\\n    return res\\n    print('这是return后')\", \"def func(a, b):\\n    res = f'{a} love {b}'\\n    print('这是return前')\\n    return res\\n    print('这是return后')\\n\\nr = func('老鼠','布丁')\\nprint(r)\", 'def func(x, y):\\n    res = x + y\\n    return res\\n\\nfunc(1, 2)', 'def func(x, y):\\n    res = x + y\\n    return res\\n\\nr = func(1, 2)\\nprint(r)', 'num = 10\\ndef func():\\n    print(num)\\n\\nfunc()', 'num = 10\\ndef func():\\n    num += 20\\n    print(num)\\n\\nfunc()', 'num = 10\\ndef func():\\n    # num += 20 # 函数内不能直接更改函数外的变量\\n    print(num)\\n\\n    a = 20\\n\\nfunc()\\nprint(a)', 'num = 10\\ndef func():\\n    # num += 20 # 函数内不能直接更改函数外的变量\\n    print(num)\\n\\nfunc()', 'items = [1, 2, 3, 4, 5]\\ndef func():\\n    items[0] = 20\\n    print(items)\\n\\nfunc()', \"dicts = {'a':'a', 'b':'b'}\\ndef func():\\n    dicts['a'] = 'aa'\\n    print(dicts)\\n\\nfunc()\", 'global num = 10\\ndef func():\\n    num += 20\\n    print(num)', 'num = 10\\ndef func():\\n    global num += 20\\n    print(num)', 'global num\\ndef func():\\n    num = 20\\n    print(num)\\n\\nfunc()', 'global num\\ndef func():\\n    num = 20\\n    num += 10\\n    print(num)\\n\\nfunc()', 'global num\\nnum = 20\\ndef func():\\n    num += 10\\n    print(num)\\n\\nfunc()', 'num = 20\\ndef func():\\n    global num\\n    num += 10\\n    print(num)\\n\\nfunc()', 'global num\\nnum = 20\\ndef func():\\n    num += 10\\n    print(num)\\n\\nfunc()', 'num = 20\\ndef func():\\n    global num\\n    num += 10\\n    print(num)\\n\\nfunc()', 'globals()', 'globals()\\nlocals()', '# globals()\\nlocals()', 'globals()\\n# locals()', 'num = 20\\ndef func():\\n    global num\\n    num += 10\\n    print(num)\\n    locals()\\n\\nfunc()', 'globals()', 'num = 20\\ndef func():\\n    global num\\n    num += 10\\n    print(num)\\n    locals()\\n\\nfunc()', 'num = 20\\ndef func():\\n    global num\\n    num += 10\\n    print(num)\\n\\nfunc()\\nglobals()\\nlocals()', 'num = 20\\ndef func():\\n    global num\\n    num += 10\\n    print(num)\\n\\nfunc()', 'num = 20\\ndef func():\\n    global num\\n    num += 10\\n    print(num)\\n    globals()\\n    locals()\\n\\nfunc()', 'num = 20\\ndef func():\\n    global num\\n    num += 10\\n    print(num)\\n\\nfunc()\\nprint(globals())\\nprint(locals())', 'num = 20\\ndef func():\\n    global num\\n    num += 10\\n    print(num)\\n    print(globals())\\n    print(locals())\\nfunc()\\n# print(globals())\\n# print(locals())'], 'Out': {50: '老鼠 love 布丁', 55: 3, 71: {...}, 72: {...}, 73: {...}, 74: {...}, 76: {...}, 78: {...}}, 'get_ipython': <bound method InteractiveShell.get_ipython of <ipykernel.zmqshell.ZMQInteractiveShell object at 0x1085e69e0>>, 'exit': <IPython.core.autocall.ZMQExitAutocall object at 0x1085e7280>, 'quit': <IPython.core.autocall.ZMQExitAutocall object at 0x1085e7280>, 'open': <function open at 0x106e66710>, '_': {...}, '__': {...}, '___': {...}, '__vsc_ipynb_file__': '/Users/du/git/AI_Cheats/Python/5.ipynb', '_i': 'num = 20\\ndef func():\\n    global num\\n    num += 10\\n    print(num)\\n\\nfunc()\\nprint(globals())\\nprint(locals())', '_ii': 'num = 20\\ndef func():\\n    global num\\n    num += 10\\n    print(num)\\n    globals()\\n    locals()\\n\\nfunc()', '_iii': 'num = 20\\ndef func():\\n    global num\\n    num += 10\\n    print(num)\\n\\nfunc()', '_i1': \"# 函数的调用\\nlove()\\n# 函数的定义格式\\ndef love():\\n    print('i')\\n    print('love')\\n    print('u')\", '_i2': \"# 函数的定义格式\\ndef love():\\n    print('i')\\n    print('love')\\n    print('u')\\n\\n# 函数的调用\\nlove()\", 'love': <function love at 0x10c8b3910>, '_i3': '# 函数的定义格式\\ndef love():\\n    print(\\'i\\')\\n    print(\\'love\\')\\n    print(\\'u\\')\\n\\ndef love():\\n    print(\\'u\\')\\n    print(\"don\\'t\")\\n    print(\\'love\\')\\n    print(\\'me\\')\\n\\n# 函数的调用\\nlove()', '_i4': \"def love(w):\\n    print(f'i love you {w}')\", '_i5': \"def love(w):\\n    print(f'i love {w}')\\n\\n# 调用带有行参的函数时，需要传递参数（实参）\\nlove('马户')\", '_i6': \"def love(w):\\n    print(f'i love {w}')\\n\\n# 调用带有行参的函数时，需要传递参数（实参）\\nlove('马户')\\nlove()\", '_i7': \"def love(m, n):\\n    print(f'{m} love {n}')\", '_i8': \"def love(m, n):\\n    print(f'{m} love {n}')\\n\\nlove('i', 'u')\", '_i9': 'def func(x, y=20):\\n    print(x, y)\\n\\nfunc(2)', 'func': <function func at 0x10d231990>, '_i10': 'def func(x, y=20):\\n    print(x, y)\\n\\nfunc(2, 100)', '_i11': 'def func(x=100, y=200, z):\\n    print(x, y, z)\\n\\nfunc(300)', '_i12': 'def func(x=100, y=200, z):\\n    print(x, y, z)\\n\\nfunc(100， 200， 300)', '_i13': 'def func(x=100, y=200, z):\\n    print(x, y, z)\\n\\nfunc(100,200,300)', '_i14': 'def func(x, y=200, z):\\n    print(x, y, z)\\n\\nfunc(100,200,300)', '_i15': 'def func(x=100, y=200, z):\\n    print(x, y, z)\\n\\nfunc(100,200,300)', '_i16': 'def func(x=100, y=200, z):\\n    print(x, y, z)\\n\\nfunc(100,200,300)\\n\\ndef func(x=100, y, z):\\n    print(x, y, z)\\n\\nfunc(100, 200, 300)', '_i17': '# def func(x=100, y=200, z):\\n#     print(x, y, z)\\n\\n# func(100,200,300)\\n\\ndef func(x=100, y, z):\\n    print(x, y, z)\\n\\nfunc(100, 200, 300)', '_i18': '# def func(x=100, y=200, z):\\n#     print(x, y, z)\\n\\n# func(100,200,300)\\n\\n# def func(x=100, y, z):\\n#     print(x, y, z)\\n\\n# func(100, 200, 300)\\n\\ndef func(x, y, z=100):\\n    print(x, y, z)\\n\\nfunc(100, 200, 300)', '_i19': '# def func(x=100, y=200, z):\\n#     print(x, y, z)\\n\\n# func(100,200,300)\\n\\n# def func(x=100, y, z):\\n#     print(x, y, z)\\n\\n# func(100, 200, 300)\\n\\ndef func(x, y=100, z=100):\\n    print(x, y, z)\\n\\nfunc(100, 200, 300)', '_i20': '# def func(x=100, y=200, z):\\n#     print(x, y, z)\\n\\n# func(100,200,300)\\n\\n# def func(x=100, y, z):\\n#     print(x, y, z)\\n\\n# func(100, 200, 300)\\n\\ndef func(x, y=100, z=100):\\n    print(x, y, z)\\n\\nfunc(300)', '_i21': '# def func(x=100, y=200, z):\\n#     print(x, y, z)\\n\\n# func(100,200,300)\\n\\n# def func(x=100, y, z):\\n#     print(x, y, z)\\n\\n# func(100, 200, 300)\\n\\ndef func(x, y=100, z=100):\\n    print(x, y, z)\\n\\nfunc(300,200)', '_i22': '# def func(x=100, y=200, z):\\n#     print(x, y, z)\\n\\n# func(100,200,300)\\n\\n# def func(x=100, y, z):\\n#     print(x, y, z)\\n\\n# func(100, 200, 300)\\n\\ndef func(x, y=100, z=100):\\n    print(x, y, z)\\n\\nfunc(300,200,100)', '_i23': '# def func(x=100, y=200, z):\\n#     print(x, y, z)\\n\\n# func(100,200,300)\\n\\n# def func(x=100, y, z):\\n#     print(x, y, z)\\n\\n# func(100, 200, 300)\\n\\ndef func(x, y=100, z=100):\\n    print(x, y, z)\\n\\nfunc(300,200,50)', '_i24': '# def func(x=100, y=200, z):\\n#     print(x, y, z)\\n\\n# func(100,200,300)\\n\\n# def func(x=100, y, z):\\n#     print(x, y, z)\\n\\n# func(100, 200, 300)\\n\\ndef func(x=50, y=100, z=100):\\n    print(x, y, z)\\n\\nfunc(300,200,50)', '_i25': '# def func(x=100, y=200, z):\\n#     print(x, y, z)\\n\\n# func(100,200,300)\\n\\n# def func(x=100, y, z):\\n#     print(x, y, z)\\n\\n# func(100, 200, 300)\\n\\ndef func(x, y=100, z):\\n    print(x, y, z)\\n\\nfunc(300,200,50)', '_i26': '# def func(x=100, y=200, z):\\n#     print(x, y, z)\\n\\n# func(100,200,300)\\n\\n# def func(x=100, y, z=200):\\n#     print(x, y, z)\\n\\n# func(100, 200, 300)\\n\\ndef func(x, y=100, z):\\n    print(x, y, z)\\n\\nfunc(300,200,50)', '_i27': \"def func(x=0, *args):\\n    if x == 0:\\n        print('加法运算', args)\\n    else:\\n        print('减法运算', args)\\n\\nfunc(2,3,4)\", '_i28': 'def func(x=\"+\", *args):\\n    if x == \\'+\\':\\n        print(\\'加法运算\\', args)\\n    else:\\n        print(\\'减法运算\\', args)\\n\\nfunc(\"-\", 2, 3, 4, 5, 6, 7, 8)', '_i29': 'def func(x=\"+\", *y):\\n    if x == \\'+\\':\\n        print(y)\\n    else:\\n        print(\"-\", y)\\nfunc(\"-\", 1, 2, 3, 4, 5, 6)', '_i30': 'def func(a, b, c=3, *args, name):\\n    print(a, b, c=3, *args, name)\\n\\nfunc(1, 2, 3, 4, 5, 6, 7, 8, name=20)', '_i31': 'def func(a, b, c=3, *args, name):\\n    print(a, b, c=3, *args)\\n    print(name)\\n\\nfunc(1, 2, 3, 4, 5, 6, 7, 8, name=20)', '_i32': 'def func(a, b, c=3, *args, name):\\n    print(a, b, c, *args)\\n    print(name)\\n\\nfunc(1, 2, 3, 4, 5, 6, 7, 8, name=20)', '_i33': 'def func(a, b, c=3, *args, name):\\n    print(a, b, c, *args, name)\\n    print(name)\\n\\nfunc(1, 2, 3, 4, 5, 6, 7, 8, name=20)', '_i34': 'def func(a, b, c=3, *args, name):\\n    print(a, b, c, *args, name)\\n\\nfunc(1, 2, 3, 4, 5, 6, 7, 8, name=20)', '_i35': \"def func(a, b, c=3, *args, name):\\n    print(a, b, c, *args, name)\\n\\nfunc(1, 2, 3, 4, 5, 6, 7, 8, name='擦痕')\", '_i36': \"def func(a, b, c=3, *args, name):\\n    print(a, b, c, *args, name)\\n\\nfunc(1, 2, 3, 4, 5, 6, 7, 8, name='茶桁')\", '_i37': 'def func(a, b, c=3, *args, name):\\n    print(a, b, c, \"\\\\n\", *args, name)\\n\\nfunc(1, 2, 3, 4, 5, 6, 7, 8, name=\\'茶桁\\')', '_i38': 'def func(a, b, c=3, *args, name):\\n    print(a, b, c, \"\\\\n\", *args, \"\\\\n\", name)\\n\\nfunc(1, 2, 3, 4, 5, 6, 7, 8, name=\\'茶桁\\')', '_i39': 'def func(a, b, c=3, *args, name):\\n    print(a, b, c, \"\\\\n\", *args, \"\\\\n\", name)\\n\\nfunc(1, 2, 3, 4, 5, 6, 7, 8, \\'茶桁\\')', '_i40': 'def func(a, b, c=3, *args, name=\\'茶桁\\'):\\n    print(a, b, c, \"\\\\n\", *args, \"\\\\n\", name)\\n\\nfunc(1, 2, 3, 4, 5, 6, 7, 8, \\'茶桁\\')', '_i41': 'def func(a, b, c=3, *args, name=\\'_茶桁\\'):\\n    print(a, b, c, \"\\\\n\", *args, \"\\\\n\", name)\\n\\nfunc(1, 2, 3, 4, 5, 6, 7, 8, \\'茶桁\\')', '_i42': 'def func(x, y):\\n    print(x, \"\\\\t\", y)\\n\\nfunc(2, 3)', '_i43': 'def func(x, y):\\n    print(x, \"\\\\t\", y)\\n\\nfunc(2, 3)\\nfunc(x = 3, y = 2)', '_i44': 'def func(x, y):\\n    print(x, \"\\\\t\", y)\\n\\nfunc(2, 3)\\nfunc(y = 2, x = 3)', '_i45': 'def func(x, y):\\n    print(x, \"\\\\t\", y)\\n\\nfunc(2, 3)\\nfunc(y = 2, x = 3)\\nfunc(2, x = 3)', '_i46': 'def func(x, y):\\n    print(x, \"\\\\t\", y)\\n\\nfunc(2, 3)\\nfunc(y = 2, x = 3)\\nfunc(2, y = 3)', '_i47': 'def func(a, b, c=3, *args, name, age,  **kwargs):\\n    print(a, b, c)\\n    print(args) # 普通收集参数，会把多余的参数收集为元组\\n    print(kwargs) # 关键字参数收集，会把多余的关键字参数收集为字典\\n\\nfunc(1, 2, 4, 112, 123, 321, 541, 231, name=\"茶桁\", age=18, sex=\\'male\\', height=185, x=\\'x\\', y=\\'y\\')', '_i48': 'def func(a, b, c=3, *args, name, age,  **kwargs):\\n    print(a, b, c)\\n    print(args) # 普通收集参数，会把多余的参数收集为元组\\n    print(name, age)\\n    print(kwargs) # 关键字参数收集，会把多余的关键字参数收集为字典\\n\\nfunc(1, 2, 4, 112, 123, 321, 541, 231, name=\"茶桁\", age=18, sex=\\'male\\', height=185, x=\\'x\\', y=\\'y\\')', '_i49': \"# 有返回值的函数\\ndef func(a, b):\\n    res = f'{a} love {b}'\\n    # 可以在函数体内，使用return返回内容\\n    return res\\n\\nr = func('老鼠', '布丁')\", 'r': 3, '_i50': \"# 有返回值的函数\\ndef func(a, b):\\n    res = f'{a} love {b}'\\n    # 可以在函数体内，使用return返回内容\\n    return res\\n\\nr = func('老鼠', '布丁')\\nr\", '_50': '老鼠 love 布丁', '_i51': \"# 有返回值的函数\\ndef func(a, b):\\n    res = f'{a} love {b}'\\n    # 可以在函数体内，使用return返回内容\\n    return res\\n\\nr = func('老鼠', '布丁')\\nprint(r)\", '_i52': \"def func(a, b):\\n    res = f'{a} love {b}'\\n    print('这是return前')\\n    return res\\n    print('这是return后')\", '_i53': \"def func(a, b):\\n    res = f'{a} love {b}'\\n    print('这是return前')\\n    return res\\n    print('这是return后')\", '_i54': \"def func(a, b):\\n    res = f'{a} love {b}'\\n    print('这是return前')\\n    return res\\n    print('这是return后')\\n\\nr = func('老鼠','布丁')\\nprint(r)\", '_i55': 'def func(x, y):\\n    res = x + y\\n    return res\\n\\nfunc(1, 2)', '_55': 3, '_i56': 'def func(x, y):\\n    res = x + y\\n    return res\\n\\nr = func(1, 2)\\nprint(r)', '_i57': 'num = 10\\ndef func():\\n    print(num)\\n\\nfunc()', 'num': 30, '_i58': 'num = 10\\ndef func():\\n    num += 20\\n    print(num)\\n\\nfunc()', '_i59': 'num = 10\\ndef func():\\n    # num += 20 # 函数内不能直接更改函数外的变量\\n    print(num)\\n\\n    a = 20\\n\\nfunc()\\nprint(a)', '_i60': 'num = 10\\ndef func():\\n    # num += 20 # 函数内不能直接更改函数外的变量\\n    print(num)\\n\\nfunc()', '_i61': 'items = [1, 2, 3, 4, 5]\\ndef func():\\n    items[0] = 20\\n    print(items)\\n\\nfunc()', 'items': [20, 2, 3, 4, 5], '_i62': \"dicts = {'a':'a', 'b':'b'}\\ndef func():\\n    dicts['a'] = 'aa'\\n    print(dicts)\\n\\nfunc()\", 'dicts': {'a': 'aa', 'b': 'b'}, '_i63': 'global num = 10\\ndef func():\\n    num += 20\\n    print(num)', '_i64': 'num = 10\\ndef func():\\n    global num += 20\\n    print(num)', '_i65': 'global num\\ndef func():\\n    num = 20\\n    print(num)\\n\\nfunc()', '_i66': 'global num\\ndef func():\\n    num = 20\\n    num += 10\\n    print(num)\\n\\nfunc()', '_i67': 'global num\\nnum = 20\\ndef func():\\n    num += 10\\n    print(num)\\n\\nfunc()', '_i68': 'num = 20\\ndef func():\\n    global num\\n    num += 10\\n    print(num)\\n\\nfunc()', '_i69': 'global num\\nnum = 20\\ndef func():\\n    num += 10\\n    print(num)\\n\\nfunc()', '_i70': 'num = 20\\ndef func():\\n    global num\\n    num += 10\\n    print(num)\\n\\nfunc()', '_i71': 'globals()', '_71': {...}, '_i72': 'globals()\\nlocals()', '_72': {...}, '_i73': '# globals()\\nlocals()', '_73': {...}, '_i74': 'globals()\\n# locals()', '_74': {...}, '_i75': 'num = 20\\ndef func():\\n    global num\\n    num += 10\\n    print(num)\\n    locals()\\n\\nfunc()', '_i76': 'globals()', '_76': {...}, '_i77': 'num = 20\\ndef func():\\n    global num\\n    num += 10\\n    print(num)\\n    locals()\\n\\nfunc()', '_i78': 'num = 20\\ndef func():\\n    global num\\n    num += 10\\n    print(num)\\n\\nfunc()\\nglobals()\\nlocals()', '_78': {...}, '_i79': 'num = 20\\ndef func():\\n    global num\\n    num += 10\\n    print(num)\\n\\nfunc()', '_i80': 'num = 20\\ndef func():\\n    global num\\n    num += 10\\n    print(num)\\n    globals()\\n    locals()\\n\\nfunc()', '_i81': 'num = 20\\ndef func():\\n    global num\\n    num += 10\\n    print(num)\\n\\nfunc()\\nprint(globals())\\nprint(locals())', '_i82': 'num = 20\\ndef func():\\n    global num\\n    num += 10\\n    print(num)\\n    print(globals())\\n    print(locals())\\nfunc()\\n# print(globals())\\n# print(locals())'}\n",
      "{}\n"
     ]
    }
   ],
   "source": [
    "num = 20\n",
    "def func():\n",
    "    global num\n",
    "    num += 10\n",
    "    print(num)\n",
    "    print(globals())\n",
    "    print(locals())\n",
    "func()\n",
    "# print(globals())\n",
    "# print(locals())"
   ]
  },
  {
   "cell_type": "code",
   "execution_count": 87,
   "metadata": {},
   "outputs": [
    {
     "name": "stdout",
     "output_type": "stream",
     "text": [
      "this is outer func...\n",
      "this is inner func...\n"
     ]
    }
   ],
   "source": [
    "# 函数的作用域\n",
    "def outer():\n",
    "    print('this is outer func...')\n",
    "    def inner():\n",
    "        print('this is inner func...')\n",
    "    inner()\n",
    "outer()\n",
    "# inner()"
   ]
  },
  {
   "cell_type": "code",
   "execution_count": 89,
   "metadata": {},
   "outputs": [
    {
     "name": "stdout",
     "output_type": "stream",
     "text": [
      "this is outer func...\n"
     ]
    },
    {
     "ename": "UnboundLocalError",
     "evalue": "local variable 'a' referenced before assignment",
     "output_type": "error",
     "traceback": [
      "\u001b[0;31m---------------------------------------------------------------------------\u001b[0m",
      "\u001b[0;31mUnboundLocalError\u001b[0m                         Traceback (most recent call last)",
      "Cell \u001b[0;32mIn[89], line 10\u001b[0m\n\u001b[1;32m      8\u001b[0m         \u001b[39mprint\u001b[39m(a)\n\u001b[1;32m      9\u001b[0m     inner()\n\u001b[0;32m---> 10\u001b[0m outer()\n\u001b[1;32m     11\u001b[0m \u001b[39m# inner()\u001b[39;00m\n",
      "Cell \u001b[0;32mIn[89], line 9\u001b[0m, in \u001b[0;36mouter\u001b[0;34m()\u001b[0m\n\u001b[1;32m      7\u001b[0m     \u001b[39mprint\u001b[39m(\u001b[39m'\u001b[39m\u001b[39mthis is inner func...\u001b[39m\u001b[39m'\u001b[39m)\n\u001b[1;32m      8\u001b[0m     \u001b[39mprint\u001b[39m(a)\n\u001b[0;32m----> 9\u001b[0m inner()\n",
      "Cell \u001b[0;32mIn[89], line 6\u001b[0m, in \u001b[0;36mouter.<locals>.inner\u001b[0;34m()\u001b[0m\n\u001b[1;32m      5\u001b[0m \u001b[39mdef\u001b[39;00m \u001b[39minner\u001b[39m():\n\u001b[0;32m----> 6\u001b[0m     a \u001b[39m+\u001b[39m\u001b[39m=\u001b[39m \u001b[39m1\u001b[39m\n\u001b[1;32m      7\u001b[0m     \u001b[39mprint\u001b[39m(\u001b[39m'\u001b[39m\u001b[39mthis is inner func...\u001b[39m\u001b[39m'\u001b[39m)\n\u001b[1;32m      8\u001b[0m     \u001b[39mprint\u001b[39m(a)\n",
      "\u001b[0;31mUnboundLocalError\u001b[0m: local variable 'a' referenced before assignment"
     ]
    }
   ],
   "source": [
    "# 函数的作用域\n",
    "def outer():\n",
    "    a = 2\n",
    "    print('this is outer func...')\n",
    "    def inner():\n",
    "        a += 1\n",
    "        print('this is inner func...')\n",
    "        print(a)\n",
    "    inner()\n",
    "outer()\n",
    "# inner()"
   ]
  },
  {
   "cell_type": "code",
   "execution_count": 90,
   "metadata": {},
   "outputs": [
    {
     "name": "stdout",
     "output_type": "stream",
     "text": [
      "11\n"
     ]
    }
   ],
   "source": [
    "# 定义一个外层函数\n",
    "def outer():\n",
    "    # 外函数的局部变量\n",
    "    num = 10\n",
    "    # 内函数, 局部函数, 在函数的内部定义的函数\n",
    "    def inner():\n",
    "        # nonlocal 关键字在局部函数中使用\n",
    "        nonlocal num # 可以引用上一层函数中定义的局部变量\n",
    "        num += 1\n",
    "        print(num)\n",
    "    inner()\n",
    "outer()"
   ]
  },
  {
   "cell_type": "code",
   "execution_count": 93,
   "metadata": {},
   "outputs": [
    {
     "name": "stdout",
     "output_type": "stream",
     "text": [
      "33\n"
     ]
    }
   ],
   "source": [
    "# 定义一个外层函数\n",
    "def outer():\n",
    "    # 外函数的局部变量\n",
    "    num = 10\n",
    "    # 内函数, 局部函数, 在函数的内部定义的函数\n",
    "    def inner():\n",
    "        # nonlocal 关键字在局部函数中使用\n",
    "        global num # 可以引用上一层函数中定义的局部变量\n",
    "        num += 1\n",
    "        print(num)\n",
    "    inner()\n",
    "outer()"
   ]
  },
  {
   "cell_type": "code",
   "execution_count": 95,
   "metadata": {},
   "outputs": [
    {
     "name": "stdout",
     "output_type": "stream",
     "text": [
      "{'__name__': '__main__', '__doc__': 'Automatically created module for IPython interactive environment', '__package__': None, '__loader__': None, '__spec__': None, '__builtin__': <module 'builtins' (built-in)>, '__builtins__': <module 'builtins' (built-in)>, '_ih': ['', \"# 函数的调用\\nlove()\\n# 函数的定义格式\\ndef love():\\n    print('i')\\n    print('love')\\n    print('u')\", \"# 函数的定义格式\\ndef love():\\n    print('i')\\n    print('love')\\n    print('u')\\n\\n# 函数的调用\\nlove()\", '# 函数的定义格式\\ndef love():\\n    print(\\'i\\')\\n    print(\\'love\\')\\n    print(\\'u\\')\\n\\ndef love():\\n    print(\\'u\\')\\n    print(\"don\\'t\")\\n    print(\\'love\\')\\n    print(\\'me\\')\\n\\n# 函数的调用\\nlove()', \"def love(w):\\n    print(f'i love you {w}')\", \"def love(w):\\n    print(f'i love {w}')\\n\\n# 调用带有行参的函数时，需要传递参数（实参）\\nlove('马户')\", \"def love(w):\\n    print(f'i love {w}')\\n\\n# 调用带有行参的函数时，需要传递参数（实参）\\nlove('马户')\\nlove()\", \"def love(m, n):\\n    print(f'{m} love {n}')\", \"def love(m, n):\\n    print(f'{m} love {n}')\\n\\nlove('i', 'u')\", 'def func(x, y=20):\\n    print(x, y)\\n\\nfunc(2)', 'def func(x, y=20):\\n    print(x, y)\\n\\nfunc(2, 100)', 'def func(x=100, y=200, z):\\n    print(x, y, z)\\n\\nfunc(300)', 'def func(x=100, y=200, z):\\n    print(x, y, z)\\n\\nfunc(100， 200， 300)', 'def func(x=100, y=200, z):\\n    print(x, y, z)\\n\\nfunc(100,200,300)', 'def func(x, y=200, z):\\n    print(x, y, z)\\n\\nfunc(100,200,300)', 'def func(x=100, y=200, z):\\n    print(x, y, z)\\n\\nfunc(100,200,300)', 'def func(x=100, y=200, z):\\n    print(x, y, z)\\n\\nfunc(100,200,300)\\n\\ndef func(x=100, y, z):\\n    print(x, y, z)\\n\\nfunc(100, 200, 300)', '# def func(x=100, y=200, z):\\n#     print(x, y, z)\\n\\n# func(100,200,300)\\n\\ndef func(x=100, y, z):\\n    print(x, y, z)\\n\\nfunc(100, 200, 300)', '# def func(x=100, y=200, z):\\n#     print(x, y, z)\\n\\n# func(100,200,300)\\n\\n# def func(x=100, y, z):\\n#     print(x, y, z)\\n\\n# func(100, 200, 300)\\n\\ndef func(x, y, z=100):\\n    print(x, y, z)\\n\\nfunc(100, 200, 300)', '# def func(x=100, y=200, z):\\n#     print(x, y, z)\\n\\n# func(100,200,300)\\n\\n# def func(x=100, y, z):\\n#     print(x, y, z)\\n\\n# func(100, 200, 300)\\n\\ndef func(x, y=100, z=100):\\n    print(x, y, z)\\n\\nfunc(100, 200, 300)', '# def func(x=100, y=200, z):\\n#     print(x, y, z)\\n\\n# func(100,200,300)\\n\\n# def func(x=100, y, z):\\n#     print(x, y, z)\\n\\n# func(100, 200, 300)\\n\\ndef func(x, y=100, z=100):\\n    print(x, y, z)\\n\\nfunc(300)', '# def func(x=100, y=200, z):\\n#     print(x, y, z)\\n\\n# func(100,200,300)\\n\\n# def func(x=100, y, z):\\n#     print(x, y, z)\\n\\n# func(100, 200, 300)\\n\\ndef func(x, y=100, z=100):\\n    print(x, y, z)\\n\\nfunc(300,200)', '# def func(x=100, y=200, z):\\n#     print(x, y, z)\\n\\n# func(100,200,300)\\n\\n# def func(x=100, y, z):\\n#     print(x, y, z)\\n\\n# func(100, 200, 300)\\n\\ndef func(x, y=100, z=100):\\n    print(x, y, z)\\n\\nfunc(300,200,100)', '# def func(x=100, y=200, z):\\n#     print(x, y, z)\\n\\n# func(100,200,300)\\n\\n# def func(x=100, y, z):\\n#     print(x, y, z)\\n\\n# func(100, 200, 300)\\n\\ndef func(x, y=100, z=100):\\n    print(x, y, z)\\n\\nfunc(300,200,50)', '# def func(x=100, y=200, z):\\n#     print(x, y, z)\\n\\n# func(100,200,300)\\n\\n# def func(x=100, y, z):\\n#     print(x, y, z)\\n\\n# func(100, 200, 300)\\n\\ndef func(x=50, y=100, z=100):\\n    print(x, y, z)\\n\\nfunc(300,200,50)', '# def func(x=100, y=200, z):\\n#     print(x, y, z)\\n\\n# func(100,200,300)\\n\\n# def func(x=100, y, z):\\n#     print(x, y, z)\\n\\n# func(100, 200, 300)\\n\\ndef func(x, y=100, z):\\n    print(x, y, z)\\n\\nfunc(300,200,50)', '# def func(x=100, y=200, z):\\n#     print(x, y, z)\\n\\n# func(100,200,300)\\n\\n# def func(x=100, y, z=200):\\n#     print(x, y, z)\\n\\n# func(100, 200, 300)\\n\\ndef func(x, y=100, z):\\n    print(x, y, z)\\n\\nfunc(300,200,50)', \"def func(x=0, *args):\\n    if x == 0:\\n        print('加法运算', args)\\n    else:\\n        print('减法运算', args)\\n\\nfunc(2,3,4)\", 'def func(x=\"+\", *args):\\n    if x == \\'+\\':\\n        print(\\'加法运算\\', args)\\n    else:\\n        print(\\'减法运算\\', args)\\n\\nfunc(\"-\", 2, 3, 4, 5, 6, 7, 8)', 'def func(x=\"+\", *y):\\n    if x == \\'+\\':\\n        print(y)\\n    else:\\n        print(\"-\", y)\\nfunc(\"-\", 1, 2, 3, 4, 5, 6)', 'def func(a, b, c=3, *args, name):\\n    print(a, b, c=3, *args, name)\\n\\nfunc(1, 2, 3, 4, 5, 6, 7, 8, name=20)', 'def func(a, b, c=3, *args, name):\\n    print(a, b, c=3, *args)\\n    print(name)\\n\\nfunc(1, 2, 3, 4, 5, 6, 7, 8, name=20)', 'def func(a, b, c=3, *args, name):\\n    print(a, b, c, *args)\\n    print(name)\\n\\nfunc(1, 2, 3, 4, 5, 6, 7, 8, name=20)', 'def func(a, b, c=3, *args, name):\\n    print(a, b, c, *args, name)\\n    print(name)\\n\\nfunc(1, 2, 3, 4, 5, 6, 7, 8, name=20)', 'def func(a, b, c=3, *args, name):\\n    print(a, b, c, *args, name)\\n\\nfunc(1, 2, 3, 4, 5, 6, 7, 8, name=20)', \"def func(a, b, c=3, *args, name):\\n    print(a, b, c, *args, name)\\n\\nfunc(1, 2, 3, 4, 5, 6, 7, 8, name='擦痕')\", \"def func(a, b, c=3, *args, name):\\n    print(a, b, c, *args, name)\\n\\nfunc(1, 2, 3, 4, 5, 6, 7, 8, name='茶桁')\", 'def func(a, b, c=3, *args, name):\\n    print(a, b, c, \"\\\\n\", *args, name)\\n\\nfunc(1, 2, 3, 4, 5, 6, 7, 8, name=\\'茶桁\\')', 'def func(a, b, c=3, *args, name):\\n    print(a, b, c, \"\\\\n\", *args, \"\\\\n\", name)\\n\\nfunc(1, 2, 3, 4, 5, 6, 7, 8, name=\\'茶桁\\')', 'def func(a, b, c=3, *args, name):\\n    print(a, b, c, \"\\\\n\", *args, \"\\\\n\", name)\\n\\nfunc(1, 2, 3, 4, 5, 6, 7, 8, \\'茶桁\\')', 'def func(a, b, c=3, *args, name=\\'茶桁\\'):\\n    print(a, b, c, \"\\\\n\", *args, \"\\\\n\", name)\\n\\nfunc(1, 2, 3, 4, 5, 6, 7, 8, \\'茶桁\\')', 'def func(a, b, c=3, *args, name=\\'_茶桁\\'):\\n    print(a, b, c, \"\\\\n\", *args, \"\\\\n\", name)\\n\\nfunc(1, 2, 3, 4, 5, 6, 7, 8, \\'茶桁\\')', 'def func(x, y):\\n    print(x, \"\\\\t\", y)\\n\\nfunc(2, 3)', 'def func(x, y):\\n    print(x, \"\\\\t\", y)\\n\\nfunc(2, 3)\\nfunc(x = 3, y = 2)', 'def func(x, y):\\n    print(x, \"\\\\t\", y)\\n\\nfunc(2, 3)\\nfunc(y = 2, x = 3)', 'def func(x, y):\\n    print(x, \"\\\\t\", y)\\n\\nfunc(2, 3)\\nfunc(y = 2, x = 3)\\nfunc(2, x = 3)', 'def func(x, y):\\n    print(x, \"\\\\t\", y)\\n\\nfunc(2, 3)\\nfunc(y = 2, x = 3)\\nfunc(2, y = 3)', 'def func(a, b, c=3, *args, name, age,  **kwargs):\\n    print(a, b, c)\\n    print(args) # 普通收集参数，会把多余的参数收集为元组\\n    print(kwargs) # 关键字参数收集，会把多余的关键字参数收集为字典\\n\\nfunc(1, 2, 4, 112, 123, 321, 541, 231, name=\"茶桁\", age=18, sex=\\'male\\', height=185, x=\\'x\\', y=\\'y\\')', 'def func(a, b, c=3, *args, name, age,  **kwargs):\\n    print(a, b, c)\\n    print(args) # 普通收集参数，会把多余的参数收集为元组\\n    print(name, age)\\n    print(kwargs) # 关键字参数收集，会把多余的关键字参数收集为字典\\n\\nfunc(1, 2, 4, 112, 123, 321, 541, 231, name=\"茶桁\", age=18, sex=\\'male\\', height=185, x=\\'x\\', y=\\'y\\')', \"# 有返回值的函数\\ndef func(a, b):\\n    res = f'{a} love {b}'\\n    # 可以在函数体内，使用return返回内容\\n    return res\\n\\nr = func('老鼠', '布丁')\", \"# 有返回值的函数\\ndef func(a, b):\\n    res = f'{a} love {b}'\\n    # 可以在函数体内，使用return返回内容\\n    return res\\n\\nr = func('老鼠', '布丁')\\nr\", \"# 有返回值的函数\\ndef func(a, b):\\n    res = f'{a} love {b}'\\n    # 可以在函数体内，使用return返回内容\\n    return res\\n\\nr = func('老鼠', '布丁')\\nprint(r)\", \"def func(a, b):\\n    res = f'{a} love {b}'\\n    print('这是return前')\\n    return res\\n    print('这是return后')\", \"def func(a, b):\\n    res = f'{a} love {b}'\\n    print('这是return前')\\n    return res\\n    print('这是return后')\", \"def func(a, b):\\n    res = f'{a} love {b}'\\n    print('这是return前')\\n    return res\\n    print('这是return后')\\n\\nr = func('老鼠','布丁')\\nprint(r)\", 'def func(x, y):\\n    res = x + y\\n    return res\\n\\nfunc(1, 2)', 'def func(x, y):\\n    res = x + y\\n    return res\\n\\nr = func(1, 2)\\nprint(r)', 'num = 10\\ndef func():\\n    print(num)\\n\\nfunc()', 'num = 10\\ndef func():\\n    num += 20\\n    print(num)\\n\\nfunc()', 'num = 10\\ndef func():\\n    # num += 20 # 函数内不能直接更改函数外的变量\\n    print(num)\\n\\n    a = 20\\n\\nfunc()\\nprint(a)', 'num = 10\\ndef func():\\n    # num += 20 # 函数内不能直接更改函数外的变量\\n    print(num)\\n\\nfunc()', 'items = [1, 2, 3, 4, 5]\\ndef func():\\n    items[0] = 20\\n    print(items)\\n\\nfunc()', \"dicts = {'a':'a', 'b':'b'}\\ndef func():\\n    dicts['a'] = 'aa'\\n    print(dicts)\\n\\nfunc()\", 'global num = 10\\ndef func():\\n    num += 20\\n    print(num)', 'num = 10\\ndef func():\\n    global num += 20\\n    print(num)', 'global num\\ndef func():\\n    num = 20\\n    print(num)\\n\\nfunc()', 'global num\\ndef func():\\n    num = 20\\n    num += 10\\n    print(num)\\n\\nfunc()', 'global num\\nnum = 20\\ndef func():\\n    num += 10\\n    print(num)\\n\\nfunc()', 'num = 20\\ndef func():\\n    global num\\n    num += 10\\n    print(num)\\n\\nfunc()', 'global num\\nnum = 20\\ndef func():\\n    num += 10\\n    print(num)\\n\\nfunc()', 'num = 20\\ndef func():\\n    global num\\n    num += 10\\n    print(num)\\n\\nfunc()', 'globals()', 'globals()\\nlocals()', '# globals()\\nlocals()', 'globals()\\n# locals()', 'num = 20\\ndef func():\\n    global num\\n    num += 10\\n    print(num)\\n    locals()\\n\\nfunc()', 'globals()', 'num = 20\\ndef func():\\n    global num\\n    num += 10\\n    print(num)\\n    locals()\\n\\nfunc()', 'num = 20\\ndef func():\\n    global num\\n    num += 10\\n    print(num)\\n\\nfunc()\\nglobals()\\nlocals()', 'num = 20\\ndef func():\\n    global num\\n    num += 10\\n    print(num)\\n\\nfunc()', 'num = 20\\ndef func():\\n    global num\\n    num += 10\\n    print(num)\\n    globals()\\n    locals()\\n\\nfunc()', 'num = 20\\ndef func():\\n    global num\\n    num += 10\\n    print(num)\\n\\nfunc()\\nprint(globals())\\nprint(locals())', 'num = 20\\ndef func():\\n    global num\\n    num += 10\\n    print(num)\\n    print(globals())\\n    print(locals())\\nfunc()\\n# print(globals())\\n# print(locals())', \"# 函数的作用域\\ndef outer():\\n    print('this is outer func...')\\n\\nouter()\", \"# 函数的作用域\\ndef outer():\\n    print('this is outer func...')\\n    def inner():\\n        print('this is inner func...')\\n\\nouter()\", \"# 函数的作用域\\ndef outer():\\n    print('this is outer func...')\\n    def inner():\\n        print('this is inner func...')\\n\\nouter()\\ninner()\", \"# 函数的作用域\\ndef outer():\\n    print('this is outer func...')\\n    def inner():\\n        print('this is inner func...')\\n    inner()\\nouter()\\n# inner()\", \"# 函数的作用域\\ndef outer():\\n    print('this is outer func...')\\n    def inner():\\n        print('this is inner func...')\\n    inner()\\nouter()\\n# inner()\", \"# 函数的作用域\\ndef outer():\\n    a = 2\\n    print('this is outer func...')\\n    def inner():\\n        a += 1\\n        print('this is inner func...')\\n    inner()\\nouter()\\n# inner()\", \"# 函数的作用域\\ndef outer():\\n    a = 2\\n    print('this is outer func...')\\n    def inner():\\n        a += 1\\n        print('this is inner func...')\\n        print(a)\\n    inner()\\nouter()\\n# inner()\", '# 定义一个外层函数\\ndef outer():\\n    # 外函数的局部变量\\n    num = 10\\n    # 内函数, 局部函数, 在函数的内部定义的函数\\n    def inner():\\n        # nonlocal 关键字在局部函数中使用\\n        nonlocal num # 可以引用上一层函数中定义的局部变量\\n        num += 1\\n        print(num)\\n    inner()\\nouter()', '# 定义一个外层函数\\ndef outer():\\n    # 外函数的局部变量\\n    num = 10\\n    # 内函数, 局部函数, 在函数的内部定义的函数\\n    def inner():\\n        # nonlocal 关键字在局部函数中使用\\n        global num # 可以引用上一层函数中定义的局部变量\\n        num += 1\\n        print(num)\\n    inner()\\nouter()', '# 定义一个外层函数\\ndef outer():\\n    # 外函数的局部变量\\n    num = 10\\n    # 内函数, 局部函数, 在函数的内部定义的函数\\n    def inner():\\n        # nonlocal 关键字在局部函数中使用\\n        global num # 可以引用上一层函数中定义的局部变量\\n        num += 1\\n        print(num)\\n    inner()\\nouter()', '# 定义一个外层函数\\ndef outer():\\n    # 外函数的局部变量\\n    num = 10\\n    # 内函数, 局部函数, 在函数的内部定义的函数\\n    def inner():\\n        # nonlocal 关键字在局部函数中使用\\n        global num # 可以引用上一层函数中定义的局部变量\\n        num += 1\\n        print(num)\\n    inner()\\nouter()', 'print(global())', 'print(globals())'], '_oh': {50: '老鼠 love 布丁', 55: 3, 71: {...}, 72: {...}, 73: {...}, 74: {...}, 76: {...}, 78: {...}}, '_dh': [PosixPath('/Users/du/git/AI_Cheats/Python'), PosixPath('/Users/du/git/AI_Cheats/Python')], 'In': ['', \"# 函数的调用\\nlove()\\n# 函数的定义格式\\ndef love():\\n    print('i')\\n    print('love')\\n    print('u')\", \"# 函数的定义格式\\ndef love():\\n    print('i')\\n    print('love')\\n    print('u')\\n\\n# 函数的调用\\nlove()\", '# 函数的定义格式\\ndef love():\\n    print(\\'i\\')\\n    print(\\'love\\')\\n    print(\\'u\\')\\n\\ndef love():\\n    print(\\'u\\')\\n    print(\"don\\'t\")\\n    print(\\'love\\')\\n    print(\\'me\\')\\n\\n# 函数的调用\\nlove()', \"def love(w):\\n    print(f'i love you {w}')\", \"def love(w):\\n    print(f'i love {w}')\\n\\n# 调用带有行参的函数时，需要传递参数（实参）\\nlove('马户')\", \"def love(w):\\n    print(f'i love {w}')\\n\\n# 调用带有行参的函数时，需要传递参数（实参）\\nlove('马户')\\nlove()\", \"def love(m, n):\\n    print(f'{m} love {n}')\", \"def love(m, n):\\n    print(f'{m} love {n}')\\n\\nlove('i', 'u')\", 'def func(x, y=20):\\n    print(x, y)\\n\\nfunc(2)', 'def func(x, y=20):\\n    print(x, y)\\n\\nfunc(2, 100)', 'def func(x=100, y=200, z):\\n    print(x, y, z)\\n\\nfunc(300)', 'def func(x=100, y=200, z):\\n    print(x, y, z)\\n\\nfunc(100， 200， 300)', 'def func(x=100, y=200, z):\\n    print(x, y, z)\\n\\nfunc(100,200,300)', 'def func(x, y=200, z):\\n    print(x, y, z)\\n\\nfunc(100,200,300)', 'def func(x=100, y=200, z):\\n    print(x, y, z)\\n\\nfunc(100,200,300)', 'def func(x=100, y=200, z):\\n    print(x, y, z)\\n\\nfunc(100,200,300)\\n\\ndef func(x=100, y, z):\\n    print(x, y, z)\\n\\nfunc(100, 200, 300)', '# def func(x=100, y=200, z):\\n#     print(x, y, z)\\n\\n# func(100,200,300)\\n\\ndef func(x=100, y, z):\\n    print(x, y, z)\\n\\nfunc(100, 200, 300)', '# def func(x=100, y=200, z):\\n#     print(x, y, z)\\n\\n# func(100,200,300)\\n\\n# def func(x=100, y, z):\\n#     print(x, y, z)\\n\\n# func(100, 200, 300)\\n\\ndef func(x, y, z=100):\\n    print(x, y, z)\\n\\nfunc(100, 200, 300)', '# def func(x=100, y=200, z):\\n#     print(x, y, z)\\n\\n# func(100,200,300)\\n\\n# def func(x=100, y, z):\\n#     print(x, y, z)\\n\\n# func(100, 200, 300)\\n\\ndef func(x, y=100, z=100):\\n    print(x, y, z)\\n\\nfunc(100, 200, 300)', '# def func(x=100, y=200, z):\\n#     print(x, y, z)\\n\\n# func(100,200,300)\\n\\n# def func(x=100, y, z):\\n#     print(x, y, z)\\n\\n# func(100, 200, 300)\\n\\ndef func(x, y=100, z=100):\\n    print(x, y, z)\\n\\nfunc(300)', '# def func(x=100, y=200, z):\\n#     print(x, y, z)\\n\\n# func(100,200,300)\\n\\n# def func(x=100, y, z):\\n#     print(x, y, z)\\n\\n# func(100, 200, 300)\\n\\ndef func(x, y=100, z=100):\\n    print(x, y, z)\\n\\nfunc(300,200)', '# def func(x=100, y=200, z):\\n#     print(x, y, z)\\n\\n# func(100,200,300)\\n\\n# def func(x=100, y, z):\\n#     print(x, y, z)\\n\\n# func(100, 200, 300)\\n\\ndef func(x, y=100, z=100):\\n    print(x, y, z)\\n\\nfunc(300,200,100)', '# def func(x=100, y=200, z):\\n#     print(x, y, z)\\n\\n# func(100,200,300)\\n\\n# def func(x=100, y, z):\\n#     print(x, y, z)\\n\\n# func(100, 200, 300)\\n\\ndef func(x, y=100, z=100):\\n    print(x, y, z)\\n\\nfunc(300,200,50)', '# def func(x=100, y=200, z):\\n#     print(x, y, z)\\n\\n# func(100,200,300)\\n\\n# def func(x=100, y, z):\\n#     print(x, y, z)\\n\\n# func(100, 200, 300)\\n\\ndef func(x=50, y=100, z=100):\\n    print(x, y, z)\\n\\nfunc(300,200,50)', '# def func(x=100, y=200, z):\\n#     print(x, y, z)\\n\\n# func(100,200,300)\\n\\n# def func(x=100, y, z):\\n#     print(x, y, z)\\n\\n# func(100, 200, 300)\\n\\ndef func(x, y=100, z):\\n    print(x, y, z)\\n\\nfunc(300,200,50)', '# def func(x=100, y=200, z):\\n#     print(x, y, z)\\n\\n# func(100,200,300)\\n\\n# def func(x=100, y, z=200):\\n#     print(x, y, z)\\n\\n# func(100, 200, 300)\\n\\ndef func(x, y=100, z):\\n    print(x, y, z)\\n\\nfunc(300,200,50)', \"def func(x=0, *args):\\n    if x == 0:\\n        print('加法运算', args)\\n    else:\\n        print('减法运算', args)\\n\\nfunc(2,3,4)\", 'def func(x=\"+\", *args):\\n    if x == \\'+\\':\\n        print(\\'加法运算\\', args)\\n    else:\\n        print(\\'减法运算\\', args)\\n\\nfunc(\"-\", 2, 3, 4, 5, 6, 7, 8)', 'def func(x=\"+\", *y):\\n    if x == \\'+\\':\\n        print(y)\\n    else:\\n        print(\"-\", y)\\nfunc(\"-\", 1, 2, 3, 4, 5, 6)', 'def func(a, b, c=3, *args, name):\\n    print(a, b, c=3, *args, name)\\n\\nfunc(1, 2, 3, 4, 5, 6, 7, 8, name=20)', 'def func(a, b, c=3, *args, name):\\n    print(a, b, c=3, *args)\\n    print(name)\\n\\nfunc(1, 2, 3, 4, 5, 6, 7, 8, name=20)', 'def func(a, b, c=3, *args, name):\\n    print(a, b, c, *args)\\n    print(name)\\n\\nfunc(1, 2, 3, 4, 5, 6, 7, 8, name=20)', 'def func(a, b, c=3, *args, name):\\n    print(a, b, c, *args, name)\\n    print(name)\\n\\nfunc(1, 2, 3, 4, 5, 6, 7, 8, name=20)', 'def func(a, b, c=3, *args, name):\\n    print(a, b, c, *args, name)\\n\\nfunc(1, 2, 3, 4, 5, 6, 7, 8, name=20)', \"def func(a, b, c=3, *args, name):\\n    print(a, b, c, *args, name)\\n\\nfunc(1, 2, 3, 4, 5, 6, 7, 8, name='擦痕')\", \"def func(a, b, c=3, *args, name):\\n    print(a, b, c, *args, name)\\n\\nfunc(1, 2, 3, 4, 5, 6, 7, 8, name='茶桁')\", 'def func(a, b, c=3, *args, name):\\n    print(a, b, c, \"\\\\n\", *args, name)\\n\\nfunc(1, 2, 3, 4, 5, 6, 7, 8, name=\\'茶桁\\')', 'def func(a, b, c=3, *args, name):\\n    print(a, b, c, \"\\\\n\", *args, \"\\\\n\", name)\\n\\nfunc(1, 2, 3, 4, 5, 6, 7, 8, name=\\'茶桁\\')', 'def func(a, b, c=3, *args, name):\\n    print(a, b, c, \"\\\\n\", *args, \"\\\\n\", name)\\n\\nfunc(1, 2, 3, 4, 5, 6, 7, 8, \\'茶桁\\')', 'def func(a, b, c=3, *args, name=\\'茶桁\\'):\\n    print(a, b, c, \"\\\\n\", *args, \"\\\\n\", name)\\n\\nfunc(1, 2, 3, 4, 5, 6, 7, 8, \\'茶桁\\')', 'def func(a, b, c=3, *args, name=\\'_茶桁\\'):\\n    print(a, b, c, \"\\\\n\", *args, \"\\\\n\", name)\\n\\nfunc(1, 2, 3, 4, 5, 6, 7, 8, \\'茶桁\\')', 'def func(x, y):\\n    print(x, \"\\\\t\", y)\\n\\nfunc(2, 3)', 'def func(x, y):\\n    print(x, \"\\\\t\", y)\\n\\nfunc(2, 3)\\nfunc(x = 3, y = 2)', 'def func(x, y):\\n    print(x, \"\\\\t\", y)\\n\\nfunc(2, 3)\\nfunc(y = 2, x = 3)', 'def func(x, y):\\n    print(x, \"\\\\t\", y)\\n\\nfunc(2, 3)\\nfunc(y = 2, x = 3)\\nfunc(2, x = 3)', 'def func(x, y):\\n    print(x, \"\\\\t\", y)\\n\\nfunc(2, 3)\\nfunc(y = 2, x = 3)\\nfunc(2, y = 3)', 'def func(a, b, c=3, *args, name, age,  **kwargs):\\n    print(a, b, c)\\n    print(args) # 普通收集参数，会把多余的参数收集为元组\\n    print(kwargs) # 关键字参数收集，会把多余的关键字参数收集为字典\\n\\nfunc(1, 2, 4, 112, 123, 321, 541, 231, name=\"茶桁\", age=18, sex=\\'male\\', height=185, x=\\'x\\', y=\\'y\\')', 'def func(a, b, c=3, *args, name, age,  **kwargs):\\n    print(a, b, c)\\n    print(args) # 普通收集参数，会把多余的参数收集为元组\\n    print(name, age)\\n    print(kwargs) # 关键字参数收集，会把多余的关键字参数收集为字典\\n\\nfunc(1, 2, 4, 112, 123, 321, 541, 231, name=\"茶桁\", age=18, sex=\\'male\\', height=185, x=\\'x\\', y=\\'y\\')', \"# 有返回值的函数\\ndef func(a, b):\\n    res = f'{a} love {b}'\\n    # 可以在函数体内，使用return返回内容\\n    return res\\n\\nr = func('老鼠', '布丁')\", \"# 有返回值的函数\\ndef func(a, b):\\n    res = f'{a} love {b}'\\n    # 可以在函数体内，使用return返回内容\\n    return res\\n\\nr = func('老鼠', '布丁')\\nr\", \"# 有返回值的函数\\ndef func(a, b):\\n    res = f'{a} love {b}'\\n    # 可以在函数体内，使用return返回内容\\n    return res\\n\\nr = func('老鼠', '布丁')\\nprint(r)\", \"def func(a, b):\\n    res = f'{a} love {b}'\\n    print('这是return前')\\n    return res\\n    print('这是return后')\", \"def func(a, b):\\n    res = f'{a} love {b}'\\n    print('这是return前')\\n    return res\\n    print('这是return后')\", \"def func(a, b):\\n    res = f'{a} love {b}'\\n    print('这是return前')\\n    return res\\n    print('这是return后')\\n\\nr = func('老鼠','布丁')\\nprint(r)\", 'def func(x, y):\\n    res = x + y\\n    return res\\n\\nfunc(1, 2)', 'def func(x, y):\\n    res = x + y\\n    return res\\n\\nr = func(1, 2)\\nprint(r)', 'num = 10\\ndef func():\\n    print(num)\\n\\nfunc()', 'num = 10\\ndef func():\\n    num += 20\\n    print(num)\\n\\nfunc()', 'num = 10\\ndef func():\\n    # num += 20 # 函数内不能直接更改函数外的变量\\n    print(num)\\n\\n    a = 20\\n\\nfunc()\\nprint(a)', 'num = 10\\ndef func():\\n    # num += 20 # 函数内不能直接更改函数外的变量\\n    print(num)\\n\\nfunc()', 'items = [1, 2, 3, 4, 5]\\ndef func():\\n    items[0] = 20\\n    print(items)\\n\\nfunc()', \"dicts = {'a':'a', 'b':'b'}\\ndef func():\\n    dicts['a'] = 'aa'\\n    print(dicts)\\n\\nfunc()\", 'global num = 10\\ndef func():\\n    num += 20\\n    print(num)', 'num = 10\\ndef func():\\n    global num += 20\\n    print(num)', 'global num\\ndef func():\\n    num = 20\\n    print(num)\\n\\nfunc()', 'global num\\ndef func():\\n    num = 20\\n    num += 10\\n    print(num)\\n\\nfunc()', 'global num\\nnum = 20\\ndef func():\\n    num += 10\\n    print(num)\\n\\nfunc()', 'num = 20\\ndef func():\\n    global num\\n    num += 10\\n    print(num)\\n\\nfunc()', 'global num\\nnum = 20\\ndef func():\\n    num += 10\\n    print(num)\\n\\nfunc()', 'num = 20\\ndef func():\\n    global num\\n    num += 10\\n    print(num)\\n\\nfunc()', 'globals()', 'globals()\\nlocals()', '# globals()\\nlocals()', 'globals()\\n# locals()', 'num = 20\\ndef func():\\n    global num\\n    num += 10\\n    print(num)\\n    locals()\\n\\nfunc()', 'globals()', 'num = 20\\ndef func():\\n    global num\\n    num += 10\\n    print(num)\\n    locals()\\n\\nfunc()', 'num = 20\\ndef func():\\n    global num\\n    num += 10\\n    print(num)\\n\\nfunc()\\nglobals()\\nlocals()', 'num = 20\\ndef func():\\n    global num\\n    num += 10\\n    print(num)\\n\\nfunc()', 'num = 20\\ndef func():\\n    global num\\n    num += 10\\n    print(num)\\n    globals()\\n    locals()\\n\\nfunc()', 'num = 20\\ndef func():\\n    global num\\n    num += 10\\n    print(num)\\n\\nfunc()\\nprint(globals())\\nprint(locals())', 'num = 20\\ndef func():\\n    global num\\n    num += 10\\n    print(num)\\n    print(globals())\\n    print(locals())\\nfunc()\\n# print(globals())\\n# print(locals())', \"# 函数的作用域\\ndef outer():\\n    print('this is outer func...')\\n\\nouter()\", \"# 函数的作用域\\ndef outer():\\n    print('this is outer func...')\\n    def inner():\\n        print('this is inner func...')\\n\\nouter()\", \"# 函数的作用域\\ndef outer():\\n    print('this is outer func...')\\n    def inner():\\n        print('this is inner func...')\\n\\nouter()\\ninner()\", \"# 函数的作用域\\ndef outer():\\n    print('this is outer func...')\\n    def inner():\\n        print('this is inner func...')\\n    inner()\\nouter()\\n# inner()\", \"# 函数的作用域\\ndef outer():\\n    print('this is outer func...')\\n    def inner():\\n        print('this is inner func...')\\n    inner()\\nouter()\\n# inner()\", \"# 函数的作用域\\ndef outer():\\n    a = 2\\n    print('this is outer func...')\\n    def inner():\\n        a += 1\\n        print('this is inner func...')\\n    inner()\\nouter()\\n# inner()\", \"# 函数的作用域\\ndef outer():\\n    a = 2\\n    print('this is outer func...')\\n    def inner():\\n        a += 1\\n        print('this is inner func...')\\n        print(a)\\n    inner()\\nouter()\\n# inner()\", '# 定义一个外层函数\\ndef outer():\\n    # 外函数的局部变量\\n    num = 10\\n    # 内函数, 局部函数, 在函数的内部定义的函数\\n    def inner():\\n        # nonlocal 关键字在局部函数中使用\\n        nonlocal num # 可以引用上一层函数中定义的局部变量\\n        num += 1\\n        print(num)\\n    inner()\\nouter()', '# 定义一个外层函数\\ndef outer():\\n    # 外函数的局部变量\\n    num = 10\\n    # 内函数, 局部函数, 在函数的内部定义的函数\\n    def inner():\\n        # nonlocal 关键字在局部函数中使用\\n        global num # 可以引用上一层函数中定义的局部变量\\n        num += 1\\n        print(num)\\n    inner()\\nouter()', '# 定义一个外层函数\\ndef outer():\\n    # 外函数的局部变量\\n    num = 10\\n    # 内函数, 局部函数, 在函数的内部定义的函数\\n    def inner():\\n        # nonlocal 关键字在局部函数中使用\\n        global num # 可以引用上一层函数中定义的局部变量\\n        num += 1\\n        print(num)\\n    inner()\\nouter()', '# 定义一个外层函数\\ndef outer():\\n    # 外函数的局部变量\\n    num = 10\\n    # 内函数, 局部函数, 在函数的内部定义的函数\\n    def inner():\\n        # nonlocal 关键字在局部函数中使用\\n        global num # 可以引用上一层函数中定义的局部变量\\n        num += 1\\n        print(num)\\n    inner()\\nouter()', 'print(global())', 'print(globals())'], 'Out': {50: '老鼠 love 布丁', 55: 3, 71: {...}, 72: {...}, 73: {...}, 74: {...}, 76: {...}, 78: {...}}, 'get_ipython': <bound method InteractiveShell.get_ipython of <ipykernel.zmqshell.ZMQInteractiveShell object at 0x1085e69e0>>, 'exit': <IPython.core.autocall.ZMQExitAutocall object at 0x1085e7280>, 'quit': <IPython.core.autocall.ZMQExitAutocall object at 0x1085e7280>, 'open': <function open at 0x106e66710>, '_': {...}, '__': {...}, '___': {...}, '__vsc_ipynb_file__': '/Users/du/git/AI_Cheats/Python/5.ipynb', '_i': 'print(global())', '_ii': '# 定义一个外层函数\\ndef outer():\\n    # 外函数的局部变量\\n    num = 10\\n    # 内函数, 局部函数, 在函数的内部定义的函数\\n    def inner():\\n        # nonlocal 关键字在局部函数中使用\\n        global num # 可以引用上一层函数中定义的局部变量\\n        num += 1\\n        print(num)\\n    inner()\\nouter()', '_iii': '# 定义一个外层函数\\ndef outer():\\n    # 外函数的局部变量\\n    num = 10\\n    # 内函数, 局部函数, 在函数的内部定义的函数\\n    def inner():\\n        # nonlocal 关键字在局部函数中使用\\n        global num # 可以引用上一层函数中定义的局部变量\\n        num += 1\\n        print(num)\\n    inner()\\nouter()', '_i1': \"# 函数的调用\\nlove()\\n# 函数的定义格式\\ndef love():\\n    print('i')\\n    print('love')\\n    print('u')\", '_i2': \"# 函数的定义格式\\ndef love():\\n    print('i')\\n    print('love')\\n    print('u')\\n\\n# 函数的调用\\nlove()\", 'love': <function love at 0x10c8b3910>, '_i3': '# 函数的定义格式\\ndef love():\\n    print(\\'i\\')\\n    print(\\'love\\')\\n    print(\\'u\\')\\n\\ndef love():\\n    print(\\'u\\')\\n    print(\"don\\'t\")\\n    print(\\'love\\')\\n    print(\\'me\\')\\n\\n# 函数的调用\\nlove()', '_i4': \"def love(w):\\n    print(f'i love you {w}')\", '_i5': \"def love(w):\\n    print(f'i love {w}')\\n\\n# 调用带有行参的函数时，需要传递参数（实参）\\nlove('马户')\", '_i6': \"def love(w):\\n    print(f'i love {w}')\\n\\n# 调用带有行参的函数时，需要传递参数（实参）\\nlove('马户')\\nlove()\", '_i7': \"def love(m, n):\\n    print(f'{m} love {n}')\", '_i8': \"def love(m, n):\\n    print(f'{m} love {n}')\\n\\nlove('i', 'u')\", '_i9': 'def func(x, y=20):\\n    print(x, y)\\n\\nfunc(2)', 'func': <function func at 0x10d231990>, '_i10': 'def func(x, y=20):\\n    print(x, y)\\n\\nfunc(2, 100)', '_i11': 'def func(x=100, y=200, z):\\n    print(x, y, z)\\n\\nfunc(300)', '_i12': 'def func(x=100, y=200, z):\\n    print(x, y, z)\\n\\nfunc(100， 200， 300)', '_i13': 'def func(x=100, y=200, z):\\n    print(x, y, z)\\n\\nfunc(100,200,300)', '_i14': 'def func(x, y=200, z):\\n    print(x, y, z)\\n\\nfunc(100,200,300)', '_i15': 'def func(x=100, y=200, z):\\n    print(x, y, z)\\n\\nfunc(100,200,300)', '_i16': 'def func(x=100, y=200, z):\\n    print(x, y, z)\\n\\nfunc(100,200,300)\\n\\ndef func(x=100, y, z):\\n    print(x, y, z)\\n\\nfunc(100, 200, 300)', '_i17': '# def func(x=100, y=200, z):\\n#     print(x, y, z)\\n\\n# func(100,200,300)\\n\\ndef func(x=100, y, z):\\n    print(x, y, z)\\n\\nfunc(100, 200, 300)', '_i18': '# def func(x=100, y=200, z):\\n#     print(x, y, z)\\n\\n# func(100,200,300)\\n\\n# def func(x=100, y, z):\\n#     print(x, y, z)\\n\\n# func(100, 200, 300)\\n\\ndef func(x, y, z=100):\\n    print(x, y, z)\\n\\nfunc(100, 200, 300)', '_i19': '# def func(x=100, y=200, z):\\n#     print(x, y, z)\\n\\n# func(100,200,300)\\n\\n# def func(x=100, y, z):\\n#     print(x, y, z)\\n\\n# func(100, 200, 300)\\n\\ndef func(x, y=100, z=100):\\n    print(x, y, z)\\n\\nfunc(100, 200, 300)', '_i20': '# def func(x=100, y=200, z):\\n#     print(x, y, z)\\n\\n# func(100,200,300)\\n\\n# def func(x=100, y, z):\\n#     print(x, y, z)\\n\\n# func(100, 200, 300)\\n\\ndef func(x, y=100, z=100):\\n    print(x, y, z)\\n\\nfunc(300)', '_i21': '# def func(x=100, y=200, z):\\n#     print(x, y, z)\\n\\n# func(100,200,300)\\n\\n# def func(x=100, y, z):\\n#     print(x, y, z)\\n\\n# func(100, 200, 300)\\n\\ndef func(x, y=100, z=100):\\n    print(x, y, z)\\n\\nfunc(300,200)', '_i22': '# def func(x=100, y=200, z):\\n#     print(x, y, z)\\n\\n# func(100,200,300)\\n\\n# def func(x=100, y, z):\\n#     print(x, y, z)\\n\\n# func(100, 200, 300)\\n\\ndef func(x, y=100, z=100):\\n    print(x, y, z)\\n\\nfunc(300,200,100)', '_i23': '# def func(x=100, y=200, z):\\n#     print(x, y, z)\\n\\n# func(100,200,300)\\n\\n# def func(x=100, y, z):\\n#     print(x, y, z)\\n\\n# func(100, 200, 300)\\n\\ndef func(x, y=100, z=100):\\n    print(x, y, z)\\n\\nfunc(300,200,50)', '_i24': '# def func(x=100, y=200, z):\\n#     print(x, y, z)\\n\\n# func(100,200,300)\\n\\n# def func(x=100, y, z):\\n#     print(x, y, z)\\n\\n# func(100, 200, 300)\\n\\ndef func(x=50, y=100, z=100):\\n    print(x, y, z)\\n\\nfunc(300,200,50)', '_i25': '# def func(x=100, y=200, z):\\n#     print(x, y, z)\\n\\n# func(100,200,300)\\n\\n# def func(x=100, y, z):\\n#     print(x, y, z)\\n\\n# func(100, 200, 300)\\n\\ndef func(x, y=100, z):\\n    print(x, y, z)\\n\\nfunc(300,200,50)', '_i26': '# def func(x=100, y=200, z):\\n#     print(x, y, z)\\n\\n# func(100,200,300)\\n\\n# def func(x=100, y, z=200):\\n#     print(x, y, z)\\n\\n# func(100, 200, 300)\\n\\ndef func(x, y=100, z):\\n    print(x, y, z)\\n\\nfunc(300,200,50)', '_i27': \"def func(x=0, *args):\\n    if x == 0:\\n        print('加法运算', args)\\n    else:\\n        print('减法运算', args)\\n\\nfunc(2,3,4)\", '_i28': 'def func(x=\"+\", *args):\\n    if x == \\'+\\':\\n        print(\\'加法运算\\', args)\\n    else:\\n        print(\\'减法运算\\', args)\\n\\nfunc(\"-\", 2, 3, 4, 5, 6, 7, 8)', '_i29': 'def func(x=\"+\", *y):\\n    if x == \\'+\\':\\n        print(y)\\n    else:\\n        print(\"-\", y)\\nfunc(\"-\", 1, 2, 3, 4, 5, 6)', '_i30': 'def func(a, b, c=3, *args, name):\\n    print(a, b, c=3, *args, name)\\n\\nfunc(1, 2, 3, 4, 5, 6, 7, 8, name=20)', '_i31': 'def func(a, b, c=3, *args, name):\\n    print(a, b, c=3, *args)\\n    print(name)\\n\\nfunc(1, 2, 3, 4, 5, 6, 7, 8, name=20)', '_i32': 'def func(a, b, c=3, *args, name):\\n    print(a, b, c, *args)\\n    print(name)\\n\\nfunc(1, 2, 3, 4, 5, 6, 7, 8, name=20)', '_i33': 'def func(a, b, c=3, *args, name):\\n    print(a, b, c, *args, name)\\n    print(name)\\n\\nfunc(1, 2, 3, 4, 5, 6, 7, 8, name=20)', '_i34': 'def func(a, b, c=3, *args, name):\\n    print(a, b, c, *args, name)\\n\\nfunc(1, 2, 3, 4, 5, 6, 7, 8, name=20)', '_i35': \"def func(a, b, c=3, *args, name):\\n    print(a, b, c, *args, name)\\n\\nfunc(1, 2, 3, 4, 5, 6, 7, 8, name='擦痕')\", '_i36': \"def func(a, b, c=3, *args, name):\\n    print(a, b, c, *args, name)\\n\\nfunc(1, 2, 3, 4, 5, 6, 7, 8, name='茶桁')\", '_i37': 'def func(a, b, c=3, *args, name):\\n    print(a, b, c, \"\\\\n\", *args, name)\\n\\nfunc(1, 2, 3, 4, 5, 6, 7, 8, name=\\'茶桁\\')', '_i38': 'def func(a, b, c=3, *args, name):\\n    print(a, b, c, \"\\\\n\", *args, \"\\\\n\", name)\\n\\nfunc(1, 2, 3, 4, 5, 6, 7, 8, name=\\'茶桁\\')', '_i39': 'def func(a, b, c=3, *args, name):\\n    print(a, b, c, \"\\\\n\", *args, \"\\\\n\", name)\\n\\nfunc(1, 2, 3, 4, 5, 6, 7, 8, \\'茶桁\\')', '_i40': 'def func(a, b, c=3, *args, name=\\'茶桁\\'):\\n    print(a, b, c, \"\\\\n\", *args, \"\\\\n\", name)\\n\\nfunc(1, 2, 3, 4, 5, 6, 7, 8, \\'茶桁\\')', '_i41': 'def func(a, b, c=3, *args, name=\\'_茶桁\\'):\\n    print(a, b, c, \"\\\\n\", *args, \"\\\\n\", name)\\n\\nfunc(1, 2, 3, 4, 5, 6, 7, 8, \\'茶桁\\')', '_i42': 'def func(x, y):\\n    print(x, \"\\\\t\", y)\\n\\nfunc(2, 3)', '_i43': 'def func(x, y):\\n    print(x, \"\\\\t\", y)\\n\\nfunc(2, 3)\\nfunc(x = 3, y = 2)', '_i44': 'def func(x, y):\\n    print(x, \"\\\\t\", y)\\n\\nfunc(2, 3)\\nfunc(y = 2, x = 3)', '_i45': 'def func(x, y):\\n    print(x, \"\\\\t\", y)\\n\\nfunc(2, 3)\\nfunc(y = 2, x = 3)\\nfunc(2, x = 3)', '_i46': 'def func(x, y):\\n    print(x, \"\\\\t\", y)\\n\\nfunc(2, 3)\\nfunc(y = 2, x = 3)\\nfunc(2, y = 3)', '_i47': 'def func(a, b, c=3, *args, name, age,  **kwargs):\\n    print(a, b, c)\\n    print(args) # 普通收集参数，会把多余的参数收集为元组\\n    print(kwargs) # 关键字参数收集，会把多余的关键字参数收集为字典\\n\\nfunc(1, 2, 4, 112, 123, 321, 541, 231, name=\"茶桁\", age=18, sex=\\'male\\', height=185, x=\\'x\\', y=\\'y\\')', '_i48': 'def func(a, b, c=3, *args, name, age,  **kwargs):\\n    print(a, b, c)\\n    print(args) # 普通收集参数，会把多余的参数收集为元组\\n    print(name, age)\\n    print(kwargs) # 关键字参数收集，会把多余的关键字参数收集为字典\\n\\nfunc(1, 2, 4, 112, 123, 321, 541, 231, name=\"茶桁\", age=18, sex=\\'male\\', height=185, x=\\'x\\', y=\\'y\\')', '_i49': \"# 有返回值的函数\\ndef func(a, b):\\n    res = f'{a} love {b}'\\n    # 可以在函数体内，使用return返回内容\\n    return res\\n\\nr = func('老鼠', '布丁')\", 'r': 3, '_i50': \"# 有返回值的函数\\ndef func(a, b):\\n    res = f'{a} love {b}'\\n    # 可以在函数体内，使用return返回内容\\n    return res\\n\\nr = func('老鼠', '布丁')\\nr\", '_50': '老鼠 love 布丁', '_i51': \"# 有返回值的函数\\ndef func(a, b):\\n    res = f'{a} love {b}'\\n    # 可以在函数体内，使用return返回内容\\n    return res\\n\\nr = func('老鼠', '布丁')\\nprint(r)\", '_i52': \"def func(a, b):\\n    res = f'{a} love {b}'\\n    print('这是return前')\\n    return res\\n    print('这是return后')\", '_i53': \"def func(a, b):\\n    res = f'{a} love {b}'\\n    print('这是return前')\\n    return res\\n    print('这是return后')\", '_i54': \"def func(a, b):\\n    res = f'{a} love {b}'\\n    print('这是return前')\\n    return res\\n    print('这是return后')\\n\\nr = func('老鼠','布丁')\\nprint(r)\", '_i55': 'def func(x, y):\\n    res = x + y\\n    return res\\n\\nfunc(1, 2)', '_55': 3, '_i56': 'def func(x, y):\\n    res = x + y\\n    return res\\n\\nr = func(1, 2)\\nprint(r)', '_i57': 'num = 10\\ndef func():\\n    print(num)\\n\\nfunc()', 'num': 33, '_i58': 'num = 10\\ndef func():\\n    num += 20\\n    print(num)\\n\\nfunc()', '_i59': 'num = 10\\ndef func():\\n    # num += 20 # 函数内不能直接更改函数外的变量\\n    print(num)\\n\\n    a = 20\\n\\nfunc()\\nprint(a)', '_i60': 'num = 10\\ndef func():\\n    # num += 20 # 函数内不能直接更改函数外的变量\\n    print(num)\\n\\nfunc()', '_i61': 'items = [1, 2, 3, 4, 5]\\ndef func():\\n    items[0] = 20\\n    print(items)\\n\\nfunc()', 'items': [20, 2, 3, 4, 5], '_i62': \"dicts = {'a':'a', 'b':'b'}\\ndef func():\\n    dicts['a'] = 'aa'\\n    print(dicts)\\n\\nfunc()\", 'dicts': {'a': 'aa', 'b': 'b'}, '_i63': 'global num = 10\\ndef func():\\n    num += 20\\n    print(num)', '_i64': 'num = 10\\ndef func():\\n    global num += 20\\n    print(num)', '_i65': 'global num\\ndef func():\\n    num = 20\\n    print(num)\\n\\nfunc()', '_i66': 'global num\\ndef func():\\n    num = 20\\n    num += 10\\n    print(num)\\n\\nfunc()', '_i67': 'global num\\nnum = 20\\ndef func():\\n    num += 10\\n    print(num)\\n\\nfunc()', '_i68': 'num = 20\\ndef func():\\n    global num\\n    num += 10\\n    print(num)\\n\\nfunc()', '_i69': 'global num\\nnum = 20\\ndef func():\\n    num += 10\\n    print(num)\\n\\nfunc()', '_i70': 'num = 20\\ndef func():\\n    global num\\n    num += 10\\n    print(num)\\n\\nfunc()', '_i71': 'globals()', '_71': {...}, '_i72': 'globals()\\nlocals()', '_72': {...}, '_i73': '# globals()\\nlocals()', '_73': {...}, '_i74': 'globals()\\n# locals()', '_74': {...}, '_i75': 'num = 20\\ndef func():\\n    global num\\n    num += 10\\n    print(num)\\n    locals()\\n\\nfunc()', '_i76': 'globals()', '_76': {...}, '_i77': 'num = 20\\ndef func():\\n    global num\\n    num += 10\\n    print(num)\\n    locals()\\n\\nfunc()', '_i78': 'num = 20\\ndef func():\\n    global num\\n    num += 10\\n    print(num)\\n\\nfunc()\\nglobals()\\nlocals()', '_78': {...}, '_i79': 'num = 20\\ndef func():\\n    global num\\n    num += 10\\n    print(num)\\n\\nfunc()', '_i80': 'num = 20\\ndef func():\\n    global num\\n    num += 10\\n    print(num)\\n    globals()\\n    locals()\\n\\nfunc()', '_i81': 'num = 20\\ndef func():\\n    global num\\n    num += 10\\n    print(num)\\n\\nfunc()\\nprint(globals())\\nprint(locals())', '_i82': 'num = 20\\ndef func():\\n    global num\\n    num += 10\\n    print(num)\\n    print(globals())\\n    print(locals())\\nfunc()\\n# print(globals())\\n# print(locals())', '_i83': \"# 函数的作用域\\ndef outer():\\n    print('this is outer func...')\\n\\nouter()\", 'outer': <function outer at 0x10d2330a0>, '_i84': \"# 函数的作用域\\ndef outer():\\n    print('this is outer func...')\\n    def inner():\\n        print('this is inner func...')\\n\\nouter()\", '_i85': \"# 函数的作用域\\ndef outer():\\n    print('this is outer func...')\\n    def inner():\\n        print('this is inner func...')\\n\\nouter()\\ninner()\", '_i86': \"# 函数的作用域\\ndef outer():\\n    print('this is outer func...')\\n    def inner():\\n        print('this is inner func...')\\n    inner()\\nouter()\\n# inner()\", '_i87': \"# 函数的作用域\\ndef outer():\\n    print('this is outer func...')\\n    def inner():\\n        print('this is inner func...')\\n    inner()\\nouter()\\n# inner()\", '_i88': \"# 函数的作用域\\ndef outer():\\n    a = 2\\n    print('this is outer func...')\\n    def inner():\\n        a += 1\\n        print('this is inner func...')\\n    inner()\\nouter()\\n# inner()\", '_i89': \"# 函数的作用域\\ndef outer():\\n    a = 2\\n    print('this is outer func...')\\n    def inner():\\n        a += 1\\n        print('this is inner func...')\\n        print(a)\\n    inner()\\nouter()\\n# inner()\", '_i90': '# 定义一个外层函数\\ndef outer():\\n    # 外函数的局部变量\\n    num = 10\\n    # 内函数, 局部函数, 在函数的内部定义的函数\\n    def inner():\\n        # nonlocal 关键字在局部函数中使用\\n        nonlocal num # 可以引用上一层函数中定义的局部变量\\n        num += 1\\n        print(num)\\n    inner()\\nouter()', '_i91': '# 定义一个外层函数\\ndef outer():\\n    # 外函数的局部变量\\n    num = 10\\n    # 内函数, 局部函数, 在函数的内部定义的函数\\n    def inner():\\n        # nonlocal 关键字在局部函数中使用\\n        global num # 可以引用上一层函数中定义的局部变量\\n        num += 1\\n        print(num)\\n    inner()\\nouter()', '_i92': '# 定义一个外层函数\\ndef outer():\\n    # 外函数的局部变量\\n    num = 10\\n    # 内函数, 局部函数, 在函数的内部定义的函数\\n    def inner():\\n        # nonlocal 关键字在局部函数中使用\\n        global num # 可以引用上一层函数中定义的局部变量\\n        num += 1\\n        print(num)\\n    inner()\\nouter()', '_i93': '# 定义一个外层函数\\ndef outer():\\n    # 外函数的局部变量\\n    num = 10\\n    # 内函数, 局部函数, 在函数的内部定义的函数\\n    def inner():\\n        # nonlocal 关键字在局部函数中使用\\n        global num # 可以引用上一层函数中定义的局部变量\\n        num += 1\\n        print(num)\\n    inner()\\nouter()', '_i94': 'print(global())', '_i95': 'print(globals())'}\n"
     ]
    }
   ],
   "source": [
    "print(globals())"
   ]
  },
  {
   "cell_type": "code",
   "execution_count": 103,
   "metadata": {},
   "outputs": [
    {
     "name": "stdout",
     "output_type": "stream",
     "text": [
      "\n",
      "这里是整个文档的说明部分。\n",
      "\n"
     ]
    }
   ],
   "source": [
    "print(__doc__)"
   ]
  },
  {
   "cell_type": "code",
   "execution_count": 104,
   "metadata": {},
   "outputs": [],
   "source": [
    "def func():\n",
    "    \"\"\"\n",
    "    这里是让你写一写函数的文档说明的。\n",
    "    需要说明当前函数的作用，\n",
    "    如果当前函数还有形参，那么也需要对形参进行一一说明。\n",
    "    name: 这个是一个name参数，用于接收姓名\n",
    "    age: 这个参数是表示年龄\n",
    "    :return: 此处说明当前函数的返回值\n",
    "    \"\"\"\n",
    "    pass"
   ]
  },
  {
   "cell_type": "code",
   "execution_count": 105,
   "metadata": {},
   "outputs": [
    {
     "name": "stdout",
     "output_type": "stream",
     "text": [
      "\n",
      "    这里是让你写一写函数的文档说明的。\n",
      "    需要说明当前函数的作用，\n",
      "    如果当前函数还有形参，那么也需要对形参进行一一说明。\n",
      "    name: 这个是一个name参数，用于接收姓名\n",
      "    age: 这个参数是表示年龄\n",
      "    :return: 此处说明当前函数的返回值\n",
      "    \n"
     ]
    }
   ],
   "source": [
    "print(func.__doc__)"
   ]
  },
  {
   "cell_type": "markdown",
   "metadata": {},
   "source": [
    "## 函数的封装"
   ]
  },
  {
   "cell_type": "code",
   "execution_count": 129,
   "metadata": {},
   "outputs": [],
   "source": [
    "# 定义函数，打印九九乘法表\n",
    "def multiply_table(i=0):\n",
    "    \"\"\"\n",
    "    当前函数的功能是打印出乘法表\n",
    "    i=0; i 这个参数可以用来控制正向输出和方向输出，0的时候正向，1的时候反向,默认为0\n",
    "    \"\"\"\n",
    "    if i:\n",
    "        rs = range(9, 0, -1)\n",
    "    else:\n",
    "        rs = range(1, 10)\n",
    "        \n",
    "    for x in rs:\n",
    "        for y in range(1, x+1):\n",
    "            print(f'{x}X{y}={x*y}', end=\" \")\n",
    "        print()"
   ]
  },
  {
   "cell_type": "code",
   "execution_count": 132,
   "metadata": {},
   "outputs": [
    {
     "name": "stdout",
     "output_type": "stream",
     "text": [
      "9X1=9 9X2=18 9X3=27 9X4=36 9X5=45 9X6=54 9X7=63 9X8=72 9X9=81 \n",
      "8X1=8 8X2=16 8X3=24 8X4=32 8X5=40 8X6=48 8X7=56 8X8=64 \n",
      "7X1=7 7X2=14 7X3=21 7X4=28 7X5=35 7X6=42 7X7=49 \n",
      "6X1=6 6X2=12 6X3=18 6X4=24 6X5=30 6X6=36 \n",
      "5X1=5 5X2=10 5X3=15 5X4=20 5X5=25 \n",
      "4X1=4 4X2=8 4X3=12 4X4=16 \n",
      "3X1=3 3X2=6 3X3=9 \n",
      "2X1=2 2X2=4 \n",
      "1X1=1 \n"
     ]
    }
   ],
   "source": [
    "multiply_table(1)"
   ]
  },
  {
   "cell_type": "code",
   "execution_count": 134,
   "metadata": {},
   "outputs": [
    {
     "name": "stdout",
     "output_type": "stream",
     "text": [
      "# # # # # # # # # # \n",
      "# # # # # # # # # # \n",
      "# # # # # # # # # # \n",
      "# # # # # # # # # # \n",
      "# # # # # # # # # # \n",
      "# # # # # # # # # # \n",
      "# # # # # # # # # # \n",
      "# # # # # # # # # # \n",
      "# # # # # # # # # # \n",
      "# # # # # # # # # # \n"
     ]
    }
   ],
   "source": [
    "# 封装打印矩形的函数\n",
    "def rectangle():\n",
    "    for x in range(0, 100):\n",
    "        print(\"#\", end=\" \")\n",
    "        if x % 10 == 9:\n",
    "            print()\n",
    "\n",
    "rectangle()"
   ]
  },
  {
   "cell_type": "code",
   "execution_count": null,
   "metadata": {},
   "outputs": [],
   "source": []
  }
 ],
 "metadata": {
  "kernelspec": {
   "display_name": "glm",
   "language": "python",
   "name": "python3"
  },
  "language_info": {
   "codemirror_mode": {
    "name": "ipython",
    "version": 3
   },
   "file_extension": ".py",
   "mimetype": "text/x-python",
   "name": "python",
   "nbconvert_exporter": "python",
   "pygments_lexer": "ipython3",
   "version": "3.10.11"
  },
  "orig_nbformat": 4
 },
 "nbformat": 4,
 "nbformat_minor": 2
}
