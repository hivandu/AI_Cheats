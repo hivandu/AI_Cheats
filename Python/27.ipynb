{
 "cells": [
  {
   "cell_type": "markdown",
   "metadata": {},
   "source": [
    "# Pandas"
   ]
  },
  {
   "cell_type": "code",
   "execution_count": 219,
   "metadata": {},
   "outputs": [],
   "source": [
    "import numpy as np\n",
    "import pandas as pd\n",
    "from pandas import Series\n",
    "from pandas import DataFrame as df"
   ]
  },
  {
   "cell_type": "code",
   "execution_count": 2,
   "metadata": {},
   "outputs": [
    {
     "name": "stdout",
     "output_type": "stream",
     "text": [
      "0    1\n",
      "1    2\n",
      "2    3\n",
      "3    4\n",
      "dtype: int64\n"
     ]
    }
   ],
   "source": [
    "sel = Series([1,2,3,4])\n",
    "print(sel)"
   ]
  },
  {
   "cell_type": "code",
   "execution_count": 4,
   "metadata": {},
   "outputs": [
    {
     "name": "stdout",
     "output_type": "stream",
     "text": [
      "a    1\n",
      "b    2\n",
      "c    3\n",
      "d    4\n",
      "dtype: int64\n"
     ]
    }
   ],
   "source": [
    "# sel = Series(data=[1,2,3,4], index= ['a','b','c','d'])\n",
    "sel = Series(data=[1,2,3,4], index= list('abcd'))\n",
    "print(sel)\n"
   ]
  },
  {
   "cell_type": "code",
   "execution_count": 6,
   "metadata": {},
   "outputs": [
    {
     "name": "stdout",
     "output_type": "stream",
     "text": [
      "values: [1 2 3 4]\n",
      "Index(['a', 'b', 'c', 'd'], dtype='object')\n"
     ]
    }
   ],
   "source": [
    "print(f'values: {sel.values}')\n",
    "print(sel.index)"
   ]
  },
  {
   "cell_type": "code",
   "execution_count": 7,
   "metadata": {},
   "outputs": [
    {
     "name": "stdout",
     "output_type": "stream",
     "text": [
      "[('a', 1), ('b', 2), ('c', 3), ('d', 4)]\n"
     ]
    },
    {
     "name": "stderr",
     "output_type": "stream",
     "text": [
      "/var/folders/h4/7cr1cmpn7v5b3x20_9wz8m740000gn/T/ipykernel_47013/1817614246.py:1: FutureWarning: iteritems is deprecated and will be removed in a future version. Use .items instead.\n",
      "  print(list(sel.iteritems()))\n"
     ]
    }
   ],
   "source": [
    "print(list(sel.iteritems()))"
   ]
  },
  {
   "cell_type": "code",
   "execution_count": 8,
   "metadata": {},
   "outputs": [
    {
     "name": "stdout",
     "output_type": "stream",
     "text": [
      "red      100\n",
      "black    400\n",
      "green    300\n",
      "pink     900\n",
      "dtype: int64\n"
     ]
    }
   ],
   "source": [
    "dict={\"red\":100,\"black\":400,\"green\":300,\"pink\":900}\n",
    "se3=Series(dict) \n",
    "print(se3)"
   ]
  },
  {
   "cell_type": "code",
   "execution_count": 9,
   "metadata": {},
   "outputs": [
    {
     "name": "stdout",
     "output_type": "stream",
     "text": [
      "索引下标 3\n",
      "位置下标 3\n"
     ]
    }
   ],
   "source": [
    "# Series对象同时⽀持位置和标签两种⽅式获取数据 \n",
    "print('索引下标',sel['c'])\n",
    "print('位置下标',sel[2])"
   ]
  },
  {
   "cell_type": "code",
   "execution_count": 11,
   "metadata": {},
   "outputs": [
    {
     "name": "stdout",
     "output_type": "stream",
     "text": [
      "位置切⽚\n",
      " b    2\n",
      "c    3\n",
      "dtype: int64\n",
      "\n",
      "索引切⽚\n",
      " b    2\n",
      "c    3\n",
      "d    4\n",
      "dtype: int64\n"
     ]
    }
   ],
   "source": [
    "print('位置切⽚\\n',sel[1:3])# 左包含右不包含\n",
    "print('\\n索引切⽚\\n',sel['b':'d'])# 左右都包含"
   ]
  },
  {
   "cell_type": "code",
   "execution_count": 14,
   "metadata": {},
   "outputs": [
    {
     "name": "stdout",
     "output_type": "stream",
     "text": [
      "d    1\n",
      "c    2\n",
      "b    3\n",
      "a    4\n",
      "dtype: int64\n"
     ]
    }
   ],
   "source": [
    "sel.index = list('dcba')\n",
    "print(sel)"
   ]
  },
  {
   "cell_type": "code",
   "execution_count": 15,
   "metadata": {},
   "outputs": [
    {
     "name": "stdout",
     "output_type": "stream",
     "text": [
      "b    3.0\n",
      "a    4.0\n",
      "c    2.0\n",
      "d    1.0\n",
      "e    NaN\n",
      "dtype: float64\n"
     ]
    }
   ],
   "source": [
    "print(sel.reindex(['b','a','c','d','e']))"
   ]
  },
  {
   "cell_type": "code",
   "execution_count": 16,
   "metadata": {},
   "outputs": [
    {
     "name": "stdout",
     "output_type": "stream",
     "text": [
      "0    10\n",
      "1    11\n",
      "2    12\n",
      "3    13\n",
      "4    14\n",
      "dtype: int64\n",
      "0    10\n",
      "1    11\n",
      "4    14\n",
      "dtype: int64\n"
     ]
    }
   ],
   "source": [
    "sel = pd.Series(range(10, 15))\n",
    "print(sel)\n",
    "print(sel.drop([2,3]))"
   ]
  },
  {
   "cell_type": "code",
   "execution_count": 19,
   "metadata": {},
   "outputs": [
    {
     "name": "stdout",
     "output_type": "stream",
     "text": [
      "series1-series2:\n",
      "Accra       NaN\n",
      "Delhi       NaN\n",
      "HongKong    NaN\n",
      "Humbai      NaN\n",
      "London      0.0\n",
      "lagos      -2.0\n",
      "dtype: float64\n",
      "\n",
      "series1+series2:\n",
      "Accra        NaN\n",
      "Delhi        NaN\n",
      "HongKong     NaN\n",
      "Humbai       NaN\n",
      "London       2.0\n",
      "lagos       10.0\n",
      "dtype: float64\n",
      "\n",
      "series1*series2:\n",
      "Accra        NaN\n",
      "Delhi        NaN\n",
      "HongKong     NaN\n",
      "Humbai       NaN\n",
      "London       1.0\n",
      "lagos       24.0\n",
      "dtype: float64\n"
     ]
    }
   ],
   "source": [
    "# Series 算数运算\n",
    "series1 = pd.Series([1,2,3,4],['London','HongKong','Humbai','lagos'])\n",
    "series2 = pd.Series([1,3,6,4],['London','Accra','lagos','Delhi'])\n",
    "\n",
    "print('series1-series2:')\n",
    "print(series1-series2) \n",
    "print('\\nseries1+series2:')\n",
    "print(series1+series2) \n",
    "print('\\nseries1*series2:')\n",
    "print(series1*series2)"
   ]
  },
  {
   "cell_type": "code",
   "execution_count": 20,
   "metadata": {},
   "outputs": [
    {
     "name": "stdout",
     "output_type": "stream",
     "text": [
      "b    6\n",
      "d    5\n",
      "dtype: int64\n",
      "a     2\n",
      "b    12\n",
      "c     6\n",
      "d    10\n",
      "dtype: int64\n",
      "a     1\n",
      "b    36\n",
      "c     9\n",
      "d    25\n",
      "dtype: int64\n"
     ]
    }
   ],
   "source": [
    "sel = Series(data = [1,6,3,5], index = list('abcd'))\n",
    "print(sel[sel>3]) # 布尔数组过滤\n",
    "print(sel*2) # 标量乘法\n",
    "print(np.square(sel)) # 可以直接加⼊到numpy的数学函数"
   ]
  },
  {
   "cell_type": "markdown",
   "metadata": {},
   "source": [
    "## DataFrame"
   ]
  },
  {
   "cell_type": "code",
   "execution_count": 6,
   "metadata": {},
   "outputs": [
    {
     "name": "stdout",
     "output_type": "stream",
     "text": [
      "   a  b  c  d\n",
      "1  0  8  1  1\n",
      "2  6  4  3  8\n",
      "3  9  8  7  5\n",
      "4  8  4  5  5\n"
     ]
    }
   ],
   "source": [
    "df1 = df(np.random.randint(0,10,(4,4)),index=[1,2,3,4],columns=['a','b','c','d']) \n",
    "print(df1)"
   ]
  },
  {
   "cell_type": "code",
   "execution_count": 8,
   "metadata": {},
   "outputs": [
    {
     "name": "stdout",
     "output_type": "stream",
     "text": [
      "    Province  pop  year\n",
      "1  Guangdong  1.3  2022\n",
      "2    Beijing  2.5  2022\n",
      "3    Qinghai  1.1  2022\n",
      "4     Fujian  0.7  2022\n"
     ]
    }
   ],
   "source": [
    "# 使⽤字典创建(⾏索引由index决定，列索引由字典的键决定) \n",
    "dict={'Province': ['Guangdong', 'Beijing', 'Qinghai','Fujian'],'pop': [1.3, 2.5, 1.1, 0.7], 'year': [2022, 2022, 2022, 2022]}\n",
    "df2= df(dict,index=[1,2,3,4]) \n",
    "print(df2)"
   ]
  },
  {
   "cell_type": "code",
   "execution_count": 9,
   "metadata": {},
   "outputs": [
    {
     "name": "stdout",
     "output_type": "stream",
     "text": [
      "   a  b\n",
      "0  1  4\n",
      "1  2  5\n",
      "2  3  6\n"
     ]
    }
   ],
   "source": [
    "dict2={\"a\":[1,2,3],\"b\":[4,5,6]}\n",
    "df6=df.from_dict(dict2) \n",
    "print(df6)"
   ]
  },
  {
   "cell_type": "code",
   "execution_count": 10,
   "metadata": {},
   "outputs": [
    {
     "name": "stdout",
     "output_type": "stream",
     "text": [
      "  Name Age country\n",
      "a   zs  10      中国\n",
      "b   ls  20      韩国\n",
      "c   we  30      ⽇本\n",
      "d  NaN  40     NaN\n"
     ]
    }
   ],
   "source": [
    "data = {\n",
    " 'Name':pd.Series(['zs','ls','we'],index=['a','b','c']),\n",
    " 'Age':pd.Series(['10','20','30','40'],index=['a','b','c','d']),\n",
    " 'country':pd.Series(['中国','⽇本','韩国'],index=['a','c','b'])\n",
    "}\n",
    "df = pd.DataFrame(data)\n",
    "print(df)\n"
   ]
  },
  {
   "cell_type": "code",
   "execution_count": 11,
   "metadata": {},
   "outputs": [
    {
     "name": "stdout",
     "output_type": "stream",
     "text": [
      "{'Name': {'a': 'zs', 'b': 'ls', 'c': 'we', 'd': nan}, 'Age': {'a': '10', 'b': '20', 'c': '30', 'd': '40'}, 'country': {'a': '中国', 'b': '韩国', 'c': '⽇本', 'd': nan}}\n"
     ]
    }
   ],
   "source": [
    "dict = df.to_dict()\n",
    "print(dict)"
   ]
  },
  {
   "cell_type": "code",
   "execution_count": 12,
   "metadata": {},
   "outputs": [
    {
     "name": "stdout",
     "output_type": "stream",
     "text": [
      "       name age national\n",
      "0     James  18       us\n",
      "1     Curry  20    China\n",
      "2  Iversion  19       us\n"
     ]
    }
   ],
   "source": [
    "df_dict = {\n",
    "'name':['James','Curry','Iversion'],\n",
    "'age':['18','20','19'],\n",
    " 'national':['us','China','us'] }\n",
    "df = pd.DataFrame(data=df_dict,index=['0','1','2'])\n",
    "print(df)"
   ]
  },
  {
   "cell_type": "code",
   "execution_count": 13,
   "metadata": {},
   "outputs": [
    {
     "name": "stdout",
     "output_type": "stream",
     "text": [
      "(3, 3)\n"
     ]
    }
   ],
   "source": [
    "print(df.shape)"
   ]
  },
  {
   "cell_type": "code",
   "execution_count": 14,
   "metadata": {},
   "outputs": [
    {
     "name": "stdout",
     "output_type": "stream",
     "text": [
      "['0', '1', '2']\n"
     ]
    }
   ],
   "source": [
    "# 获取⾏索引\n",
    "print(df.index.tolist())"
   ]
  },
  {
   "cell_type": "code",
   "execution_count": 15,
   "metadata": {},
   "outputs": [
    {
     "name": "stdout",
     "output_type": "stream",
     "text": [
      "['name', 'age', 'national']\n"
     ]
    }
   ],
   "source": [
    "# # 获取列索引\n",
    "print(df.columns.tolist())\n"
   ]
  },
  {
   "cell_type": "code",
   "execution_count": 16,
   "metadata": {},
   "outputs": [
    {
     "name": "stdout",
     "output_type": "stream",
     "text": [
      "name        object\n",
      "age         object\n",
      "national    object\n",
      "dtype: object\n"
     ]
    }
   ],
   "source": [
    "# 获取数据的类型\n",
    "print(df.dtypes)"
   ]
  },
  {
   "cell_type": "code",
   "execution_count": 17,
   "metadata": {},
   "outputs": [
    {
     "name": "stdout",
     "output_type": "stream",
     "text": [
      "2\n"
     ]
    }
   ],
   "source": [
    "# 获取数据的维度\n",
    "print(df.ndim)"
   ]
  },
  {
   "cell_type": "code",
   "execution_count": 18,
   "metadata": {},
   "outputs": [
    {
     "name": "stdout",
     "output_type": "stream",
     "text": [
      "[['James' '18' 'us']\n",
      " ['Curry' '20' 'China']\n",
      " ['Iversion' '19' 'us']]\n"
     ]
    }
   ],
   "source": [
    "# values属性也会以⼆维ndarray的形式返回DataFrame的数据 \n",
    "print(df.values)"
   ]
  },
  {
   "cell_type": "code",
   "execution_count": 19,
   "metadata": {},
   "outputs": [
    {
     "name": "stdout",
     "output_type": "stream",
     "text": [
      "<class 'pandas.core.frame.DataFrame'>\n",
      "Index: 3 entries, 0 to 2\n",
      "Data columns (total 3 columns):\n",
      " #   Column    Non-Null Count  Dtype \n",
      "---  ------    --------------  ----- \n",
      " 0   name      3 non-null      object\n",
      " 1   age       3 non-null      object\n",
      " 2   national  3 non-null      object\n",
      "dtypes: object(3)\n",
      "memory usage: 96.0+ bytes\n",
      "None\n"
     ]
    }
   ],
   "source": [
    "# 展示df的概览\n",
    "print(df.info())"
   ]
  },
  {
   "cell_type": "code",
   "execution_count": 20,
   "metadata": {},
   "outputs": [
    {
     "name": "stdout",
     "output_type": "stream",
     "text": [
      "    name age national\n",
      "0  James  18       us\n",
      "1  Curry  20    China\n"
     ]
    }
   ],
   "source": [
    "# 显示头⼏⾏,默认显示5⾏ \n",
    "print(df.head(2))"
   ]
  },
  {
   "cell_type": "code",
   "execution_count": 21,
   "metadata": {},
   "outputs": [
    {
     "name": "stdout",
     "output_type": "stream",
     "text": [
      "       name age national\n",
      "2  Iversion  19       us\n"
     ]
    }
   ],
   "source": [
    "# 显示后⼏⾏\n",
    "print(df.tail(1))"
   ]
  },
  {
   "cell_type": "code",
   "execution_count": 22,
   "metadata": {},
   "outputs": [
    {
     "name": "stdout",
     "output_type": "stream",
     "text": [
      "0       James\n",
      "1       Curry\n",
      "2    Iversion\n",
      "Name: name, dtype: object\n"
     ]
    }
   ],
   "source": [
    "# 获取DataFrame的列\n",
    "print(df['name'])"
   ]
  },
  {
   "cell_type": "code",
   "execution_count": 29,
   "metadata": {},
   "outputs": [
    {
     "name": "stdout",
     "output_type": "stream",
     "text": [
      "<class 'pandas.core.series.Series'>\n"
     ]
    }
   ],
   "source": [
    "# 因为我们只获取⼀列，所以返回的就是⼀个 Series \n",
    "print(type(df['name']))"
   ]
  },
  {
   "cell_type": "code",
   "execution_count": 30,
   "metadata": {},
   "outputs": [
    {
     "name": "stdout",
     "output_type": "stream",
     "text": [
      "       name age\n",
      "0     James  18\n",
      "1     Curry  20\n",
      "2  Iversion  19\n",
      "<class 'pandas.core.frame.DataFrame'>\n"
     ]
    }
   ],
   "source": [
    "# 如果获取多个列，那返回的就是⼀个 DataFrame 类型： \n",
    "print(df[['name','age']])\n",
    "print(type(df[['name','age']]))"
   ]
  },
  {
   "cell_type": "code",
   "execution_count": 26,
   "metadata": {},
   "outputs": [
    {
     "name": "stdout",
     "output_type": "stream",
     "text": [
      "    name age national\n",
      "0  James  18       us\n"
     ]
    }
   ],
   "source": [
    "# 获取⼀⾏\n",
    "print(df[0:1])"
   ]
  },
  {
   "cell_type": "code",
   "execution_count": 27,
   "metadata": {},
   "outputs": [
    {
     "name": "stdout",
     "output_type": "stream",
     "text": [
      "       name age national\n",
      "1     Curry  20    China\n",
      "2  Iversion  19       us\n"
     ]
    }
   ],
   "source": [
    "# 去多⾏\n",
    "print(df[1:3])"
   ]
  },
  {
   "cell_type": "code",
   "execution_count": 28,
   "metadata": {},
   "outputs": [
    {
     "name": "stdout",
     "output_type": "stream",
     "text": [
      "       name age\n",
      "1     Curry  20\n",
      "2  Iversion  19\n"
     ]
    }
   ],
   "source": [
    "# 取多⾏⾥⾯的某⼀列（不能进⾏多⾏多列的选择）\n",
    "print(df[1:3][['name','age']])\n",
    "# 注意： df[]只能进⾏⾏选择，或列选择，不能同时多⾏多列选择。"
   ]
  },
  {
   "cell_type": "code",
   "execution_count": 31,
   "metadata": {},
   "outputs": [
    {
     "name": "stdout",
     "output_type": "stream",
     "text": [
      "James\n"
     ]
    }
   ],
   "source": [
    "print(df.loc['0','name'])"
   ]
  },
  {
   "cell_type": "code",
   "execution_count": 32,
   "metadata": {},
   "outputs": [
    {
     "name": "stdout",
     "output_type": "stream",
     "text": [
      "name        James\n",
      "age            18\n",
      "national       us\n",
      "Name: 0, dtype: object\n"
     ]
    }
   ],
   "source": [
    "# ⼀⾏所有列\n",
    "print(df.loc['0',:])"
   ]
  },
  {
   "cell_type": "code",
   "execution_count": 33,
   "metadata": {},
   "outputs": [
    {
     "name": "stdout",
     "output_type": "stream",
     "text": [
      "name    James\n",
      "age        18\n",
      "Name: 0, dtype: object\n"
     ]
    }
   ],
   "source": [
    "# 某⼀⾏多列的数据\n",
    "print(df.loc['0',['name','age']])"
   ]
  },
  {
   "cell_type": "code",
   "execution_count": 34,
   "metadata": {},
   "outputs": [
    {
     "name": "stdout",
     "output_type": "stream",
     "text": [
      "       name national\n",
      "0     James       us\n",
      "2  Iversion       us\n"
     ]
    }
   ],
   "source": [
    "# 选择间隔的多⾏多列\n",
    "print(df.loc[['0','2'],['name','national']]) "
   ]
  },
  {
   "cell_type": "code",
   "execution_count": 36,
   "metadata": {},
   "outputs": [
    {
     "name": "stdout",
     "output_type": "stream",
     "text": [
      "       name national\n",
      "0     James       us\n",
      "1     Curry    China\n",
      "2  Iversion       us\n"
     ]
    }
   ],
   "source": [
    "# 选择连续的多⾏和间隔的多列\n",
    "print(df.loc['0':'2',['name','national']])"
   ]
  },
  {
   "cell_type": "code",
   "execution_count": 37,
   "metadata": {},
   "outputs": [
    {
     "name": "stdout",
     "output_type": "stream",
     "text": [
      "name        Curry\n",
      "age            20\n",
      "national    China\n",
      "Name: 1, dtype: object\n"
     ]
    }
   ],
   "source": [
    "# 取⼀⾏\n",
    "print(df.iloc[1])"
   ]
  },
  {
   "cell_type": "code",
   "execution_count": 38,
   "metadata": {},
   "outputs": [
    {
     "name": "stdout",
     "output_type": "stream",
     "text": [
      "    name age national\n",
      "0  James  18       us\n",
      "1  Curry  20    China\n"
     ]
    }
   ],
   "source": [
    "# 取连续多⾏\n",
    "print(df.iloc[0:2])"
   ]
  },
  {
   "cell_type": "code",
   "execution_count": 39,
   "metadata": {},
   "outputs": [
    {
     "name": "stdout",
     "output_type": "stream",
     "text": [
      "       name age national\n",
      "0     James  18       us\n",
      "2  Iversion  19       us\n"
     ]
    }
   ],
   "source": [
    "# 取间断的多⾏\n",
    "print(df.iloc[[0,2],:])"
   ]
  },
  {
   "cell_type": "code",
   "execution_count": 40,
   "metadata": {},
   "outputs": [
    {
     "name": "stdout",
     "output_type": "stream",
     "text": [
      "0    18\n",
      "1    20\n",
      "2    19\n",
      "Name: age, dtype: object\n"
     ]
    }
   ],
   "source": [
    "# 取某⼀列\n",
    "print(df.iloc[:,1])"
   ]
  },
  {
   "cell_type": "code",
   "execution_count": 41,
   "metadata": {},
   "outputs": [
    {
     "name": "stdout",
     "output_type": "stream",
     "text": [
      "Curry\n"
     ]
    }
   ],
   "source": [
    "# 某⼀个值\n",
    "print(df.iloc[1,0])"
   ]
  },
  {
   "cell_type": "code",
   "execution_count": 42,
   "metadata": {},
   "outputs": [
    {
     "name": "stdout",
     "output_type": "stream",
     "text": [
      "       name age national\n",
      "0     panda  18       us\n",
      "1     Curry  20    China\n",
      "2  Iversion  19       us\n"
     ]
    }
   ],
   "source": [
    "# 修改值\n",
    "df.iloc[0,0]='panda'\n",
    "print(df)"
   ]
  },
  {
   "cell_type": "code",
   "execution_count": 43,
   "metadata": {},
   "outputs": [
    {
     "name": "stdout",
     "output_type": "stream",
     "text": [
      "       name age national\n",
      "1     Curry  20    China\n",
      "2  Iversion  19       us\n",
      "0     panda  18       us\n"
     ]
    }
   ],
   "source": [
    "# dataframe中的排序⽅法\n",
    "df = df.sort_values(by='age',ascending=False) \n",
    "# ascending=False ： 降序排列，默认是升序\n",
    "print(df)"
   ]
  },
  {
   "cell_type": "markdown",
   "metadata": {},
   "source": [
    "### dataframe修改index、columns"
   ]
  },
  {
   "cell_type": "code",
   "execution_count": 66,
   "metadata": {},
   "outputs": [
    {
     "name": "stdout",
     "output_type": "stream",
     "text": [
      "    a  b  c\n",
      "bj  0  1  2\n",
      "sh  3  4  5\n",
      "gz  6  7  8\n"
     ]
    }
   ],
   "source": [
    "df1 = pd.DataFrame(np.arange(9).reshape(3, 3), index = ['bj', 'sh', 'gz'], columns=['a', 'b', 'c'])\n",
    "print(df1)"
   ]
  },
  {
   "cell_type": "code",
   "execution_count": 67,
   "metadata": {},
   "outputs": [
    {
     "name": "stdout",
     "output_type": "stream",
     "text": [
      "Index(['bj', 'sh', 'gz'], dtype='object')\n",
      "           a  b  c\n",
      "beijing    0  1  2\n",
      "shanghai   3  4  5\n",
      "guangzhou  6  7  8\n"
     ]
    }
   ],
   "source": [
    "# 修改 df1 的 index\n",
    "print(df1.index) # 可以打印出print的值，同时也可以为其赋值\n",
    "df1.index = ['beijing', 'shanghai', 'guangzhou']\n",
    "print(df1)"
   ]
  },
  {
   "cell_type": "code",
   "execution_count": 68,
   "metadata": {},
   "outputs": [
    {
     "name": "stdout",
     "output_type": "stream",
     "text": [
      "None\n",
      "               a_ABC  b_ABC  c_ABC\n",
      "beijing_ABC        0      1      2\n",
      "shanghai_ABC       3      4      5\n",
      "guangzhou_ABC      6      7      8\n"
     ]
    }
   ],
   "source": [
    "# ⾃定义map函数（x是原有的⾏列值） \n",
    "def test_map(x):\n",
    "    return x+'_ABC'\n",
    "\n",
    "print(df1.rename(index=test_map, columns=test_map, inplace=True))\n",
    "print(df1)\n",
    "# inplace：布尔值，默认为False。指定是否返回新的DataFrame。如果为True，则在原df上修改， 返回值为None。"
   ]
  },
  {
   "cell_type": "code",
   "execution_count": 69,
   "metadata": {},
   "outputs": [
    {
     "name": "stdout",
     "output_type": "stream",
     "text": [
      "               aa  b_ABC  c_ABC\n",
      "beijing         0      1      2\n",
      "shanghai_ABC    3      4      5\n",
      "guangzhou_ABC   6      7      8\n"
     ]
    }
   ],
   "source": [
    "# 同时，rename 还可以传⼊字典，为某个 index 单独修改名称\n",
    "df3 = df1.rename(index={'beijing_ABC':'beijing'}, columns = {'a_ABC':'aa'})\n",
    "print(df3)"
   ]
  },
  {
   "cell_type": "code",
   "execution_count": 77,
   "metadata": {},
   "outputs": [
    {
     "name": "stdout",
     "output_type": "stream",
     "text": [
      "   X  Y  S  Z\n",
      "0  0  0  a  1\n",
      "1  1  1  b  1\n",
      "2  2  2  c  2\n",
      "3  3  3  d  2\n",
      "4  4  4  e  2\n"
     ]
    }
   ],
   "source": [
    "# 列转化为索引\n",
    "df1=pd.DataFrame({'X':range(5),'Y':range(5),'S':list(\"abcde\"),'Z': [1,1,2,2,2]})\n",
    "print(df1)\n"
   ]
  },
  {
   "cell_type": "code",
   "execution_count": 78,
   "metadata": {},
   "outputs": [
    {
     "name": "stdout",
     "output_type": "stream",
     "text": [
      "   X  Y  S  Z\n",
      "a  0  0  a  1\n",
      "b  1  1  b  1\n",
      "c  2  2  c  2\n",
      "d  3  3  d  2\n",
      "e  4  4  e  2\n"
     ]
    }
   ],
   "source": [
    "# 指定⼀列为索引 (drop=False 指定同时保留作为索引的列) \n",
    "result = df1.set_index('S',drop=False)\n",
    "result.index.name=None\n",
    "print(result)"
   ]
  },
  {
   "cell_type": "code",
   "execution_count": 79,
   "metadata": {},
   "outputs": [
    {
     "name": "stdout",
     "output_type": "stream",
     "text": [
      "   0  0  a  1\n",
      "0  0  0  a  1\n",
      "1  1  1  b  1\n",
      "2  2  2  c  2\n",
      "3  3  3  d  2\n",
      "4  4  4  e  2\n"
     ]
    },
    {
     "name": "stderr",
     "output_type": "stream",
     "text": [
      "/var/folders/h4/7cr1cmpn7v5b3x20_9wz8m740000gn/T/ipykernel_50251/104749159.py:2: FutureWarning: DataFrame.set_axis 'inplace' keyword is deprecated and will be removed in a future version. Use `obj = obj.set_axis(..., copy=False)` instead\n",
      "  result = df1.set_axis(df1.iloc[0],axis=1,inplace=False)\n"
     ]
    }
   ],
   "source": [
    "# ⾏转为列索引\n",
    "result = df1.set_axis(df1.iloc[0],axis=1,inplace=False)\n",
    "result.columns.name=None\n",
    "print(result)"
   ]
  },
  {
   "cell_type": "code",
   "execution_count": 99,
   "metadata": {},
   "outputs": [
    {
     "name": "stdout",
     "output_type": "stream",
     "text": [
      "     name gender  age\n",
      "0    Snow      M   22\n",
      "1  Tyrion      M   32\n",
      "2   Sansa      F   18\n",
      "3    Arya      F   14\n"
     ]
    }
   ],
   "source": [
    "# 增加数据\n",
    "df1 = pd.DataFrame([['Snow','M',22],['Tyrion','M',32],['Sansa','F',18], ['Arya','F',14]],columns=['name','gender','age'])\n",
    "print(df1)"
   ]
  },
  {
   "cell_type": "code",
   "execution_count": 100,
   "metadata": {},
   "outputs": [
    {
     "name": "stdout",
     "output_type": "stream",
     "text": [
      "     name gender  age  score\n",
      "0    Snow      M   22     80\n",
      "1  Tyrion      M   32     98\n",
      "2   Sansa      F   18     67\n",
      "3    Arya      F   14     90\n"
     ]
    }
   ],
   "source": [
    "# 在数据框最后加上score⼀列\n",
    "df1['score']=[80,98,67,90] \n",
    "print(df1)"
   ]
  },
  {
   "cell_type": "code",
   "execution_count": 101,
   "metadata": {},
   "outputs": [
    {
     "name": "stdout",
     "output_type": "stream",
     "text": [
      "['name', 'gender', 'age', 'score']\n",
      "['name', 'gender', 'city', 'age', 'score']\n"
     ]
    }
   ],
   "source": [
    "# 将数据框的列名全部提取出来存放在列表⾥\n",
    "col_name=df1.columns.tolist() \n",
    "print(col_name)\n",
    "# 在列索引为2的位置插⼊⼀列,列名为:city，刚插⼊时不会有值，整列都是NaN\n",
    "col_name.insert(2,'city')\n",
    "print(col_name)"
   ]
  },
  {
   "cell_type": "code",
   "execution_count": 102,
   "metadata": {},
   "outputs": [
    {
     "name": "stdout",
     "output_type": "stream",
     "text": [
      "     name gender  city  age  score\n",
      "0    Snow      M   NaN   22     80\n",
      "1  Tyrion      M   NaN   32     98\n",
      "2   Sansa      F   NaN   18     67\n",
      "3    Arya      F   NaN   14     90\n"
     ]
    }
   ],
   "source": [
    "# DataFrame.reindex() 对原⾏/列索引重新构建索引值\n",
    "df1=df1.reindex(columns=col_name)\n",
    "print(df1)"
   ]
  },
  {
   "cell_type": "code",
   "execution_count": 103,
   "metadata": {},
   "outputs": [
    {
     "name": "stdout",
     "output_type": "stream",
     "text": [
      "     name gender city  age  score\n",
      "0    Snow      M  北京京   22     80\n",
      "1  Tyrion      M  ⼭⻄西   32     98\n",
      "2   Sansa      F  湖北北   18     67\n",
      "3    Arya      F  澳⻔门   14     90\n"
     ]
    },
    {
     "data": {
      "text/plain": [
       "'\\ndf.insert(iloc,column,value)\\niloc:要插⼊的位置\\ncolunm:列名\\nvalue:值\\n'"
      ]
     },
     "execution_count": 103,
     "metadata": {},
     "output_type": "execute_result"
    }
   ],
   "source": [
    "# 给city列赋值\n",
    "df1['city']=['北京京','⼭⻄西','湖北北','澳⻔门'] \n",
    "print(df1)\n",
    "\n",
    "# df中的insert,插⼊⼀列\n",
    "'''\n",
    "df.insert(iloc,column,value)\n",
    "iloc:要插⼊的位置\n",
    "colunm:列名\n",
    "value:值\n",
    "'''"
   ]
  },
  {
   "cell_type": "code",
   "execution_count": 104,
   "metadata": {},
   "outputs": [
    {
     "name": "stdout",
     "output_type": "stream",
     "text": [
      "     name gender  score2 city  age  score\n",
      "0    Snow      M      80  北京京   22     80\n",
      "1  Tyrion      M      98  ⼭⻄西   32     98\n",
      "2   Sansa      F      67  湖北北   18     67\n",
      "3    Arya      F      90  澳⻔门   14     90\n"
     ]
    }
   ],
   "source": [
    "df1.insert(2,'score2',[80,98,67,90]) \n",
    "print(df1)"
   ]
  },
  {
   "cell_type": "code",
   "execution_count": 105,
   "metadata": {},
   "outputs": [
    {
     "name": "stdout",
     "output_type": "stream",
     "text": [
      "    name gender score2 city  age score\n",
      "0   Snow      M     80  北京京   22    80\n",
      "1    111    222    333  444  555   666\n",
      "2  Sansa      F     67  湖北北   18    67\n",
      "3   Arya      F     90  澳⻔门   14    90\n"
     ]
    }
   ],
   "source": [
    "# 插⼊⼀⾏\n",
    "row=['111','222','333','444','555','666'] \n",
    "df1.iloc[1]=row\n",
    "print(df1)"
   ]
  },
  {
   "cell_type": "code",
   "execution_count": 106,
   "metadata": {},
   "outputs": [
    {
     "name": "stdout",
     "output_type": "stream",
     "text": [
      "     name gender  age\n",
      "0    Snow      M   22\n",
      "1  Tyrion      M   32\n",
      "2   Sansa      F   18\n",
      "3    Arya      F   14\n"
     ]
    }
   ],
   "source": [
    "# 增加数据\n",
    "df1 = pd.DataFrame([['Snow','M',22],['Tyrion','M',32],['Sansa','F',18],['Arya','F',14]],columns=['name','gender','age'])\n",
    "print(df1)\n"
   ]
  },
  {
   "cell_type": "code",
   "execution_count": 108,
   "metadata": {},
   "outputs": [
    {
     "name": "stdout",
     "output_type": "stream",
     "text": [
      "   name gender  age\n",
      "0  lisa      F   19\n"
     ]
    }
   ],
   "source": [
    "# 先创建⼀个DataFrame，⽤来增加进数据框的最后⼀⾏\n",
    "new=pd.DataFrame({'name':'lisa','gender':'F','age':19},index=[0])\n",
    "print(new)"
   ]
  },
  {
   "cell_type": "code",
   "execution_count": 109,
   "metadata": {},
   "outputs": [
    {
     "name": "stdout",
     "output_type": "stream",
     "text": [
      "     name gender  age\n",
      "0    Snow      M   22\n",
      "1  Tyrion      M   32\n",
      "2   Sansa      F   18\n",
      "3    Arya      F   14\n",
      "4    lisa      F   19\n"
     ]
    },
    {
     "name": "stderr",
     "output_type": "stream",
     "text": [
      "/var/folders/h4/7cr1cmpn7v5b3x20_9wz8m740000gn/T/ipykernel_50251/637223540.py:3: FutureWarning: The frame.append method is deprecated and will be removed from pandas in a future version. Use pandas.concat instead.\n",
      "  df1=df1.append(new,ignore_index=True)\n"
     ]
    }
   ],
   "source": [
    "# 在原数据框df1最后⼀⾏新增⼀⾏，⽤append⽅法\n",
    "# ignore_index=False,表示不按原来的索引， 从0开始⾃动递增\n",
    "df1=df1.append(new,ignore_index=True) \n",
    "print(df1)"
   ]
  },
  {
   "cell_type": "code",
   "execution_count": 111,
   "metadata": {},
   "outputs": [
    {
     "name": "stdout",
     "output_type": "stream",
     "text": [
      "   four  five\n",
      "0     0     1\n",
      "1     2     3\n",
      "2     4     5\n",
      "   one  two  three\n",
      "0    0    1      2\n",
      "1    3    4      5\n"
     ]
    }
   ],
   "source": [
    "# 合并\n",
    "'''\n",
    "objs:合并对象\n",
    "axis:合并⽅式，默认0表示按列合并，1表示按⾏合并 \n",
    "ignore_index:是否忽略索引\n",
    "'''\n",
    "df1 = pd.DataFrame(np.arange(6).reshape(3,2),columns=['four','five'])\n",
    "df2 = pd.DataFrame(np.arange(6).reshape(2,3),columns=['one','two','three'])\n",
    "print(df1)\n",
    "print(df2)"
   ]
  },
  {
   "cell_type": "code",
   "execution_count": 112,
   "metadata": {},
   "outputs": [
    {
     "name": "stdout",
     "output_type": "stream",
     "text": [
      "   four  five  one  two  three\n",
      "0     0     1  0.0  1.0    2.0\n",
      "1     2     3  3.0  4.0    5.0\n",
      "2     4     5  NaN  NaN    NaN\n"
     ]
    }
   ],
   "source": [
    "# # 按⾏合并\n",
    "result = pd.concat([df1,df2],axis=1)\n",
    "print(result)"
   ]
  },
  {
   "cell_type": "code",
   "execution_count": 113,
   "metadata": {},
   "outputs": [
    {
     "name": "stdout",
     "output_type": "stream",
     "text": [
      "   four  five  one  two  three\n",
      "0   0.0   1.0  NaN  NaN    NaN\n",
      "1   2.0   3.0  NaN  NaN    NaN\n",
      "2   4.0   5.0  NaN  NaN    NaN\n",
      "3   NaN   NaN  0.0  1.0    2.0\n",
      "4   NaN   NaN  3.0  4.0    5.0\n"
     ]
    }
   ],
   "source": [
    "# # 按列合并\n",
    "result = pd.concat([df1,df2],axis=0,ignore_index=True) \n",
    "print(result)\n"
   ]
  },
  {
   "cell_type": "code",
   "execution_count": 118,
   "metadata": {},
   "outputs": [
    {
     "name": "stdout",
     "output_type": "stream",
     "text": [
      "   one  two  three\n",
      "0    0    1      2\n",
      "1    3    4      5\n",
      "2    6    7      8\n"
     ]
    }
   ],
   "source": [
    "# DataFrame的删除\n",
    "'''\n",
    "lables：要删除数据的标签\n",
    "axis：0表示删除⾏，1表示删除列，默认0 inplace:是否在当前df中执⾏此操作 \n",
    "'''\n",
    "df2 = pd.DataFrame(np.arange(9).reshape(3,3),columns=['one','two','three'])\n",
    "print(df2)"
   ]
  },
  {
   "cell_type": "code",
   "execution_count": 117,
   "metadata": {},
   "outputs": [
    {
     "name": "stdout",
     "output_type": "stream",
     "text": [
      "   two  three\n",
      "0    1      2\n",
      "1    4      5\n",
      "2    7      8\n",
      "None\n"
     ]
    }
   ],
   "source": [
    "df3=df2.drop(['one'],axis=1, inplace=True)\n",
    "print(df2)\n",
    "print(df3)"
   ]
  },
  {
   "cell_type": "code",
   "execution_count": 119,
   "metadata": {},
   "outputs": [
    {
     "name": "stdout",
     "output_type": "stream",
     "text": [
      "   one  two  three\n",
      "0    0    1      2\n",
      "1    3    4      5\n",
      "2    6    7      8\n",
      "   one  two  three\n",
      "2    6    7      8\n"
     ]
    }
   ],
   "source": [
    "df3=df2.drop([0,1],axis=0, inplace=False)\n",
    "print(df2)\n",
    "print(df3)"
   ]
  },
  {
   "cell_type": "markdown",
   "metadata": {},
   "source": [
    "## 数据处理"
   ]
  },
  {
   "cell_type": "code",
   "execution_count": 120,
   "metadata": {},
   "outputs": [
    {
     "name": "stdout",
     "output_type": "stream",
     "text": [
      "0    4.0\n",
      "1    NaN\n",
      "2    8.0\n",
      "3    NaN\n",
      "4    5.0\n",
      "dtype: float64\n"
     ]
    }
   ],
   "source": [
    "from numpy import nan as NaN \n",
    "# 通过**dropna()**滤除缺失数据： \n",
    "se=pd.Series([4,NaN,8,NaN,5]) \n",
    "print(se)"
   ]
  },
  {
   "cell_type": "code",
   "execution_count": 122,
   "metadata": {},
   "outputs": [
    {
     "name": "stdout",
     "output_type": "stream",
     "text": [
      "0    4.0\n",
      "2    8.0\n",
      "4    5.0\n",
      "dtype: float64\n",
      "0     True\n",
      "1    False\n",
      "2     True\n",
      "3    False\n",
      "4     True\n",
      "dtype: bool\n",
      "0    False\n",
      "1     True\n",
      "2    False\n",
      "3     True\n",
      "4    False\n",
      "dtype: bool\n"
     ]
    }
   ],
   "source": [
    "print(se.dropna())\n",
    "print(se.notnull())\n",
    "print(se.isnull())"
   ]
  },
  {
   "cell_type": "code",
   "execution_count": 124,
   "metadata": {},
   "outputs": [
    {
     "name": "stdout",
     "output_type": "stream",
     "text": [
      "0    4.0\n",
      "2    8.0\n",
      "4    5.0\n",
      "dtype: float64\n"
     ]
    }
   ],
   "source": [
    "# 通过布尔序列也能滤除：\n",
    "print(se[se.notnull()])"
   ]
  },
  {
   "cell_type": "code",
   "execution_count": 125,
   "metadata": {},
   "outputs": [
    {
     "name": "stdout",
     "output_type": "stream",
     "text": [
      "     0    1    2\n",
      "0  1.0  2.0  3.0\n",
      "1  NaN  NaN  2.0\n",
      "2  NaN  NaN  NaN\n",
      "3  8.0  8.0  NaN\n"
     ]
    }
   ],
   "source": [
    "# 2.2 处理DataFrame对象\n",
    "df1=pd.DataFrame([[1,2,3],[NaN,NaN,2],[NaN,NaN,NaN],[8,8,NaN]]) \n",
    "print(df1)"
   ]
  },
  {
   "cell_type": "code",
   "execution_count": 126,
   "metadata": {},
   "outputs": [
    {
     "name": "stdout",
     "output_type": "stream",
     "text": [
      "     0    1    2\n",
      "0  1.0  2.0  3.0\n"
     ]
    }
   ],
   "source": [
    "# 默认滤除所有包含NaN：\n",
    "print(df1.dropna())"
   ]
  },
  {
   "cell_type": "code",
   "execution_count": 127,
   "metadata": {},
   "outputs": [
    {
     "name": "stdout",
     "output_type": "stream",
     "text": [
      "     0    1    2\n",
      "0  1.0  2.0  3.0\n",
      "1  NaN  NaN  2.0\n",
      "3  8.0  8.0  NaN\n"
     ]
    }
   ],
   "source": [
    "# 传⼊how=‘all’滤除全为NaN的⾏：\n",
    "print(df1.dropna(how='all')) "
   ]
  },
  {
   "cell_type": "code",
   "execution_count": 130,
   "metadata": {},
   "outputs": [
    {
     "name": "stdout",
     "output_type": "stream",
     "text": [
      "     0    1    2\n",
      "0  1.0  2.0  3.0\n",
      "1  NaN  NaN  2.0\n",
      "2  NaN  NaN  NaN\n",
      "3  8.0  8.0  NaN\n"
     ]
    }
   ],
   "source": [
    "# 默认情况下是how='any'，只要有nan就删除\n",
    "# 传⼊axis=1滤除列：\n",
    "print(df1.dropna(axis=1,how=\"all\"))"
   ]
  },
  {
   "cell_type": "code",
   "execution_count": 132,
   "metadata": {},
   "outputs": [
    {
     "name": "stdout",
     "output_type": "stream",
     "text": [
      "     0    1    2\n",
      "0  1.0  2.0  3.0\n",
      "3  8.0  8.0  NaN\n"
     ]
    }
   ],
   "source": [
    "#传⼊thresh=n保留⾄少有n个⾮NaN数据的⾏： \n",
    "print(df1.dropna(thresh=2))"
   ]
  },
  {
   "cell_type": "code",
   "execution_count": 133,
   "metadata": {},
   "outputs": [
    {
     "name": "stdout",
     "output_type": "stream",
     "text": [
      "     0    1    2\n",
      "0  1.0  2.0  3.0\n",
      "1  NaN  NaN  2.0\n",
      "2  NaN  NaN  NaN\n",
      "3  8.0  8.0  NaN\n"
     ]
    }
   ],
   "source": [
    "# 2.3 填充缺失数据\n",
    "df1=pd.DataFrame([[1,2,3],[NaN,NaN,2],[NaN,NaN,NaN],[8,8,NaN]]) \n",
    "print(df1)"
   ]
  },
  {
   "cell_type": "code",
   "execution_count": 144,
   "metadata": {},
   "outputs": [
    {
     "name": "stdout",
     "output_type": "stream",
     "text": [
      "     0    1    2\n",
      "0  1.0  2.0  3.0\n",
      "1  0.0  0.0  2.0\n",
      "2  0.0  0.0  0.0\n",
      "3  8.0  8.0  0.0\n"
     ]
    }
   ],
   "source": [
    "# ⽤常数填充fillna\n",
    "df1=pd.DataFrame([[1,2,3],[NaN,NaN,2],[NaN,NaN,NaN],[8,8,NaN]]) \n",
    "print(df1.fillna(0))"
   ]
  },
  {
   "cell_type": "code",
   "execution_count": 145,
   "metadata": {},
   "outputs": [
    {
     "name": "stdout",
     "output_type": "stream",
     "text": [
      "     0    1    2\n",
      "0  1.0  2.0  3.0\n",
      "1  0.0  0.0  2.0\n",
      "2  0.0  0.0  0.0\n",
      "3  8.0  8.0  0.0\n"
     ]
    }
   ],
   "source": [
    "# 传⼊inplace=True直接修改原对象： \n",
    "df1=pd.DataFrame([[1,2,3],[NaN,NaN,2],[NaN,NaN,NaN],[8,8,NaN]]) \n",
    "df1.fillna(0,inplace=True) \n",
    "print(df1)"
   ]
  },
  {
   "cell_type": "code",
   "execution_count": 146,
   "metadata": {},
   "outputs": [
    {
     "name": "stdout",
     "output_type": "stream",
     "text": [
      "      0     1     2\n",
      "0   1.0   2.0   3.0\n",
      "1  10.0  20.0   2.0\n",
      "2  10.0  20.0  30.0\n",
      "3   8.0   8.0  30.0\n"
     ]
    }
   ],
   "source": [
    "# 通过字典填充不同的常数\n",
    "df1=pd.DataFrame([[1,2,3],[NaN,NaN,2],[NaN,NaN,NaN],[8,8,NaN]]) \n",
    "print(df1.fillna({0:10,1:20,2:30}))"
   ]
  },
  {
   "cell_type": "code",
   "execution_count": 147,
   "metadata": {},
   "outputs": [
    {
     "name": "stdout",
     "output_type": "stream",
     "text": [
      "     0    1    2\n",
      "0  1.0  2.0  3.0\n",
      "1  4.5  5.0  2.0\n",
      "2  4.5  5.0  2.5\n",
      "3  8.0  8.0  2.5\n"
     ]
    }
   ],
   "source": [
    "# 填充平均值\n",
    "df1=pd.DataFrame([[1,2,3],[NaN,NaN,2],[NaN,NaN,NaN],[8,8,NaN]]) \n",
    "print(df1.fillna(df1.mean()))"
   ]
  },
  {
   "cell_type": "code",
   "execution_count": 148,
   "metadata": {},
   "outputs": [
    {
     "name": "stdout",
     "output_type": "stream",
     "text": [
      "None\n",
      "     0    1    2\n",
      "0  1.0  2.0  3.0\n",
      "1  NaN  5.0  2.0\n",
      "2  NaN  5.0  NaN\n",
      "3  8.0  8.0  NaN\n"
     ]
    }
   ],
   "source": [
    "# 如果只填充⼀列\n",
    "df1=pd.DataFrame([[1,2,3],[NaN,NaN,2],[NaN,NaN,NaN],[8,8,NaN]]) \n",
    "print(df1.iloc[:,1].fillna(5,inplace = True)) \n",
    "print(df1)"
   ]
  },
  {
   "cell_type": "code",
   "execution_count": 153,
   "metadata": {},
   "outputs": [
    {
     "name": "stdout",
     "output_type": "stream",
     "text": [
      "   0  1  2    3    4\n",
      "0  3  6  3  8.0  9.0\n",
      "1  2  3  4  NaN  9.0\n",
      "2  8  9  8  NaN  NaN\n",
      "3  4  6  3  NaN  NaN\n",
      "4  1  9  3  0.0  3.0\n"
     ]
    }
   ],
   "source": [
    "# 传⼊method=” “改变插值⽅式：\n",
    "df2=pd.DataFrame(np.random.randint(0,10,(5,5))) \n",
    "df2.iloc[1:4,3]=NaN\n",
    "df2.iloc[2:4,4]=NaN\n",
    "print(df2)\n"
   ]
  },
  {
   "cell_type": "code",
   "execution_count": 157,
   "metadata": {},
   "outputs": [
    {
     "name": "stdout",
     "output_type": "stream",
     "text": [
      "   0  1  2    3    4\n",
      "0  6  1  5  9.0  1.0\n",
      "1  4  3  1  9.0  3.0\n",
      "2  6  5  2  9.0  3.0\n",
      "3  9  7  5  9.0  3.0\n",
      "4  2  6  5  8.0  3.0\n"
     ]
    }
   ],
   "source": [
    "#⽤前⾯的值来填充ffill ⽤后⾯的值来填充bfill\n",
    "df2=pd.DataFrame(np.random.randint(0,10,(5,5))) \n",
    "df2.iloc[1:4,3]=NaN\n",
    "df2.iloc[2:4,4]=NaN\n",
    "print(df2.fillna(method='ffill'))"
   ]
  },
  {
   "cell_type": "code",
   "execution_count": 158,
   "metadata": {},
   "outputs": [
    {
     "name": "stdout",
     "output_type": "stream",
     "text": [
      "   0  1  2    3    4\n",
      "0  7  1  8  0.0  0.0\n",
      "1  6  8  4  NaN  5.0\n",
      "2  6  2  5  NaN  NaN\n",
      "3  4  8  0  1.0  3.0\n",
      "4  8  0  2  1.0  3.0\n"
     ]
    }
   ],
   "source": [
    "# 传⼊limit=” “限制填充⾏数：\n",
    "df2=pd.DataFrame(np.random.randint(0,10,(5,5))) \n",
    "df2.iloc[1:4,3]=NaN\n",
    "df2.iloc[2:4,4]=NaN\n",
    "print(df2.fillna(method='bfill',limit=1))"
   ]
  },
  {
   "cell_type": "code",
   "execution_count": 159,
   "metadata": {},
   "outputs": [
    {
     "name": "stdout",
     "output_type": "stream",
     "text": [
      "     0    1    2    3    4\n",
      "0  0.0  8.0  9.0  4.0  7.0\n",
      "1  2.0  8.0  0.0  0.0  9.0\n",
      "2  1.0  8.0  5.0  5.0  NaN\n",
      "3  0.0  0.0  3.0  3.0  NaN\n",
      "4  2.0  9.0  4.0  6.0  3.0\n"
     ]
    }
   ],
   "source": [
    "# 传⼊axis=” “修改填充⽅向：\n",
    "df2=pd.DataFrame(np.random.randint(0,10,(5,5))) \n",
    "df2.iloc[1:4,3]=NaN\n",
    "df2.iloc[2:4,4]=NaN\n",
    "print(df2.fillna(method=\"ffill\",limit=1,axis=1))"
   ]
  },
  {
   "cell_type": "code",
   "execution_count": 160,
   "metadata": {},
   "outputs": [
    {
     "name": "stdout",
     "output_type": "stream",
     "text": [
      "   A  B\n",
      "0  1  a\n",
      "1  1  a\n",
      "2  1  b\n",
      "3  2  b\n",
      "4  2  b\n",
      "5  3  c\n",
      "6  1  a\n"
     ]
    }
   ],
   "source": [
    "#  移除重复数据\n",
    "df1=pd.DataFrame({'A':[1,1,1,2,2,3,1],'B':list(\"aabbbca\")})\n",
    "print(df1)\n"
   ]
  },
  {
   "cell_type": "code",
   "execution_count": 161,
   "metadata": {},
   "outputs": [
    {
     "name": "stdout",
     "output_type": "stream",
     "text": [
      "0    False\n",
      "1     True\n",
      "2    False\n",
      "3    False\n",
      "4     True\n",
      "5    False\n",
      "6     True\n",
      "dtype: bool\n"
     ]
    }
   ],
   "source": [
    "# 判断每⼀⾏是否重复(结果是bool值，TRUE代表重复的) \n",
    "print(df1.duplicated())"
   ]
  },
  {
   "cell_type": "code",
   "execution_count": 162,
   "metadata": {},
   "outputs": [
    {
     "name": "stdout",
     "output_type": "stream",
     "text": [
      "   A  B\n",
      "0  1  a\n",
      "2  1  b\n",
      "3  2  b\n",
      "5  3  c\n"
     ]
    }
   ],
   "source": [
    "# 去除全部的重复⾏\n",
    "print(df1.drop_duplicates())"
   ]
  },
  {
   "cell_type": "code",
   "execution_count": 165,
   "metadata": {},
   "outputs": [
    {
     "name": "stdout",
     "output_type": "stream",
     "text": [
      "   A  B\n",
      "0  1  a\n",
      "3  2  b\n",
      "5  3  c\n"
     ]
    }
   ],
   "source": [
    "# 指定列去除重复⾏\n",
    "df1=pd.DataFrame({'A':[1,1,1,2,2,3,1],'B':list(\"aabbbca\")})\n",
    "print(df1.drop_duplicates(['A']))"
   ]
  },
  {
   "cell_type": "code",
   "execution_count": 167,
   "metadata": {},
   "outputs": [
    {
     "name": "stdout",
     "output_type": "stream",
     "text": [
      "   A  B\n",
      "4  2  b\n",
      "5  3  c\n",
      "6  1  a\n"
     ]
    }
   ],
   "source": [
    "# 保留重复⾏中的最后⼀⾏\n",
    "df1=pd.DataFrame({'A':[1,1,1,2,2,3,1],'B':list(\"aabbbca\")})\n",
    "print(df1.drop_duplicates(['A'],keep='last'))"
   ]
  },
  {
   "cell_type": "code",
   "execution_count": 168,
   "metadata": {},
   "outputs": [
    {
     "name": "stdout",
     "output_type": "stream",
     "text": [
      "   A  B\n",
      "0  1  a\n",
      "2  1  b\n",
      "3  2  b\n",
      "5  3  c\n"
     ]
    }
   ],
   "source": [
    "# 去除重复的同时改变DataFrame对象\n",
    "df1=pd.DataFrame({'A':[1,1,1,2,2,3,1],'B':list(\"aabbbca\")})\n",
    "df1.drop_duplicates(['A','B'],inplace=True) \n",
    "print(df1)"
   ]
  },
  {
   "cell_type": "code",
   "execution_count": 169,
   "metadata": {},
   "outputs": [
    {
     "name": "stdout",
     "output_type": "stream",
     "text": [
      "   Red  Green\n",
      "a    1      5\n",
      "b    3      0\n",
      "c    5      3\n",
      "   Blue  Yellow\n",
      "c     1       6\n",
      "d     9       6\n",
      "e     8       7\n"
     ]
    }
   ],
   "source": [
    "import pandas as pd\n",
    "df3=pd.DataFrame({'Red':[1,3,5],'Green':[5,0,3]},index=list('abc'))\n",
    "df4=pd.DataFrame({'Blue':[1,9,8],'Yellow':[6,6,7]},index=list('cde')) \n",
    "print(df3)\n",
    "print(df4)"
   ]
  },
  {
   "cell_type": "code",
   "execution_count": 170,
   "metadata": {},
   "outputs": [
    {
     "data": {
      "text/html": [
       "<div>\n",
       "<style scoped>\n",
       "    .dataframe tbody tr th:only-of-type {\n",
       "        vertical-align: middle;\n",
       "    }\n",
       "\n",
       "    .dataframe tbody tr th {\n",
       "        vertical-align: top;\n",
       "    }\n",
       "\n",
       "    .dataframe thead th {\n",
       "        text-align: right;\n",
       "    }\n",
       "</style>\n",
       "<table border=\"1\" class=\"dataframe\">\n",
       "  <thead>\n",
       "    <tr style=\"text-align: right;\">\n",
       "      <th></th>\n",
       "      <th>Red</th>\n",
       "      <th>Green</th>\n",
       "      <th>Blue</th>\n",
       "      <th>Yellow</th>\n",
       "    </tr>\n",
       "  </thead>\n",
       "  <tbody>\n",
       "    <tr>\n",
       "      <th>a</th>\n",
       "      <td>1</td>\n",
       "      <td>5</td>\n",
       "      <td>NaN</td>\n",
       "      <td>NaN</td>\n",
       "    </tr>\n",
       "    <tr>\n",
       "      <th>b</th>\n",
       "      <td>3</td>\n",
       "      <td>0</td>\n",
       "      <td>NaN</td>\n",
       "      <td>NaN</td>\n",
       "    </tr>\n",
       "    <tr>\n",
       "      <th>c</th>\n",
       "      <td>5</td>\n",
       "      <td>3</td>\n",
       "      <td>1.0</td>\n",
       "      <td>6.0</td>\n",
       "    </tr>\n",
       "  </tbody>\n",
       "</table>\n",
       "</div>"
      ],
      "text/plain": [
       "   Red  Green  Blue  Yellow\n",
       "a    1      5   NaN     NaN\n",
       "b    3      0   NaN     NaN\n",
       "c    5      3   1.0     6.0"
      ]
     },
     "execution_count": 170,
     "metadata": {},
     "output_type": "execute_result"
    }
   ],
   "source": [
    "# 简单合并（默认是left左连接,以左侧df3为基础） \n",
    "df3.join(df4,how='left')"
   ]
  },
  {
   "cell_type": "code",
   "execution_count": 174,
   "metadata": {},
   "outputs": [
    {
     "data": {
      "text/html": [
       "<div>\n",
       "<style scoped>\n",
       "    .dataframe tbody tr th:only-of-type {\n",
       "        vertical-align: middle;\n",
       "    }\n",
       "\n",
       "    .dataframe tbody tr th {\n",
       "        vertical-align: top;\n",
       "    }\n",
       "\n",
       "    .dataframe thead th {\n",
       "        text-align: right;\n",
       "    }\n",
       "</style>\n",
       "<table border=\"1\" class=\"dataframe\">\n",
       "  <thead>\n",
       "    <tr style=\"text-align: right;\">\n",
       "      <th></th>\n",
       "      <th>Red</th>\n",
       "      <th>Green</th>\n",
       "      <th>Blue</th>\n",
       "      <th>Yellow</th>\n",
       "    </tr>\n",
       "  </thead>\n",
       "  <tbody>\n",
       "    <tr>\n",
       "      <th>c</th>\n",
       "      <td>5.0</td>\n",
       "      <td>3.0</td>\n",
       "      <td>1</td>\n",
       "      <td>6</td>\n",
       "    </tr>\n",
       "    <tr>\n",
       "      <th>d</th>\n",
       "      <td>NaN</td>\n",
       "      <td>NaN</td>\n",
       "      <td>9</td>\n",
       "      <td>6</td>\n",
       "    </tr>\n",
       "    <tr>\n",
       "      <th>e</th>\n",
       "      <td>NaN</td>\n",
       "      <td>NaN</td>\n",
       "      <td>8</td>\n",
       "      <td>7</td>\n",
       "    </tr>\n",
       "  </tbody>\n",
       "</table>\n",
       "</div>"
      ],
      "text/plain": [
       "   Red  Green  Blue  Yellow\n",
       "c  5.0    3.0     1       6\n",
       "d  NaN    NaN     9       6\n",
       "e  NaN    NaN     8       7"
      ]
     },
     "execution_count": 174,
     "metadata": {},
     "output_type": "execute_result"
    }
   ],
   "source": [
    "# 右链接\n",
    "df3=pd.DataFrame({'Red':[1,3,5],'Green':[5,0,3]},index=list('abc'))\n",
    "df4=pd.DataFrame({'Blue':[1,9,8],'Yellow':[6,6,7]},index=list('cde')) \n",
    "df3.join(df4,how='right')"
   ]
  },
  {
   "cell_type": "code",
   "execution_count": 172,
   "metadata": {},
   "outputs": [
    {
     "data": {
      "text/html": [
       "<div>\n",
       "<style scoped>\n",
       "    .dataframe tbody tr th:only-of-type {\n",
       "        vertical-align: middle;\n",
       "    }\n",
       "\n",
       "    .dataframe tbody tr th {\n",
       "        vertical-align: top;\n",
       "    }\n",
       "\n",
       "    .dataframe thead th {\n",
       "        text-align: right;\n",
       "    }\n",
       "</style>\n",
       "<table border=\"1\" class=\"dataframe\">\n",
       "  <thead>\n",
       "    <tr style=\"text-align: right;\">\n",
       "      <th></th>\n",
       "      <th>Red</th>\n",
       "      <th>Green</th>\n",
       "      <th>Blue</th>\n",
       "      <th>Yellow</th>\n",
       "    </tr>\n",
       "  </thead>\n",
       "  <tbody>\n",
       "    <tr>\n",
       "      <th>a</th>\n",
       "      <td>1.0</td>\n",
       "      <td>5.0</td>\n",
       "      <td>NaN</td>\n",
       "      <td>NaN</td>\n",
       "    </tr>\n",
       "    <tr>\n",
       "      <th>b</th>\n",
       "      <td>3.0</td>\n",
       "      <td>0.0</td>\n",
       "      <td>NaN</td>\n",
       "      <td>NaN</td>\n",
       "    </tr>\n",
       "    <tr>\n",
       "      <th>c</th>\n",
       "      <td>5.0</td>\n",
       "      <td>3.0</td>\n",
       "      <td>1.0</td>\n",
       "      <td>6.0</td>\n",
       "    </tr>\n",
       "    <tr>\n",
       "      <th>d</th>\n",
       "      <td>NaN</td>\n",
       "      <td>NaN</td>\n",
       "      <td>9.0</td>\n",
       "      <td>6.0</td>\n",
       "    </tr>\n",
       "    <tr>\n",
       "      <th>e</th>\n",
       "      <td>NaN</td>\n",
       "      <td>NaN</td>\n",
       "      <td>8.0</td>\n",
       "      <td>7.0</td>\n",
       "    </tr>\n",
       "  </tbody>\n",
       "</table>\n",
       "</div>"
      ],
      "text/plain": [
       "   Red  Green  Blue  Yellow\n",
       "a  1.0    5.0   NaN     NaN\n",
       "b  3.0    0.0   NaN     NaN\n",
       "c  5.0    3.0   1.0     6.0\n",
       "d  NaN    NaN   9.0     6.0\n",
       "e  NaN    NaN   8.0     7.0"
      ]
     },
     "execution_count": 172,
     "metadata": {},
     "output_type": "execute_result"
    }
   ],
   "source": [
    "# 外链接\n",
    "df3=pd.DataFrame({'Red':[1,3,5],'Green':[5,0,3]},index=list('abc'))\n",
    "df4=pd.DataFrame({'Blue':[1,9,8],'Yellow':[6,6,7]},index=list('cde')) \n",
    "df3.join(df4,how='outer')"
   ]
  },
  {
   "cell_type": "code",
   "execution_count": 173,
   "metadata": {},
   "outputs": [
    {
     "data": {
      "text/html": [
       "<div>\n",
       "<style scoped>\n",
       "    .dataframe tbody tr th:only-of-type {\n",
       "        vertical-align: middle;\n",
       "    }\n",
       "\n",
       "    .dataframe tbody tr th {\n",
       "        vertical-align: top;\n",
       "    }\n",
       "\n",
       "    .dataframe thead th {\n",
       "        text-align: right;\n",
       "    }\n",
       "</style>\n",
       "<table border=\"1\" class=\"dataframe\">\n",
       "  <thead>\n",
       "    <tr style=\"text-align: right;\">\n",
       "      <th></th>\n",
       "      <th>Red</th>\n",
       "      <th>Green</th>\n",
       "      <th>Blue</th>\n",
       "      <th>Yellow</th>\n",
       "      <th>Brown</th>\n",
       "      <th>White</th>\n",
       "    </tr>\n",
       "  </thead>\n",
       "  <tbody>\n",
       "    <tr>\n",
       "      <th>a</th>\n",
       "      <td>1.0</td>\n",
       "      <td>5.0</td>\n",
       "      <td>NaN</td>\n",
       "      <td>NaN</td>\n",
       "      <td>3.0</td>\n",
       "      <td>1.0</td>\n",
       "    </tr>\n",
       "    <tr>\n",
       "      <th>b</th>\n",
       "      <td>3.0</td>\n",
       "      <td>0.0</td>\n",
       "      <td>NaN</td>\n",
       "      <td>NaN</td>\n",
       "      <td>NaN</td>\n",
       "      <td>NaN</td>\n",
       "    </tr>\n",
       "    <tr>\n",
       "      <th>c</th>\n",
       "      <td>5.0</td>\n",
       "      <td>3.0</td>\n",
       "      <td>1.0</td>\n",
       "      <td>6.0</td>\n",
       "      <td>NaN</td>\n",
       "      <td>NaN</td>\n",
       "    </tr>\n",
       "  </tbody>\n",
       "</table>\n",
       "</div>"
      ],
      "text/plain": [
       "   Red  Green  Blue  Yellow  Brown  White\n",
       "a  1.0    5.0   NaN     NaN    3.0    1.0\n",
       "b  3.0    0.0   NaN     NaN    NaN    NaN\n",
       "c  5.0    3.0   1.0     6.0    NaN    NaN"
      ]
     },
     "execution_count": 173,
     "metadata": {},
     "output_type": "execute_result"
    }
   ],
   "source": [
    "# 合并多个DataFrame对象\n",
    "df3=pd.DataFrame({'Red':[1,3,5],'Green':[5,0,3]},index=list('abc'))\n",
    "df4=pd.DataFrame({'Blue':[1,9,8],'Yellow':[6,6,7]},index=list('cde')) \n",
    "df5=pd.DataFrame({'Brown':[3,4,5],'White':[1,1,2]},index=list('aed')) \n",
    "df3.join([df4,df5])"
   ]
  },
  {
   "cell_type": "code",
   "execution_count": 179,
   "metadata": {},
   "outputs": [
    {
     "data": {
      "text/html": [
       "<div>\n",
       "<style scoped>\n",
       "    .dataframe tbody tr th:only-of-type {\n",
       "        vertical-align: middle;\n",
       "    }\n",
       "\n",
       "    .dataframe tbody tr th {\n",
       "        vertical-align: top;\n",
       "    }\n",
       "\n",
       "    .dataframe thead th {\n",
       "        text-align: right;\n",
       "    }\n",
       "</style>\n",
       "<table border=\"1\" class=\"dataframe\">\n",
       "  <thead>\n",
       "    <tr style=\"text-align: right;\">\n",
       "      <th>学院⽼师</th>\n",
       "      <th>名字</th>\n",
       "      <th>性别</th>\n",
       "      <th>职称</th>\n",
       "    </tr>\n",
       "    <tr>\n",
       "      <th>编号</th>\n",
       "      <th></th>\n",
       "      <th></th>\n",
       "      <th></th>\n",
       "    </tr>\n",
       "  </thead>\n",
       "  <tbody>\n",
       "    <tr>\n",
       "      <th>1001</th>\n",
       "      <td>A</td>\n",
       "      <td>男</td>\n",
       "      <td>副教授</td>\n",
       "    </tr>\n",
       "    <tr>\n",
       "      <th>1002</th>\n",
       "      <td>B</td>\n",
       "      <td>⼥</td>\n",
       "      <td>讲师</td>\n",
       "    </tr>\n",
       "    <tr>\n",
       "      <th>1003</th>\n",
       "      <td>C</td>\n",
       "      <td>男</td>\n",
       "      <td>助教</td>\n",
       "    </tr>\n",
       "    <tr>\n",
       "      <th>1004</th>\n",
       "      <td>D</td>\n",
       "      <td>男</td>\n",
       "      <td>教授</td>\n",
       "    </tr>\n",
       "    <tr>\n",
       "      <th>1005</th>\n",
       "      <td>E</td>\n",
       "      <td>⼥</td>\n",
       "      <td>助教</td>\n",
       "    </tr>\n",
       "  </tbody>\n",
       "</table>\n",
       "</div>"
      ],
      "text/plain": [
       "学院⽼师 名字 性别   职称\n",
       "编号             \n",
       "1001  A  男  副教授\n",
       "1002  B  ⼥   讲师\n",
       "1003  C  男   助教\n",
       "1004  D  男   教授\n",
       "1005  E  ⼥   助教"
      ]
     },
     "execution_count": 179,
     "metadata": {},
     "output_type": "execute_result"
    }
   ],
   "source": [
    "df1=pd.DataFrame({'名字':list('ABCDE'),'性别':['男','⼥','男','男','⼥'],'职称': ['副教授','讲师','助教','教授','助教']},index=range(1001,1006))\n",
    "df1.columns.name='学院⽼师'\n",
    "df1.index.name='编号'\n",
    "df1"
   ]
  },
  {
   "cell_type": "code",
   "execution_count": 185,
   "metadata": {},
   "outputs": [
    {
     "data": {
      "text/html": [
       "<div>\n",
       "<style scoped>\n",
       "    .dataframe tbody tr th:only-of-type {\n",
       "        vertical-align: middle;\n",
       "    }\n",
       "\n",
       "    .dataframe tbody tr th {\n",
       "        vertical-align: top;\n",
       "    }\n",
       "\n",
       "    .dataframe thead th {\n",
       "        text-align: right;\n",
       "    }\n",
       "</style>\n",
       "<table border=\"1\" class=\"dataframe\">\n",
       "  <thead>\n",
       "    <tr style=\"text-align: right;\">\n",
       "      <th>课程</th>\n",
       "      <th>名字</th>\n",
       "      <th>课程</th>\n",
       "      <th>职称</th>\n",
       "    </tr>\n",
       "    <tr>\n",
       "      <th>编号</th>\n",
       "      <th></th>\n",
       "      <th></th>\n",
       "      <th></th>\n",
       "    </tr>\n",
       "  </thead>\n",
       "  <tbody>\n",
       "    <tr>\n",
       "      <th>1001</th>\n",
       "      <td>A</td>\n",
       "      <td>C++</td>\n",
       "      <td>副教授</td>\n",
       "    </tr>\n",
       "    <tr>\n",
       "      <th>1002</th>\n",
       "      <td>B</td>\n",
       "      <td>计算机导论</td>\n",
       "      <td>讲师</td>\n",
       "    </tr>\n",
       "    <tr>\n",
       "      <th>1004</th>\n",
       "      <td>D</td>\n",
       "      <td>汇编</td>\n",
       "      <td>教授</td>\n",
       "    </tr>\n",
       "    <tr>\n",
       "      <th>1001</th>\n",
       "      <td>A</td>\n",
       "      <td>数据结构</td>\n",
       "      <td>副教授</td>\n",
       "    </tr>\n",
       "    <tr>\n",
       "      <th>3001</th>\n",
       "      <td>X</td>\n",
       "      <td>马克思原理</td>\n",
       "      <td>讲师</td>\n",
       "    </tr>\n",
       "  </tbody>\n",
       "</table>\n",
       "</div>"
      ],
      "text/plain": [
       "课程   名字     课程   职称\n",
       "编号                 \n",
       "1001  A    C++  副教授\n",
       "1002  B  计算机导论   讲师\n",
       "1004  D     汇编   教授\n",
       "1001  A   数据结构  副教授\n",
       "3001  X  马克思原理   讲师"
      ]
     },
     "execution_count": 185,
     "metadata": {},
     "output_type": "execute_result"
    }
   ],
   "source": [
    "df2=pd.DataFrame({'名字':list('ABDAX'),'课程':['C++','计算机导论','汇编','数据结构','马克思原理'],'职称':['副教授','讲师','教授','副教授','讲师']},index= [1001,1002,1004,1001,3001])\n",
    "df2.columns.name='课程'\n",
    "df2.index.name='编号'\n",
    "df2"
   ]
  },
  {
   "cell_type": "code",
   "execution_count": 186,
   "metadata": {},
   "outputs": [
    {
     "name": "stdout",
     "output_type": "stream",
     "text": [
      "  名字 性别   职称     课程\n",
      "0  A  男  副教授    C++\n",
      "1  A  男  副教授   数据结构\n",
      "2  B  ⼥   讲师  计算机导论\n",
      "3  D  男   教授     汇编\n"
     ]
    }
   ],
   "source": [
    "# 默认下是根据左右对象中出现同名的列作为连接的键，且连接⽅式是how=’inner’ \n",
    "print(pd.merge(df1,df2)) # 返回匹配的"
   ]
  },
  {
   "cell_type": "code",
   "execution_count": 187,
   "metadata": {},
   "outputs": [
    {
     "data": {
      "text/html": [
       "<div>\n",
       "<style scoped>\n",
       "    .dataframe tbody tr th:only-of-type {\n",
       "        vertical-align: middle;\n",
       "    }\n",
       "\n",
       "    .dataframe tbody tr th {\n",
       "        vertical-align: top;\n",
       "    }\n",
       "\n",
       "    .dataframe thead th {\n",
       "        text-align: right;\n",
       "    }\n",
       "</style>\n",
       "<table border=\"1\" class=\"dataframe\">\n",
       "  <thead>\n",
       "    <tr style=\"text-align: right;\">\n",
       "      <th></th>\n",
       "      <th>名字</th>\n",
       "      <th>性别</th>\n",
       "      <th>职称_1</th>\n",
       "      <th>课程</th>\n",
       "      <th>职称_2</th>\n",
       "    </tr>\n",
       "  </thead>\n",
       "  <tbody>\n",
       "    <tr>\n",
       "      <th>0</th>\n",
       "      <td>A</td>\n",
       "      <td>男</td>\n",
       "      <td>副教授</td>\n",
       "      <td>C++</td>\n",
       "      <td>副教授</td>\n",
       "    </tr>\n",
       "    <tr>\n",
       "      <th>1</th>\n",
       "      <td>A</td>\n",
       "      <td>男</td>\n",
       "      <td>副教授</td>\n",
       "      <td>数据结构</td>\n",
       "      <td>副教授</td>\n",
       "    </tr>\n",
       "    <tr>\n",
       "      <th>2</th>\n",
       "      <td>B</td>\n",
       "      <td>⼥</td>\n",
       "      <td>讲师</td>\n",
       "      <td>计算机导论</td>\n",
       "      <td>讲师</td>\n",
       "    </tr>\n",
       "    <tr>\n",
       "      <th>3</th>\n",
       "      <td>D</td>\n",
       "      <td>男</td>\n",
       "      <td>教授</td>\n",
       "      <td>汇编</td>\n",
       "      <td>教授</td>\n",
       "    </tr>\n",
       "  </tbody>\n",
       "</table>\n",
       "</div>"
      ],
      "text/plain": [
       "  名字 性别 职称_1     课程 职称_2\n",
       "0  A  男  副教授    C++  副教授\n",
       "1  A  男  副教授   数据结构  副教授\n",
       "2  B  ⼥   讲师  计算机导论   讲师\n",
       "3  D  男   教授     汇编   教授"
      ]
     },
     "execution_count": 187,
     "metadata": {},
     "output_type": "execute_result"
    }
   ],
   "source": [
    "# 指定列名合并\n",
    "pd.merge(df1,df2,on='名字',suffixes=['_1','_2']) # 返回匹配的"
   ]
  },
  {
   "cell_type": "code",
   "execution_count": 188,
   "metadata": {},
   "outputs": [
    {
     "data": {
      "text/html": [
       "<div>\n",
       "<style scoped>\n",
       "    .dataframe tbody tr th:only-of-type {\n",
       "        vertical-align: middle;\n",
       "    }\n",
       "\n",
       "    .dataframe tbody tr th {\n",
       "        vertical-align: top;\n",
       "    }\n",
       "\n",
       "    .dataframe thead th {\n",
       "        text-align: right;\n",
       "    }\n",
       "</style>\n",
       "<table border=\"1\" class=\"dataframe\">\n",
       "  <thead>\n",
       "    <tr style=\"text-align: right;\">\n",
       "      <th></th>\n",
       "      <th>名字</th>\n",
       "      <th>性别</th>\n",
       "      <th>职称</th>\n",
       "      <th>课程</th>\n",
       "    </tr>\n",
       "  </thead>\n",
       "  <tbody>\n",
       "    <tr>\n",
       "      <th>0</th>\n",
       "      <td>A</td>\n",
       "      <td>男</td>\n",
       "      <td>副教授</td>\n",
       "      <td>C++</td>\n",
       "    </tr>\n",
       "    <tr>\n",
       "      <th>1</th>\n",
       "      <td>A</td>\n",
       "      <td>男</td>\n",
       "      <td>副教授</td>\n",
       "      <td>数据结构</td>\n",
       "    </tr>\n",
       "    <tr>\n",
       "      <th>2</th>\n",
       "      <td>B</td>\n",
       "      <td>⼥</td>\n",
       "      <td>讲师</td>\n",
       "      <td>计算机导论</td>\n",
       "    </tr>\n",
       "    <tr>\n",
       "      <th>3</th>\n",
       "      <td>C</td>\n",
       "      <td>男</td>\n",
       "      <td>助教</td>\n",
       "      <td>NaN</td>\n",
       "    </tr>\n",
       "    <tr>\n",
       "      <th>4</th>\n",
       "      <td>D</td>\n",
       "      <td>男</td>\n",
       "      <td>教授</td>\n",
       "      <td>汇编</td>\n",
       "    </tr>\n",
       "    <tr>\n",
       "      <th>5</th>\n",
       "      <td>E</td>\n",
       "      <td>⼥</td>\n",
       "      <td>助教</td>\n",
       "      <td>NaN</td>\n",
       "    </tr>\n",
       "  </tbody>\n",
       "</table>\n",
       "</div>"
      ],
      "text/plain": [
       "  名字 性别   职称     课程\n",
       "0  A  男  副教授    C++\n",
       "1  A  男  副教授   数据结构\n",
       "2  B  ⼥   讲师  计算机导论\n",
       "3  C  男   助教    NaN\n",
       "4  D  男   教授     汇编\n",
       "5  E  ⼥   助教    NaN"
      ]
     },
     "execution_count": 188,
     "metadata": {},
     "output_type": "execute_result"
    }
   ],
   "source": [
    "# 连接⽅式，根据左侧为准\n",
    "pd.merge(df1,df2,how='left')"
   ]
  },
  {
   "cell_type": "code",
   "execution_count": 189,
   "metadata": {},
   "outputs": [
    {
     "data": {
      "text/html": [
       "<div>\n",
       "<style scoped>\n",
       "    .dataframe tbody tr th:only-of-type {\n",
       "        vertical-align: middle;\n",
       "    }\n",
       "\n",
       "    .dataframe tbody tr th {\n",
       "        vertical-align: top;\n",
       "    }\n",
       "\n",
       "    .dataframe thead th {\n",
       "        text-align: right;\n",
       "    }\n",
       "</style>\n",
       "<table border=\"1\" class=\"dataframe\">\n",
       "  <thead>\n",
       "    <tr style=\"text-align: right;\">\n",
       "      <th></th>\n",
       "      <th>名字</th>\n",
       "      <th>性别</th>\n",
       "      <th>职称</th>\n",
       "      <th>课程</th>\n",
       "    </tr>\n",
       "  </thead>\n",
       "  <tbody>\n",
       "    <tr>\n",
       "      <th>0</th>\n",
       "      <td>A</td>\n",
       "      <td>男</td>\n",
       "      <td>副教授</td>\n",
       "      <td>C++</td>\n",
       "    </tr>\n",
       "    <tr>\n",
       "      <th>1</th>\n",
       "      <td>B</td>\n",
       "      <td>⼥</td>\n",
       "      <td>讲师</td>\n",
       "      <td>计算机导论</td>\n",
       "    </tr>\n",
       "    <tr>\n",
       "      <th>2</th>\n",
       "      <td>D</td>\n",
       "      <td>男</td>\n",
       "      <td>教授</td>\n",
       "      <td>汇编</td>\n",
       "    </tr>\n",
       "    <tr>\n",
       "      <th>3</th>\n",
       "      <td>A</td>\n",
       "      <td>男</td>\n",
       "      <td>副教授</td>\n",
       "      <td>数据结构</td>\n",
       "    </tr>\n",
       "    <tr>\n",
       "      <th>4</th>\n",
       "      <td>X</td>\n",
       "      <td>NaN</td>\n",
       "      <td>讲师</td>\n",
       "      <td>马克思原理</td>\n",
       "    </tr>\n",
       "  </tbody>\n",
       "</table>\n",
       "</div>"
      ],
      "text/plain": [
       "  名字   性别   职称     课程\n",
       "0  A    男  副教授    C++\n",
       "1  B    ⼥   讲师  计算机导论\n",
       "2  D    男   教授     汇编\n",
       "3  A    男  副教授   数据结构\n",
       "4  X  NaN   讲师  马克思原理"
      ]
     },
     "execution_count": 189,
     "metadata": {},
     "output_type": "execute_result"
    }
   ],
   "source": [
    "# 根据右侧为准\n",
    "pd.merge(df1,df2,how='right')"
   ]
  },
  {
   "cell_type": "code",
   "execution_count": 190,
   "metadata": {},
   "outputs": [
    {
     "data": {
      "text/html": [
       "<div>\n",
       "<style scoped>\n",
       "    .dataframe tbody tr th:only-of-type {\n",
       "        vertical-align: middle;\n",
       "    }\n",
       "\n",
       "    .dataframe tbody tr th {\n",
       "        vertical-align: top;\n",
       "    }\n",
       "\n",
       "    .dataframe thead th {\n",
       "        text-align: right;\n",
       "    }\n",
       "</style>\n",
       "<table border=\"1\" class=\"dataframe\">\n",
       "  <thead>\n",
       "    <tr style=\"text-align: right;\">\n",
       "      <th></th>\n",
       "      <th>名字</th>\n",
       "      <th>性别</th>\n",
       "      <th>职称</th>\n",
       "      <th>课程</th>\n",
       "    </tr>\n",
       "  </thead>\n",
       "  <tbody>\n",
       "    <tr>\n",
       "      <th>0</th>\n",
       "      <td>A</td>\n",
       "      <td>男</td>\n",
       "      <td>副教授</td>\n",
       "      <td>C++</td>\n",
       "    </tr>\n",
       "    <tr>\n",
       "      <th>1</th>\n",
       "      <td>A</td>\n",
       "      <td>男</td>\n",
       "      <td>副教授</td>\n",
       "      <td>数据结构</td>\n",
       "    </tr>\n",
       "    <tr>\n",
       "      <th>2</th>\n",
       "      <td>B</td>\n",
       "      <td>⼥</td>\n",
       "      <td>讲师</td>\n",
       "      <td>计算机导论</td>\n",
       "    </tr>\n",
       "    <tr>\n",
       "      <th>3</th>\n",
       "      <td>C</td>\n",
       "      <td>男</td>\n",
       "      <td>助教</td>\n",
       "      <td>NaN</td>\n",
       "    </tr>\n",
       "    <tr>\n",
       "      <th>4</th>\n",
       "      <td>D</td>\n",
       "      <td>男</td>\n",
       "      <td>教授</td>\n",
       "      <td>汇编</td>\n",
       "    </tr>\n",
       "    <tr>\n",
       "      <th>5</th>\n",
       "      <td>E</td>\n",
       "      <td>⼥</td>\n",
       "      <td>助教</td>\n",
       "      <td>NaN</td>\n",
       "    </tr>\n",
       "    <tr>\n",
       "      <th>6</th>\n",
       "      <td>X</td>\n",
       "      <td>NaN</td>\n",
       "      <td>讲师</td>\n",
       "      <td>马克思原理</td>\n",
       "    </tr>\n",
       "  </tbody>\n",
       "</table>\n",
       "</div>"
      ],
      "text/plain": [
       "  名字   性别   职称     课程\n",
       "0  A    男  副教授    C++\n",
       "1  A    男  副教授   数据结构\n",
       "2  B    ⼥   讲师  计算机导论\n",
       "3  C    男   助教    NaN\n",
       "4  D    男   教授     汇编\n",
       "5  E    ⼥   助教    NaN\n",
       "6  X  NaN   讲师  马克思原理"
      ]
     },
     "execution_count": 190,
     "metadata": {},
     "output_type": "execute_result"
    }
   ],
   "source": [
    "# 所有\n",
    "pd.merge(df1,df2,how='outer')"
   ]
  },
  {
   "cell_type": "code",
   "execution_count": 191,
   "metadata": {},
   "outputs": [
    {
     "data": {
      "text/html": [
       "<div>\n",
       "<style scoped>\n",
       "    .dataframe tbody tr th:only-of-type {\n",
       "        vertical-align: middle;\n",
       "    }\n",
       "\n",
       "    .dataframe tbody tr th {\n",
       "        vertical-align: top;\n",
       "    }\n",
       "\n",
       "    .dataframe thead th {\n",
       "        text-align: right;\n",
       "    }\n",
       "</style>\n",
       "<table border=\"1\" class=\"dataframe\">\n",
       "  <thead>\n",
       "    <tr style=\"text-align: right;\">\n",
       "      <th></th>\n",
       "      <th>名字</th>\n",
       "      <th>性别</th>\n",
       "      <th>职称</th>\n",
       "      <th>课程</th>\n",
       "    </tr>\n",
       "  </thead>\n",
       "  <tbody>\n",
       "    <tr>\n",
       "      <th>0</th>\n",
       "      <td>A</td>\n",
       "      <td>男</td>\n",
       "      <td>副教授</td>\n",
       "      <td>C++</td>\n",
       "    </tr>\n",
       "    <tr>\n",
       "      <th>1</th>\n",
       "      <td>A</td>\n",
       "      <td>男</td>\n",
       "      <td>副教授</td>\n",
       "      <td>数据结构</td>\n",
       "    </tr>\n",
       "    <tr>\n",
       "      <th>2</th>\n",
       "      <td>B</td>\n",
       "      <td>⼥</td>\n",
       "      <td>讲师</td>\n",
       "      <td>计算机导论</td>\n",
       "    </tr>\n",
       "    <tr>\n",
       "      <th>3</th>\n",
       "      <td>D</td>\n",
       "      <td>男</td>\n",
       "      <td>教授</td>\n",
       "      <td>汇编</td>\n",
       "    </tr>\n",
       "  </tbody>\n",
       "</table>\n",
       "</div>"
      ],
      "text/plain": [
       "  名字 性别   职称     课程\n",
       "0  A  男  副教授    C++\n",
       "1  A  男  副教授   数据结构\n",
       "2  B  ⼥   讲师  计算机导论\n",
       "3  D  男   教授     汇编"
      ]
     },
     "execution_count": 191,
     "metadata": {},
     "output_type": "execute_result"
    }
   ],
   "source": [
    "# 根据多个键进⾏连接\n",
    "pd.merge(df1,df2,on=['职称','名字'])"
   ]
  },
  {
   "cell_type": "code",
   "execution_count": 200,
   "metadata": {},
   "outputs": [
    {
     "name": "stdout",
     "output_type": "stream",
     "text": [
      "a    1\n",
      "b    2\n",
      "dtype: int64\n",
      "b    3\n",
      "d    4\n",
      "e    5\n",
      "dtype: int64\n"
     ]
    },
    {
     "data": {
      "text/plain": [
       "a    1\n",
       "b    2\n",
       "b    3\n",
       "d    4\n",
       "e    5\n",
       "dtype: int64"
      ]
     },
     "execution_count": 200,
     "metadata": {},
     "output_type": "execute_result"
    }
   ],
   "source": [
    "# 轴向连接-Concat\n",
    "# 1. Series对象的连接\n",
    "s1=pd.Series([1,2],index=list('ab'))\n",
    "s2=pd.Series([3,4,5],index=list('bde')) \n",
    "print(s1)\n",
    "print(s2)\n",
    "pd.concat([s1,s2])"
   ]
  },
  {
   "cell_type": "code",
   "execution_count": 201,
   "metadata": {},
   "outputs": [
    {
     "data": {
      "text/html": [
       "<div>\n",
       "<style scoped>\n",
       "    .dataframe tbody tr th:only-of-type {\n",
       "        vertical-align: middle;\n",
       "    }\n",
       "\n",
       "    .dataframe tbody tr th {\n",
       "        vertical-align: top;\n",
       "    }\n",
       "\n",
       "    .dataframe thead th {\n",
       "        text-align: right;\n",
       "    }\n",
       "</style>\n",
       "<table border=\"1\" class=\"dataframe\">\n",
       "  <thead>\n",
       "    <tr style=\"text-align: right;\">\n",
       "      <th></th>\n",
       "      <th>0</th>\n",
       "      <th>1</th>\n",
       "    </tr>\n",
       "  </thead>\n",
       "  <tbody>\n",
       "    <tr>\n",
       "      <th>a</th>\n",
       "      <td>1.0</td>\n",
       "      <td>NaN</td>\n",
       "    </tr>\n",
       "    <tr>\n",
       "      <th>b</th>\n",
       "      <td>2.0</td>\n",
       "      <td>3.0</td>\n",
       "    </tr>\n",
       "    <tr>\n",
       "      <th>d</th>\n",
       "      <td>NaN</td>\n",
       "      <td>4.0</td>\n",
       "    </tr>\n",
       "    <tr>\n",
       "      <th>e</th>\n",
       "      <td>NaN</td>\n",
       "      <td>5.0</td>\n",
       "    </tr>\n",
       "  </tbody>\n",
       "</table>\n",
       "</div>"
      ],
      "text/plain": [
       "     0    1\n",
       "a  1.0  NaN\n",
       "b  2.0  3.0\n",
       "d  NaN  4.0\n",
       "e  NaN  5.0"
      ]
     },
     "execution_count": 201,
     "metadata": {},
     "output_type": "execute_result"
    }
   ],
   "source": [
    "#横向连接\n",
    "pd.concat([s1,s2],axis=1)"
   ]
  },
  {
   "cell_type": "code",
   "execution_count": 202,
   "metadata": {},
   "outputs": [
    {
     "data": {
      "text/html": [
       "<div>\n",
       "<style scoped>\n",
       "    .dataframe tbody tr th:only-of-type {\n",
       "        vertical-align: middle;\n",
       "    }\n",
       "\n",
       "    .dataframe tbody tr th {\n",
       "        vertical-align: top;\n",
       "    }\n",
       "\n",
       "    .dataframe thead th {\n",
       "        text-align: right;\n",
       "    }\n",
       "</style>\n",
       "<table border=\"1\" class=\"dataframe\">\n",
       "  <thead>\n",
       "    <tr style=\"text-align: right;\">\n",
       "      <th></th>\n",
       "      <th>0</th>\n",
       "      <th>1</th>\n",
       "    </tr>\n",
       "  </thead>\n",
       "  <tbody>\n",
       "    <tr>\n",
       "      <th>b</th>\n",
       "      <td>2</td>\n",
       "      <td>3</td>\n",
       "    </tr>\n",
       "  </tbody>\n",
       "</table>\n",
       "</div>"
      ],
      "text/plain": [
       "   0  1\n",
       "b  2  3"
      ]
     },
     "execution_count": 202,
     "metadata": {},
     "output_type": "execute_result"
    }
   ],
   "source": [
    "# ⽤内连接求交集(连接⽅式，共有’inner’,’left’,right’,’outer’) \n",
    "pd.concat([s1,s2],axis=1,join='inner')"
   ]
  },
  {
   "cell_type": "code",
   "execution_count": 209,
   "metadata": {},
   "outputs": [
    {
     "data": {
      "text/plain": [
       "A  a    1\n",
       "   b    2\n",
       "B  b    3\n",
       "   d    4\n",
       "   e    5\n",
       "dtype: int64"
      ]
     },
     "execution_count": 209,
     "metadata": {},
     "output_type": "execute_result"
    }
   ],
   "source": [
    "# 创建层次化索引\n",
    "pd.concat([s1,s2],keys=['A','B'])"
   ]
  },
  {
   "cell_type": "code",
   "execution_count": 210,
   "metadata": {},
   "outputs": [
    {
     "data": {
      "text/html": [
       "<div>\n",
       "<style scoped>\n",
       "    .dataframe tbody tr th:only-of-type {\n",
       "        vertical-align: middle;\n",
       "    }\n",
       "\n",
       "    .dataframe tbody tr th {\n",
       "        vertical-align: top;\n",
       "    }\n",
       "\n",
       "    .dataframe thead th {\n",
       "        text-align: right;\n",
       "    }\n",
       "</style>\n",
       "<table border=\"1\" class=\"dataframe\">\n",
       "  <thead>\n",
       "    <tr style=\"text-align: right;\">\n",
       "      <th></th>\n",
       "      <th>A</th>\n",
       "      <th>D</th>\n",
       "    </tr>\n",
       "  </thead>\n",
       "  <tbody>\n",
       "    <tr>\n",
       "      <th>a</th>\n",
       "      <td>1.0</td>\n",
       "      <td>NaN</td>\n",
       "    </tr>\n",
       "    <tr>\n",
       "      <th>b</th>\n",
       "      <td>2.0</td>\n",
       "      <td>3.0</td>\n",
       "    </tr>\n",
       "    <tr>\n",
       "      <th>d</th>\n",
       "      <td>NaN</td>\n",
       "      <td>4.0</td>\n",
       "    </tr>\n",
       "    <tr>\n",
       "      <th>e</th>\n",
       "      <td>NaN</td>\n",
       "      <td>5.0</td>\n",
       "    </tr>\n",
       "  </tbody>\n",
       "</table>\n",
       "</div>"
      ],
      "text/plain": [
       "     A    D\n",
       "a  1.0  NaN\n",
       "b  2.0  3.0\n",
       "d  NaN  4.0\n",
       "e  NaN  5.0"
      ]
     },
     "execution_count": 210,
     "metadata": {},
     "output_type": "execute_result"
    }
   ],
   "source": [
    "# 当纵向连接时keys为列名\n",
    "pd.concat([s1,s2],keys=['A','D'],axis=1)"
   ]
  },
  {
   "cell_type": "code",
   "execution_count": 214,
   "metadata": {},
   "outputs": [
    {
     "name": "stdout",
     "output_type": "stream",
     "text": [
      "   Red  Green\n",
      "a    1      5\n",
      "b    3      0\n",
      "d    5      3\n",
      "   Blue  Yellow\n",
      "c     1       6\n",
      "e     9       6\n"
     ]
    }
   ],
   "source": [
    "df3=pd.DataFrame({'Red':[1,3,5],'Green':[5,0,3]},index=list('abd')) \n",
    "df4=pd.DataFrame({'Blue':[1,9],'Yellow':[6,6]},index=list('ce'))\n",
    "print(df3)\n",
    "print(df4)"
   ]
  },
  {
   "cell_type": "code",
   "execution_count": 215,
   "metadata": {},
   "outputs": [
    {
     "data": {
      "text/html": [
       "<div>\n",
       "<style scoped>\n",
       "    .dataframe tbody tr th:only-of-type {\n",
       "        vertical-align: middle;\n",
       "    }\n",
       "\n",
       "    .dataframe tbody tr th {\n",
       "        vertical-align: top;\n",
       "    }\n",
       "\n",
       "    .dataframe thead th {\n",
       "        text-align: right;\n",
       "    }\n",
       "</style>\n",
       "<table border=\"1\" class=\"dataframe\">\n",
       "  <thead>\n",
       "    <tr style=\"text-align: right;\">\n",
       "      <th></th>\n",
       "      <th>Red</th>\n",
       "      <th>Green</th>\n",
       "      <th>Blue</th>\n",
       "      <th>Yellow</th>\n",
       "    </tr>\n",
       "  </thead>\n",
       "  <tbody>\n",
       "    <tr>\n",
       "      <th>a</th>\n",
       "      <td>1.0</td>\n",
       "      <td>5.0</td>\n",
       "      <td>NaN</td>\n",
       "      <td>NaN</td>\n",
       "    </tr>\n",
       "    <tr>\n",
       "      <th>b</th>\n",
       "      <td>3.0</td>\n",
       "      <td>0.0</td>\n",
       "      <td>NaN</td>\n",
       "      <td>NaN</td>\n",
       "    </tr>\n",
       "    <tr>\n",
       "      <th>d</th>\n",
       "      <td>5.0</td>\n",
       "      <td>3.0</td>\n",
       "      <td>NaN</td>\n",
       "      <td>NaN</td>\n",
       "    </tr>\n",
       "    <tr>\n",
       "      <th>c</th>\n",
       "      <td>NaN</td>\n",
       "      <td>NaN</td>\n",
       "      <td>1.0</td>\n",
       "      <td>6.0</td>\n",
       "    </tr>\n",
       "    <tr>\n",
       "      <th>e</th>\n",
       "      <td>NaN</td>\n",
       "      <td>NaN</td>\n",
       "      <td>9.0</td>\n",
       "      <td>6.0</td>\n",
       "    </tr>\n",
       "  </tbody>\n",
       "</table>\n",
       "</div>"
      ],
      "text/plain": [
       "   Red  Green  Blue  Yellow\n",
       "a  1.0    5.0   NaN     NaN\n",
       "b  3.0    0.0   NaN     NaN\n",
       "d  5.0    3.0   NaN     NaN\n",
       "c  NaN    NaN   1.0     6.0\n",
       "e  NaN    NaN   9.0     6.0"
      ]
     },
     "execution_count": 215,
     "metadata": {},
     "output_type": "execute_result"
    }
   ],
   "source": [
    "pd.concat([df3,df4])"
   ]
  },
  {
   "cell_type": "code",
   "execution_count": 217,
   "metadata": {},
   "outputs": [
    {
     "data": {
      "text/html": [
       "<div>\n",
       "<style scoped>\n",
       "    .dataframe tbody tr th:only-of-type {\n",
       "        vertical-align: middle;\n",
       "    }\n",
       "\n",
       "    .dataframe tbody tr th {\n",
       "        vertical-align: top;\n",
       "    }\n",
       "\n",
       "    .dataframe thead tr th {\n",
       "        text-align: left;\n",
       "    }\n",
       "</style>\n",
       "<table border=\"1\" class=\"dataframe\">\n",
       "  <thead>\n",
       "    <tr>\n",
       "      <th></th>\n",
       "      <th colspan=\"2\" halign=\"left\">A</th>\n",
       "      <th colspan=\"2\" halign=\"left\">B</th>\n",
       "    </tr>\n",
       "    <tr>\n",
       "      <th></th>\n",
       "      <th>Red</th>\n",
       "      <th>Green</th>\n",
       "      <th>Blue</th>\n",
       "      <th>Yellow</th>\n",
       "    </tr>\n",
       "  </thead>\n",
       "  <tbody>\n",
       "    <tr>\n",
       "      <th>a</th>\n",
       "      <td>1.0</td>\n",
       "      <td>5.0</td>\n",
       "      <td>NaN</td>\n",
       "      <td>NaN</td>\n",
       "    </tr>\n",
       "    <tr>\n",
       "      <th>b</th>\n",
       "      <td>3.0</td>\n",
       "      <td>0.0</td>\n",
       "      <td>NaN</td>\n",
       "      <td>NaN</td>\n",
       "    </tr>\n",
       "    <tr>\n",
       "      <th>d</th>\n",
       "      <td>5.0</td>\n",
       "      <td>3.0</td>\n",
       "      <td>NaN</td>\n",
       "      <td>NaN</td>\n",
       "    </tr>\n",
       "    <tr>\n",
       "      <th>c</th>\n",
       "      <td>NaN</td>\n",
       "      <td>NaN</td>\n",
       "      <td>1.0</td>\n",
       "      <td>6.0</td>\n",
       "    </tr>\n",
       "    <tr>\n",
       "      <th>e</th>\n",
       "      <td>NaN</td>\n",
       "      <td>NaN</td>\n",
       "      <td>9.0</td>\n",
       "      <td>6.0</td>\n",
       "    </tr>\n",
       "  </tbody>\n",
       "</table>\n",
       "</div>"
      ],
      "text/plain": [
       "     A          B       \n",
       "   Red Green Blue Yellow\n",
       "a  1.0   5.0  NaN    NaN\n",
       "b  3.0   0.0  NaN    NaN\n",
       "d  5.0   3.0  NaN    NaN\n",
       "c  NaN   NaN  1.0    6.0\n",
       "e  NaN   NaN  9.0    6.0"
      ]
     },
     "execution_count": 217,
     "metadata": {},
     "output_type": "execute_result"
    }
   ],
   "source": [
    "# ⽤字典的⽅式连接同样可以创建层次化列索引\n",
    "pd.concat({'A':df3,'B':df4},axis=1)"
   ]
  },
  {
   "cell_type": "code",
   "execution_count": 220,
   "metadata": {},
   "outputs": [
    {
     "name": "stdout",
     "output_type": "stream",
     "text": [
      "a     40\n",
      "b    122\n",
      "c     95\n",
      "d     40\n",
      "e     35\n",
      "f     27\n",
      "dtype: int64\n"
     ]
    }
   ],
   "source": [
    "# Series也可以创建多层索引\n",
    "s = Series(np.random.randint(0,150,size=6),index=list('abcdef'))\n",
    "print(s)"
   ]
  },
  {
   "cell_type": "code",
   "execution_count": 221,
   "metadata": {},
   "outputs": [
    {
     "name": "stdout",
     "output_type": "stream",
     "text": [
      "a  期中    132\n",
      "   期末    145\n",
      "b  期中     33\n",
      "   期末    149\n",
      "c  期中     10\n",
      "   期末    145\n",
      "dtype: int64\n"
     ]
    }
   ],
   "source": [
    "s = Series(np.random.randint(0,150,size=6),\n",
    "index=[['a','a','b','b','c','c'],['期中','期末','期中','期末','期中','期末']]) \n",
    "print(s)"
   ]
  },
  {
   "cell_type": "code",
   "execution_count": 222,
   "metadata": {},
   "outputs": [
    {
     "name": "stdout",
     "output_type": "stream",
     "text": [
      "            zs   ls   ww   zl\n",
      "python 期中  123    3   98   95\n",
      "       期末    9   36   15  126\n",
      "math   期中   86   86   73  115\n",
      "       期末    3  130   52   89\n",
      "En     期中   75   21   84   98\n",
      "       期末   56   46  111  147\n"
     ]
    }
   ],
   "source": [
    "# DataFrame创建多层索引\n",
    "df1 = df(np.random.randint(0,150,size=(6,4)),\n",
    "         columns = ['zs','ls','ww','zl'],\n",
    "         index =[['python','python','math','math','En','En'],['期中','期末','期中','期末','期中','期末']])\n",
    "print(df1)"
   ]
  },
  {
   "cell_type": "code",
   "execution_count": 223,
   "metadata": {},
   "outputs": [
    {
     "name": "stdout",
     "output_type": "stream",
     "text": [
      "             0    1    2    3\n",
      "python 期中   94   36    6   19\n",
      "       期末   24   41  108  120\n",
      "math   期中   79   69  144   32\n",
      "       期末  138  100   42   38\n",
      "En     期中  110   90  123   75\n",
      "       期末   69   59   72  109\n"
     ]
    }
   ],
   "source": [
    "# 特定结构\n",
    "class1=['python','python','math','math','En','En']\n",
    "class2=['期中','期末','期中','期末','期中','期末']\n",
    "m_index2=pd.MultiIndex.from_arrays([class1,class2])\n",
    "df2=df(np.random.randint(0,150,(6,4)),index=m_index2) \n",
    "print(df2)"
   ]
  },
  {
   "cell_type": "code",
   "execution_count": 224,
   "metadata": {},
   "outputs": [
    {
     "name": "stdout",
     "output_type": "stream",
     "text": [
      "             0   1    2    3\n",
      "期中 python   96  15  135    5\n",
      "   math     66  78  143   93\n",
      "   En       70  27  120   63\n",
      "期末 python  147  77   92   97\n",
      "   math    121  81  137  102\n",
      "   En       18  12  134  113\n"
     ]
    }
   ],
   "source": [
    "class1=['期中','期中','期中','期末','期末','期末']\n",
    "class2=['python','math','En','python','math','En']\n",
    "m_index2=pd.MultiIndex.from_arrays([class1,class2])\n",
    "df2=df(np.random.randint(0,150,(6,4)),index=m_index2) \n",
    "print(df2)"
   ]
  },
  {
   "cell_type": "code",
   "execution_count": 225,
   "metadata": {},
   "outputs": [
    {
     "name": "stdout",
     "output_type": "stream",
     "text": [
      "             0    1    2    3\n",
      "python 期中   12   72  115   59\n",
      "       期末   36   51   94  111\n",
      "math   期中   44   14    9   61\n",
      "       期末  115  121   65   93\n",
      "En     期中   29   23   16   70\n",
      "       期末   30   73   77   53\n"
     ]
    }
   ],
   "source": [
    "# 3. product构造\n",
    "class1=['python','math','En']\n",
    "class2=['期中','期末']\n",
    "m_index2=pd.MultiIndex.from_product([class1,class2])\n",
    "df2=df(np.random.randint(0,150,(6,4)),index=m_index2) \n",
    "print(df2)"
   ]
  },
  {
   "cell_type": "code",
   "execution_count": 226,
   "metadata": {},
   "outputs": [
    {
     "name": "stdout",
     "output_type": "stream",
     "text": [
      "a  期中     31\n",
      "   期末      4\n",
      "b  期中    101\n",
      "   期末     95\n",
      "c  期中     54\n",
      "   期末    126\n",
      "dtype: int64\n"
     ]
    }
   ],
   "source": [
    "#多层索引对象的索引操作 # series\n",
    "s = Series(np.random.randint(0,150,size=6),\n",
    "index=[['a','a','b','b','c','c'],['期中','期末','期中','期末','期中','期末']])\n",
    "print(s)"
   ]
  },
  {
   "cell_type": "code",
   "execution_count": 227,
   "metadata": {},
   "outputs": [
    {
     "name": "stdout",
     "output_type": "stream",
     "text": [
      "期中    31\n",
      "期末     4\n",
      "dtype: int64\n"
     ]
    }
   ],
   "source": [
    "# 取⼀个第⼀级索引 \n",
    "print(s['a'])"
   ]
  },
  {
   "cell_type": "code",
   "execution_count": 228,
   "metadata": {},
   "outputs": [
    {
     "name": "stdout",
     "output_type": "stream",
     "text": [
      "a  期中     31\n",
      "   期末      4\n",
      "b  期中    101\n",
      "   期末     95\n",
      "dtype: int64\n"
     ]
    }
   ],
   "source": [
    "# 取多个第⼀级索引\n",
    "print(s[['a','b']])"
   ]
  },
  {
   "cell_type": "code",
   "execution_count": 229,
   "metadata": {},
   "outputs": [
    {
     "name": "stdout",
     "output_type": "stream",
     "text": [
      "4\n"
     ]
    }
   ],
   "source": [
    "# 根据索引获取值\n",
    "print(s['a','期末'])"
   ]
  },
  {
   "cell_type": "code",
   "execution_count": 244,
   "metadata": {},
   "outputs": [
    {
     "name": "stdout",
     "output_type": "stream",
     "text": [
      "期中    31\n",
      "期末     4\n",
      "dtype: int64\n",
      "a  期中     31\n",
      "   期末      4\n",
      "b  期中    101\n",
      "   期末     95\n",
      "dtype: int64\n",
      "4\n"
     ]
    }
   ],
   "source": [
    "# loc⽅法取值\n",
    "print(s.loc['a'])\n",
    "print(s.loc[['a','b']]) \n",
    "print(s.loc['a','期末'])"
   ]
  },
  {
   "cell_type": "code",
   "execution_count": 231,
   "metadata": {},
   "outputs": [
    {
     "name": "stdout",
     "output_type": "stream",
     "text": [
      "4\n",
      "a  期末      4\n",
      "b  期中    101\n",
      "   期末     95\n",
      "dtype: int64\n"
     ]
    }
   ],
   "source": [
    "# iloc⽅法取值(iloc计算的事最内层索引) \n",
    "print(s.iloc[1])\n",
    "print(s.iloc[1:4])"
   ]
  },
  {
   "cell_type": "code",
   "execution_count": 232,
   "metadata": {},
   "outputs": [
    {
     "name": "stdout",
     "output_type": "stream",
     "text": [
      "             0    1    2    3\n",
      "python 期中   88   69   82   28\n",
      "       期末  110   60  130  133\n",
      "math   期中   64  103   24   49\n",
      "       期末   23   41   10   61\n",
      "En     期中  124  139   65  115\n",
      "       期末  114   13  117   79\n"
     ]
    }
   ],
   "source": [
    "# dataframe\n",
    "class1=['python','math','En']\n",
    "class2=['期中','期末']\n",
    "m_index2=pd.MultiIndex.from_product([class1,class2])\n",
    "df2=df(np.random.randint(0,150,(6,4)),index=m_index2) \n",
    "print(df2)"
   ]
  },
  {
   "cell_type": "code",
   "execution_count": 233,
   "metadata": {},
   "outputs": [
    {
     "name": "stdout",
     "output_type": "stream",
     "text": [
      "python  期中     88\n",
      "        期末    110\n",
      "math    期中     64\n",
      "        期末     23\n",
      "En      期中    124\n",
      "        期末    114\n",
      "Name: 0, dtype: int64\n"
     ]
    }
   ],
   "source": [
    "# 获取列\n",
    "print(df2[0])"
   ]
  },
  {
   "cell_type": "code",
   "execution_count": 239,
   "metadata": {},
   "outputs": [
    {
     "name": "stdout",
     "output_type": "stream",
     "text": [
      "      0   1    2    3\n",
      "期中   88  69   82   28\n",
      "期末  110  60  130  133\n"
     ]
    }
   ],
   "source": [
    "# ⼀级索引\n",
    "print(df2.loc['python'])"
   ]
  },
  {
   "cell_type": "code",
   "execution_count": 240,
   "metadata": {},
   "outputs": [
    {
     "name": "stdout",
     "output_type": "stream",
     "text": [
      "             0    1    2    3\n",
      "python 期中   88   69   82   28\n",
      "       期末  110   60  130  133\n",
      "math   期中   64  103   24   49\n",
      "       期末   23   41   10   61\n"
     ]
    }
   ],
   "source": [
    "# 多个⼀级索引\n",
    "print(df2.loc[['python','math']])"
   ]
  },
  {
   "cell_type": "code",
   "execution_count": 241,
   "metadata": {},
   "outputs": [
    {
     "name": "stdout",
     "output_type": "stream",
     "text": [
      "0    110\n",
      "1     60\n",
      "2    130\n",
      "3    133\n",
      "Name: (python, 期末), dtype: int64\n"
     ]
    }
   ],
   "source": [
    "# 取⼀⾏\n",
    "print(df2.loc['python','期末'])"
   ]
  },
  {
   "cell_type": "code",
   "execution_count": 242,
   "metadata": {},
   "outputs": [
    {
     "name": "stdout",
     "output_type": "stream",
     "text": [
      "110\n"
     ]
    }
   ],
   "source": [
    "# 取⼀值\n",
    "print(df2.loc['python','期末'][0])"
   ]
  },
  {
   "cell_type": "code",
   "execution_count": 243,
   "metadata": {},
   "outputs": [
    {
     "name": "stdout",
     "output_type": "stream",
     "text": [
      "0    88\n",
      "1    69\n",
      "2    82\n",
      "3    28\n",
      "Name: (python, 期中), dtype: int64\n"
     ]
    }
   ],
   "source": [
    "# iloc是只取最内层的索引的 \n",
    "print(df2.iloc[0])"
   ]
  },
  {
   "cell_type": "markdown",
   "metadata": {},
   "source": [
    "### 时间序列"
   ]
  },
  {
   "cell_type": "code",
   "execution_count": 248,
   "metadata": {},
   "outputs": [
    {
     "name": "stdout",
     "output_type": "stream",
     "text": [
      "DatetimeIndex(['2023-05-01', '2023-05-02', '2023-05-03', '2023-05-04',\n",
      "               '2023-05-05', '2023-05-06', '2023-05-07', '2023-05-08',\n",
      "               '2023-05-09', '2023-05-10', '2023-05-11', '2023-05-12',\n",
      "               '2023-05-13', '2023-05-14', '2023-05-15', '2023-05-16',\n",
      "               '2023-05-17', '2023-05-18', '2023-05-19', '2023-05-20',\n",
      "               '2023-05-21', '2023-05-22', '2023-05-23', '2023-05-24',\n",
      "               '2023-05-25', '2023-05-26', '2023-05-27', '2023-05-28',\n",
      "               '2023-05-29', '2023-05-30'],\n",
      "              dtype='datetime64[ns]', freq='D')\n"
     ]
    }
   ],
   "source": [
    "date = pd.date_range(start='20230501',end='20230530')\n",
    "print(date)"
   ]
  },
  {
   "cell_type": "code",
   "execution_count": 246,
   "metadata": {},
   "outputs": [],
   "source": [
    "\n",
    "# freq：⽇期偏移量，取值为string, 默认为'D'， # periods：固定时期，取值为整数或None"
   ]
  },
  {
   "cell_type": "code",
   "execution_count": 249,
   "metadata": {},
   "outputs": [
    {
     "name": "stdout",
     "output_type": "stream",
     "text": [
      "DatetimeIndex(['2023-05-01', '2023-05-11', '2023-05-21', '2023-05-31',\n",
      "               '2023-06-10', '2023-06-20', '2023-06-30', '2023-07-10',\n",
      "               '2023-07-20', '2023-07-30'],\n",
      "              dtype='datetime64[ns]', freq='10D')\n"
     ]
    }
   ],
   "source": [
    "date = pd.date_range(start='20230501',periods=10,freq='10D')\n",
    "print(date)"
   ]
  },
  {
   "cell_type": "code",
   "execution_count": 250,
   "metadata": {},
   "outputs": [
    {
     "name": "stdout",
     "output_type": "stream",
     "text": [
      "DatetimeIndex(['2023-08-09', '2023-08-10', '2023-08-11', '2023-08-12',\n",
      "               '2023-08-13'],\n",
      "              dtype='datetime64[ns]', freq='D')\n"
     ]
    },
    {
     "name": "stderr",
     "output_type": "stream",
     "text": [
      "/var/folders/h4/7cr1cmpn7v5b3x20_9wz8m740000gn/T/ipykernel_50251/651907669.py:1: FutureWarning: Argument `closed` is deprecated in favor of `inclusive`.\n",
      "  data_time =pd.date_range(start='2023-08-09',end='2023-08-14',closed='left')\n"
     ]
    }
   ],
   "source": [
    "data_time =pd.date_range(start='2023-08-09',end='2023-08-14',closed='left') \n",
    "print(data_time)"
   ]
  },
  {
   "cell_type": "code",
   "execution_count": 252,
   "metadata": {},
   "outputs": [
    {
     "name": "stdout",
     "output_type": "stream",
     "text": [
      "2023-08-01    7\n",
      "2023-08-02    2\n",
      "2023-08-03    5\n",
      "2023-08-04    5\n",
      "2023-08-05    2\n",
      "2023-08-06    0\n",
      "2023-08-07    2\n",
      "2023-08-08    3\n",
      "2023-08-09    6\n",
      "2023-08-10    5\n",
      "Freq: D, dtype: int64\n"
     ]
    }
   ],
   "source": [
    "index = pd.date_range(start='20230801',periods=10)\n",
    "df = pd.Series(np.random.randint(0,10,size = 10),index=index) \n",
    "print(df)"
   ]
  },
  {
   "cell_type": "code",
   "execution_count": 256,
   "metadata": {},
   "outputs": [
    {
     "name": "stdout",
     "output_type": "stream",
     "text": [
      "2023-08-01    7\n",
      "2023-08-02    2\n",
      "2023-08-03    5\n",
      "2023-08-04    5\n",
      "2023-08-05    2\n",
      "2023-08-06    0\n",
      "2023-08-07    2\n",
      "2023-08-08    3\n",
      "Freq: D, dtype: int64\n"
     ]
    }
   ],
   "source": [
    "after = df.truncate(after='2023-08-8')\n",
    "print(after)"
   ]
  },
  {
   "cell_type": "code",
   "execution_count": 264,
   "metadata": {},
   "outputs": [
    {
     "name": "stdout",
     "output_type": "stream",
     "text": [
      "2021-01-01   -0.482811\n",
      "2021-01-02   -0.645928\n",
      "2021-01-03   -1.311628\n",
      "2021-01-04    0.312074\n",
      "2021-01-05   -0.198160\n",
      "                ...   \n",
      "2023-09-23    0.395718\n",
      "2023-09-24   -0.010498\n",
      "2023-09-25   -0.774378\n",
      "2023-09-26   -0.477823\n",
      "2023-09-27   -0.108047\n",
      "Freq: D, Length: 1000, dtype: float64\n"
     ]
    }
   ],
   "source": [
    "long_ts = pd.Series(np.random.randn(1000),index=pd.date_range('1/1/2021',periods=1000)) \n",
    "print(long_ts)"
   ]
  },
  {
   "cell_type": "code",
   "execution_count": 265,
   "metadata": {},
   "outputs": [
    {
     "name": "stdout",
     "output_type": "stream",
     "text": [
      "2022-01-01   -0.600007\n",
      "2022-01-02    1.120321\n",
      "2022-01-03   -0.285767\n",
      "2022-01-04   -0.480184\n",
      "2022-01-05   -0.693911\n",
      "                ...   \n",
      "2022-12-27   -1.541926\n",
      "2022-12-28   -1.028482\n",
      "2022-12-29    1.542456\n",
      "2022-12-30   -1.309561\n",
      "2022-12-31    0.097874\n",
      "Freq: D, Length: 365, dtype: float64\n"
     ]
    }
   ],
   "source": [
    "# 根据年份获取\n",
    "result = long_ts['2022']\n",
    "print(result)"
   ]
  },
  {
   "cell_type": "code",
   "execution_count": 266,
   "metadata": {},
   "outputs": [
    {
     "name": "stdout",
     "output_type": "stream",
     "text": [
      "2023-07-01   -1.797582\n",
      "2023-07-02    0.167577\n",
      "2023-07-03   -1.088474\n",
      "2023-07-04    0.384189\n",
      "2023-07-05   -0.889675\n",
      "2023-07-06    0.889162\n",
      "2023-07-07    1.598126\n",
      "2023-07-08    1.680268\n",
      "2023-07-09    1.175624\n",
      "2023-07-10   -0.588379\n",
      "2023-07-11   -1.089615\n",
      "2023-07-12   -1.248820\n",
      "2023-07-13   -2.067875\n",
      "2023-07-14    0.428172\n",
      "2023-07-15    0.572239\n",
      "2023-07-16   -1.674693\n",
      "2023-07-17   -1.064298\n",
      "2023-07-18   -2.185885\n",
      "2023-07-19    0.851206\n",
      "2023-07-20    1.182987\n",
      "2023-07-21   -0.948141\n",
      "2023-07-22    1.361581\n",
      "2023-07-23   -2.700128\n",
      "2023-07-24    0.579741\n",
      "2023-07-25    0.407723\n",
      "2023-07-26   -0.393892\n",
      "2023-07-27    1.133311\n",
      "2023-07-28   -1.502217\n",
      "2023-07-29   -0.856066\n",
      "2023-07-30   -1.119354\n",
      "2023-07-31    0.687787\n",
      "Freq: D, dtype: float64\n"
     ]
    }
   ],
   "source": [
    "# 年份和⽇期获取\n",
    "result = long_ts['2023-07'] \n",
    "print(result)"
   ]
  },
  {
   "cell_type": "code",
   "execution_count": 268,
   "metadata": {},
   "outputs": [
    {
     "name": "stdout",
     "output_type": "stream",
     "text": [
      "2023-05-01   -2.338218\n",
      "2023-05-02   -2.130780\n",
      "2023-05-03    0.582920\n",
      "2023-05-04   -0.182540\n",
      "2023-05-05    0.127363\n",
      "2023-05-06   -0.032844\n",
      "Freq: D, dtype: float64\n"
     ]
    }
   ],
   "source": [
    "# 使⽤切⽚\n",
    "result = long_ts['2023-05-01':'2023-05-06']\n",
    "print(result)"
   ]
  },
  {
   "cell_type": "code",
   "execution_count": 269,
   "metadata": {},
   "outputs": [
    {
     "name": "stdout",
     "output_type": "stream",
     "text": [
      "2023-03-17 08:00:00   -0.532254\n",
      "2023-03-17 10:00:00   -0.592795\n",
      "2023-03-17 12:00:00    0.433395\n",
      "2023-03-17 14:00:00    0.064717\n",
      "2023-03-17 16:00:00    1.302166\n",
      "                         ...   \n",
      "2023-03-29 08:00:00   -0.385941\n",
      "2023-03-29 10:00:00   -1.399522\n",
      "2023-03-29 12:00:00   -0.085275\n",
      "2023-03-29 14:00:00   -0.362095\n",
      "2023-03-29 16:00:00    0.437697\n",
      "Length: 65, dtype: float64\n"
     ]
    }
   ],
   "source": [
    "# 通过between_time()返回位于指定时间段的数据集\n",
    "index=pd.date_range(\"2023-03-17\",\"2023-03-30\",freq=\"2H\")\n",
    "ts = pd.Series(np.random.randn(157),index=index) \n",
    "print(ts.between_time(\"7:00\",\"17:00\"))"
   ]
  },
  {
   "cell_type": "code",
   "execution_count": 270,
   "metadata": {},
   "outputs": [
    {
     "name": "stdout",
     "output_type": "stream",
     "text": [
      "                   0         1         2         3\n",
      "2023-04-01 -0.220090  0.335770 -0.086181 -0.046045\n",
      "2023-04-02 -1.046423 -0.347116  0.367099 -0.979354\n",
      "2023-04-03 -0.720944 -1.478932  0.220948  0.801831\n",
      "2023-04-04  1.359946 -1.239004  0.309747 -0.047959\n",
      "2023-04-05 -0.256502  2.224782  0.494740 -1.322490\n",
      "2023-04-06  1.488119  0.244942  0.614101 -0.156201\n",
      "2023-04-07 -1.815019 -1.935966  0.239024 -1.388502\n",
      "2023-04-08  1.106623  1.148805  2.120405 -0.799290\n",
      "2023-04-09 -1.902216  0.625965 -0.102506 -0.430550\n",
      "2023-04-10 -0.876382 -2.034205 -0.060846  2.442651\n"
     ]
    }
   ],
   "source": [
    "# 这些操作也都适⽤于dataframe\n",
    "index=pd.date_range('1/1/2023',periods=100)\n",
    "df = pd.DataFrame(np.random.randn(100,4),index=index) \n",
    "print(df.loc['2023-04'])"
   ]
  },
  {
   "cell_type": "code",
   "execution_count": 271,
   "metadata": {},
   "outputs": [
    {
     "name": "stdout",
     "output_type": "stream",
     "text": [
      "2023-01-01   -0.976958\n",
      "2023-01-02   -0.487439\n",
      "2023-01-03    0.143104\n",
      "2023-01-04   -0.964236\n",
      "2023-01-05    0.758326\n",
      "2023-01-06   -1.650818\n",
      "2023-01-07    0.709231\n",
      "2023-01-08    0.198714\n",
      "2023-01-09   -1.043443\n",
      "2023-01-10    0.220834\n",
      "Freq: D, dtype: float64\n"
     ]
    }
   ],
   "source": [
    "# 移位日期\n",
    "ts = pd.Series(np.random.randn(10),index=pd.date_range('1/1/2023',periods=10)) \n",
    "print(ts)"
   ]
  },
  {
   "cell_type": "code",
   "execution_count": 273,
   "metadata": {},
   "outputs": [
    {
     "data": {
      "text/plain": [
       "2023-01-03   -0.976958\n",
       "2023-01-04   -0.487439\n",
       "2023-01-05    0.143104\n",
       "2023-01-06   -0.964236\n",
       "2023-01-07    0.758326\n",
       "2023-01-08   -1.650818\n",
       "2023-01-09    0.709231\n",
       "2023-01-10    0.198714\n",
       "2023-01-11   -1.043443\n",
       "2023-01-12    0.220834\n",
       "Freq: D, dtype: float64"
      ]
     },
     "execution_count": 273,
     "metadata": {},
     "output_type": "execute_result"
    }
   ],
   "source": [
    "# 移动数据，索引不变，默认由NaN填充\n",
    "# periods: 移动的位数 负数是向上移动\n",
    "# fill_value: 移动后填充数据\n",
    "# freq： ⽇期偏移量\n",
    "ts.shift(periods=2,fill_value=100, freq='D')"
   ]
  },
  {
   "cell_type": "code",
   "execution_count": 274,
   "metadata": {},
   "outputs": [
    {
     "name": "stderr",
     "output_type": "stream",
     "text": [
      "/var/folders/h4/7cr1cmpn7v5b3x20_9wz8m740000gn/T/ipykernel_50251/1668268698.py:2: FutureWarning: tshift is deprecated and will be removed in a future version. Please use shift instead.\n",
      "  ts.tshift(2)\n"
     ]
    },
    {
     "data": {
      "text/plain": [
       "2023-01-03   -0.976958\n",
       "2023-01-04   -0.487439\n",
       "2023-01-05    0.143104\n",
       "2023-01-06   -0.964236\n",
       "2023-01-07    0.758326\n",
       "2023-01-08   -1.650818\n",
       "2023-01-09    0.709231\n",
       "2023-01-10    0.198714\n",
       "2023-01-11   -1.043443\n",
       "2023-01-12    0.220834\n",
       "Freq: D, dtype: float64"
      ]
     },
     "execution_count": 274,
     "metadata": {},
     "output_type": "execute_result"
    }
   ],
   "source": [
    "# 通过tshift()将索引移动指定的时间： \n",
    "ts.tshift(2)"
   ]
  },
  {
   "cell_type": "code",
   "execution_count": 294,
   "metadata": {},
   "outputs": [
    {
     "data": {
      "text/plain": [
       "Timestamp('2023-07-05 15:25:40')"
      ]
     },
     "execution_count": 294,
     "metadata": {},
     "output_type": "execute_result"
    }
   ],
   "source": [
    "# 将时间戳转化成时间根式\n",
    "pd.to_datetime(1688570740000,unit='ms')"
   ]
  },
  {
   "cell_type": "code",
   "execution_count": 276,
   "metadata": {},
   "outputs": [
    {
     "name": "stdout",
     "output_type": "stream",
     "text": [
      "['Africa/Abidjan', 'Africa/Accra', 'Africa/Addis_Ababa', 'Africa/Algiers', 'Africa/Asmara', 'Africa/Bamako', 'Africa/Bangui', 'Africa/Banjul', 'Africa/Bissau', 'Africa/Blantyre', 'Africa/Brazzaville', 'Africa/Bujumbura', 'Africa/Cairo', 'Africa/Casablanca', 'Africa/Ceuta', 'Africa/Conakry', 'Africa/Dakar', 'Africa/Dar_es_Salaam', 'Africa/Djibouti', 'Africa/Douala', 'Africa/El_Aaiun', 'Africa/Freetown', 'Africa/Gaborone', 'Africa/Harare', 'Africa/Johannesburg', 'Africa/Juba', 'Africa/Kampala', 'Africa/Khartoum', 'Africa/Kigali', 'Africa/Kinshasa', 'Africa/Lagos', 'Africa/Libreville', 'Africa/Lome', 'Africa/Luanda', 'Africa/Lubumbashi', 'Africa/Lusaka', 'Africa/Malabo', 'Africa/Maputo', 'Africa/Maseru', 'Africa/Mbabane', 'Africa/Mogadishu', 'Africa/Monrovia', 'Africa/Nairobi', 'Africa/Ndjamena', 'Africa/Niamey', 'Africa/Nouakchott', 'Africa/Ouagadougou', 'Africa/Porto-Novo', 'Africa/Sao_Tome', 'Africa/Tripoli', 'Africa/Tunis', 'Africa/Windhoek', 'America/Adak', 'America/Anchorage', 'America/Anguilla', 'America/Antigua', 'America/Araguaina', 'America/Argentina/Buenos_Aires', 'America/Argentina/Catamarca', 'America/Argentina/Cordoba', 'America/Argentina/Jujuy', 'America/Argentina/La_Rioja', 'America/Argentina/Mendoza', 'America/Argentina/Rio_Gallegos', 'America/Argentina/Salta', 'America/Argentina/San_Juan', 'America/Argentina/San_Luis', 'America/Argentina/Tucuman', 'America/Argentina/Ushuaia', 'America/Aruba', 'America/Asuncion', 'America/Atikokan', 'America/Bahia', 'America/Bahia_Banderas', 'America/Barbados', 'America/Belem', 'America/Belize', 'America/Blanc-Sablon', 'America/Boa_Vista', 'America/Bogota', 'America/Boise', 'America/Cambridge_Bay', 'America/Campo_Grande', 'America/Cancun', 'America/Caracas', 'America/Cayenne', 'America/Cayman', 'America/Chicago', 'America/Chihuahua', 'America/Ciudad_Juarez', 'America/Costa_Rica', 'America/Creston', 'America/Cuiaba', 'America/Curacao', 'America/Danmarkshavn', 'America/Dawson', 'America/Dawson_Creek', 'America/Denver', 'America/Detroit', 'America/Dominica', 'America/Edmonton', 'America/Eirunepe', 'America/El_Salvador', 'America/Fort_Nelson', 'America/Fortaleza', 'America/Glace_Bay', 'America/Goose_Bay', 'America/Grand_Turk', 'America/Grenada', 'America/Guadeloupe', 'America/Guatemala', 'America/Guayaquil', 'America/Guyana', 'America/Halifax', 'America/Havana', 'America/Hermosillo', 'America/Indiana/Indianapolis', 'America/Indiana/Knox', 'America/Indiana/Marengo', 'America/Indiana/Petersburg', 'America/Indiana/Tell_City', 'America/Indiana/Vevay', 'America/Indiana/Vincennes', 'America/Indiana/Winamac', 'America/Inuvik', 'America/Iqaluit', 'America/Jamaica', 'America/Juneau', 'America/Kentucky/Louisville', 'America/Kentucky/Monticello', 'America/Kralendijk', 'America/La_Paz', 'America/Lima', 'America/Los_Angeles', 'America/Lower_Princes', 'America/Maceio', 'America/Managua', 'America/Manaus', 'America/Marigot', 'America/Martinique', 'America/Matamoros', 'America/Mazatlan', 'America/Menominee', 'America/Merida', 'America/Metlakatla', 'America/Mexico_City', 'America/Miquelon', 'America/Moncton', 'America/Monterrey', 'America/Montevideo', 'America/Montserrat', 'America/Nassau', 'America/New_York', 'America/Nome', 'America/Noronha', 'America/North_Dakota/Beulah', 'America/North_Dakota/Center', 'America/North_Dakota/New_Salem', 'America/Nuuk', 'America/Ojinaga', 'America/Panama', 'America/Paramaribo', 'America/Phoenix', 'America/Port-au-Prince', 'America/Port_of_Spain', 'America/Porto_Velho', 'America/Puerto_Rico', 'America/Punta_Arenas', 'America/Rankin_Inlet', 'America/Recife', 'America/Regina', 'America/Resolute', 'America/Rio_Branco', 'America/Santarem', 'America/Santiago', 'America/Santo_Domingo', 'America/Sao_Paulo', 'America/Scoresbysund', 'America/Sitka', 'America/St_Barthelemy', 'America/St_Johns', 'America/St_Kitts', 'America/St_Lucia', 'America/St_Thomas', 'America/St_Vincent', 'America/Swift_Current', 'America/Tegucigalpa', 'America/Thule', 'America/Tijuana', 'America/Toronto', 'America/Tortola', 'America/Vancouver', 'America/Whitehorse', 'America/Winnipeg', 'America/Yakutat', 'Antarctica/Casey', 'Antarctica/Davis', 'Antarctica/DumontDUrville', 'Antarctica/Macquarie', 'Antarctica/Mawson', 'Antarctica/McMurdo', 'Antarctica/Palmer', 'Antarctica/Rothera', 'Antarctica/Syowa', 'Antarctica/Troll', 'Antarctica/Vostok', 'Arctic/Longyearbyen', 'Asia/Aden', 'Asia/Almaty', 'Asia/Amman', 'Asia/Anadyr', 'Asia/Aqtau', 'Asia/Aqtobe', 'Asia/Ashgabat', 'Asia/Atyrau', 'Asia/Baghdad', 'Asia/Bahrain', 'Asia/Baku', 'Asia/Bangkok', 'Asia/Barnaul', 'Asia/Beirut', 'Asia/Bishkek', 'Asia/Brunei', 'Asia/Chita', 'Asia/Choibalsan', 'Asia/Colombo', 'Asia/Damascus', 'Asia/Dhaka', 'Asia/Dili', 'Asia/Dubai', 'Asia/Dushanbe', 'Asia/Famagusta', 'Asia/Gaza', 'Asia/Hebron', 'Asia/Ho_Chi_Minh', 'Asia/Hong_Kong', 'Asia/Hovd', 'Asia/Irkutsk', 'Asia/Jakarta', 'Asia/Jayapura', 'Asia/Jerusalem', 'Asia/Kabul', 'Asia/Kamchatka', 'Asia/Karachi', 'Asia/Kathmandu', 'Asia/Khandyga', 'Asia/Kolkata', 'Asia/Krasnoyarsk', 'Asia/Kuala_Lumpur', 'Asia/Kuching', 'Asia/Kuwait', 'Asia/Macau', 'Asia/Magadan', 'Asia/Makassar', 'Asia/Manila', 'Asia/Muscat', 'Asia/Nicosia', 'Asia/Novokuznetsk', 'Asia/Novosibirsk', 'Asia/Omsk', 'Asia/Oral', 'Asia/Phnom_Penh', 'Asia/Pontianak', 'Asia/Pyongyang', 'Asia/Qatar', 'Asia/Qostanay', 'Asia/Qyzylorda', 'Asia/Riyadh', 'Asia/Sakhalin', 'Asia/Samarkand', 'Asia/Seoul', 'Asia/Shanghai', 'Asia/Singapore', 'Asia/Srednekolymsk', 'Asia/Taipei', 'Asia/Tashkent', 'Asia/Tbilisi', 'Asia/Tehran', 'Asia/Thimphu', 'Asia/Tokyo', 'Asia/Tomsk', 'Asia/Ulaanbaatar', 'Asia/Urumqi', 'Asia/Ust-Nera', 'Asia/Vientiane', 'Asia/Vladivostok', 'Asia/Yakutsk', 'Asia/Yangon', 'Asia/Yekaterinburg', 'Asia/Yerevan', 'Atlantic/Azores', 'Atlantic/Bermuda', 'Atlantic/Canary', 'Atlantic/Cape_Verde', 'Atlantic/Faroe', 'Atlantic/Madeira', 'Atlantic/Reykjavik', 'Atlantic/South_Georgia', 'Atlantic/St_Helena', 'Atlantic/Stanley', 'Australia/Adelaide', 'Australia/Brisbane', 'Australia/Broken_Hill', 'Australia/Darwin', 'Australia/Eucla', 'Australia/Hobart', 'Australia/Lindeman', 'Australia/Lord_Howe', 'Australia/Melbourne', 'Australia/Perth', 'Australia/Sydney', 'Canada/Atlantic', 'Canada/Central', 'Canada/Eastern', 'Canada/Mountain', 'Canada/Newfoundland', 'Canada/Pacific', 'Europe/Amsterdam', 'Europe/Andorra', 'Europe/Astrakhan', 'Europe/Athens', 'Europe/Belgrade', 'Europe/Berlin', 'Europe/Bratislava', 'Europe/Brussels', 'Europe/Bucharest', 'Europe/Budapest', 'Europe/Busingen', 'Europe/Chisinau', 'Europe/Copenhagen', 'Europe/Dublin', 'Europe/Gibraltar', 'Europe/Guernsey', 'Europe/Helsinki', 'Europe/Isle_of_Man', 'Europe/Istanbul', 'Europe/Jersey', 'Europe/Kaliningrad', 'Europe/Kirov', 'Europe/Kyiv', 'Europe/Lisbon', 'Europe/Ljubljana', 'Europe/London', 'Europe/Luxembourg', 'Europe/Madrid', 'Europe/Malta', 'Europe/Mariehamn', 'Europe/Minsk', 'Europe/Monaco', 'Europe/Moscow', 'Europe/Oslo', 'Europe/Paris', 'Europe/Podgorica', 'Europe/Prague', 'Europe/Riga', 'Europe/Rome', 'Europe/Samara', 'Europe/San_Marino', 'Europe/Sarajevo', 'Europe/Saratov', 'Europe/Simferopol', 'Europe/Skopje', 'Europe/Sofia', 'Europe/Stockholm', 'Europe/Tallinn', 'Europe/Tirane', 'Europe/Ulyanovsk', 'Europe/Vaduz', 'Europe/Vatican', 'Europe/Vienna', 'Europe/Vilnius', 'Europe/Volgograd', 'Europe/Warsaw', 'Europe/Zagreb', 'Europe/Zurich', 'GMT', 'Indian/Antananarivo', 'Indian/Chagos', 'Indian/Christmas', 'Indian/Cocos', 'Indian/Comoro', 'Indian/Kerguelen', 'Indian/Mahe', 'Indian/Maldives', 'Indian/Mauritius', 'Indian/Mayotte', 'Indian/Reunion', 'Pacific/Apia', 'Pacific/Auckland', 'Pacific/Bougainville', 'Pacific/Chatham', 'Pacific/Chuuk', 'Pacific/Easter', 'Pacific/Efate', 'Pacific/Fakaofo', 'Pacific/Fiji', 'Pacific/Funafuti', 'Pacific/Galapagos', 'Pacific/Gambier', 'Pacific/Guadalcanal', 'Pacific/Guam', 'Pacific/Honolulu', 'Pacific/Kanton', 'Pacific/Kiritimati', 'Pacific/Kosrae', 'Pacific/Kwajalein', 'Pacific/Majuro', 'Pacific/Marquesas', 'Pacific/Midway', 'Pacific/Nauru', 'Pacific/Niue', 'Pacific/Norfolk', 'Pacific/Noumea', 'Pacific/Pago_Pago', 'Pacific/Palau', 'Pacific/Pitcairn', 'Pacific/Pohnpei', 'Pacific/Port_Moresby', 'Pacific/Rarotonga', 'Pacific/Saipan', 'Pacific/Tahiti', 'Pacific/Tarawa', 'Pacific/Tongatapu', 'Pacific/Wake', 'Pacific/Wallis', 'US/Alaska', 'US/Arizona', 'US/Central', 'US/Eastern', 'US/Hawaii', 'US/Mountain', 'US/Pacific', 'UTC']\n"
     ]
    }
   ],
   "source": [
    "# 时区名字\n",
    "import pytz\n",
    "print(pytz.common_timezones)"
   ]
  },
  {
   "cell_type": "code",
   "execution_count": 293,
   "metadata": {},
   "outputs": [
    {
     "data": {
      "text/plain": [
       "Timestamp('2023-07-05 23:25:40+0800', tz='Asia/Shanghai')"
      ]
     },
     "execution_count": 293,
     "metadata": {},
     "output_type": "execute_result"
    }
   ],
   "source": [
    "# 2019-5-1\n",
    "pd.to_datetime(1688570740000,unit='ms').tz_localize('UTC').tz_convert('Asia/Shanghai')"
   ]
  },
  {
   "cell_type": "code",
   "execution_count": 292,
   "metadata": {},
   "outputs": [
    {
     "data": {
      "text/plain": [
       "0   2023-07-05 23:25:40+08:00\n",
       "1   2023-07-05 23:26:40+08:00\n",
       "2   2023-07-05 23:27:40+08:00\n",
       "Name: time_stamp, dtype: datetime64[ns, Asia/Shanghai]"
      ]
     },
     "execution_count": 292,
     "metadata": {},
     "output_type": "execute_result"
    }
   ],
   "source": [
    "# 处理⼀列\n",
    "df = pd.DataFrame([1688570740000, 1688570800000, 1688570860000],columns = ['time_stamp'])\n",
    "pd.to_datetime(df['time_stamp'],unit='ms').dt.tz_localize('UTC').dt.tz_convert ('Asia/Shanghai')"
   ]
  },
  {
   "cell_type": "code",
   "execution_count": 282,
   "metadata": {},
   "outputs": [
    {
     "data": {
      "text/plain": [
       "Timestamp('2023-07-05 00:00:00')"
      ]
     },
     "execution_count": 282,
     "metadata": {},
     "output_type": "execute_result"
    }
   ],
   "source": [
    "# 先赋予标准时区,再转换到东⼋区\n",
    "# 处理中⽂\n",
    "pd.to_datetime('2023年7⽉5⽇',format='%Y年%m⽉%d⽇')"
   ]
  },
  {
   "cell_type": "markdown",
   "metadata": {},
   "source": [
    "### 分组聚合"
   ]
  },
  {
   "cell_type": "code",
   "execution_count": 295,
   "metadata": {},
   "outputs": [
    {
     "data": {
      "text/html": [
       "<div>\n",
       "<style scoped>\n",
       "    .dataframe tbody tr th:only-of-type {\n",
       "        vertical-align: middle;\n",
       "    }\n",
       "\n",
       "    .dataframe tbody tr th {\n",
       "        vertical-align: top;\n",
       "    }\n",
       "\n",
       "    .dataframe thead th {\n",
       "        text-align: right;\n",
       "    }\n",
       "</style>\n",
       "<table border=\"1\" class=\"dataframe\">\n",
       "  <thead>\n",
       "    <tr style=\"text-align: right;\">\n",
       "      <th></th>\n",
       "      <th>name</th>\n",
       "      <th>Year</th>\n",
       "      <th>Salary</th>\n",
       "      <th>Bonus</th>\n",
       "    </tr>\n",
       "  </thead>\n",
       "  <tbody>\n",
       "    <tr>\n",
       "      <th>0</th>\n",
       "      <td>BOSS</td>\n",
       "      <td>2016</td>\n",
       "      <td>999999</td>\n",
       "      <td>100000</td>\n",
       "    </tr>\n",
       "    <tr>\n",
       "      <th>1</th>\n",
       "      <td>Lilei</td>\n",
       "      <td>2016</td>\n",
       "      <td>20000</td>\n",
       "      <td>20000</td>\n",
       "    </tr>\n",
       "    <tr>\n",
       "      <th>2</th>\n",
       "      <td>Lilei</td>\n",
       "      <td>2016</td>\n",
       "      <td>25000</td>\n",
       "      <td>20000</td>\n",
       "    </tr>\n",
       "    <tr>\n",
       "      <th>3</th>\n",
       "      <td>Han</td>\n",
       "      <td>2016</td>\n",
       "      <td>3000</td>\n",
       "      <td>5000</td>\n",
       "    </tr>\n",
       "    <tr>\n",
       "      <th>4</th>\n",
       "      <td>BOSS</td>\n",
       "      <td>2017</td>\n",
       "      <td>9999999</td>\n",
       "      <td>200000</td>\n",
       "    </tr>\n",
       "    <tr>\n",
       "      <th>5</th>\n",
       "      <td>BOSS</td>\n",
       "      <td>2017</td>\n",
       "      <td>999999</td>\n",
       "      <td>300000</td>\n",
       "    </tr>\n",
       "    <tr>\n",
       "      <th>6</th>\n",
       "      <td>Han</td>\n",
       "      <td>2017</td>\n",
       "      <td>3500</td>\n",
       "      <td>3000</td>\n",
       "    </tr>\n",
       "    <tr>\n",
       "      <th>7</th>\n",
       "      <td>BOSS</td>\n",
       "      <td>2017</td>\n",
       "      <td>999999</td>\n",
       "      <td>400000</td>\n",
       "    </tr>\n",
       "  </tbody>\n",
       "</table>\n",
       "</div>"
      ],
      "text/plain": [
       "    name  Year   Salary   Bonus\n",
       "0   BOSS  2016   999999  100000\n",
       "1  Lilei  2016    20000   20000\n",
       "2  Lilei  2016    25000   20000\n",
       "3    Han  2016     3000    5000\n",
       "4   BOSS  2017  9999999  200000\n",
       "5   BOSS  2017   999999  300000\n",
       "6    Han  2017     3500    3000\n",
       "7   BOSS  2017   999999  400000"
      ]
     },
     "execution_count": 295,
     "metadata": {},
     "output_type": "execute_result"
    }
   ],
   "source": [
    "df=pd.DataFrame({\n",
    "'name':['BOSS','Lilei','Lilei','Han','BOSS','BOSS','Han','BOSS'], 'Year':[2016,2016,2016,2016,2017,2017,2017,2017],\n",
    "'Salary':[999999,20000,25000,3000,9999999,999999,3500,999999],\n",
    "'Bonus':[100000,20000,20000,5000,200000,300000,3000,400000]\n",
    "})\n",
    "df"
   ]
  },
  {
   "cell_type": "code",
   "execution_count": 296,
   "metadata": {},
   "outputs": [
    {
     "name": "stdout",
     "output_type": "stream",
     "text": [
      "<class 'pandas.core.groupby.generic.DataFrameGroupBy'>\n"
     ]
    }
   ],
   "source": [
    "# 根据name这⼀列进⾏分组\n",
    "group_by_name=df.groupby('name') \n",
    "print(type(group_by_name))"
   ]
  },
  {
   "cell_type": "markdown",
   "metadata": {},
   "source": []
  },
  {
   "cell_type": "code",
   "execution_count": 297,
   "metadata": {},
   "outputs": [
    {
     "name": "stdout",
     "output_type": "stream",
     "text": [
      "{'BOSS': [0, 4, 5, 7], 'Han': [3, 6], 'Lilei': [1, 2]}\n",
      "       Year  Salary  Bonus\n",
      "name                      \n",
      "BOSS      4       4      4\n",
      "Han       2       2      2\n",
      "Lilei     2       2      2\n"
     ]
    }
   ],
   "source": [
    "# 查看分组\n",
    "print(group_by_name.groups) # 分组后的数量\n",
    "print(group_by_name.count())"
   ]
  },
  {
   "cell_type": "code",
   "execution_count": 301,
   "metadata": {},
   "outputs": [
    {
     "name": "stdout",
     "output_type": "stream",
     "text": [
      "BOSS\n",
      "Han\n",
      "Lilei\n"
     ]
    }
   ],
   "source": [
    "# 查看分组的情况\n",
    "for name,group in group_by_name: \n",
    "    print(name)"
   ]
  },
  {
   "cell_type": "code",
   "execution_count": 302,
   "metadata": {},
   "outputs": [
    {
     "name": "stdout",
     "output_type": "stream",
     "text": [
      "    name  Year  Salary  Bonus\n",
      "1  Lilei  2016   20000  20000\n",
      "2  Lilei  2016   25000  20000\n"
     ]
    }
   ],
   "source": [
    "# 组的名字\n",
    "print(group) # 组具体内容"
   ]
  },
  {
   "cell_type": "code",
   "execution_count": 303,
   "metadata": {},
   "outputs": [
    {
     "name": "stdout",
     "output_type": "stream",
     "text": [
      "   name  Year   Salary   Bonus\n",
      "0  BOSS  2016   999999  100000\n",
      "4  BOSS  2017  9999999  200000\n",
      "5  BOSS  2017   999999  300000\n",
      "7  BOSS  2017   999999  400000\n"
     ]
    }
   ],
   "source": [
    "# 可以选择分组\n",
    "print(group_by_name.get_group('BOSS'))"
   ]
  },
  {
   "cell_type": "code",
   "execution_count": 304,
   "metadata": {},
   "outputs": [
    {
     "name": "stdout",
     "output_type": "stream",
     "text": [
      "name\n",
      "BOSS     4\n",
      "Han      2\n",
      "Lilei    2\n",
      "Name: Year, dtype: int64\n"
     ]
    }
   ],
   "source": [
    "# 按照某⼀列进⾏分组, 将name这⼀列作为分组的键，对year进⾏分组 \n",
    "group_by_name=df['Year'].groupby(df['name'])\n",
    "print(group_by_name.count())\n"
   ]
  },
  {
   "cell_type": "code",
   "execution_count": 306,
   "metadata": {},
   "outputs": [
    {
     "name": "stdout",
     "output_type": "stream",
     "text": [
      "('BOSS', 2016)\n",
      "   name  Year  Salary   Bonus\n",
      "0  BOSS  2016  999999  100000\n",
      "('BOSS', 2017)\n",
      "   name  Year   Salary   Bonus\n",
      "4  BOSS  2017  9999999  200000\n",
      "5  BOSS  2017   999999  300000\n",
      "7  BOSS  2017   999999  400000\n",
      "('Han', 2016)\n",
      "  name  Year  Salary  Bonus\n",
      "3  Han  2016    3000   5000\n",
      "('Han', 2017)\n",
      "  name  Year  Salary  Bonus\n",
      "6  Han  2017    3500   3000\n",
      "('Lilei', 2016)\n",
      "    name  Year  Salary  Bonus\n",
      "1  Lilei  2016   20000  20000\n",
      "2  Lilei  2016   25000  20000\n"
     ]
    }
   ],
   "source": [
    "# 按照多列进⾏分组\n",
    "group_by_name_year=df.groupby(['name','Year'])\n",
    "for name,group in group_by_name_year: \n",
    "    print(name) # 组的名字\n",
    "    print(group) # 组具体内容\n"
   ]
  },
  {
   "cell_type": "code",
   "execution_count": 307,
   "metadata": {},
   "outputs": [
    {
     "name": "stdout",
     "output_type": "stream",
     "text": [
      "   name  Year  Salary   Bonus\n",
      "0  BOSS  2016  999999  100000\n"
     ]
    }
   ],
   "source": [
    "# 可以选择分组\n",
    "print(group_by_name_year.get_group(('BOSS',2016)))"
   ]
  },
  {
   "cell_type": "markdown",
   "metadata": {},
   "source": []
  },
  {
   "cell_type": "code",
   "execution_count": 338,
   "metadata": {},
   "outputs": [
    {
     "name": "stdout",
     "output_type": "stream",
     "text": [
      "           Age  Sex\n",
      "Age                \n",
      "(19, 40]    35   35\n",
      "(40, 65]    54   54\n",
      "(65, 100]   11   11\n"
     ]
    }
   ],
   "source": [
    "# 将某列数据按数据值分成不同范围段进⾏分组（groupby）运算\n",
    "df = pd.DataFrame({'Age': np.random.randint(20, 70, 100),\n",
    " 'Sex': np.random.choice(['M', 'F'], 100),\n",
    " })\n",
    "age_groups = pd.cut(df['Age'], bins=[19,40,65,100])\n",
    "# print(age_groups)\n",
    "print(df.groupby(age_groups).count())"
   ]
  },
  {
   "cell_type": "code",
   "execution_count": 309,
   "metadata": {},
   "outputs": [
    {
     "data": {
      "text/html": [
       "<div>\n",
       "<style scoped>\n",
       "    .dataframe tbody tr th:only-of-type {\n",
       "        vertical-align: middle;\n",
       "    }\n",
       "\n",
       "    .dataframe tbody tr th {\n",
       "        vertical-align: top;\n",
       "    }\n",
       "\n",
       "    .dataframe thead th {\n",
       "        text-align: right;\n",
       "    }\n",
       "</style>\n",
       "<table border=\"1\" class=\"dataframe\">\n",
       "  <thead>\n",
       "    <tr style=\"text-align: right;\">\n",
       "      <th>Sex</th>\n",
       "      <th>F</th>\n",
       "      <th>M</th>\n",
       "    </tr>\n",
       "    <tr>\n",
       "      <th>Age</th>\n",
       "      <th></th>\n",
       "      <th></th>\n",
       "    </tr>\n",
       "  </thead>\n",
       "  <tbody>\n",
       "    <tr>\n",
       "      <th>(19, 40]</th>\n",
       "      <td>18</td>\n",
       "      <td>22</td>\n",
       "    </tr>\n",
       "    <tr>\n",
       "      <th>(40, 65]</th>\n",
       "      <td>25</td>\n",
       "      <td>27</td>\n",
       "    </tr>\n",
       "    <tr>\n",
       "      <th>(65, 100]</th>\n",
       "      <td>3</td>\n",
       "      <td>5</td>\n",
       "    </tr>\n",
       "  </tbody>\n",
       "</table>\n",
       "</div>"
      ],
      "text/plain": [
       "Sex         F   M\n",
       "Age              \n",
       "(19, 40]   18  22\n",
       "(40, 65]   25  27\n",
       "(65, 100]   3   5"
      ]
     },
     "execution_count": 309,
     "metadata": {},
     "output_type": "execute_result"
    }
   ],
   "source": [
    "# 按‘Age’分组范围和性别（sex）进⾏制作交叉表 \n",
    "pd.crosstab(age_groups, df['Sex'])"
   ]
  },
  {
   "cell_type": "code",
   "execution_count": 310,
   "metadata": {},
   "outputs": [
    {
     "data": {
      "text/plain": [
       "'聚合函数\\nmean 计算分组平均值\\ncount 分组中⾮NA值的数量\\nsum ⾮NA值的和\\nmedian ⾮NA值的算术中位数\\nstd 标准差\\nvar ⽅差\\nmin ⾮NA值的最⼩值\\nmax ⾮NA值的最⼤值\\nprod ⾮NA值的积\\nfirst 第⼀个⾮NA值\\nlast 最后⼀个⾮NA值\\nmad 平均绝对偏差\\nmode 模\\nabs 绝对值\\nsem 平均值的标准误差\\nskew 样品偏斜度（三阶矩）\\nkurt 样品峰度（四阶矩）\\nquantile 样本分位数（百分位上的值）\\ncumsum 累积总和\\ncumprod 累积乘积\\ncummax 累积最⼤值\\ncummin 累积最⼩值\\n'"
      ]
     },
     "execution_count": 310,
     "metadata": {},
     "output_type": "execute_result"
    }
   ],
   "source": [
    "## 聚合\n",
    "'''聚合函数\n",
    "计算分组平均值\n",
    "分组中⾮NA值的数量\n",
    "⾮NA值的和\n",
    "⾮NA值的算术中位数\n",
    "标准差\n",
    "⽅差\n",
    "⾮NA值的最⼩值\n",
    "⾮NA值的最⼤值\n",
    "⾮NA值的积\n",
    "第⼀个⾮NA值\n",
    "最后⼀个⾮NA值\n",
    "平均绝对偏差\n",
    "模\n",
    "绝对值\n",
    "平均值的标准误差\n",
    "样品偏斜度（三阶矩）\n",
    "样品峰度（四阶矩）\n",
    "样本分位数（百分位上的值）\n",
    "累积总和\n",
    "累积乘积\n",
    "累积最⼤值\n",
    "累积最⼩值\n",
    "'''"
   ]
  },
  {
   "cell_type": "code",
   "execution_count": 311,
   "metadata": {},
   "outputs": [
    {
     "name": "stdout",
     "output_type": "stream",
     "text": [
      "   Data1  Data2 key1 key2\n",
      "0      4     17    a    x\n",
      "1      4     13    a    y\n",
      "2      0     12    b    y\n",
      "3      5     16    b    x\n",
      "4      8     10    a    y\n"
     ]
    }
   ],
   "source": [
    "df1=pd.DataFrame({'Data1':np.random.randint(0,10,5),\n",
    " 'Data2':np.random.randint(10,20,5),\n",
    " 'key1':list('aabba'),\n",
    " 'key2':list('xyyxy')})\n",
    "print(df1)"
   ]
  },
  {
   "cell_type": "code",
   "execution_count": 312,
   "metadata": {},
   "outputs": [
    {
     "name": "stdout",
     "output_type": "stream",
     "text": [
      "      Data1  Data2\n",
      "key1              \n",
      "a        16     40\n",
      "b         5     28\n"
     ]
    },
    {
     "name": "stderr",
     "output_type": "stream",
     "text": [
      "/var/folders/h4/7cr1cmpn7v5b3x20_9wz8m740000gn/T/ipykernel_50251/3601195828.py:3: FutureWarning: The default value of numeric_only in DataFrameGroupBy.sum is deprecated. In a future version, numeric_only will default to False. Either specify numeric_only or select only columns which should be valid for the function.\n",
      "  print(df1.groupby('key1').sum())\n"
     ]
    }
   ],
   "source": [
    "# 按key1分组，进⾏聚合计算\n",
    "# 注意：当分组后进⾏数值计算时，不是数值类的列（即麻烦列）会被清除 \n",
    "print(df1.groupby('key1').sum())"
   ]
  },
  {
   "cell_type": "code",
   "execution_count": 313,
   "metadata": {},
   "outputs": [
    {
     "name": "stdout",
     "output_type": "stream",
     "text": [
      "key1\n",
      "a    16\n",
      "b     5\n",
      "Name: Data1, dtype: int64\n",
      "key1\n",
      "a    16\n",
      "b     5\n",
      "Name: Data1, dtype: int64\n"
     ]
    }
   ],
   "source": [
    "# 只算data1\n",
    "print(df1['Data1'].groupby(df1['key1']).sum()) \n",
    "print(df1.groupby('key1')['Data1'].sum())"
   ]
  },
  {
   "cell_type": "code",
   "execution_count": 316,
   "metadata": {},
   "outputs": [
    {
     "name": "stdout",
     "output_type": "stream",
     "text": [
      "      Data1  Data2\n",
      "key1              \n",
      "a        16     40\n",
      "b         5     28\n"
     ]
    },
    {
     "name": "stderr",
     "output_type": "stream",
     "text": [
      "/var/folders/h4/7cr1cmpn7v5b3x20_9wz8m740000gn/T/ipykernel_50251/3107361730.py:2: FutureWarning: The default value of numeric_only in DataFrameGroupBy.sum is deprecated. In a future version, numeric_only will default to False. Either specify numeric_only or select only columns which should be valid for the function.\n",
      "  print(df1.groupby('key1').agg('sum'))\n"
     ]
    }
   ],
   "source": [
    "# 使⽤agg()函数做聚合运算\n",
    "print(df1.groupby('key1').agg('sum'))"
   ]
  },
  {
   "cell_type": "code",
   "execution_count": 317,
   "metadata": {},
   "outputs": [
    {
     "name": "stdout",
     "output_type": "stream",
     "text": [
      "     Data1                     Data2                     \n",
      "       sum      mean       std   sum       mean       std\n",
      "key1                                                     \n",
      "a       16  5.333333  2.309401    40  13.333333  3.511885\n",
      "b        5  2.500000  3.535534    28  14.000000  2.828427\n"
     ]
    },
    {
     "name": "stderr",
     "output_type": "stream",
     "text": [
      "/var/folders/h4/7cr1cmpn7v5b3x20_9wz8m740000gn/T/ipykernel_50251/2185705453.py:2: FutureWarning: ['key2'] did not aggregate successfully. If any error is raised this will raise in a future version of pandas. Drop these columns/ops to avoid this warning.\n",
      "  print(df1.groupby('key1').agg(['sum','mean','std']))\n"
     ]
    }
   ],
   "source": [
    "# 可以同时做多个聚合运算\n",
    "print(df1.groupby('key1').agg(['sum','mean','std']))"
   ]
  },
  {
   "cell_type": "code",
   "execution_count": 318,
   "metadata": {},
   "outputs": [
    {
     "name": "stdout",
     "output_type": "stream",
     "text": [
      "      Data1  Data2\n",
      "key1              \n",
      "a         4      7\n",
      "b         5      4\n"
     ]
    },
    {
     "name": "stderr",
     "output_type": "stream",
     "text": [
      "/var/folders/h4/7cr1cmpn7v5b3x20_9wz8m740000gn/T/ipykernel_50251/3437144731.py:7: FutureWarning: ['key2'] did not aggregate successfully. If any error is raised this will raise in a future version of pandas. Drop these columns/ops to avoid this warning.\n",
      "  print(df1.groupby('key1').agg(peak_range))\n"
     ]
    }
   ],
   "source": [
    "# 可⾃定义函数，传⼊agg⽅法中 grouped.agg(func) \n",
    "def peak_range(df):\n",
    "    \"\"\"\n",
    "    返回数值范围\n",
    "    \"\"\"\n",
    "    return df.max() - df.min()\n",
    "print(df1.groupby('key1').agg(peak_range))"
   ]
  },
  {
   "cell_type": "code",
   "execution_count": 319,
   "metadata": {},
   "outputs": [
    {
     "name": "stdout",
     "output_type": "stream",
     "text": [
      "         Data1                                 Data2                  \\\n",
      "          mean       std count peak_range       mean       std count   \n",
      "key1                                                                   \n",
      "a     5.333333  2.309401     3          4  13.333333  3.511885     3   \n",
      "b     2.500000  3.535534     2          5  14.000000  2.828427     2   \n",
      "\n",
      "                 \n",
      "     peak_range  \n",
      "key1             \n",
      "a             7  \n",
      "b             4  \n"
     ]
    },
    {
     "name": "stderr",
     "output_type": "stream",
     "text": [
      "/var/folders/h4/7cr1cmpn7v5b3x20_9wz8m740000gn/T/ipykernel_50251/1555525189.py:2: FutureWarning: ['key2'] did not aggregate successfully. If any error is raised this will raise in a future version of pandas. Drop these columns/ops to avoid this warning.\n",
      "  print(df1.groupby('key1').agg(['mean', 'std', 'count', peak_range])) # 默认列名为函数名\n"
     ]
    }
   ],
   "source": [
    "# 同时应⽤多个聚合函数\n",
    "print(df1.groupby('key1').agg(['mean', 'std', 'count'，peak_range])) # 默认列名为函数名"
   ]
  },
  {
   "cell_type": "code",
   "execution_count": 320,
   "metadata": {},
   "outputs": [
    {
     "name": "stdout",
     "output_type": "stream",
     "text": [
      "         Data1                            Data2                      \n",
      "          mean       std count range       mean       std count range\n",
      "key1                                                                 \n",
      "a     5.333333  2.309401     3     4  13.333333  3.511885     3     7\n",
      "b     2.500000  3.535534     2     5  14.000000  2.828427     2     4\n"
     ]
    },
    {
     "name": "stderr",
     "output_type": "stream",
     "text": [
      "/var/folders/h4/7cr1cmpn7v5b3x20_9wz8m740000gn/T/ipykernel_50251/3963593872.py:1: FutureWarning: ['key2'] did not aggregate successfully. If any error is raised this will raise in a future version of pandas. Drop these columns/ops to avoid this warning.\n",
      "  print(df1.groupby('key1').agg(['mean', 'std', 'count', ('range', peak_range)])) # 通过元组提供新的列名\n"
     ]
    }
   ],
   "source": [
    "print(df1.groupby('key1').agg(['mean', 'std', 'count', ('range', peak_range)])) # 通过元组提供新的列名"
   ]
  },
  {
   "cell_type": "code",
   "execution_count": 321,
   "metadata": {},
   "outputs": [
    {
     "data": {
      "text/html": [
       "<div>\n",
       "<style scoped>\n",
       "    .dataframe tbody tr th:only-of-type {\n",
       "        vertical-align: middle;\n",
       "    }\n",
       "\n",
       "    .dataframe tbody tr th {\n",
       "        vertical-align: top;\n",
       "    }\n",
       "\n",
       "    .dataframe thead tr th {\n",
       "        text-align: left;\n",
       "    }\n",
       "\n",
       "    .dataframe thead tr:last-of-type th {\n",
       "        text-align: right;\n",
       "    }\n",
       "</style>\n",
       "<table border=\"1\" class=\"dataframe\">\n",
       "  <thead>\n",
       "    <tr>\n",
       "      <th></th>\n",
       "      <th colspan=\"2\" halign=\"left\">Data1</th>\n",
       "      <th>Data2</th>\n",
       "    </tr>\n",
       "    <tr>\n",
       "      <th></th>\n",
       "      <th>mean</th>\n",
       "      <th>max</th>\n",
       "      <th>sum</th>\n",
       "    </tr>\n",
       "    <tr>\n",
       "      <th>key1</th>\n",
       "      <th></th>\n",
       "      <th></th>\n",
       "      <th></th>\n",
       "    </tr>\n",
       "  </thead>\n",
       "  <tbody>\n",
       "    <tr>\n",
       "      <th>a</th>\n",
       "      <td>5.333333</td>\n",
       "      <td>8</td>\n",
       "      <td>40</td>\n",
       "    </tr>\n",
       "    <tr>\n",
       "      <th>b</th>\n",
       "      <td>2.500000</td>\n",
       "      <td>5</td>\n",
       "      <td>28</td>\n",
       "    </tr>\n",
       "  </tbody>\n",
       "</table>\n",
       "</div>"
      ],
      "text/plain": [
       "         Data1     Data2\n",
       "          mean max   sum\n",
       "key1                    \n",
       "a     5.333333   8    40\n",
       "b     2.500000   5    28"
      ]
     },
     "execution_count": 321,
     "metadata": {},
     "output_type": "execute_result"
    }
   ],
   "source": [
    "# 给每列作⽤不同的聚合函数 \n",
    "dict_mapping = {\n",
    "    'Data1':['mean','max'],\n",
    "    'Data2':'sum'\n",
    "}\n",
    "df1.groupby('key1').agg(dict_mapping)"
   ]
  },
  {
   "cell_type": "markdown",
   "metadata": {},
   "source": [
    "### 拓展 apply（）函数"
   ]
  },
  {
   "cell_type": "code",
   "execution_count": 339,
   "metadata": {},
   "outputs": [
    {
     "name": "stdout",
     "output_type": "stream",
     "text": [
      "  sex smoker  age  weight\n",
      "0   F      Y   21     120\n",
      "1   F      N   30     100\n",
      "2   M      Y   17     132\n",
      "3   F      Y   37     140\n",
      "4   M      N   40      94\n",
      "5   M      Y   18      89\n",
      "6   F      Y   26     123\n"
     ]
    }
   ],
   "source": [
    "# 拓展apply函数\n",
    "# apply函数是pandas⾥⾯所有函数中⾃由度最⾼的函数\n",
    "df1=pd.DataFrame({'sex':list('FFMFMMF'),'smoker':list('YNYYNYY'),'age': [21,30,17,37,40,18,26],'weight':[120,100,132,140,94,89,123]})\n",
    "print(df1)"
   ]
  },
  {
   "cell_type": "code",
   "execution_count": 323,
   "metadata": {},
   "outputs": [
    {
     "name": "stdout",
     "output_type": "stream",
     "text": [
      "0    1\n",
      "1    1\n",
      "2    0\n",
      "3    1\n",
      "4    1\n",
      "5    1\n",
      "6    1\n",
      "Name: age, dtype: int64\n"
     ]
    }
   ],
   "source": [
    "def bin_age(age):\n",
    "    if age >=18:\n",
    "        return 1 \n",
    "    else:\n",
    "        return 0\n",
    "# 抽烟的年龄⼤于等18的\n",
    "print(df1['age'].apply(bin_age))"
   ]
  },
  {
   "cell_type": "code",
   "execution_count": 324,
   "metadata": {},
   "outputs": [
    {
     "name": "stdout",
     "output_type": "stream",
     "text": [
      "  sex smoker  age  weight\n",
      "0   F      Y    1     120\n",
      "1   F      N    1     100\n",
      "2   M      Y    0     132\n",
      "3   F      Y    1     140\n",
      "4   M      N    1      94\n",
      "5   M      Y    1      89\n",
      "6   F      Y    1     123\n"
     ]
    }
   ],
   "source": [
    "df1['age'] = df1['age'].apply(bin_age) \n",
    "print(df1)"
   ]
  },
  {
   "cell_type": "code",
   "execution_count": 326,
   "metadata": {},
   "outputs": [
    {
     "data": {
      "text/html": [
       "<div>\n",
       "<style scoped>\n",
       "    .dataframe tbody tr th:only-of-type {\n",
       "        vertical-align: middle;\n",
       "    }\n",
       "\n",
       "    .dataframe tbody tr th {\n",
       "        vertical-align: top;\n",
       "    }\n",
       "\n",
       "    .dataframe thead th {\n",
       "        text-align: right;\n",
       "    }\n",
       "</style>\n",
       "<table border=\"1\" class=\"dataframe\">\n",
       "  <thead>\n",
       "    <tr style=\"text-align: right;\">\n",
       "      <th></th>\n",
       "      <th></th>\n",
       "      <th>sex</th>\n",
       "      <th>smoker</th>\n",
       "      <th>age</th>\n",
       "      <th>weight</th>\n",
       "    </tr>\n",
       "    <tr>\n",
       "      <th>smoker</th>\n",
       "      <th></th>\n",
       "      <th></th>\n",
       "      <th></th>\n",
       "      <th></th>\n",
       "      <th></th>\n",
       "    </tr>\n",
       "  </thead>\n",
       "  <tbody>\n",
       "    <tr>\n",
       "      <th rowspan=\"2\" valign=\"top\">N</th>\n",
       "      <th>4</th>\n",
       "      <td>M</td>\n",
       "      <td>N</td>\n",
       "      <td>1</td>\n",
       "      <td>94</td>\n",
       "    </tr>\n",
       "    <tr>\n",
       "      <th>1</th>\n",
       "      <td>F</td>\n",
       "      <td>N</td>\n",
       "      <td>1</td>\n",
       "      <td>100</td>\n",
       "    </tr>\n",
       "    <tr>\n",
       "      <th rowspan=\"2\" valign=\"top\">Y</th>\n",
       "      <th>2</th>\n",
       "      <td>M</td>\n",
       "      <td>Y</td>\n",
       "      <td>0</td>\n",
       "      <td>132</td>\n",
       "    </tr>\n",
       "    <tr>\n",
       "      <th>3</th>\n",
       "      <td>F</td>\n",
       "      <td>Y</td>\n",
       "      <td>1</td>\n",
       "      <td>140</td>\n",
       "    </tr>\n",
       "  </tbody>\n",
       "</table>\n",
       "</div>"
      ],
      "text/plain": [
       "         sex smoker  age  weight\n",
       "smoker                          \n",
       "N      4   M      N    1      94\n",
       "       1   F      N    1     100\n",
       "Y      2   M      Y    0     132\n",
       "       3   F      Y    1     140"
      ]
     },
     "execution_count": 326,
     "metadata": {},
     "output_type": "execute_result"
    }
   ],
   "source": [
    "# 取出抽烟和不抽烟的体重前⼆\n",
    "def top(smoker,col,n=5):\n",
    "    return smoker.sort_values(by=col)[-n:]\n",
    "df1.groupby('smoker').apply(top,col='weight',n=2)"
   ]
  },
  {
   "cell_type": "markdown",
   "metadata": {},
   "source": [
    "## 分组案例"
   ]
  },
  {
   "cell_type": "code",
   "execution_count": 329,
   "metadata": {},
   "outputs": [
    {
     "name": "stdout",
     "output_type": "stream",
     "text": [
      "数据的形状： (5043, 28)\n",
      "                                         movie_title language country  \\\n",
      "0                                            Avatar   English     USA   \n",
      "1          Pirates of the Caribbean: At World's End   English     USA   \n",
      "2                                           Spectre   English      UK   \n",
      "3                             The Dark Knight Rises   English     USA   \n",
      "4  Star Wars: Episode VII - The Force Awakens    ...      NaN     NaN   \n",
      "\n",
      "  content_rating title_year  color  duration                           genres  \\\n",
      "0          PG-13    2009-02  Color     178.0  Action|Adventure|Fantasy|Sci-Fi   \n",
      "1          PG-13    2007-09  Color     169.0         Action|Adventure|Fantasy   \n",
      "2          PG-13    2015-11  Color     148.0        Action|Adventure|Thriller   \n",
      "3          PG-13    2012-08  Color     164.0                  Action|Thriller   \n",
      "4            NaN        NaN    NaN       NaN                      Documentary   \n",
      "\n",
      "                                       plot_keywords       budget  ...  \\\n",
      "0             avatar|future|marine|native|paraplegic  237000000.0  ...   \n",
      "1  goddess|marriage ceremony|marriage proposal|pi...  300000000.0  ...   \n",
      "2                bomb|espionage|sequel|spy|terrorist  245000000.0  ...   \n",
      "3  deception|imprisonment|lawlessness|police offi...  250000000.0  ...   \n",
      "4                                                NaN          NaN  ...   \n",
      "\n",
      "   actor_2_facebook_likes          actor_3_name  actor_3_facebook_likes  \\\n",
      "0                   936.0             Wes Studi                   855.0   \n",
      "1                  5000.0        Jack Davenport                  1000.0   \n",
      "2                   393.0      Stephanie Sigman                   161.0   \n",
      "3                 23000.0  Joseph Gordon-Levitt                 23000.0   \n",
      "4                    12.0                   NaN                     NaN   \n",
      "\n",
      "  num_voted_users  num_user_for_reviews num_critic_for_reviews  \\\n",
      "0          886204                3054.0                  723.0   \n",
      "1          471220                1238.0                  302.0   \n",
      "2          275868                 994.0                  602.0   \n",
      "3         1144337                2701.0                  813.0   \n",
      "4               8                   NaN                    NaN   \n",
      "\n",
      "   movie_facebook_likes cast_total_facebook_likes  \\\n",
      "0                 33000                      4834   \n",
      "1                     0                     48350   \n",
      "2                 85000                     11700   \n",
      "3                164000                    106759   \n",
      "4                     0                       143   \n",
      "\n",
      "                                     movie_imdb_link imdb_score  \n",
      "0  http://www.imdb.com/title/tt0499549/?ref_=fn_t...        7.9  \n",
      "1  http://www.imdb.com/title/tt0449088/?ref_=fn_t...        7.1  \n",
      "2  http://www.imdb.com/title/tt2379713/?ref_=fn_t...        6.8  \n",
      "3  http://www.imdb.com/title/tt1345836/?ref_=fn_t...        8.5  \n",
      "4  http://www.imdb.com/title/tt5289954/?ref_=fn_t...        7.1  \n",
      "\n",
      "[5 rows x 28 columns]\n"
     ]
    }
   ],
   "source": [
    "# 读取数据\n",
    "data = pd.read_csv('./data/movie_metadata.csv')\n",
    "print('数据的形状：', data.shape) \n",
    "print(data.head(5))"
   ]
  },
  {
   "cell_type": "code",
   "execution_count": 331,
   "metadata": {},
   "outputs": [
    {
     "name": "stdout",
     "output_type": "stream",
     "text": [
      "                                 movie_title language country content_rating  \\\n",
      "0                                    Avatar   English     USA          PG-13   \n",
      "1  Pirates of the Caribbean: At World's End   English     USA          PG-13   \n",
      "2                                   Spectre   English      UK          PG-13   \n",
      "3                     The Dark Knight Rises   English     USA          PG-13   \n",
      "5                               John Carter   English     USA          PG-13   \n",
      "\n",
      "  title_year  color  duration                           genres  \\\n",
      "0    2009-02  Color     178.0  Action|Adventure|Fantasy|Sci-Fi   \n",
      "1    2007-09  Color     169.0         Action|Adventure|Fantasy   \n",
      "2    2015-11  Color     148.0        Action|Adventure|Thriller   \n",
      "3    2012-08  Color     164.0                  Action|Thriller   \n",
      "5    2012-07  Color     132.0          Action|Adventure|Sci-Fi   \n",
      "\n",
      "                                       plot_keywords       budget  ...  \\\n",
      "0             avatar|future|marine|native|paraplegic  237000000.0  ...   \n",
      "1  goddess|marriage ceremony|marriage proposal|pi...  300000000.0  ...   \n",
      "2                bomb|espionage|sequel|spy|terrorist  245000000.0  ...   \n",
      "3  deception|imprisonment|lawlessness|police offi...  250000000.0  ...   \n",
      "5  alien|american civil war|male nipple|mars|prin...  263700000.0  ...   \n",
      "\n",
      "   actor_2_facebook_likes          actor_3_name  actor_3_facebook_likes  \\\n",
      "0                   936.0             Wes Studi                   855.0   \n",
      "1                  5000.0        Jack Davenport                  1000.0   \n",
      "2                   393.0      Stephanie Sigman                   161.0   \n",
      "3                 23000.0  Joseph Gordon-Levitt                 23000.0   \n",
      "5                   632.0          Polly Walker                   530.0   \n",
      "\n",
      "  num_voted_users  num_user_for_reviews num_critic_for_reviews  \\\n",
      "0          886204                3054.0                  723.0   \n",
      "1          471220                1238.0                  302.0   \n",
      "2          275868                 994.0                  602.0   \n",
      "3         1144337                2701.0                  813.0   \n",
      "5          212204                 738.0                  462.0   \n",
      "\n",
      "   movie_facebook_likes cast_total_facebook_likes  \\\n",
      "0                 33000                      4834   \n",
      "1                     0                     48350   \n",
      "2                 85000                     11700   \n",
      "3                164000                    106759   \n",
      "5                 24000                      1873   \n",
      "\n",
      "                                     movie_imdb_link imdb_score  \n",
      "0  http://www.imdb.com/title/tt0499549/?ref_=fn_t...        7.9  \n",
      "1  http://www.imdb.com/title/tt0449088/?ref_=fn_t...        7.1  \n",
      "2  http://www.imdb.com/title/tt2379713/?ref_=fn_t...        6.8  \n",
      "3  http://www.imdb.com/title/tt1345836/?ref_=fn_t...        8.5  \n",
      "5  http://www.imdb.com/title/tt0401729/?ref_=fn_t...        6.6  \n",
      "\n",
      "[5 rows x 28 columns]\n"
     ]
    }
   ],
   "source": [
    "# 处理缺失值\n",
    "data = data.dropna(how='any')\n",
    "print(data.head())"
   ]
  },
  {
   "cell_type": "code",
   "execution_count": 333,
   "metadata": {},
   "outputs": [
    {
     "name": "stdout",
     "output_type": "stream",
     "text": [
      "<class 'pandas.core.series.Series'>\n",
      "director_name\n",
      "Ekachai Uekrongtham    1.620000e+02\n",
      "Frank Whaley           7.030000e+02\n",
      "Ricki Stern            1.111000e+03\n",
      "Alex Craig Mann        1.332000e+03\n",
      "Paul Bunnell           2.436000e+03\n",
      "                           ...     \n",
      "Sam Raimi              2.049549e+09\n",
      "Tim Burton             2.071275e+09\n",
      "Michael Bay            2.231243e+09\n",
      "Peter Jackson          2.592969e+09\n",
      "Steven Spielberg       4.114233e+09\n",
      "Name: gross, Length: 1660, dtype: float64\n"
     ]
    }
   ],
   "source": [
    "# 查看票房收⼊统计\n",
    "# 导演vs票房总收⼊\n",
    "group_director = data.groupby(by='director_name')['gross'].sum()\n",
    "# ascending升降序排列，True升序\n",
    "result = group_director.sort_values() \n",
    "print(type(result))\n",
    "print(result)"
   ]
  },
  {
   "cell_type": "code",
   "execution_count": 336,
   "metadata": {},
   "outputs": [
    {
     "name": "stdout",
     "output_type": "stream",
     "text": [
      "['1927-02', '1929-09', '1933-01', '1935-01', '1936-03', '1937-08', '1939-02', '1939-10', '1940-10', '1946-05', '1946-06', '1947-05', '1948-05', '1950-12', '1952-05', '1953-03', '1953-04', '1954-04', '1954-06', '1957-10', '1959-10', '1960-08', '1961-12', '1962-01', '1962-09', '1963-01', '1963-04', '1963-07', '1964-02', '1964-03', '1964-09', '1965-03', '1965-04', '1965-05', '1965-11', '1966-10', '1967-05', '1968-01', '1968-11', '1969-10', '1970-03', '1970-10', '1970-11', '1970-12', '1971-09', '1971-10', '1972-01', '1972-09', '1973-04', '1973-08', '1973-09', '1973-12', '1974-01', '1974-03', '1974-04', '1974-05', '1974-08', '1974-11', '1975-01', '1975-03', '1975-04', '1976-03', '1976-05', '1977-01', '1977-03', '1977-04', '1977-06', '1977-10', '1978-03', '1978-05', '1978-06', '1978-07', '1978-08', '1978-11', '1979-01', '1979-03', '1979-04', '1979-07', '1979-08', '1979-11', '1980-01', '1980-02', '1980-04', '1980-05', '1980-06', '1980-09', '1980-10', '1980-11', '1980-12', '1981-02', '1981-04', '1981-05', '1981-06', '1981-07', '1981-10', '1981-11', '1981-12', '1982-01', '1982-03', '1982-05', '1982-06', '1982-07', '1982-08', '1982-12', '1983-01', '1983-02', '1983-03', '1983-04', '1983-05', '1983-09', '1983-12', '1984-01', '1984-02', '1984-03', '1984-04', '1984-05', '1984-06', '1984-07', '1984-08', '1984-09', '1984-10', '1984-11', '1984-12', '1985-02', '1985-04', '1985-05', '1985-06', '1985-07', '1985-08', '1985-09', '1985-11', '1985-12', '1986-01', '1986-02', '1986-04', '1986-05', '1986-06', '1986-07', '1986-08', '1986-09', '1986-10', '1986-11', '1987-01', '1987-02', '1987-03', '1987-04', '1987-05', '1987-06', '1987-07', '1987-09', '1987-10', '1987-11', '1987-12', '1988-01', '1988-02', '1988-03', '1988-04', '1988-05', '1988-06', '1988-07', '1988-08', '1988-09', '1988-10', '1988-12', '1989-01', '1989-03', '1989-04', '1989-05', '1989-06', '1989-07', '1989-08', '1989-09', '1989-10', '1989-12', '1990-01', '1990-02', '1990-03', '1990-04', '1990-06', '1990-07', '1990-08', '1990-09', '1990-10', '1990-11', '1990-12', '1991-01', '1991-02', '1991-03', '1991-04', '1991-05', '1991-06', '1991-07', '1991-08', '1991-09', '1991-10', '1991-11', '1991-12', '1992-01', '1992-02', '1992-03', '1992-04', '1992-05', '1992-06', '1992-07', '1992-08', '1992-09', '1992-10', '1992-11', '1992-12', '1993-01', '1993-02', '1993-03', '1993-04', '1993-05', '1993-06', '1993-07', '1993-08', '1993-09', '1993-10', '1993-11', '1993-12', '1994-01', '1994-02', '1994-03', '1994-04', '1994-05', '1994-06', '1994-07', '1994-08', '1994-09', '1994-10', '1994-11', '1994-12', '1995-01', '1995-02', '1995-03', '1995-04', '1995-05', '1995-06', '1995-07', '1995-08', '1995-09', '1995-10', '1995-11', '1995-12', '1996-01', '1996-02', '1996-03', '1996-04', '1996-05', '1996-06', '1996-07', '1996-08', '1996-09', '1996-10', '1996-11', '1996-12', '1997-01', '1997-02', '1997-03', '1997-04', '1997-05', '1997-06', '1997-07', '1997-08', '1997-09', '1997-10', '1997-11', '1997-12', '1998-01', '1998-02', '1998-03', '1998-04', '1998-05', '1998-06', '1998-07', '1998-08', '1998-09', '1998-10', '1998-11', '1998-12', '1999-01', '1999-02', '1999-03', '1999-04', '1999-05', '1999-06', '1999-07', '1999-08', '1999-09', '1999-10', '1999-11', '1999-12', '2000-01', '2000-02', '2000-03', '2000-04', '2000-05', '2000-06', '2000-07', '2000-08', '2000-09', '2000-10', '2000-11', '2000-12', '2001-01', '2001-02', '2001-03', '2001-04', '2001-05', '2001-06', '2001-07', '2001-08', '2001-09', '2001-10', '2001-11', '2001-12', '2002-01', '2002-02', '2002-03', '2002-04', '2002-05', '2002-06', '2002-07', '2002-08', '2002-09', '2002-10', '2002-11', '2002-12', '2003-01', '2003-02', '2003-03', '2003-04', '2003-05', '2003-06', '2003-07', '2003-08', '2003-09', '2003-10', '2003-11', '2003-12', '2004-01', '2004-02', '2004-03', '2004-04', '2004-05', '2004-06', '2004-07', '2004-08', '2004-09', '2004-10', '2004-11', '2004-12', '2005-01', '2005-02', '2005-03', '2005-04', '2005-05', '2005-06', '2005-07', '2005-08', '2005-09', '2005-10', '2005-11', '2005-12', '2006-01', '2006-02', '2006-03', '2006-04', '2006-05', '2006-06', '2006-07', '2006-08', '2006-09', '2006-10', '2006-11', '2006-12', '2007-01', '2007-02', '2007-03', '2007-04', '2007-05', '2007-06', '2007-07', '2007-08', '2007-09', '2007-10', '2007-11', '2007-12', '2008-01', '2008-02', '2008-03', '2008-04', '2008-05', '2008-06', '2008-07', '2008-08', '2008-09', '2008-10', '2008-11', '2008-12', '2009-01', '2009-02', '2009-03', '2009-04', '2009-05', '2009-06', '2009-07', '2009-08', '2009-09', '2009-10', '2009-11', '2009-12', '2010-01', '2010-02', '2010-03', '2010-04', '2010-05', '2010-06', '2010-07', '2010-08', '2010-09', '2010-10', '2010-11', '2010-12', '2011-01', '2011-02', '2011-03', '2011-04', '2011-05', '2011-06', '2011-07', '2011-08', '2011-09', '2011-10', '2011-11', '2011-12', '2012-01', '2012-02', '2012-03', '2012-04', '2012-05', '2012-06', '2012-07', '2012-08', '2012-09', '2012-10', '2012-11', '2012-12', '2013-01', '2013-02', '2013-03', '2013-04', '2013-05', '2013-06', '2013-07', '2013-08', '2013-09', '2013-10', '2013-11', '2013-12', '2014-01', '2014-02', '2014-03', '2014-04', '2014-05', '2014-06', '2014-07', '2014-08', '2014-09', '2014-10', '2014-11', '2014-12', '2015-01', '2015-02', '2015-03', '2015-04', '2015-05', '2015-06', '2015-07', '2015-08', '2015-09', '2015-10', '2015-11', '2015-12', '2016-01', '2016-02', '2016-03', '2016-04', '2016-05', '2016-06', '2016-07', '2016-08', '2016-09', '2016-12']\n",
      "[ 1  1  1  1  1  1  1  1  1  1  1  1  1  1  1  1  1  1  1  1  1  1  1  1\n",
      "  1  1  1  1  1  1  3  2  1  1  1  1  1  1  1  3  1  1  1  1  2  1  1  1\n",
      "  1  1  1  2  1  1  2  1  1  1  1  1  1  1  1  1  3  1  1  1  1  3  2  1\n",
      "  1  1  1  1  1  1  1  1  1  3  1  1  3  2  1  1  1  1  3  4  1  2  2  3\n",
      "  1  2  3  2  1  3  3  2  4  3  1  2  1  1  1  1  3  2  3  2  1  1  3  2\n",
      "  1  2  2  1  1  1  4  3  1  2  1  1  5  2  3  2  2  1  2  3  4  1  4  2\n",
      "  1  1  2  2  3  2  6  4  3  3  2  3  2  2  4  3  3  2  4  2  7  3  2  2\n",
      "  6  4  5  1  2  1  4  2  4  2  2  1  2  1  4  3  2  2  2  4  3  2  2  3\n",
      "  1  2  2  4  3  2  3  4  1  5  1  4  4  2  2  4  1  4  4  4  2  6  2  3\n",
      "  4  3  3  2  7  3  3  4  3  3  2  4  5  3 11  5  5  7  6  2  6  7  3  6\n",
      "  7  4  6  4  8 10  6 10  7  3  7 11  8  9 10  6  6 10  6  7  5  8 12  8\n",
      " 10 15  4  8  8 13  7 14 10 13  9  5 10  8 13  5  8  8 22 13 21 17 11  8\n",
      " 12 15 12  8 10 16 18 19 11 16  8 16 14  7 12  8 14 10 17 11 17 11 17 16\n",
      " 22 16 15  7 20 16 13 14 15 28 24 17 14 10 15 11 13 10 20 13 11 13 17 11\n",
      "  9  8 14  7 12 25 14 10 17 16 15 14 13 16 14 15 12 12 11 16 10 21 18 11\n",
      " 13 13 14 25 18 17 18 16 12 18 11 14 17 14 16 15 21 11 13  8  9 18 10 13\n",
      " 16  8 16 13 17 15 11 14 20 18 13 18 16 15 14 18 10 14 19 11  9 15 14 16\n",
      " 15 18 11 19 21 21  9 19 10 23 10 11 17 10 14 14 10 12 14 15 18 10 17  9\n",
      " 20 10 12 14 17 18 11 11 12 15 18 12 14  9 15 10 14 14  6 17 11 15 17 15\n",
      "  3 17 15 17 16  8 13  8 14  9 10 12 11 13 13 17 19 16 12 10 11 12  9 17\n",
      " 10  6 10  8  8  7  6  9 11  3  5  4  4  5  6]\n"
     ]
    }
   ],
   "source": [
    "# 电影产量年份趋势\n",
    "from matplotlib import pyplot as plt \n",
    "import random\n",
    "from matplotlib import font_manager\n",
    "movie_years = data.groupby('title_year')['movie_title']\n",
    "print(movie_years.count().index.tolist()) \n",
    "print(movie_years.count().values)"
   ]
  },
  {
   "cell_type": "code",
   "execution_count": 337,
   "metadata": {},
   "outputs": [
    {
     "data": {
      "image/png": "[encoded data removed]",
      "text/plain": [
       "<Figure size 1600x640 with 1 Axes>"
      ]
     },
     "metadata": {},
     "output_type": "display_data"
    }
   ],
   "source": [
    "x = movie_years.count().index.tolist()\n",
    "y = movie_years.count().values\n",
    "plt.figure(figsize=(20,8),dpi=80)\n",
    "plt.plot(x,y)\n",
    "plt.show()"
   ]
  },
  {
   "cell_type": "code",
   "execution_count": null,
   "metadata": {},
   "outputs": [],
   "source": []
  }
 ],
 "metadata": {
  "kernelspec": {
   "display_name": "base",
   "language": "python",
   "name": "python3"
  },
  "language_info": {
   "codemirror_mode": {
    "name": "ipython",
    "version": 3
   },
   "file_extension": ".py",
   "mimetype": "text/x-python",
   "name": "python",
   "nbconvert_exporter": "python",
   "pygments_lexer": "ipython3",
   "version": "3.10.12"
  },
  "orig_nbformat": 4
 },
 "nbformat": 4,
 "nbformat_minor": 2
}
