{
 "cells": [
  {
   "cell_type": "markdown",
   "metadata": {},
   "source": [
    "# 元祖"
   ]
  },
  {
   "cell_type": "code",
   "execution_count": 7,
   "metadata": {},
   "outputs": [
    {
     "name": "stdout",
     "output_type": "stream",
     "text": [
      "(1, 2, 3)\n"
     ]
    }
   ],
   "source": [
    "a = 1, 2, 3\n",
    "print(a)"
   ]
  },
  {
   "cell_type": "code",
   "execution_count": 16,
   "metadata": {},
   "outputs": [
    {
     "name": "stdout",
     "output_type": "stream",
     "text": [
      "[:]:\t (1, 2, 3, 4, 5, 5, 4, 3, 2, 1)\n",
      "[::]:\t (1, 2, 3, 4, 5, 5, 4, 3, 2, 1)\n",
      "[1:]:\t (2, 3, 4, 5, 5, 4, 3, 2, 1)\n",
      "[1:3]:\t (2, 3)\n",
      "[:3]:\t (1, 2, 3)\n",
      "[1:5:2]:\t (2, 4)\n",
      "[::2]:\t (1, 3, 5, 4, 2)\n",
      "[5:1:-1]:\t (5, 5, 4, 3)\n"
     ]
    }
   ],
   "source": [
    "# 常见的元组切片索引查询操作\n",
    "tup = 1, 2, 3, 4, 5, 5, 4, 3, 2, 1\n",
    "print('[:]:\\t',tup[:]) # 获取全部\n",
    "print('[::]:\\t', tup[::]) # 获取全部\n",
    "print('[1:]:\\t', tup[1:]) # 从索引1开始获取到最后\n",
    "print('[1:3]:\\t', tup[1:3]) # 从索引1开始索引到3之前\n",
    "print('[:3]:\\t', tup[:3]) # 从0开始索引到3之前\n",
    "print('[1:5:2]:\\t', tup[1:5:2]) # 从1开始索引到5之前，步进值为2\n",
    "print('[::2]:\\t', tup[::2]) #从0开始索引到最后，步进值为2\n",
    "print('[5:1:-1]:\\t', tup[5:1:-1]) # 从5开始往前索引到1， 步进值为-1。"
   ]
  },
  {
   "cell_type": "code",
   "execution_count": 20,
   "metadata": {},
   "outputs": [
    {
     "name": "stdout",
     "output_type": "stream",
     "text": [
      "10\n",
      "2\n",
      "4\n"
     ]
    }
   ],
   "source": [
    "# 获取元组的长度\n",
    "print(len(tup))\n",
    "\n",
    "# 统计一个元素在元组中出现的次数\n",
    "print(tup.count(5))\n",
    "\n",
    "# 获取一个元素在元组内的下标（索引值）\n",
    "print(tup.index(5, 1, 9))"
   ]
  },
  {
   "cell_type": "code",
   "execution_count": 24,
   "metadata": {},
   "outputs": [
    {
     "name": "stdout",
     "output_type": "stream",
     "text": [
      "(1, 2, 3, 'a', 'b')\n",
      "(1, 2, 3, 1, 2, 3, 1, 2, 3, 1, 2, 3, 1, 2, 3)\n"
     ]
    }
   ],
   "source": [
    "# 加和乘操作\n",
    "print((1, 2, 3) + ('a', 'b'))\n",
    "print((1, 2, 3) * 5)"
   ]
  },
  {
   "cell_type": "code",
   "execution_count": 30,
   "metadata": {},
   "outputs": [
    {
     "name": "stdout",
     "output_type": "stream",
     "text": [
      "4446580864\n",
      "4450629120\n",
      "4450647984\n",
      "4459297216\n"
     ]
    }
   ],
   "source": [
    "# 列表是这样的\n",
    "items = [1, 2, 3, 4]\n",
    "print(id(items))\n",
    "items2 = [3, 4, 5, 6]\n",
    "items = items + items2\n",
    "print(id(items))\n",
    "\n",
    "# 元组是这样的\n",
    "tup = (1, 2, 3, 4)\n",
    "print(id(tup))\n",
    "tup2 = (3, 4, 5, 6)\n",
    "tup = tup + tup2\n",
    "print(id(tup))"
   ]
  },
  {
   "cell_type": "code",
   "execution_count": 34,
   "metadata": {},
   "outputs": [
    {
     "name": "stdout",
     "output_type": "stream",
     "text": [
      "3\n"
     ]
    },
    {
     "ename": "TypeError",
     "evalue": "'tuple' object doesn't support item deletion",
     "output_type": "error",
     "traceback": [
      "\u001b[0;31m---------------------------------------------------------------------------\u001b[0m",
      "\u001b[0;31mTypeError\u001b[0m                                 Traceback (most recent call last)",
      "Cell \u001b[0;32mIn[34], line 4\u001b[0m\n\u001b[1;32m      2\u001b[0m tup \u001b[39m=\u001b[39m (\u001b[39m1\u001b[39m, \u001b[39m2\u001b[39m, \u001b[39m3\u001b[39m, \u001b[39m4\u001b[39m, \u001b[39m5\u001b[39m, \u001b[39m6\u001b[39m)\n\u001b[1;32m      3\u001b[0m \u001b[39mprint\u001b[39m(tup[\u001b[39m2\u001b[39m])\n\u001b[0;32m----> 4\u001b[0m \u001b[39mdel\u001b[39;00m tup[\u001b[39m2\u001b[39m]\n\u001b[1;32m      5\u001b[0m \u001b[39mprint\u001b[39m(tup)\n",
      "\u001b[0;31mTypeError\u001b[0m: 'tuple' object doesn't support item deletion"
     ]
    }
   ],
   "source": [
    "# 尝试更新元组\n",
    "tup = (1, 2, 3, 4, 5, 6)\n",
    "print(tup[2])\n",
    "del tup[2]\n",
    "print(tup)"
   ]
  },
  {
   "cell_type": "code",
   "execution_count": 36,
   "metadata": {},
   "outputs": [
    {
     "name": "stdout",
     "output_type": "stream",
     "text": [
      "4450415936\n",
      "4450415936 \t [1, 2, 4, 5, 6]\n"
     ]
    }
   ],
   "source": [
    "# 看看列表更新（只看id）\n",
    "items = [1, 2, 3, 4, 5, 6]\n",
    "print(id(items))\n",
    "del items[2]\n",
    "print(id(items), '\\t',items)"
   ]
  },
  {
   "cell_type": "markdown",
   "metadata": {},
   "source": [
    "## 元组的推导式"
   ]
  },
  {
   "cell_type": "code",
   "execution_count": 39,
   "metadata": {},
   "outputs": [
    {
     "name": "stdout",
     "output_type": "stream",
     "text": [
      "<generator object <genexpr> at 0x109cfa570>\n"
     ]
    }
   ],
   "source": [
    "tup = (i for i in range(10))\n",
    "print(tup)"
   ]
  },
  {
   "cell_type": "code",
   "execution_count": 41,
   "metadata": {},
   "outputs": [
    {
     "name": "stdout",
     "output_type": "stream",
     "text": [
      "0\n",
      "1\n",
      "2\n",
      "[3, 4, 5, 6, 7, 8, 9]\n"
     ]
    }
   ],
   "source": [
    "tup = (i for i in range(10))\n",
    "print(next(tup))\n",
    "print(next(tup))\n",
    "print(next(tup))\n",
    "print(list(tup))"
   ]
  },
  {
   "cell_type": "code",
   "execution_count": 42,
   "metadata": {},
   "outputs": [
    {
     "name": "stdout",
     "output_type": "stream",
     "text": [
      "()\n"
     ]
    }
   ],
   "source": [
    "print(tuple(tup))"
   ]
  },
  {
   "cell_type": "code",
   "execution_count": 46,
   "metadata": {},
   "outputs": [
    {
     "name": "stdout",
     "output_type": "stream",
     "text": [
      "0 1 2 3 4 5 6 7 8 9 "
     ]
    }
   ],
   "source": [
    "tup = (i for i in range(10))\n",
    "for i in tup:\n",
    "    print(i, end=\" \")"
   ]
  },
  {
   "cell_type": "markdown",
   "metadata": {},
   "source": [
    "## yield 关键字"
   ]
  },
  {
   "cell_type": "code",
   "execution_count": 64,
   "metadata": {},
   "outputs": [
    {
     "name": "stdout",
     "output_type": "stream",
     "text": [
      "Hello yield\n",
      "Hello yield\n"
     ]
    },
    {
     "data": {
      "text/plain": [
       "'yield'"
      ]
     },
     "execution_count": 64,
     "metadata": {},
     "output_type": "execute_result"
    }
   ],
   "source": [
    "# 定义一个普通函数\n",
    "def func():\n",
    "    print('Hello yield')\n",
    "    return 'yield'\n",
    "    print('Hello again')\n",
    "\n",
    "func()\n",
    "func()"
   ]
  },
  {
   "cell_type": "code",
   "execution_count": 65,
   "metadata": {},
   "outputs": [
    {
     "name": "stdout",
     "output_type": "stream",
     "text": [
      "Hello yield\n",
      "return yield\n",
      "Hello again\n",
      "return again\n"
     ]
    },
    {
     "ename": "StopIteration",
     "evalue": "",
     "output_type": "error",
     "traceback": [
      "\u001b[0;31m---------------------------------------------------------------------------\u001b[0m",
      "\u001b[0;31mStopIteration\u001b[0m                             Traceback (most recent call last)",
      "Cell \u001b[0;32mIn[65], line 14\u001b[0m\n\u001b[1;32m     12\u001b[0m \u001b[39mstr\u001b[39m \u001b[39m=\u001b[39m \u001b[39mnext\u001b[39m(res)\n\u001b[1;32m     13\u001b[0m \u001b[39mprint\u001b[39m(\u001b[39mstr\u001b[39m)\n\u001b[0;32m---> 14\u001b[0m \u001b[39mstr\u001b[39m \u001b[39m=\u001b[39m \u001b[39mnext\u001b[39;49m(res)\n\u001b[1;32m     15\u001b[0m \u001b[39mprint\u001b[39m(\u001b[39mstr\u001b[39m)\n\u001b[1;32m     16\u001b[0m \u001b[39m# items = list(res)\u001b[39;00m\n\u001b[1;32m     17\u001b[0m \u001b[39m# print(items)\u001b[39;00m\n",
      "\u001b[0;31mStopIteration\u001b[0m: "
     ]
    }
   ],
   "source": [
    "# 尝试使用yield定义一个生成器函数\n",
    "def func():\n",
    "    print('Hello yield')\n",
    "    yield 'return yield'\n",
    "    print('Hello again')\n",
    "    yield 'return again'\n",
    "\n",
    "# 调用生成器函数， 返回一个迭代器\n",
    "# res = func()\n",
    "# str = next(res)\n",
    "# print(str)\n",
    "# str = next(res)\n",
    "# print(str)\n",
    "# str = next(res)\n",
    "# print(str)\n",
    "items = list(res)\n",
    "print(items)"
   ]
  },
  {
   "cell_type": "code",
   "execution_count": 61,
   "metadata": {},
   "outputs": [
    {
     "name": "stdout",
     "output_type": "stream",
     "text": [
      "Hello yield\n",
      "Hello again\n",
      "['return yield', 'return again']\n"
     ]
    }
   ],
   "source": [
    "# 尝试使用yield定义一个生成器函数\n",
    "def func():\n",
    "    print('Hello yield')\n",
    "    yield 'return yield'\n",
    "    print('Hello again')\n",
    "    yield 'return again'\n",
    "\n",
    "# 调用生成器函数， 返回一个迭代器\n",
    "res = func()\n",
    "\n",
    "items = []\n",
    "for i in res:\n",
    "    items.append(i)\n",
    "\n",
    "print(items)"
   ]
  },
  {
   "cell_type": "markdown",
   "metadata": {},
   "source": [
    "# 【列表】练习题"
   ]
  },
  {
   "cell_type": "markdown",
   "metadata": {},
   "source": [
    "1. 让我们尝试将字典中的健值对转成`key = value`的数据格式"
   ]
  },
  {
   "cell_type": "code",
   "execution_count": 1,
   "metadata": {},
   "outputs": [
    {
     "name": "stdout",
     "output_type": "stream",
     "text": [
      "['user=admin', 'age=20', 'phone=133']\n"
     ]
    }
   ],
   "source": [
    "# {'user':'admin', 'age':'20', 'phone':'133'} => ['user=admin','age=20','phone=133']\n",
    "\n",
    "dict = {'user':'admin', 'age':'20', 'phone':'133'}\n",
    "items = []\n",
    "\n",
    "# for k,v in dict.items():\n",
    "#     print(k,v)\n",
    "#     items.append(f'{k}={v}')\n",
    "# print(items)\n",
    "\n",
    "# items = [f'{i}={dict[i]}' for i in dict]\n",
    "\n",
    "items = [f'{k}={v}' for k,v in dict.items()]\n",
    "print(items)"
   ]
  },
  {
   "cell_type": "markdown",
   "metadata": {},
   "source": [
    "2. 把列表中的所有字符全部转为小写\n",
    "\n",
    " `['A', 'CCCC', 'SHIss', 'Sipoa','Chaheng', 'Python','dsAhio']`"
   ]
  },
  {
   "cell_type": "code",
   "execution_count": 2,
   "metadata": {},
   "outputs": [
    {
     "name": "stdout",
     "output_type": "stream",
     "text": [
      "['a', 'cccc', 'shiss', 'sipoa', 'chaheng', 'python', 'dsahio']\n"
     ]
    }
   ],
   "source": [
    "items = ['A', 'CCCC', 'SHIss', 'Sipoa','Chaheng', 'Python','dsAhio']\n",
    "items2 = []\n",
    "\n",
    "# for i in items:\n",
    "#     # print(i)\n",
    "#     items2.append(i.lower())\n",
    "# print(items2)\n",
    "\n",
    "items2 = [i.lower() for i in items]\n",
    "print(items2)"
   ]
  },
  {
   "cell_type": "markdown",
   "metadata": {},
   "source": [
    "3. x是0～5之间的偶数，y是0~5之间的奇数，把x，y组成一个元组，放到列表中"
   ]
  },
  {
   "cell_type": "code",
   "execution_count": 3,
   "metadata": {},
   "outputs": [
    {
     "name": "stdout",
     "output_type": "stream",
     "text": [
      "[(0, 1), (0, 3), (0, 5), (2, 1), (2, 3), (2, 5), (4, 1), (4, 3), (4, 5)]\n"
     ]
    }
   ],
   "source": [
    "items = []\n",
    "# for x in range(6):\n",
    "#     for y in range(6):\n",
    "#         if x % 2 == 0 and y % 2 == 1:\n",
    "#             items.append((x, y))\n",
    "\n",
    "# print(items)\n",
    "\n",
    "items = [(x, y) for x in range(6) for y in range(6) if x%2 ==0 and y % 2 == 1]\n",
    "print(items)"
   ]
  },
  {
   "cell_type": "markdown",
   "metadata": {},
   "source": [
    "4. 使用列表推导式完成九九乘法表"
   ]
  },
  {
   "cell_type": "code",
   "execution_count": 4,
   "metadata": {},
   "outputs": [
    {
     "name": "stdout",
     "output_type": "stream",
     "text": [
      " 1x 1= 1\n",
      " 1x 2= 2  2x 2= 4\n",
      " 1x 3= 3  2x 3= 6  3x 3= 9\n",
      " 1x 4= 4  2x 4= 8  3x 4=12  4x 4=16\n",
      " 1x 5= 5  2x 5=10  3x 5=15  4x 5=20  5x 5=25\n",
      " 1x 6= 6  2x 6=12  3x 6=18  4x 6=24  5x 6=30  6x 6=36\n",
      " 1x 7= 7  2x 7=14  3x 7=21  4x 7=28  5x 7=35  6x 7=42  7x 7=49\n",
      " 1x 8= 8  2x 8=16  3x 8=24  4x 8=32  5x 8=40  6x 8=48  7x 8=56  8x 8=64\n",
      " 1x 9= 9  2x 9=18  3x 9=27  4x 9=36  5x 9=45  6x 9=54  7x 9=63  8x 9=72  9x 9=81\n"
     ]
    }
   ],
   "source": [
    "# for x in range(1, 10):\n",
    "#     for y in range(1, x+1):\n",
    "#         print(f'{x}x{y}={x*y}', end='\\t')\n",
    "#     print()\n",
    "\n",
    "print('\\n'.join([' '.join(['%2dx%2d=%2d' % (y, x, x*y) for y in range(1, x + 1)]) for x in range(1, 10)]))"
   ]
  },
  {
   "cell_type": "markdown",
   "metadata": {},
   "source": [
    "5. 求M, N中矩阵和元素的乘积\n",
    "\n",
    "```json\n",
    "M = [\n",
    "    [1, 2, 3],\n",
    "    [4, 5, 6],\n",
    "    [7, 8, 9]\n",
    "]\n",
    "\n",
    "N = [\n",
    "    [2, 2, 2],\n",
    "    [3, 3, 3],\n",
    "    [4, 4, 4]\n",
    "]\n",
    "```\n",
    "\n",
    "显示2种结果：\n",
    "\n",
    "1. [2, 4, 6, 12, 15, 18, 28, 32, 36]\n",
    "2. [[2, 4, 6], [12, 15, 18], [28, 32, 36]]"
   ]
  },
  {
   "cell_type": "code",
   "execution_count": 5,
   "metadata": {},
   "outputs": [
    {
     "name": "stdout",
     "output_type": "stream",
     "text": [
      "[2, 4, 6, 12, 15, 18, 28, 32, 36]\n",
      "[[2, 4, 6], [12, 15, 18], [28, 32, 36]]\n"
     ]
    }
   ],
   "source": [
    "M = [\n",
    "    [1, 2, 3],\n",
    "    [4, 5, 6],\n",
    "    [7, 8, 9]\n",
    "]\n",
    "\n",
    "N = [\n",
    "    [2, 2, 2],\n",
    "    [3, 3, 3],\n",
    "    [4, 4, 4]\n",
    "]\n",
    "\n",
    "# items = []\n",
    "# for i in range(3):\n",
    "#     for j in range(3):\n",
    "#         items.append(M[i][j] * N[i][j])\n",
    "\n",
    "# print(items)\n",
    "\n",
    "# items = []\n",
    "# for i in range(3):\n",
    "#     res = []\n",
    "#     for j in range(3):\n",
    "#         res.append(M[i][j] * N[i][j])\n",
    "#     items.append(res)\n",
    "\n",
    "# print(items)\n",
    "\n",
    "items = []\n",
    "items = [M[i][j] * N[i][j] for i in range(3) for j in range(3)]\n",
    "print(items)\n",
    "\n",
    "items = []\n",
    "items = [[M[i][j] * N[i][j] for j in range(3)] for i in range(3)]\n",
    "print(items)"
   ]
  },
  {
   "cell_type": "markdown",
   "metadata": {},
   "source": [
    "![欢迎订阅：坍缩的奇点](../assets/Capture-2023-11-02-164446.png)"
   ]
  },
  {
   "cell_type": "code",
   "execution_count": null,
   "metadata": {},
   "outputs": [],
   "source": []
  }
 ],
 "metadata": {
  "kernelspec": {
   "display_name": "Python 3",
   "language": "python",
   "name": "python3"
  },
  "language_info": {
   "codemirror_mode": {
    "name": "ipython",
    "version": 3
   },
   "file_extension": ".py",
   "mimetype": "text/x-python",
   "name": "python",
   "nbconvert_exporter": "python",
   "pygments_lexer": "ipython3",
   "version": "3.10.11"
  },
  "orig_nbformat": 4
 },
 "nbformat": 4,
 "nbformat_minor": 2
}
