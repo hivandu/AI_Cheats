{
 "cells": [
  {
   "cell_type": "markdown",
   "metadata": {},
   "source": [
    "# 系统内置模块"
   ]
  },
  {
   "cell_type": "markdown",
   "metadata": {},
   "source": [
    "## 序列化模块"
   ]
  },
  {
   "cell_type": "code",
   "execution_count": 1,
   "metadata": {},
   "outputs": [
    {
     "name": "stdout",
     "output_type": "stream",
     "text": [
      "b'\\x80\\x04\\x95\\x0e\\x00\\x00\\x00\\x00\\x00\\x00\\x00\\x8c\\nI love you\\x94.' <class 'bytes'>\n"
     ]
    }
   ],
   "source": [
    "import pickle\n",
    "myStr = 'I love you'\n",
    "res = pickle.dumps(myStr)\n",
    "print(res, type(res))"
   ]
  },
  {
   "cell_type": "code",
   "execution_count": 2,
   "metadata": {},
   "outputs": [
    {
     "name": "stdout",
     "output_type": "stream",
     "text": [
      "b'\\x80\\x04\\x95\\x0f\\x00\\x00\\x00\\x00\\x00\\x00\\x00]\\x94(K\\x01K\\x02K\\x03K\\x04K\\x05e.' <class 'bytes'>\n"
     ]
    }
   ],
   "source": [
    "myList = [1, 2, 3, 4, 5]\n",
    "res = pickle.dumps(myList)\n",
    "print(res, type(res))"
   ]
  },
  {
   "cell_type": "code",
   "execution_count": 3,
   "metadata": {},
   "outputs": [
    {
     "name": "stdout",
     "output_type": "stream",
     "text": [
      "b'\\x80\\x04\\x95\\x10\\x00\\x00\\x00\\x00\\x00\\x00\\x00(K\\x01K\\x02K\\x03K\\x04K\\x05K\\x06t\\x94.' <class 'bytes'>\n"
     ]
    }
   ],
   "source": [
    "myTuple = (1, 2, 3, 4, 5, 6)\n",
    "res = pickle.dumps(myTuple)\n",
    "print(res, type(res))"
   ]
  },
  {
   "cell_type": "code",
   "execution_count": 4,
   "metadata": {},
   "outputs": [
    {
     "name": "stdout",
     "output_type": "stream",
     "text": [
      "(1, 2, 3, 4, 5, 6) <class 'tuple'>\n"
     ]
    }
   ],
   "source": [
    "res = pickle.loads(res)\n",
    "print(res, type(res))"
   ]
  },
  {
   "cell_type": "code",
   "execution_count": 5,
   "metadata": {},
   "outputs": [],
   "source": [
    "# 定义数据\n",
    "myDict = {'name':'茶桁', 'age':32, 'sex':'male'}\n",
    "# 进行序列化\n",
    "res = pickle.dumps(myDict)\n",
    "# 写入文件\n",
    "with open('./data/data.txt', 'wb') as fp:\n",
    "    fp.write(res)"
   ]
  },
  {
   "cell_type": "code",
   "execution_count": 6,
   "metadata": {},
   "outputs": [
    {
     "name": "stdout",
     "output_type": "stream",
     "text": [
      "{'name': '茶桁', 'age': 32, 'sex': 'male'}\n"
     ]
    }
   ],
   "source": [
    "with open('./data/data.txt', 'rb') as fp:\n",
    "    res = fp.read()\n",
    "\n",
    "# 进行反序列化\n",
    "myDict = pickle.loads(res)\n",
    "print(myDict)"
   ]
  },
  {
   "cell_type": "code",
   "execution_count": 9,
   "metadata": {},
   "outputs": [
    {
     "name": "stdout",
     "output_type": "stream",
     "text": [
      "{'name': '茶桁', 'age': 32, 'sex': 'male'}\n"
     ]
    }
   ],
   "source": [
    "myDict = {'name':'茶桁', 'age':32, 'sex':'male'}\n",
    "with open('./data/data2.txt', 'wb') as fp:\n",
    "    pickle.dump(myDict, fp)\n",
    "\n",
    "with open('./data/data2.txt', 'rb') as fp:\n",
    "    newdict = pickle.load(fp)\n",
    "    print(newdict)"
   ]
  },
  {
   "cell_type": "code",
   "execution_count": 11,
   "metadata": {},
   "outputs": [
    {
     "name": "stdout",
     "output_type": "stream",
     "text": [
      "{'name': '茶桁', 'age': 32, 'sex': 'male'} <class 'dict'>\n",
      "{\"name\": \"\\u8336\\u6841\", \"age\": 32, \"sex\": \"male\"} <class 'str'>\n"
     ]
    }
   ],
   "source": [
    "import json\n",
    "myDict = {'name':'茶桁', 'age':32, 'sex':'male'}\n",
    "print(myDict, type(myDict))\n",
    "\n",
    "# 使用JSON模块的dumps方法进行JSON格式的转换\n",
    "res = json.dumps(myDict)\n",
    "print(res, type(res))"
   ]
  },
  {
   "cell_type": "code",
   "execution_count": 12,
   "metadata": {},
   "outputs": [
    {
     "name": "stdout",
     "output_type": "stream",
     "text": [
      "{'name': '茶桁', 'age': 32, 'sex': 'male'} <class 'dict'>\n"
     ]
    }
   ],
   "source": [
    "newDict = json.loads(res)\n",
    "print(newDict, type(newDict))"
   ]
  },
  {
   "cell_type": "code",
   "execution_count": 14,
   "metadata": {},
   "outputs": [],
   "source": [
    "myList = [{'name':'admin','age':1000, 'sex':'female'},{'name':'du','age':34,'sex':'male'}]\n",
    "with open('./data/15_data.json', 'w') as fp:\n",
    "    json.dump(myList, fp)"
   ]
  },
  {
   "cell_type": "code",
   "execution_count": 15,
   "metadata": {},
   "outputs": [
    {
     "name": "stdout",
     "output_type": "stream",
     "text": [
      "[{'name': 'admin', 'age': 1000, 'sex': 'female'}, {'name': 'du', 'age': 34, 'sex': 'male'}]\n"
     ]
    }
   ],
   "source": [
    "with open('./data/15_data.json', 'r') as fp:\n",
    "    newList = json.load(fp)\n",
    "    print(newList)"
   ]
  },
  {
   "cell_type": "markdown",
   "metadata": {},
   "source": [
    "## 数学模块 Math"
   ]
  },
  {
   "cell_type": "code",
   "execution_count": 43,
   "metadata": {},
   "outputs": [
    {
     "name": "stdout",
     "output_type": "stream",
     "text": [
      "4\n",
      "3\n",
      "4\n",
      "3\n",
      "1.44\n",
      "2.0\n",
      "3.14\n",
      "(0.8999999999999999, 3.0)\n",
      "3.0\n",
      "-3.0\n",
      "6.0\n",
      "6.0\n",
      "24\n",
      "3.141592653589793\n"
     ]
    }
   ],
   "source": [
    "import math\n",
    "# math.ceil() 向上取整\n",
    "res = math.ceil(3.14)\n",
    "print(res)\n",
    "\n",
    "print(round(3.14))\n",
    "print(round(3.5))\n",
    "\n",
    "# 向下取证\n",
    "print(math.floor(3.94))\n",
    "\n",
    "# 计算数字的幂次方，结果为浮点数\n",
    "print(math.pow(1.2, 2))\n",
    "\n",
    "# 开平方\n",
    "print(math.sqrt(4))\n",
    "\n",
    "# 绝对值\n",
    "print(math.fabs(-3.14))\n",
    "\n",
    "# 拆分元组\n",
    "print(math.modf(3.9))\n",
    "\n",
    "# copy符号\n",
    "print(math.copysign(-3, 99))\n",
    "print(math.copysign(3, -2))\n",
    "\n",
    "# 求和运算\n",
    "print(math.fsum([1, 2, 3]))\n",
    "print(math.fsum({1, 2, 3}))\n",
    "\n",
    "# 阶乘运算\n",
    "print(math.factorial(4))\n",
    "\n",
    "# 常量π\n",
    "print(math.pi)"
   ]
  },
  {
   "cell_type": "markdown",
   "metadata": {},
   "source": [
    "## 随机模块 random"
   ]
  },
  {
   "cell_type": "code",
   "execution_count": 46,
   "metadata": {},
   "outputs": [
    {
     "name": "stdout",
     "output_type": "stream",
     "text": [
      "0.7363473107012012\n"
     ]
    }
   ],
   "source": [
    "import random\n",
    "\n",
    "# 返回一个0-1之间的随机小数（左闭右开）\n",
    "print(random.random())"
   ]
  },
  {
   "cell_type": "code",
   "execution_count": 48,
   "metadata": {},
   "outputs": [
    {
     "name": "stdout",
     "output_type": "stream",
     "text": [
      "4\n",
      "5\n",
      "8\n"
     ]
    }
   ],
   "source": [
    "print(random.randrange(5))\n",
    "print(random.randrange(3,6))\n",
    "print(random.randrange(4,10,2))"
   ]
  },
  {
   "cell_type": "code",
   "execution_count": 50,
   "metadata": {},
   "outputs": [
    {
     "name": "stdout",
     "output_type": "stream",
     "text": [
      "6\n"
     ]
    }
   ],
   "source": [
    "print(random.randint(5, 10))"
   ]
  },
  {
   "cell_type": "code",
   "execution_count": 54,
   "metadata": {},
   "outputs": [
    {
     "name": "stdout",
     "output_type": "stream",
     "text": [
      "9.540258898738779\n",
      "7.343136835899989\n",
      "5.0\n"
     ]
    }
   ],
   "source": [
    "print(random.uniform(5, 10))\n",
    "print(random.uniform(10, 5))\n",
    "print(random.uniform(5, 5))"
   ]
  },
  {
   "cell_type": "code",
   "execution_count": 56,
   "metadata": {},
   "outputs": [
    {
     "name": "stdout",
     "output_type": "stream",
     "text": [
      "3\n",
      "2\n"
     ]
    }
   ],
   "source": [
    "print(random.choice('123'))\n",
    "print(random.choice([1,2,3,4]))"
   ]
  },
  {
   "cell_type": "code",
   "execution_count": 57,
   "metadata": {},
   "outputs": [
    {
     "name": "stdout",
     "output_type": "stream",
     "text": [
      "arr:[4, 1, 5, 2, 3] \n",
      "res:None\n"
     ]
    }
   ],
   "source": [
    "arr = [1, 2, 3, 4, 5]\n",
    "res = random.shuffle(arr)\n",
    "print(f'arr:{arr} \\nres:{res}')"
   ]
  },
  {
   "cell_type": "markdown",
   "metadata": {},
   "source": [
    "## OS 模块"
   ]
  },
  {
   "cell_type": "code",
   "execution_count": 59,
   "metadata": {},
   "outputs": [
    {
     "name": "stdout",
     "output_type": "stream",
     "text": [
      "/Users/du/git/AI_Cheats/Python\n"
     ]
    }
   ],
   "source": [
    "import os\n",
    "res = os.getcwd()\n",
    "print(res)"
   ]
  },
  {
   "cell_type": "code",
   "execution_count": 62,
   "metadata": {},
   "outputs": [
    {
     "name": "stdout",
     "output_type": "stream",
     "text": [
      "/Users/du/git\n"
     ]
    }
   ],
   "source": [
    "os.chdir('/Users/du/git/')\n",
    "res = os.getcwd()\n",
    "print(res)"
   ]
  },
  {
   "cell_type": "code",
   "execution_count": 65,
   "metadata": {},
   "outputs": [
    {
     "name": "stdout",
     "output_type": "stream",
     "text": [
      "['12.ipynb', '10.ipynb', '.DS_Store', '15_json.html', '14.ipynb', '8.ipynb', '14.py', '11.ipynb', 'globals.ipynb', '13.ipynb', 'Kalman.ipynb', '9.ipynb', '15.ipynb', '7.ipynb', '5.ipynb', '1.ipynb', '3.ipynb', '4.ipynb', '6.ipynb', 'data', '2.ipynb']\n"
     ]
    }
   ],
   "source": [
    "os.chdir('/Users/du/git/AI_Cheats/Python/')\n",
    "res = os.listdir()\n",
    "print(res)"
   ]
  },
  {
   "cell_type": "code",
   "execution_count": 67,
   "metadata": {},
   "outputs": [
    {
     "name": "stdout",
     "output_type": "stream",
     "text": [
      "['AIGC', '.DS_Store', 'GPT', 'AI_core_competence', 'stable-diffusion-webui']\n"
     ]
    }
   ],
   "source": [
    "res = os.listdir('/Users/du/AI/')\n",
    "print(res)"
   ]
  },
  {
   "cell_type": "code",
   "execution_count": 68,
   "metadata": {},
   "outputs": [
    {
     "name": "stdout",
     "output_type": "stream",
     "text": [
      "['black.txt', 'user.txt', '13-2.txt', '13-1.txt', 'data2.txt', 'data3.json', '13-x+.txt', '15_data.json', 'data.txt']\n",
      "['black.txt', 'user.txt', 'test', '13-2.txt', '13-1.txt', 'data2.txt', 'data3.json', '13-x+.txt', '15_data.json', 'data.txt']\n"
     ]
    }
   ],
   "source": [
    "print(os.listdir('./data/'))\n",
    "os.mkdir('./data/test', 0o777)\n",
    "print(os.listdir('./data/'))"
   ]
  },
  {
   "cell_type": "code",
   "execution_count": 77,
   "metadata": {},
   "outputs": [],
   "source": [
    "os.makedirs('./data/test/a/b/c/d/e/f/')"
   ]
  },
  {
   "cell_type": "code",
   "execution_count": 70,
   "metadata": {},
   "outputs": [
    {
     "ename": "OSError",
     "evalue": "[Errno 66] Directory not empty: './data/test'",
     "output_type": "error",
     "traceback": [
      "\u001b[0;31m---------------------------------------------------------------------------\u001b[0m",
      "\u001b[0;31mOSError\u001b[0m                                   Traceback (most recent call last)",
      "Cell \u001b[0;32mIn[70], line 1\u001b[0m\n\u001b[0;32m----> 1\u001b[0m os\u001b[39m.\u001b[39;49mrmdir(\u001b[39m'\u001b[39;49m\u001b[39m./data/test\u001b[39;49m\u001b[39m'\u001b[39;49m)\n",
      "\u001b[0;31mOSError\u001b[0m: [Errno 66] Directory not empty: './data/test'"
     ]
    }
   ],
   "source": [
    "os.rmdir('./data/test')"
   ]
  },
  {
   "cell_type": "code",
   "execution_count": 71,
   "metadata": {},
   "outputs": [],
   "source": [
    "os.rmdir('./data/test/a/b/c/d/e/f/')"
   ]
  },
  {
   "cell_type": "code",
   "execution_count": 73,
   "metadata": {},
   "outputs": [],
   "source": [
    "os.removedirs('./data/test/a/b/c/d/e/')"
   ]
  },
  {
   "cell_type": "code",
   "execution_count": 78,
   "metadata": {},
   "outputs": [],
   "source": [
    "os.rename('./data/test.txt', './data/test_update.txt')"
   ]
  },
  {
   "cell_type": "code",
   "execution_count": 76,
   "metadata": {},
   "outputs": [],
   "source": [
    "os.remove('./data/test_update.txt')"
   ]
  },
  {
   "cell_type": "code",
   "execution_count": 79,
   "metadata": {},
   "outputs": [
    {
     "name": "stdout",
     "output_type": "stream",
     "text": [
      "total 768\n",
      "drwxr-xr-x  23 du  staff    736 Aug 11 23:03 \u001b[1m\u001b[36m.\u001b[m\u001b[m\n",
      "drwxr-xr-x   8 du  staff    256 Aug  6 01:59 \u001b[1m\u001b[36m..\u001b[m\u001b[m\n",
      "-rw-r--r--@  1 du  staff   6148 Aug 12 17:40 .DS_Store\n",
      "-rw-r--r--@  1 du  staff   3836 Jul 27 23:37 1.ipynb\n",
      "-rw-r--r--   1 du  staff  15290 Aug  8 14:40 10.ipynb\n",
      "-rw-r--r--   1 du  staff  17731 Aug  8 14:40 11.ipynb\n",
      "-rw-r--r--   1 du  staff  15313 Aug  8 21:38 12.ipynb\n",
      "-rw-r--r--   1 du  staff   7954 Aug 10 00:46 13.ipynb\n",
      "-rw-r--r--   1 du  staff   8149 Aug 10 18:59 14.ipynb\n",
      "-rw-r--r--   1 du  staff   5655 Aug 10 19:05 14.py\n",
      "-rw-r--r--   1 du  staff   9687 Aug 12 14:53 15.ipynb\n",
      "-rw-r--r--@  1 du  staff    456 Aug 11 23:08 15_json.html\n",
      "-rw-r--r--@  1 du  staff   5021 Jul 30 16:58 2.ipynb\n",
      "-rw-r--r--@  1 du  staff   5076 Jul 31 23:11 3.ipynb\n",
      "-rw-r--r--@  1 du  staff  17007 Aug  1 23:53 4.ipynb\n",
      "-rw-r--r--@  1 du  staff  94564 Aug  3 17:40 5.ipynb\n",
      "-rw-r--r--@  1 du  staff  14270 Aug  3 21:27 6.ipynb\n",
      "-rw-r--r--   1 du  staff  13569 Aug  8 14:41 7.ipynb\n",
      "-rw-r-"
     ]
    },
    {
     "data": {
      "text/plain": [
       "0"
      ]
     },
     "execution_count": 79,
     "metadata": {},
     "output_type": "execute_result"
    },
    {
     "name": "stdout",
     "output_type": "stream",
     "text": [
      "-r--   1 du  staff  22573 Aug  8 14:41 8.ipynb\n",
      "-rw-r--r--   1 du  staff  35522 Aug  7 02:00 9.ipynb\n",
      "-rw-r--r--@  1 du  staff  51381 Aug  3 01:12 Kalman.ipynb\n",
      "drwxr-xr-x  13 du  staff    416 Aug 12 17:40 \u001b[1m\u001b[36mdata\u001b[m\u001b[m\n",
      "-rw-r--r--@  1 du  staff   1714 Aug  3 17:40 globals.ipynb\n"
     ]
    }
   ],
   "source": [
    "os.system('ls -al')"
   ]
  },
  {
   "cell_type": "code",
   "execution_count": 82,
   "metadata": {},
   "outputs": [
    {
     "name": "stdout",
     "output_type": "stream",
     "text": [
      "/Users/du/git/AI_Cheats/Python/15.ipynb\n",
      "/Users/du/git/AI_Cheats/Python\n"
     ]
    }
   ],
   "source": [
    "print(os.path.abspath('./15.ipynb'))\n",
    "print(os.path.abspath('./'))"
   ]
  },
  {
   "cell_type": "code",
   "execution_count": 83,
   "metadata": {},
   "outputs": [
    {
     "name": "stdout",
     "output_type": "stream",
     "text": [
      "15.ipynb\n"
     ]
    }
   ],
   "source": [
    "res = os.path.abspath('./15.ipynb')\n",
    "print(os.path.basename(res))"
   ]
  },
  {
   "cell_type": "code",
   "execution_count": 85,
   "metadata": {},
   "outputs": [
    {
     "name": "stdout",
     "output_type": "stream",
     "text": [
      "/Users/du/git/AI_Cheats/Python/data\n"
     ]
    }
   ],
   "source": [
    "res = os.path.dirname('/Users/du/git/AI_Cheats/Python/data/data.txt')\n",
    "print(res)"
   ]
  },
  {
   "cell_type": "code",
   "execution_count": 86,
   "metadata": {},
   "outputs": [
    {
     "name": "stdout",
     "output_type": "stream",
     "text": [
      ".\n"
     ]
    }
   ],
   "source": [
    "res = os.path.dirname('./1.ipynb')\n",
    "print(res)"
   ]
  },
  {
   "cell_type": "code",
   "execution_count": 88,
   "metadata": {},
   "outputs": [
    {
     "name": "stdout",
     "output_type": "stream",
     "text": [
      "./data/test/2.txt\n"
     ]
    }
   ],
   "source": [
    "res = os.path.join('./data/test', '2.txt')\n",
    "print(res)"
   ]
  },
  {
   "cell_type": "code",
   "execution_count": 89,
   "metadata": {},
   "outputs": [
    {
     "name": "stdout",
     "output_type": "stream",
     "text": [
      "('./data/test', '2.txt')\n"
     ]
    }
   ],
   "source": [
    "res = os.path.split('./data/test/2.txt')\n",
    "print(res)"
   ]
  },
  {
   "cell_type": "code",
   "execution_count": 91,
   "metadata": {},
   "outputs": [
    {
     "name": "stdout",
     "output_type": "stream",
     "text": [
      "('./data/test/2', '.jpg')\n"
     ]
    }
   ],
   "source": [
    "res = os.path.splitext('./data/test/2.jpg')\n",
    "print(res)"
   ]
  },
  {
   "cell_type": "code",
   "execution_count": 92,
   "metadata": {},
   "outputs": [
    {
     "name": "stdout",
     "output_type": "stream",
     "text": [
      "91\n"
     ]
    }
   ],
   "source": [
    "res = os.path.getsize('./data/15_data.json')\n",
    "print(res)"
   ]
  },
  {
   "cell_type": "code",
   "execution_count": 93,
   "metadata": {},
   "outputs": [
    {
     "name": "stdout",
     "output_type": "stream",
     "text": [
      "False\n"
     ]
    }
   ],
   "source": [
    "res = os.path.isdir('./data/test')\n",
    "print(res)"
   ]
  },
  {
   "cell_type": "code",
   "execution_count": 94,
   "metadata": {},
   "outputs": [
    {
     "name": "stdout",
     "output_type": "stream",
     "text": [
      "True\n"
     ]
    }
   ],
   "source": [
    "res = os.path.isfile('./data/test_update.txt')\n",
    "print(res)"
   ]
  },
  {
   "cell_type": "code",
   "execution_count": 96,
   "metadata": {},
   "outputs": [
    {
     "name": "stdout",
     "output_type": "stream",
     "text": [
      "True\n",
      "False\n"
     ]
    }
   ],
   "source": [
    "res = os.path.exists('./data/test_update.txt')\n",
    "print(res)\n",
    "res = os.path.exists('./data/test')\n",
    "print(res)"
   ]
  },
  {
   "cell_type": "code",
   "execution_count": 97,
   "metadata": {},
   "outputs": [
    {
     "name": "stdout",
     "output_type": "stream",
     "text": [
      "True\n"
     ]
    }
   ],
   "source": [
    "a = './data/data.txt'\n",
    "b = '/Users/du/git/AI_Cheats/Python/data/data.txt'\n",
    "\n",
    "res = os.path.samefile(a, b)\n",
    "print(res)"
   ]
  },
  {
   "cell_type": "code",
   "execution_count": 99,
   "metadata": {},
   "outputs": [
    {
     "ename": "FileNotFoundError",
     "evalue": "[Errno 2] No such file or directory: './data/test/data.txt'",
     "output_type": "error",
     "traceback": [
      "\u001b[0;31m---------------------------------------------------------------------------\u001b[0m",
      "\u001b[0;31mFileNotFoundError\u001b[0m                         Traceback (most recent call last)",
      "Cell \u001b[0;32mIn[99], line 3\u001b[0m\n\u001b[1;32m      1\u001b[0m \u001b[39mimport\u001b[39;00m \u001b[39mshutil\u001b[39;00m\n\u001b[0;32m----> 3\u001b[0m shutil\u001b[39m.\u001b[39;49mcopy(\u001b[39m'\u001b[39;49m\u001b[39m./data/data.txt\u001b[39;49m\u001b[39m'\u001b[39;49m, \u001b[39m'\u001b[39;49m\u001b[39m./data/test/data.txt\u001b[39;49m\u001b[39m'\u001b[39;49m)\n",
      "File \u001b[0;32m~/miniforge3/envs/glm/lib/python3.10/shutil.py:417\u001b[0m, in \u001b[0;36mcopy\u001b[0;34m(src, dst, follow_symlinks)\u001b[0m\n\u001b[1;32m    415\u001b[0m \u001b[39mif\u001b[39;00m os\u001b[39m.\u001b[39mpath\u001b[39m.\u001b[39misdir(dst):\n\u001b[1;32m    416\u001b[0m     dst \u001b[39m=\u001b[39m os\u001b[39m.\u001b[39mpath\u001b[39m.\u001b[39mjoin(dst, os\u001b[39m.\u001b[39mpath\u001b[39m.\u001b[39mbasename(src))\n\u001b[0;32m--> 417\u001b[0m copyfile(src, dst, follow_symlinks\u001b[39m=\u001b[39;49mfollow_symlinks)\n\u001b[1;32m    418\u001b[0m copymode(src, dst, follow_symlinks\u001b[39m=\u001b[39mfollow_symlinks)\n\u001b[1;32m    419\u001b[0m \u001b[39mreturn\u001b[39;00m dst\n",
      "File \u001b[0;32m~/miniforge3/envs/glm/lib/python3.10/shutil.py:256\u001b[0m, in \u001b[0;36mcopyfile\u001b[0;34m(src, dst, follow_symlinks)\u001b[0m\n\u001b[1;32m    254\u001b[0m \u001b[39mwith\u001b[39;00m \u001b[39mopen\u001b[39m(src, \u001b[39m'\u001b[39m\u001b[39mrb\u001b[39m\u001b[39m'\u001b[39m) \u001b[39mas\u001b[39;00m fsrc:\n\u001b[1;32m    255\u001b[0m     \u001b[39mtry\u001b[39;00m:\n\u001b[0;32m--> 256\u001b[0m         \u001b[39mwith\u001b[39;00m \u001b[39mopen\u001b[39;49m(dst, \u001b[39m'\u001b[39;49m\u001b[39mwb\u001b[39;49m\u001b[39m'\u001b[39;49m) \u001b[39mas\u001b[39;00m fdst:\n\u001b[1;32m    257\u001b[0m             \u001b[39m# macOS\u001b[39;00m\n\u001b[1;32m    258\u001b[0m             \u001b[39mif\u001b[39;00m _HAS_FCOPYFILE:\n\u001b[1;32m    259\u001b[0m                 \u001b[39mtry\u001b[39;00m:\n",
      "\u001b[0;31mFileNotFoundError\u001b[0m: [Errno 2] No such file or directory: './data/test/data.txt'"
     ]
    }
   ],
   "source": [
    "import shutil\n",
    "\n",
    "shutil.copy('./data/data.txt', './data/test/data.txt')"
   ]
  },
  {
   "cell_type": "code",
   "execution_count": 100,
   "metadata": {},
   "outputs": [
    {
     "data": {
      "text/plain": [
       "'./data/test/data.txt'"
      ]
     },
     "execution_count": 100,
     "metadata": {},
     "output_type": "execute_result"
    }
   ],
   "source": [
    "os.mkdir('./data/test')\n",
    "shutil.copy('./data/data.txt', './data/test/data.txt')"
   ]
  },
  {
   "cell_type": "code",
   "execution_count": 101,
   "metadata": {},
   "outputs": [
    {
     "data": {
      "text/plain": [
       "'./data/test/data.txt'"
      ]
     },
     "execution_count": 101,
     "metadata": {},
     "output_type": "execute_result"
    }
   ],
   "source": [
    "shutil.copy2('./data/data.txt', './data/test/data.txt')"
   ]
  },
  {
   "cell_type": "code",
   "execution_count": 103,
   "metadata": {},
   "outputs": [
    {
     "data": {
      "text/plain": [
       "'./data/test/data2.txt'"
      ]
     },
     "execution_count": 103,
     "metadata": {},
     "output_type": "execute_result"
    }
   ],
   "source": [
    "shutil.copyfile('./data/data.txt', './data/test/data2.txt')"
   ]
  },
  {
   "cell_type": "code",
   "execution_count": 104,
   "metadata": {},
   "outputs": [],
   "source": [
    "os.makedirs('./data/test/a/b/c/d/e/f/')"
   ]
  },
  {
   "cell_type": "code",
   "execution_count": 105,
   "metadata": {},
   "outputs": [],
   "source": [
    "shutil.rmtree('./data/test')"
   ]
  },
  {
   "cell_type": "code",
   "execution_count": 108,
   "metadata": {},
   "outputs": [
    {
     "data": {
      "text/plain": [
       "'./data/data_copy.txt'"
      ]
     },
     "execution_count": 108,
     "metadata": {},
     "output_type": "execute_result"
    }
   ],
   "source": [
    "shutil.move('./data/data.txt', './data/data_copy.txt')"
   ]
  },
  {
   "cell_type": "markdown",
   "metadata": {},
   "source": [
    "## zipfile 压缩模块"
   ]
  },
  {
   "cell_type": "code",
   "execution_count": 111,
   "metadata": {},
   "outputs": [],
   "source": [
    "import zipfile, os\n",
    "\n",
    "with zipfile.ZipFile('temp.zip', 'w') as myzip:\n",
    "    myzip.write('./data/data_copy.txt')\n",
    "    myzip.write('./data/black.txt')\n",
    "    myzip.write('./data/user.txt')"
   ]
  },
  {
   "cell_type": "code",
   "execution_count": 116,
   "metadata": {},
   "outputs": [],
   "source": [
    "with zipfile.ZipFile('temp.zip', 'r') as myzip:\n",
    "    myzip.extractall('./data2')"
   ]
  },
  {
   "cell_type": "code",
   "execution_count": 122,
   "metadata": {},
   "outputs": [
    {
     "name": "stdout",
     "output_type": "stream",
     "text": [
      "['12.ipynb', '10.ipynb', '.DS_Store', '15_json.html', '14.ipynb', '8.ipynb', 'temp.zip', '14.py', '11.ipynb', 'globals.ipynb', '13.ipynb', 'Kalman.ipynb', '9.ipynb', '15.ipynb', '7.ipynb', '5.ipynb', '1.ipynb', '3.ipynb', '4.ipynb', '6.ipynb', 'data', '2.ipynb']\n"
     ]
    }
   ],
   "source": [
    "with zipfile.ZipFile('temp.zip','w', zipfile.ZIP_DEFLATED) as myzip:\n",
    "    # 获取当前目录中的所有的项\n",
    "    arr = os.listdir('./')\n",
    "    print(arr)\n",
    "    for i in arr:\n",
    "        myzip.write(i)"
   ]
  },
  {
   "cell_type": "code",
   "execution_count": 123,
   "metadata": {},
   "outputs": [
    {
     "data": {
      "text/plain": [
       "'/Users/du/git/AI_Cheats/Python/temp.tar'"
      ]
     },
     "execution_count": 123,
     "metadata": {},
     "output_type": "execute_result"
    }
   ],
   "source": [
    "shutil.make_archive('temp', 'tar', './data')"
   ]
  },
  {
   "cell_type": "code",
   "execution_count": null,
   "metadata": {},
   "outputs": [],
   "source": []
  }
 ],
 "metadata": {
  "kernelspec": {
   "display_name": "base",
   "language": "python",
   "name": "python3"
  },
  "language_info": {
   "codemirror_mode": {
    "name": "ipython",
    "version": 3
   },
   "file_extension": ".py",
   "mimetype": "text/x-python",
   "name": "python",
   "nbconvert_exporter": "python",
   "pygments_lexer": "ipython3",
   "version": "3.10.12"
  },
  "orig_nbformat": 4
 },
 "nbformat": 4,
 "nbformat_minor": 2
}
