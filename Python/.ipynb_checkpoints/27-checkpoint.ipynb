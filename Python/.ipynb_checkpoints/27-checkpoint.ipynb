{
 "cells": [
  {
   "cell_type": "markdown",
   "metadata": {},
   "source": [
    "# Pandas"
   ]
  },
  {
   "cell_type": "code",
   "execution_count": 1,
   "metadata": {},
   "outputs": [],
   "source": [
    "import numpy as np\n",
    "import pandas as pd\n",
    "from pandas import Series\n",
    "from pandas import DataFrame as df"
   ]
  },
  {
   "cell_type": "code",
   "execution_count": 2,
   "metadata": {},
   "outputs": [
    {
     "name": "stdout",
     "output_type": "stream",
     "text": [
      "0    1\n",
      "1    2\n",
      "2    3\n",
      "3    4\n",
      "dtype: int64\n"
     ]
    }
   ],
   "source": [
    "sel = Series([1,2,3,4])\n",
    "print(sel)"
   ]
  },
  {
   "cell_type": "code",
   "execution_count": 4,
   "metadata": {},
   "outputs": [
    {
     "name": "stdout",
     "output_type": "stream",
     "text": [
      "a    1\n",
      "b    2\n",
      "c    3\n",
      "d    4\n",
      "dtype: int64\n"
     ]
    }
   ],
   "source": [
    "# sel = Series(data=[1,2,3,4], index= ['a','b','c','d'])\n",
    "sel = Series(data=[1,2,3,4], index= list('abcd'))\n",
    "print(sel)\n"
   ]
  },
  {
   "cell_type": "code",
   "execution_count": 6,
   "metadata": {},
   "outputs": [
    {
     "name": "stdout",
     "output_type": "stream",
     "text": [
      "values: [1 2 3 4]\n",
      "Index(['a', 'b', 'c', 'd'], dtype='object')\n"
     ]
    }
   ],
   "source": [
    "print(f'values: {sel.values}')\n",
    "print(sel.index)"
   ]
  },
  {
   "cell_type": "code",
   "execution_count": 7,
   "metadata": {},
   "outputs": [
    {
     "name": "stdout",
     "output_type": "stream",
     "text": [
      "[('a', 1), ('b', 2), ('c', 3), ('d', 4)]\n"
     ]
    },
    {
     "name": "stderr",
     "output_type": "stream",
     "text": [
      "/var/folders/h4/7cr1cmpn7v5b3x20_9wz8m740000gn/T/ipykernel_47013/1817614246.py:1: FutureWarning: iteritems is deprecated and will be removed in a future version. Use .items instead.\n",
      "  print(list(sel.iteritems()))\n"
     ]
    }
   ],
   "source": [
    "print(list(sel.iteritems()))"
   ]
  },
  {
   "cell_type": "code",
   "execution_count": 8,
   "metadata": {},
   "outputs": [
    {
     "name": "stdout",
     "output_type": "stream",
     "text": [
      "red      100\n",
      "black    400\n",
      "green    300\n",
      "pink     900\n",
      "dtype: int64\n"
     ]
    }
   ],
   "source": [
    "dict={\"red\":100,\"black\":400,\"green\":300,\"pink\":900}\n",
    "se3=Series(dict) \n",
    "print(se3)"
   ]
  },
  {
   "cell_type": "code",
   "execution_count": 9,
   "metadata": {},
   "outputs": [
    {
     "name": "stdout",
     "output_type": "stream",
     "text": [
      "索引下标 3\n",
      "位置下标 3\n"
     ]
    }
   ],
   "source": [
    "# Series对象同时⽀持位置和标签两种⽅式获取数据 \n",
    "print('索引下标',sel['c'])\n",
    "print('位置下标',sel[2])"
   ]
  },
  {
   "cell_type": "code",
   "execution_count": 11,
   "metadata": {},
   "outputs": [
    {
     "name": "stdout",
     "output_type": "stream",
     "text": [
      "位置切⽚\n",
      " b    2\n",
      "c    3\n",
      "dtype: int64\n",
      "\n",
      "索引切⽚\n",
      " b    2\n",
      "c    3\n",
      "d    4\n",
      "dtype: int64\n"
     ]
    }
   ],
   "source": [
    "print('位置切⽚\\n',sel[1:3])# 左包含右不包含\n",
    "print('\\n索引切⽚\\n',sel['b':'d'])# 左右都包含"
   ]
  },
  {
   "cell_type": "code",
   "execution_count": 14,
   "metadata": {},
   "outputs": [
    {
     "name": "stdout",
     "output_type": "stream",
     "text": [
      "d    1\n",
      "c    2\n",
      "b    3\n",
      "a    4\n",
      "dtype: int64\n"
     ]
    }
   ],
   "source": [
    "sel.index = list('dcba')\n",
    "print(sel)"
   ]
  },
  {
   "cell_type": "code",
   "execution_count": 15,
   "metadata": {},
   "outputs": [
    {
     "name": "stdout",
     "output_type": "stream",
     "text": [
      "b    3.0\n",
      "a    4.0\n",
      "c    2.0\n",
      "d    1.0\n",
      "e    NaN\n",
      "dtype: float64\n"
     ]
    }
   ],
   "source": [
    "print(sel.reindex(['b','a','c','d','e']))"
   ]
  },
  {
   "cell_type": "code",
   "execution_count": 16,
   "metadata": {},
   "outputs": [
    {
     "name": "stdout",
     "output_type": "stream",
     "text": [
      "0    10\n",
      "1    11\n",
      "2    12\n",
      "3    13\n",
      "4    14\n",
      "dtype: int64\n",
      "0    10\n",
      "1    11\n",
      "4    14\n",
      "dtype: int64\n"
     ]
    }
   ],
   "source": [
    "sel = pd.Series(range(10, 15))\n",
    "print(sel)\n",
    "print(sel.drop([2,3]))"
   ]
  },
  {
   "cell_type": "code",
   "execution_count": 19,
   "metadata": {},
   "outputs": [
    {
     "name": "stdout",
     "output_type": "stream",
     "text": [
      "series1-series2:\n",
      "Accra       NaN\n",
      "Delhi       NaN\n",
      "HongKong    NaN\n",
      "Humbai      NaN\n",
      "London      0.0\n",
      "lagos      -2.0\n",
      "dtype: float64\n",
      "\n",
      "series1+series2:\n",
      "Accra        NaN\n",
      "Delhi        NaN\n",
      "HongKong     NaN\n",
      "Humbai       NaN\n",
      "London       2.0\n",
      "lagos       10.0\n",
      "dtype: float64\n",
      "\n",
      "series1*series2:\n",
      "Accra        NaN\n",
      "Delhi        NaN\n",
      "HongKong     NaN\n",
      "Humbai       NaN\n",
      "London       1.0\n",
      "lagos       24.0\n",
      "dtype: float64\n"
     ]
    }
   ],
   "source": [
    "# Series 算数运算\n",
    "series1 = pd.Series([1,2,3,4],['London','HongKong','Humbai','lagos'])\n",
    "series2 = pd.Series([1,3,6,4],['London','Accra','lagos','Delhi'])\n",
    "\n",
    "print('series1-series2:')\n",
    "print(series1-series2) \n",
    "print('\\nseries1+series2:')\n",
    "print(series1+series2) \n",
    "print('\\nseries1*series2:')\n",
    "print(series1*series2)"
   ]
  },
  {
   "cell_type": "code",
   "execution_count": null,
   "metadata": {},
   "outputs": [],
   "source": [
    "sel = Series(data = [1,6,3,5], index = list('abcd'))\n",
    "print(sel[sel>3]) # 布尔数组过滤\n",
    "print(sel*2) # 标量乘法\n",
    "print(np.square(sel)) # 可以直接加⼊到numpy的数学函数"
   ]
  }
 ],
 "metadata": {
  "kernelspec": {
   "display_name": "base",
   "language": "python",
   "name": "python3"
  },
  "language_info": {
   "codemirror_mode": {
    "name": "ipython",
    "version": 3
   },
   "file_extension": ".py",
   "mimetype": "text/x-python",
   "name": "python",
   "nbconvert_exporter": "python",
   "pygments_lexer": "ipython3",
   "version": "3.10.12"
  },
  "orig_nbformat": 4
 },
 "nbformat": 4,
 "nbformat_minor": 2
}
