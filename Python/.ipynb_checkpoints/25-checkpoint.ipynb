{
 "cells": [
  {
   "cell_type": "markdown",
   "metadata": {},
   "source": [
    "# matplotlib"
   ]
  },
  {
   "cell_type": "code",
   "execution_count": null,
   "metadata": {},
   "outputs": [],
   "source": [
    "# 导入模块\n",
    "import matplotlib.pyplot as plt\n",
    "# 这段代码会让之后的代码在Jupyter内执行的时候显示图片\n",
    "%matplotlib inline\n",
    "# 传入x,y, 通过plot画图\n",
    "plt.plot([1,0,9],[4,5,6])\n",
    "# 在执行程序的时候显示图形"
   ]
  }
 ],
 "metadata": {
  "language_info": {
   "name": "python"
  },
  "orig_nbformat": 4
 },
 "nbformat": 4,
 "nbformat_minor": 2
}
