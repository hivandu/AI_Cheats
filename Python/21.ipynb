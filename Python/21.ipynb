{
 "cells": [
  {
   "cell_type": "markdown",
   "metadata": {},
   "source": [
    "# 面向对象编程"
   ]
  },
  {
   "cell_type": "code",
   "execution_count": 6,
   "metadata": {},
   "outputs": [],
   "source": [
    "# 定义一个汽车的类\n",
    "class Car():\n",
    "    # 属性 => 特征 => 变量\n",
    "    color = 'black' # 表示颜色属性\n",
    "    brand = 'mustang' #表示品牌属性\n",
    "    displacement = 2.4 # 表示排量属性\n",
    "\n",
    "    # 方法 => 功能 => 函数\n",
    "    def pulling(self):\n",
    "        print('小汽车能拉货。')\n",
    "\n",
    "    def rode(self):\n",
    "        print('小汽车能代步。')\n",
    "\n",
    "    def onDuty(self):\n",
    "        print('小汽车能上班。')\n",
    "\n",
    "   "
   ]
  },
  {
   "cell_type": "code",
   "execution_count": 7,
   "metadata": {},
   "outputs": [],
   "source": [
    "# 实例化一个对象\n",
    "buyNewCar = Car()"
   ]
  },
  {
   "cell_type": "code",
   "execution_count": 8,
   "metadata": {},
   "outputs": [
    {
     "name": "stdout",
     "output_type": "stream",
     "text": [
      "<__main__.Car object at 0x105e6fbb0> <class '__main__.Car'>\n",
      "mustang\n",
      "小汽车能代步。\n"
     ]
    }
   ],
   "source": [
    "print(buyNewCar, type(buyNewCar))\n",
    "\n",
    "# 查看对象的品牌\n",
    "print(buyNewCar.brand)\n",
    "\n",
    "# 调用对象的方法\n",
    "buyNewCar.rode()"
   ]
  },
  {
   "cell_type": "code",
   "execution_count": 10,
   "metadata": {},
   "outputs": [
    {
     "name": "stdout",
     "output_type": "stream",
     "text": [
      "<__main__.Car object at 0x105d37190>\n",
      "<__main__.Car object at 0x105d36fe0>\n"
     ]
    }
   ],
   "source": [
    "a = Car()\n",
    "b = Car()\n",
    "print(a)\n",
    "print(b)"
   ]
  },
  {
   "cell_type": "code",
   "execution_count": 11,
   "metadata": {},
   "outputs": [
    {
     "name": "stdout",
     "output_type": "stream",
     "text": [
      "black\n"
     ]
    }
   ],
   "source": [
    "res = a.color\n",
    "print(res)"
   ]
  },
  {
   "cell_type": "code",
   "execution_count": 13,
   "metadata": {},
   "outputs": [
    {
     "name": "stdout",
     "output_type": "stream",
     "text": [
      "小汽车能代步。\n"
     ]
    }
   ],
   "source": [
    "a.rode()"
   ]
  },
  {
   "cell_type": "code",
   "execution_count": 14,
   "metadata": {},
   "outputs": [
    {
     "name": "stdout",
     "output_type": "stream",
     "text": [
      "red\n"
     ]
    }
   ],
   "source": [
    "a.color = 'red'\n",
    "res = a.color\n",
    "print(res)"
   ]
  },
  {
   "cell_type": "code",
   "execution_count": 15,
   "metadata": {},
   "outputs": [
    {
     "name": "stdout",
     "output_type": "stream",
     "text": [
      "black\n"
     ]
    }
   ],
   "source": [
    "print(b.color)"
   ]
  },
  {
   "cell_type": "code",
   "execution_count": 22,
   "metadata": {},
   "outputs": [
    {
     "name": "stdout",
     "output_type": "stream",
     "text": [
      "AE86\n"
     ]
    }
   ],
   "source": [
    "a.name = 'AE86'\n",
    "print(a.name)"
   ]
  },
  {
   "cell_type": "code",
   "execution_count": 19,
   "metadata": {},
   "outputs": [
    {
     "ename": "AttributeError",
     "evalue": "'Car' object has no attribute 'name'",
     "output_type": "error",
     "traceback": [
      "\u001b[0;31m---------------------------------------------------------------------------\u001b[0m",
      "\u001b[0;31mAttributeError\u001b[0m                            Traceback (most recent call last)",
      "Cell \u001b[0;32mIn[19], line 1\u001b[0m\n\u001b[0;32m----> 1\u001b[0m \u001b[39mprint\u001b[39m(b\u001b[39m.\u001b[39;49mname)\n",
      "\u001b[0;31mAttributeError\u001b[0m: 'Car' object has no attribute 'name'"
     ]
    }
   ],
   "source": [
    "print(b.name)"
   ]
  },
  {
   "cell_type": "code",
   "execution_count": 23,
   "metadata": {},
   "outputs": [
    {
     "name": "stdout",
     "output_type": "stream",
     "text": [
      "AE86\n"
     ]
    },
    {
     "ename": "AttributeError",
     "evalue": "'Car' object has no attribute 'name'",
     "output_type": "error",
     "traceback": [
      "\u001b[0;31m---------------------------------------------------------------------------\u001b[0m",
      "\u001b[0;31mAttributeError\u001b[0m                            Traceback (most recent call last)",
      "Cell \u001b[0;32mIn[23], line 3\u001b[0m\n\u001b[1;32m      1\u001b[0m \u001b[39mprint\u001b[39m(a\u001b[39m.\u001b[39mname)\n\u001b[1;32m      2\u001b[0m \u001b[39mdel\u001b[39;00m a\u001b[39m.\u001b[39mname\n\u001b[0;32m----> 3\u001b[0m \u001b[39mprint\u001b[39m(a\u001b[39m.\u001b[39;49mname)\n\u001b[1;32m      4\u001b[0m \u001b[39mdel\u001b[39;00m a\u001b[39m.\u001b[39mbrand\n",
      "\u001b[0;31mAttributeError\u001b[0m: 'Car' object has no attribute 'name'"
     ]
    }
   ],
   "source": [
    "print(a.name)\n",
    "del a.name\n",
    "print(a.name)\n",
    "del a.brand"
   ]
  },
  {
   "cell_type": "code",
   "execution_count": 28,
   "metadata": {},
   "outputs": [
    {
     "name": "stdout",
     "output_type": "stream",
     "text": [
      "AttributeError: brand\n",
      "a.brand:  mustang\n"
     ]
    }
   ],
   "source": [
    "try:\n",
    "    del a.brand\n",
    "except AttributeError as e:\n",
    "    print('AttributeError:', e)\n",
    "\n",
    "print('a.brand: ', a.brand)"
   ]
  },
  {
   "cell_type": "code",
   "execution_count": 30,
   "metadata": {},
   "outputs": [
    {
     "name": "stdout",
     "output_type": "stream",
     "text": [
      "小汽车能代步。\n"
     ]
    }
   ],
   "source": [
    "a.rode()\n"
   ]
  },
  {
   "cell_type": "code",
   "execution_count": 31,
   "metadata": {},
   "outputs": [
    {
     "name": "stdout",
     "output_type": "stream",
     "text": [
      "这里是重新定义的一个方法\n"
     ]
    }
   ],
   "source": [
    "def func():\n",
    "    print('这里是重新定义的一个方法')\n",
    "\n",
    "a.rode = func\n",
    "a.rode()"
   ]
  },
  {
   "cell_type": "code",
   "execution_count": 36,
   "metadata": {},
   "outputs": [
    {
     "name": "stdout",
     "output_type": "stream",
     "text": [
      "这里是重新定义的一个方法\n"
     ]
    }
   ],
   "source": [
    "a.func2 = func\n",
    "a.func2()"
   ]
  },
  {
   "cell_type": "code",
   "execution_count": 37,
   "metadata": {},
   "outputs": [],
   "source": [
    "del a.func2"
   ]
  },
  {
   "cell_type": "code",
   "execution_count": 38,
   "metadata": {},
   "outputs": [
    {
     "ename": "AttributeError",
     "evalue": "'Car' object has no attribute 'func2'",
     "output_type": "error",
     "traceback": [
      "\u001b[0;31m---------------------------------------------------------------------------\u001b[0m",
      "\u001b[0;31mAttributeError\u001b[0m                            Traceback (most recent call last)",
      "Cell \u001b[0;32mIn[38], line 1\u001b[0m\n\u001b[0;32m----> 1\u001b[0m a\u001b[39m.\u001b[39;49mfunc2()\n",
      "\u001b[0;31mAttributeError\u001b[0m: 'Car' object has no attribute 'func2'"
     ]
    }
   ],
   "source": [
    "a.func2()"
   ]
  },
  {
   "cell_type": "code",
   "execution_count": 40,
   "metadata": {},
   "outputs": [
    {
     "name": "stdout",
     "output_type": "stream",
     "text": [
      "mustang\n",
      "BMW\n",
      "BMW\n"
     ]
    }
   ],
   "source": [
    "print(a.brand) # 先执行一次打印，原始属性\n",
    "Car.brand = 'BMW'\n",
    "b = Car() # 新创建一个实例化对象\n",
    "print(b.brand) # 打印新创建的对象的属性\n",
    "print(a.brand) # 打印修改之前创建的对象的属性"
   ]
  },
  {
   "cell_type": "markdown",
   "metadata": {},
   "source": [
    "## SELF"
   ]
  },
  {
   "cell_type": "code",
   "execution_count": 48,
   "metadata": {},
   "outputs": [
    {
     "name": "stdout",
     "output_type": "stream",
     "text": [
      "<__main__.Person object at 0x10a049e70>\n",
      "张三\n",
      "茶桁\n",
      "会饶舌\n"
     ]
    },
    {
     "ename": "TypeError",
     "evalue": "Person.func() missing 1 required positional argument: 'self'",
     "output_type": "error",
     "traceback": [
      "\u001b[0;31m---------------------------------------------------------------------------\u001b[0m",
      "\u001b[0;31mTypeError\u001b[0m                                 Traceback (most recent call last)",
      "Cell \u001b[0;32mIn[48], line 30\u001b[0m\n\u001b[1;32m     27\u001b[0m zs\u001b[39m.\u001b[39mname \u001b[39m=\u001b[39m \u001b[39m\"\u001b[39m\u001b[39m张三\u001b[39m\u001b[39m\"\u001b[39m\n\u001b[1;32m     28\u001b[0m zs\u001b[39m.\u001b[39mfunc() \n\u001b[0;32m---> 30\u001b[0m Person\u001b[39m.\u001b[39;49mfunc()\n",
      "\u001b[0;31mTypeError\u001b[0m: Person.func() missing 1 required positional argument: 'self'"
     ]
    }
   ],
   "source": [
    "# 定义人\n",
    "class Person():\n",
    "    # 成员属性\n",
    "    name = 'name'\n",
    "    age = 0\n",
    "    sex = 'sex'\n",
    "\n",
    "    # 成员方法\n",
    "    def sing(self):\n",
    "        print('会唱歌')\n",
    "    \n",
    "    def dance(self):\n",
    "        print('会跳舞')\n",
    "\n",
    "    def rap(self):\n",
    "        print('会饶舌')\n",
    "\n",
    "    def func(self):\n",
    "        print(self)\n",
    "        print(self.name)\n",
    "        self.name = '茶桁'\n",
    "        print(self.name)\n",
    "        self.rap()\n",
    "\n",
    "# 实例化对象\n",
    "zs = Person()\n",
    "zs.name = \"张三\"\n",
    "zs.func() "
   ]
  },
  {
   "cell_type": "code",
   "execution_count": 49,
   "metadata": {},
   "outputs": [
    {
     "name": "stdout",
     "output_type": "stream",
     "text": [
      "我是张三, 我会饶舌\n"
     ]
    }
   ],
   "source": [
    "# 定义人\n",
    "class Person():\n",
    "    # 成员属性\n",
    "    name = 'name'\n",
    "    age = 0\n",
    "    sex = 'sex'\n",
    "\n",
    "    # 成员方法\n",
    "    def sing(self):\n",
    "        print('会唱歌')\n",
    "    \n",
    "    def dance(self):\n",
    "        print('会跳舞')\n",
    "\n",
    "    def rap(self):\n",
    "        print(f'我是{self.name}, 我会饶舌')\n",
    "\n",
    "    def func(self):\n",
    "        # print(self)\n",
    "        # print(self.name)\n",
    "        # self.name = '茶桁'\n",
    "        # print(self.name)\n",
    "        self.rap()\n",
    "\n",
    "# 实例化对象\n",
    "zs = Person()\n",
    "zs.name = \"张三\"\n",
    "zs.func() "
   ]
  },
  {
   "cell_type": "code",
   "execution_count": 50,
   "metadata": {},
   "outputs": [
    {
     "ename": "TypeError",
     "evalue": "Person.func() missing 1 required positional argument: 'self'",
     "output_type": "error",
     "traceback": [
      "\u001b[0;31m---------------------------------------------------------------------------\u001b[0m",
      "\u001b[0;31mTypeError\u001b[0m                                 Traceback (most recent call last)",
      "Cell \u001b[0;32mIn[50], line 1\u001b[0m\n\u001b[0;32m----> 1\u001b[0m Person\u001b[39m.\u001b[39;49mfunc()\n",
      "\u001b[0;31mTypeError\u001b[0m: Person.func() missing 1 required positional argument: 'self'"
     ]
    }
   ],
   "source": [
    "Person.func()"
   ]
  },
  {
   "cell_type": "code",
   "execution_count": 51,
   "metadata": {},
   "outputs": [
    {
     "name": "stdout",
     "output_type": "stream",
     "text": [
      "我是一个没有`self`的方法。\n"
     ]
    }
   ],
   "source": [
    "class Person():\n",
    "    def func():\n",
    "        print('我是一个没有`self`的方法。')\n",
    "\n",
    "Person.func()"
   ]
  },
  {
   "cell_type": "code",
   "execution_count": 52,
   "metadata": {},
   "outputs": [
    {
     "ename": "TypeError",
     "evalue": "Person.func() takes 0 positional arguments but 1 was given",
     "output_type": "error",
     "traceback": [
      "\u001b[0;31m---------------------------------------------------------------------------\u001b[0m",
      "\u001b[0;31mTypeError\u001b[0m                                 Traceback (most recent call last)",
      "Cell \u001b[0;32mIn[52], line 2\u001b[0m\n\u001b[1;32m      1\u001b[0m a \u001b[39m=\u001b[39m Person()\n\u001b[0;32m----> 2\u001b[0m a\u001b[39m.\u001b[39;49mfunc()\n",
      "\u001b[0;31mTypeError\u001b[0m: Person.func() takes 0 positional arguments but 1 was given"
     ]
    }
   ],
   "source": [
    "a = Person()\n",
    "a.func()"
   ]
  },
  {
   "cell_type": "code",
   "execution_count": 53,
   "metadata": {},
   "outputs": [
    {
     "name": "stdout",
     "output_type": "stream",
     "text": [
      "我是admin, 我使用了vars来接受参数。\n"
     ]
    }
   ],
   "source": [
    "class Person():\n",
    "    def func(vars):\n",
    "        print(f'我是{vars.name}, 我使用了vars来接受参数。')\n",
    "\n",
    "a = Person()\n",
    "a.name = 'admin'\n",
    "a.func()"
   ]
  },
  {
   "cell_type": "code",
   "execution_count": 58,
   "metadata": {},
   "outputs": [
    {
     "name": "stdout",
     "output_type": "stream",
     "text": [
      "我是一个初始化方法。\n",
      "我叫张三, 我今年41岁，性别:male\n"
     ]
    }
   ],
   "source": [
    "class Person():\n",
    "    name = None\n",
    "    age = None\n",
    "    sex = None\n",
    "\n",
    "    # 初始化方法\n",
    "    def __init__(self,name,age, sex):\n",
    "        print('我是一个初始化方法。')\n",
    "        # 完成对象属性的初始化赋值\n",
    "        self.name = name\n",
    "        self.age = age\n",
    "        self.sex = sex\n",
    "\n",
    "    # 成员方法\n",
    "    def say(self):\n",
    "        print('大家好，我是茶桁。')\n",
    "\n",
    "# 实例化对象\n",
    "zs = Person('张三', 41, 'male')\n",
    "print(f'我叫{zs.name}, 我今年{zs.age}岁，性别:{zs.sex}')"
   ]
  },
  {
   "cell_type": "code",
   "execution_count": 1,
   "metadata": {},
   "outputs": [
    {
     "name": "stdout",
     "output_type": "stream",
     "text": [
      "初始化方法触发类，完成文件的打开\n",
      "把日志today is good day.写入到文件中\n",
      "析构方法触发了，关闭打开的文件\n"
     ]
    }
   ],
   "source": [
    "import time\n",
    "class writeLog():\n",
    "    # 成员属性\n",
    "    # 文件的路径\n",
    "    fileurl = './data/'\n",
    "    # 日志文件的名称\n",
    "    filename = str(time.strftime('%Y-%m-%d'))+'.log'\n",
    "    # 初始化 打开文件\n",
    "    def __init__(self):\n",
    "        # 完成文件的打开\n",
    "        print('初始化方法触发类，完成文件的打开')\n",
    "        self.fileobj = open(self.fileurl+self.filename, 'a+', encoding='utf-8')\n",
    "\n",
    "    # 写日志的方法\n",
    "    def log(self, s):\n",
    "        self.fileobj.write(s)\n",
    "        print(f'把日志{s}写入到文件中')\n",
    "\n",
    "    # 析构方法\n",
    "    def __del__(self):\n",
    "        print('析构方法触发了，关闭打开的文件')\n",
    "        # 在对象被销毁时，关闭在初始化方法中打开的文件对象\n",
    "        self.fileobj.close()\n",
    "\n",
    "# 实例化对象\n",
    "l = writeLog()\n",
    "l.log('today is good day.')\n",
    "del l"
   ]
  },
  {
   "cell_type": "markdown",
   "metadata": {},
   "source": [
    "## 封装"
   ]
  },
  {
   "cell_type": "code",
   "execution_count": 8,
   "metadata": {},
   "outputs": [
    {
     "name": "stdout",
     "output_type": "stream",
     "text": [
      "{'__module__': '__main__', 'name': None, 'age': None, 'sex': None, '__init__': <function Person.__init__ at 0x111a355a0>, 'say': <function Person.say at 0x111a35750>, 'sing': <function Person.sing at 0x111a357e0>, 'kiss': <function Person.kiss at 0x111a35870>, '__dict__': <attribute '__dict__' of 'Person' objects>, '__weakref__': <attribute '__weakref__' of 'Person' objects>, '__doc__': None}\n",
      "{'name': '张三', 'age': 49, 'sex': 'male'}\n",
      "张三\n",
      "come on...\n"
     ]
    }
   ],
   "source": [
    "class Person():\n",
    "    # 成员属性\n",
    "    name = None\n",
    "    age = None\n",
    "    sex = None\n",
    "\n",
    "    # 初始化方法\n",
    "    def __init__(self, name, age, sex):\n",
    "        self.name = name\n",
    "        self.age = age\n",
    "        self.sex = sex\n",
    "\n",
    "    # 成员方法\n",
    "    def say(self):\n",
    "        print('talk about life.')\n",
    "    \n",
    "    def sing(self):\n",
    "        print('sing a song.')\n",
    "\n",
    "    def kiss(self):\n",
    "        print('come on...')\n",
    "\n",
    "# 实例化对象\n",
    "zs = Person('张三', 49, 'male')\n",
    "\n",
    "# 查看对象的所有成员\n",
    "\n",
    "print(Person.__dict__) # 获取当前类的所有成员信息\n",
    "print(zs.__dict__) # 获取当前对象的所有成员信息\n",
    "\n",
    "# 我们也可以直接访问对象所有的方法\n",
    "print(zs.name)\n",
    "zs.kiss()\n"
   ]
  },
  {
   "cell_type": "code",
   "execution_count": 18,
   "metadata": {},
   "outputs": [
    {
     "name": "stdout",
     "output_type": "stream",
     "text": [
      "{'__module__': '__main__', 'name': None, '_age': None, '_Person__sex': None, '__init__': <function Person.__init__ at 0x111f99090>, 'say': <function Person.say at 0x111f98f70>, '_sing': <function Person._sing at 0x111f99360>, '_Person__kiss': <function Person.__kiss at 0x111f985e0>, '__dict__': <attribute '__dict__' of 'Person' objects>, '__weakref__': <attribute '__weakref__' of 'Person' objects>, '__doc__': None}\n",
      "{'name': '张三', '_age': 49, '_Person__sex': 'male'}\n",
      "sing a song.\n"
     ]
    },
    {
     "ename": "AttributeError",
     "evalue": "'Person' object has no attribute '__kiss'",
     "output_type": "error",
     "traceback": [
      "\u001b[0;31m---------------------------------------------------------------------------\u001b[0m",
      "\u001b[0;31mAttributeError\u001b[0m                            Traceback (most recent call last)",
      "Cell \u001b[0;32mIn[18], line 37\u001b[0m\n\u001b[1;32m     31\u001b[0m \u001b[39m# # 我们也可以直接访问对象所有的方法\u001b[39;00m\n\u001b[1;32m     32\u001b[0m \u001b[39m# print(zs.name)\u001b[39;00m\n\u001b[1;32m     33\u001b[0m \u001b[39m# zs.kiss()\u001b[39;00m\n\u001b[1;32m     34\u001b[0m \u001b[39m# print(zs._age)\u001b[39;00m\n\u001b[1;32m     35\u001b[0m \u001b[39m# print(zs.__sex)\u001b[39;00m\n\u001b[1;32m     36\u001b[0m zs\u001b[39m.\u001b[39m_sing()\n\u001b[0;32m---> 37\u001b[0m zs\u001b[39m.\u001b[39;49m__kiss()\n",
      "\u001b[0;31mAttributeError\u001b[0m: 'Person' object has no attribute '__kiss'"
     ]
    }
   ],
   "source": [
    "class Person():\n",
    "    # 成员属性\n",
    "    name = None\n",
    "    _age = None # 这是一个protected 成员\n",
    "    __sex = None # 这是一个 private 成员\n",
    "\n",
    "    # 初始化方法\n",
    "    def __init__(self, name, age, sex):\n",
    "        self.name = name\n",
    "        self._age = age\n",
    "        self.__sex = sex\n",
    "\n",
    "    # 成员方法\n",
    "    def say(self):\n",
    "        print('talk about life.')\n",
    "    \n",
    "    def _sing(self):\n",
    "        print('sing a song.')\n",
    "\n",
    "    def __kiss(self):\n",
    "        print('come on...')\n",
    "\n",
    "# 实例化对象\n",
    "zs = Person('张三', 49, 'male')\n",
    "\n",
    "# 查看对象的所有成员\n",
    "\n",
    "print(Person.__dict__) # 获取当前类的所有成员信息\n",
    "print(zs.__dict__) # 获取当前对象的所有成员信息\n",
    "\n",
    "# # 我们也可以直接访问对象所有的方法\n",
    "# print(zs.name)\n",
    "# zs.kiss()\n",
    "# print(zs._age)\n",
    "# print(zs.__sex)\n",
    "zs._sing()\n",
    "zs.__kiss()"
   ]
  },
  {
   "cell_type": "markdown",
   "metadata": {},
   "source": [
    "## 继承"
   ]
  },
  {
   "cell_type": "code",
   "execution_count": 19,
   "metadata": {},
   "outputs": [],
   "source": [
    "# 继承的语法格式\n",
    "class 父类():\n",
    "    pass\n",
    "\n",
    "class 子类(父类):\n",
    "    pass"
   ]
  },
  {
   "cell_type": "code",
   "execution_count": 22,
   "metadata": {},
   "outputs": [],
   "source": [
    "# 定义猫科动物\n",
    "class Felidae():\n",
    "    # 属性\n",
    "    coatColor = 'orange' # 毛色\n",
    "    sex = 'M' # 定义性别\n",
    "\n",
    "    # 成员方法\n",
    "    def run(self):\n",
    "        print('轻盈的跳跃')\n",
    "\n",
    "    def walk(self):\n",
    "        print('走的猫步')\n",
    "\n",
    "# 定义猫\n",
    "class cat():\n",
    "    coatColor = ' white'\n",
    "    sex = 'M' # 定义性别\n",
    "\n",
    "    # 成员方法\n",
    "    def run(self):\n",
    "        print('轻盈的跳跃')\n",
    "\n",
    "    def walk(self):\n",
    "        print('走的猫步')\n"
   ]
  },
  {
   "cell_type": "code",
   "execution_count": 27,
   "metadata": {},
   "outputs": [
    {
     "name": "stdout",
     "output_type": "stream",
     "text": [
      "轻盈的跳跃\n",
      "small\n",
      "吃猫粮。\n"
     ]
    },
    {
     "ename": "AttributeError",
     "evalue": "type object 'Felidae' has no attribute 'eat'",
     "output_type": "error",
     "traceback": [
      "\u001b[0;31m---------------------------------------------------------------------------\u001b[0m",
      "\u001b[0;31mAttributeError\u001b[0m                            Traceback (most recent call last)",
      "Cell \u001b[0;32mIn[27], line 27\u001b[0m\n\u001b[1;32m     25\u001b[0m \u001b[39mprint\u001b[39m(mimi\u001b[39m.\u001b[39msize)\n\u001b[1;32m     26\u001b[0m mimi\u001b[39m.\u001b[39meat()\n\u001b[0;32m---> 27\u001b[0m Felidae\u001b[39m.\u001b[39;49meat()\n",
      "\u001b[0;31mAttributeError\u001b[0m: type object 'Felidae' has no attribute 'eat'"
     ]
    }
   ],
   "source": [
    "# 定义猫科动物\n",
    "class Felidae():\n",
    "    # 属性\n",
    "    coatColor = 'orange' # 毛色\n",
    "    sex = 'M' # 定义性别\n",
    "\n",
    "    # 成员方法\n",
    "    def run(self):\n",
    "        print('轻盈的跳跃')\n",
    "\n",
    "    def walk(self):\n",
    "        print('走的猫步')\n",
    "\n",
    "# 定义猫\n",
    "class Cat(Felidae):\n",
    "    size = 'small'\n",
    "    def eat(self):\n",
    "        print('吃猫粮。')\n",
    "    pass\n",
    "\n",
    "mimi = Cat()\n",
    "mimi.run()\n",
    "print(mimi.size)\n",
    "mimi.eat()\n",
    "Felidae.eat()"
   ]
  },
  {
   "cell_type": "code",
   "execution_count": 30,
   "metadata": {},
   "outputs": [
    {
     "name": "stdout",
     "output_type": "stream",
     "text": [
      "轻盈的跳跃\n",
      "更加轻盈的跳跃。\n"
     ]
    }
   ],
   "source": [
    "# 定义猫科动物\n",
    "class Felidae():\n",
    "    # 属性\n",
    "    coatColor = 'orange' # 毛色\n",
    "    sex = 'M' # 定义性别\n",
    "\n",
    "    # 成员方法\n",
    "    def run(self):\n",
    "        print('轻盈的跳跃')\n",
    "\n",
    "    def walk(self):\n",
    "        print('走的猫步')\n",
    "\n",
    "# 定义猫\n",
    "class Cat(Felidae):\n",
    "    size = 'small'\n",
    "    def run(self):\n",
    "        super().run()\n",
    "        print('更加轻盈的跳跃。')\n",
    "\n",
    "    def eat(self):\n",
    "        print('吃猫粮。')\n",
    "\n",
    "    pass\n",
    "\n",
    "mimi = Cat()\n",
    "mimi.run()"
   ]
  },
  {
   "cell_type": "code",
   "execution_count": 31,
   "metadata": {},
   "outputs": [
    {
     "name": "stdout",
     "output_type": "stream",
     "text": [
      "人的样子。\n",
      "畜生的特性。\n"
     ]
    },
    {
     "data": {
      "text/plain": [
       "<__main__.Japanese at 0x111b73430>"
      ]
     },
     "execution_count": 31,
     "metadata": {},
     "output_type": "execute_result"
    }
   ],
   "source": [
    "class Person():\n",
    "    print('人的样子。')\n",
    "\n",
    "class Chusheng():\n",
    "    print('畜生的特性。')\n",
    "\n",
    "class Japanese(Person, Chusheng):\n",
    "    pass\n",
    "\n",
    "c = Japanese()\n",
    "c\n"
   ]
  },
  {
   "cell_type": "code",
   "execution_count": 33,
   "metadata": {},
   "outputs": [
    {
     "name": "stdout",
     "output_type": "stream",
     "text": [
      "小口吞咽食物...\n",
      "到底该怎么吃？\n"
     ]
    }
   ],
   "source": [
    "class Tiger():\n",
    "    def eat(self):\n",
    "        print('大口撕咬食物...')\n",
    "\n",
    "class Cat():\n",
    "    def eat(self):\n",
    "        print('小口吞咽食物...')\n",
    "\n",
    "class C(Cat,Tiger):\n",
    "    def eat(self):\n",
    "        super().eat()\n",
    "        print('到底该怎么吃？')\n",
    "\n",
    "# 实例化对象\n",
    "c = C()\n",
    "c.eat()"
   ]
  },
  {
   "cell_type": "code",
   "execution_count": 36,
   "metadata": {},
   "outputs": [
    {
     "name": "stdout",
     "output_type": "stream",
     "text": [
      "学着凭借本能寻找食物...\n",
      "111\n",
      "进化的另外一个分支，小口吞咽...\n",
      "333\n",
      "进化了，学会大口吃肉。。。\n",
      "222\n",
      "居然退化了，又忘了怎么吃...\n"
     ]
    }
   ],
   "source": [
    "# 菱形继承\n",
    "\n",
    "# 祖先\n",
    "class A():\n",
    "    num = 111\n",
    "    def eat(self):\n",
    "        print('学着凭借本能寻找食物...')\n",
    "\n",
    "# 父亲\n",
    "class B(A):\n",
    "    num = 222\n",
    "    def eat(self):\n",
    "        super().eat()\n",
    "        print(super().num)\n",
    "        print('进化了，学会大口吃肉。。。')\n",
    "\n",
    "# 母亲\n",
    "class C(A):\n",
    "    num = 333\n",
    "    def eat(self):\n",
    "        super().eat()\n",
    "        print(super().num)\n",
    "        print('进化的另外一个分支，小口吞咽...')\n",
    "\n",
    "# 子\n",
    "class D(B, C):\n",
    "    num = 444\n",
    "    def eat(self):\n",
    "        super().eat()\n",
    "        print(super().num)\n",
    "        print('居然退化了，又忘了怎么吃...')\n",
    "\n",
    "d = D()\n",
    "d.eat()"
   ]
  },
  {
   "cell_type": "code",
   "execution_count": 37,
   "metadata": {},
   "outputs": [
    {
     "name": "stdout",
     "output_type": "stream",
     "text": [
      "444\n",
      "<__main__.D object at 0x111b71540>\n",
      "444\n",
      "<__main__.D object at 0x111b71540>\n",
      "444\n",
      "<__main__.D object at 0x111b71540>\n",
      "学着凭借本能寻找食物...\n",
      "111\n",
      "进化的另外一个分支，小口吞咽...\n",
      "333\n",
      "进化了，学会大口吃肉。。。\n",
      "222\n",
      "居然退化了，又忘了怎么吃...\n"
     ]
    }
   ],
   "source": [
    "# 菱形继承\n",
    "\n",
    "# 祖先\n",
    "class A():\n",
    "    num = 111\n",
    "    def eat(self):\n",
    "        print(self.num)\n",
    "        print(self)\n",
    "        print('学着凭借本能寻找食物...')\n",
    "\n",
    "# 父亲\n",
    "class B(A):\n",
    "    num = 222\n",
    "    def eat(self):\n",
    "        print(self.num)\n",
    "        print(self)\n",
    "        super().eat()\n",
    "        print(super().num)\n",
    "        print('进化了，学会大口吃肉。。。')\n",
    "\n",
    "# 母亲\n",
    "class C(A):\n",
    "    num = 333\n",
    "    def eat(self):\n",
    "        print(self.num)\n",
    "        print(self)\n",
    "        super().eat()\n",
    "        print(super().num)\n",
    "        print('进化的另外一个分支，小口吞咽...')\n",
    "\n",
    "# 子\n",
    "class D(B, C):\n",
    "    num = 444\n",
    "    def eat(self):\n",
    "        super().eat()\n",
    "        print(super().num)\n",
    "        print('居然退化了，又忘了怎么吃...')\n",
    "\n",
    "d = D()\n",
    "d.eat()"
   ]
  },
  {
   "cell_type": "code",
   "execution_count": 38,
   "metadata": {},
   "outputs": [
    {
     "data": {
      "text/plain": [
       "[__main__.D, __main__.B, __main__.C, __main__.A, object]"
      ]
     },
     "execution_count": 38,
     "metadata": {},
     "output_type": "execute_result"
    }
   ],
   "source": [
    "D.mro()"
   ]
  },
  {
   "cell_type": "code",
   "execution_count": 40,
   "metadata": {},
   "outputs": [
    {
     "name": "stdout",
     "output_type": "stream",
     "text": [
      "True\n",
      "True\n",
      "True\n",
      "False\n"
     ]
    }
   ],
   "source": [
    "res = issubclass(D, B)\n",
    "print(res)\n",
    "res = issubclass(D, C)\n",
    "print(res)\n",
    "res = issubclass(D, A)\n",
    "print(res)\n",
    "res = issubclass(A, D)\n",
    "print(res)"
   ]
  },
  {
   "cell_type": "code",
   "execution_count": 42,
   "metadata": {},
   "outputs": [
    {
     "name": "stdout",
     "output_type": "stream",
     "text": [
      "鼠标启动成功，可以双击单击嗨起来。。。\n",
      "键盘启动成功了，赶紧输入666。。。\n",
      "U盘启动了，赶紧检查一下我的种子还在不在。。。\n"
     ]
    }
   ],
   "source": [
    "# 定义电脑类\n",
    "class Computer():\n",
    "    # 在电脑类中定义一个 sub 的规范的接口 方法\n",
    "    def usb(self,obj):\n",
    "        obj.start()\n",
    "\n",
    "# 定义鼠标类\n",
    "class Mouse():\n",
    "    def start(self):\n",
    "        print('鼠标启动成功，可以双击单击嗨起来。。。')\n",
    "\n",
    "# 定义键盘类\n",
    "class KeyBord():\n",
    "    def start(self):\n",
    "        print('键盘启动成功了，赶紧输入666。。。')\n",
    "\n",
    "# 定义 U盘 类\n",
    "class Udisk():\n",
    "    def start(self):\n",
    "        print('U盘启动了，赶紧检查一下我的种子还在不在。。。')\n",
    "\n",
    "# 实例化对象\n",
    "c = Computer()  # 电脑对象\n",
    "m = Mouse()     # 鼠标对象\n",
    "k = KeyBord()   # 键盘对象\n",
    "u = Udisk()     # u盘对象\n",
    "\n",
    "\n",
    "# 把不同的设备插入到电脑的usb的接口中\n",
    "c.usb(m)\n",
    "c.usb(k)\n",
    "c.usb(u)"
   ]
  },
  {
   "cell_type": "code",
   "execution_count": 46,
   "metadata": {},
   "outputs": [
    {
     "name": "stdout",
     "output_type": "stream",
     "text": [
      "鼠标启动成功，可以双击单击嗨起来。。。\n",
      "键盘启动成功了，赶紧输入666。。。\n",
      "U盘启动了，赶紧检查一下我的种子还在不在。。。\n"
     ]
    }
   ],
   "source": [
    "# 继承关系写多态\n",
    "\n",
    "# 定义USB\n",
    "class USB():\n",
    "    '''\n",
    "    info:\n",
    "        这个类是一个接口规范类，需要子类继承并实现start方法\n",
    "        start方法不做任何具体功能的实现\n",
    "    '''\n",
    "    # 在usb类中定义一个规范的接口方法，但是不实现任何功能\n",
    "    def start(self):\n",
    "        pass\n",
    "\n",
    "# 定义鼠标类\n",
    "class Mouse(USB):\n",
    "    def start(self):\n",
    "        print('鼠标启动成功，可以双击单击嗨起来。。。')\n",
    "\n",
    "# 定义键盘类\n",
    "class KeyBord(USB):\n",
    "    def start(self):\n",
    "        print('键盘启动成功了，赶紧输入666。。。')\n",
    "\n",
    "# 定义 U盘 类\n",
    "class Udisk(USB):\n",
    "    def start(self):\n",
    "        print('U盘启动了，赶紧检查一下我的种子还在不在。。。')\n",
    "\n",
    "# 实例化对象\n",
    "m = Mouse()\n",
    "k = KeyBord()\n",
    "u = Udisk()\n",
    "\n",
    "m.start()\n",
    "k.start()\n",
    "u.start()"
   ]
  },
  {
   "cell_type": "markdown",
   "metadata": {},
   "source": [
    "![欢迎订阅：坍缩的奇点](../assets/Capture-2023-11-02-164446.png)"
   ]
  },
  {
   "cell_type": "code",
   "execution_count": null,
   "metadata": {},
   "outputs": [],
   "source": []
  }
 ],
 "metadata": {
  "kernelspec": {
   "display_name": "base",
   "language": "python",
   "name": "python3"
  },
  "language_info": {
   "codemirror_mode": {
    "name": "ipython",
    "version": 3
   },
   "file_extension": ".py",
   "mimetype": "text/x-python",
   "name": "python",
   "nbconvert_exporter": "python",
   "pygments_lexer": "ipython3",
   "version": "3.10.12"
  },
  "orig_nbformat": 4
 },
 "nbformat": 4,
 "nbformat_minor": 2
}
