{
 "cells": [
  {
   "cell_type": "markdown",
   "metadata": {},
   "source": [
    "# 数据结构 - 列表"
   ]
  },
  {
   "cell_type": "code",
   "execution_count": 36,
   "metadata": {},
   "outputs": [
    {
     "name": "stdout",
     "output_type": "stream",
     "text": [
      "[1, 2, 3, 4] \n",
      " ['1', '2', '3', '4']\n"
     ]
    }
   ],
   "source": [
    "items = [1, 2, 3, 4]\n",
    "items2 = list('1234')\n",
    "\n",
    "print(items,'\\n', items2)"
   ]
  },
  {
   "cell_type": "code",
   "execution_count": 37,
   "metadata": {},
   "outputs": [
    {
     "name": "stdout",
     "output_type": "stream",
     "text": [
      "[1, 2, 3, 4, '1', '2', '3', '4']\n"
     ]
    }
   ],
   "source": [
    "print(items + items2)"
   ]
  },
  {
   "cell_type": "code",
   "execution_count": 38,
   "metadata": {},
   "outputs": [
    {
     "name": "stdout",
     "output_type": "stream",
     "text": [
      "[1, 2, 3, 4, '1', '2', '3', '4', 1, 2, 3, 4, '1', '2', '3', '4', 1, 2, 3, 4, '1', '2', '3', '4', 1, 2, 3, 4, '1', '2', '3', '4', 1, 2, 3, 4, '1', '2', '3', '4']\n"
     ]
    }
   ],
   "source": [
    "print((items + items2) * 5)"
   ]
  },
  {
   "cell_type": "code",
   "execution_count": 40,
   "metadata": {},
   "outputs": [
    {
     "ename": "TypeError",
     "evalue": "unsupported operand type(s) for -: 'list' and 'list'",
     "output_type": "error",
     "traceback": [
      "\u001b[0;31m---------------------------------------------------------------------------\u001b[0m",
      "\u001b[0;31mTypeError\u001b[0m                                 Traceback (most recent call last)",
      "Cell \u001b[0;32mIn[40], line 1\u001b[0m\n\u001b[0;32m----> 1\u001b[0m \u001b[39mprint\u001b[39m(items \u001b[39m-\u001b[39;49m items2)\n",
      "\u001b[0;31mTypeError\u001b[0m: unsupported operand type(s) for -: 'list' and 'list'"
     ]
    }
   ],
   "source": [
    "print(items - items2)"
   ]
  },
  {
   "cell_type": "code",
   "execution_count": 41,
   "metadata": {},
   "outputs": [
    {
     "name": "stdout",
     "output_type": "stream",
     "text": [
      "[1, 2, 9, 4] \t 4\n"
     ]
    }
   ],
   "source": [
    "items[2] = 9\n",
    "print(items, \"\\t\",items[3])"
   ]
  },
  {
   "cell_type": "code",
   "execution_count": 42,
   "metadata": {},
   "outputs": [
    {
     "data": {
      "text/plain": [
       "4"
      ]
     },
     "execution_count": 42,
     "metadata": {},
     "output_type": "execute_result"
    }
   ],
   "source": [
    "items[-1]"
   ]
  },
  {
   "cell_type": "code",
   "execution_count": 29,
   "metadata": {},
   "outputs": [
    {
     "ename": "IndexError",
     "evalue": "list assignment index out of range",
     "output_type": "error",
     "traceback": [
      "\u001b[0;31m---------------------------------------------------------------------------\u001b[0m",
      "\u001b[0;31mIndexError\u001b[0m                                Traceback (most recent call last)",
      "Cell \u001b[0;32mIn[29], line 1\u001b[0m\n\u001b[0;32m----> 1\u001b[0m items[\u001b[39m4\u001b[39;49m] \u001b[39m=\u001b[39m \u001b[39m10\u001b[39m\n",
      "\u001b[0;31mIndexError\u001b[0m: list assignment index out of range"
     ]
    }
   ],
   "source": [
    "items[4] = 10"
   ]
  },
  {
   "cell_type": "code",
   "execution_count": 47,
   "metadata": {},
   "outputs": [
    {
     "name": "stdout",
     "output_type": "stream",
     "text": [
      "[1, 2, 3, 4, 2]\n"
     ]
    }
   ],
   "source": [
    "items = [1, 2, 3, 4]\n",
    "items.append(2)\n",
    "print(items)"
   ]
  },
  {
   "cell_type": "code",
   "execution_count": 48,
   "metadata": {},
   "outputs": [
    {
     "name": "stdout",
     "output_type": "stream",
     "text": [
      "[1, 2, 3, 4]\n"
     ]
    }
   ],
   "source": [
    "del items[-1]\n",
    "print(items)"
   ]
  },
  {
   "cell_type": "code",
   "execution_count": 51,
   "metadata": {},
   "outputs": [
    {
     "name": "stdout",
     "output_type": "stream",
     "text": [
      "[1, 2, 3]\n"
     ]
    }
   ],
   "source": [
    "items = [1, 2, 3, 4]\n",
    "items.pop()\n",
    "print(items)"
   ]
  },
  {
   "cell_type": "code",
   "execution_count": 53,
   "metadata": {},
   "outputs": [
    {
     "name": "stdout",
     "output_type": "stream",
     "text": [
      "[2, 3, 4]\n"
     ]
    }
   ],
   "source": [
    "items = [1, 2, 3, 4]\n",
    "items.pop(0)\n",
    "print(items)"
   ]
  },
  {
   "cell_type": "code",
   "execution_count": 55,
   "metadata": {},
   "outputs": [],
   "source": [
    "items = ['Python','Java','Ruby','Rust','C++','Swift','JavaScript','Node','PHP']"
   ]
  },
  {
   "cell_type": "code",
   "execution_count": 56,
   "metadata": {},
   "outputs": [
    {
     "name": "stdout",
     "output_type": "stream",
     "text": [
      "['Ruby', 'Rust', 'C++', 'Swift', 'JavaScript', 'Node', 'PHP']\n"
     ]
    }
   ],
   "source": [
    "# 从开始索引到列表的最后\n",
    "print(items[2:])"
   ]
  },
  {
   "cell_type": "code",
   "execution_count": 57,
   "metadata": {},
   "outputs": [
    {
     "name": "stdout",
     "output_type": "stream",
     "text": [
      "['Python', 'Java']\n"
     ]
    }
   ],
   "source": [
    "# 从最前面索引到结束值之前：\n",
    "print(items[:2])"
   ]
  },
  {
   "cell_type": "code",
   "execution_count": 59,
   "metadata": {},
   "outputs": [
    {
     "name": "stdout",
     "output_type": "stream",
     "text": [
      "['Ruby']\n"
     ]
    }
   ],
   "source": [
    "# 从开始值索引到结束值之前：\n",
    "print(items[2:3])"
   ]
  },
  {
   "cell_type": "code",
   "execution_count": 60,
   "metadata": {},
   "outputs": [
    {
     "name": "stdout",
     "output_type": "stream",
     "text": [
      "['Python', 'Ruby', 'C++', 'JavaScript']\n"
     ]
    }
   ],
   "source": [
    "# 加上步进值\n",
    "print(items[0:-1:2])"
   ]
  },
  {
   "cell_type": "code",
   "execution_count": 61,
   "metadata": {},
   "outputs": [
    {
     "name": "stdout",
     "output_type": "stream",
     "text": [
      "['PHP', 'JavaScript', 'C++', 'Ruby', 'Python']\n"
     ]
    }
   ],
   "source": [
    "# 只有步进值\n",
    "print(items[::-2])"
   ]
  },
  {
   "cell_type": "code",
   "execution_count": 63,
   "metadata": {},
   "outputs": [
    {
     "name": "stdout",
     "output_type": "stream",
     "text": [
      "['Python', 'Java', 'Ruby', 'Rust', 'C++', 'Swift', 'JavaScript', 'Node', 'PHP']\n",
      "['Python', 'Java', 'Ruby', 'Rust', 'C++', 'Swift', 'JavaScript', 'Node', 'PHP']\n"
     ]
    }
   ],
   "source": [
    "# 删掉所有值试试\n",
    "print(items[::])\n",
    "print(items[:])"
   ]
  },
  {
   "cell_type": "code",
   "execution_count": 66,
   "metadata": {},
   "outputs": [],
   "source": [
    "# 之前列表数据太长不容易看出来，重新定义一个短一点的列表\n",
    "items = [1, 2, 3, 4, 5]"
   ]
  },
  {
   "cell_type": "code",
   "execution_count": 69,
   "metadata": {},
   "outputs": [
    {
     "name": "stdout",
     "output_type": "stream",
     "text": [
      "[1, 2, 7, 8, 5]\n"
     ]
    }
   ],
   "source": [
    "items = [1, 2, 3, 4, 5]\n",
    "items[2:4] = [7, 8]\n",
    "print(items)"
   ]
  },
  {
   "cell_type": "code",
   "execution_count": 70,
   "metadata": {},
   "outputs": [
    {
     "name": "stdout",
     "output_type": "stream",
     "text": [
      "[1, 2, 7]\n"
     ]
    }
   ],
   "source": [
    "# 切片范围大于添加元素的个数\n",
    "items = [1, 2, 3, 4, 5]\n",
    "items[2:6] = [7]\n",
    "print(items)"
   ]
  },
  {
   "cell_type": "code",
   "execution_count": 71,
   "metadata": {},
   "outputs": [
    {
     "name": "stdout",
     "output_type": "stream",
     "text": [
      "[1, 2, 7, 8, 9, 0, 4, 5]\n"
     ]
    }
   ],
   "source": [
    "# # 切片范围小于添加元素的个数\n",
    "items = [1, 2, 3, 4, 5]\n",
    "items[2:3] = [7, 8, 9, 0]\n",
    "print(items)"
   ]
  },
  {
   "cell_type": "code",
   "execution_count": 72,
   "metadata": {},
   "outputs": [
    {
     "name": "stdout",
     "output_type": "stream",
     "text": [
      "[1, 2, 5]\n"
     ]
    }
   ],
   "source": [
    "items = [1, 2, 3, 4, 5]\n",
    "items[2:4] = []\n",
    "print(items)"
   ]
  },
  {
   "cell_type": "code",
   "execution_count": 73,
   "metadata": {},
   "outputs": [
    {
     "name": "stdout",
     "output_type": "stream",
     "text": [
      "[1, 2, 5]\n"
     ]
    }
   ],
   "source": [
    "items = [1, 2, 3, 4, 5]\n",
    "del items[2:4]\n",
    "print(items)"
   ]
  },
  {
   "cell_type": "code",
   "execution_count": 75,
   "metadata": {},
   "outputs": [
    {
     "name": "stdout",
     "output_type": "stream",
     "text": [
      "[2, 4]\n"
     ]
    }
   ],
   "source": [
    "items = [1, 2, 3, 4, 5]\n",
    "del items[0:6:2]\n",
    "print(items)"
   ]
  },
  {
   "cell_type": "code",
   "execution_count": 82,
   "metadata": {},
   "outputs": [
    {
     "ename": "ValueError",
     "evalue": "attempt to assign sequence of size 1 to extended slice of size 3",
     "output_type": "error",
     "traceback": [
      "\u001b[0;31m---------------------------------------------------------------------------\u001b[0m",
      "\u001b[0;31mValueError\u001b[0m                                Traceback (most recent call last)",
      "Cell \u001b[0;32mIn[82], line 2\u001b[0m\n\u001b[1;32m      1\u001b[0m items \u001b[39m=\u001b[39m [\u001b[39m1\u001b[39m, \u001b[39m2\u001b[39m, \u001b[39m3\u001b[39m, \u001b[39m4\u001b[39m, \u001b[39m5\u001b[39m]\n\u001b[0;32m----> 2\u001b[0m items[\u001b[39m0\u001b[39;49m:\u001b[39m5\u001b[39;49m:\u001b[39m2\u001b[39;49m] \u001b[39m=\u001b[39m [\u001b[39m2\u001b[39m]\n\u001b[1;32m      3\u001b[0m \u001b[39mprint\u001b[39m(items)\n",
      "\u001b[0;31mValueError\u001b[0m: attempt to assign sequence of size 1 to extended slice of size 3"
     ]
    }
   ],
   "source": [
    "items = [1, 2, 3, 4, 5]\n",
    "items[0:5:2] = [2]\n",
    "print(items)"
   ]
  },
  {
   "cell_type": "code",
   "execution_count": 84,
   "metadata": {},
   "outputs": [
    {
     "name": "stdout",
     "output_type": "stream",
     "text": [
      "[9, 2, 10, 4, 5]\n"
     ]
    }
   ],
   "source": [
    "items = [1, 2, 3, 4, 5]\n",
    "items[0:4:2] = [9, 10]\n",
    "print(items)"
   ]
  },
  {
   "cell_type": "code",
   "execution_count": 98,
   "metadata": {},
   "outputs": [],
   "source": [
    "items = ['Python','Java','Ruby','Rust','C++','Swift','JavaScript','Node','PHP']"
   ]
  },
  {
   "cell_type": "code",
   "execution_count": 88,
   "metadata": {},
   "outputs": [
    {
     "data": {
      "text/plain": [
       "9"
      ]
     },
     "execution_count": 88,
     "metadata": {},
     "output_type": "execute_result"
    }
   ],
   "source": [
    "len(items)"
   ]
  },
  {
   "cell_type": "code",
   "execution_count": 90,
   "metadata": {},
   "outputs": [
    {
     "data": {
      "text/plain": [
       "1"
      ]
     },
     "execution_count": 90,
     "metadata": {},
     "output_type": "execute_result"
    }
   ],
   "source": [
    "items.count('Python')"
   ]
  },
  {
   "cell_type": "code",
   "execution_count": 94,
   "metadata": {},
   "outputs": [
    {
     "name": "stdout",
     "output_type": "stream",
     "text": [
      "['Python', 'Java', 'Ruby', 'Rust', 'C++', 'Swift', 'JavaScript', 'Node', 'PHP', 'SQL']\n"
     ]
    }
   ],
   "source": [
    "items.append('SQL')\n",
    "print(items)"
   ]
  },
  {
   "cell_type": "code",
   "execution_count": 95,
   "metadata": {},
   "outputs": [
    {
     "name": "stdout",
     "output_type": "stream",
     "text": [
      "['Python', 'Java', 'Ruby', 'Rust', 'Go', 'C++', 'Swift', 'JavaScript', 'Node', 'PHP', 'SQL']\n"
     ]
    }
   ],
   "source": [
    "items.insert(4, 'Go')\n",
    "print(items)"
   ]
  },
  {
   "cell_type": "code",
   "execution_count": 101,
   "metadata": {},
   "outputs": [
    {
     "name": "stdout",
     "output_type": "stream",
     "text": [
      "PHP\n",
      "Ruby\n",
      "['Python', 'Java', 'Rust', 'C++', 'Swift', 'JavaScript', 'Node']\n"
     ]
    }
   ],
   "source": [
    "items = ['Python','Java','Ruby','Rust','C++','Swift','JavaScript','Node','PHP']\n",
    "print(items.pop())\n",
    "print(items.pop(2))\n",
    "print(items)"
   ]
  },
  {
   "cell_type": "code",
   "execution_count": 105,
   "metadata": {},
   "outputs": [
    {
     "name": "stdout",
     "output_type": "stream",
     "text": [
      "['Python', 'Java', 'Ruby', 'Rust', 'C++', 'Swift', 'JavaScript', 'Node']\n"
     ]
    },
    {
     "ename": "ValueError",
     "evalue": "list.remove(x): x not in list",
     "output_type": "error",
     "traceback": [
      "\u001b[0;31m---------------------------------------------------------------------------\u001b[0m",
      "\u001b[0;31mValueError\u001b[0m                                Traceback (most recent call last)",
      "Cell \u001b[0;32mIn[105], line 4\u001b[0m\n\u001b[1;32m      2\u001b[0m items\u001b[39m.\u001b[39mremove(\u001b[39m'\u001b[39m\u001b[39mPHP\u001b[39m\u001b[39m'\u001b[39m)\n\u001b[1;32m      3\u001b[0m \u001b[39mprint\u001b[39m(items)\n\u001b[0;32m----> 4\u001b[0m items\u001b[39m.\u001b[39;49mremove(\u001b[39m'\u001b[39;49m\u001b[39mGo\u001b[39;49m\u001b[39m'\u001b[39;49m)\n\u001b[1;32m      5\u001b[0m \u001b[39m# print(items.remove('Go'))\u001b[39;00m\n",
      "\u001b[0;31mValueError\u001b[0m: list.remove(x): x not in list"
     ]
    }
   ],
   "source": [
    "items = ['Python','Java','Ruby','Rust','C++','Swift','JavaScript','Node','PHP']\n",
    "items.remove('PHP')\n",
    "print(items)\n",
    "items.remove('Go')\n",
    "# print(items.remove('Go'))"
   ]
  },
  {
   "cell_type": "code",
   "execution_count": 106,
   "metadata": {},
   "outputs": [
    {
     "data": {
      "text/plain": [
       "8"
      ]
     },
     "execution_count": 106,
     "metadata": {},
     "output_type": "execute_result"
    }
   ],
   "source": [
    "items = ['Python','Java','Ruby','Rust','C++','Swift','JavaScript','Node','PHP']\n",
    "items.index('PHP')"
   ]
  },
  {
   "cell_type": "code",
   "execution_count": 110,
   "metadata": {},
   "outputs": [
    {
     "name": "stdout",
     "output_type": "stream",
     "text": [
      "2\n"
     ]
    },
    {
     "ename": "ValueError",
     "evalue": "'PHP' is not in list",
     "output_type": "error",
     "traceback": [
      "\u001b[0;31m---------------------------------------------------------------------------\u001b[0m",
      "\u001b[0;31mValueError\u001b[0m                                Traceback (most recent call last)",
      "Cell \u001b[0;32mIn[110], line 3\u001b[0m\n\u001b[1;32m      1\u001b[0m items \u001b[39m=\u001b[39m [\u001b[39m'\u001b[39m\u001b[39mPython\u001b[39m\u001b[39m'\u001b[39m,\u001b[39m'\u001b[39m\u001b[39mJava\u001b[39m\u001b[39m'\u001b[39m,\u001b[39m'\u001b[39m\u001b[39mRuby\u001b[39m\u001b[39m'\u001b[39m,\u001b[39m'\u001b[39m\u001b[39mRust\u001b[39m\u001b[39m'\u001b[39m,\u001b[39m'\u001b[39m\u001b[39mC++\u001b[39m\u001b[39m'\u001b[39m,\u001b[39m'\u001b[39m\u001b[39mSwift\u001b[39m\u001b[39m'\u001b[39m,\u001b[39m'\u001b[39m\u001b[39mJavaScript\u001b[39m\u001b[39m'\u001b[39m,\u001b[39m'\u001b[39m\u001b[39mNode\u001b[39m\u001b[39m'\u001b[39m,\u001b[39m'\u001b[39m\u001b[39mPHP\u001b[39m\u001b[39m'\u001b[39m]\n\u001b[1;32m      2\u001b[0m \u001b[39mprint\u001b[39m(items\u001b[39m.\u001b[39mindex(\u001b[39m'\u001b[39m\u001b[39mRuby\u001b[39m\u001b[39m'\u001b[39m, \u001b[39m0\u001b[39m, \u001b[39m5\u001b[39m))\n\u001b[0;32m----> 3\u001b[0m items\u001b[39m.\u001b[39;49mindex(\u001b[39m'\u001b[39;49m\u001b[39mPHP\u001b[39;49m\u001b[39m'\u001b[39;49m, \u001b[39m0\u001b[39;49m, \u001b[39m5\u001b[39;49m)\n",
      "\u001b[0;31mValueError\u001b[0m: 'PHP' is not in list"
     ]
    }
   ],
   "source": [
    "items = ['Python','Java','Ruby','Rust','C++','Swift','JavaScript','Node','PHP']\n",
    "print(items.index('Ruby', 0, 5))\n",
    "items.index('PHP', 0, 5)"
   ]
  },
  {
   "cell_type": "code",
   "execution_count": 112,
   "metadata": {},
   "outputs": [
    {
     "name": "stdout",
     "output_type": "stream",
     "text": [
      "['Python', 'Java', 'Ruby', 'Rust', 'C++', 'Swift', 'JavaScript', 'Node', 'PHP', 'Go', 'MATLAB']\n"
     ]
    }
   ],
   "source": [
    "items = ['Python','Java','Ruby','Rust','C++','Swift','JavaScript','Node','PHP']\n",
    "a = ['Go', 'MATLAB']\n",
    "items.extend(a)\n",
    "print(items)"
   ]
  },
  {
   "cell_type": "code",
   "execution_count": 118,
   "metadata": {},
   "outputs": [
    {
     "name": "stdout",
     "output_type": "stream",
     "text": [
      "['Python', 'Java', 'Ruby', 'Rust', 'C++', 'Swift', 'JavaScript', 'Node', 'PHP', 1, 2, 3]\n"
     ]
    }
   ],
   "source": [
    "items = ['Python','Java','Ruby','Rust','C++','Swift','JavaScript','Node','PHP']\n",
    "a = (1, 2, 3)\n",
    "items.extend(a)\n",
    "print(items)"
   ]
  },
  {
   "cell_type": "code",
   "execution_count": 117,
   "metadata": {},
   "outputs": [
    {
     "ename": "TypeError",
     "evalue": "can only concatenate list (not \"tuple\") to list",
     "output_type": "error",
     "traceback": [
      "\u001b[0;31m---------------------------------------------------------------------------\u001b[0m",
      "\u001b[0;31mTypeError\u001b[0m                                 Traceback (most recent call last)",
      "Cell \u001b[0;32mIn[117], line 3\u001b[0m\n\u001b[1;32m      1\u001b[0m items \u001b[39m=\u001b[39m [\u001b[39m'\u001b[39m\u001b[39mPython\u001b[39m\u001b[39m'\u001b[39m,\u001b[39m'\u001b[39m\u001b[39mJava\u001b[39m\u001b[39m'\u001b[39m,\u001b[39m'\u001b[39m\u001b[39mRuby\u001b[39m\u001b[39m'\u001b[39m,\u001b[39m'\u001b[39m\u001b[39mRust\u001b[39m\u001b[39m'\u001b[39m,\u001b[39m'\u001b[39m\u001b[39mC++\u001b[39m\u001b[39m'\u001b[39m,\u001b[39m'\u001b[39m\u001b[39mSwift\u001b[39m\u001b[39m'\u001b[39m,\u001b[39m'\u001b[39m\u001b[39mJavaScript\u001b[39m\u001b[39m'\u001b[39m,\u001b[39m'\u001b[39m\u001b[39mNode\u001b[39m\u001b[39m'\u001b[39m,\u001b[39m'\u001b[39m\u001b[39mPHP\u001b[39m\u001b[39m'\u001b[39m]\n\u001b[1;32m      2\u001b[0m a \u001b[39m=\u001b[39m (\u001b[39m1\u001b[39m, \u001b[39m2\u001b[39m,\u001b[39m3\u001b[39m)\n\u001b[0;32m----> 3\u001b[0m items \u001b[39m=\u001b[39m items \u001b[39m+\u001b[39;49m a\n\u001b[1;32m      4\u001b[0m \u001b[39mprint\u001b[39m(items)\n",
      "\u001b[0;31mTypeError\u001b[0m: can only concatenate list (not \"tuple\") to list"
     ]
    }
   ],
   "source": [
    "items = ['Python','Java','Ruby','Rust','C++','Swift','JavaScript','Node','PHP']\n",
    "a = (1, 2, 3)\n",
    "items = items + a\n",
    "print(items)"
   ]
  },
  {
   "cell_type": "code",
   "execution_count": 120,
   "metadata": {},
   "outputs": [
    {
     "name": "stdout",
     "output_type": "stream",
     "text": [
      "['Python', 'Java', 'Ruby', 'Rust', 'C++', 'Swift', 'JavaScript', 'Node', 'PHP', '1', '2', '3', '4']\n"
     ]
    }
   ],
   "source": [
    "items = ['Python','Java','Ruby','Rust','C++','Swift','JavaScript','Node','PHP']\n",
    "a = '1234'\n",
    "items.extend(a)\n",
    "print(items)"
   ]
  },
  {
   "cell_type": "code",
   "execution_count": 121,
   "metadata": {},
   "outputs": [
    {
     "name": "stdout",
     "output_type": "stream",
     "text": [
      "[]\n"
     ]
    }
   ],
   "source": [
    "items = ['Python','Java','Ruby','Rust','C++','Swift','JavaScript','Node','PHP']\n",
    "items.clear()\n",
    "print(items)"
   ]
  },
  {
   "cell_type": "code",
   "execution_count": 122,
   "metadata": {},
   "outputs": [
    {
     "name": "stdout",
     "output_type": "stream",
     "text": [
      "['PHP', 'Node', 'JavaScript', 'Swift', 'C++', 'Rust', 'Ruby', 'Java', 'Python']\n"
     ]
    }
   ],
   "source": [
    "items = ['Python','Java','Ruby','Rust','C++','Swift','JavaScript','Node','PHP']\n",
    "items.reverse()\n",
    "print(items)"
   ]
  },
  {
   "cell_type": "code",
   "execution_count": 123,
   "metadata": {},
   "outputs": [
    {
     "name": "stdout",
     "output_type": "stream",
     "text": [
      "['C++', 'Java', 'JavaScript', 'Node', 'PHP', 'Python', 'Ruby', 'Rust', 'Swift']\n"
     ]
    }
   ],
   "source": [
    "items = ['Python','Java','Ruby','Rust','C++','Swift','JavaScript','Node','PHP']\n",
    "items.sort()\n",
    "print(items)"
   ]
  },
  {
   "cell_type": "code",
   "execution_count": 124,
   "metadata": {},
   "outputs": [
    {
     "name": "stdout",
     "output_type": "stream",
     "text": [
      "[0, 1, 2, 3, 5, 6, 7, 8, 9]\n"
     ]
    }
   ],
   "source": [
    "items = [9, 3, 5, 2, 1, 7, 8, 0, 6]\n",
    "items.sort()\n",
    "print(items)"
   ]
  },
  {
   "cell_type": "code",
   "execution_count": 126,
   "metadata": {},
   "outputs": [
    {
     "name": "stdout",
     "output_type": "stream",
     "text": [
      "[9, 8, 7, 6, 5, 3, 2, 1, 0]\n"
     ]
    }
   ],
   "source": [
    "items = [9, 3, 5, 2, 1, 7, 8, 0, 6]\n",
    "items.sort(reverse=True)\n",
    "print(items)"
   ]
  },
  {
   "cell_type": "code",
   "execution_count": 129,
   "metadata": {},
   "outputs": [
    {
     "ename": "TypeError",
     "evalue": "'<' not supported between instances of 'int' and 'str'",
     "output_type": "error",
     "traceback": [
      "\u001b[0;31m---------------------------------------------------------------------------\u001b[0m",
      "\u001b[0;31mTypeError\u001b[0m                                 Traceback (most recent call last)",
      "Cell \u001b[0;32mIn[129], line 2\u001b[0m\n\u001b[1;32m      1\u001b[0m items \u001b[39m=\u001b[39m [\u001b[39m9\u001b[39m, \u001b[39m3\u001b[39m, \u001b[39m5\u001b[39m, \u001b[39m2\u001b[39m, \u001b[39m1\u001b[39m, \u001b[39m7\u001b[39m, \u001b[39m8\u001b[39m, \u001b[39m0\u001b[39m, \u001b[39m'\u001b[39m\u001b[39m2\u001b[39m\u001b[39m'\u001b[39m, \u001b[39m'\u001b[39m\u001b[39m3\u001b[39m\u001b[39m'\u001b[39m]\n\u001b[0;32m----> 2\u001b[0m items\u001b[39m.\u001b[39;49msort(reverse\u001b[39m=\u001b[39;49m\u001b[39mTrue\u001b[39;49;00m)\n\u001b[1;32m      3\u001b[0m \u001b[39mprint\u001b[39m(items)\n",
      "\u001b[0;31mTypeError\u001b[0m: '<' not supported between instances of 'int' and 'str'"
     ]
    }
   ],
   "source": [
    "items = [9, 3, 5, 2, 1, 7, 8, 0, '茶', '桁']\n",
    "items.sort(reverse=True)\n",
    "print(items)"
   ]
  },
  {
   "cell_type": "code",
   "execution_count": 130,
   "metadata": {},
   "outputs": [
    {
     "name": "stdout",
     "output_type": "stream",
     "text": [
      "['茶', '桁', '9', '8', '7', '5', '3', '2', '1', '0']\n"
     ]
    }
   ],
   "source": [
    "items = ['9', '3', '5', '2', '1', '7', '8', '0', '茶', '桁']\n",
    "items.sort(reverse=True)\n",
    "print(items)"
   ]
  },
  {
   "cell_type": "code",
   "execution_count": 135,
   "metadata": {},
   "outputs": [
    {
     "name": "stdout",
     "output_type": "stream",
     "text": [
      "[-9, -6, -5, -3, -1, 0, 2, 5, 12, 14]\n"
     ]
    }
   ],
   "source": [
    "items = [-5, -3, 5, 2, 0, -9, 12, 14, -1, -6]\n",
    "items.sort()\n",
    "print(items)"
   ]
  },
  {
   "cell_type": "code",
   "execution_count": 136,
   "metadata": {},
   "outputs": [
    {
     "name": "stdout",
     "output_type": "stream",
     "text": [
      "[0, -1, 2, -3, -5, 5, -6, -9, 12, 14]\n"
     ]
    }
   ],
   "source": [
    "items = [-5, -3, 5, 2, 0, -9, 12, 14, -1, -6]\n",
    "items.sort(key=abs)\n",
    "print(items)"
   ]
  },
  {
   "cell_type": "markdown",
   "metadata": {},
   "source": [
    "## 深拷贝和浅拷贝"
   ]
  },
  {
   "cell_type": "code",
   "execution_count": 144,
   "metadata": {},
   "outputs": [
    {
     "name": "stdout",
     "output_type": "stream",
     "text": [
      "[1, 2, 3] \t [1, 2, 3]\n"
     ]
    }
   ],
   "source": [
    "items = [1, 2, 3]\n",
    "res = items.copy()\n",
    "print(items, '\\t', res)"
   ]
  },
  {
   "cell_type": "code",
   "execution_count": 148,
   "metadata": {},
   "outputs": [
    {
     "name": "stdout",
     "output_type": "stream",
     "text": [
      "[1, 2, 3]\n",
      "[1, 2]\n"
     ]
    }
   ],
   "source": [
    "items = [1, 2, 3]\n",
    "res = items.copy()\n",
    "del res[2]\n",
    "print(items)\n",
    "print(res)"
   ]
  },
  {
   "cell_type": "code",
   "execution_count": 149,
   "metadata": {},
   "outputs": [
    {
     "name": "stdout",
     "output_type": "stream",
     "text": [
      "4636359872\n",
      "4636086464\n"
     ]
    }
   ],
   "source": [
    "print(id(items))\n",
    "print(id(res))"
   ]
  },
  {
   "cell_type": "code",
   "execution_count": 151,
   "metadata": {},
   "outputs": [
    {
     "name": "stdout",
     "output_type": "stream",
     "text": [
      "[1, 2, 3, 4, ['a', 'b', 'c']]\n",
      "[1, 2, 3, ['a', 'b', 'c']]\n"
     ]
    }
   ],
   "source": [
    "items = [1, 2, 3, 4, ['a', 'b', 'c']]\n",
    "res = items.copy()\n",
    "del res[3]\n",
    "print(items)\n",
    "print(res)"
   ]
  },
  {
   "cell_type": "code",
   "execution_count": 152,
   "metadata": {},
   "outputs": [
    {
     "name": "stdout",
     "output_type": "stream",
     "text": [
      "[1, 2, 3, ['a', 'c']]\n",
      "[1, 2, 3, 4, ['a', 'c']]\n"
     ]
    }
   ],
   "source": [
    "del res[3][1]\n",
    "print(res)\n",
    "print(items)"
   ]
  },
  {
   "cell_type": "code",
   "execution_count": 153,
   "metadata": {},
   "outputs": [
    {
     "name": "stdout",
     "output_type": "stream",
     "text": [
      "4636427264\n",
      "4636085824\n"
     ]
    }
   ],
   "source": [
    "print(id(items))\n",
    "print(id(res))"
   ]
  },
  {
   "cell_type": "code",
   "execution_count": 154,
   "metadata": {},
   "outputs": [
    {
     "name": "stdout",
     "output_type": "stream",
     "text": [
      "4635245952\n",
      "4635245952\n"
     ]
    }
   ],
   "source": [
    "print(id(items[4])) # items这个位置是列表['a', 'c']\n",
    "print(id(res[3])) # res这个位置是列表['a', 'c']"
   ]
  },
  {
   "cell_type": "code",
   "execution_count": 156,
   "metadata": {},
   "outputs": [
    {
     "ename": "AttributeError",
     "evalue": "'list' object has no attribute 'deepcopy'",
     "output_type": "error",
     "traceback": [
      "\u001b[0;31m---------------------------------------------------------------------------\u001b[0m",
      "\u001b[0;31mAttributeError\u001b[0m                            Traceback (most recent call last)",
      "Cell \u001b[0;32mIn[156], line 2\u001b[0m\n\u001b[1;32m      1\u001b[0m items \u001b[39m=\u001b[39m [\u001b[39m1\u001b[39m, \u001b[39m2\u001b[39m, \u001b[39m3\u001b[39m, [\u001b[39m'\u001b[39m\u001b[39ma\u001b[39m\u001b[39m'\u001b[39m, \u001b[39m'\u001b[39m\u001b[39mb\u001b[39m\u001b[39m'\u001b[39m, \u001b[39m'\u001b[39m\u001b[39mc\u001b[39m\u001b[39m'\u001b[39m]]\n\u001b[0;32m----> 2\u001b[0m res \u001b[39m=\u001b[39m items\u001b[39m.\u001b[39;49mdeepcopy()\n",
      "\u001b[0;31mAttributeError\u001b[0m: 'list' object has no attribute 'deepcopy'"
     ]
    }
   ],
   "source": [
    "items = [1, 2, 3, ['a', 'b', 'c']]\n",
    "res = items.deepcopy()"
   ]
  },
  {
   "cell_type": "code",
   "execution_count": 161,
   "metadata": {},
   "outputs": [
    {
     "name": "stdout",
     "output_type": "stream",
     "text": [
      "[1, 2, 3, ['a', 'b', 'c']]\n"
     ]
    }
   ],
   "source": [
    "import copy\n",
    "items = [1, 2, 3, ['a', 'b', 'c']]\n",
    "res = copy.deepcopy(items)\n",
    "print(res)"
   ]
  },
  {
   "cell_type": "code",
   "execution_count": 162,
   "metadata": {},
   "outputs": [
    {
     "name": "stdout",
     "output_type": "stream",
     "text": [
      "4636282048\n",
      "4634799872\n",
      "4636285120\n",
      "4637491072\n"
     ]
    }
   ],
   "source": [
    "print(id(items))\n",
    "print(id(res))\n",
    "\n",
    "print(id(items[3]))\n",
    "print(id(res[3]))"
   ]
  },
  {
   "cell_type": "code",
   "execution_count": 163,
   "metadata": {},
   "outputs": [
    {
     "name": "stdout",
     "output_type": "stream",
     "text": [
      "['b', 'c']\n",
      "['a', 'b', 'c']\n"
     ]
    }
   ],
   "source": [
    "del res[3][0]\n",
    "\n",
    "print(res[3])\n",
    "print(items[3])"
   ]
  },
  {
   "cell_type": "markdown",
   "metadata": {},
   "source": [
    "## 列表推导式"
   ]
  },
  {
   "cell_type": "code",
   "execution_count": 164,
   "metadata": {},
   "outputs": [
    {
     "name": "stdout",
     "output_type": "stream",
     "text": [
      "[0, 1, 4, 9, 16, 25, 36, 49, 64, 81]\n"
     ]
    }
   ],
   "source": [
    "items = []\n",
    "for i in range(10):\n",
    "    items.append(i**2)\n",
    "\n",
    "print(items)"
   ]
  },
  {
   "cell_type": "code",
   "execution_count": 165,
   "metadata": {},
   "outputs": [
    {
     "name": "stdout",
     "output_type": "stream",
     "text": [
      "[0, 1, 4, 9, 16, 25, 36, 49, 64, 81]\n"
     ]
    }
   ],
   "source": [
    "# 使用 map函数和list完成\n",
    "items = list(map(lambda x: x**2, range(10)))\n",
    "print(items)"
   ]
  },
  {
   "cell_type": "code",
   "execution_count": 167,
   "metadata": {},
   "outputs": [
    {
     "name": "stdout",
     "output_type": "stream",
     "text": [
      "[0, 1, 4, 9, 16, 25, 36, 49, 64, 81]\n"
     ]
    }
   ],
   "source": [
    "# 列表推导式\n",
    "items = [i**2 for i in range(10)]\n",
    "print(items)"
   ]
  },
  {
   "cell_type": "code",
   "execution_count": 168,
   "metadata": {},
   "outputs": [
    {
     "name": "stdout",
     "output_type": "stream",
     "text": [
      "[2, 4, 6, 8]\n"
     ]
    }
   ],
   "source": [
    "str = '1234'\n",
    "items = []\n",
    "for i in str:\n",
    "    items.append(int(i)*2)\n",
    "\n",
    "print(items)"
   ]
  },
  {
   "cell_type": "code",
   "execution_count": 170,
   "metadata": {},
   "outputs": [
    {
     "name": "stdout",
     "output_type": "stream",
     "text": [
      "[]\n",
      "[2, 4, 6, 8]\n"
     ]
    }
   ],
   "source": [
    "items.clear()\n",
    "print(items)\n",
    "\n",
    "items = list(map(lambda x:int(x)*2, str))\n",
    "print(items)"
   ]
  },
  {
   "cell_type": "code",
   "execution_count": 171,
   "metadata": {},
   "outputs": [
    {
     "name": "stdout",
     "output_type": "stream",
     "text": [
      "[]\n",
      "[2, 4, 6, 8]\n"
     ]
    }
   ],
   "source": [
    "items.clear()\n",
    "print(items)\n",
    "\n",
    "items = [int(i)*2 for i in str]\n",
    "print(items)"
   ]
  },
  {
   "cell_type": "code",
   "execution_count": 172,
   "metadata": {},
   "outputs": [
    {
     "name": "stdout",
     "output_type": "stream",
     "text": [
      "[]\n",
      "[2, 4, 6, 8]\n"
     ]
    }
   ],
   "source": [
    "items.clear()\n",
    "print(items)\n",
    "\n",
    "items = [int(i) << 1 for i in str]\n",
    "print(items)"
   ]
  },
  {
   "cell_type": "code",
   "execution_count": 173,
   "metadata": {},
   "outputs": [
    {
     "name": "stdout",
     "output_type": "stream",
     "text": [
      "[0, 2, 4, 6, 8]\n"
     ]
    }
   ],
   "source": [
    "items = []\n",
    "for i in range(10):\n",
    "    if i % 2 == 0:\n",
    "        items.append(i)\n",
    "\n",
    "print(items)"
   ]
  },
  {
   "cell_type": "code",
   "execution_count": 181,
   "metadata": {},
   "outputs": [
    {
     "name": "stdout",
     "output_type": "stream",
     "text": [
      "[0, 2, 4, 6, 8]\n"
     ]
    }
   ],
   "source": [
    "items = [i for i in range(10) if i % 2 == 0]\n",
    "print(items)\n"
   ]
  },
  {
   "cell_type": "code",
   "execution_count": 182,
   "metadata": {},
   "outputs": [
    {
     "name": "stdout",
     "output_type": "stream",
     "text": [
      "[(1, 3), (1, 4), (2, 3), (2, 1), (2, 4), (3, 1), (3, 4)]\n"
     ]
    }
   ],
   "source": [
    "items = []\n",
    "for x in [1, 2, 3]:\n",
    "    for y in [3, 1, 4]:\n",
    "        if x != y:\n",
    "            items.append((x,y))\n",
    "print(items)"
   ]
  },
  {
   "cell_type": "code",
   "execution_count": 186,
   "metadata": {},
   "outputs": [
    {
     "name": "stdout",
     "output_type": "stream",
     "text": [
      "[(1, 3), (1, 4), (2, 3), (2, 1), (2, 4), (3, 1), (3, 4)]\n"
     ]
    }
   ],
   "source": [
    "items = [(x, y) for x in [1, 2, 3] for y in [3, 1, 4] if x != y]\n",
    "print(items)"
   ]
  },
  {
   "cell_type": "code",
   "execution_count": null,
   "metadata": {},
   "outputs": [],
   "source": [
    "'''\n",
    "[\n",
    "    [1, 2, 3, 4],\n",
    "    [5, 6, 7, 8],\n",
    "    [9, 10, 11, 12]\n",
    "]\n",
    "\n",
    "==>\n",
    "\n",
    "[\n",
    "    [1, 5, 9],\n",
    "    [2, 6, 10],\n",
    "    [3, 7, 11],\n",
    "    [4, 8, 12]\n",
    "]\n",
    "'''"
   ]
  },
  {
   "cell_type": "code",
   "execution_count": 176,
   "metadata": {},
   "outputs": [
    {
     "name": "stdout",
     "output_type": "stream",
     "text": [
      "[[1, 5, 9], [2, 6, 10], [3, 7, 11], [4, 8, 12]]\n",
      "[[1, 5, 9], [2, 6, 10], [3, 7, 11], [4, 8, 12]]\n"
     ]
    }
   ],
   "source": [
    "# 先定义数据\n",
    "arr = [\n",
    "    [1, 2, 3, 4],\n",
    "    [5, 6, 7, 8],\n",
    "    [9, 10, 11, 12]\n",
    "]\n",
    "\n",
    "# 使用常规方法\n",
    "items = []\n",
    "for i in range(4):\n",
    "    res = []\n",
    "    for row in arr:\n",
    "        res.append(row[i])\n",
    "    items.append(res)\n",
    "print(items)\n",
    "\n",
    "# 使用列表推导式, 我们从内向外来写\n",
    "# 内层\n",
    "# items = [row[i] for row in arr]\n",
    "# 外层\n",
    "items = [[row[i] for row in arr] for i in range(4)]\n",
    "print(items)"
   ]
  },
  {
   "cell_type": "code",
   "execution_count": 191,
   "metadata": {},
   "outputs": [
    {
     "data": {
      "text/plain": [
       "[1, 5, 9, 2, 6, 10, 3, 7, 11, 4, 8, 12]"
      ]
     },
     "execution_count": 191,
     "metadata": {},
     "output_type": "execute_result"
    }
   ],
   "source": [
    "items = [row[i] for i in range(4) for row in arr]\n",
    "items"
   ]
  },
  {
   "cell_type": "code",
   "execution_count": 192,
   "metadata": {},
   "outputs": [
    {
     "data": {
      "text/plain": [
       "[[1], [5], [9], [2], [6], [10], [3], [7], [11], [4], [8], [12]]"
      ]
     },
     "execution_count": 192,
     "metadata": {},
     "output_type": "execute_result"
    }
   ],
   "source": [
    "items = [[row[i]] for i in range(4) for row in arr]\n",
    "items"
   ]
  },
  {
   "cell_type": "code",
   "execution_count": 193,
   "metadata": {},
   "outputs": [
    {
     "data": {
      "text/plain": [
       "[[1, 5, 9], [2, 6, 10], [3, 7, 11], [4, 8, 12]]"
      ]
     },
     "execution_count": 193,
     "metadata": {},
     "output_type": "execute_result"
    }
   ],
   "source": [
    "items = [[row[i] for row in arr] for i in range(4)]\n",
    "items"
   ]
  },
  {
   "cell_type": "code",
   "execution_count": null,
   "metadata": {},
   "outputs": [],
   "source": []
  }
 ],
 "metadata": {
  "kernelspec": {
   "display_name": "Python 3",
   "language": "python",
   "name": "python3"
  },
  "language_info": {
   "codemirror_mode": {
    "name": "ipython",
    "version": 3
   },
   "file_extension": ".py",
   "mimetype": "text/x-python",
   "name": "python",
   "nbconvert_exporter": "python",
   "pygments_lexer": "ipython3",
   "version": "3.10.11"
  },
  "orig_nbformat": 4
 },
 "nbformat": 4,
 "nbformat_minor": 2
}
