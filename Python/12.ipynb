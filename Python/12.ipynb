{
 "cells": [
  {
   "cell_type": "markdown",
   "metadata": {},
   "source": [
    "# 集合"
   ]
  },
  {
   "cell_type": "markdown",
   "metadata": {},
   "source": [
    "## 冰冻集合"
   ]
  },
  {
   "cell_type": "code",
   "execution_count": 5,
   "metadata": {},
   "outputs": [
    {
     "name": "stdout",
     "output_type": "stream",
     "text": [
      "1, 2, 55IW, love, 333, MAMT, 666, a, "
     ]
    }
   ],
   "source": [
    "# 定义一个冰冻集合\n",
    "mySets = frozenset({'love', 666, 333, 2, 'a', 1, 2, 'MAMT','55IW'})\n",
    "\n",
    "# 遍历集合\n",
    "for i in mySets:\n",
    "    print(i, end=\", \")\n",
    "\n"
   ]
  },
  {
   "cell_type": "code",
   "execution_count": 11,
   "metadata": {},
   "outputs": [
    {
     "name": "stdout",
     "output_type": "stream",
     "text": [
      "frozenset({0, 2, 4, 6, 8, 10})\n"
     ]
    }
   ],
   "source": [
    "res = frozenset({i<<1 for i in range(6)})\n",
    "print(res)"
   ]
  },
  {
   "cell_type": "code",
   "execution_count": 14,
   "metadata": {},
   "outputs": [
    {
     "name": "stdout",
     "output_type": "stream",
     "text": [
      "frozenset({0, 2, 4, 6, 8, 10})\n"
     ]
    }
   ],
   "source": [
    "res = res.copy()\n",
    "print(res)"
   ]
  },
  {
   "cell_type": "code",
   "execution_count": 29,
   "metadata": {},
   "outputs": [
    {
     "data": {
      "text/plain": [
       "{(1, 2, 3), 123, '123', 3.1415, False, True, 'abc', 'love'}"
      ]
     },
     "execution_count": 29,
     "metadata": {},
     "output_type": "execute_result"
    }
   ],
   "source": [
    "# 定义集合\n",
    "mySets = {123,'abc',False,'love',True,(1,2,3),0,3.1415,'123',1}\n",
    "mySets\n",
    "\n"
   ]
  },
  {
   "cell_type": "code",
   "execution_count": 17,
   "metadata": {},
   "outputs": [
    {
     "name": "stdout",
     "output_type": "stream",
     "text": [
      "True\n",
      "False\n"
     ]
    }
   ],
   "source": [
    "# 检测集合中的值\n",
    "print('123' in mySets)\n",
    "print('123' not in mySets)"
   ]
  },
  {
   "cell_type": "code",
   "execution_count": 18,
   "metadata": {},
   "outputs": [
    {
     "name": "stdout",
     "output_type": "stream",
     "text": [
      "8\n"
     ]
    }
   ],
   "source": [
    "print(len(mySets))"
   ]
  },
  {
   "cell_type": "code",
   "execution_count": 30,
   "metadata": {},
   "outputs": [
    {
     "name": "stdout",
     "output_type": "stream",
     "text": [
      "False <class 'bool'>\n",
      "True <class 'bool'>\n",
      "3.1415 <class 'float'>\n",
      "(1, 2, 3) <class 'tuple'>\n",
      "love <class 'str'>\n",
      "abc <class 'str'>\n",
      "123 <class 'int'>\n",
      "123 <class 'str'>\n"
     ]
    }
   ],
   "source": [
    "for i in mySets:\n",
    "    print(i, type(i))"
   ]
  },
  {
   "cell_type": "code",
   "execution_count": 31,
   "metadata": {},
   "outputs": [
    {
     "ename": "TypeError",
     "evalue": "unhashable type: 'list'",
     "output_type": "error",
     "traceback": [
      "\u001b[0;31m---------------------------------------------------------------------------\u001b[0m",
      "\u001b[0;31mTypeError\u001b[0m                                 Traceback (most recent call last)",
      "Cell \u001b[0;32mIn[31], line 2\u001b[0m\n\u001b[1;32m      1\u001b[0m \u001b[39m# 看看列表是否能放入\u001b[39;00m\n\u001b[0;32m----> 2\u001b[0m mySets \u001b[39m=\u001b[39m {\u001b[39m123\u001b[39m,\u001b[39m'\u001b[39m\u001b[39mabc\u001b[39m\u001b[39m'\u001b[39m,\u001b[39mFalse\u001b[39;00m,\u001b[39m'\u001b[39m\u001b[39mlove\u001b[39m\u001b[39m'\u001b[39m,\u001b[39mTrue\u001b[39;00m,(\u001b[39m1\u001b[39m,\u001b[39m2\u001b[39m,\u001b[39m3\u001b[39m),\u001b[39m0\u001b[39m,\u001b[39m3.1415\u001b[39m,\u001b[39m'\u001b[39m\u001b[39m123\u001b[39m\u001b[39m'\u001b[39m,\u001b[39m1\u001b[39m,[\u001b[39m'\u001b[39m\u001b[39mlist\u001b[39m\u001b[39m'\u001b[39m, \u001b[39m2\u001b[39m, \u001b[39m3\u001b[39m, \u001b[39m4\u001b[39m, \u001b[39m5\u001b[39m]}\n",
      "\u001b[0;31mTypeError\u001b[0m: unhashable type: 'list'"
     ]
    }
   ],
   "source": [
    "# 看看列表是否能放入\n",
    "mySets = {123,'abc',False,'love',True,(1,2,3),0,3.1415,'123',1,['list', 2, 3, 4, 5]}"
   ]
  },
  {
   "cell_type": "code",
   "execution_count": 44,
   "metadata": {},
   "outputs": [
    {
     "name": "stdout",
     "output_type": "stream",
     "text": [
      "{False, True, 3.1415, (1, 2, 3), 'love', '茶桁', 'abc', 123, '123'} \n",
      "res: None\n"
     ]
    }
   ],
   "source": [
    "# 定义集合\n",
    "mySets = {123,'abc',False,'love',True,(1,2,3),0,3.1415,'123',1}\n",
    "res = mySets.add('茶桁')\n",
    "print(mySets, '\\nres:', res)"
   ]
  },
  {
   "cell_type": "code",
   "execution_count": 45,
   "metadata": {},
   "outputs": [
    {
     "name": "stdout",
     "output_type": "stream",
     "text": [
      "{True, 3.1415, (1, 2, 3), 'love', '茶桁', 'abc', 123, '123'} \n",
      "res: False\n"
     ]
    }
   ],
   "source": [
    "res = mySets.pop()\n",
    "print(mySets, '\\nres:', res)"
   ]
  },
  {
   "cell_type": "code",
   "execution_count": 46,
   "metadata": {},
   "outputs": [
    {
     "name": "stdout",
     "output_type": "stream",
     "text": [
      "{True, 3.1415, (1, 2, 3), 'love', '茶桁', 123, '123'} \n",
      "res: None\n"
     ]
    },
    {
     "ename": "KeyError",
     "evalue": "'aaa'",
     "output_type": "error",
     "traceback": [
      "\u001b[0;31m---------------------------------------------------------------------------\u001b[0m",
      "\u001b[0;31mKeyError\u001b[0m                                  Traceback (most recent call last)",
      "Cell \u001b[0;32mIn[46], line 3\u001b[0m\n\u001b[1;32m      1\u001b[0m res \u001b[39m=\u001b[39m mySets\u001b[39m.\u001b[39mremove(\u001b[39m'\u001b[39m\u001b[39mabc\u001b[39m\u001b[39m'\u001b[39m)\n\u001b[1;32m      2\u001b[0m \u001b[39mprint\u001b[39m(mySets, \u001b[39m'\u001b[39m\u001b[39m\\n\u001b[39;00m\u001b[39mres:\u001b[39m\u001b[39m'\u001b[39m, res)\n\u001b[0;32m----> 3\u001b[0m res \u001b[39m=\u001b[39m mySets\u001b[39m.\u001b[39;49mremove(\u001b[39m'\u001b[39;49m\u001b[39maaa\u001b[39;49m\u001b[39m'\u001b[39;49m)\n",
      "\u001b[0;31mKeyError\u001b[0m: 'aaa'"
     ]
    }
   ],
   "source": [
    "res = mySets.remove('abc')\n",
    "print(mySets, '\\nres:', res)\n",
    "res = mySets.remove('aaa')"
   ]
  },
  {
   "cell_type": "code",
   "execution_count": 47,
   "metadata": {},
   "outputs": [
    {
     "name": "stdout",
     "output_type": "stream",
     "text": [
      "{False, True, 3.1415, (1, 2, 3), 'love', 'abc', 123} res:None\n",
      "{False, True, 3.1415, (1, 2, 3), 'love', 'abc', 123} res:None\n"
     ]
    }
   ],
   "source": [
    "# 使用discard\n",
    "mySets = {123,'abc',False,'love',True,(1,2,3),0,3.1415,'123',1}\n",
    "res = mySets.discard('123')\n",
    "print(mySets, f'res:{res}')\n",
    "res = mySets.discard('aaa')\n",
    "print(mySets, f'res:{res}')"
   ]
  },
  {
   "cell_type": "code",
   "execution_count": 51,
   "metadata": {},
   "outputs": [
    {
     "name": "stdout",
     "output_type": "stream",
     "text": [
      "{False, True, 3.1415, (1, 2, 3), 'love', 'abc', 123, '123'}\n",
      "set()\n"
     ]
    }
   ],
   "source": [
    "mySets = {123,'abc',False,'love',True,(1,2,3),0,3.1415,'123',1}\n",
    "print(mySets)\n",
    "mySets.clear()\n",
    "print(mySets)"
   ]
  },
  {
   "cell_type": "code",
   "execution_count": 52,
   "metadata": {},
   "outputs": [
    {
     "name": "stdout",
     "output_type": "stream",
     "text": [
      "{1, 2, 3, 4, 5} res:None\n",
      "{1, 2, 3, 4, 5, 6} res:None\n"
     ]
    }
   ],
   "source": [
    "res = mySets.update({1, 2, 3, 4, 5})\n",
    "print(mySets, f'res:{res}')\n",
    "res = mySets.update({2, 3, 4, 5, 6})\n",
    "print(mySets, f'res:{res}')"
   ]
  },
  {
   "cell_type": "code",
   "execution_count": 57,
   "metadata": {},
   "outputs": [
    {
     "name": "stdout",
     "output_type": "stream",
     "text": [
      "{False, True, 3.1415, (1, 2, 3), 'love', 'abc', 123, '123'}\n"
     ]
    }
   ],
   "source": [
    "mySets = {123,'abc',False,'love',True,(1,2,3),0,3.1415,'123',1}\n",
    "res = mySets.copy()\n",
    "print(res)"
   ]
  },
  {
   "cell_type": "code",
   "execution_count": 65,
   "metadata": {},
   "outputs": [
    {
     "name": "stdout",
     "output_type": "stream",
     "text": [
      "{'Python'}\n",
      "{'Java', 'C', 'Rust', 'C++', 'Go', 'Python', 'Ruby', 'JavaScript', 'Swift'}\n",
      "{'Go', 'Rust', 'C++', 'Swift'}\n",
      "{'Java', 'C', 'Ruby', 'JavaScript'}\n",
      "{'Java', 'C', 'C++', 'Swift', 'Rust', 'Go', 'Ruby', 'JavaScript'}\n"
     ]
    }
   ],
   "source": [
    "mySet1 = {'Python','Go','Rust', 'Swift', 'C++'}\n",
    "mySet2 = {'C','JavaScript', 'Ruby', 'Java', 'Python'}\n",
    "\n",
    "# 求两个集合交集\n",
    "res = mySet1 & mySet2\n",
    "print(res)\n",
    "\n",
    "# 求两个集合并集\n",
    "res = mySet1 | mySet2\n",
    "print(res)\n",
    "\n",
    "# 求两个集合差集\n",
    "res = mySet1 - mySet2\n",
    "res2 = mySet2 - mySet1\n",
    "print(res)\n",
    "print(res2)\n",
    "\n",
    "# 求两个集合对称差集\n",
    "res = mySet1 ^ mySet2\n",
    "print(res)"
   ]
  },
  {
   "cell_type": "code",
   "execution_count": 68,
   "metadata": {},
   "outputs": [
    {
     "name": "stdout",
     "output_type": "stream",
     "text": [
      "{'Python'}\n",
      "mySet1:{'Go', 'Python', 'Rust', 'C++', 'Swift'}, \n",
      "mySet2:{'Java', 'C', 'Python', 'Ruby', 'JavaScript'}\n"
     ]
    }
   ],
   "source": [
    "res = mySet1.intersection(mySet2)\n",
    "print(res)\n",
    "print(f'mySet1:{mySet1}, \\nmySet2:{mySet2}')"
   ]
  },
  {
   "cell_type": "code",
   "execution_count": 69,
   "metadata": {},
   "outputs": [
    {
     "name": "stdout",
     "output_type": "stream",
     "text": [
      "None\n",
      "mySet1:{'Python'}, \n",
      "mySet2:{'Java', 'C', 'Python', 'Ruby', 'JavaScript'}\n"
     ]
    }
   ],
   "source": [
    "res = mySet1.intersection_update(mySet2)\n",
    "print(res)\n",
    "print(f'mySet1:{mySet1}, \\nmySet2:{mySet2}')"
   ]
  },
  {
   "cell_type": "code",
   "execution_count": 70,
   "metadata": {},
   "outputs": [
    {
     "name": "stdout",
     "output_type": "stream",
     "text": [
      "{'Java', 'C', 'Rust', 'C++', 'Go', 'Python', 'Ruby', 'JavaScript', 'Swift'}\n",
      "mySet1:{'Go', 'Python', 'Rust', 'C++', 'Swift'}, \n",
      "mySet2:{'Java', 'C', 'Python', 'Ruby', 'JavaScript'}\n"
     ]
    }
   ],
   "source": [
    "mySet1 = {'Python','Go','Rust', 'Swift', 'C++'}\n",
    "mySet2 = {'C','JavaScript', 'Ruby', 'Java', 'Python'}\n",
    "\n",
    "res = mySet1.union(mySet2)\n",
    "print(res)\n",
    "print(f'mySet1:{mySet1}, \\nmySet2:{mySet2}')"
   ]
  },
  {
   "cell_type": "code",
   "execution_count": 71,
   "metadata": {},
   "outputs": [
    {
     "name": "stdout",
     "output_type": "stream",
     "text": [
      "None\n",
      "mySet1:{'Java', 'C', 'Rust', 'C++', 'Go', 'Python', 'Ruby', 'JavaScript', 'Swift'}, \n",
      "mySet2:{'Java', 'C', 'Python', 'Ruby', 'JavaScript'}\n"
     ]
    }
   ],
   "source": [
    "mySet1 = {'Python','Go','Rust', 'Swift', 'C++'}\n",
    "mySet2 = {'C','JavaScript', 'Ruby', 'Java', 'Python'}\n",
    "\n",
    "res = mySet1.update(mySet2)\n",
    "print(res)\n",
    "print(f'mySet1:{mySet1}, \\nmySet2:{mySet2}')"
   ]
  },
  {
   "cell_type": "code",
   "execution_count": 72,
   "metadata": {},
   "outputs": [
    {
     "name": "stdout",
     "output_type": "stream",
     "text": [
      "{'Go', 'Rust', 'C++', 'Swift'}\n",
      "mySet1:{'Go', 'Python', 'Rust', 'C++', 'Swift'}, \n",
      "mySet2:{'Java', 'C', 'Python', 'Ruby', 'JavaScript'}\n"
     ]
    }
   ],
   "source": [
    "mySet1 = {'Python','Go','Rust', 'Swift', 'C++'}\n",
    "mySet2 = {'C','JavaScript', 'Ruby', 'Java', 'Python'}\n",
    "\n",
    "res = mySet1.difference(mySet2)\n",
    "print(res)\n",
    "print(f'mySet1:{mySet1}, \\nmySet2:{mySet2}')"
   ]
  },
  {
   "cell_type": "code",
   "execution_count": 73,
   "metadata": {},
   "outputs": [
    {
     "name": "stdout",
     "output_type": "stream",
     "text": [
      "None\n",
      "mySet1:{'Go', 'Python', 'Rust', 'C++', 'Swift'}, \n",
      "mySet2:{'Java', 'C', 'Ruby', 'JavaScript'}\n"
     ]
    }
   ],
   "source": [
    "mySet1 = {'Python','Go','Rust', 'Swift', 'C++'}\n",
    "mySet2 = {'C','JavaScript', 'Ruby', 'Java', 'Python'}\n",
    "\n",
    "res = mySet2.difference_update(mySet1)\n",
    "print(res)\n",
    "print(f'mySet1:{mySet1}, \\nmySet2:{mySet2}')"
   ]
  },
  {
   "cell_type": "code",
   "execution_count": 75,
   "metadata": {},
   "outputs": [
    {
     "name": "stdout",
     "output_type": "stream",
     "text": [
      "None\n",
      "mySet1:{'Go', 'Python', 'Rust', 'C++', 'Swift'}, \n",
      "mySet2:{'Java', 'C', 'C++', 'Swift', 'Rust', 'Go', 'Ruby', 'JavaScript'}\n"
     ]
    }
   ],
   "source": [
    "mySet1 = {'Python','Go','Rust', 'Swift', 'C++'}\n",
    "mySet2 = {'C','JavaScript', 'Ruby', 'Java', 'Python'}\n",
    "\n",
    "res = mySet2.symmetric_difference_update(mySet1)\n",
    "print(res)\n",
    "print(f'mySet1:{mySet1}, \\nmySet2:{mySet2}')"
   ]
  },
  {
   "cell_type": "code",
   "execution_count": 77,
   "metadata": {},
   "outputs": [],
   "source": [
    "mySet1 = {1, 2, 3, 4, 5, 6}\n",
    "mySet2 = {1, 2, 3}\n",
    "mySet3 = {6, 7, 8}"
   ]
  },
  {
   "cell_type": "code",
   "execution_count": 78,
   "metadata": {},
   "outputs": [
    {
     "name": "stdout",
     "output_type": "stream",
     "text": [
      "True\n",
      "False\n",
      "False\n"
     ]
    }
   ],
   "source": [
    "print(mySet1.issuperset(mySet2))\n",
    "print(mySet2.issuperset(mySet1))\n",
    "print(mySet1.issuperset(mySet3))"
   ]
  },
  {
   "cell_type": "code",
   "execution_count": 79,
   "metadata": {},
   "outputs": [
    {
     "name": "stdout",
     "output_type": "stream",
     "text": [
      "False\n",
      "True\n",
      "False\n"
     ]
    }
   ],
   "source": [
    "print(mySet1.issubset(mySet2))\n",
    "print(mySet2.issubset(mySet1))\n",
    "print(mySet3.issubset(mySet1))"
   ]
  },
  {
   "cell_type": "code",
   "execution_count": 81,
   "metadata": {},
   "outputs": [
    {
     "name": "stdout",
     "output_type": "stream",
     "text": [
      "False\n",
      "False\n",
      "False\n",
      "True\n"
     ]
    }
   ],
   "source": [
    "print(mySet1.isdisjoint(mySet2))\n",
    "print(mySet2.isdisjoint(mySet1))\n",
    "print(mySet3.isdisjoint(mySet1))\n",
    "print(mySet2.isdisjoint(mySet3))"
   ]
  },
  {
   "cell_type": "markdown",
   "metadata": {},
   "source": [
    "![欢迎订阅：坍缩的奇点](../assets/Capture-2023-11-02-164446.png)"
   ]
  },
  {
   "cell_type": "code",
   "execution_count": null,
   "metadata": {},
   "outputs": [],
   "source": []
  }
 ],
 "metadata": {
  "kernelspec": {
   "display_name": "Python 3",
   "language": "python",
   "name": "python3"
  },
  "language_info": {
   "codemirror_mode": {
    "name": "ipython",
    "version": 3
   },
   "file_extension": ".py",
   "mimetype": "text/x-python",
   "name": "python",
   "nbconvert_exporter": "python",
   "pygments_lexer": "ipython3",
   "version": "3.10.12"
  },
  "orig_nbformat": 4
 },
 "nbformat": 4,
 "nbformat_minor": 2
}
