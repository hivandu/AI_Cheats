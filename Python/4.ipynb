{
 "cells": [
  {
   "cell_type": "markdown",
   "metadata": {},
   "source": [
    "# Python的流程控制"
   ]
  },
  {
   "cell_type": "code",
   "execution_count": 2,
   "metadata": {},
   "outputs": [
    {
     "name": "stdout",
     "output_type": "stream",
     "text": [
      "True\n"
     ]
    }
   ],
   "source": [
    "# 单行代码\n",
    "a = 123\n",
    "\n",
    "# 代码块\n",
    "if a == 123:\n",
    "    print('True')\n",
    "else:\n",
    "    print('False')"
   ]
  },
  {
   "cell_type": "code",
   "execution_count": 5,
   "metadata": {},
   "outputs": [
    {
     "name": "stdout",
     "output_type": "stream",
     "text": [
      "True\n"
     ]
    }
   ],
   "source": [
    "a = True\n",
    "if a:\n",
    "    print(\"True\")"
   ]
  },
  {
   "cell_type": "code",
   "execution_count": 8,
   "metadata": {},
   "outputs": [
    {
     "name": "stdout",
     "output_type": "stream",
     "text": [
      "买 10 个包子\n"
     ]
    }
   ],
   "source": [
    "baozi = 10\n",
    "mxg = False\n",
    "if mxg:\n",
    "  baozi = 1\n",
    "\n",
    "print(\"买 %s 个包子\" %(baozi))"
   ]
  },
  {
   "cell_type": "code",
   "execution_count": 9,
   "metadata": {},
   "outputs": [
    {
     "name": "stdout",
     "output_type": "stream",
     "text": [
      "买 1 个包子\n"
     ]
    }
   ],
   "source": [
    "baozi = 10\n",
    "mxg = False\n",
    "\n",
    "# 走在路上看到了卖西瓜的，重新赋值\n",
    "mxg = True\n",
    "\n",
    "if mxg:\n",
    "  baozi = 1\n",
    "  \n",
    "print(\"买 %s 个包子\" %(baozi))"
   ]
  },
  {
   "cell_type": "code",
   "execution_count": 10,
   "metadata": {},
   "outputs": [
    {
     "name": "stdout",
     "output_type": "stream",
     "text": [
      "上前搭讪：美女，能加个微信吗？\n"
     ]
    }
   ],
   "source": [
    "person = 'girl'\n",
    "if person == 'girl':\n",
    "    print(\"上前搭讪：美女，能加个微信吗？\")\n",
    "else:\n",
    "    print(\"直接走开。\")"
   ]
  },
  {
   "cell_type": "code",
   "execution_count": 12,
   "metadata": {},
   "outputs": [
    {
     "name": "stdout",
     "output_type": "stream",
     "text": [
      "奖励一顿‘竹笋炒肉’\n"
     ]
    }
   ],
   "source": [
    "score = 59\n",
    "if score >= 90 and score <= 100:\n",
    "    print(\"奖励一个手机\")\n",
    "elif score >= 80 and score < 90:\n",
    "    print(\"今晚吃一顿好的奖励一下\")\n",
    "elif score >= 70 and score < 80:\n",
    "    print(\"鼓励：下次努力加油。\")\n",
    "elif score >= 60 and score < 70:\n",
    "    print(\"盯紧复习，争取下次进步。\")\n",
    "else:\n",
    "    print(\"奖励一顿‘竹笋炒肉’\")"
   ]
  },
  {
   "cell_type": "code",
   "execution_count": 14,
   "metadata": {},
   "outputs": [
    {
     "name": "stdout",
     "output_type": "stream",
     "text": [
      "处一下试试...\n"
     ]
    }
   ],
   "source": [
    "age = 25\n",
    "height = 177\n",
    "sex = 'male'\n",
    "\n",
    "if sex == 'male':\n",
    "    # 可以往后判断\n",
    "    if age >= 22 and age <= 35:\n",
    "        # 年龄比较合适\n",
    "        if height >= 175:\n",
    "            print(\"处一下试试...\")\n",
    "    else:\n",
    "        print(\"拉到...\")\n",
    "else:\n",
    "    print('当闺蜜吧。')"
   ]
  },
  {
   "cell_type": "markdown",
   "metadata": {},
   "source": [
    "## 练习：十二生肖\n",
    "十二生肖\n",
    "让用户输入一个四位数的年份，来计算当前这个年份所对应的 生肖年\n",
    "\n",
    "```\n",
    "申猴 酉鸡 戌狗 亥猪 子鼠 丑牛 寅虎 卯兔 辰龙 巳蛇 午马 未羊\n",
    "\n",
    " 0    1   2   3   4    5   6    7   8   9   10  11\n",
    "```\n",
    "\n",
    " 2000 ==> 辰龙\n",
    " \n",
    " 2019 ==> 亥猪"
   ]
  },
  {
   "cell_type": "code",
   "execution_count": 20,
   "metadata": {},
   "outputs": [
    {
     "name": "stdout",
     "output_type": "stream",
     "text": [
      "2023 <class 'int'>\n"
     ]
    }
   ],
   "source": [
    "# 获取用户输入的年份\n",
    "year = int(input(\"请输入四位数的年份: \"))\n",
    "print(year, type(year))"
   ]
  },
  {
   "cell_type": "code",
   "execution_count": 24,
   "metadata": {},
   "outputs": [
    {
     "name": "stdout",
     "output_type": "stream",
     "text": [
      "2023年是 ==> 卯兔\n"
     ]
    }
   ],
   "source": [
    "# 获取用户输入的年份\n",
    "year = int(input(\"请输入四位数的年份: \"))\n",
    "\n",
    "#print(year%12)\n",
    "num = year % 12\n",
    "\n",
    "\"\"\"\n",
    "申猴 酉鸡 戌狗 亥猪 子鼠 丑牛 寅虎 卯兔 辰龙 巳蛇 午马 未羊\n",
    "\"\"\"\n",
    "\n",
    "if num == 0:\n",
    "    print(f'{year}年是 ==> 申猴')\n",
    "elif num == 1:\n",
    "    print(f'{year}年是 ==> 酉鸡')\n",
    "elif num == 2:\n",
    "    print(f'{year}年是 ==> 戌狗')\n",
    "elif num == 3:\n",
    "    print(f'{year}年是 ==> 亥猪')\n",
    "elif num == 4:\n",
    "    print(f'{year}年是 ==> 子鼠')\n",
    "elif num == 5:\n",
    "    print(f'{year}年是 ==> 丑牛')\n",
    "elif num == 6:\n",
    "    print(f'{year}年是 ==> 寅虎')\n",
    "elif num == 7:\n",
    "    print(f'{year}年是 ==> 卯兔')\n",
    "elif num == 8:\n",
    "    print(f'{year}年是 ==> 辰龙')\n",
    "elif num == 9:\n",
    "    print(f'{year}年是 ==> 巳蛇')\n",
    "elif num == 10:\n",
    "    print(f'{year}年是 ==> 午马')\n",
    "elif num == 11:\n",
    "    print(f'{year}年是 ==> 未羊')\n",
    "else:\n",
    "    print(\"您为输入正常的年份\")"
   ]
  },
  {
   "cell_type": "code",
   "execution_count": 28,
   "metadata": {},
   "outputs": [
    {
     "name": "stdout",
     "output_type": "stream",
     "text": [
      "2023年是卯兔年\n"
     ]
    }
   ],
   "source": [
    "# 获取用户输入的年份\n",
    "year = int(input('请输入四位数的年份：'))\n",
    "\n",
    "# 定义十二生肖 列表\n",
    "items = ['申猴', '酉鸡', '戌狗', '亥猪', '子鼠', '丑牛', '寅虎', '卯兔', '辰龙', '巳蛇', '午马', '未羊']\n",
    "print(f'{year}年是%s年' %(items[year % 12]))"
   ]
  },
  {
   "cell_type": "code",
   "execution_count": 29,
   "metadata": {},
   "outputs": [
    {
     "name": "stdout",
     "output_type": "stream",
     "text": [
      "num为 1\n",
      "num为 2\n",
      "num为 3\n",
      "num为 4\n",
      "num为 5\n",
      "num为 6\n",
      "num为 7\n",
      "num为 8\n",
      "num为 9\n",
      "num为 10\n"
     ]
    }
   ],
   "source": [
    "num = 1\n",
    "while num <=10:\n",
    "    print(f'num为{num}')\n",
    "    num += 1"
   ]
  },
  {
   "cell_type": "code",
   "execution_count": 30,
   "metadata": {},
   "outputs": [
    {
     "name": "stdout",
     "output_type": "stream",
     "text": [
      "1\n",
      "2\n",
      "3\n",
      "4\n",
      "5\n",
      "6\n",
      "7\n",
      "8\n",
      "9\n"
     ]
    }
   ],
   "source": [
    "n = '123456789'\n",
    "for i in n:\n",
    "    print(i)"
   ]
  },
  {
   "cell_type": "code",
   "execution_count": 32,
   "metadata": {},
   "outputs": [
    {
     "name": "stdout",
     "output_type": "stream",
     "text": [
      "1\n",
      "2\n",
      "3\n",
      "4\n",
      "5\n",
      "6\n",
      "7\n"
     ]
    }
   ],
   "source": [
    "for i in range(1, 8):\n",
    "    print(i)"
   ]
  },
  {
   "cell_type": "code",
   "execution_count": 3,
   "metadata": {},
   "outputs": [
    {
     "name": "stdout",
     "output_type": "stream",
     "text": [
      "3\n",
      "5\n"
     ]
    }
   ],
   "source": [
    "num = 1\n",
    "while num <= 10:\n",
    "    num += 1\n",
    "    # 判断当前的 num是否为偶数\n",
    "    if num % 2 == 0:\n",
    "        continue # 跳过本次循环，执行下一次循环\n",
    "    if num == 7:\n",
    "        break # 跳出并结束循环，不再继续执行。\n",
    "    print(num)\n",
    "    "
   ]
  },
  {
   "cell_type": "code",
   "execution_count": null,
   "metadata": {},
   "outputs": [],
   "source": [
    "num = 0\n",
    "while num < 100:\n",
    "    print('☆', end = \" \")\n",
    "    # 判断是否需要换行\n",
    "    if num % 10 == 9:\n",
    "        print('\\n')\n",
    "    num += 1"
   ]
  },
  {
   "cell_type": "markdown",
   "metadata": {},
   "source": [
    "### 隔列换行"
   ]
  },
  {
   "cell_type": "code",
   "execution_count": 20,
   "metadata": {},
   "outputs": [
    {
     "name": "stdout",
     "output_type": "stream",
     "text": [
      "☆ ★ ☆ ★ ☆ ★ ☆ ★ ☆ ★ \n",
      "\n",
      "☆ ★ ☆ ★ ☆ ★ ☆ ★ ☆ ★ \n",
      "\n",
      "☆ ★ ☆ ★ ☆ ★ ☆ ★ ☆ ★ \n",
      "\n",
      "☆ ★ ☆ ★ ☆ ★ ☆ ★ ☆ ★ \n",
      "\n",
      "☆ ★ ☆ ★ ☆ ★ ☆ ★ ☆ ★ \n",
      "\n",
      "☆ ★ ☆ ★ ☆ ★ ☆ ★ ☆ ★ \n",
      "\n",
      "☆ ★ ☆ ★ ☆ ★ ☆ ★ ☆ ★ \n",
      "\n",
      "☆ ★ ☆ ★ ☆ ★ ☆ ★ ☆ ★ \n",
      "\n",
      "☆ ★ ☆ ★ ☆ ★ ☆ ★ ☆ ★ \n",
      "\n",
      "☆ ★ ☆ ★ ☆ ★ ☆ ★ ☆ ★ \n",
      "\n"
     ]
    }
   ],
   "source": [
    "# 隔列换色\n",
    "num = 0\n",
    "while num < 100:\n",
    "    # 判断当前是基数还是偶数\n",
    "    if num % 2 == 0:\n",
    "        print('☆', end = \" \")\n",
    "    else:\n",
    "        print('★', end = \" \")\n",
    "    # 判断是否需要换行\n",
    "    if num % 10 == 9:\n",
    "        print('\\n')\n",
    "    num += 1"
   ]
  },
  {
   "cell_type": "markdown",
   "metadata": {},
   "source": [
    "### 隔行换色"
   ]
  },
  {
   "cell_type": "code",
   "execution_count": 26,
   "metadata": {},
   "outputs": [
    {
     "name": "stdout",
     "output_type": "stream",
     "text": [
      "☆ ☆ ☆ ☆ ☆ ☆ ☆ ☆ ☆ ☆ \n",
      "\n",
      "★ ★ ★ ★ ★ ★ ★ ★ ★ ★ \n",
      "\n",
      "☆ ☆ ☆ ☆ ☆ ☆ ☆ ☆ ☆ ☆ \n",
      "\n",
      "★ ★ ★ ★ ★ ★ ★ ★ ★ ★ \n",
      "\n",
      "☆ ☆ ☆ ☆ ☆ ☆ ☆ ☆ ☆ ☆ \n",
      "\n",
      "★ ★ ★ ★ ★ ★ ★ ★ ★ ★ \n",
      "\n",
      "☆ ☆ ☆ ☆ ☆ ☆ ☆ ☆ ☆ ☆ \n",
      "\n",
      "★ ★ ★ ★ ★ ★ ★ ★ ★ ★ \n",
      "\n",
      "☆ ☆ ☆ ☆ ☆ ☆ ☆ ☆ ☆ ☆ \n",
      "\n",
      "★ ★ ★ ★ ★ ★ ★ ★ ★ ★ \n",
      "\n"
     ]
    }
   ],
   "source": [
    "# 隔行换色\n",
    "num = 0\n",
    "while num < 100:\n",
    "    # 以当前行数为基数，对 2取余，判断奇偶\n",
    "    if num // 10 % 2 == 0:\n",
    "        print('☆', end = \" \")\n",
    "    else:\n",
    "        print('★', end = \" \")\n",
    "    # 判断是否需要换行\n",
    "    if num % 10 == 9:\n",
    "        print('\\n')\n",
    "    num += 1"
   ]
  },
  {
   "cell_type": "markdown",
   "metadata": {},
   "source": [
    "### 乘法口诀表"
   ]
  },
  {
   "cell_type": "code",
   "execution_count": 37,
   "metadata": {},
   "outputs": [
    {
     "name": "stdout",
     "output_type": "stream",
     "text": [
      "1x1=1 \n",
      "2x1=2 2x2=4 \n",
      "3x1=3 3x2=6 3x3=9 \n",
      "4x1=4 4x2=8 4x3=12 4x4=16 \n",
      "5x1=5 5x2=10 5x3=15 5x4=20 5x5=25 \n",
      "6x1=6 6x2=12 6x3=18 6x4=24 6x5=30 6x6=36 \n",
      "7x1=7 7x2=14 7x3=21 7x4=28 7x5=35 7x6=42 7x7=49 \n",
      "8x1=8 8x2=16 8x3=24 8x4=32 8x5=40 8x6=48 8x7=56 8x8=64 \n",
      "9x1=9 9x2=18 9x3=27 9x4=36 9x5=45 9x6=54 9x7=63 9x8=72 9x9=81 \n"
     ]
    }
   ],
   "source": [
    "# 乘法口诀表\n",
    "for x in range(1, 10):\n",
    "    # 第二层循环，内循环\n",
    "    # 内循环负责当前行的函数，第一行 1列 2行 2列....9行 9列\n",
    "    for y in range(1, x+1):\n",
    "        print(f'{x}x{y}={x*y}', end=\" \")\n",
    "    # 换行\n",
    "    print()"
   ]
  },
  {
   "cell_type": "markdown",
   "metadata": {},
   "source": [
    "### 斐波那契数列"
   ]
  },
  {
   "cell_type": "code",
   "execution_count": 56,
   "metadata": {},
   "outputs": [
    {
     "name": "stdout",
     "output_type": "stream",
     "text": [
      "斐波那契数列: 0, 1, 1, 2, 3, 5, 8, 13, 21, "
     ]
    }
   ],
   "source": [
    "\"\"\"\n",
    "0, 1, 1, 2, 3, 5, 8, 13...\n",
    "\"\"\"\n",
    "# 获取用户输入的数据\n",
    "num = int(input('你需要计算多少项？'))\n",
    "n1 = 0\n",
    "n2 = 1\n",
    "count = 2\n",
    "# 从之后的数字开始计算\n",
    "if num <= 0:\n",
    "    print('请输入一个正整数。')\n",
    "elif num == 1:\n",
    "    print(f'斐波那契数列: {n1}')\n",
    "else:\n",
    "    print(f'斐波那契数列: {n1}, {n2}', end = \", \")\n",
    "    while count < num:\n",
    "        n3 = n1 + n2\n",
    "        print(n3, end = \", \")\n",
    "        # 更新数据\n",
    "        n1, n2 = n2, n3\n",
    "        count += 1"
   ]
  },
  {
   "cell_type": "markdown",
   "metadata": {},
   "source": [
    "### 百钱买百鸡\n",
    "> 一共有 100块钱，需要买 100只鸡\n",
    "\n",
    "> 公鸡 3元钱一只，母鸡 1元钱一只，小鸡 5毛钱一只。\n",
    "\n",
    "> 要求计算，100块钱买 100只鸡，一共有多少种方案"
   ]
  },
  {
   "cell_type": "code",
   "execution_count": 64,
   "metadata": {},
   "outputs": [
    {
     "name": "stdout",
     "output_type": "stream",
     "text": [
      "公鸡 1只，母鸡 95只，小鸡 4只， 共花费 100.0元\n",
      "公鸡 2只，母鸡 90只，小鸡 8只， 共花费 100.0元\n",
      "公鸡 3只，母鸡 85只，小鸡 12只， 共花费 100.0元\n",
      "公鸡 4只，母鸡 80只，小鸡 16只， 共花费 100.0元\n",
      "公鸡 5只，母鸡 75只，小鸡 20只， 共花费 100.0元\n",
      "公鸡 6只，母鸡 70只，小鸡 24只， 共花费 100.0元\n",
      "公鸡 7只，母鸡 65只，小鸡 28只， 共花费 100.0元\n",
      "公鸡 8只，母鸡 60只，小鸡 32只， 共花费 100.0元\n",
      "公鸡 9只，母鸡 55只，小鸡 36只， 共花费 100.0元\n",
      "公鸡 10只，母鸡 50只，小鸡 40只， 共花费 100.0元\n",
      "公鸡 11只，母鸡 45只，小鸡 44只， 共花费 100.0元\n",
      "公鸡 12只，母鸡 40只，小鸡 48只， 共花费 100.0元\n",
      "公鸡 13只，母鸡 35只，小鸡 52只， 共花费 100.0元\n",
      "公鸡 14只，母鸡 30只，小鸡 56只， 共花费 100.0元\n",
      "公鸡 15只，母鸡 25只，小鸡 60只， 共花费 100.0元\n",
      "公鸡 16只，母鸡 20只，小鸡 64只， 共花费 100.0元\n",
      "公鸡 17只，母鸡 15只，小鸡 68只， 共花费 100.0元\n",
      "公鸡 18只，母鸡 10只，小鸡 72只， 共花费 100.0元\n",
      "公鸡 19只，母鸡 5只，小鸡 76只， 共花费 100.0元\n",
      "一共有 20种组合方式。\n",
      "当前一共计算了 3300次\n"
     ]
    }
   ],
   "source": [
    "count = 0\n",
    "num = 1\n",
    "# 低效率代码\n",
    "# for gj in range(1, 34):\n",
    "#     for mj in range(1, 101):\n",
    "#         for xj in range(1, 201):\n",
    "#             count += 1\n",
    "#             # 判断是否为 100只，是否话费 100元\n",
    "#             if gj + mj + xj == 100 and gj*3 + mj + xj*0.5 == 100:\n",
    "#                 print(f'公鸡{gj}只，母鸡{mj}只，小鸡{xj}只， 共花费{gj*3 + mj + xj*0.5}元')\n",
    "#                 num += 1\n",
    "\n",
    "# 优化代码\n",
    "for gj in range(1, 34):\n",
    "    for mj in range(1, 101):\n",
    "        xj = 100 - gj - mj\n",
    "        count += 1\n",
    "        # 判断是否为 100只，是否话费 100元\n",
    "        if gj + mj + xj == 100 and gj*3 + mj + xj*0.5 == 100:\n",
    "            print(f'公鸡{gj}只，母鸡{mj}只，小鸡{xj}只， 共花费{gj*3 + mj + xj*0.5}元')\n",
    "            num += 1\n",
    "print(f'一共有{num}种组合方式。')\n",
    "print(f'当前一共计算了{count}次')"
   ]
  },
  {
   "cell_type": "markdown",
   "metadata": {},
   "source": [
    "![欢迎订阅：坍缩的奇点](../assets/Capture-2023-11-02-164446.png)"
   ]
  },
  {
   "cell_type": "code",
   "execution_count": null,
   "metadata": {},
   "outputs": [],
   "source": []
  },
  {
   "cell_type": "code",
   "execution_count": null,
   "metadata": {},
   "outputs": [],
   "source": []
  },
  {
   "cell_type": "code",
   "execution_count": null,
   "metadata": {},
   "outputs": [],
   "source": []
  }
 ],
 "metadata": {
  "kernelspec": {
   "display_name": "glm",
   "language": "python",
   "name": "python3"
  },
  "language_info": {
   "codemirror_mode": {
    "name": "ipython",
    "version": 3
   },
   "file_extension": ".py",
   "mimetype": "text/x-python",
   "name": "python",
   "nbconvert_exporter": "python",
   "pygments_lexer": "ipython3",
   "version": "3.10.11"
  },
  "orig_nbformat": 4
 },
 "nbformat": 4,
 "nbformat_minor": 2
}
