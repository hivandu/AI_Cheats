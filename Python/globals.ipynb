{
 "cells": [
  {
   "cell_type": "markdown",
   "metadata": {},
   "source": [
    "# 查看函数文档"
   ]
  },
  {
   "cell_type": "code",
   "execution_count": 1,
   "metadata": {},
   "outputs": [
    {
     "name": "stdout",
     "output_type": "stream",
     "text": [
      "{'__name__': '__main__', '__doc__': 'Automatically created module for IPython interactive environment', '__package__': None, '__loader__': None, '__spec__': None, '__builtin__': <module 'builtins' (built-in)>, '__builtins__': <module 'builtins' (built-in)>, '_ih': ['', 'print(globals())'], '_oh': {}, '_dh': [PosixPath('/Users/du/git/AI_Cheats/Python'), PosixPath('/Users/du/git/AI_Cheats/Python')], 'In': ['', 'print(globals())'], 'Out': {}, 'get_ipython': <bound method InteractiveShell.get_ipython of <ipykernel.zmqshell.ZMQInteractiveShell object at 0x105be29e0>>, 'exit': <IPython.core.autocall.ZMQExitAutocall object at 0x105be3280>, 'quit': <IPython.core.autocall.ZMQExitAutocall object at 0x105be3280>, 'open': <function open at 0x10488e710>, '_': '', '__': '', '___': '', '__vsc_ipynb_file__': '/Users/du/git/AI_Cheats/Python/globals.ipynb', '_i': '', '_ii': '', '_iii': '', '_i1': 'print(globals())'}\n"
     ]
    }
   ],
   "source": [
    "print(globals())"
   ]
  },
  {
   "cell_type": "code",
   "execution_count": 3,
   "metadata": {},
   "outputs": [
    {
     "name": "stdout",
     "output_type": "stream",
     "text": [
      "Automatically created module for IPython interactive environment\n"
     ]
    }
   ],
   "source": [
    "def func():\n",
    "    \"\"\"\n",
    "    这里是让你写一写函数的文档说明的。\n",
    "    需要说明当前函数的作用，\n",
    "    如果当前函数还有形参，那么也需要对形参进行一一说明。\n",
    "    name: 这个是一个name参数，用于接收姓名\n",
    "    age: 这个参数是表示年龄\n",
    "    :return: 此处说明当前函数的返回值\n",
    "    \"\"\"\n",
    "    pass"
   ]
  },
  {
   "cell_type": "code",
   "execution_count": null,
   "metadata": {},
   "outputs": [],
   "source": []
  }
 ],
 "metadata": {
  "kernelspec": {
   "display_name": "glm",
   "language": "python",
   "name": "python3"
  },
  "language_info": {
   "codemirror_mode": {
    "name": "ipython",
    "version": 3
   },
   "file_extension": ".py",
   "mimetype": "text/x-python",
   "name": "python",
   "nbconvert_exporter": "python",
   "pygments_lexer": "ipython3",
   "version": "3.10.11"
  },
  "orig_nbformat": 4
 },
 "nbformat": 4,
 "nbformat_minor": 2
}
