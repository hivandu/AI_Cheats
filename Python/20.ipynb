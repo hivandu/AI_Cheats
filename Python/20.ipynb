{
 "cells": [
  {
   "cell_type": "markdown",
   "metadata": {},
   "source": [
    "# 异常管理"
   ]
  },
  {
   "cell_type": "code",
   "execution_count": 2,
   "metadata": {},
   "outputs": [
    {
     "ename": "IndexError",
     "evalue": "list index out of range",
     "output_type": "error",
     "traceback": [
      "\u001b[0;31m---------------------------------------------------------------------------\u001b[0m",
      "\u001b[0;31mIndexError\u001b[0m                                Traceback (most recent call last)",
      "Cell \u001b[0;32mIn[2], line 2\u001b[0m\n\u001b[1;32m      1\u001b[0m varlist \u001b[39m=\u001b[39m [\u001b[39m1\u001b[39m, \u001b[39m2\u001b[39m, \u001b[39m3\u001b[39m]\n\u001b[0;32m----> 2\u001b[0m \u001b[39mprint\u001b[39m(varlist[\u001b[39m3\u001b[39;49m])\n",
      "\u001b[0;31mIndexError\u001b[0m: list index out of range"
     ]
    }
   ],
   "source": [
    "varlist = [1, 2, 3]\n",
    "print(varlist[3])"
   ]
  },
  {
   "cell_type": "code",
   "execution_count": 4,
   "metadata": {},
   "outputs": [
    {
     "name": "stdout",
     "output_type": "stream",
     "text": [
      "非整型。\n"
     ]
    }
   ],
   "source": [
    "n2 = '3'\n",
    "if isinstance(n2, int):\n",
    "    res = 10+n2\n",
    "    print(res)\n",
    "else:\n",
    "    print('非整型。')"
   ]
  },
  {
   "cell_type": "code",
   "execution_count": null,
   "metadata": {},
   "outputs": [],
   "source": [
    "try:\n",
    "    可能发生异常错误的代码\n",
    "except:\n",
    "    如果发生异常这进入 except代码块进行处理\n",
    "\n",
    "异常被捕获之后程序继续向下执行"
   ]
  },
  {
   "cell_type": "code",
   "execution_count": 5,
   "metadata": {},
   "outputs": [
    {
     "name": "stdout",
     "output_type": "stream",
     "text": [
      "文件不存在。\n",
      "程序继续运行...\n"
     ]
    }
   ],
   "source": [
    "# 假设我们读取的文件不存在，会发生错误\n",
    "try:\n",
    "    with open('./data/user5.txt', 'r') as fp:\n",
    "        res = fp.read()\n",
    "    print(res)\n",
    "except:\n",
    "    print('文件不存在。')\n",
    "\n",
    "print('程序继续运行...')"
   ]
  },
  {
   "cell_type": "code",
   "execution_count": 6,
   "metadata": {},
   "outputs": [
    {
     "ename": "ValueError",
     "evalue": "invalid literal for int() with base 10: 'hello'",
     "output_type": "error",
     "traceback": [
      "\u001b[0;31m---------------------------------------------------------------------------\u001b[0m",
      "\u001b[0;31mValueError\u001b[0m                                Traceback (most recent call last)",
      "Cell \u001b[0;32mIn[6], line 2\u001b[0m\n\u001b[1;32m      1\u001b[0m s1 \u001b[39m=\u001b[39m \u001b[39m'\u001b[39m\u001b[39mhello\u001b[39m\u001b[39m'\u001b[39m\n\u001b[0;32m----> 2\u001b[0m \u001b[39mint\u001b[39;49m(s1)\n",
      "\u001b[0;31mValueError\u001b[0m: invalid literal for int() with base 10: 'hello'"
     ]
    }
   ],
   "source": [
    "s1 = 'hello'\n",
    "int(s1)"
   ]
  },
  {
   "cell_type": "code",
   "execution_count": 10,
   "metadata": {},
   "outputs": [
    {
     "ename": "ValueError",
     "evalue": "invalid literal for int() with base 10: 'hello'",
     "output_type": "error",
     "traceback": [
      "\u001b[0;31m---------------------------------------------------------------------------\u001b[0m",
      "\u001b[0;31mValueError\u001b[0m                                Traceback (most recent call last)",
      "Cell \u001b[0;32mIn[10], line 3\u001b[0m\n\u001b[1;32m      1\u001b[0m \u001b[39mtry\u001b[39;00m:\n\u001b[1;32m      2\u001b[0m     s1 \u001b[39m=\u001b[39m \u001b[39m'\u001b[39m\u001b[39mhello\u001b[39m\u001b[39m'\u001b[39m\n\u001b[0;32m----> 3\u001b[0m     \u001b[39mint\u001b[39;49m(s1)\n\u001b[1;32m      4\u001b[0m \u001b[39mexcept\u001b[39;00m \u001b[39mIndexError\u001b[39;00m \u001b[39mas\u001b[39;00m e:\n\u001b[1;32m      5\u001b[0m     \u001b[39mprint\u001b[39m(\u001b[39m'\u001b[39m\u001b[39m程序错误。\u001b[39m\u001b[39m'\u001b[39m)\n",
      "\u001b[0;31mValueError\u001b[0m: invalid literal for int() with base 10: 'hello'"
     ]
    }
   ],
   "source": [
    "try:\n",
    "    s1 = 'hello'\n",
    "    int(s1)\n",
    "except IndexError as e:\n",
    "    print('程序错误。')"
   ]
  },
  {
   "cell_type": "code",
   "execution_count": 12,
   "metadata": {},
   "outputs": [
    {
     "name": "stdout",
     "output_type": "stream",
     "text": [
      "这里是 IndexError string index out of range\n"
     ]
    }
   ],
   "source": [
    "s1 = 'hello'\n",
    "try:\n",
    "    s1[5] # IndexError\n",
    "except IndexError as e:\n",
    "    print('这里是 IndexError', e)\n",
    "except KeyError as e:\n",
    "    print('这里是 KeyError', e)\n",
    "except ValueError as e:\n",
    "    print('这里是 ValueError', e)"
   ]
  },
  {
   "cell_type": "code",
   "execution_count": 14,
   "metadata": {},
   "outputs": [
    {
     "name": "stdout",
     "output_type": "stream",
     "text": [
      "Exception === invalid literal for int() with base 10: 'world'\n"
     ]
    }
   ],
   "source": [
    "s1 = 'world'\n",
    "try:\n",
    "    int(s1)\n",
    "except Exception as e:\n",
    "    print('Exception ===',e)\n",
    "except ValueError as e:\n",
    "    print('ValueError ===', e)"
   ]
  },
  {
   "cell_type": "code",
   "execution_count": 15,
   "metadata": {},
   "outputs": [
    {
     "name": "stdout",
     "output_type": "stream",
     "text": [
      "IndexError string index out of range\n"
     ]
    }
   ],
   "source": [
    "s1 = 'hello'\n",
    "try:\n",
    "    # int(s1) # ValueError\n",
    "    s1[5]    # IndexError\n",
    "except IndexError as e:\n",
    "    print('IndexError',e)\n",
    "except KeyError as e:\n",
    "    print('KeyError',e)\n",
    "except ValueError as e:\n",
    "    print('ValueError',e)\n",
    "except Exception as e:\n",
    "    print('Exception',e)"
   ]
  },
  {
   "cell_type": "code",
   "execution_count": 23,
   "metadata": {},
   "outputs": [
    {
     "name": "stdout",
     "output_type": "stream",
     "text": [
      "hello\n",
      "try代码块中没有引发异常时，执行\n"
     ]
    }
   ],
   "source": [
    "s1 = 'hello'\n",
    "try:\n",
    "    str(s1)\n",
    "    print(s1)\n",
    "except IndexError as e:\n",
    "    print('IndexError',e)\n",
    "except ValueError as e:\n",
    "    print('ValueError',e)\n",
    "except Exception as e:\n",
    "    print('Exception',e)\n",
    "else:\n",
    "    print('try代码块中没有引发异常时，执行')"
   ]
  },
  {
   "cell_type": "code",
   "execution_count": 24,
   "metadata": {},
   "outputs": [
    {
     "name": "stdout",
     "output_type": "stream",
     "text": [
      "ValueError invalid literal for int() with base 10: 'hello'\n",
      "无论是否引发了异常，都会执行这个代码块\n",
      "如果上面的代码有异常并且进行了处理，那么后面的代码将继续执行\n"
     ]
    }
   ],
   "source": [
    "s1 = 'hello'\n",
    "try:\n",
    "    int(s1)\n",
    "    print('如果前面的代码引发了异常，这个代码块将不在继续执行。。')\n",
    "except IndexError as e:\n",
    "    print('IndexError',e)\n",
    "except ValueError as e:\n",
    "    print('ValueError',e)\n",
    "except Exception as e:\n",
    "    print('Exception',e)\n",
    "else:\n",
    "    print('try代码块中没有引发异常时，执行')\n",
    "finally:\n",
    "    print('无论是否引发了异常，都会执行这个代码块')\n",
    "\n",
    "print('如果上面的代码有异常并且进行了处理，那么后面的代码将继续执行')"
   ]
  },
  {
   "cell_type": "code",
   "execution_count": 25,
   "metadata": {},
   "outputs": [
    {
     "name": "stdout",
     "output_type": "stream",
     "text": [
      "Exception 发生错误\n"
     ]
    }
   ],
   "source": [
    "try:\n",
    "    raise Exception('发生错误')\n",
    "except Exception as e:\n",
    "    print('Exception', e)"
   ]
  },
  {
   "cell_type": "code",
   "execution_count": 26,
   "metadata": {},
   "outputs": [
    {
     "ename": "AssertionError",
     "evalue": "",
     "output_type": "error",
     "traceback": [
      "\u001b[0;31m---------------------------------------------------------------------------\u001b[0m",
      "\u001b[0;31mAssertionError\u001b[0m                            Traceback (most recent call last)",
      "Cell \u001b[0;32mIn[26], line 1\u001b[0m\n\u001b[0;32m----> 1\u001b[0m \u001b[39massert\u001b[39;00m \u001b[39m2\u001b[39m \u001b[39m>\u001b[39m \u001b[39m3\u001b[39m\n",
      "\u001b[0;31mAssertionError\u001b[0m: "
     ]
    }
   ],
   "source": [
    "assert 2 > 3"
   ]
  },
  {
   "cell_type": "code",
   "execution_count": 27,
   "metadata": {},
   "outputs": [],
   "source": [
    "assert 3 > 2"
   ]
  },
  {
   "cell_type": "markdown",
   "metadata": {},
   "source": [
    "## 自定义异常处理"
   ]
  },
  {
   "cell_type": "code",
   "execution_count": 28,
   "metadata": {},
   "outputs": [],
   "source": [
    "# 先导入所需模块\n",
    "import traceback\n",
    "import logging"
   ]
  },
  {
   "cell_type": "code",
   "execution_count": 33,
   "metadata": {},
   "outputs": [
    {
     "name": "stdout",
     "output_type": "stream",
     "text": [
      "Traceback (most recent call last):\n",
      "  File \"/var/folders/h4/7cr1cmpn7v5b3x20_9wz8m740000gn/T/ipykernel_39689/2534911191.py\", line 2, in <module>\n",
      "    int('aaa')\n",
      "ValueError: invalid literal for int() with base 10: 'aaa'\n",
      "\n"
     ]
    }
   ],
   "source": [
    "try:\n",
    "    int('aaa')\n",
    "except:\n",
    "    # 通过 traceback获取异常信息\n",
    "    errormsg = traceback.format_exc()\n",
    "    print(errormsg)"
   ]
  },
  {
   "cell_type": "code",
   "execution_count": null,
   "metadata": {},
   "outputs": [],
   "source": [
    "# logging的基本配置\n",
    "logging.basicConfig(\n",
    "    filename = './data/error.log', # 日志存储的文件及目录\n",
    "    format='%(asctime)s %(levelname)s \\n %(message)s', # 格式化存储的日志格式\n",
    "    datefmt = '%Y-%m-%d %H:%M:%S'\n",
    ")\n",
    "\n",
    "# 写入日志\n",
    "logging.error(traceback.format_exc())"
   ]
  },
  {
   "cell_type": "code",
   "execution_count": null,
   "metadata": {},
   "outputs": [],
   "source": [
    "def Myexception():\n",
    "    # logging的基本配置\n",
    "    logging.basicConfig(\n",
    "        filename = './data/error.log', # 日志存储的文件及目录\n",
    "        format='%(asctime)s %(levelname)s \\n %(message)s', # 格式化存储的日志格式\n",
    "        datefmt = '%Y-%m-%d %H:%M:%S'\n",
    "    )\n",
    "\n",
    "    # 写入日志\n",
    "    logging.error(traceback.format_exc())\n",
    "\n",
    "# 使用自定义异常处理类\n",
    "try:\n",
    "    int('bb')\n",
    "except:\n",
    "    print('在此处进行异常的处理')\n",
    "    Myexception() # 在异常处理的代码块中去调用自定义异常类"
   ]
  },
  {
   "cell_type": "markdown",
   "metadata": {},
   "source": [
    "![欢迎订阅：坍缩的奇点](../assets/Capture-2023-11-02-164446.png)"
   ]
  },
  {
   "cell_type": "markdown",
   "metadata": {},
   "source": []
  }
 ],
 "metadata": {
  "kernelspec": {
   "display_name": "base",
   "language": "python",
   "name": "python3"
  },
  "language_info": {
   "codemirror_mode": {
    "name": "ipython",
    "version": 3
   },
   "file_extension": ".py",
   "mimetype": "text/x-python",
   "name": "python",
   "nbconvert_exporter": "python",
   "pygments_lexer": "ipython3",
   "version": "3.10.12"
  },
  "orig_nbformat": 4
 },
 "nbformat": 4,
 "nbformat_minor": 2
}
