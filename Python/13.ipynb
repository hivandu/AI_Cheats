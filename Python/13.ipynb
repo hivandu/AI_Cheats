{
 "cells": [
  {
   "cell_type": "markdown",
   "metadata": {},
   "source": [
    "# 文件操作"
   ]
  },
  {
   "cell_type": "code",
   "execution_count": null,
   "metadata": {},
   "outputs": [],
   "source": [
    "'''\n",
    "打开文件 open()\n",
    "    参数1: 文件路径\n",
    "        路径 url 统一资源定位符\n",
    "        相对路径：\n",
    "        绝对路径\n",
    "    参数2: 打开的方式\n",
    "\n",
    "'''"
   ]
  },
  {
   "cell_type": "code",
   "execution_count": 16,
   "metadata": {},
   "outputs": [
    {
     "name": "stdout",
     "output_type": "stream",
     "text": [
      "<_io.TextIOWrapper name='./data/13-1.txt' mode='w' encoding='GBK'> <class '_io.TextIOWrapper'>\n"
     ]
    }
   ],
   "source": [
    "fp = open('./data/13-1.txt', 'w', encoding='GBK')\n",
    "print(fp, type(fp))\n",
    "fp.write('相对路径: 比如说我们被路人问路，我们就说：这条街往前，前面十字路口就是交道口，然后左转，再走100米左右就到了。\\n绝对路径: 这个就非常好理解了，北京市西城区鼓楼东大街28号，特别准确了对吧？')\n",
    "fp.close()"
   ]
  },
  {
   "cell_type": "code",
   "execution_count": 17,
   "metadata": {},
   "outputs": [
    {
     "name": "stdout",
     "output_type": "stream",
     "text": [
      "相对路径: 比如说我们被路人问路，我们就说：这条街往前，前面十字路口就是交道口，然后左转，再走100米左右就到了。\n",
      "绝对路径: 这个就非常好理解了，北京市西城区鼓楼东大街28号，特别准确了对吧？\n"
     ]
    }
   ],
   "source": [
    "fp = open('./data/13-1.txt', 'r', encoding='GBK')\n",
    "res = fp.read()\n",
    "fp.close()\n",
    "\n",
    "print(res)"
   ]
  },
  {
   "cell_type": "code",
   "execution_count": 19,
   "metadata": {},
   "outputs": [
    {
     "name": "stdout",
     "output_type": "stream",
     "text": [
      "相对路径: 比如说我们被路人问路，我们就说：这条街往前，前面十字路口就是交道口，然后左转，再走100米左右就到了。\n",
      "绝对路径: 这个就非常好理解了，北京市西城区鼓楼东大街28号，特别准确了对吧？\n"
     ]
    }
   ],
   "source": [
    "with open('./data/13-1.txt', 'r+', encoding='GBK') as fp:\n",
    "    res = fp.read()\n",
    "    print(res)\n",
    "    fp.write(res)"
   ]
  },
  {
   "cell_type": "code",
   "execution_count": 20,
   "metadata": {},
   "outputs": [
    {
     "ename": "FileExistsError",
     "evalue": "[Errno 17] File exists: './data/13-1.txt'",
     "output_type": "error",
     "traceback": [
      "\u001b[0;31m---------------------------------------------------------------------------\u001b[0m",
      "\u001b[0;31mFileExistsError\u001b[0m                           Traceback (most recent call last)",
      "Cell \u001b[0;32mIn[20], line 1\u001b[0m\n\u001b[0;32m----> 1\u001b[0m \u001b[39mwith\u001b[39;00m \u001b[39mopen\u001b[39;49m(\u001b[39m'\u001b[39;49m\u001b[39m./data/13-1.txt\u001b[39;49m\u001b[39m'\u001b[39;49m, \u001b[39m'\u001b[39;49m\u001b[39mx+\u001b[39;49m\u001b[39m'\u001b[39;49m, encoding\u001b[39m=\u001b[39;49m\u001b[39m'\u001b[39;49m\u001b[39mGBK\u001b[39;49m\u001b[39m'\u001b[39;49m) \u001b[39mas\u001b[39;00m fp:\n\u001b[1;32m      2\u001b[0m     \u001b[39mprint\u001b[39m(fp\u001b[39m.\u001b[39mread())\n",
      "File \u001b[0;32m~/miniforge3/envs/glm/lib/python3.10/site-packages/IPython/core/interactiveshell.py:284\u001b[0m, in \u001b[0;36m_modified_open\u001b[0;34m(file, *args, **kwargs)\u001b[0m\n\u001b[1;32m    277\u001b[0m \u001b[39mif\u001b[39;00m file \u001b[39min\u001b[39;00m {\u001b[39m0\u001b[39m, \u001b[39m1\u001b[39m, \u001b[39m2\u001b[39m}:\n\u001b[1;32m    278\u001b[0m     \u001b[39mraise\u001b[39;00m \u001b[39mValueError\u001b[39;00m(\n\u001b[1;32m    279\u001b[0m         \u001b[39mf\u001b[39m\u001b[39m\"\u001b[39m\u001b[39mIPython won\u001b[39m\u001b[39m'\u001b[39m\u001b[39mt let you open fd=\u001b[39m\u001b[39m{\u001b[39;00mfile\u001b[39m}\u001b[39;00m\u001b[39m by default \u001b[39m\u001b[39m\"\u001b[39m\n\u001b[1;32m    280\u001b[0m         \u001b[39m\"\u001b[39m\u001b[39mas it is likely to crash IPython. If you know what you are doing, \u001b[39m\u001b[39m\"\u001b[39m\n\u001b[1;32m    281\u001b[0m         \u001b[39m\"\u001b[39m\u001b[39myou can use builtins\u001b[39m\u001b[39m'\u001b[39m\u001b[39m open.\u001b[39m\u001b[39m\"\u001b[39m\n\u001b[1;32m    282\u001b[0m     )\n\u001b[0;32m--> 284\u001b[0m \u001b[39mreturn\u001b[39;00m io_open(file, \u001b[39m*\u001b[39;49margs, \u001b[39m*\u001b[39;49m\u001b[39m*\u001b[39;49mkwargs)\n",
      "\u001b[0;31mFileExistsError\u001b[0m: [Errno 17] File exists: './data/13-1.txt'"
     ]
    }
   ],
   "source": [
    "with open('./data/13-1.txt', 'x+', encoding='GBK') as fp:\n",
    "    print(fp.read())"
   ]
  },
  {
   "cell_type": "code",
   "execution_count": 85,
   "metadata": {},
   "outputs": [
    {
     "name": "stdout",
     "output_type": "stream",
     "text": [
      "\n",
      "这里是\"x+\"模式下新加入的内容。\n"
     ]
    }
   ],
   "source": [
    "with open('./data/13-x+.txt', 'x+', encoding='UTF-8') as fp:\n",
    "    res = fp.read()\n",
    "    print(res)\n",
    "    fp.write('这里是\"x+\"模式下新加入的内容。')\n",
    "\n",
    "with open('./data/13-x+.txt', 'r+', encoding='UTF-8') as fp:\n",
    "    res = fp.read()\n",
    "    print(res)"
   ]
  },
  {
   "cell_type": "code",
   "execution_count": null,
   "metadata": {},
   "outputs": [],
   "source": [
    "with open('./data/13-1.txt', 'r', encoding='GBK') as fp:\n",
    "    res = fp.read(10)"
   ]
  },
  {
   "cell_type": "code",
   "execution_count": 77,
   "metadata": {},
   "outputs": [
    {
     "name": "stdout",
     "output_type": "stream",
     "text": [
      "1. Hello Python.\n",
      "\n",
      "2. Hello C++. \n",
      "\n",
      "------------\n",
      "1. Hello Python.\n",
      "\n",
      "1. Hello Python.\n",
      "\n"
     ]
    }
   ],
   "source": [
    "# 创建一个新文件\n",
    "with open('./data/13-2.txt', 'w', encoding='UTF-8') as fp:\n",
    "    fp.write('1. Hello Python.\\n2. Hello C++. \\n3. Hello Ruby.')\n",
    "\n",
    "# 正常状态下\n",
    "with open('./data/13-2.txt', 'r', encoding='UTF-8') as fp:\n",
    "    print(fp.readline())\n",
    "    print(fp.readline())\n",
    "    print('------------')\n",
    "\n",
    "# 设置指针重新偏移到头部\n",
    "with open('./data/13-2.txt', 'r', encoding='UTF-8') as fp:\n",
    "    print(fp.readline())\n",
    "    fp.seek(0, 0)\n",
    "    print(fp.readline())\n",
    "\n"
   ]
  },
  {
   "cell_type": "code",
   "execution_count": 84,
   "metadata": {},
   "outputs": [
    {
     "name": "stdout",
     "output_type": "stream",
     "text": [
      "1. Hello Python.\n",
      "2. Hello C++. \n",
      "3. Hello Ruby.这里是使用r+添加到末尾的内容\n"
     ]
    }
   ],
   "source": [
    "# 设置指针重新偏移到头部\n",
    "with open('./data/13-2.txt', 'r+', encoding='UTF-8') as fp:\n",
    "    fp.seek(0, 2)\n",
    "    fp.write('这里是使用r+添加到末尾的内容')\n",
    "\n",
    "with open('./data/13-2.txt', 'r', encoding='UTF-8') as fp:\n",
    "    print(fp.read())"
   ]
  },
  {
   "cell_type": "markdown",
   "metadata": {},
   "source": [
    "![欢迎订阅：坍缩的奇点](../assets/Capture-2023-11-02-164446.png)"
   ]
  },
  {
   "cell_type": "code",
   "execution_count": null,
   "metadata": {},
   "outputs": [],
   "source": []
  }
 ],
 "metadata": {
  "kernelspec": {
   "display_name": "Python 3",
   "language": "python",
   "name": "python3"
  },
  "language_info": {
   "codemirror_mode": {
    "name": "ipython",
    "version": 3
   },
   "file_extension": ".py",
   "mimetype": "text/x-python",
   "name": "python",
   "nbconvert_exporter": "python",
   "pygments_lexer": "ipython3",
   "version": "3.10.12"
  },
  "orig_nbformat": 4
 },
 "nbformat": 4,
 "nbformat_minor": 2
}
