{
 "cells": [
  {
   "cell_type": "markdown",
   "metadata": {},
   "source": [
    "# 字典"
   ]
  },
  {
   "cell_type": "code",
   "execution_count": 6,
   "metadata": {},
   "outputs": [
    {
     "name": "stdout",
     "output_type": "stream",
     "text": [
      "{'a': 1, 'b': 2, 'c': 2}\n",
      "{'name': '张三', 'sex': 'male', 'age': 22}\n",
      "{'a': 1, 'b': 2, 'c': 3}\n",
      "{1: 'a', 2: 'b', 3: 'c', 4: 'd'}\n"
     ]
    }
   ],
   "source": [
    "# 使用{} 定义\n",
    "myDict = {'a':1, 'b':2, 'c':2}\n",
    "print(myDict)\n",
    "\n",
    "# 使用dict(key=value, key=value)函数进行定义\n",
    "myDict = dict(name='张三', sex='male', age=22)\n",
    "print(myDict)\n",
    "\n",
    "# 数据类型的转换：dict（二级容器类型）列表或元组，并且是二级容器才可以转换\n",
    "myDict = dict([['a',1], ['b',2], ['c',3]])\n",
    "print(myDict)\n",
    "\n",
    "# zip压缩函数，dict转类型\n",
    "ex1 = [1, 2, 3, 4]\n",
    "ex2 = ['a', 'b', 'c', 'd']\n",
    "# 压缩过后做的事情其实就是数据类型的转换\n",
    "myDict = dict(zip(ex1, ex2))\n",
    "print(myDict)"
   ]
  },
  {
   "cell_type": "code",
   "execution_count": 8,
   "metadata": {},
   "outputs": [
    {
     "ename": "TypeError",
     "evalue": "dict expected at most 1 argument, got 3",
     "output_type": "error",
     "traceback": [
      "\u001b[0;31m---------------------------------------------------------------------------\u001b[0m",
      "\u001b[0;31mTypeError\u001b[0m                                 Traceback (most recent call last)",
      "Cell \u001b[0;32mIn[8], line 1\u001b[0m\n\u001b[0;32m----> 1\u001b[0m myDict \u001b[39m=\u001b[39m \u001b[39mdict\u001b[39;49m([\u001b[39m'\u001b[39;49m\u001b[39ma\u001b[39;49m\u001b[39m'\u001b[39;49m,\u001b[39m1\u001b[39;49m], [\u001b[39m'\u001b[39;49m\u001b[39mb\u001b[39;49m\u001b[39m'\u001b[39;49m,\u001b[39m2\u001b[39;49m], [\u001b[39m'\u001b[39;49m\u001b[39mc\u001b[39;49m\u001b[39m'\u001b[39;49m,\u001b[39m3\u001b[39;49m])\n\u001b[1;32m      2\u001b[0m \u001b[39mprint\u001b[39m(myDict)\n",
      "\u001b[0;31mTypeError\u001b[0m: dict expected at most 1 argument, got 3"
     ]
    }
   ],
   "source": [
    "myDict = dict(['a',1], ['b',2], ['c',3])\n",
    "print(myDict)"
   ]
  },
  {
   "cell_type": "code",
   "execution_count": 10,
   "metadata": {},
   "outputs": [
    {
     "ename": "ValueError",
     "evalue": "dictionary update sequence element #0 has length 3; 2 is required",
     "output_type": "error",
     "traceback": [
      "\u001b[0;31m---------------------------------------------------------------------------\u001b[0m",
      "\u001b[0;31mValueError\u001b[0m                                Traceback (most recent call last)",
      "Cell \u001b[0;32mIn[10], line 1\u001b[0m\n\u001b[0;32m----> 1\u001b[0m myDict \u001b[39m=\u001b[39m \u001b[39mdict\u001b[39;49m([[[\u001b[39m'\u001b[39;49m\u001b[39ma\u001b[39;49m\u001b[39m'\u001b[39;49m,\u001b[39m1\u001b[39;49m],[\u001b[39m'\u001b[39;49m\u001b[39mb\u001b[39;49m\u001b[39m'\u001b[39;49m,\u001b[39m2\u001b[39;49m],[\u001b[39m'\u001b[39;49m\u001b[39mc\u001b[39;49m\u001b[39m'\u001b[39;49m,\u001b[39m3\u001b[39;49m]]])\n\u001b[1;32m      2\u001b[0m \u001b[39mprint\u001b[39m(myDict)\n",
      "\u001b[0;31mValueError\u001b[0m: dictionary update sequence element #0 has length 3; 2 is required"
     ]
    }
   ],
   "source": [
    "myDict = dict([[['a',1],['b',2],['c',3]]])\n",
    "print(myDict)"
   ]
  },
  {
   "cell_type": "code",
   "execution_count": 14,
   "metadata": {},
   "outputs": [
    {
     "ename": "TypeError",
     "evalue": "unsupported operand type(s) for +: 'dict' and 'dict'",
     "output_type": "error",
     "traceback": [
      "\u001b[0;31m---------------------------------------------------------------------------\u001b[0m",
      "\u001b[0;31mTypeError\u001b[0m                                 Traceback (most recent call last)",
      "Cell \u001b[0;32mIn[14], line 4\u001b[0m\n\u001b[1;32m      1\u001b[0m ex1 \u001b[39m=\u001b[39m {\u001b[39m'\u001b[39m\u001b[39ma\u001b[39m\u001b[39m'\u001b[39m:\u001b[39m1\u001b[39m, \u001b[39m'\u001b[39m\u001b[39mb\u001b[39m\u001b[39m'\u001b[39m:\u001b[39m2\u001b[39m, \u001b[39m'\u001b[39m\u001b[39mc\u001b[39m\u001b[39m'\u001b[39m:\u001b[39m3\u001b[39m}\n\u001b[1;32m      2\u001b[0m ex2 \u001b[39m=\u001b[39m {\u001b[39m1\u001b[39m:\u001b[39m'\u001b[39m\u001b[39ma\u001b[39m\u001b[39m'\u001b[39m, \u001b[39m2\u001b[39m:\u001b[39m'\u001b[39m\u001b[39mb\u001b[39m\u001b[39m'\u001b[39m, \u001b[39m3\u001b[39m:\u001b[39m'\u001b[39m\u001b[39mc\u001b[39m\u001b[39m'\u001b[39m, \u001b[39m4\u001b[39m:\u001b[39m'\u001b[39m\u001b[39md\u001b[39m\u001b[39m'\u001b[39m}\n\u001b[0;32m----> 4\u001b[0m \u001b[39mprint\u001b[39m(ex1 \u001b[39m+\u001b[39;49m ex2)\n\u001b[1;32m      5\u001b[0m \u001b[39m# print(ex1*5)\u001b[39;00m\n",
      "\u001b[0;31mTypeError\u001b[0m: unsupported operand type(s) for +: 'dict' and 'dict'"
     ]
    }
   ],
   "source": [
    "ex1 = {'a':1, 'b':2, 'c':3}\n",
    "ex2 = {1:'a', 2:'b', 3:'c', 4:'d'}\n",
    "\n",
    "print(ex1 + ex2)\n",
    "# print(ex1*5)"
   ]
  },
  {
   "cell_type": "code",
   "execution_count": 16,
   "metadata": {},
   "outputs": [
    {
     "name": "stdout",
     "output_type": "stream",
     "text": [
      "1\n"
     ]
    }
   ],
   "source": [
    "res = ex1['a']\n",
    "print(res)"
   ]
  },
  {
   "cell_type": "code",
   "execution_count": 18,
   "metadata": {},
   "outputs": [
    {
     "name": "stdout",
     "output_type": "stream",
     "text": [
      "{'a': 111, 'b': 2, 'c': 3}\n"
     ]
    }
   ],
   "source": [
    "ex1['a'] = 111\n",
    "print(ex1)"
   ]
  },
  {
   "cell_type": "code",
   "execution_count": 19,
   "metadata": {},
   "outputs": [
    {
     "name": "stdout",
     "output_type": "stream",
     "text": [
      "{'b': 2, 'c': 3}\n"
     ]
    }
   ],
   "source": [
    "del ex1['a']\n",
    "print(ex1)\n"
   ]
  },
  {
   "cell_type": "code",
   "execution_count": 20,
   "metadata": {},
   "outputs": [
    {
     "ename": "TypeError",
     "evalue": "pop expected at least 1 argument, got 0",
     "output_type": "error",
     "traceback": [
      "\u001b[0;31m---------------------------------------------------------------------------\u001b[0m",
      "\u001b[0;31mTypeError\u001b[0m                                 Traceback (most recent call last)",
      "Cell \u001b[0;32mIn[20], line 1\u001b[0m\n\u001b[0;32m----> 1\u001b[0m ex1\u001b[39m.\u001b[39;49mpop()\n\u001b[1;32m      2\u001b[0m \u001b[39mprint\u001b[39m(ex1)\n",
      "\u001b[0;31mTypeError\u001b[0m: pop expected at least 1 argument, got 0"
     ]
    }
   ],
   "source": [
    "ex1.pop()\n",
    "print(ex1)"
   ]
  },
  {
   "cell_type": "code",
   "execution_count": 21,
   "metadata": {},
   "outputs": [
    {
     "name": "stdout",
     "output_type": "stream",
     "text": [
      "{'b': 2, 'c': 3, 'aa': 'aaaaa'}\n"
     ]
    }
   ],
   "source": [
    "ex1['aa']  = 'aaaaa'\n",
    "print(ex1)"
   ]
  },
  {
   "cell_type": "code",
   "execution_count": 24,
   "metadata": {},
   "outputs": [
    {
     "name": "stdout",
     "output_type": "stream",
     "text": [
      "False\n",
      "True\n"
     ]
    }
   ],
   "source": [
    "print('AA' in ex1)\n",
    "print('AA' not in ex1)"
   ]
  },
  {
   "cell_type": "code",
   "execution_count": 25,
   "metadata": {},
   "outputs": [
    {
     "name": "stdout",
     "output_type": "stream",
     "text": [
      "3\n"
     ]
    }
   ],
   "source": [
    "print(len(ex1))"
   ]
  },
  {
   "cell_type": "code",
   "execution_count": 27,
   "metadata": {},
   "outputs": [
    {
     "name": "stdout",
     "output_type": "stream",
     "text": [
      "dict_keys(['b', 'c', 'aa'])\n",
      "dict_keys(['b', 'c', 'aa'])\n"
     ]
    }
   ],
   "source": [
    "print(ex1.keys())   "
   ]
  },
  {
   "cell_type": "code",
   "execution_count": 28,
   "metadata": {},
   "outputs": [
    {
     "name": "stdout",
     "output_type": "stream",
     "text": [
      "dict_values([2, 3, 'aaaaa'])\n"
     ]
    }
   ],
   "source": [
    "print(ex1.values())"
   ]
  },
  {
   "cell_type": "code",
   "execution_count": 29,
   "metadata": {},
   "outputs": [
    {
     "name": "stdout",
     "output_type": "stream",
     "text": [
      "dict_items([('b', 2), ('c', 3), ('aa', 'aaaaa')])\n"
     ]
    }
   ],
   "source": [
    "print(ex1.items())"
   ]
  },
  {
   "cell_type": "code",
   "execution_count": 32,
   "metadata": {},
   "outputs": [
    {
     "name": "stdout",
     "output_type": "stream",
     "text": [
      "b : 2; c : 3; aa : aaaaa; "
     ]
    }
   ],
   "source": [
    "for i in ex1:\n",
    "    print(i, ':', ex1[i], end=\"; \")"
   ]
  },
  {
   "cell_type": "code",
   "execution_count": 33,
   "metadata": {},
   "outputs": [
    {
     "name": "stdout",
     "output_type": "stream",
     "text": [
      "b : 2; c : 3; aa : aaaaa; "
     ]
    }
   ],
   "source": [
    "for k, v in ex1.items():\n",
    "    print(k, ':', v, end=\"; \")"
   ]
  },
  {
   "cell_type": "code",
   "execution_count": 34,
   "metadata": {},
   "outputs": [
    {
     "name": "stdout",
     "output_type": "stream",
     "text": [
      "b; c; aa; \n",
      "2; 3; aaaaa; "
     ]
    }
   ],
   "source": [
    "# 遍历所有的key\n",
    "for k in ex1.keys():\n",
    "    print(k, end=\"; \")\n",
    "\n",
    "print()\n",
    "\n",
    "# 遍历所有的value\n",
    "for v in ex1.values():\n",
    "    print(v, end=\"; \")\n"
   ]
  },
  {
   "cell_type": "code",
   "execution_count": 36,
   "metadata": {},
   "outputs": [
    {
     "name": "stdout",
     "output_type": "stream",
     "text": [
      "b\n",
      "['c', 'aa']\n"
     ]
    }
   ],
   "source": [
    "res = iter(ex1)\n",
    "print(next(res))\n",
    "print(list(res))"
   ]
  },
  {
   "cell_type": "code",
   "execution_count": 40,
   "metadata": {},
   "outputs": [
    {
     "name": "stdout",
     "output_type": "stream",
     "text": [
      "1\n"
     ]
    }
   ],
   "source": [
    "myDict = {'a':1, 'b':2, 'c':3, 'd':4, 'e':5}\n",
    "# myDict.pop('a')\n",
    "res = myDict.pop('a')\n",
    "print(res)"
   ]
  },
  {
   "cell_type": "code",
   "execution_count": 44,
   "metadata": {},
   "outputs": [
    {
     "name": "stdout",
     "output_type": "stream",
     "text": [
      "{'a': 1, 'b': 2, 'c': 3, 'd': 4}\n",
      "('e', 5)\n"
     ]
    }
   ],
   "source": [
    "myDict = {'a':1, 'b':2, 'c':3, 'd':4, 'e':5}\n",
    "res = myDict.popitem()\n",
    "print(myDict)\n",
    "print(res)\n"
   ]
  },
  {
   "cell_type": "code",
   "execution_count": 52,
   "metadata": {},
   "outputs": [
    {
     "ename": "TypeError",
     "evalue": "dict.keys() takes no arguments (1 given)",
     "output_type": "error",
     "traceback": [
      "\u001b[0;31m---------------------------------------------------------------------------\u001b[0m",
      "\u001b[0;31mTypeError\u001b[0m                                 Traceback (most recent call last)",
      "Cell \u001b[0;32mIn[52], line 3\u001b[0m\n\u001b[1;32m      1\u001b[0m myDict \u001b[39m=\u001b[39m {\u001b[39m'\u001b[39m\u001b[39ma\u001b[39m\u001b[39m'\u001b[39m:\u001b[39m1\u001b[39m, \u001b[39m'\u001b[39m\u001b[39mb\u001b[39m\u001b[39m'\u001b[39m:\u001b[39m2\u001b[39m, \u001b[39m'\u001b[39m\u001b[39mc\u001b[39m\u001b[39m'\u001b[39m:\u001b[39m3\u001b[39m, \u001b[39m'\u001b[39m\u001b[39md\u001b[39m\u001b[39m'\u001b[39m:\u001b[39m4\u001b[39m, \u001b[39m'\u001b[39m\u001b[39me\u001b[39m\u001b[39m'\u001b[39m:\u001b[39m5\u001b[39m}\n\u001b[1;32m      2\u001b[0m \u001b[39m# print(myDict['a','b'])\u001b[39;00m\n\u001b[0;32m----> 3\u001b[0m \u001b[39mprint\u001b[39m(myDict\u001b[39m.\u001b[39;49mkeys(\u001b[39m'\u001b[39;49m\u001b[39mf\u001b[39;49m\u001b[39m'\u001b[39;49m))\n",
      "\u001b[0;31mTypeError\u001b[0m: dict.keys() takes no arguments (1 given)"
     ]
    }
   ],
   "source": [
    "myDict = {'a':1, 'b':2, 'c':3, 'd':4, 'e':5}\n",
    "print(myDict.keys('f'))"
   ]
  },
  {
   "cell_type": "code",
   "execution_count": 47,
   "metadata": {},
   "outputs": [
    {
     "name": "stdout",
     "output_type": "stream",
     "text": [
      "None\n"
     ]
    }
   ],
   "source": [
    "myDict = {'a':1, 'b':2, 'c':3, 'd':4, 'e':5}\n",
    "print(myDict.get('f'))\n"
   ]
  },
  {
   "cell_type": "code",
   "execution_count": 53,
   "metadata": {},
   "outputs": [
    {
     "name": "stdout",
     "output_type": "stream",
     "text": [
      "{'a': 11, 'b': 22, 'c': 33, 'd': 4, 'e': 5, 'f': 66}\n"
     ]
    }
   ],
   "source": [
    "myDict = {'a':1, 'b':2, 'c':3, 'd':4, 'e':5}\n",
    "myDict.update(a=11, b=22)\n",
    "myDict.update({'c':33, 'f':66})\n",
    "print(myDict)"
   ]
  },
  {
   "cell_type": "code",
   "execution_count": 58,
   "metadata": {},
   "outputs": [
    {
     "name": "stdout",
     "output_type": "stream",
     "text": [
      "123\n",
      "1\n",
      "333\n",
      "333\n",
      "{'a': 1, 'b': 2, 'c': 3, 'd': 4, 'e': 5, 'aa': '123', 'bb': 333}\n"
     ]
    }
   ],
   "source": [
    "myDict = {'a':1, 'b':2, 'c':3, 'd':4, 'e':5}\n",
    "res = myDict.setdefault('aa', '123')\n",
    "print(res)\n",
    "res = myDict.setdefault('a', 2)\n",
    "print(res)\n",
    "res = myDict.setdefault('bb', 333)\n",
    "print(res)\n",
    "res = myDict.setdefault('bb', 444)\n",
    "print(res)\n",
    "print(myDict)"
   ]
  },
  {
   "cell_type": "code",
   "execution_count": 60,
   "metadata": {},
   "outputs": [
    {
     "name": "stdout",
     "output_type": "stream",
     "text": [
      "{1: 'a', 2: 'b', 3: 'c'}\n"
     ]
    }
   ],
   "source": [
    "myDict = {'a':1, 'b':2, 'c':3}\n",
    "\n",
    "newDict = {}\n",
    "for k, v in myDict.items():\n",
    "    newDict[v] = k\n",
    "\n",
    "print(newDict)"
   ]
  },
  {
   "cell_type": "code",
   "execution_count": 61,
   "metadata": {},
   "outputs": [
    {
     "name": "stdout",
     "output_type": "stream",
     "text": [
      "{1: 'a', 2: 'b', 3: 'c'}\n"
     ]
    }
   ],
   "source": [
    "myDict = {'a':1, 'b':2, 'c':3}\n",
    "newDict = {v:k for k, v in myDict.items()}\n",
    "print(newDict)"
   ]
  },
  {
   "cell_type": "code",
   "execution_count": 64,
   "metadata": {},
   "outputs": [
    {
     "name": "stdout",
     "output_type": "stream",
     "text": [
      "{1, 2, 3} <class 'set'>\n"
     ]
    },
    {
     "data": {
      "text/plain": [
       "dict"
      ]
     },
     "execution_count": 64,
     "metadata": {},
     "output_type": "execute_result"
    }
   ],
   "source": [
    "myDict = {'a':1, 'b':2, 'c':3}\n",
    "newDict = {v for k, v in myDict.items()}\n",
    "print(newDict, type(newDict))"
   ]
  },
  {
   "cell_type": "code",
   "execution_count": 65,
   "metadata": {},
   "outputs": [
    {
     "name": "stdout",
     "output_type": "stream",
     "text": [
      "{2: 'b', 4: 'd', 6: 'f'}\n"
     ]
    }
   ],
   "source": [
    "myDict = {'a':1, 'b':2, 'c':3, 'd':4, 'e':5, 'f':6}\n",
    "\n",
    "# 使用普通方式完成\n",
    "newDict = {}\n",
    "for k,v in myDict.items():\n",
    "    if v%2 == 0:\n",
    "        newDict[v] = k\n",
    "print(newDict)"
   ]
  },
  {
   "cell_type": "code",
   "execution_count": 67,
   "metadata": {},
   "outputs": [
    {
     "name": "stdout",
     "output_type": "stream",
     "text": [
      "{2: 'b', 4: 'd', 6: 'f'}\n"
     ]
    }
   ],
   "source": [
    "# 使用字典推导式来完成\n",
    "newDict = {v:k for k,v in myDict.items() if v%2 == 0}\n",
    "print(newDict)"
   ]
  },
  {
   "cell_type": "code",
   "execution_count": null,
   "metadata": {},
   "outputs": [],
   "source": []
  },
  {
   "cell_type": "code",
   "execution_count": null,
   "metadata": {},
   "outputs": [],
   "source": []
  },
  {
   "cell_type": "markdown",
   "metadata": {},
   "source": [
    "# 【元组】练习题"
   ]
  },
  {
   "cell_type": "code",
   "execution_count": 40,
   "metadata": {},
   "outputs": [
    {
     "name": "stdout",
     "output_type": "stream",
     "text": [
      "1, 1, 2, 3, 5, 8, 13, 21, 34, "
     ]
    }
   ],
   "source": [
    "# 使用生成器改写斐波那契数列函数\n",
    "\n",
    "# 斐波那契数列\n",
    "def fibonacci(num):\n",
    "    a, b, i = 0, 1, 0\n",
    "    while i < num:\n",
    "        print(b, end=\", \")\n",
    "        a, b = b, a+b\n",
    "        i+=1\n",
    "\n",
    "# fibonacci(9)\n",
    "\n",
    "# 生成器函数改写\n",
    "def fibonacci(num):\n",
    "    a, b, i = 0, 1, 0\n",
    "    while i < num:\n",
    "        yield b\n",
    "        a, b = b, a+b\n",
    "        i+=1\n",
    "\n",
    "# res = fibonacci(8)\n",
    "# print(tuple(res))\n",
    "# num = int(input('请输入一个正整数:'))\n",
    "# for i in fibonacci(num):\n",
    "#     print(i, end=\", \")\n",
    "\n",
    "# 优化\n",
    "def fibonacci():\n",
    "    a, b, i = 0, 1, 0\n",
    "    while True:\n",
    "        yield b\n",
    "        a, b = b, a+b\n",
    "        i+=1\n",
    "\n",
    "num = int(input('请输入一个正整数:'))\n",
    "res = fibonacci()\n",
    "for i in range(num+1):\n",
    "    print(next(res), end=\", \")"
   ]
  },
  {
   "cell_type": "markdown",
   "metadata": {},
   "source": [
    "![欢迎订阅：坍缩的奇点](../assets/Capture-2023-11-02-164446.png)"
   ]
  },
  {
   "cell_type": "markdown",
   "metadata": {},
   "source": []
  }
 ],
 "metadata": {
  "kernelspec": {
   "display_name": "Python 3",
   "language": "python",
   "name": "python3"
  },
  "language_info": {
   "codemirror_mode": {
    "name": "ipython",
    "version": 3
   },
   "file_extension": ".py",
   "mimetype": "text/x-python",
   "name": "python",
   "nbconvert_exporter": "python",
   "pygments_lexer": "ipython3",
   "version": "3.10.11"
  },
  "orig_nbformat": 4
 },
 "nbformat": 4,
 "nbformat_minor": 2
}
