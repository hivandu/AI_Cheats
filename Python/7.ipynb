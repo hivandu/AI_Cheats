{
 "cells": [
  {
   "cell_type": "markdown",
   "metadata": {},
   "source": [
    "# 内置函数"
   ]
  },
  {
   "cell_type": "code",
   "execution_count": null,
   "metadata": {},
   "outputs": [],
   "source": [
    "'''\n",
    "range() 函数\n",
    "功能： 能够生成一个置顶的数值序列\n",
    "参数：\n",
    "    start: 开始的值，默认为 0\n",
    "    stop: 结束的值\n",
    "    [, step]: 可选，步进值， 默认为 1\n",
    "返回值： 可迭代的对象，数字序列\n",
    "'''"
   ]
  },
  {
   "cell_type": "markdown",
   "metadata": {},
   "source": [
    "## range()"
   ]
  },
  {
   "cell_type": "code",
   "execution_count": 1,
   "metadata": {},
   "outputs": [
    {
     "name": "stdout",
     "output_type": "stream",
     "text": [
      "range(0, 10) <class 'range'>\n"
     ]
    }
   ],
   "source": [
    "res = range(10)\n",
    "print(res, type(res))"
   ]
  },
  {
   "cell_type": "code",
   "execution_count": 9,
   "metadata": {},
   "outputs": [
    {
     "name": "stdout",
     "output_type": "stream",
     "text": [
      "[0, 1, 2, 3, 4, 5, 6, 7, 8, 9, 10]\n"
     ]
    }
   ],
   "source": [
    "# range函数的使用方式\n",
    "# 只写一个参数，就是从 0开始到 11之前，--> 10\n",
    "res = range(11)\n",
    "print(list(res))"
   ]
  },
  {
   "cell_type": "code",
   "execution_count": 5,
   "metadata": {},
   "outputs": [
    {
     "name": "stdout",
     "output_type": "stream",
     "text": [
      "0 1 2 3 4 5 6 7 8 9 10 "
     ]
    }
   ],
   "source": [
    "for i in res:\n",
    "  print(i, end=\" \")"
   ]
  },
  {
   "cell_type": "code",
   "execution_count": 12,
   "metadata": {},
   "outputs": [
    {
     "name": "stdout",
     "output_type": "stream",
     "text": [
      "0\n",
      "1\n",
      "[2, 3, 4, 5, 6, 7, 8, 9, 10]\n"
     ]
    }
   ],
   "source": [
    "res = iter(range(11))\n",
    "print(next(res))\n",
    "print(next(res))\n",
    "print(list(res))"
   ]
  },
  {
   "cell_type": "code",
   "execution_count": 13,
   "metadata": {},
   "outputs": [
    {
     "name": "stdout",
     "output_type": "stream",
     "text": [
      "5 6 7 8 9 "
     ]
    }
   ],
   "source": [
    "# 添加两个参数\n",
    "for i in range(5, 10):\n",
    "    print(i, end=\" \")\n"
   ]
  },
  {
   "cell_type": "code",
   "execution_count": 14,
   "metadata": {},
   "outputs": [
    {
     "name": "stdout",
     "output_type": "stream",
     "text": [
      "1 4 7 "
     ]
    }
   ],
   "source": [
    "# 添加三个参数\n",
    "for i in range(1, 10, 3):\n",
    "    print(i, end=\" \")"
   ]
  },
  {
   "cell_type": "code",
   "execution_count": 19,
   "metadata": {},
   "outputs": [
    {
     "name": "stdout",
     "output_type": "stream",
     "text": [
      "10 9 8 7 6 5 4 3 2 1 "
     ]
    }
   ],
   "source": [
    "for i in range(10, 0, -1):\n",
    "    print(i, end=\" \")"
   ]
  },
  {
   "cell_type": "code",
   "execution_count": 20,
   "metadata": {},
   "outputs": [
    {
     "name": "stdout",
     "output_type": "stream",
     "text": [
      "[-10, -11, -12, -13, -14, -15, -16, -17, -18, -19]\n",
      "[-20, -19, -18, -17, -16, -15, -14, -13, -12, -11]\n",
      "[-10, -9, -8, -7, -6, -5, -4, -3, -2, -1, 0, 1, 2, 3, 4, 5, 6, 7, 8, 9]\n"
     ]
    }
   ],
   "source": [
    "res = range(-10,-20,-1)\n",
    "print(list(res))\n",
    "res = range(-20,-10)\n",
    "print(list(res))\n",
    "res = range(-10,10)\n",
    "print(list(res))"
   ]
  },
  {
   "cell_type": "markdown",
   "metadata": {},
   "source": [
    "## zip()"
   ]
  },
  {
   "cell_type": "code",
   "execution_count": 46,
   "metadata": {},
   "outputs": [],
   "source": [
    "n1 = '1234'\n",
    "n2 = ['a', 'b', 'c']\n",
    "n3 = ['A', 'B', 'C', 'D']\n",
    "# 调用 zip函数，合成新的元组迭代器\n",
    "res = zip(n1, n2, n3)\n",
    "# print(res, type(res))\n"
   ]
  },
  {
   "cell_type": "code",
   "execution_count": 44,
   "metadata": {},
   "outputs": [
    {
     "name": "stdout",
     "output_type": "stream",
     "text": [
      "('1', 'a', 'A')\n",
      "('2', 'b', 'B')\n",
      "('3', 'c', 'C')\n"
     ]
    }
   ],
   "source": [
    "for i in res:\n",
    "    print(i)"
   ]
  },
  {
   "cell_type": "code",
   "execution_count": 47,
   "metadata": {},
   "outputs": [
    {
     "name": "stdout",
     "output_type": "stream",
     "text": [
      "('1', 'a', 'A')\n",
      "('2', 'b', 'B')\n"
     ]
    }
   ],
   "source": [
    "print(next(res))\n",
    "print(next(res))"
   ]
  },
  {
   "cell_type": "code",
   "execution_count": 48,
   "metadata": {},
   "outputs": [
    {
     "name": "stdout",
     "output_type": "stream",
     "text": [
      "[(1, 22), (2, 33), (3, 44), (4, 55)]\n"
     ]
    }
   ],
   "source": [
    "n1 = [1, 2, 3, 4]\n",
    "n2 = [22, 33, 44, 55]\n",
    "res = zip(n1, n2)\n",
    "print(list(res))"
   ]
  },
  {
   "cell_type": "code",
   "execution_count": 54,
   "metadata": {},
   "outputs": [
    {
     "name": "stdout",
     "output_type": "stream",
     "text": [
      "<zip object at 0x107b8d200>\n",
      "(1, 4) (2, 5) (3, 6)\n"
     ]
    }
   ],
   "source": [
    "# zip 与 * 运算符相结合使用\n",
    "x = [1, 2, 3]\n",
    "y = [4, 5, 6]\n",
    "\n",
    "print(zip(x, y))\n",
    "print(*zip(x, y))"
   ]
  },
  {
   "cell_type": "code",
   "execution_count": 56,
   "metadata": {},
   "outputs": [
    {
     "name": "stdout",
     "output_type": "stream",
     "text": [
      "(1, 2, 3) (4, 5, 6)\n"
     ]
    }
   ],
   "source": [
    "x1 = [1, 2, 3]\n",
    "y1 = [4, 5, 6]\n",
    "\n",
    "x2, y2 = zip(*zip(x, y))\n",
    "print(x2, y2)"
   ]
  },
  {
   "cell_type": "code",
   "execution_count": 59,
   "metadata": {},
   "outputs": [
    {
     "name": "stdout",
     "output_type": "stream",
     "text": [
      "99.99\n"
     ]
    }
   ],
   "source": [
    "print(abs(-99.99))"
   ]
  },
  {
   "cell_type": "code",
   "execution_count": 58,
   "metadata": {},
   "outputs": [
    {
     "name": "stdout",
     "output_type": "stream",
     "text": [
      "4\n",
      "4\n"
     ]
    }
   ],
   "source": [
    "print(round(3.5))\n",
    "print(round(4.5))"
   ]
  },
  {
   "cell_type": "code",
   "execution_count": 60,
   "metadata": {},
   "outputs": [
    {
     "name": "stdout",
     "output_type": "stream",
     "text": [
      "6\n"
     ]
    }
   ],
   "source": [
    "print(sum([1,2,3]))"
   ]
  },
  {
   "cell_type": "code",
   "execution_count": 61,
   "metadata": {},
   "outputs": [
    {
     "name": "stdout",
     "output_type": "stream",
     "text": [
      "3\n",
      "99\n"
     ]
    }
   ],
   "source": [
    "print(max([1,2,3]))\n",
    "print(max(99,12,45))"
   ]
  },
  {
   "cell_type": "code",
   "execution_count": 62,
   "metadata": {},
   "outputs": [
    {
     "name": "stdout",
     "output_type": "stream",
     "text": [
      "-9\n",
      "-2\n"
     ]
    }
   ],
   "source": [
    "print(min([2,1,6,-9]))\n",
    "print(min(6,7,1,0,-2))"
   ]
  },
  {
   "cell_type": "code",
   "execution_count": 63,
   "metadata": {},
   "outputs": [
    {
     "name": "stdout",
     "output_type": "stream",
     "text": [
      "8\n"
     ]
    }
   ],
   "source": [
    "print(pow(2,3))"
   ]
  },
  {
   "cell_type": "code",
   "execution_count": 64,
   "metadata": {},
   "outputs": [
    {
     "name": "stdout",
     "output_type": "stream",
     "text": [
      "3\n",
      "3.14\n"
     ]
    }
   ],
   "source": [
    "print(round(3.1415926))\n",
    "print(round(3.1415926,2))"
   ]
  },
  {
   "cell_type": "code",
   "execution_count": 65,
   "metadata": {},
   "outputs": [
    {
     "name": "stdout",
     "output_type": "stream",
     "text": [
      "0b1111011\n"
     ]
    }
   ],
   "source": [
    "print(bin(123)) "
   ]
  },
  {
   "cell_type": "code",
   "execution_count": 66,
   "metadata": {},
   "outputs": [
    {
     "name": "stdout",
     "output_type": "stream",
     "text": [
      "123\n"
     ]
    }
   ],
   "source": [
    "print(int(0b1111011))"
   ]
  },
  {
   "cell_type": "code",
   "execution_count": 70,
   "metadata": {},
   "outputs": [
    {
     "name": "stdout",
     "output_type": "stream",
     "text": [
      "0o173\n"
     ]
    }
   ],
   "source": [
    "print(oct(123))"
   ]
  },
  {
   "cell_type": "code",
   "execution_count": 69,
   "metadata": {},
   "outputs": [
    {
     "name": "stdout",
     "output_type": "stream",
     "text": [
      "0x7b\n"
     ]
    }
   ],
   "source": [
    "print(hex(123))"
   ]
  },
  {
   "cell_type": "code",
   "execution_count": 71,
   "metadata": {},
   "outputs": [
    {
     "name": "stdout",
     "output_type": "stream",
     "text": [
      "97\n"
     ]
    }
   ],
   "source": [
    "print(ord('a'))"
   ]
  },
  {
   "cell_type": "code",
   "execution_count": 72,
   "metadata": {},
   "outputs": [
    {
     "name": "stdout",
     "output_type": "stream",
     "text": [
      "A\n"
     ]
    }
   ],
   "source": [
    "print(chr(65))"
   ]
  },
  {
   "cell_type": "markdown",
   "metadata": {},
   "source": [
    "## sorted"
   ]
  },
  {
   "cell_type": "code",
   "execution_count": 75,
   "metadata": {},
   "outputs": [
    {
     "name": "stdout",
     "output_type": "stream",
     "text": [
      "[-9, 1, 3, 7, 10, 20]\n"
     ]
    }
   ],
   "source": [
    "arr = [3,7,1,-9,20,10]\n",
    "# 默认按照从小到大的方式进行排序\n",
    "res = sorted(arr) \n",
    "print(res)\n"
   ]
  },
  {
   "cell_type": "code",
   "execution_count": 76,
   "metadata": {},
   "outputs": [
    {
     "name": "stdout",
     "output_type": "stream",
     "text": [
      "[20, 10, 7, 3, 1, -9]\n"
     ]
    }
   ],
   "source": [
    "print(sorted(arr,reverse=True))"
   ]
  },
  {
   "cell_type": "code",
   "execution_count": 77,
   "metadata": {},
   "outputs": [
    {
     "name": "stdout",
     "output_type": "stream",
     "text": [
      "[1, 3, 7, -9, 10, 20]\n"
     ]
    }
   ],
   "source": [
    "res = sorted(arr,key=abs)\n",
    "print(res)"
   ]
  },
  {
   "cell_type": "code",
   "execution_count": 82,
   "metadata": {},
   "outputs": [],
   "source": [
    "def func(num):\n",
    "    print(num, num % 2, end=\" \")\n",
    "    print()\n",
    "    return num % 2"
   ]
  },
  {
   "cell_type": "code",
   "execution_count": 83,
   "metadata": {},
   "outputs": [
    {
     "name": "stdout",
     "output_type": "stream",
     "text": [
      "3 1 \n",
      "2 0 \n",
      "4 0 \n",
      "6 0 \n",
      "5 1 \n",
      "7 1 \n",
      "9 1 \n",
      "[2, 4, 6, 3, 5, 7, 9]\n"
     ]
    }
   ],
   "source": [
    "arr = [3,2,4,6,5,7,9]\n",
    "print(sorted(arr, key = func))"
   ]
  },
  {
   "cell_type": "code",
   "execution_count": 84,
   "metadata": {},
   "outputs": [
    {
     "name": "stdout",
     "output_type": "stream",
     "text": [
      "[2, 4, 6, 3, 5, 7, 9]\n"
     ]
    }
   ],
   "source": [
    "# 用匿名函数优化\n",
    "arr = [3,2,4,6,5,7,9]\n",
    "res = sorted(arr, key=lambda num:num%2)\n",
    "print(res)"
   ]
  },
  {
   "cell_type": "markdown",
   "metadata": {},
   "source": [
    "## map()"
   ]
  },
  {
   "cell_type": "code",
   "execution_count": 86,
   "metadata": {},
   "outputs": [
    {
     "name": "stdout",
     "output_type": "stream",
     "text": [
      "[1, 2, 3, 4]\n"
     ]
    }
   ],
   "source": [
    "# 把一个字符串数字的列表转为整型列表\n",
    "items = ['1', '2', '3', '4']\n",
    "new_list = []\n",
    "for i in items:\n",
    "    new_list.append(int(i))\n",
    "\n",
    "print(new_list)"
   ]
  },
  {
   "cell_type": "code",
   "execution_count": 87,
   "metadata": {},
   "outputs": [
    {
     "name": "stdout",
     "output_type": "stream",
     "text": [
      "[1, 2, 3, 4]\n"
     ]
    }
   ],
   "source": [
    "items = ['1', '2', '3', '4']\n",
    "res = map(int, items)\n",
    "print(list(res))"
   ]
  },
  {
   "cell_type": "code",
   "execution_count": 88,
   "metadata": {},
   "outputs": [
    {
     "name": "stdout",
     "output_type": "stream",
     "text": [
      "[1, 4, 9, 16]\n",
      "<map object at 0x107ea5030> [1, 4, 9, 16]\n"
     ]
    }
   ],
   "source": [
    "# 普通方法进行实现\n",
    "items = [1, 2, 3, 4]\n",
    "res = []\n",
    "for i in items:\n",
    "    x = i ** 2\n",
    "    res.append(x)\n",
    "print(res)\n",
    "\n",
    "# 使用 map函数处理\n",
    "items = [1, 2, 3, 4]\n",
    "def func(x):\n",
    "    return x ** 2\n",
    "res = map(func, items)\n",
    "print(res, list(res))"
   ]
  },
  {
   "cell_type": "code",
   "execution_count": 89,
   "metadata": {},
   "outputs": [
    {
     "name": "stdout",
     "output_type": "stream",
     "text": [
      "<map object at 0x107c98610> [1, 4, 9, 16]\n"
     ]
    }
   ],
   "source": [
    "items = [1, 2, 3, 4]\n",
    "res = map(lambda x:x**2, items)\n",
    "print(res,list(res))\n"
   ]
  },
  {
   "cell_type": "markdown",
   "metadata": {},
   "source": [
    "![欢迎订阅：坍缩的奇点](../assets/Capture-2023-11-02-164446.png)"
   ]
  },
  {
   "cell_type": "code",
   "execution_count": null,
   "metadata": {},
   "outputs": [],
   "source": []
  }
 ],
 "metadata": {
  "kernelspec": {
   "display_name": "glm",
   "language": "python",
   "name": "python3"
  },
  "language_info": {
   "codemirror_mode": {
    "name": "ipython",
    "version": 3
   },
   "file_extension": ".py",
   "mimetype": "text/x-python",
   "name": "python",
   "nbconvert_exporter": "python",
   "pygments_lexer": "ipython3",
   "version": "3.10.11"
  },
  "orig_nbformat": 4
 },
 "nbformat": 4,
 "nbformat_minor": 2
}
