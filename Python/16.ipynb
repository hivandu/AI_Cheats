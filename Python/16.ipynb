{
 "cells": [
  {
   "cell_type": "markdown",
   "metadata": {},
   "source": [
    "# 练习：万年历"
   ]
  },
  {
   "cell_type": "code",
   "execution_count": 6,
   "metadata": {},
   "outputs": [
    {
     "name": "stdout",
     "output_type": "stream",
     "text": [
      "(3, 30)\n"
     ]
    }
   ],
   "source": [
    "import calendar\n",
    "\n",
    "res = calendar.monthrange(2023, 6)\n",
    "print(res)"
   ]
  },
  {
   "cell_type": "code",
   "execution_count": 36,
   "metadata": {},
   "outputs": [
    {
     "name": "stdout",
     "output_type": "stream",
     "text": [
      "一   二    三   四   五    六   日\n",
      "               01   02   03   04   \n",
      "05   06   07   08   09   10   11   \n",
      "12   13   14   15   16   17   18   \n",
      "19   20   21   22   23   24   25   \n",
      "26   27   28   29   30             \n"
     ]
    }
   ],
   "source": [
    "days = res[1]\n",
    "week = res[0] + 1\n",
    "\n",
    "print('一   二    三   四   五    六   日')\n",
    "d = 1\n",
    "while d <= days:\n",
    "    # 循环周\n",
    "    for i in range(1, 8):\n",
    "        # 判断是否输出\n",
    "        if d > days or (d==1 and i<week):\n",
    "            print('     ', end='')\n",
    "        else:\n",
    "            print('{:0>2d}'.format(d), end=\"   \")\n",
    "            d+=1\n",
    "    print()\n",
    "\n",
    "\n",
    "        \n",
    "    "
   ]
  },
  {
   "cell_type": "code",
   "execution_count": 48,
   "metadata": {},
   "outputs": [
    {
     "name": "stdout",
     "output_type": "stream",
     "text": [
      "========= 2023 年  7 月 =========\n",
      "一   二    三   四   五    六   日\n",
      "================================\n",
      "                         01   02   \n",
      "03   04   05   06   07   08   09   \n",
      "10   11   12   13   14   15   16   \n",
      "17   18   19   20   21   22   23   \n",
      "24   25   26   27   28   29   30   \n",
      "31                                 \n"
     ]
    }
   ],
   "source": [
    "year = 2023\n",
    "month = 7\n",
    "res = calendar.monthrange(year, month)\n",
    "\n",
    "days = res[1]\n",
    "week = res[0] + 1\n",
    "\n",
    "print(f'========= {year} 年  {month} 月 =========')\n",
    "print('一   二    三   四   五    六   日')\n",
    "print('='*32)\n",
    "d = 1\n",
    "while d <= days:\n",
    "    # 循环周\n",
    "    for i in range(1, 8):\n",
    "        # 判断是否输出\n",
    "        if d > days or (d==1 and i<week):\n",
    "            print('     ', end='')\n",
    "        else:\n",
    "            print('{:0>2d}'.format(d), end=\"   \")\n",
    "            d+=1\n",
    "    print()\n"
   ]
  },
  {
   "cell_type": "code",
   "execution_count": 49,
   "metadata": {},
   "outputs": [
    {
     "name": "stdout",
     "output_type": "stream",
     "text": [
      "========= 2023 年  12 月 =========\n",
      "一   二    三   四   五    六   日\n",
      "================================\n",
      "                    01   02   03   \n",
      "04   05   06   07   08   09   10   \n",
      "11   12   13   14   15   16   17   \n",
      "18   19   20   21   22   23   24   \n",
      "25   26   27   28   29   30   31   \n"
     ]
    }
   ],
   "source": [
    "def showdate(year, month):\n",
    "    res = calendar.monthrange(year, month)\n",
    "\n",
    "    days = res[1] # 当前月份的天数\n",
    "    week = res[0] + 1 # 当前月份第一天是周几\n",
    "\n",
    "    print(f'========= {year} 年  {month} 月 =========')\n",
    "    print('一   二    三   四   五    六   日')\n",
    "    print('='*32)\n",
    "    # 实现日历信息的输出\n",
    "    d = 1\n",
    "    while d <= days:\n",
    "        # 循环周\n",
    "        for i in range(1, 8):\n",
    "            # 判断是否输出\n",
    "            if d > days or (d==1 and i<week):\n",
    "                print('     ', end='')\n",
    "            else:\n",
    "                print('{:0>2d}'.format(d), end=\"   \")\n",
    "                d+=1\n",
    "        print()\n",
    "\n",
    "showdate(2023, 12)"
   ]
  },
  {
   "cell_type": "code",
   "execution_count": 61,
   "metadata": {},
   "outputs": [
    {
     "name": "stdout",
     "output_type": "stream",
     "text": [
      "\u001b[H\u001b[2J========= 2023 年  8 月 =========\n",
      "一   二    三   四   五    六   日\n",
      "================================\n",
      "     01   02   03   04   05   06   \n",
      "07   08   09   10   11   12   13   \n",
      "14   15   16   17   18   19   20   \n",
      "21   22   23   24   25   26   27   \n",
      "28   29   30   31                  \n",
      " < 上一月     下一月 > \n"
     ]
    },
    {
     "name": "stdout",
     "output_type": "stream",
     "text": [
      "\u001b[H\u001b[2J========= 2023 年  9 月 =========\n",
      "一   二    三   四   五    六   日\n",
      "================================\n",
      "                    01   02   03   \n",
      "04   05   06   07   08   09   10   \n",
      "11   12   13   14   15   16   17   \n",
      "18   19   20   21   22   23   24   \n",
      "25   26   27   28   29   30        \n",
      " < 上一月     下一月 > \n",
      "\u001b[H\u001b[2J========= 2023 年  10 月 =========\n",
      "一   二    三   四   五    六   日\n",
      "================================\n",
      "                              01   \n",
      "02   03   04   05   06   07   08   \n",
      "09   10   11   12   13   14   15   \n",
      "16   17   18   19   20   21   22   \n",
      "23   24   25   26   27   28   29   \n",
      "30   31                            \n",
      " < 上一月     下一月 > \n"
     ]
    }
   ],
   "source": [
    "import time,os\n",
    "dd = time.localtime()\n",
    "year = dd.tm_year\n",
    "month = dd.tm_mon\n",
    "\n",
    "while True:\n",
    "    os.system('clear')\n",
    "    # 默认输出当前年月的日历信息\n",
    "    showdate(year, month)\n",
    "    print(' < 上一月     下一月 > ')\n",
    "    c = input('请输入您的选择 \"<\" or \">\"：')\n",
    "    # 判断用户的输入内容\n",
    "    if c == '<':\n",
    "        month -= 1\n",
    "        if month < 1:\n",
    "            month = 12\n",
    "            year -= 1\n",
    "    elif c == '>':\n",
    "        month += 1\n",
    "        if month > 12:\n",
    "            month = 1\n",
    "            year += 1\n",
    "    elif c == 'exit':\n",
    "        break\n",
    "    else:\n",
    "        print('您输入内容错误，请重新输入\"<\"或者\">\"来选择。')"
   ]
  },
  {
   "cell_type": "markdown",
   "metadata": {},
   "source": [
    "![欢迎订阅：坍缩的奇点](../assets/Capture-2023-11-02-164446.png)"
   ]
  },
  {
   "cell_type": "code",
   "execution_count": null,
   "metadata": {},
   "outputs": [],
   "source": []
  },
  {
   "cell_type": "code",
   "execution_count": null,
   "metadata": {},
   "outputs": [],
   "source": []
  }
 ],
 "metadata": {
  "kernelspec": {
   "display_name": "base",
   "language": "python",
   "name": "python3"
  },
  "language_info": {
   "codemirror_mode": {
    "name": "ipython",
    "version": 3
   },
   "file_extension": ".py",
   "mimetype": "text/x-python",
   "name": "python",
   "nbconvert_exporter": "python",
   "pygments_lexer": "ipython3",
   "version": "3.10.12"
  },
  "orig_nbformat": 4
 },
 "nbformat": 4,
 "nbformat_minor": 2
}
