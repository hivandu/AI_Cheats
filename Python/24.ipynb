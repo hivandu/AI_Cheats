{
 "cells": [
  {
   "cell_type": "markdown",
   "metadata": {},
   "source": [
    "# 装饰器"
   ]
  },
  {
   "cell_type": "code",
   "execution_count": 7,
   "metadata": {},
   "outputs": [],
   "source": [
    "# 定义外函数，接受一个函数作为参数\n",
    "def outer(f):\n",
    "    # 定义内函数， 并且在内函数中调用了外函数的参数\n",
    "    def inner():\n",
    "        print('我是外函数中的内函数1')\n",
    "        f()\n",
    "        print('我是外函数中的内函数2')\n",
    "    return inner\n",
    "\n",
    "# 定义一个普通函数\n",
    "def old():\n",
    "    print('我是一个普通的函数')\n",
    "\n",
    "# old() # 作为普通函数直接调用\n",
    "\n",
    "old = outer(old) # outer返回了inner函数，赋值给了old\n",
    "# old()"
   ]
  },
  {
   "cell_type": "code",
   "execution_count": 8,
   "metadata": {},
   "outputs": [
    {
     "name": "stdout",
     "output_type": "stream",
     "text": [
      "我是外函数中的内函数1\n",
      "我是一个普通的函数\n",
      "我是外函数中的内函数2\n"
     ]
    }
   ],
   "source": [
    "# 装饰器用法\n",
    "@outer # 此处将outer作为了装饰器\n",
    "def old():\n",
    "    print('我是一个普通的函数')\n",
    "\n",
    "old()"
   ]
  },
  {
   "cell_type": "code",
   "execution_count": 18,
   "metadata": {},
   "outputs": [
    {
     "name": "stdout",
     "output_type": "stream",
     "text": [
      "0 1 2 3 4 \n",
      "函数的调用执行时间为：5.017888417001814\n"
     ]
    }
   ],
   "source": [
    "import time\n",
    "\n",
    "# 定义一个统计函数执行时间的装饰器\n",
    "def runtime(f):\n",
    "    def inner():\n",
    "        start = time.perf_counter()\n",
    "        f()\n",
    "        end = time.perf_counter() - start\n",
    "        print(f'\\n函数的调用执行时间为：{end}')\n",
    "    return inner\n",
    "\n",
    "\n",
    "# 定义一个普通函数\n",
    "@runtime\n",
    "def func():\n",
    "  for i in range(5):\n",
    "    print(i, end=\" \")\n",
    "    time.sleep(1)\n",
    "\n",
    "# func = runtime(func)\n",
    "func()"
   ]
  },
  {
   "cell_type": "code",
   "execution_count": 25,
   "metadata": {},
   "outputs": [
    {
     "name": "stdout",
     "output_type": "stream",
     "text": [
      "找妹子要微信，成功... 1\n",
      "和妹子一起吃了个大餐.. 2\n",
      "跟妹子畅谈人生和理想... 3\n",
      "和妹子看了一场夜场电影... 4\n",
      "送妹子回家... 5\n"
     ]
    }
   ],
   "source": [
    "def begin(f):\n",
    "    def begin_inner():\n",
    "        print('找妹子要微信，成功... 1')\n",
    "        f()\n",
    "        print('送妹子回家... 5')\n",
    "    return begin_inner\n",
    "\n",
    "def evolve(f):\n",
    "    def evolve_inner():\n",
    "        print('和妹子一起吃了个大餐.. 2')\n",
    "        f()\n",
    "        print('和妹子看了一场夜场电影... 4')\n",
    "    return evolve_inner\n",
    "\n",
    "@begin\n",
    "@evolve\n",
    "def love():\n",
    "    print('跟妹子畅谈人生和理想... 3')\n",
    "\n",
    "love()"
   ]
  },
  {
   "cell_type": "code",
   "execution_count": 33,
   "metadata": {},
   "outputs": [
    {
     "name": "stdout",
     "output_type": "stream",
     "text": [
      "找到露思妹子，成功的拿到了微信...\n",
      "跟露思妹子在___畅谈人生...\n",
      "约露思妹子去看一场午夜电影...\n"
     ]
    }
   ],
   "source": [
    "# 定义装饰器\n",
    "def outer(f):\n",
    "    def inner(var):\n",
    "        print(f'找到{var}妹子，成功的拿到了微信...')\n",
    "        f(var)\n",
    "        print(f'约{var}妹子去看一场午夜电影...')\n",
    "    return inner\n",
    "\n",
    "# 带有参数的函数\n",
    "@outer\n",
    "def love(name):\n",
    "    print(f'跟{name}妹子在___畅谈人生...')\n",
    "\n",
    "love('露思')"
   ]
  },
  {
   "cell_type": "code",
   "execution_count": 34,
   "metadata": {},
   "outputs": [
    {
     "name": "stdout",
     "output_type": "stream",
     "text": [
      "找到露思妹子，成功的拿到了微信...\n",
      "跟露思妹子在___畅谈人生...\n",
      "约露思妹子去看一场午夜电影...\n"
     ]
    }
   ],
   "source": [
    "# 定义装饰器\n",
    "def outer(f):\n",
    "    def inner(var):\n",
    "        print(f'找到{var}妹子，成功的拿到了微信...')\n",
    "        f(var)\n",
    "        print(f'约{var}妹子去看一场午夜电影...')\n",
    "    return inner\n",
    "\n",
    "# 带有参数的函数\n",
    "@outer\n",
    "def love(name):\n",
    "    print(f'跟{name}妹子在___畅谈人生...')\n",
    "\n",
    "love('露思')"
   ]
  },
  {
   "cell_type": "code",
   "execution_count": 37,
   "metadata": {},
   "outputs": [
    {
     "name": "stdout",
     "output_type": "stream",
     "text": [
      "茶桁要到了露思妹子的微信...\n",
      "茶桁跟露思畅谈人生...\n",
      "带着露思妹子去吃了很多美食： ('火锅', '海鲜', '饭后甜点')\n",
      "和露思妹子看了夜场电影: {'mov': '封神第一部'}\n",
      "天色渐晚...\n"
     ]
    }
   ],
   "source": [
    "# 装饰带有多参数的函数\n",
    "def outer(f):\n",
    "    def inner(man,name,*args,**kwargs):\n",
    "        print(f'{man}要到了{name}妹子的微信...')\n",
    "        f(man, name, *args, **kwargs)\n",
    "        print('天色渐晚...')\n",
    "    return inner\n",
    "\n",
    "# 定义多参数的函数\n",
    "@outer\n",
    "def love(man, name, *args, **kwargs):\n",
    "    print(f'{man}跟{name}畅谈人生...')\n",
    "    print(f'带着{name}妹子去吃了很多美食：', args)\n",
    "    print(f'和{name}妹子看了夜场电影:', kwargs)\n",
    "\n",
    "love('茶桁','露思', '火锅', '海鲜', '饭后甜点', mov='封神第一部')"
   ]
  },
  {
   "cell_type": "code",
   "execution_count": 38,
   "metadata": {},
   "outputs": [
    {
     "name": "stdout",
     "output_type": "stream",
     "text": [
      "妹子给了你她闺蜜的微信\n"
     ]
    }
   ],
   "source": [
    "def put(var):\n",
    "    def outer(f):\n",
    "        def inner1():\n",
    "            print('妹子给了你微信')\n",
    "        def inner2():\n",
    "            print('妹子给了你她闺蜜的微信')\n",
    "        def inner3():\n",
    "            print('妹子送了你一句感人肺腑的话：滚...')\n",
    "\n",
    "        # 装饰器壳的参数，可以用于在函数内去做流程控制。\n",
    "        if var == 1:\n",
    "            return inner1\n",
    "        elif var == 2:\n",
    "            return inner2\n",
    "        else:\n",
    "            return inner3\n",
    "    return outer\n",
    "\n",
    "@put(2)\n",
    "def love():\n",
    "    print('畅谈人生...')\n",
    "\n",
    "love()"
   ]
  },
  {
   "cell_type": "code",
   "execution_count": 42,
   "metadata": {},
   "outputs": [
    {
     "name": "stdout",
     "output_type": "stream",
     "text": [
      "拿到妹子的微信...\n",
      "茶桁和妹子谈理想与人生...\n",
      "看一场午夜电影...\n",
      "<bound method Outer.inner of <__main__.Outer object at 0x106646c80>>\n"
     ]
    }
   ],
   "source": [
    "# 类装饰器装饰函数\n",
    "class Outer():\n",
    "\n",
    "    # 魔术方法：当把该类的对象当作函数调用时，自动触发obj()\n",
    "    def __call__(self, func):\n",
    "        # 把传进来的函数作为对象的成员方法\n",
    "        self.func = func \n",
    "        # 返回一个函数\n",
    "        return self.inner\n",
    "    \n",
    "    # 在定义的需要返回的新方法中，去进行装饰和处理\n",
    "    def inner(self, who):\n",
    "        print('拿到妹子的微信...')\n",
    "        self.func(who)\n",
    "        print('看一场午夜电影...')\n",
    "'''\n",
    "Outer() 实例化对象 => obj\n",
    "@obj 就等于 obj(love)\n",
    "进入类后 => __call__(love)\n",
    "接收返回参数`inner()`\n",
    "'''\n",
    "@Outer()\n",
    "def love(who):\n",
    "    print(f'{who}和妹子谈理想与人生...')\n",
    "\n",
    "# inner('茶桁')\n",
    "love('茶桁')\n",
    "# 此时的love就是属于`Outer`类这个对象中的inner方法\n",
    "print(love)"
   ]
  },
  {
   "cell_type": "code",
   "execution_count": 44,
   "metadata": {},
   "outputs": [
    {
     "name": "stdout",
     "output_type": "stream",
     "text": [
      "拿到妹子微信...\n",
      "和妹子谈谈人生喝喝茶...\n",
      "看一场午夜电影...\n"
     ]
    }
   ],
   "source": [
    "# 用类方法装饰函数\n",
    "class Outer():\n",
    "    def newinner(f):\n",
    "        # 把传递进来的函数定义为类方法\n",
    "        Outer.func = f\n",
    "        # 同时返回一个新的类方法\n",
    "        return Outer.inner\n",
    "    \n",
    "    def inner():\n",
    "        print('拿到妹子微信...')\n",
    "        Outer.func()\n",
    "        print('看一场午夜电影...')\n",
    "\n",
    "'''\n",
    "Outer.newinner(love) \n",
    "接收返回参数：Outer.inner\n",
    "'''\n",
    "\n",
    "@Outer.newinner\n",
    "def love():\n",
    "    print('和妹子谈谈人生喝喝茶...')\n",
    "# love() 等于 Outer.inner()\n",
    "love()"
   ]
  },
  {
   "cell_type": "code",
   "execution_count": 45,
   "metadata": {},
   "outputs": [
    {
     "name": "stdout",
     "output_type": "stream",
     "text": [
      "我是Demo类中定义的func方法\n",
      "我是在装饰器中追加的新方法，func2\n",
      "我是在装饰器中追加的新属性 name\n"
     ]
    }
   ],
   "source": [
    "# 定义函数，接收一个类。返回修改后的类\n",
    "def expand(cls):\n",
    "    def func2():\n",
    "        print('我是在装饰器中追加的新方法，func2')\n",
    "    cls.func2 = func2 # 把刚才定义的方法赋值给 类\n",
    "    cls.name = '我是在装饰器中追加的新属性 name'\n",
    "\n",
    "    # 返回时，把追加类新成员的类返回去\n",
    "    return cls\n",
    "\n",
    "\n",
    "@expand   # expand(Demo) ==> cls ==> Demo\n",
    "class Demo():\n",
    "    def func():\n",
    "        print('我是Demo类中定义的func方法')\n",
    "\n",
    "Demo.func() # 此时在调用的Demo类是通过装饰器，更新过的Demo类\n",
    "Demo.func2()\n",
    "print(Demo.name)"
   ]
  },
  {
   "cell_type": "code",
   "execution_count": 47,
   "metadata": {},
   "outputs": [
    {
     "name": "stdout",
     "output_type": "stream",
     "text": [
      "我是Demo类中定义的func方法\n",
      "我是在类装饰器中追加的新方法 func2\n",
      "我是在类装饰器中追加的新属性 name\n",
      "<__main__.Demo object at 0x106647610>\n"
     ]
    },
    {
     "data": {
      "text/plain": [
       "'\\n此时的obj依然是Demo类的实例化对象，只不过经过装饰后，增加了新的属性和方法\\n'"
      ]
     },
     "execution_count": 47,
     "metadata": {},
     "output_type": "execute_result"
    }
   ],
   "source": [
    "# 使用类装饰器装饰类\n",
    "class expand():\n",
    "    def __call__(self, cls):\n",
    "        # 把接收的类，赋值给当前对象，作为一个属性\n",
    "        self.cls = cls\n",
    "        # 返回一个函数\n",
    "        return self.newfunc\n",
    "\n",
    "    def newfunc(self):\n",
    "        self.cls.name = '我是在类装饰器中追加的新属性 name'\n",
    "        self.cls.func2 = self.func2\n",
    "        # 返回传递进来的类的实例化结果，obj\n",
    "        return self.cls()\n",
    "\n",
    "    def func2(self):\n",
    "        print('我是在类装饰器中追加的新方法 func2')\n",
    "\n",
    "\n",
    "'''\n",
    "expand() ==> obj ==> @obj(Demo) ==> __call__(Demo) ==> newfunc\n",
    "'''\n",
    "@expand() \n",
    "class Demo():\n",
    "    def func(self):\n",
    "        print('我是Demo类中定义的func方法')\n",
    "\n",
    "obj = Demo()  # Demo() ==> newfunc() ==> obj\n",
    "obj.func()\n",
    "obj.func2()\n",
    "print(obj.name)\n",
    "\n",
    "# 思考:此时的 obj这个对象，是哪个类的对象。Demo还是expand\n",
    "print(obj) \n",
    "\n",
    "\n",
    "'''\n",
    "此时的obj依然是Demo类的实例化对象，只不过经过装饰后，增加了新的属性和方法\n",
    "'''"
   ]
  },
  {
   "cell_type": "markdown",
   "metadata": {},
   "source": [
    "![欢迎订阅：坍缩的奇点](../assets/Capture-2023-11-02-164446.png)"
   ]
  },
  {
   "cell_type": "code",
   "execution_count": null,
   "metadata": {},
   "outputs": [],
   "source": []
  }
 ],
 "metadata": {
  "kernelspec": {
   "display_name": "base",
   "language": "python",
   "name": "python3"
  },
  "language_info": {
   "codemirror_mode": {
    "name": "ipython",
    "version": 3
   },
   "file_extension": ".py",
   "mimetype": "text/x-python",
   "name": "python",
   "nbconvert_exporter": "python",
   "pygments_lexer": "ipython3",
   "version": "3.10.12"
  },
  "orig_nbformat": 4
 },
 "nbformat": 4,
 "nbformat_minor": 2
}
