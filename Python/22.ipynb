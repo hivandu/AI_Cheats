{
 "cells": [
  {
   "cell_type": "markdown",
   "metadata": {},
   "source": [
    "# 面向对象 - 高阶"
   ]
  },
  {
   "cell_type": "code",
   "execution_count": 3,
   "metadata": {},
   "outputs": [
    {
     "name": "stdout",
     "output_type": "stream",
     "text": [
      "{'__module__': '__main__', 'name': 'a', 'age': 20, 'say': <function Demo.say at 0x1117a3e20>, '__dict__': <attribute '__dict__' of 'Demo' objects>, '__weakref__': <attribute '__weakref__' of 'Demo' objects>, '__doc__': None}\n"
     ]
    }
   ],
   "source": [
    "class Demo():\n",
    "    name = 'a'\n",
    "    age = 20\n",
    "\n",
    "    def say(self):\n",
    "        print('say something')\n",
    "\n",
    "# 获取类/对象的所属成员\n",
    "res = Demo.__dict__\n",
    "print(res)"
   ]
  },
  {
   "cell_type": "code",
   "execution_count": 5,
   "metadata": {},
   "outputs": [
    {
     "name": "stdout",
     "output_type": "stream",
     "text": [
      "{'sex': 'female'}\n"
     ]
    }
   ],
   "source": [
    "obj = Demo()\n",
    "obj.sex = 'female'\n",
    "print(obj.__dict__)"
   ]
  },
  {
   "cell_type": "code",
   "execution_count": 8,
   "metadata": {},
   "outputs": [
    {
     "name": "stdout",
     "output_type": "stream",
     "text": [
      "\n",
      "    这里是一个Demo类，主要用于测试\n",
      "    \n"
     ]
    }
   ],
   "source": [
    "class Demo():\n",
    "    '''\n",
    "    这里是一个Demo类，主要用于测试\n",
    "    '''\n",
    "    pass\n",
    "\n",
    "print(Demo.__doc__)"
   ]
  },
  {
   "cell_type": "code",
   "execution_count": 13,
   "metadata": {},
   "outputs": [
    {
     "name": "stdout",
     "output_type": "stream",
     "text": [
      "Demo\n"
     ]
    }
   ],
   "source": [
    "print(Demo.__name__)"
   ]
  },
  {
   "cell_type": "code",
   "execution_count": 14,
   "metadata": {},
   "outputs": [
    {
     "ename": "AttributeError",
     "evalue": "'Demo' object has no attribute '__name__'",
     "output_type": "error",
     "traceback": [
      "\u001b[0;31m---------------------------------------------------------------------------\u001b[0m",
      "\u001b[0;31mAttributeError\u001b[0m                            Traceback (most recent call last)",
      "Cell \u001b[0;32mIn[14], line 1\u001b[0m\n\u001b[0;32m----> 1\u001b[0m \u001b[39mprint\u001b[39m(obj\u001b[39m.\u001b[39;49m\u001b[39m__name__\u001b[39;49m)\n",
      "\u001b[0;31mAttributeError\u001b[0m: 'Demo' object has no attribute '__name__'"
     ]
    }
   ],
   "source": [
    "print(obj.__name__)"
   ]
  },
  {
   "cell_type": "code",
   "execution_count": 19,
   "metadata": {},
   "outputs": [
    {
     "name": "stdout",
     "output_type": "stream",
     "text": [
      "__main__\n",
      "__main__\n"
     ]
    }
   ],
   "source": [
    "print(Demo.__module__)\n",
    "print(obj.__module__)"
   ]
  },
  {
   "cell_type": "code",
   "execution_count": 25,
   "metadata": {},
   "outputs": [
    {
     "name": "stdout",
     "output_type": "stream",
     "text": [
      "<class '__main__.A'>\n",
      "(<class '__main__.A'>, <class '__main__.Demo'>)\n"
     ]
    }
   ],
   "source": [
    "class A(Demo):\n",
    "    pass\n",
    "class B(A, Demo):\n",
    "    pass\n",
    "\n",
    "print(B.__base__)\n",
    "print(B.__bases__)"
   ]
  },
  {
   "cell_type": "code",
   "execution_count": 26,
   "metadata": {},
   "outputs": [
    {
     "name": "stdout",
     "output_type": "stream",
     "text": [
      "(<class '__main__.B'>, <class '__main__.A'>, <class '__main__.Demo'>, <class 'object'>)\n"
     ]
    }
   ],
   "source": [
    "print(B.__mro__)"
   ]
  },
  {
   "cell_type": "markdown",
   "metadata": {},
   "source": [
    "## 方法的分类"
   ]
  },
  {
   "cell_type": "code",
   "execution_count": 5,
   "metadata": {},
   "outputs": [
    {
     "name": "stdout",
     "output_type": "stream",
     "text": [
      "<__main__.Demo object at 0x110deb550>\n",
      "this is objFunc\n",
      "<class '__main__.Demo'>\n",
      "this is cls function: clsFunc\n",
      "<class '__main__.Demo'>\n",
      "this is cls function: clsFunc\n",
      "this is bind Class function: bindClassFunc\n",
      "a:static, b:class\n",
      "this is static method func\n",
      "a:static, b:obj\n",
      "this is static method func\n"
     ]
    }
   ],
   "source": [
    "class Demo():\n",
    "    # 对象方法\n",
    "    def objFunc(self):\n",
    "        print(self)\n",
    "        print('this is objFunc')\n",
    "\n",
    "    # 类方法\n",
    "    @classmethod # 装饰器\n",
    "    def clsFunc(cls):\n",
    "        print(cls)\n",
    "        print('this is cls function: clsFunc')\n",
    "\n",
    "    # 绑定类方法\n",
    "    def bindClassFunc():\n",
    "        print('this is bind Class function: bindClassFunc')\n",
    "    \n",
    "    # 静态类方法\n",
    "    @staticmethod\n",
    "    def staticFunc(a, b):\n",
    "        print(f'a:{a}, b:{b}')\n",
    "        print('this is static method func')\n",
    "\n",
    "# 实例化对象\n",
    "obj = Demo()\n",
    "obj.objFunc()\n",
    "\n",
    "Demo.clsFunc()\n",
    "obj.clsFunc()\n",
    "\n",
    "Demo.bindClassFunc()\n",
    "# obj.bindClassFunc()\n",
    "\n",
    "Demo.staticFunc('static', 'class')\n",
    "obj.staticFunc('static', 'obj')"
   ]
  },
  {
   "cell_type": "markdown",
   "metadata": {},
   "source": []
  },
  {
   "cell_type": "code",
   "execution_count": 30,
   "metadata": {},
   "outputs": [
    {
     "name": "stdout",
     "output_type": "stream",
     "text": [
      "a\n",
      "this is func1\n"
     ]
    }
   ],
   "source": [
    "Demo.objFunc('a')"
   ]
  },
  {
   "cell_type": "markdown",
   "metadata": {},
   "source": [
    "## 常用函数"
   ]
  },
  {
   "cell_type": "code",
   "execution_count": 13,
   "metadata": {},
   "outputs": [
    {
     "name": "stdout",
     "output_type": "stream",
     "text": [
      "True\n",
      "True\n",
      "True\n"
     ]
    }
   ],
   "source": [
    "class A(): \n",
    "    pass\n",
    "\n",
    "class B(A): \n",
    "    pass\n",
    "\n",
    "class C(A): \n",
    "    pass\n",
    "\n",
    "class D(B, C): \n",
    "    pass\n",
    "\n",
    "# issubclass()\n",
    "print(issubclass(D, A))\n",
    "\n",
    "obj = D()\n",
    "print(isinstance(obj, D))\n",
    "print(isinstance(obj, B))"
   ]
  },
  {
   "cell_type": "code",
   "execution_count": 14,
   "metadata": {},
   "outputs": [
    {
     "name": "stdout",
     "output_type": "stream",
     "text": [
      "True\n"
     ]
    }
   ],
   "source": [
    "B.name = '张三'\n",
    "print(hasattr(obj, 'name'))"
   ]
  },
  {
   "cell_type": "code",
   "execution_count": 16,
   "metadata": {},
   "outputs": [
    {
     "name": "stdout",
     "output_type": "stream",
     "text": [
      "20\n",
      "False\n"
     ]
    }
   ],
   "source": [
    "objB = B()\n",
    "D.age = 20\n",
    "print(D.age)\n",
    "print(hasattr(objB, 'age'))"
   ]
  },
  {
   "cell_type": "code",
   "execution_count": 18,
   "metadata": {},
   "outputs": [
    {
     "name": "stdout",
     "output_type": "stream",
     "text": [
      "20\n",
      "张三\n"
     ]
    }
   ],
   "source": [
    "print(getattr(obj, 'age'))\n",
    "print(getattr(objB, 'name'))"
   ]
  },
  {
   "cell_type": "code",
   "execution_count": 19,
   "metadata": {},
   "outputs": [
    {
     "ename": "AttributeError",
     "evalue": "'B' object has no attribute 'age'",
     "output_type": "error",
     "traceback": [
      "\u001b[0;31m---------------------------------------------------------------------------\u001b[0m",
      "\u001b[0;31mAttributeError\u001b[0m                            Traceback (most recent call last)",
      "Cell \u001b[0;32mIn[19], line 1\u001b[0m\n\u001b[0;32m----> 1\u001b[0m \u001b[39mprint\u001b[39m(\u001b[39mgetattr\u001b[39;49m(objB, \u001b[39m'\u001b[39;49m\u001b[39mage\u001b[39;49m\u001b[39m'\u001b[39;49m))\n",
      "\u001b[0;31mAttributeError\u001b[0m: 'B' object has no attribute 'age'"
     ]
    }
   ],
   "source": [
    "print(getattr(objB, 'age'))"
   ]
  },
  {
   "cell_type": "code",
   "execution_count": 33,
   "metadata": {},
   "outputs": [
    {
     "name": "stdout",
     "output_type": "stream",
     "text": [
      "None\n",
      "du\n"
     ]
    }
   ],
   "source": [
    "print(setattr(obj, 'name', 'du'))\n",
    "print(obj.name)"
   ]
  },
  {
   "cell_type": "code",
   "execution_count": 34,
   "metadata": {},
   "outputs": [
    {
     "name": "stdout",
     "output_type": "stream",
     "text": [
      "None\n",
      "张三\n"
     ]
    }
   ],
   "source": [
    "print(delattr(obj, 'name'))\n",
    "print(obj.name)"
   ]
  },
  {
   "cell_type": "code",
   "execution_count": 36,
   "metadata": {},
   "outputs": [
    {
     "name": "stdout",
     "output_type": "stream",
     "text": [
      "small\n"
     ]
    },
    {
     "ename": "AttributeError",
     "evalue": "'D' object has no attribute 'size'",
     "output_type": "error",
     "traceback": [
      "\u001b[0;31m---------------------------------------------------------------------------\u001b[0m",
      "\u001b[0;31mAttributeError\u001b[0m                            Traceback (most recent call last)",
      "Cell \u001b[0;32mIn[36], line 4\u001b[0m\n\u001b[1;32m      2\u001b[0m \u001b[39mprint\u001b[39m(obj\u001b[39m.\u001b[39msize)\n\u001b[1;32m      3\u001b[0m \u001b[39mdelattr\u001b[39m(obj, \u001b[39m'\u001b[39m\u001b[39msize\u001b[39m\u001b[39m'\u001b[39m)\n\u001b[0;32m----> 4\u001b[0m \u001b[39mprint\u001b[39m(obj\u001b[39m.\u001b[39;49msize)\n",
      "\u001b[0;31mAttributeError\u001b[0m: 'D' object has no attribute 'size'"
     ]
    }
   ],
   "source": [
    "setattr(obj, 'size', 'small')\n",
    "print(obj.size)\n",
    "delattr(obj, 'size')\n",
    "print(obj.size)"
   ]
  },
  {
   "cell_type": "code",
   "execution_count": 37,
   "metadata": {},
   "outputs": [
    {
     "name": "stdout",
     "output_type": "stream",
     "text": [
      "['__class__', '__delattr__', '__dict__', '__dir__', '__doc__', '__eq__', '__format__', '__ge__', '__getattribute__', '__gt__', '__hash__', '__init__', '__init_subclass__', '__le__', '__lt__', '__module__', '__ne__', '__new__', '__reduce__', '__reduce_ex__', '__repr__', '__setattr__', '__sizeof__', '__str__', '__subclasshook__', '__weakref__', 'age', 'name']\n"
     ]
    }
   ],
   "source": [
    "res = dir(obj)\n",
    "print(res)"
   ]
  },
  {
   "cell_type": "code",
   "execution_count": 45,
   "metadata": {},
   "outputs": [
    {
     "name": "stdout",
     "output_type": "stream",
     "text": [
      "Sex:female\n"
     ]
    },
    {
     "ename": "AttributeError",
     "evalue": "'D' object has no attribute '__sex'",
     "output_type": "error",
     "traceback": [
      "\u001b[0;31m---------------------------------------------------------------------------\u001b[0m",
      "\u001b[0;31mAttributeError\u001b[0m                            Traceback (most recent call last)",
      "Cell \u001b[0;32mIn[45], line 9\u001b[0m\n\u001b[1;32m      6\u001b[0m     \u001b[39mprint\u001b[39m(\u001b[39mf\u001b[39m\u001b[39m'\u001b[39m\u001b[39mSex:\u001b[39m\u001b[39m{\u001b[39;00m__sex\u001b[39m}\u001b[39;00m\u001b[39m'\u001b[39m)\n\u001b[1;32m      8\u001b[0m obj \u001b[39m=\u001b[39m D()\n\u001b[0;32m----> 9\u001b[0m \u001b[39mgetattr\u001b[39;49m(obj, \u001b[39m'\u001b[39;49m\u001b[39m__sex\u001b[39;49m\u001b[39m'\u001b[39;49m)\n",
      "\u001b[0;31mAttributeError\u001b[0m: 'D' object has no attribute '__sex'"
     ]
    }
   ],
   "source": [
    "class D():\n",
    "    name = '张三'\n",
    "    _age = 25\n",
    "    __sex = 'female'\n",
    "\n",
    "    print(f'Sex:{__sex}')\n",
    "\n",
    "obj = D()\n",
    "getattr(obj, '__sex')\n"
   ]
  },
  {
   "cell_type": "code",
   "execution_count": 47,
   "metadata": {},
   "outputs": [
    {
     "name": "stdout",
     "output_type": "stream",
     "text": [
      "['_D__sex', '__class__', '__delattr__', '__dict__', '__dir__', '__doc__', '__eq__', '__format__', '__ge__', '__getattribute__', '__gt__', '__hash__', '__init__', '__init_subclass__', '__le__', '__lt__', '__module__', '__ne__', '__new__', '__reduce__', '__reduce_ex__', '__repr__', '__setattr__', '__sizeof__', '__str__', '__subclasshook__', '__weakref__', '_age', 'name']\n"
     ]
    }
   ],
   "source": [
    "res = dir(obj)\n",
    "print(res)"
   ]
  },
  {
   "cell_type": "code",
   "execution_count": 50,
   "metadata": {},
   "outputs": [
    {
     "ename": "AttributeError",
     "evalue": "'D' object has no attribute '_D_age'",
     "output_type": "error",
     "traceback": [
      "\u001b[0;31m---------------------------------------------------------------------------\u001b[0m",
      "\u001b[0;31mAttributeError\u001b[0m                            Traceback (most recent call last)",
      "Cell \u001b[0;32mIn[50], line 2\u001b[0m\n\u001b[1;32m      1\u001b[0m \u001b[39mgetattr\u001b[39m(obj, \u001b[39m'\u001b[39m\u001b[39m_D__sex\u001b[39m\u001b[39m'\u001b[39m)\n\u001b[0;32m----> 2\u001b[0m \u001b[39mprint\u001b[39m(obj\u001b[39m.\u001b[39;49m_D_age)\n",
      "\u001b[0;31mAttributeError\u001b[0m: 'D' object has no attribute '_D_age'"
     ]
    }
   ],
   "source": [
    "getattr(obj, '_D__sex')"
   ]
  },
  {
   "cell_type": "markdown",
   "metadata": {},
   "source": [
    "## 魔术方法"
   ]
  },
  {
   "cell_type": "code",
   "execution_count": 4,
   "metadata": {},
   "outputs": [
    {
     "name": "stdout",
     "output_type": "stream",
     "text": [
      "('张三丰', 210, '男')\n",
      "<class '__main__.Person'>\n",
      "触发初始化方法:__init__\n",
      "触发了析构方法:__del__\n",
      "<__main__.Person object at 0x1104158d0>\n",
      "你把对象当成了函数进行调用。\n"
     ]
    }
   ],
   "source": [
    "# 定义一个人\n",
    "class Person():\n",
    "\n",
    "    # 构造方法\n",
    "    def __new__(cls, *args, **kwargs):\n",
    "        print(args)\n",
    "        # print(kwargs)\n",
    "        print(cls)\n",
    "        return object.__new__(cls)\n",
    "\n",
    "    # 初始化方法\n",
    "    def __init__(self, name, age, sex):\n",
    "        print('触发初始化方法:__init__')\n",
    "        self.name = name\n",
    "        self.age = age\n",
    "        self.sex = sex\n",
    "\n",
    "    def __call__(slef, *args, **kwargs):\n",
    "        print('你把对象当成了函数进行调用。')\n",
    "\n",
    "    # 析构方法\n",
    "    def __del__(self):\n",
    "        print('触发了析构方法:__del__')\n",
    "\n",
    "# 实例化对象\n",
    "zs = Person('张三丰', 210, '男')\n",
    "print(zs)\n",
    "zs()"
   ]
  },
  {
   "cell_type": "code",
   "execution_count": 16,
   "metadata": {},
   "outputs": [
    {
     "name": "stdout",
     "output_type": "stream",
     "text": [
      "0\n",
      "这是一个repr返回的内容。\n",
      "False\n"
     ]
    }
   ],
   "source": [
    "class Demo():\n",
    "    items = []\n",
    "\n",
    "    def __len__(self):\n",
    "        return len(self.items)\n",
    "    \n",
    "    # def __str__(self):\n",
    "    #     return '<__Demo__, 此字符串返回的是茶桁自定义的结果。>'\n",
    "    \n",
    "    def __repr__(self):\n",
    "        return '这是一个repr返回的内容。'\n",
    "    \n",
    "    def __bool__(self):\n",
    "        return bool(self.items)\n",
    "\n",
    "# 实例化对象\n",
    "obj = Demo()\n",
    "# obj.items = [1, 2, 3, 4, 5, 6, 7]\n",
    "print(len(obj))\n",
    "\n",
    "print(obj)\n",
    "\n",
    "res = bool(obj)\n",
    "print(res)"
   ]
  },
  {
   "cell_type": "code",
   "execution_count": 18,
   "metadata": {},
   "outputs": [
    {
     "name": "stdout",
     "output_type": "stream",
     "text": [
      "r1: 521, <class 'str'>\n",
      "r2: 521, <class 'str'>\n"
     ]
    }
   ],
   "source": [
    "num = 521\n",
    "r1 = str(num)\n",
    "r2 = repr(num)\n",
    "print(f'r1: {r1}, {type(r1)}')\n",
    "print(f'r2: {r2}, {type(r2)}')"
   ]
  },
  {
   "cell_type": "code",
   "execution_count": 19,
   "metadata": {},
   "outputs": [
    {
     "name": "stdout",
     "output_type": "stream",
     "text": [
      "r1: 521, <class 'str'>\n",
      "r2: '521', <class 'str'>\n"
     ]
    }
   ],
   "source": [
    "s = '521'\n",
    "r1 = str(s)\n",
    "r2 = repr(s)\n",
    "print(f'r1: {r1}, {type(r1)}')\n",
    "print(f'r2: {r2}, {type(r2)}')"
   ]
  },
  {
   "cell_type": "code",
   "execution_count": 27,
   "metadata": {},
   "outputs": [
    {
     "name": "stdout",
     "output_type": "stream",
     "text": [
      "张三丰\n",
      "男\n"
     ]
    }
   ],
   "source": [
    "class Person():\n",
    "    name = 'name'\n",
    "    age = 0\n",
    "    sex = 'male'\n",
    "\n",
    "    def __init__(self, name, age, sex):\n",
    "        self.name = name\n",
    "        self.age = age\n",
    "        self.sex = sex\n",
    "\n",
    "    def say(self):\n",
    "        print('say something...')\n",
    "\n",
    "    def sing(self):\n",
    "        print('sing a song...')\n",
    "\n",
    "    def __getattribute__(self, item):\n",
    "        # 在方法中使用`object`来获取属性值\n",
    "        res = object.__getattribute__(self, item)\n",
    "        \n",
    "\n",
    "# 实例化对象\n",
    "obj = Person('张三丰', 280, '男')\n",
    "print(obj.name)\n",
    "print(obj.sex)\n"
   ]
  },
  {
   "cell_type": "code",
   "execution_count": null,
   "metadata": {},
   "outputs": [],
   "source": []
  },
  {
   "cell_type": "code",
   "execution_count": null,
   "metadata": {},
   "outputs": [],
   "source": []
  }
 ],
 "metadata": {
  "kernelspec": {
   "display_name": "base",
   "language": "python",
   "name": "python3"
  },
  "language_info": {
   "codemirror_mode": {
    "name": "ipython",
    "version": 3
   },
   "file_extension": ".py",
   "mimetype": "text/x-python",
   "name": "python",
   "nbconvert_exporter": "python",
   "pygments_lexer": "ipython3",
   "version": "3.10.12"
  },
  "orig_nbformat": 4
 },
 "nbformat": 4,
 "nbformat_minor": 2
}
