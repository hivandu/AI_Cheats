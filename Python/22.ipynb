{
 "cells": [
  {
   "cell_type": "markdown",
   "metadata": {},
   "source": [
    "# 面向对象 - 高阶"
   ]
  },
  {
   "cell_type": "code",
   "execution_count": 3,
   "metadata": {},
   "outputs": [
    {
     "name": "stdout",
     "output_type": "stream",
     "text": [
      "{'__module__': '__main__', 'name': 'a', 'age': 20, 'say': <function Demo.say at 0x1117a3e20>, '__dict__': <attribute '__dict__' of 'Demo' objects>, '__weakref__': <attribute '__weakref__' of 'Demo' objects>, '__doc__': None}\n"
     ]
    }
   ],
   "source": [
    "class Demo():\n",
    "    name = 'a'\n",
    "    age = 20\n",
    "\n",
    "    def say(self):\n",
    "        print('say something')\n",
    "\n",
    "# 获取类/对象的所属成员\n",
    "res = Demo.__dict__\n",
    "print(res)"
   ]
  },
  {
   "cell_type": "code",
   "execution_count": 5,
   "metadata": {},
   "outputs": [
    {
     "name": "stdout",
     "output_type": "stream",
     "text": [
      "{'sex': 'female'}\n"
     ]
    }
   ],
   "source": [
    "obj = Demo()\n",
    "obj.sex = 'female'\n",
    "print(obj.__dict__)"
   ]
  },
  {
   "cell_type": "code",
   "execution_count": 8,
   "metadata": {},
   "outputs": [
    {
     "name": "stdout",
     "output_type": "stream",
     "text": [
      "\n",
      "    这里是一个Demo类，主要用于测试\n",
      "    \n"
     ]
    }
   ],
   "source": [
    "class Demo():\n",
    "    '''\n",
    "    这里是一个Demo类，主要用于测试\n",
    "    '''\n",
    "    pass\n",
    "\n",
    "print(Demo.__doc__)"
   ]
  },
  {
   "cell_type": "code",
   "execution_count": 13,
   "metadata": {},
   "outputs": [
    {
     "name": "stdout",
     "output_type": "stream",
     "text": [
      "Demo\n"
     ]
    }
   ],
   "source": [
    "print(Demo.__name__)"
   ]
  },
  {
   "cell_type": "code",
   "execution_count": 14,
   "metadata": {},
   "outputs": [
    {
     "ename": "AttributeError",
     "evalue": "'Demo' object has no attribute '__name__'",
     "output_type": "error",
     "traceback": [
      "\u001b[0;31m---------------------------------------------------------------------------\u001b[0m",
      "\u001b[0;31mAttributeError\u001b[0m                            Traceback (most recent call last)",
      "Cell \u001b[0;32mIn[14], line 1\u001b[0m\n\u001b[0;32m----> 1\u001b[0m \u001b[39mprint\u001b[39m(obj\u001b[39m.\u001b[39;49m\u001b[39m__name__\u001b[39;49m)\n",
      "\u001b[0;31mAttributeError\u001b[0m: 'Demo' object has no attribute '__name__'"
     ]
    }
   ],
   "source": [
    "print(obj.__name__)"
   ]
  },
  {
   "cell_type": "code",
   "execution_count": 19,
   "metadata": {},
   "outputs": [
    {
     "name": "stdout",
     "output_type": "stream",
     "text": [
      "__main__\n",
      "__main__\n"
     ]
    }
   ],
   "source": [
    "print(Demo.__module__)\n",
    "print(obj.__module__)"
   ]
  },
  {
   "cell_type": "code",
   "execution_count": 25,
   "metadata": {},
   "outputs": [
    {
     "name": "stdout",
     "output_type": "stream",
     "text": [
      "<class '__main__.A'>\n",
      "(<class '__main__.A'>, <class '__main__.Demo'>)\n"
     ]
    }
   ],
   "source": [
    "class A(Demo):\n",
    "    pass\n",
    "class B(A, Demo):\n",
    "    pass\n",
    "\n",
    "print(B.__base__)\n",
    "print(B.__bases__)"
   ]
  },
  {
   "cell_type": "code",
   "execution_count": 26,
   "metadata": {},
   "outputs": [
    {
     "name": "stdout",
     "output_type": "stream",
     "text": [
      "(<class '__main__.B'>, <class '__main__.A'>, <class '__main__.Demo'>, <class 'object'>)\n"
     ]
    }
   ],
   "source": [
    "print(B.__mro__)"
   ]
  },
  {
   "cell_type": "markdown",
   "metadata": {},
   "source": [
    "## 方法的分类"
   ]
  },
  {
   "cell_type": "code",
   "execution_count": null,
   "metadata": {},
   "outputs": [],
   "source": []
  }
 ],
 "metadata": {
  "kernelspec": {
   "display_name": "base",
   "language": "python",
   "name": "python3"
  },
  "language_info": {
   "codemirror_mode": {
    "name": "ipython",
    "version": 3
   },
   "file_extension": ".py",
   "mimetype": "text/x-python",
   "name": "python",
   "nbconvert_exporter": "python",
   "pygments_lexer": "ipython3",
   "version": "3.10.12"
  },
  "orig_nbformat": 4
 },
 "nbformat": 4,
 "nbformat_minor": 2
}
