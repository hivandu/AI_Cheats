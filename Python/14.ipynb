{
 "cells": [
  {
   "cell_type": "markdown",
   "metadata": {},
   "source": [
    "# 练习题 注册登录系统"
   ]
  },
  {
   "cell_type": "markdown",
   "metadata": {},
   "source": [
    "## 先实现注册"
   ]
  },
  {
   "cell_type": "code",
   "execution_count": 34,
   "metadata": {},
   "outputs": [
    {
     "name": "stdout",
     "output_type": "stream",
     "text": [
      "当前用户已经存在，请更换用户名。\n",
      "当前用户已经存在，请更换用户名。\n",
      "当前用户已经存在，请更换用户名。\n",
      "注册成功：用户名:wang\n"
     ]
    }
   ],
   "source": [
    "# 先实现注册功能\n",
    "# 专门定义数据变量，存放已经注册的用户信息\n",
    "userdict = {}\n",
    "userlist = []\n",
    "# pwdlist = []\n",
    "\n",
    "# 读取所有的注册信息\n",
    "with open('./data/user.txt', 'a+', encoding=\"utf-8\") as fp:\n",
    "    fp.seek(0,0) # 调整指针到文件头\n",
    "    res = fp.readlines() # 按照每一行读取所有用户数据\n",
    "    for i in res: # 循环读取每一行数据\n",
    "        r = i.strip() # 处理每一行尾部的换行符\n",
    "        mydict = r.split(':')\n",
    "        userdict.update({mydict[0]:mydict[1]})\n",
    "        userlist = userdict.keys()\n",
    "        # print(userdict)\n",
    "\n",
    "# 封装一个函数 完成注册功能\n",
    "def register():\n",
    "    # 定义一个变量，用于控制外循环\n",
    "    site = True\n",
    "    # 执行循环， 用户名操作\n",
    "    while site:\n",
    "        # 用户输入用户名\n",
    "        username = input('欢迎注册，请输入用户名：')\n",
    "\n",
    "        # 用户名需要检测是否已经存在\n",
    "        if username in userlist:\n",
    "            print('当前用户已经存在，请更换用户名。')\n",
    "        else:\n",
    "            # 利用循环，都正确的时候结束循环。\n",
    "            while True:\n",
    "                # 用户输入密码\n",
    "                password = input('请输入您的密码: ')\n",
    "                \n",
    "                # 检测密码长度不能低于6位\n",
    "                if len(password) >= 6:\n",
    "                    # 请确认您的密码\n",
    "                    re_password = input('请再输入一次您的密码: ')\n",
    "                    # 检测密码和确认密码是否一致\n",
    "                    if re_password == password:\n",
    "                        # 用户名和密码都正确，可以写入文件\n",
    "                        # 打开文件，写入数据\n",
    "                        with open('./data/user.txt', 'a+', encoding='UTF-8') as fp:\n",
    "                            fp.write(f'{username}:{password}\\n')\n",
    "                        print(f'注册成功：用户名:{username}')\n",
    "                        # 结束循环\n",
    "                        # 结束外循环\n",
    "                        site = False\n",
    "                        # 结束内循环\n",
    "                        break\n",
    "                    else:\n",
    "                        print('两次输入的密码不同，请重新输入。', username, password, re_password)\n",
    "\n",
    "                # 密码长度不够\n",
    "                else:\n",
    "                    print('密码格式不正确：', username, password)\n",
    "\n",
    "register()\n"
   ]
  },
  {
   "cell_type": "markdown",
   "metadata": {},
   "source": [
    "## 登录功能\n",
    "\n",
    "1. 需要使用已经注册的用户信息登录\n",
    "2. 密码输入错误3次之后，锁定账户信息（不能再使用这个账户进行登录操作）"
   ]
  },
  {
   "cell_type": "code",
   "execution_count": 12,
   "metadata": {},
   "outputs": [
    {
     "name": "stdout",
     "output_type": "stream",
     "text": [
      "userdict:{'admin': '123456', 'du': '654321', 'du2': '123456', 'zhang': '123456', 'wang': '123456'},\n",
      "userlist:dict_keys(['admin', 'du', 'du2', 'zhang', 'wang'])\n",
      "123456\n"
     ]
    }
   ],
   "source": [
    "# 搞定登录功能\n",
    "# 专门定义数据变量，存放已经注册的用户信息\n",
    "userdict = {}\n",
    "userlist = []\n",
    "blackUserList = [] # 定义一个小黑屋专用变量\n",
    "\n",
    "# 读取所有的注册信息\n",
    "with open('./data/user.txt', 'a+', encoding=\"utf-8\") as fp:\n",
    "    fp.seek(0,0) # 调整指针到文件头\n",
    "    res = fp.readlines() # 按照每一行读取所有用户数据\n",
    "    for i in res: # 循环读取每一行数据\n",
    "        r = i.strip() # 处理每一行尾部的换行符\n",
    "        mydict = r.split(':')\n",
    "        userdict.update({mydict[0]:mydict[1]})\n",
    "        userlist = userdict.keys()\n",
    "    print(f'userdict:{userdict},\\nuserlist:{userlist}')\n",
    "\n",
    "# 读取所有黑名单用户\n",
    "with open('./data/black.txt', 'a+', encoding='utf-8') as fp:\n",
    "    fp.seek(0,0)\n",
    "    res = fp.readlines()\n",
    "    for i in res:\n",
    "        r = i.strip() #\n",
    "        blackUserList.append(r)\n",
    "\n",
    "# 封装登录函数\n",
    "def login():\n",
    "    \n",
    "    # 自定义变量, 控制登录外循环\n",
    "    isLogin = True\n",
    "    # 定义变量，用来记录用户输入密码错误次数\n",
    "    errorNum = 3\n",
    "\n",
    "    # 创建循环\n",
    "    while isLogin:\n",
    "\n",
    "        # 获取用户登录时输入的用户名\n",
    "        username = input('欢迎登录，请输入您的用户名：')\n",
    "        \n",
    "        # 检测当前用户名是否存在\n",
    "        if username in blackUserList:\n",
    "            print('您的账户已经被锁定，并且还未给管理员上供品。')\n",
    "            isLogin = False # 结束外循环\n",
    "        elif username in userlist:\n",
    "            while True:\n",
    "                # 让用户输入密码\n",
    "                pwd = input('请输入您的密码：')\n",
    "                # 检测用户输入的密码是否正确\n",
    "                if pwd == userdict[username]:\n",
    "                    print(pwd)\n",
    "                    isLogin = False # 结束外循环\n",
    "                    break # 结束内循环\n",
    "                else:\n",
    "                    # 密码错误，修改变量次数\n",
    "                    errorNum -= 1\n",
    "                    # 判断当前密码错误次数\n",
    "                    if errorNum == 0:\n",
    "                        print('给你机会你不中用啊细狗。账户已锁定，请联系管理人员并上供品。')\n",
    "                        # 锁定当前账户，把锁定的用户拉入黑名单\n",
    "                        with open('./data/black.txt', 'a+', encoding='UTF-8') as fp:\n",
    "                            fp.write(username+'\\n')\n",
    "                        isLogin = False\n",
    "                        break\n",
    "                    else:\n",
    "                        print(f'您的密码输入有误, 您还能再尝试{errorNum}次。')\n",
    "        else:\n",
    "            # 用户名不存在\n",
    "            print('用户名错误，亲重新输入')\n",
    "\n",
    "    # 检测用户是否属于锁定状态\n",
    "\n",
    "login()"
   ]
  },
  {
   "cell_type": "code",
   "execution_count": null,
   "metadata": {},
   "outputs": [],
   "source": []
  }
 ],
 "metadata": {
  "kernelspec": {
   "display_name": "base",
   "language": "python",
   "name": "python3"
  },
  "language_info": {
   "codemirror_mode": {
    "name": "ipython",
    "version": 3
   },
   "file_extension": ".py",
   "mimetype": "text/x-python",
   "name": "python",
   "nbconvert_exporter": "python",
   "pygments_lexer": "ipython3",
   "version": "3.10.12"
  },
  "orig_nbformat": 4
 },
 "nbformat": 4,
 "nbformat_minor": 2
}
