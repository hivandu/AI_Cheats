{
 "cells": [
  {
   "cell_type": "markdown",
   "metadata": {},
   "source": [
    "# 正则表达式"
   ]
  },
  {
   "cell_type": "code",
   "execution_count": 1,
   "metadata": {},
   "outputs": [],
   "source": [
    "import re"
   ]
  },
  {
   "cell_type": "code",
   "execution_count": 2,
   "metadata": {},
   "outputs": [
    {
     "name": "stdout",
     "output_type": "stream",
     "text": [
      "['love']\n"
     ]
    }
   ],
   "source": [
    "# 定义字符串\n",
    "myStr = 'iloveyou521tosimida'\n",
    "# 定义正则\n",
    "myReg = 'love'\n",
    "\n",
    "# 调用正则函数方法\n",
    "res = re.findall(myReg, myStr)\n",
    "print(res)\n",
    "\n"
   ]
  },
  {
   "cell_type": "code",
   "execution_count": 3,
   "metadata": {},
   "outputs": [
    {
     "name": "stdout",
     "output_type": "stream",
     "text": [
      "['5', '2', '1', '1', '2', '3']\n"
     ]
    }
   ],
   "source": [
    "myStr = \"iloveyou521to123simida\"\n",
    "myReg = '\\d'\n",
    "# 调用正则表达式相关函数\n",
    "res = re.findall(myReg, myStr)\n",
    "print(res)"
   ]
  },
  {
   "cell_type": "code",
   "execution_count": 4,
   "metadata": {},
   "outputs": [
    {
     "name": "stdout",
     "output_type": "stream",
     "text": [
      "['521', '123', '789']\n"
     ]
    }
   ],
   "source": [
    "myStr = \"iloveyou521to123si7894mida\"\n",
    "myReg = '\\d\\d\\d'\n",
    "# 调用正则表达式相关函数\n",
    "res = re.findall(myReg, myStr)\n",
    "print(res)"
   ]
  },
  {
   "cell_type": "markdown",
   "metadata": {},
   "source": [
    "## `match`和`search`"
   ]
  },
  {
   "cell_type": "code",
   "execution_count": 7,
   "metadata": {},
   "outputs": [
    {
     "name": "stdout",
     "output_type": "stream",
     "text": [
      "(0, 3)\n",
      "None\n"
     ]
    }
   ],
   "source": [
    "print(re.match('www', 'www.hivan.me').span()) # 起始位置匹配\n",
    "print(re.match('me', 'www.hivan.me')) # 不在起始位置匹配"
   ]
  },
  {
   "cell_type": "code",
   "execution_count": 8,
   "metadata": {},
   "outputs": [
    {
     "name": "stdout",
     "output_type": "stream",
     "text": [
      "(0, 3)\n",
      "(10, 12)\n"
     ]
    }
   ],
   "source": [
    "print(re.search('www', 'www.hivan.me').span()) # 起始位置匹配\n",
    "print(re.search('me', 'www.hivan.me').span()) # 不在起始位置匹配"
   ]
  },
  {
   "cell_type": "code",
   "execution_count": 9,
   "metadata": {},
   "outputs": [
    {
     "name": "stdout",
     "output_type": "stream",
     "text": [
      "<re.Match object; span=(10, 12), match='me'>\n"
     ]
    }
   ],
   "source": [
    "print(re.search('me', 'www.hivan.me')) # 不在起始位置匹配"
   ]
  },
  {
   "cell_type": "markdown",
   "metadata": {},
   "source": [
    "## `findall`"
   ]
  },
  {
   "cell_type": "code",
   "execution_count": 10,
   "metadata": {},
   "outputs": [
    {
     "name": "stdout",
     "output_type": "stream",
     "text": [
      "['love', 'love']\n"
     ]
    }
   ],
   "source": [
    "myStr = \"iloveyou521to123si7894lovemida\"\n",
    "myReg = 'love'\n",
    "print(re.findall(myReg, myStr))"
   ]
  },
  {
   "cell_type": "code",
   "execution_count": 19,
   "metadata": {},
   "outputs": [
    {
     "name": "stdout",
     "output_type": "stream",
     "text": [
      "<callable_iterator object at 0x107e1abc0>\n"
     ]
    }
   ],
   "source": [
    "res = re.finditer(myReg, myStr)\n",
    "print(res)"
   ]
  },
  {
   "cell_type": "code",
   "execution_count": 20,
   "metadata": {},
   "outputs": [
    {
     "name": "stdout",
     "output_type": "stream",
     "text": [
      "<re.Match object; span=(1, 5), match='love'>\n",
      "<re.Match object; span=(22, 26), match='love'>\n"
     ]
    },
    {
     "ename": "StopIteration",
     "evalue": "",
     "output_type": "error",
     "traceback": [
      "\u001b[0;31m---------------------------------------------------------------------------\u001b[0m",
      "\u001b[0;31mStopIteration\u001b[0m                             Traceback (most recent call last)",
      "Cell \u001b[0;32mIn[20], line 3\u001b[0m\n\u001b[1;32m      1\u001b[0m \u001b[39mprint\u001b[39m(\u001b[39mnext\u001b[39m(res))\n\u001b[1;32m      2\u001b[0m \u001b[39mprint\u001b[39m(\u001b[39mnext\u001b[39m(res))\n\u001b[0;32m----> 3\u001b[0m \u001b[39mprint\u001b[39m(\u001b[39mnext\u001b[39;49m(res))\n",
      "\u001b[0;31mStopIteration\u001b[0m: "
     ]
    }
   ],
   "source": [
    "print(next(res))\n",
    "print(next(res))\n",
    "print(next(res))"
   ]
  },
  {
   "cell_type": "code",
   "execution_count": 21,
   "metadata": {},
   "outputs": [
    {
     "name": "stdout",
     "output_type": "stream",
     "text": [
      "iliveyou521to123si7894livemida\n"
     ]
    }
   ],
   "source": [
    "myStr = \"iloveyou521to123si7894lovemida\"\n",
    "myReg = 'love'\n",
    "res = re.sub(myReg, 'live', myStr)\n",
    "print(res)"
   ]
  },
  {
   "cell_type": "code",
   "execution_count": 22,
   "metadata": {},
   "outputs": [
    {
     "name": "stdout",
     "output_type": "stream",
     "text": [
      "['hello', 'my', 'name', 'is', 'chaheng']\n"
     ]
    }
   ],
   "source": [
    "myStr = 'hello my name is chaheng'\n",
    "res = re.split(' ', myStr)\n",
    "print(res)"
   ]
  },
  {
   "cell_type": "code",
   "execution_count": 23,
   "metadata": {},
   "outputs": [
    {
     "name": "stdout",
     "output_type": "stream",
     "text": [
      "123\n",
      "234\n",
      "456\n",
      "678\n"
     ]
    }
   ],
   "source": [
    "arr = [\n",
    "    'i love 123 you',\n",
    "    'i love 234 you',\n",
    "    'i love 456 you',\n",
    "    'i love 678 you'\n",
    "]\n",
    "\n",
    "for i in arr:\n",
    "    newReg = '\\d\\d\\d'\n",
    "    res = re.search(newReg, i)\n",
    "    print(res.group())"
   ]
  },
  {
   "cell_type": "code",
   "execution_count": 24,
   "metadata": {},
   "outputs": [
    {
     "name": "stdout",
     "output_type": "stream",
     "text": [
      "123\n",
      "234\n",
      "456\n",
      "678\n"
     ]
    }
   ],
   "source": [
    "myReg = re.compile('\\d{3}')\n",
    "for i in arr:\n",
    "    res = myReg.search(i).group()\n",
    "    print(res)"
   ]
  },
  {
   "cell_type": "markdown",
   "metadata": {},
   "source": [
    "## 正则规则（`重点`）"
   ]
  },
  {
   "cell_type": "code",
   "execution_count": 1,
   "metadata": {},
   "outputs": [],
   "source": [
    "import re"
   ]
  },
  {
   "cell_type": "code",
   "execution_count": 57,
   "metadata": {},
   "outputs": [
    {
     "name": "stdout",
     "output_type": "stream",
     "text": [
      "['a', '2', '_', 'i', 'l', 'o', 'v', 'e', '5', '2', '1', 'y', 'o', 'u']\n"
     ]
    }
   ],
   "source": [
    "myStr = 'a2$_ilove5\t21you'\n",
    "\n",
    "# 转义字符\n",
    "myReg = '\\w'\n",
    "res = re.findall(myReg, myStr)\n",
    "print(res)"
   ]
  },
  {
   "cell_type": "code",
   "execution_count": 3,
   "metadata": {},
   "outputs": [
    {
     "name": "stdout",
     "output_type": "stream",
     "text": [
      "['$', '\\t']\n"
     ]
    }
   ],
   "source": [
    "# 转义字符\n",
    "myReg = '\\W'\n",
    "res = re.findall(myReg, myStr)\n",
    "print(res)"
   ]
  },
  {
   "cell_type": "code",
   "execution_count": 4,
   "metadata": {},
   "outputs": [
    {
     "name": "stdout",
     "output_type": "stream",
     "text": [
      "['a', '$', '_', 'i', 'l', 'o', 'v', 'e', '\\t', 'y', 'o', 'u']\n"
     ]
    }
   ],
   "source": [
    "# 转义字符\n",
    "myReg = '\\D'\n",
    "res = re.findall(myReg, myStr)\n",
    "print(res)"
   ]
  },
  {
   "cell_type": "code",
   "execution_count": 5,
   "metadata": {},
   "outputs": [
    {
     "name": "stdout",
     "output_type": "stream",
     "text": [
      "['\\t']\n"
     ]
    }
   ],
   "source": [
    "myReg = '\\s'\n",
    "res = re.findall(myReg, myStr)\n",
    "print(res)"
   ]
  },
  {
   "cell_type": "code",
   "execution_count": 6,
   "metadata": {},
   "outputs": [
    {
     "name": "stdout",
     "output_type": "stream",
     "text": [
      "['a', '2', '$', '_', 'i', 'l', 'o', 'v', 'e', '5', '2', '1', 'y', 'o', 'u']\n"
     ]
    }
   ],
   "source": [
    "myReg = '\\S'\n",
    "res = re.findall(myReg, myStr)\n",
    "print(res)"
   ]
  },
  {
   "cell_type": "code",
   "execution_count": 7,
   "metadata": {},
   "outputs": [
    {
     "name": "stdout",
     "output_type": "stream",
     "text": [
      "['love5']\n"
     ]
    }
   ],
   "source": [
    "myReg = '\\w{4}\\d'\n",
    "res = re.findall(myReg, myStr)\n",
    "print(res)"
   ]
  },
  {
   "cell_type": "code",
   "execution_count": 8,
   "metadata": {},
   "outputs": [
    {
     "name": "stdout",
     "output_type": "stream",
     "text": [
      "['_ilov', '21you']\n"
     ]
    }
   ],
   "source": [
    "myReg = '\\w{5}'\n",
    "res = re.findall(myReg, myStr)\n",
    "print(res)"
   ]
  },
  {
   "cell_type": "code",
   "execution_count": 13,
   "metadata": {},
   "outputs": [
    {
     "name": "stdout",
     "output_type": "stream",
     "text": [
      "['@', '\\t', '_', '2', 'i', '4', 'l', '2', '2', 'o', 'v', 'e', 'y', 'o', 'u']\n"
     ]
    }
   ],
   "source": [
    "myStr = '@\t_2i4l22oveyou'\n",
    "myReg = '.'\n",
    "res = re.findall(myReg, myStr)\n",
    "print(res)"
   ]
  },
  {
   "cell_type": "code",
   "execution_count": 61,
   "metadata": {},
   "outputs": [
    {
     "name": "stdout",
     "output_type": "stream",
     "text": [
      "l\n"
     ]
    }
   ],
   "source": [
    "myStr = ' like chaheng @\t_2i4l22oveyou'\n",
    "myReg = '\\w'\n",
    "res = re.search(myReg, myStr)\n",
    "print(res.group())"
   ]
  },
  {
   "cell_type": "code",
   "execution_count": 19,
   "metadata": {},
   "outputs": [
    {
     "name": "stdout",
     "output_type": "stream",
     "text": [
      "like\n"
     ]
    }
   ],
   "source": [
    "myStr = 'like chaheng @\t_2i4l22oveyou'\n",
    "myReg = '\\w*'\n",
    "res = re.search(myReg, myStr)\n",
    "print(res.group())"
   ]
  },
  {
   "cell_type": "code",
   "execution_count": 23,
   "metadata": {},
   "outputs": [
    {
     "name": "stdout",
     "output_type": "stream",
     "text": [
      "<re.Match object; span=(0, 0), match=''>\n"
     ]
    }
   ],
   "source": [
    "myStr = ' like chaheng @\t_2i4l22oveyou'\n",
    "myReg = '\\w*'\n",
    "res = re.search(myReg, myStr)\n",
    "print(res)"
   ]
  },
  {
   "cell_type": "code",
   "execution_count": 25,
   "metadata": {},
   "outputs": [
    {
     "name": "stdout",
     "output_type": "stream",
     "text": [
      "like\n"
     ]
    }
   ],
   "source": [
    "myReg = '\\w+'\n",
    "res = re.search(myReg, myStr)\n",
    "print(res.group())"
   ]
  },
  {
   "cell_type": "code",
   "execution_count": 26,
   "metadata": {},
   "outputs": [
    {
     "name": "stdout",
     "output_type": "stream",
     "text": [
      "l\n"
     ]
    }
   ],
   "source": [
    "myReg = '\\w+?'\n",
    "res = re.search(myReg, myStr)\n",
    "print(res.group())"
   ]
  },
  {
   "cell_type": "code",
   "execution_count": 31,
   "metadata": {},
   "outputs": [
    {
     "name": "stdout",
     "output_type": "stream",
     "text": [
      "chahe\n"
     ]
    }
   ],
   "source": [
    "myReg = '\\w{5}'\n",
    "res = re.search(myReg, myStr)\n",
    "print(res.group())"
   ]
  },
  {
   "cell_type": "code",
   "execution_count": 32,
   "metadata": {},
   "outputs": [
    {
     "name": "stdout",
     "output_type": "stream",
     "text": [
      "like\n"
     ]
    }
   ],
   "source": [
    "myReg = '\\w{1,4}'\n",
    "res = re.search(myReg, myStr)\n",
    "print(res.group())"
   ]
  },
  {
   "cell_type": "code",
   "execution_count": 37,
   "metadata": {},
   "outputs": [
    {
     "name": "stdout",
     "output_type": "stream",
     "text": [
      "['S', 'O', 'L', 'Y']\n",
      "['l', 'i', 'k', 'e', 'c', 'h', 'a', 'h', 'e', 'n', 'g', 'h', 'i', 'l', 'o', 'v', 'e', 'o', 'u']\n",
      "['2', '4', '2', '2']\n",
      "['_']\n"
     ]
    }
   ],
   "source": [
    "myStr = 'like chaheng @\t ShO _2i4l22LoveYou'\n",
    "myReg = '[A-Z]'\n",
    "res = re.findall(myReg, myStr)\n",
    "print(res)\n",
    "myReg = '[a-z]'\n",
    "res = re.findall(myReg, myStr)\n",
    "print(res)\n",
    "myReg = '[0-9]'\n",
    "res = re.findall(myReg, myStr)\n",
    "print(res)\n",
    "myReg = '[_]'\n",
    "res = re.findall(myReg, myStr)\n",
    "print(res)"
   ]
  },
  {
   "cell_type": "code",
   "execution_count": 43,
   "metadata": {},
   "outputs": [
    {
     "name": "stdout",
     "output_type": "stream",
     "text": [
      "['l', 'i', 'k', 'e', 'c', 'h', 'a', 'h', 'e', 'n', 'g', 'S', 'h', 'O', '_', '2', 'i', '4', 'l', '2', '2', 'L', 'o', 'v', 'e', 'Y', 'o', 'u']\n"
     ]
    }
   ],
   "source": [
    "myStr = 'like chaheng @\t ShO _2i4l22LoveYou'\n",
    "myReg = '[A-Za-z0-9_]'\n",
    "res = re.findall(myReg, myStr)\n",
    "print(res)"
   ]
  },
  {
   "cell_type": "code",
   "execution_count": 48,
   "metadata": {},
   "outputs": [
    {
     "name": "stdout",
     "output_type": "stream",
     "text": [
      "[('_2ial', '2345', 'LoveYou')]\n"
     ]
    }
   ],
   "source": [
    "myStr = 'like chaheng @\t ShO _2ial2345LoveYou'\n",
    "myReg = '(\\w+)(\\d{4})(\\w+)'\n",
    "res = re.findall(myReg, myStr)\n",
    "print(res)"
   ]
  },
  {
   "cell_type": "code",
   "execution_count": 75,
   "metadata": {},
   "outputs": [
    {
     "name": "stdout",
     "output_type": "stream",
     "text": [
      "None\n"
     ]
    }
   ],
   "source": [
    "myStr = '186301916675'\n",
    "# 定义一个匹配手机号的正则表达式\n",
    "myReg = '^1\\d{10}$'\n",
    "res = re.search(myReg, myStr)\n",
    "print(res)"
   ]
  },
  {
   "cell_type": "code",
   "execution_count": 79,
   "metadata": {},
   "outputs": [
    {
     "name": "stdout",
     "output_type": "stream",
     "text": [
      "None\n"
     ]
    }
   ],
   "source": [
    "myStr = '186301916675'\n",
    "# 定义一个匹配手机号的正则表达式\n",
    "myReg = '^2\\d{10}$'\n",
    "res = re.search(myReg, myStr)\n",
    "print(res)"
   ]
  },
  {
   "cell_type": "code",
   "execution_count": 82,
   "metadata": {},
   "outputs": [
    {
     "name": "stdout",
     "output_type": "stream",
     "text": [
      "['S', 'O', 'L', 'Y']\n"
     ]
    }
   ],
   "source": [
    "myStr = 'like chaheng @\t ShO _2i4l22LoveYou'\n",
    "myReg = '[A-Z]'\n",
    "res = re.findall(myReg, myStr)\n",
    "print(res)"
   ]
  },
  {
   "cell_type": "code",
   "execution_count": 83,
   "metadata": {},
   "outputs": [
    {
     "name": "stdout",
     "output_type": "stream",
     "text": [
      "['l', 'i', 'k', 'e', 'c', 'h', 'a', 'h', 'e', 'n', 'g', 'S', 'h', 'O', 'i', 'l', 'L', 'o', 'v', 'e', 'Y', 'o', 'u']\n"
     ]
    }
   ],
   "source": [
    "myStr = 'like chaheng @\t ShO _2i4l22LoveYou'\n",
    "myReg = '[A-Z]'\n",
    "res = re.findall(myReg, myStr,re.I)\n",
    "print(res)"
   ]
  },
  {
   "cell_type": "code",
   "execution_count": 105,
   "metadata": {},
   "outputs": [],
   "source": [
    "def mailReg(mail):\n",
    "    myReg = '^[a-zA-Z0-9]+([_\\.][a-zA-Z0-9]+)*@(\\w+\\.)+[a-z]{2,6}$'\n",
    "    for i in mail:\n",
    "        res = re.search(myReg, i)\n",
    "        if res:\n",
    "            print(res.group())\n",
    "        else:\n",
    "            print(res)"
   ]
  },
  {
   "cell_type": "code",
   "execution_count": 95,
   "metadata": {},
   "outputs": [
    {
     "data": {
      "text/plain": [
       "'cha.heng@gmail.com'"
      ]
     },
     "execution_count": 95,
     "metadata": {},
     "output_type": "execute_result"
    }
   ],
   "source": [
    "mailReg('cha.heng@gmail.com')"
   ]
  },
  {
   "cell_type": "code",
   "execution_count": 94,
   "metadata": {},
   "outputs": [
    {
     "name": "stdout",
     "output_type": "stream",
     "text": [
      "None\n"
     ]
    }
   ],
   "source": [
    "mailReg('chaheng@vip.163.com')"
   ]
  },
  {
   "cell_type": "code",
   "execution_count": 98,
   "metadata": {},
   "outputs": [
    {
     "data": {
      "text/plain": [
       "'chaheng@vip.163.com'"
      ]
     },
     "execution_count": 98,
     "metadata": {},
     "output_type": "execute_result"
    }
   ],
   "source": [
    "mailReg('chaheng@vip.163.com')"
   ]
  },
  {
   "cell_type": "code",
   "execution_count": 108,
   "metadata": {},
   "outputs": [
    {
     "name": "stdout",
     "output_type": "stream",
     "text": [
      "123456@qq.com\n",
      "chaheng@qq.com\n",
      "chaheng75@126.com\n",
      "cha_heng@163.com\n",
      "chaheng@vip.163.com\n",
      "chaheng@hivan.me\n",
      "cha.heng@gmail.com\n",
      "None\n"
     ]
    }
   ],
   "source": [
    "emailarr = [\n",
    "   '123456@qq.com',\n",
    "   'chaheng@qq.com',\n",
    "   'chaheng75@126.com',\n",
    "   'cha_heng@163.com',\n",
    "   'chaheng@vip.163.com',\n",
    "   'chaheng@hivan.me',\n",
    "   'cha.heng@gmail.com',\n",
    "   ' list@gmail.com '\n",
    "]\n",
    "\n",
    "mailReg(emailarr)"
   ]
  },
  {
   "cell_type": "code",
   "execution_count": 141,
   "metadata": {},
   "outputs": [
    {
     "name": "stdout",
     "output_type": "stream",
     "text": [
      "手机号码不正确: 23210023421\n",
      "手机号码不正确: 189232198341\n"
     ]
    }
   ],
   "source": [
    "# 常规手机号码规则\n",
    "# 13[0-9],14[5-9],15[0-3,5-9],16[2,5,6,7,8],17[0-8],18[0-9],19[0-3,5-9]\n",
    "\n",
    "myReg = '^(13[0-9]|14[5-9]|15[0-3,5-9]|16[2,5,6,7,8]|17[0-8]|18[0-9]|19[0-3,5-9])\\d{8}$'\n",
    "\n",
    "phonearr = [\n",
    "    '13728739429',\n",
    "    '13128319520',\n",
    "    '17729231234',\n",
    "    '23210023421',\n",
    "    '189232198341',\n",
    "    '19123214421'\n",
    "]\n",
    "\n",
    "for i in phonearr:\n",
    "    res = re.search(myReg, i)\n",
    "    if not res:\n",
    "        print('手机号码不正确:', i)\n",
    "    else:\n",
    "        print(res.group())"
   ]
  },
  {
   "cell_type": "code",
   "execution_count": 316,
   "metadata": {},
   "outputs": [
    {
     "name": "stdout",
     "output_type": "stream",
     "text": [
      "25.232.123.241\n",
      "123.242.211.221\n",
      "IP 地址不正确: 0.0.123.421\n",
      "IP 地址不正确: 123.421.4.5\n",
      "IP 地址不正确: 212.444.523\n",
      "0.0.0.0\n",
      "IP 地址不正确: 214.113.231.256\n",
      "IP 地址不正确: 54.214.213.265\n"
     ]
    }
   ],
   "source": [
    "myReg = '^((2(5[0-5]|[0-4]\\d))|[0-1]?\\d{1,2})(\\.((2(5[0-5]|[0-4]\\d))|[0-1]?\\d{1,2})){3}$'\n",
    "\n",
    "\n",
    "ipArr = [\n",
    "    '25.232.123.241',\n",
    "    '123.242.211.221',\n",
    "    '0.0.123.421',\n",
    "    '123.421.4.5',\n",
    "    '212.444.523',\n",
    "    '0.0.0.0',\n",
    "    '214.113.231.256',\n",
    "    '54.214.213.265'\n",
    "]\n",
    "\n",
    "for i in ipArr:\n",
    "    res = re.search(myReg, i)\n",
    "    if not res:\n",
    "        print('IP 地址不正确:', i)\n",
    "    else:\n",
    "        print(res.group())\n"
   ]
  },
  {
   "cell_type": "markdown",
   "metadata": {},
   "source": [
    "![欢迎订阅：坍缩的奇点](../assets/Capture-2023-11-02-164446.png)"
   ]
  },
  {
   "cell_type": "code",
   "execution_count": null,
   "metadata": {},
   "outputs": [],
   "source": []
  },
  {
   "cell_type": "code",
   "execution_count": null,
   "metadata": {},
   "outputs": [],
   "source": []
  },
  {
   "cell_type": "code",
   "execution_count": null,
   "metadata": {},
   "outputs": [],
   "source": []
  }
 ],
 "metadata": {
  "kernelspec": {
   "display_name": "base",
   "language": "python",
   "name": "python3"
  },
  "language_info": {
   "codemirror_mode": {
    "name": "ipython",
    "version": 3
   },
   "file_extension": ".py",
   "mimetype": "text/x-python",
   "name": "python",
   "nbconvert_exporter": "python",
   "pygments_lexer": "ipython3",
   "version": "3.10.12"
  },
  "orig_nbformat": 4
 },
 "nbformat": 4,
 "nbformat_minor": 2
}
