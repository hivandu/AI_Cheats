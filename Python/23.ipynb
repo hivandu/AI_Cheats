{
 "cells": [
  {
   "cell_type": "markdown",
   "metadata": {},
   "source": [
    "# 描述符和设计模式\n",
    "\n",
    "## 描述符"
   ]
  },
  {
   "cell_type": "code",
   "execution_count": 1,
   "metadata": {},
   "outputs": [
    {
     "name": "stdout",
     "output_type": "stream",
     "text": [
      "abc\n",
      "茶桁\n",
      "我就是不行删除，气死你\n",
      "茶桁\n"
     ]
    }
   ],
   "source": [
    "# 定义描述符类\n",
    "class PersonName():\n",
    "    __name = 'abc'\n",
    "\n",
    "    def __get__(self, instance, owner):\n",
    "        return self.__name\n",
    "\n",
    "    def __set__(self, instance, value):\n",
    "        # self.__name = value\n",
    "        self.__name = '茶桁'\n",
    "\n",
    "    def __delete__(self, instance):\n",
    "        print('我就是不行删除，气死你')\n",
    "        # del self.__name\n",
    "\n",
    "# 定义的普通类\n",
    "class Person():\n",
    "    # 把类中的一个成员属性交给一个描述符类来实现\n",
    "    name = PersonName()\n",
    "\n",
    "# 实例化对象\n",
    "zs = Person()\n",
    "print(zs.name)\n",
    "zs.name = '张三丰'\n",
    "print(zs.name)\n",
    "del zs.name\n",
    "print(zs.name)"
   ]
  },
  {
   "cell_type": "markdown",
   "metadata": {},
   "source": [
    "## 描述符应用：学生类\n",
    "\n",
    "`定义一个学生类，需要记录学员的id, 名字和分数。`"
   ]
  },
  {
   "cell_type": "markdown",
   "metadata": {},
   "source": [
    "要求：学员的分数只能在0-100范围中\n",
    "解决：\n",
    "    1. 在`__init__`方法中检测当前分数范围"
   ]
  },
  {
   "cell_type": "code",
   "execution_count": 25,
   "metadata": {},
   "outputs": [
    {
     "name": "stdout",
     "output_type": "stream",
     "text": [
      "score 99\n",
      "学员编号:37\n",
      "学员姓名:张三丰\n",
      "学员分数:99\n",
      "score -1\n",
      "当前分数不符号要求。\n"
     ]
    }
   ],
   "source": [
    "class Student():\n",
    "    def __init__(self, id, name, score):\n",
    "        self.id = id\n",
    "        self.name = name\n",
    "        # self.score = score\n",
    "\n",
    "        # 检测分数范围\n",
    "        if score >= 0 and score <= 100:\n",
    "            self.score = score\n",
    "        else:\n",
    "            print('当前分数不符号要求。')\n",
    "\n",
    "    def __setattr__(self, key, value):\n",
    "        # 检测是否给score进行赋值操作\n",
    "        if key == 'score':\n",
    "            print(key, value)\n",
    "            # 检测分数范围\n",
    "            if value >= 0 and value <= 100:\n",
    "                object.__setattr__(self, key, value)    \n",
    "            else:\n",
    "                print('当前分数不符号要求。')\n",
    "        else:\n",
    "            object.__setattr__(self, key, value)\n",
    "\n",
    "    def __repr__(self):\n",
    "        info = f'学员编号:{self.id}\\n学员姓名:{self.name}\\n学员分数:{self.score}' \n",
    "        return info\n",
    "        \n",
    "    \n",
    "    \n",
    "# 实例化对象\n",
    "zs = Student(37, '张三丰', 99)\n",
    "print(zs)\n",
    "zs.score = -1"
   ]
  },
  {
   "cell_type": "markdown",
   "metadata": {},
   "source": [
    "## 使用描述符代理score赋值"
   ]
  },
  {
   "cell_type": "code",
   "execution_count": 37,
   "metadata": {},
   "outputs": [
    {
     "name": "stdout",
     "output_type": "stream",
     "text": [
      "分数不符合要求\n",
      "分数不符合要求\n"
     ]
    },
    {
     "data": {
      "text/plain": [
       "'\\n        学员编号:37\\n        学员姓名:张三丰\\n        学员分数:88\\n        '"
      ]
     },
     "execution_count": 37,
     "metadata": {},
     "output_type": "execute_result"
    }
   ],
   "source": [
    "# 定义描述符类，代理分数的管理\n",
    "class Score():\n",
    "    __score = None\n",
    "    def __get__(self, instance, owner):\n",
    "        return self.__score\n",
    "\n",
    "    def __set__(self, instance, value):\n",
    "        if value >= 0 and value <= 100:\n",
    "            self.__score = value\n",
    "        else:\n",
    "            print('分数不符合要求')\n",
    "\n",
    "    def __delete__(self, instance):\n",
    "        del self.__score\n",
    "\n",
    "\n",
    "\n",
    "class Student():\n",
    "    score = Score()\n",
    "    def __init__(self, id, name, score):\n",
    "        self.id = id\n",
    "        self.name = name\n",
    "        self.score = score\n",
    "\n",
    "    def returnSelf(self):\n",
    "        info = f'''\n",
    "        学员编号:{self.id}\n",
    "        学员姓名:{self.name}\n",
    "        学员分数:{self.score}\n",
    "        '''\n",
    "        return info\n",
    "    \n",
    "# 实例化对象\n",
    "zs = Student(37, '张三丰', 132)\n",
    "zs.returnSelf()\n",
    "zs.score = -1\n",
    "zs.score = 88\n",
    "zs.returnSelf()"
   ]
  },
  {
   "cell_type": "code",
   "execution_count": 59,
   "metadata": {},
   "outputs": [
    {
     "name": "stdout",
     "output_type": "stream",
     "text": [
      "199\n",
      "17\n"
     ]
    }
   ],
   "source": [
    "class Student():\n",
    "    def __init__(self, id, name, score):\n",
    "        self.id = id\n",
    "        self.name = name\n",
    "        self.__score = score\n",
    "\n",
    "    def getScore(self):\n",
    "        return self.__score\n",
    "    def setScore(self, score):\n",
    "        self.__score = score\n",
    "    def delScore(self):\n",
    "        del self.__score\n",
    "\n",
    "    # 在函数中指定对应的三个方法\n",
    "    score = property(getScore, setScore, delScore)\n",
    "\n",
    "zs = Student(37, '张三丰', 199)\n",
    "print(zs.score)\n",
    "zs.score = 17\n",
    "print(zs.score)\n",
    "# del zs.score\n",
    "# print(zs.score)"
   ]
  },
  {
   "cell_type": "code",
   "execution_count": 56,
   "metadata": {},
   "outputs": [
    {
     "name": "stdout",
     "output_type": "stream",
     "text": [
      "getScore\n",
      "None\n",
      "setScore\n",
      "getScore\n",
      "200\n",
      "delScore\n"
     ]
    }
   ],
   "source": [
    "class Student():\n",
    "    __score = None\n",
    "\n",
    "    @property\n",
    "    def score(self):\n",
    "        print('getScore')\n",
    "        return self.__score\n",
    "    \n",
    "    @score.setter\n",
    "    def score(self, value):\n",
    "        print('setScore')\n",
    "        self.__score = value\n",
    "\n",
    "    @score.deleter\n",
    "    def score(self):\n",
    "        print('delScore')\n",
    "        del self.__score\n",
    "\n",
    "zs = Student()\n",
    "print(zs.score)\n",
    "zs.score = 200\n",
    "print(zs.score)\n",
    "del zs.score"
   ]
  },
  {
   "cell_type": "markdown",
   "metadata": {},
   "source": [
    "## 单例设计模式"
   ]
  },
  {
   "cell_type": "code",
   "execution_count": 64,
   "metadata": {},
   "outputs": [
    {
     "name": "stdout",
     "output_type": "stream",
     "text": [
      "<__main__.Demo object at 0x10434e950>\n",
      "<__main__.Demo object at 0x10434e950>\n"
     ]
    }
   ],
   "source": [
    "class Demo():\n",
    "    \n",
    "    # 定义私有属性存储对象\n",
    "    __obj = None\n",
    "\n",
    "    # 定义构造方法\n",
    "    def __new__(cls, *args, **kwargs):\n",
    "        # 创建对象的过程中，判断是否有对象\n",
    "        if not cls.__obj:\n",
    "            # 如果没有，则创建，并且存储起来\n",
    "            cls.__obj = object.__new__(cls)\n",
    "        return cls.__obj\n",
    "    \n",
    "# 实例化对象\n",
    "a = Demo()\n",
    "b = Demo()\n",
    "print(a)\n",
    "print(b)"
   ]
  },
  {
   "cell_type": "code",
   "execution_count": null,
   "metadata": {},
   "outputs": [],
   "source": [
    "# 定义交通工具\n",
    "class vehicle():\n",
    "    # 运输货物\n",
    "    def cargo():\n",
    "        print('货物')\n",
    "    \n",
    "    # 搭载乘客\n",
    "    def person():\n",
    "        print('人')\n",
    "\n",
    "# 定义飞行器\n",
    "class flyingMixin():\n",
    "    def fly(self):\n",
    "        print('可以飞')\n",
    "\n",
    "# 定义飞机\n",
    "class airplane(vehicle, flyingMixin):\n",
    "    pass\n",
    "\n",
    "# 定义直升机\n",
    "class helicopter(vehicle, flyingMixin):\n",
    "    pass\n",
    "\n",
    "# 定义汽车\n",
    "class car(vehicle):\n",
    "    pass"
   ]
  },
  {
   "cell_type": "markdown",
   "metadata": {},
   "source": [
    "## 抽象类"
   ]
  },
  {
   "cell_type": "code",
   "execution_count": 65,
   "metadata": {},
   "outputs": [],
   "source": [
    "import abc\n",
    "\n",
    "# 必须使用metaclass, 属性必须是abc.ABCMeta\n",
    "class WriteCode(metaclass=abc.ABCMeta):\n",
    "\n",
    "    # 需要抽象方法，使用装饰器进行装饰\n",
    "    @abc.abstractmethod\n",
    "    def write_swift(self):\n",
    "        pass\n",
    "\n",
    "    def write_java(self):\n",
    "        print('实现了Java代码的开发')\n",
    "\n",
    "    def write_python(self):\n",
    "        print('实现了Python代码的开发')"
   ]
  },
  {
   "cell_type": "code",
   "execution_count": 66,
   "metadata": {},
   "outputs": [
    {
     "ename": "TypeError",
     "evalue": "Can't instantiate abstract class WriteCode with abstract method write_swift",
     "output_type": "error",
     "traceback": [
      "\u001b[0;31m---------------------------------------------------------------------------\u001b[0m",
      "\u001b[0;31mTypeError\u001b[0m                                 Traceback (most recent call last)",
      "Cell \u001b[0;32mIn[66], line 2\u001b[0m\n\u001b[1;32m      1\u001b[0m \u001b[39m# 抽象类不能直接实例化对象\u001b[39;00m\n\u001b[0;32m----> 2\u001b[0m obj \u001b[39m=\u001b[39m WriteCode()\n\u001b[1;32m      3\u001b[0m \u001b[39m# print(obj)\u001b[39;00m\n",
      "\u001b[0;31mTypeError\u001b[0m: Can't instantiate abstract class WriteCode with abstract method write_swift"
     ]
    }
   ],
   "source": [
    "# 抽象类不能直接实例化对象\n",
    "obj = WriteCode()"
   ]
  },
  {
   "cell_type": "code",
   "execution_count": null,
   "metadata": {},
   "outputs": [],
   "source": [
    "# 定义子类，继承抽象类，并实现抽象类中的抽象方法\n",
    "class Demo(WriteCode):\n",
    "    def write_php(self):\n",
    "        print('实现了php代码的开发')"
   ]
  },
  {
   "cell_type": "markdown",
   "metadata": {},
   "source": [
    "![欢迎订阅：坍缩的奇点](../assets/Capture-2023-11-02-164446.png)"
   ]
  },
  {
   "cell_type": "markdown",
   "metadata": {},
   "source": []
  }
 ],
 "metadata": {
  "kernelspec": {
   "display_name": "base",
   "language": "python",
   "name": "python3"
  },
  "language_info": {
   "codemirror_mode": {
    "name": "ipython",
    "version": 3
   },
   "file_extension": ".py",
   "mimetype": "text/x-python",
   "name": "python",
   "nbconvert_exporter": "python",
   "pygments_lexer": "ipython3",
   "version": "3.10.12"
  },
  "orig_nbformat": 4
 },
 "nbformat": 4,
 "nbformat_minor": 2
}
