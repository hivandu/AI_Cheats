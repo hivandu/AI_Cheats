{
 "cells": [
  {
   "cell_type": "markdown",
   "metadata": {},
   "source": [
    "# 2. 初识Python脚本"
   ]
  },
  {
   "cell_type": "code",
   "execution_count": 1,
   "metadata": {},
   "outputs": [
    {
     "name": "stdout",
     "output_type": "stream",
     "text": [
      "Hello AI Cheats!\n"
     ]
    }
   ],
   "source": [
    "print (\"Hello AI Cheats!\")"
   ]
  },
  {
   "cell_type": "code",
   "execution_count": 2,
   "metadata": {},
   "outputs": [
    {
     "name": "stdout",
     "output_type": "stream",
     "text": [
      "10 20\n"
     ]
    }
   ],
   "source": [
    "# 第一种\n",
    "a = 10\n",
    "b = 20\n",
    "print(a, b)"
   ]
  },
  {
   "cell_type": "code",
   "execution_count": 3,
   "metadata": {},
   "outputs": [
    {
     "name": "stdout",
     "output_type": "stream",
     "text": [
      "30 40\n"
     ]
    }
   ],
   "source": [
    "# 第二种\n",
    "a, b = 30, 40\n",
    "print(a, b)"
   ]
  },
  {
   "cell_type": "code",
   "execution_count": 4,
   "metadata": {},
   "outputs": [
    {
     "name": "stdout",
     "output_type": "stream",
     "text": [
      "20 10\n"
     ]
    }
   ],
   "source": [
    "# 普通方式交换数据\n",
    "a = 10\n",
    "b = 20\n",
    "\n",
    "c = a\n",
    "a = b\n",
    "b = c\n",
    "\n",
    "print(a, b)"
   ]
  },
  {
   "cell_type": "code",
   "execution_count": 5,
   "metadata": {},
   "outputs": [
    {
     "name": "stdout",
     "output_type": "stream",
     "text": [
      "20 10\n"
     ]
    }
   ],
   "source": [
    "# 定义比变量的语法方式\n",
    "a = 10\n",
    "b = 20\n",
    "a,b = b,a\n",
    "print(a, b)\n"
   ]
  },
  {
   "cell_type": "code",
   "execution_count": 6,
   "metadata": {},
   "outputs": [
    {
     "name": "stdout",
     "output_type": "stream",
     "text": [
      "<class 'str'>\n"
     ]
    }
   ],
   "source": [
    "s = 'ilovechaheng'\n",
    "res = type(s)\n",
    "print(res)"
   ]
  },
  {
   "cell_type": "code",
   "execution_count": 7,
   "metadata": {},
   "outputs": [],
   "source": [
    "# 单引号和双引号进行定义\n",
    "love = 'iloveyou'\n",
    "hello = \"你好 世界\"\n",
    "\n",
    "# 使用三引号实现大字符串的定义，一般用于大文本字符串的定义，并且大字符串，可以换行\n",
    "s = '''\n",
    "比如说这一个\n",
    "很长很长的文章内容。。。\n",
    "'''"
   ]
  },
  {
   "cell_type": "code",
   "execution_count": 8,
   "metadata": {},
   "outputs": [
    {
     "name": "stdout",
     "output_type": "stream",
     "text": [
      "30\n"
     ]
    }
   ],
   "source": [
    "# 数字类型 Number\n",
    "'''\n",
    "int   整型\n",
    "float 浮点类型\n",
    "complex 复数\n",
    "bool  布尔类型（True，False）\n",
    "'''\n",
    "varn = 521\n",
    "varn = -1111\n",
    "\n",
    "varn = 3.1415926\n",
    "\n",
    "varn = 0x10  # 十六进制\n",
    "\n",
    "varn = b'001100111' # bytes\n",
    "\n",
    "# 复数\n",
    "varn = 5+6j  # complex\n",
    "\n",
    "# 布尔类型  bool\n",
    "varn = True\n",
    "varn = False\n",
    "# print(varn,type(varn))\n",
    "\n",
    "# 数值类型可以参与运算\n",
    "a = 10\n",
    "b = 20\n",
    "print(a+b)"
   ]
  },
  {
   "cell_type": "code",
   "execution_count": 9,
   "metadata": {},
   "outputs": [
    {
     "name": "stdout",
     "output_type": "stream",
     "text": [
      "521\n"
     ]
    }
   ],
   "source": [
    "# 关于列表中的下标\n",
    "'''\n",
    "  0   1   2    3    4 \n",
    "['a','b',521,'pai',3.1415926]\n",
    " -5   -4   -3  -2   -1\n",
    "'''\n",
    "a = ['a','b',521,'pai',3.1415926]\n",
    "print(a[-3])"
   ]
  },
  {
   "cell_type": "code",
   "execution_count": 10,
   "metadata": {},
   "outputs": [],
   "source": [
    "vart = (1,2,3,'a','b')\n",
    "# 元组的其它定义方式\n",
    "vart = 1,2,3"
   ]
  },
  {
   "cell_type": "code",
   "execution_count": null,
   "metadata": {},
   "outputs": [],
   "source": [
    "# 比如需要记录一本书的相关数据 书名，作者，价格，。。。\n",
    "vard = {'title':'<<鬼谷子>>','author':'鬼谷子','price':'29.99'}\n",
    "# print(vard,type(vard))\n",
    "# {'title': '<<鬼谷子>>', 'author': '鬼谷子', 'price': '29.99'} <class 'dict'>\n",
    "\n",
    "# 获取字典中的值\n",
    "print(vard['title'])\n",
    "# 字典中的键不能重复使用，否则会覆盖\n",
    "vard = {'a':10,'b':10,'c':20,'a':'aa',1:'abcdef','2':'2222'}\n",
    "print(vard)"
   ]
  }
 ],
 "metadata": {
  "kernelspec": {
   "display_name": "glm",
   "language": "python",
   "name": "python3"
  },
  "language_info": {
   "codemirror_mode": {
    "name": "ipython",
    "version": 3
   },
   "file_extension": ".py",
   "mimetype": "text/x-python",
   "name": "python",
   "nbconvert_exporter": "python",
   "pygments_lexer": "ipython3",
   "version": "3.10.11"
  },
  "orig_nbformat": 4
 },
 "nbformat": 4,
 "nbformat_minor": 2
}
