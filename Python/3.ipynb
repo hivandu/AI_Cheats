{
 "cells": [
  {
   "cell_type": "markdown",
   "metadata": {},
   "source": [
    "# Python3 的运算符"
   ]
  },
  {
   "cell_type": "code",
   "execution_count": 2,
   "metadata": {},
   "outputs": [],
   "source": [
    "# 4 + 5 = 9"
   ]
  },
  {
   "cell_type": "code",
   "execution_count": 11,
   "metadata": {},
   "outputs": [
    {
     "name": "stdout",
     "output_type": "stream",
     "text": [
      "a+b= 31\n",
      "a-b= -11\n",
      "a*b= 210\n",
      "b/a= 2.1\n",
      "b%a= 1\n",
      "a**b= 1000000000000000000000\n",
      "4\n",
      "-5\n"
     ]
    }
   ],
   "source": [
    "# 算术运算符\n",
    "a = 10\n",
    "b = 21\n",
    "print(\"a+b=\", a+b)\n",
    "print(\"a-b=\", a-b)\n",
    "print(\"a*b=\", a*b)\n",
    "print(\"b/a=\", b/a)\n",
    "print(\"b%a=\", b%a)\n",
    "print(\"a**b=\", a**b)\n",
    "print(9//2)\n",
    "print(-9//2)"
   ]
  },
  {
   "cell_type": "code",
   "execution_count": 14,
   "metadata": {},
   "outputs": [
    {
     "name": "stdout",
     "output_type": "stream",
     "text": [
      "a==b: False\n",
      "a!=b: True\n",
      "a>b: False\n",
      "a<b: True\n",
      "a>=b: False\n",
      "a<=b: True\n"
     ]
    }
   ],
   "source": [
    "# 比较运算符\n",
    "print(\"a==b:\", a==b)\n",
    "print(\"a!=b:\", a!=b)\n",
    "print(\"a>b:\", a>b)\n",
    "print(\"a<b:\", a<b)\n",
    "print(\"a>=b:\", a>=b)\n",
    "print(\"a<=b:\", a<=b)"
   ]
  },
  {
   "cell_type": "code",
   "execution_count": 22,
   "metadata": {},
   "outputs": [
    {
     "name": "stdout",
     "output_type": "stream",
     "text": [
      "31\n",
      "41\n",
      "31\n",
      "310\n",
      "31.0\n",
      "1.0\n",
      "10\n",
      "1\n"
     ]
    }
   ],
   "source": [
    "# 赋值运算符\n",
    "c = a+b\n",
    "print(c)\n",
    "c+=a\n",
    "print(c)\n",
    "c-=a\n",
    "print(c)\n",
    "c*=a\n",
    "print(c)\n",
    "c/=a\n",
    "print(c)\n",
    "c%=a\n",
    "print(c)\n",
    "c=a\n",
    "print(c)\n",
    "c//=a\n",
    "print(c)\n"
   ]
  },
  {
   "cell_type": "code",
   "execution_count": 33,
   "metadata": {},
   "outputs": [
    {
     "name": "stdout",
     "output_type": "stream",
     "text": [
      "0b10100\n",
      "a =  0b111100 , b =  0b1101\n",
      "a&b = 0b1100\n",
      "a|b = 0b111101\n",
      "a^b = 0b110001\n",
      "~a = -0b111101\n",
      "a<<2 =  0b11110000\n",
      "a>>2 =  0b1111\n"
     ]
    }
   ],
   "source": [
    "# 位运算符\n",
    "print(bin(20))\n",
    "a = 60\n",
    "b = 13\n",
    "print(\"a = \", bin(a), \", b = \", bin(b))\n",
    "print(\"a&b =\",bin(a&b))\n",
    "print(\"a|b =\",bin(a|b))\n",
    "print(\"a^b =\",bin(a^b))\n",
    "print(\"~a =\",bin(~a))\n",
    "print(\"a<<2 = \",bin(a<<2))\n",
    "print(\"a>>2 = \",bin(a>>2))"
   ]
  },
  {
   "cell_type": "code",
   "execution_count": 37,
   "metadata": {},
   "outputs": [
    {
     "name": "stdout",
     "output_type": "stream",
     "text": [
      "a and b =  20\n",
      "a or b =  10\n",
      "not(a and b) =  False\n"
     ]
    }
   ],
   "source": [
    "# 逻辑运算符\n",
    "a = 10\n",
    "b = 20\n",
    "print(\"a and b = \", a and b)\n",
    "print(\"a or b = \", a or b)\n",
    "print(\"not(a and b) = \", not(a and b))"
   ]
  },
  {
   "cell_type": "code",
   "execution_count": 39,
   "metadata": {},
   "outputs": [
    {
     "name": "stdout",
     "output_type": "stream",
     "text": [
      "x in y : False\n",
      "x not in y : True\n"
     ]
    }
   ],
   "source": [
    "# 成员运算符\n",
    "x = [0, 1, 2, 3, 4, 5, 6, 7]\n",
    "y = [0, 1, 2, 3, 4, 5, 6, 7, 8, 9, 10]\n",
    "print(\"x in y :\", x in y)\n",
    "print(\"x not in y :\", x not in y)"
   ]
  },
  {
   "cell_type": "code",
   "execution_count": 45,
   "metadata": {},
   "outputs": [
    {
     "name": "stdout",
     "output_type": "stream",
     "text": [
      "x is y: True\n",
      "x is y: True\n",
      "id(x) == id(y) True\n",
      "x is not y: False\n"
     ]
    }
   ],
   "source": [
    "# 身份运算符\n",
    "x = 10\n",
    "y = x\n",
    "print(\"x is y:\", x is y)\n",
    "\n",
    "x = 10\n",
    "y = 10\n",
    "print(\"x is y:\", x is y)\n",
    "print(\"id(x) == id(y)\", id(x) == id(y))\n",
    "print(\"x is not y:\", x is not y)"
   ]
  },
  {
   "cell_type": "code",
   "execution_count": null,
   "metadata": {},
   "outputs": [],
   "source": []
  }
 ],
 "metadata": {
  "kernelspec": {
   "display_name": "glm",
   "language": "python",
   "name": "python3"
  },
  "language_info": {
   "codemirror_mode": {
    "name": "ipython",
    "version": 3
   },
   "file_extension": ".py",
   "mimetype": "text/x-python",
   "name": "python",
   "nbconvert_exporter": "python",
   "pygments_lexer": "ipython3",
   "version": "3.10.11"
  },
  "orig_nbformat": 4
 },
 "nbformat": 4,
 "nbformat_minor": 2
}
