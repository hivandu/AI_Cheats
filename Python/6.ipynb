{
 "cells": [
  {
   "cell_type": "markdown",
   "metadata": {},
   "source": [
    "# 高阶函数"
   ]
  },
  {
   "cell_type": "markdown",
   "metadata": {},
   "source": [
    "## 递归函数"
   ]
  },
  {
   "cell_type": "code",
   "execution_count": 4,
   "metadata": {},
   "outputs": [
    {
     "name": "stdout",
     "output_type": "stream",
     "text": [
      "3\n",
      "2\n",
      "1\n",
      "0\n",
      "0\n",
      "1\n",
      "2\n",
      "3\n"
     ]
    }
   ],
   "source": [
    "# 初步认识一下递归函数 3 2 1 0\n",
    "def recursion(num):\n",
    "    print(num)\n",
    "    # 检测当前值是否到0\n",
    "    if num > 0:\n",
    "        # 调用函数本身\n",
    "        recursion(num - 1)\n",
    "    print(num)\n",
    "recursion(3)\n"
   ]
  },
  {
   "cell_type": "markdown",
   "metadata": {},
   "source": [
    "解析当前递归函数的执行过程：\n",
    "```\n",
    "recursion(3) ==> 3 \n",
    "    recursion(3-1) ==> 2\n",
    "        recursion(2-1) ==> 1\n",
    "            recursion(1-1) ==> 0\n",
    "            recursion(0) ==> 0\n",
    "        recursion(1) ==> 1\n",
    "    recursion(2) ==>2\n",
    "recursion(3) ==> 3\n",
    "```"
   ]
  },
  {
   "cell_type": "code",
   "execution_count": 7,
   "metadata": {},
   "outputs": [
    {
     "name": "stdout",
     "output_type": "stream",
     "text": [
      "<function _self at 0x111ed4280> <class 'function'>\n",
      "i am _self\n"
     ]
    }
   ],
   "source": [
    "# 定义一个函数，函数中的一个参数要求是另外一个函数\n",
    "# 带有回调函数参数的函数\n",
    "def func(f):\n",
    "    print(f, type(f))\n",
    "    # 并且在函数中调用传递进来的形参函数\n",
    "    f()\n",
    "\n",
    "def _self():\n",
    "    print(\"i am _self\")\n",
    "\n",
    "func(_self)"
   ]
  },
  {
   "cell_type": "code",
   "execution_count": 18,
   "metadata": {},
   "outputs": [
    {
     "name": "stdout",
     "output_type": "stream",
     "text": [
      "8\n"
     ]
    }
   ],
   "source": [
    "# 做一个数学计算的函数\n",
    "def func(x, y, obj):\n",
    "    \"\"\"\n",
    "    此函数用来整合其他的数学运算\n",
    "    在当前函数中，需要接收三个参数，前两个为数值，最后一个为函数\n",
    "    x, y: int\n",
    "    f: function\n",
    "    :return:\n",
    "    \"\"\"\n",
    "    print(obj(x, y))\n",
    "\n",
    "func(2, 3, pow)"
   ]
  },
  {
   "cell_type": "code",
   "execution_count": 30,
   "metadata": {},
   "outputs": [
    {
     "name": "stdout",
     "output_type": "stream",
     "text": [
      "100\n",
      "200\n",
      "300\n",
      "400\n",
      "500\n"
     ]
    }
   ],
   "source": [
    "# 定义一个函数\n",
    "def person():\n",
    "    money = 0  # 函数中定义了一个局部变量\n",
    "    # 工作 定义的内函数\n",
    "    def work():\n",
    "        nonlocal money   # 在内函数中使用了外函数的临时变量\n",
    "        money += 100\n",
    "        print(money)\n",
    "    # 在外函数中返回了内函数，这个内函数就是闭包函数\n",
    "    return work\n",
    "\n",
    "res = person() # return work  res = work\n",
    "res() # res() == work()\n",
    "res()\n",
    "res()\n",
    "res()\n",
    "res()\n",
    "# 此时 就不能够在全局中对money这个局部变量进行任何操作了，\n",
    "# 闭包的作用：保护了函数中的变量不受外部的影响，但是又能够不影响使用"
   ]
  },
  {
   "cell_type": "code",
   "execution_count": null,
   "metadata": {},
   "outputs": [],
   "source": [
    "# 定义一个函数\n",
    "def person():\n",
    "    money = 0  # 函数中定义了一个局部变量\n",
    "    # 工作 定义的内函数\n",
    "    def work():\n",
    "        nonlocal money   # 在内函数中使用了外函数的临时变量\n",
    "        money += 100\n",
    "        print(money)\n",
    "    # 在外函数中返回了内函数，这个内函数就是闭包函数\n",
    "    return work\n",
    "\n",
    "res = person() # return work  res = work\n",
    "res() # res() == work()\n",
    "res()\n",
    "res()\n",
    "res()\n",
    "res()\n",
    "# 此时 就不能够在全局中对money这个局部变量进行任何操作了，\n",
    "# 闭包的作用：保护了函数中的变量不受外部的影响，但是又能够不影响使用"
   ]
  },
  {
   "cell_type": "markdown",
   "metadata": {},
   "source": [
    "### lambda"
   ]
  },
  {
   "cell_type": "code",
   "execution_count": 31,
   "metadata": {},
   "outputs": [
    {
     "name": "stdout",
     "output_type": "stream",
     "text": [
      "5\n"
     ]
    }
   ],
   "source": [
    "'''\n",
    "语法：\n",
    "lambda [参数列表]:返回值\n",
    "'''\n",
    "\n",
    "def sum(x, y):\n",
    "    return x+y\n",
    "\n",
    "print(sum(2, 3))"
   ]
  },
  {
   "cell_type": "code",
   "execution_count": 32,
   "metadata": {},
   "outputs": [
    {
     "name": "stdout",
     "output_type": "stream",
     "text": [
      "8\n"
     ]
    }
   ],
   "source": [
    "res = lambda x,y:x+y\n",
    "print(res(4, 4))"
   ]
  },
  {
   "cell_type": "code",
   "execution_count": 37,
   "metadata": {},
   "outputs": [
    {
     "name": "stdout",
     "output_type": "stream",
     "text": [
      "很nice\n"
     ]
    },
    {
     "data": {
      "text/plain": [
       "'很nice'"
      ]
     },
     "execution_count": 37,
     "metadata": {},
     "output_type": "execute_result"
    }
   ],
   "source": [
    "res = lambda sex:\"很man\" if sex=='male' else '很nice'\n",
    "print(res('female'))\n",
    "\n",
    "def func(sex):\n",
    "    if sex == 'male':\n",
    "        return '很man'\n",
    "    else:\n",
    "        return '很nice'\n",
    "\n",
    "func('female')"
   ]
  },
  {
   "cell_type": "markdown",
   "metadata": {},
   "source": [
    "### 迭代器"
   ]
  },
  {
   "cell_type": "code",
   "execution_count": 40,
   "metadata": {},
   "outputs": [
    {
     "name": "stdout",
     "output_type": "stream",
     "text": [
      "10 9 8 7 6 5 4 "
     ]
    }
   ],
   "source": [
    "# range(10, 3, -1) 返回一个可迭代的对象\n",
    "for i in range(10, 3, -1):\n",
    "    print(i, end=\" \")"
   ]
  },
  {
   "cell_type": "code",
   "execution_count": 1,
   "metadata": {},
   "outputs": [
    {
     "ename": "TypeError",
     "evalue": "'range' object is not an iterator",
     "output_type": "error",
     "traceback": [
      "\u001b[0;31m---------------------------------------------------------------------------\u001b[0m",
      "\u001b[0;31mTypeError\u001b[0m                                 Traceback (most recent call last)",
      "Cell \u001b[0;32mIn[1], line 2\u001b[0m\n\u001b[1;32m      1\u001b[0m x \u001b[39m=\u001b[39m \u001b[39mrange\u001b[39m(\u001b[39m5\u001b[39m)\n\u001b[0;32m----> 2\u001b[0m \u001b[39mprint\u001b[39m(\u001b[39mnext\u001b[39;49m(x))\n",
      "\u001b[0;31mTypeError\u001b[0m: 'range' object is not an iterator"
     ]
    }
   ],
   "source": [
    "x = range(5)\n",
    "print(next(x))"
   ]
  },
  {
   "cell_type": "code",
   "execution_count": 24,
   "metadata": {},
   "outputs": [
    {
     "name": "stdout",
     "output_type": "stream",
     "text": [
      "1 2 3 4 []\n"
     ]
    }
   ],
   "source": [
    "res = iter([1, 2, 3, 4])\n",
    "print(next(res), end=\" \")\n",
    "print(next(res), end=\" \")\n",
    "print(next(res), end=\" \")\n",
    "print(next(res), end=\" \")\n",
    "# print(next(res))\n",
    "r = list(res)\n",
    "print(r)"
   ]
  },
  {
   "cell_type": "code",
   "execution_count": 25,
   "metadata": {},
   "outputs": [
    {
     "name": "stdout",
     "output_type": "stream",
     "text": [
      "1 2 3 4 []\n"
     ]
    }
   ],
   "source": [
    "res = iter([1, 2, 3, 4])\n",
    "for i in res:\n",
    "    print(i, end=\" \")\n",
    "\n",
    "r = list(res)\n",
    "print(r)"
   ]
  },
  {
   "cell_type": "code",
   "execution_count": 2,
   "metadata": {},
   "outputs": [
    {
     "name": "stdout",
     "output_type": "stream",
     "text": [
      "<list_iterator object at 0x124111a50>\n",
      "1\n",
      "False\n"
     ]
    }
   ],
   "source": [
    "a = iter([1, 2, 3])\n",
    "print(a)\n",
    "print(next(a))\n",
    "print(1 in a)"
   ]
  },
  {
   "cell_type": "code",
   "execution_count": 3,
   "metadata": {},
   "outputs": [
    {
     "name": "stdout",
     "output_type": "stream",
     "text": [
      "True\n",
      "4425502096\n",
      "4425502096\n"
     ]
    }
   ],
   "source": [
    "i = iter([1, 2, 3])\n",
    "print(iter(i) is i)\n",
    "print(id(iter(i)))\n",
    "print(id(i))"
   ]
  },
  {
   "cell_type": "code",
   "execution_count": 4,
   "metadata": {},
   "outputs": [
    {
     "data": {
      "text/plain": [
       "[(1, 2), (3, 4)]"
      ]
     },
     "execution_count": 4,
     "metadata": {},
     "output_type": "execute_result"
    }
   ],
   "source": [
    "i = iter([1, 2, 3, 4])\n",
    "list(zip(i, i))"
   ]
  },
  {
   "cell_type": "code",
   "execution_count": 5,
   "metadata": {},
   "outputs": [
    {
     "data": {
      "text/plain": [
       "<range_iterator at 0x124184570>"
      ]
     },
     "execution_count": 5,
     "metadata": {},
     "output_type": "execute_result"
    }
   ],
   "source": [
    "iter(range(3))"
   ]
  },
  {
   "cell_type": "code",
   "execution_count": 7,
   "metadata": {},
   "outputs": [
    {
     "data": {
      "text/plain": [
       "(0, 1, 2)"
      ]
     },
     "execution_count": 7,
     "metadata": {},
     "output_type": "execute_result"
    }
   ],
   "source": [
    "items = range(3)\n",
    "tuple(items)"
   ]
  },
  {
   "cell_type": "code",
   "execution_count": 8,
   "metadata": {},
   "outputs": [
    {
     "data": {
      "text/plain": [
       "(0, 1, 2)"
      ]
     },
     "execution_count": 8,
     "metadata": {},
     "output_type": "execute_result"
    }
   ],
   "source": [
    "tuple(items)"
   ]
  },
  {
   "cell_type": "code",
   "execution_count": 29,
   "metadata": {},
   "outputs": [
    {
     "name": "stdout",
     "output_type": "stream",
     "text": [
      "1 2 3 4 [1, 2, 3, 4]\n"
     ]
    }
   ],
   "source": [
    "res = range(1,5)\n",
    "for i in res:\n",
    "    print(i, end=\" \")\n",
    "\n",
    "r = list(res)\n",
    "print(r)"
   ]
  },
  {
   "cell_type": "code",
   "execution_count": 32,
   "metadata": {},
   "outputs": [
    {
     "name": "stdout",
     "output_type": "stream",
     "text": [
      "varstr 是迭代对象：True, \t varstr 是迭代器: False\n",
      "res 是迭代对象：True, \t res 是迭代器: True\n",
      "r 是迭代对象：True, \t r 是迭代器: False\n"
     ]
    }
   ],
   "source": [
    "# 检测迭代器和可迭代对象\n",
    "from collections.abc import Iterator, Iterable \n",
    "\n",
    "varstr = '123456'\n",
    "res = iter(varstr)\n",
    "r = range(1, 5)\n",
    "\n",
    "# isinstance() 检测一个数据是不是一个指定的类型\n",
    "r1 = isinstance(varstr, Iterable) # True 可迭代对象\n",
    "r2 = isinstance(varstr, Iterator) # False 不是一个迭代器\n",
    "r3 = isinstance(res, Iterable) # True 可迭代对象\n",
    "r4 = isinstance(res, Iterator) # True 是一个迭代器\n",
    "r5 = isinstance(r, Iterable) # True 是一个可迭代对象\n",
    "r6 = isinstance(r, Iterator) # Flase 不是一个迭代器\n",
    "\n",
    "print(f'varstr 是迭代对象：{r1}, \\t varstr 是迭代器: {r2}')\n",
    "print(f'res 是迭代对象：{r3}, \\t res 是迭代器: {r4}')\n",
    "print(f'r 是迭代对象：{r5}, \\t r 是迭代器: {r6}')\n",
    "\n",
    "\n"
   ]
  },
  {
   "cell_type": "code",
   "execution_count": 48,
   "metadata": {},
   "outputs": [
    {
     "name": "stdout",
     "output_type": "stream",
     "text": [
      "5\n"
     ]
    }
   ],
   "source": [
    "# 递归实现斐波那契数列\n",
    "def fibonacci(n):\n",
    "    if n == 1:\n",
    "        return 0\n",
    "    elif n == 2 or n == 3:\n",
    "        return 1\n",
    "    else:\n",
    "        return fibonacci(n-1) + fibonacci(n-2)\n",
    "    \n",
    "res = fibonacci(6)\n",
    "print(res)\n"
   ]
  },
  {
   "cell_type": "code",
   "execution_count": 51,
   "metadata": {},
   "outputs": [
    {
     "name": "stdout",
     "output_type": "stream",
     "text": [
      "5040\n"
     ]
    }
   ],
   "source": [
    "print(1*2*3*4*5*6*7)"
   ]
  },
  {
   "cell_type": "code",
   "execution_count": 53,
   "metadata": {},
   "outputs": [
    {
     "name": "stdout",
     "output_type": "stream",
     "text": [
      "5040\n"
     ]
    }
   ],
   "source": [
    "# 实现阶乘\n",
    "def factorial(n):\n",
    "    if n == 1:\n",
    "        return 1\n",
    "    else:\n",
    "        return n*factorial(n-1)\n",
    "    \n",
    "res = factorial(7)\n",
    "print(res)\n",
    "\n",
    "'''\n",
    "factorial(7) => \n",
    "7 * factorial(6) => \n",
    "    6 * factorial(5) => \n",
    "        5 * factorial(4) => \n",
    "            4 * factorial(3) => \n",
    "                3 * factorial(2) => \n",
    "                    2 * factorial(1) => \n",
    "                        factorial(1) = 1\n",
    "                    2 * 1 = 2\n",
    "                3 * 2 = 6\n",
    "            4 * 6 = 24\n",
    "        5 * 24 = 120\n",
    "    6 * 120 = 720\n",
    "7 * 720 = 5040\n",
    "'''\n"
   ]
  },
  {
   "cell_type": "markdown",
   "metadata": {},
   "source": [
    "![欢迎订阅：坍缩的奇点](../assets/Capture-2023-11-02-164446.png)"
   ]
  },
  {
   "cell_type": "code",
   "execution_count": null,
   "metadata": {},
   "outputs": [],
   "source": []
  },
  {
   "cell_type": "code",
   "execution_count": null,
   "metadata": {},
   "outputs": [],
   "source": []
  }
 ],
 "metadata": {
  "kernelspec": {
   "display_name": "glm",
   "language": "python",
   "name": "python3"
  },
  "language_info": {
   "codemirror_mode": {
    "name": "ipython",
    "version": 3
   },
   "file_extension": ".py",
   "mimetype": "text/x-python",
   "name": "python",
   "nbconvert_exporter": "python",
   "pygments_lexer": "ipython3",
   "version": "3.10.11"
  },
  "orig_nbformat": 4
 },
 "nbformat": 4,
 "nbformat_minor": 2
}
