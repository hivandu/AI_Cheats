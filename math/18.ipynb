{
 "cells": [
  {
   "cell_type": "markdown",
   "metadata": {},
   "source": [
    "# 18. Linear Transformations"
   ]
  },
  {
   "cell_type": "code",
   "execution_count": 1,
   "metadata": {},
   "outputs": [
    {
     "name": "stdout",
     "output_type": "stream",
     "text": [
      "1.23.2\n"
     ]
    }
   ],
   "source": [
    "import numpy as np    # Import the NumPy module\n",
    "print(np.version.version)   # Check the currently installed NumPy version"
   ]
  },
  {
   "cell_type": "code",
   "execution_count": 2,
   "metadata": {},
   "outputs": [
    {
     "name": "stdout",
     "output_type": "stream",
     "text": [
      "[[1 2 3]\n",
      " [4 5 6]]\n"
     ]
    }
   ],
   "source": [
    "# Declaration of a basic data type - array in NumPy\n",
    "a = np.array([[1, 2, 3], [4, 5, 6]])   \n",
    "print(a)"
   ]
  },
  {
   "cell_type": "code",
   "execution_count": 3,
   "metadata": {},
   "outputs": [
    {
     "name": "stdout",
     "output_type": "stream",
     "text": [
      "The number of dimensions of array a is:  2\n"
     ]
    }
   ],
   "source": [
    "# Array dimensions\n",
    "print(\"The number of dimensions of array a is: \", a.ndim)  "
   ]
  },
  {
   "cell_type": "code",
   "execution_count": 4,
   "metadata": {},
   "outputs": [
    {
     "name": "stdout",
     "output_type": "stream",
     "text": [
      "The length of each dimension of array a is:  (2, 3)\n"
     ]
    }
   ],
   "source": [
    "# Length of each dimension of the array\n",
    "print(\"The length of each dimension of array a is: \", a.shape)  "
   ]
  },
  {
   "cell_type": "code",
   "execution_count": 5,
   "metadata": {},
   "outputs": [
    {
     "name": "stdout",
     "output_type": "stream",
     "text": [
      "The total number of elements in array a is:  6\n"
     ]
    }
   ],
   "source": [
    "# Total number of elements in the array\n",
    "print(\"The total number of elements in array a is: \", a.size)  "
   ]
  },
  {
   "cell_type": "code",
   "execution_count": 6,
   "metadata": {},
   "outputs": [
    {
     "name": "stdout",
     "output_type": "stream",
     "text": [
      "The type of elements in array a is:  int64\n"
     ]
    }
   ],
   "source": [
    "# Type of elements in the array\n",
    "print(\"The type of elements in array a is: \", a.dtype)  "
   ]
  },
  {
   "cell_type": "code",
   "execution_count": 7,
   "metadata": {},
   "outputs": [
    {
     "name": "stdout",
     "output_type": "stream",
     "text": [
      "[ 0  5 10 15]\n"
     ]
    }
   ],
   "source": [
    "# Create an array using the arange function (start, end, step)\n",
    "b = np.arange(0, 20, 5)     \n",
    "print(b)"
   ]
  },
  {
   "cell_type": "code",
   "execution_count": 8,
   "metadata": {},
   "outputs": [
    {
     "data": {
      "text/plain": [
       "array([[ 0,  5],\n",
       "       [10, 15]])"
      ]
     },
     "execution_count": 8,
     "metadata": {},
     "output_type": "execute_result"
    }
   ],
   "source": [
    "# Change the shape of the array\n",
    "b.reshape(2, 2)         "
   ]
  },
  {
   "cell_type": "code",
   "execution_count": 9,
   "metadata": {},
   "outputs": [
    {
     "name": "stdout",
     "output_type": "stream",
     "text": [
      "[0.         0.22222222 0.44444444 0.66666667 0.88888889 1.11111111\n",
      " 1.33333333 1.55555556 1.77777778 2.        ]\n"
     ]
    }
   ],
   "source": [
    "# Create an array using the linspace function (start, end, number of elements)\n",
    "c = np.linspace(0, 2, 10)   \n",
    "print(c)"
   ]
  },
  {
   "cell_type": "code",
   "execution_count": 10,
   "metadata": {},
   "outputs": [
    {
     "name": "stdout",
     "output_type": "stream",
     "text": [
      "[[0. 0. 0. 0.]\n",
      " [0. 0. 0. 0.]\n",
      " [0. 0. 0. 0.]]\n"
     ]
    }
   ],
   "source": [
    "# Quickly create an array with all elements as 0\n",
    "zero_arr = np.zeros((3,4))   \n",
    "print(zero_arr)"
   ]
  },
  {
   "cell_type": "code",
   "execution_count": 11,
   "metadata": {},
   "outputs": [
    {
     "name": "stdout",
     "output_type": "stream",
     "text": [
      "[[[1 1 1 1]\n",
      "  [1 1 1 1]\n",
      "  [1 1 1 1]]\n",
      "\n",
      " [[1 1 1 1]\n",
      "  [1 1 1 1]\n",
      "  [1 1 1 1]]]\n"
     ]
    }
   ],
   "source": [
    "one_arr = np.ones((2,3,4), dtype=np.int64)   # Quickly create an array with all elements as 1, and set the type to integer\n",
    "print(one_arr)"
   ]
  },
  {
   "cell_type": "code",
   "execution_count": 12,
   "metadata": {},
   "outputs": [
    {
     "name": "stdout",
     "output_type": "stream",
     "text": [
      "[[1. 0. 0.]\n",
      " [0. 1. 0.]\n",
      " [0. 0. 1.]]\n"
     ]
    }
   ],
   "source": [
    "eye_arr = np.eye(3)   # Quickly create an identity matrix\n",
    "print(eye_arr)"
   ]
  },
  {
   "cell_type": "code",
   "execution_count": 13,
   "metadata": {},
   "outputs": [
    {
     "name": "stdout",
     "output_type": "stream",
     "text": [
      "[1 2 3 4]\n",
      "[1 3]\n"
     ]
    }
   ],
   "source": [
    "arr = np.array([1, 2, 3, 4, 5, 6])\n",
    "print(arr[0:4])      \n",
    "print(arr[0:4:2])"
   ]
  },
  {
   "cell_type": "code",
   "execution_count": 14,
   "metadata": {},
   "outputs": [
    {
     "name": "stdout",
     "output_type": "stream",
     "text": [
      "1\n",
      "2\n",
      "3\n",
      "4\n",
      "5\n",
      "6\n"
     ]
    }
   ],
   "source": [
    "# Traversing each element in the array\n",
    "for ele in arr:     \n",
    "    print(ele)"
   ]
  },
  {
   "cell_type": "code",
   "execution_count": 15,
   "metadata": {},
   "outputs": [
    {
     "name": "stdout",
     "output_type": "stream",
     "text": [
      "[[1 2 3]\n",
      " [4 5 6]]\n"
     ]
    }
   ],
   "source": [
    "# Changing the shape of the arr array\n",
    "arr = arr.reshape(2,3)     \n",
    "print(arr)"
   ]
  },
  {
   "cell_type": "code",
   "execution_count": 16,
   "metadata": {},
   "outputs": [
    {
     "name": "stdout",
     "output_type": "stream",
     "text": [
      "[1 2 3]\n"
     ]
    }
   ],
   "source": [
    "# Selecting the first subsequence of the first dimension in the arr array\n",
    "print(arr[0,:])            "
   ]
  },
  {
   "cell_type": "code",
   "execution_count": 17,
   "metadata": {},
   "outputs": [
    {
     "name": "stdout",
     "output_type": "stream",
     "text": [
      "1\n"
     ]
    }
   ],
   "source": [
    "# Selecting the first element in the first subsequence of the first dimension in the arr array\n",
    "print(arr[0, 0])           "
   ]
  },
  {
   "cell_type": "code",
   "execution_count": 18,
   "metadata": {},
   "outputs": [
    {
     "name": "stdout",
     "output_type": "stream",
     "text": [
      "[2 5]\n"
     ]
    }
   ],
   "source": [
    "# Selecting all elements in the second subsequence of the second dimension in the arr array\n",
    "print(arr[:, 1])           "
   ]
  },
  {
   "cell_type": "code",
   "execution_count": 19,
   "metadata": {},
   "outputs": [
    {
     "name": "stdout",
     "output_type": "stream",
     "text": [
      "[[1 2]\n",
      " [3 4]]\n",
      "********\n",
      "[[5 6]\n",
      " [7 8]]\n"
     ]
    }
   ],
   "source": [
    "# Declaring two 2D arrays\n",
    "arr1 = np.array([[1, 2], [3, 4]])     \n",
    "print(arr1)\n",
    "print(\"********\")\n",
    "arr2 = np.array([[5, 6], [7, 8]])\n",
    "print(arr2)"
   ]
  },
  {
   "cell_type": "code",
   "execution_count": 20,
   "metadata": {},
   "outputs": [
    {
     "name": "stdout",
     "output_type": "stream",
     "text": [
      "[[4 4]\n",
      " [4 4]]\n"
     ]
    }
   ],
   "source": [
    "# Element-wise subtraction of two arrays\n",
    "print(arr2-arr1)     "
   ]
  },
  {
   "cell_type": "code",
   "execution_count": 21,
   "metadata": {},
   "outputs": [
    {
     "name": "stdout",
     "output_type": "stream",
     "text": [
      "[[ 6  8]\n",
      " [10 12]]\n"
     ]
    }
   ],
   "source": [
    "# Element-wise addition of two arrays\n",
    "print(arr2+arr1)     "
   ]
  },
  {
   "cell_type": "code",
   "execution_count": 22,
   "metadata": {},
   "outputs": [
    {
     "name": "stdout",
     "output_type": "stream",
     "text": [
      "[[ 5 12]\n",
      " [21 32]]\n"
     ]
    }
   ],
   "source": [
    "# Element-wise multiplication of two arrays\n",
    "print(arr2*arr1)     \n"
   ]
  },
  {
   "cell_type": "code",
   "execution_count": 23,
   "metadata": {},
   "outputs": [
    {
     "name": "stdout",
     "output_type": "stream",
     "text": [
      "[[5.         3.        ]\n",
      " [2.33333333 2.        ]]\n"
     ]
    }
   ],
   "source": [
    "# Element-wise division of two arrays\n",
    "print(arr2/arr1)     "
   ]
  },
  {
   "cell_type": "code",
   "execution_count": 24,
   "metadata": {},
   "outputs": [
    {
     "name": "stdout",
     "output_type": "stream",
     "text": [
      "[[ 1  4]\n",
      " [ 9 16]]\n"
     ]
    }
   ],
   "source": [
    "# Element-wise power operation\n",
    "print(arr1**2)     "
   ]
  },
  {
   "cell_type": "code",
   "execution_count": 25,
   "metadata": {},
   "outputs": [
    {
     "name": "stdout",
     "output_type": "stream",
     "text": [
      "[[19 22]\n",
      " [43 50]]\n"
     ]
    }
   ],
   "source": [
    "print(arr1 @ arr2)  # Matrix multiplication between two arrays"
   ]
  },
  {
   "cell_type": "code",
   "execution_count": 26,
   "metadata": {},
   "outputs": [
    {
     "name": "stdout",
     "output_type": "stream",
     "text": [
      "[[19 22]\n",
      " [43 50]]\n",
      "**********\n",
      "[[19 22]\n",
      " [43 50]]\n"
     ]
    }
   ],
   "source": [
    "print(np.dot(arr1, arr2))   # Matrix multiplication between two arrays using dot\n",
    "print(\"*\" * 10)\n",
    "print(arr1.dot(arr2))"
   ]
  },
  {
   "cell_type": "code",
   "execution_count": 27,
   "metadata": {},
   "outputs": [
    {
     "name": "stdout",
     "output_type": "stream",
     "text": [
      "[[1 3]\n",
      " [2 4]]\n"
     ]
    }
   ],
   "source": [
    "print(arr1.T)  # Transpose of an array"
   ]
  },
  {
   "cell_type": "code",
   "execution_count": 28,
   "metadata": {},
   "outputs": [
    {
     "name": "stdout",
     "output_type": "stream",
     "text": [
      "[[1 2 3]\n",
      " [4 5 6]]\n",
      "Index of the maximum element in arr3:  5\n",
      "Index of the maximum element along the first axis in arr3:  [1 1 1]\n",
      "Index of the maximum element along the second axis in arr3:  [2 2]\n"
     ]
    }
   ],
   "source": [
    "arr3 = np.array([[1, 2, 3], [4, 5, 6]])\n",
    "print(arr3)\n",
    "print(\"Index of the maximum element in arr3: \", np.argmax(arr3))                    # Index of the maximum element in the array\n",
    "print(\"Index of the maximum element along the first axis in arr3: \", np.argmax(arr3, axis=0))    # Index of the maximum element along the first axis\n",
    "print(\"Index of the maximum element along the second axis in arr3: \", np.argmax(arr3, axis=1))    # Index of the maximum element along the second axis"
   ]
  },
  {
   "cell_type": "code",
   "execution_count": 29,
   "metadata": {},
   "outputs": [
    {
     "name": "stdout",
     "output_type": "stream",
     "text": [
      "Shape of a in array form:  (2,)\n",
      "Shape of a in matrix form:  (1, 2)\n"
     ]
    }
   ],
   "source": [
    "# Differences between array and matrix in NumPy\n",
    "import numpy as np\n",
    "a_arr = np.array([1,2])\n",
    "print(\"Shape of a in array form: \", a_arr.shape)\n",
    "a_mat = np.mat([1,2])\n",
    "print(\"Shape of a in matrix form: \", a_mat.shape)"
   ]
  },
  {
   "cell_type": "code",
   "execution_count": 30,
   "metadata": {},
   "outputs": [
    {
     "name": "stdout",
     "output_type": "stream",
     "text": [
      "This matrix is:\n",
      " [[1 2]\n",
      " [3 4]]\n",
      "**********\n",
      "Transpose of this matrix is:\n",
      " [[1 3]\n",
      " [2 4]]\n"
     ]
    }
   ],
   "source": [
    "# Transposing a matrix\n",
    "mat_temp = np.mat([[1,2],[3,4]])\n",
    "print(\"This matrix is:\\n\", mat_temp)\n",
    "print('*' * 10)\n",
    "print(\"Transpose of this matrix is:\\n\", mat_temp.T)"
   ]
  },
  {
   "cell_type": "code",
   "execution_count": 31,
   "metadata": {},
   "outputs": [
    {
     "name": "stdout",
     "output_type": "stream",
     "text": [
      "This matrix is:\n",
      " [[1 2]\n",
      " [3 4]]\n",
      "**********\n",
      "Inverse of this matrix is:\n",
      " [[-2.   1. ]\n",
      " [ 1.5 -0.5]]\n",
      "Product of this matrix and its inverse is:\n",
      " [[1. 0.]\n",
      " [0. 1.]]\n"
     ]
    }
   ],
   "source": [
    "# Finding the inverse of a matrix\n",
    "mat_temp = np.mat([[1,2],[3,4]])\n",
    "print(\"This matrix is:\\n\", mat_temp)\n",
    "print('*' * 10)\n",
    "mat_inv = mat_temp.I\n",
    "print(\"Inverse of this matrix is:\\n\", mat_inv)\n",
    "print(\"Product of this matrix and its inverse is:\\n\", np.round(mat_temp.dot(mat_inv)))    # np.round is used to round the result to a specific number of decimal places"
   ]
  },
  {
   "cell_type": "code",
   "execution_count": 32,
   "metadata": {},
   "outputs": [
    {
     "name": "stdout",
     "output_type": "stream",
     "text": [
      "This system of linear equations is:\n",
      " [[1 2 3]\n",
      " [4 5 6]]\n",
      "**********\n",
      "Solution to the system of linear equations is:\n",
      " [[-1.]\n",
      " [ 2.]]\n"
     ]
    }
   ],
   "source": [
    "equa = np.mat([[1,2,3],[4,5,6]])\n",
    "print(\"This system of linear equations is:\\n\", equa)\n",
    "print('*' * 10)\n",
    "A = np.array([[1,2], [4,5]])   # 2x2 coefficient matrix\n",
    "b = np.array([3,6])            # 2x1 matrix\n",
    "res = np.linalg.solve(A, b)   # Solving the system of linear equations determined by the coefficient matrix\n",
    "print(\"Solution to the system of linear equations is:\\n\", res.reshape(1,2).T)"
   ]
  },
  {
   "cell_type": "code",
   "execution_count": 33,
   "metadata": {},
   "outputs": [
    {
     "name": "stdout",
     "output_type": "stream",
     "text": [
      "This system of linear equations is:\n",
      " [[1 2 3]\n",
      " [4 5 6]]\n",
      "**********\n",
      "Solution to the system of linear equations is:\n",
      " [[-1.]\n",
      " [ 2.]]\n"
     ]
    }
   ],
   "source": [
    "equa = np.mat([[1,2,3],[4,5,6]])\n",
    "print(\"This system of linear equations is:\\n\", equa)\n",
    "print('*' * 10)\n",
    "A = np.mat([[1,2], [4,5]])   # 2x2 coefficient matrix\n",
    "b = np.mat([3,6]).T  # 2x1 matrix (must be in column vector form)\n",
    "res = np.linalg.solve(A, b)   # Solving the system of linear equations determined by the coefficient matrix\n",
    "print(\"Solution to the system of linear equations is:\\n\", res)"
   ]
  },
  {
   "cell_type": "code",
   "execution_count": null,
   "metadata": {},
   "outputs": [],
   "source": []
  }
 ],
 "metadata": {
  "kernelspec": {
   "display_name": "ml",
   "language": "python",
   "name": "python3"
  },
  "language_info": {
   "codemirror_mode": {
    "name": "ipython",
    "version": 3
   },
   "file_extension": ".py",
   "mimetype": "text/x-python",
   "name": "python",
   "nbconvert_exporter": "python",
   "pygments_lexer": "ipython3",
   "version": "3.9.16"
  }
 },
 "nbformat": 4,
 "nbformat_minor": 2
}
