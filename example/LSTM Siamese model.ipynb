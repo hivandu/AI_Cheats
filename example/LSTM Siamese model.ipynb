{
 "cells": [
  {
   "cell_type": "markdown",
   "metadata": {},
   "source": [
    "# LSTM Siamese neural network"
   ]
  },
  {
   "cell_type": "code",
   "execution_count": 35,
   "metadata": {},
   "outputs": [],
   "source": [
    "import torch\n",
    "from torch import nn, optim\n",
    "from torchvision import datasets, transforms\n",
    "import torch.nn.functional as F\n",
    "\n",
    "import numpy as np\n",
    "import torchvision as tv\n",
    "import matplotlib.pyplot as plt\n",
    "import datetime\n",
    "from tqdm import tqdm\n",
    "from copy import deepcopy\n",
    "from torchmetrics import Accuracy"
   ]
  },
  {
   "cell_type": "code",
   "execution_count": 79,
   "metadata": {},
   "outputs": [],
   "source": [
    "# 设置打印函数\n",
    "def printlog(info):\n",
    "    nowtime = datetime.datetime.now().strftime('%Y-%m-%d %H:%M:%S')\n",
    "    print(\"==========\"*8 + '\\n' + \"%s\"%nowtime)\n",
    "    print(str(info)+\"\\n\")"
   ]
  },
  {
   "cell_type": "code",
   "execution_count": 37,
   "metadata": {},
   "outputs": [],
   "source": [
    "# 下载 MNIST 数据集并初始化 dataloader\n",
    "transform = transforms.Compose([transforms.ToTensor()])\n",
    "ds_train = tv.datasets.MNIST(root=\"dataset/\", train=True, download=True, transform=transform) \n",
    "ds_val = tv.datasets.MNIST(root=\"dataset/\", train=False, download=True, transform=transform) \n",
    "train_ldr = torch.utils.data.DataLoader(ds_train, batch_size=50, shuffle=True, num_workers=2) \n",
    "evaluate_ldr = torch.utils.data.DataLoader(ds_val, batch_size=50, shuffle=False, num_workers=2) "
   ]
  },
  {
   "cell_type": "code",
   "execution_count": 38,
   "metadata": {},
   "outputs": [],
   "source": [
    "class LSTM(nn.Module):\n",
    "    '''\n",
    "    input_len: 是指MNIST图像的尺寸，本例中为28, 因为每个图像都是 28 x 28 尺寸;\n",
    "    ''' \n",
    "    def __init__(self, input_len, hidden_size, num_classes, n_layers): \n",
    "        super(LSTM, self).__init__() \n",
    "        self.hidden_size = hidden_size  \n",
    "        self.n_layers = n_layers        \n",
    "        # number of layers 可使模型捕捉到不同层次的抽象概念\n",
    "        self.lstm = nn.LSTM(input_len, hidden_size, n_layers, batch_first=True)  \n",
    "        # 最后通过线性层输出\n",
    "        self.output_layer = nn.Linear(hidden_size, num_classes) \n",
    "        \n",
    "   \n",
    "    def forward(self, X): \n",
    "        hidden_states = torch.zeros(self.n_layers, X.size(0), self.hidden_size) \n",
    "        cell_states = torch.zeros(self.n_layers, X.size(0), self.hidden_size) \n",
    "        output, hide = self.lstm(X, (hidden_states, cell_states)) \n",
    "        output = self.output_layer(output[:,-1,:]) \n",
    "        \n",
    "        return output"
   ]
  },
  {
   "cell_type": "code",
   "execution_count": 58,
   "metadata": {},
   "outputs": [],
   "source": [
    "class LSTM(nn.Module):\n",
    "    def __init__(self, input_len, hidden_size, num_classes, n_layers):\n",
    "        super(LSTM, self).__init__()\n",
    "        self.hidden_size = hidden_size\n",
    "        self.n_layers = n_layers\n",
    "        self.lstm = nn.LSTM(input_len, hidden_size, n_layers, batch_first=True)\n",
    "        self.output_layer = nn.Linear(hidden_size, num_classes)\n",
    "\n",
    "    def forward(self, X):\n",
    "        # 动态生成隐藏状态和细胞状态\n",
    "        batch_size = X.size(0)\n",
    "        hidden_states = torch.zeros(self.n_layers, batch_size, self.hidden_size).to(X.device)\n",
    "        cell_states = torch.zeros(self.n_layers, batch_size, self.hidden_size).to(X.device)\n",
    "        \n",
    "        # 通过forward方法传入数据和动态生成的隐藏状态和细胞状态\n",
    "        output, (hide, cell) = self.lstm(X, (hidden_states, cell_states))\n",
    "        output = self.output_layer(output[:, -1, :])\n",
    "        return output"
   ]
  },
  {
   "cell_type": "code",
   "execution_count": 59,
   "metadata": {},
   "outputs": [],
   "source": [
    "# 初始化 LSTM 模型\n",
    "lstm_class_model = LSTM(28, 128, 10, 3)"
   ]
  },
  {
   "cell_type": "code",
   "execution_count": 60,
   "metadata": {},
   "outputs": [],
   "source": [
    "# 训练模型\n",
    "learning_rate = 0.001\n",
    "loss_fn = nn.CrossEntropyLoss()  \n",
    "opt = torch.optim.Adam(lstm_class_model.parameters(), lr=learning_rate)"
   ]
  },
  {
   "cell_type": "code",
   "execution_count": 61,
   "metadata": {},
   "outputs": [
    {
     "data": {
      "text/plain": [
       "CrossEntropyLoss()"
      ]
     },
     "execution_count": 61,
     "metadata": {},
     "output_type": "execute_result"
    }
   ],
   "source": [
    "# 声明device\n",
    "device = torch.device(\"mps\" if torch.backends.mps.is_available() else \"cpu\")\n",
    "lstm_class_model.to(device)\n",
    "loss_fn.to(device)"
   ]
  },
  {
   "cell_type": "code",
   "execution_count": 62,
   "metadata": {},
   "outputs": [
    {
     "name": "stdout",
     "output_type": "stream",
     "text": [
      "\n",
      "Loading 60000 item training dataset\n",
      "\n",
      "Creating LSTM classification network\n",
      "LSTM(\n",
      "  (lstm): LSTM(28, 128, num_layers=3, batch_first=True)\n",
      "  (output_layer): Linear(in_features=128, out_features=10, bias=True)\n",
      ")\n",
      "loss = Cross Entropy Loss\n",
      "optimizer = Adam\n",
      "maximum epochs =  50 \n",
      "learning rate = 0.001 \n",
      "\n",
      "Starting training\n",
      "\n",
      "================================================================================2023-12-26 22:47:51\n",
      "Epoch 0 / 50\n",
      "\n"
     ]
    },
    {
     "name": "stderr",
     "output_type": "stream",
     "text": [
      "100%|███████████████████████████████████████████████████████████| 1200/1200 [00:29<00:00, 46.84it/s]"
     ]
    },
    {
     "name": "stdout",
     "output_type": "stream",
     "text": [
      "Epoch...1 Cross entropy loss 1..0.40343018252790597\n"
     ]
    },
    {
     "name": "stderr",
     "output_type": "stream",
     "text": [
      "100%|███████████████████████████████████████████████████████████| 1200/1200 [00:30<00:00, 39.82it/s]"
     ]
    },
    {
     "name": "stdout",
     "output_type": "stream",
     "text": [
      "\n",
      "================================================================================2023-12-26 22:48:21\n",
      "Epoch 1 / 50\n",
      "\n"
     ]
    },
    {
     "name": "stderr",
     "output_type": "stream",
     "text": [
      "\n",
      "100%|██████████████████████████████████████████████████████████▊| 1197/1200 [00:24<00:00, 62.08it/s]"
     ]
    },
    {
     "name": "stdout",
     "output_type": "stream",
     "text": [
      "Epoch...2 Cross entropy loss 1..0.10297167093260214\n"
     ]
    },
    {
     "name": "stderr",
     "output_type": "stream",
     "text": [
      "100%|███████████████████████████████████████████████████████████| 1200/1200 [00:24<00:00, 48.59it/s]"
     ]
    },
    {
     "name": "stdout",
     "output_type": "stream",
     "text": [
      "\n",
      "================================================================================2023-12-26 22:48:46\n",
      "Epoch 2 / 50\n",
      "\n"
     ]
    },
    {
     "name": "stderr",
     "output_type": "stream",
     "text": [
      "\n",
      "100%|██████████████████████████████████████████████████████████▊| 1196/1200 [00:29<00:00, 47.34it/s]"
     ]
    },
    {
     "name": "stdout",
     "output_type": "stream",
     "text": [
      "Epoch...3 Cross entropy loss 1..0.06983065184525912\n"
     ]
    },
    {
     "name": "stderr",
     "output_type": "stream",
     "text": [
      "100%|███████████████████████████████████████████████████████████| 1200/1200 [00:30<00:00, 39.09it/s]"
     ]
    },
    {
     "name": "stdout",
     "output_type": "stream",
     "text": [
      "\n",
      "================================================================================2023-12-26 22:49:17\n",
      "Epoch 3 / 50\n",
      "\n"
     ]
    },
    {
     "name": "stderr",
     "output_type": "stream",
     "text": [
      "\n",
      "100%|██████████████████████████████████████████████████████████▉| 1199/1200 [00:28<00:00, 59.84it/s]"
     ]
    },
    {
     "name": "stdout",
     "output_type": "stream",
     "text": [
      "Epoch...4 Cross entropy loss 1..0.05665066524486368\n"
     ]
    },
    {
     "name": "stderr",
     "output_type": "stream",
     "text": [
      "100%|███████████████████████████████████████████████████████████| 1200/1200 [00:28<00:00, 41.65it/s]"
     ]
    },
    {
     "name": "stdout",
     "output_type": "stream",
     "text": [
      "\n",
      "================================================================================2023-12-26 22:49:45\n",
      "Epoch 4 / 50\n",
      "\n"
     ]
    },
    {
     "name": "stderr",
     "output_type": "stream",
     "text": [
      "\n",
      "100%|██████████████████████████████████████████████████████████▉| 1198/1200 [00:28<00:00, 64.87it/s]"
     ]
    },
    {
     "name": "stdout",
     "output_type": "stream",
     "text": [
      "Epoch...5 Cross entropy loss 1..0.04449357635846051\n"
     ]
    },
    {
     "name": "stderr",
     "output_type": "stream",
     "text": [
      "100%|███████████████████████████████████████████████████████████| 1200/1200 [00:28<00:00, 42.18it/s]"
     ]
    },
    {
     "name": "stdout",
     "output_type": "stream",
     "text": [
      "\n",
      "================================================================================2023-12-26 22:50:14\n",
      "Epoch 5 / 50\n",
      "\n"
     ]
    },
    {
     "name": "stderr",
     "output_type": "stream",
     "text": [
      "\n",
      "100%|██████████████████████████████████████████████████████████▋| 1194/1200 [00:24<00:00, 27.58it/s]"
     ]
    },
    {
     "name": "stdout",
     "output_type": "stream",
     "text": [
      "Epoch...6 Cross entropy loss 1..0.03839455451350659\n"
     ]
    },
    {
     "name": "stderr",
     "output_type": "stream",
     "text": [
      "100%|███████████████████████████████████████████████████████████| 1200/1200 [00:25<00:00, 47.45it/s]"
     ]
    },
    {
     "name": "stdout",
     "output_type": "stream",
     "text": [
      "\n",
      "================================================================================2023-12-26 22:50:39\n",
      "Epoch 6 / 50\n",
      "\n"
     ]
    },
    {
     "name": "stderr",
     "output_type": "stream",
     "text": [
      "\n",
      "100%|██████████████████████████████████████████████████████████▊| 1197/1200 [00:30<00:00, 42.02it/s]"
     ]
    },
    {
     "name": "stdout",
     "output_type": "stream",
     "text": [
      "Epoch...7 Cross entropy loss 1..0.035206256061113286\n"
     ]
    },
    {
     "name": "stderr",
     "output_type": "stream",
     "text": [
      "100%|███████████████████████████████████████████████████████████| 1200/1200 [00:31<00:00, 37.89it/s]"
     ]
    },
    {
     "name": "stdout",
     "output_type": "stream",
     "text": [
      "\n",
      "================================================================================2023-12-26 22:51:11\n",
      "Epoch 7 / 50\n",
      "\n"
     ]
    },
    {
     "name": "stderr",
     "output_type": "stream",
     "text": [
      "\n",
      "100%|██████████████████████████████████████████████████████████▊| 1196/1200 [00:29<00:00, 18.22it/s]"
     ]
    },
    {
     "name": "stdout",
     "output_type": "stream",
     "text": [
      "Epoch...8 Cross entropy loss 1..0.030594199795499055\n"
     ]
    },
    {
     "name": "stderr",
     "output_type": "stream",
     "text": [
      "100%|███████████████████████████████████████████████████████████| 1200/1200 [00:29<00:00, 40.16it/s]"
     ]
    },
    {
     "name": "stdout",
     "output_type": "stream",
     "text": [
      "\n",
      "================================================================================2023-12-26 22:51:41\n",
      "Epoch 8 / 50\n",
      "\n"
     ]
    },
    {
     "name": "stderr",
     "output_type": "stream",
     "text": [
      "\n",
      "100%|██████████████████████████████████████████████████████████▊| 1195/1200 [00:28<00:00, 56.80it/s]"
     ]
    },
    {
     "name": "stdout",
     "output_type": "stream",
     "text": [
      "Epoch...9 Cross entropy loss 1..0.025505427607131422\n"
     ]
    },
    {
     "name": "stderr",
     "output_type": "stream",
     "text": [
      "100%|███████████████████████████████████████████████████████████| 1200/1200 [00:29<00:00, 40.74it/s]"
     ]
    },
    {
     "name": "stdout",
     "output_type": "stream",
     "text": [
      "\n",
      "================================================================================2023-12-26 22:52:10\n",
      "Epoch 9 / 50\n",
      "\n"
     ]
    },
    {
     "name": "stderr",
     "output_type": "stream",
     "text": [
      "\n",
      "100%|██████████████████████████████████████████████████████████▋| 1194/1200 [00:24<00:00, 62.23it/s]"
     ]
    },
    {
     "name": "stdout",
     "output_type": "stream",
     "text": [
      "Epoch...10 Cross entropy loss 1..0.026390193220965252\n"
     ]
    },
    {
     "name": "stderr",
     "output_type": "stream",
     "text": [
      "100%|███████████████████████████████████████████████████████████| 1200/1200 [00:24<00:00, 48.66it/s]"
     ]
    },
    {
     "name": "stdout",
     "output_type": "stream",
     "text": [
      "\n",
      "================================================================================2023-12-26 22:52:35\n",
      "Epoch 10 / 50\n",
      "\n"
     ]
    },
    {
     "name": "stderr",
     "output_type": "stream",
     "text": [
      "\n",
      "100%|██████████████████████████████████████████████████████████▊| 1196/1200 [00:27<00:00, 55.56it/s]"
     ]
    },
    {
     "name": "stdout",
     "output_type": "stream",
     "text": [
      "Epoch...11 Cross entropy loss 1..0.02089987844575565\n"
     ]
    },
    {
     "name": "stderr",
     "output_type": "stream",
     "text": [
      "100%|███████████████████████████████████████████████████████████| 1200/1200 [00:28<00:00, 42.47it/s]"
     ]
    },
    {
     "name": "stdout",
     "output_type": "stream",
     "text": [
      "\n",
      "================================================================================2023-12-26 22:53:03\n",
      "Epoch 11 / 50\n",
      "\n"
     ]
    },
    {
     "name": "stderr",
     "output_type": "stream",
     "text": [
      "\n",
      "100%|██████████████████████████████████████████████████████████▊| 1197/1200 [00:27<00:00, 56.09it/s]"
     ]
    },
    {
     "name": "stdout",
     "output_type": "stream",
     "text": [
      "Epoch...12 Cross entropy loss 1..0.01997300764069223\n"
     ]
    },
    {
     "name": "stderr",
     "output_type": "stream",
     "text": [
      "100%|███████████████████████████████████████████████████████████| 1200/1200 [00:28<00:00, 42.42it/s]"
     ]
    },
    {
     "name": "stdout",
     "output_type": "stream",
     "text": [
      "\n",
      "================================================================================2023-12-26 22:53:32\n",
      "Epoch 12 / 50\n",
      "\n"
     ]
    },
    {
     "name": "stderr",
     "output_type": "stream",
     "text": [
      "\n",
      "100%|██████████████████████████████████████████████████████████▉| 1199/1200 [00:34<00:00, 57.20it/s]"
     ]
    },
    {
     "name": "stdout",
     "output_type": "stream",
     "text": [
      "Epoch...13 Cross entropy loss 1..0.019207222972145246\n"
     ]
    },
    {
     "name": "stderr",
     "output_type": "stream",
     "text": [
      "100%|███████████████████████████████████████████████████████████| 1200/1200 [00:34<00:00, 34.75it/s]"
     ]
    },
    {
     "name": "stdout",
     "output_type": "stream",
     "text": [
      "\n",
      "================================================================================2023-12-26 22:54:06\n",
      "Epoch 13 / 50\n",
      "\n"
     ]
    },
    {
     "name": "stderr",
     "output_type": "stream",
     "text": [
      "\n",
      "100%|██████████████████████████████████████████████████████████▊| 1197/1200 [00:29<00:00, 58.56it/s]"
     ]
    },
    {
     "name": "stdout",
     "output_type": "stream",
     "text": [
      "Epoch...14 Cross entropy loss 1..0.015834570768201956\n"
     ]
    },
    {
     "name": "stderr",
     "output_type": "stream",
     "text": [
      "100%|███████████████████████████████████████████████████████████| 1200/1200 [00:29<00:00, 40.22it/s]"
     ]
    },
    {
     "name": "stdout",
     "output_type": "stream",
     "text": [
      "\n",
      "================================================================================2023-12-26 22:54:36\n",
      "Epoch 14 / 50\n",
      "\n"
     ]
    },
    {
     "name": "stderr",
     "output_type": "stream",
     "text": [
      "\n",
      "100%|██████████████████████████████████████████████████████████▊| 1197/1200 [00:27<00:00, 52.06it/s]"
     ]
    },
    {
     "name": "stdout",
     "output_type": "stream",
     "text": [
      "Epoch...15 Cross entropy loss 1..0.01579860115050906\n"
     ]
    },
    {
     "name": "stderr",
     "output_type": "stream",
     "text": [
      "100%|███████████████████████████████████████████████████████████| 1200/1200 [00:28<00:00, 42.56it/s]"
     ]
    },
    {
     "name": "stdout",
     "output_type": "stream",
     "text": [
      "\n",
      "================================================================================2023-12-26 22:55:04\n",
      "Epoch 15 / 50\n",
      "\n"
     ]
    },
    {
     "name": "stderr",
     "output_type": "stream",
     "text": [
      "\n",
      "100%|██████████████████████████████████████████████████████████▊| 1197/1200 [00:28<00:00, 59.62it/s]"
     ]
    },
    {
     "name": "stdout",
     "output_type": "stream",
     "text": [
      "Epoch...16 Cross entropy loss 1..0.013888159609074743\n"
     ]
    },
    {
     "name": "stderr",
     "output_type": "stream",
     "text": [
      "100%|███████████████████████████████████████████████████████████| 1200/1200 [00:29<00:00, 41.23it/s]"
     ]
    },
    {
     "name": "stdout",
     "output_type": "stream",
     "text": [
      "\n",
      "================================================================================2023-12-26 22:55:33\n",
      "Epoch 16 / 50\n",
      "\n"
     ]
    },
    {
     "name": "stderr",
     "output_type": "stream",
     "text": [
      "\n",
      "100%|██████████████████████████████████████████████████████████▊| 1196/1200 [00:30<00:00, 52.31it/s]"
     ]
    },
    {
     "name": "stdout",
     "output_type": "stream",
     "text": [
      "Epoch...17 Cross entropy loss 1..0.014211961184955726\n"
     ]
    },
    {
     "name": "stderr",
     "output_type": "stream",
     "text": [
      "100%|███████████████████████████████████████████████████████████| 1200/1200 [00:30<00:00, 39.14it/s]"
     ]
    },
    {
     "name": "stdout",
     "output_type": "stream",
     "text": [
      "\n",
      "================================================================================2023-12-26 22:56:04\n",
      "Epoch 17 / 50\n",
      "\n"
     ]
    },
    {
     "name": "stderr",
     "output_type": "stream",
     "text": [
      "\n",
      "100%|██████████████████████████████████████████████████████████▊| 1197/1200 [00:32<00:00, 49.79it/s]"
     ]
    },
    {
     "name": "stdout",
     "output_type": "stream",
     "text": [
      "Epoch...18 Cross entropy loss 1..0.013524426628094565\n"
     ]
    },
    {
     "name": "stderr",
     "output_type": "stream",
     "text": [
      "100%|███████████████████████████████████████████████████████████| 1200/1200 [00:33<00:00, 36.05it/s]"
     ]
    },
    {
     "name": "stdout",
     "output_type": "stream",
     "text": [
      "\n",
      "================================================================================2023-12-26 22:56:37\n",
      "Epoch 18 / 50\n",
      "\n"
     ]
    },
    {
     "name": "stderr",
     "output_type": "stream",
     "text": [
      "\n",
      "100%|███████████████████████████████████████████████████████████| 1200/1200 [00:27<00:00, 60.64it/s]"
     ]
    },
    {
     "name": "stdout",
     "output_type": "stream",
     "text": [
      "Epoch...19 Cross entropy loss 1..0.011398094341833106\n"
     ]
    },
    {
     "name": "stderr",
     "output_type": "stream",
     "text": [
      "100%|███████████████████████████████████████████████████████████| 1200/1200 [00:28<00:00, 42.52it/s]"
     ]
    },
    {
     "name": "stdout",
     "output_type": "stream",
     "text": [
      "\n",
      "================================================================================2023-12-26 22:57:06\n",
      "Epoch 19 / 50\n",
      "\n"
     ]
    },
    {
     "name": "stderr",
     "output_type": "stream",
     "text": [
      "\n",
      "100%|███████████████████████████████████████████████████████████| 1200/1200 [00:31<00:00, 66.14it/s]"
     ]
    },
    {
     "name": "stdout",
     "output_type": "stream",
     "text": [
      "Epoch...20 Cross entropy loss 1..0.010352662971824127\n"
     ]
    },
    {
     "name": "stderr",
     "output_type": "stream",
     "text": [
      "100%|███████████████████████████████████████████████████████████| 1200/1200 [00:31<00:00, 37.97it/s]"
     ]
    },
    {
     "name": "stdout",
     "output_type": "stream",
     "text": [
      "\n",
      "================================================================================2023-12-26 22:57:37\n",
      "Epoch 20 / 50\n",
      "\n"
     ]
    },
    {
     "name": "stderr",
     "output_type": "stream",
     "text": [
      "\n",
      "100%|██████████████████████████████████████████████████████████▊| 1197/1200 [00:32<00:00, 41.07it/s]"
     ]
    },
    {
     "name": "stdout",
     "output_type": "stream",
     "text": [
      "Epoch...21 Cross entropy loss 1..0.011340321334810142\n"
     ]
    },
    {
     "name": "stderr",
     "output_type": "stream",
     "text": [
      "100%|███████████████████████████████████████████████████████████| 1200/1200 [00:33<00:00, 35.71it/s]"
     ]
    },
    {
     "name": "stdout",
     "output_type": "stream",
     "text": [
      "\n",
      "================================================================================2023-12-26 22:58:11\n",
      "Epoch 21 / 50\n",
      "\n"
     ]
    },
    {
     "name": "stderr",
     "output_type": "stream",
     "text": [
      "\n",
      "100%|██████████████████████████████████████████████████████████▉| 1199/1200 [00:26<00:00, 64.74it/s]"
     ]
    },
    {
     "name": "stdout",
     "output_type": "stream",
     "text": [
      "Epoch...22 Cross entropy loss 1..0.009365423658600776\n"
     ]
    },
    {
     "name": "stderr",
     "output_type": "stream",
     "text": [
      "100%|███████████████████████████████████████████████████████████| 1200/1200 [00:26<00:00, 45.46it/s]"
     ]
    },
    {
     "name": "stdout",
     "output_type": "stream",
     "text": [
      "\n",
      "================================================================================2023-12-26 22:58:37\n",
      "Epoch 22 / 50\n",
      "\n"
     ]
    },
    {
     "name": "stderr",
     "output_type": "stream",
     "text": [
      "\n",
      "100%|██████████████████████████████████████████████████████████▊| 1196/1200 [00:34<00:00, 56.10it/s]"
     ]
    },
    {
     "name": "stdout",
     "output_type": "stream",
     "text": [
      "Epoch...23 Cross entropy loss 1..0.009935565258147108\n"
     ]
    },
    {
     "name": "stderr",
     "output_type": "stream",
     "text": [
      "100%|███████████████████████████████████████████████████████████| 1200/1200 [00:35<00:00, 34.28it/s]"
     ]
    },
    {
     "name": "stdout",
     "output_type": "stream",
     "text": [
      "\n",
      "================================================================================2023-12-26 22:59:12\n",
      "Epoch 23 / 50\n",
      "\n"
     ]
    },
    {
     "name": "stderr",
     "output_type": "stream",
     "text": [
      "\n",
      "100%|██████████████████████████████████████████████████████████▉| 1198/1200 [00:32<00:00, 48.73it/s]"
     ]
    },
    {
     "name": "stdout",
     "output_type": "stream",
     "text": [
      "Epoch...24 Cross entropy loss 1..0.009859929926036178\n"
     ]
    },
    {
     "name": "stderr",
     "output_type": "stream",
     "text": [
      "100%|███████████████████████████████████████████████████████████| 1200/1200 [00:33<00:00, 36.02it/s]"
     ]
    },
    {
     "name": "stdout",
     "output_type": "stream",
     "text": [
      "\n",
      "================================================================================2023-12-26 22:59:46\n",
      "Epoch 24 / 50\n",
      "\n"
     ]
    },
    {
     "name": "stderr",
     "output_type": "stream",
     "text": [
      "\n",
      "100%|██████████████████████████████████████████████████████████▋| 1194/1200 [00:29<00:00, 51.62it/s]"
     ]
    },
    {
     "name": "stdout",
     "output_type": "stream",
     "text": [
      "Epoch...25 Cross entropy loss 1..0.008275750655532951\n"
     ]
    },
    {
     "name": "stderr",
     "output_type": "stream",
     "text": [
      "100%|███████████████████████████████████████████████████████████| 1200/1200 [00:30<00:00, 39.71it/s]"
     ]
    },
    {
     "name": "stdout",
     "output_type": "stream",
     "text": [
      "\n",
      "================================================================================2023-12-26 23:00:16\n",
      "Epoch 25 / 50\n",
      "\n"
     ]
    },
    {
     "name": "stderr",
     "output_type": "stream",
     "text": [
      "\n",
      "100%|██████████████████████████████████████████████████████████▊| 1195/1200 [00:29<00:00, 63.98it/s]"
     ]
    },
    {
     "name": "stdout",
     "output_type": "stream",
     "text": [
      "Epoch...26 Cross entropy loss 1..0.007886606353492122\n"
     ]
    },
    {
     "name": "stderr",
     "output_type": "stream",
     "text": [
      "100%|███████████████████████████████████████████████████████████| 1200/1200 [00:29<00:00, 40.09it/s]"
     ]
    },
    {
     "name": "stdout",
     "output_type": "stream",
     "text": [
      "\n",
      "================================================================================2023-12-26 23:00:46\n",
      "Epoch 26 / 50\n",
      "\n"
     ]
    },
    {
     "name": "stderr",
     "output_type": "stream",
     "text": [
      "\n",
      "100%|███████████████████████████████████████████████████████████| 1200/1200 [00:27<00:00, 65.33it/s]"
     ]
    },
    {
     "name": "stdout",
     "output_type": "stream",
     "text": [
      "Epoch...27 Cross entropy loss 1..0.009156712158570978\n"
     ]
    },
    {
     "name": "stderr",
     "output_type": "stream",
     "text": [
      "100%|███████████████████████████████████████████████████████████| 1200/1200 [00:28<00:00, 42.63it/s]"
     ]
    },
    {
     "name": "stdout",
     "output_type": "stream",
     "text": [
      "\n",
      "================================================================================2023-12-26 23:01:14\n",
      "Epoch 27 / 50\n",
      "\n"
     ]
    },
    {
     "name": "stderr",
     "output_type": "stream",
     "text": [
      "\n",
      "100%|██████████████████████████████████████████████████████████▋| 1194/1200 [00:28<00:00, 64.65it/s]"
     ]
    },
    {
     "name": "stdout",
     "output_type": "stream",
     "text": [
      "Epoch...28 Cross entropy loss 1..0.008959666135497172\n"
     ]
    },
    {
     "name": "stderr",
     "output_type": "stream",
     "text": [
      "100%|███████████████████████████████████████████████████████████| 1200/1200 [00:29<00:00, 40.83it/s]"
     ]
    },
    {
     "name": "stdout",
     "output_type": "stream",
     "text": [
      "\n",
      "================================================================================2023-12-26 23:01:43\n",
      "Epoch 28 / 50\n",
      "\n"
     ]
    },
    {
     "name": "stderr",
     "output_type": "stream",
     "text": [
      "\n",
      "100%|██████████████████████████████████████████████████████████▊| 1195/1200 [00:30<00:00, 51.83it/s]"
     ]
    },
    {
     "name": "stdout",
     "output_type": "stream",
     "text": [
      "Epoch...29 Cross entropy loss 1..0.007344972994512015\n"
     ]
    },
    {
     "name": "stderr",
     "output_type": "stream",
     "text": [
      "100%|███████████████████████████████████████████████████████████| 1200/1200 [00:31<00:00, 38.45it/s]"
     ]
    },
    {
     "name": "stdout",
     "output_type": "stream",
     "text": [
      "\n",
      "================================================================================2023-12-26 23:02:15\n",
      "Epoch 29 / 50\n",
      "\n"
     ]
    },
    {
     "name": "stderr",
     "output_type": "stream",
     "text": [
      "\n",
      "100%|██████████████████████████████████████████████████████████▋| 1194/1200 [00:28<00:00, 63.01it/s]"
     ]
    },
    {
     "name": "stdout",
     "output_type": "stream",
     "text": [
      "Epoch...30 Cross entropy loss 1..0.006747984368153084\n"
     ]
    },
    {
     "name": "stderr",
     "output_type": "stream",
     "text": [
      "100%|███████████████████████████████████████████████████████████| 1200/1200 [00:29<00:00, 40.82it/s]"
     ]
    },
    {
     "name": "stdout",
     "output_type": "stream",
     "text": [
      "\n",
      "================================================================================2023-12-26 23:02:44\n",
      "Epoch 30 / 50\n",
      "\n"
     ]
    },
    {
     "name": "stderr",
     "output_type": "stream",
     "text": [
      "\n",
      "100%|██████████████████████████████████████████████████████████▉| 1199/1200 [00:26<00:00, 44.82it/s]"
     ]
    },
    {
     "name": "stdout",
     "output_type": "stream",
     "text": [
      "Epoch...31 Cross entropy loss 1..0.005449577528340039\n"
     ]
    },
    {
     "name": "stderr",
     "output_type": "stream",
     "text": [
      "100%|███████████████████████████████████████████████████████████| 1200/1200 [00:27<00:00, 43.79it/s]"
     ]
    },
    {
     "name": "stdout",
     "output_type": "stream",
     "text": [
      "\n",
      "================================================================================2023-12-26 23:03:12\n",
      "Epoch 31 / 50\n",
      "\n"
     ]
    },
    {
     "name": "stderr",
     "output_type": "stream",
     "text": [
      "\n",
      "100%|██████████████████████████████████████████████████████████▉| 1199/1200 [00:27<00:00, 20.92it/s]"
     ]
    },
    {
     "name": "stdout",
     "output_type": "stream",
     "text": [
      "Epoch...32 Cross entropy loss 1..0.0075513951145982595\n"
     ]
    },
    {
     "name": "stderr",
     "output_type": "stream",
     "text": [
      "100%|███████████████████████████████████████████████████████████| 1200/1200 [00:28<00:00, 41.98it/s]"
     ]
    },
    {
     "name": "stdout",
     "output_type": "stream",
     "text": [
      "\n",
      "================================================================================2023-12-26 23:03:40\n",
      "Epoch 32 / 50\n",
      "\n"
     ]
    },
    {
     "name": "stderr",
     "output_type": "stream",
     "text": [
      "\n",
      "100%|██████████████████████████████████████████████████████████▊| 1195/1200 [00:26<00:00, 53.01it/s]"
     ]
    },
    {
     "name": "stdout",
     "output_type": "stream",
     "text": [
      "Epoch...33 Cross entropy loss 1..0.007551291225389225\n"
     ]
    },
    {
     "name": "stderr",
     "output_type": "stream",
     "text": [
      "100%|███████████████████████████████████████████████████████████| 1200/1200 [00:27<00:00, 43.63it/s]"
     ]
    },
    {
     "name": "stdout",
     "output_type": "stream",
     "text": [
      "\n",
      "================================================================================2023-12-26 23:04:08\n",
      "Epoch 33 / 50\n",
      "\n"
     ]
    },
    {
     "name": "stderr",
     "output_type": "stream",
     "text": [
      "\n",
      "100%|██████████████████████████████████████████████████████████▋| 1194/1200 [00:34<00:00, 54.34it/s]"
     ]
    },
    {
     "name": "stdout",
     "output_type": "stream",
     "text": [
      "Epoch...34 Cross entropy loss 1..0.0045378435796048205\n"
     ]
    },
    {
     "name": "stderr",
     "output_type": "stream",
     "text": [
      "100%|███████████████████████████████████████████████████████████| 1200/1200 [00:35<00:00, 33.65it/s]"
     ]
    },
    {
     "name": "stdout",
     "output_type": "stream",
     "text": [
      "\n",
      "================================================================================2023-12-26 23:04:43\n",
      "Epoch 34 / 50\n",
      "\n"
     ]
    },
    {
     "name": "stderr",
     "output_type": "stream",
     "text": [
      "\n",
      "100%|██████████████████████████████████████████████████████████▊| 1197/1200 [00:30<00:00, 64.43it/s]"
     ]
    },
    {
     "name": "stdout",
     "output_type": "stream",
     "text": [
      "Epoch...35 Cross entropy loss 1..0.0057368566119475875\n"
     ]
    },
    {
     "name": "stderr",
     "output_type": "stream",
     "text": [
      "100%|███████████████████████████████████████████████████████████| 1200/1200 [00:30<00:00, 39.30it/s]"
     ]
    },
    {
     "name": "stdout",
     "output_type": "stream",
     "text": [
      "\n",
      "================================================================================2023-12-26 23:05:14\n",
      "Epoch 35 / 50\n",
      "\n"
     ]
    },
    {
     "name": "stderr",
     "output_type": "stream",
     "text": [
      "\n",
      "100%|███████████████████████████████████████████████████████████| 1200/1200 [00:28<00:00, 63.43it/s]"
     ]
    },
    {
     "name": "stdout",
     "output_type": "stream",
     "text": [
      "Epoch...36 Cross entropy loss 1..0.007050263428563236\n"
     ]
    },
    {
     "name": "stderr",
     "output_type": "stream",
     "text": [
      "100%|███████████████████████████████████████████████████████████| 1200/1200 [00:28<00:00, 41.82it/s]"
     ]
    },
    {
     "name": "stdout",
     "output_type": "stream",
     "text": [
      "\n",
      "================================================================================2023-12-26 23:05:43\n",
      "Epoch 36 / 50\n",
      "\n"
     ]
    },
    {
     "name": "stderr",
     "output_type": "stream",
     "text": [
      "\n",
      "100%|███████████████████████████████████████████████████████████| 1200/1200 [00:27<00:00, 47.57it/s]"
     ]
    },
    {
     "name": "stdout",
     "output_type": "stream",
     "text": [
      "Epoch...37 Cross entropy loss 1..0.006059423086962851\n"
     ]
    },
    {
     "name": "stderr",
     "output_type": "stream",
     "text": [
      "100%|███████████████████████████████████████████████████████████| 1200/1200 [00:28<00:00, 42.36it/s]"
     ]
    },
    {
     "name": "stdout",
     "output_type": "stream",
     "text": [
      "\n",
      "================================================================================2023-12-26 23:06:11\n",
      "Epoch 37 / 50\n",
      "\n"
     ]
    },
    {
     "name": "stderr",
     "output_type": "stream",
     "text": [
      "\n",
      "100%|██████████████████████████████████████████████████████████▊| 1195/1200 [00:24<00:00, 68.79it/s]"
     ]
    },
    {
     "name": "stdout",
     "output_type": "stream",
     "text": [
      "Epoch...38 Cross entropy loss 1..0.005579600704068071\n"
     ]
    },
    {
     "name": "stderr",
     "output_type": "stream",
     "text": [
      "100%|███████████████████████████████████████████████████████████| 1200/1200 [00:24<00:00, 48.59it/s]"
     ]
    },
    {
     "name": "stdout",
     "output_type": "stream",
     "text": [
      "\n",
      "================================================================================2023-12-26 23:06:36\n",
      "Epoch 38 / 50\n",
      "\n"
     ]
    },
    {
     "name": "stderr",
     "output_type": "stream",
     "text": [
      "\n",
      "100%|██████████████████████████████████████████████████████████▋| 1194/1200 [00:29<00:00, 62.00it/s]"
     ]
    },
    {
     "name": "stdout",
     "output_type": "stream",
     "text": [
      "Epoch...39 Cross entropy loss 1..0.005948684127558105\n"
     ]
    },
    {
     "name": "stderr",
     "output_type": "stream",
     "text": [
      "100%|███████████████████████████████████████████████████████████| 1200/1200 [00:29<00:00, 40.05it/s]"
     ]
    },
    {
     "name": "stdout",
     "output_type": "stream",
     "text": [
      "\n",
      "================================================================================2023-12-26 23:07:06\n",
      "Epoch 39 / 50\n",
      "\n"
     ]
    },
    {
     "name": "stderr",
     "output_type": "stream",
     "text": [
      "\n",
      "100%|██████████████████████████████████████████████████████████▋| 1194/1200 [00:26<00:00, 63.66it/s]"
     ]
    },
    {
     "name": "stdout",
     "output_type": "stream",
     "text": [
      "Epoch...40 Cross entropy loss 1..0.002947110994995607\n"
     ]
    },
    {
     "name": "stderr",
     "output_type": "stream",
     "text": [
      "100%|███████████████████████████████████████████████████████████| 1200/1200 [00:26<00:00, 45.29it/s]"
     ]
    },
    {
     "name": "stdout",
     "output_type": "stream",
     "text": [
      "\n",
      "================================================================================2023-12-26 23:07:32\n",
      "Epoch 40 / 50\n",
      "\n"
     ]
    },
    {
     "name": "stderr",
     "output_type": "stream",
     "text": [
      "\n",
      "100%|██████████████████████████████████████████████████████████▊| 1197/1200 [00:24<00:00, 65.59it/s]"
     ]
    },
    {
     "name": "stdout",
     "output_type": "stream",
     "text": [
      "Epoch...41 Cross entropy loss 1..0.005376691591591225\n"
     ]
    },
    {
     "name": "stderr",
     "output_type": "stream",
     "text": [
      "100%|███████████████████████████████████████████████████████████| 1200/1200 [00:24<00:00, 48.88it/s]"
     ]
    },
    {
     "name": "stdout",
     "output_type": "stream",
     "text": [
      "\n",
      "================================================================================2023-12-26 23:07:57\n",
      "Epoch 41 / 50\n",
      "\n"
     ]
    },
    {
     "name": "stderr",
     "output_type": "stream",
     "text": [
      "\n",
      "100%|██████████████████████████████████████████████████████████▊| 1196/1200 [00:26<00:00, 55.68it/s]"
     ]
    },
    {
     "name": "stdout",
     "output_type": "stream",
     "text": [
      "Epoch...42 Cross entropy loss 1..0.00490506671765805\n"
     ]
    },
    {
     "name": "stderr",
     "output_type": "stream",
     "text": [
      "100%|███████████████████████████████████████████████████████████| 1200/1200 [00:26<00:00, 44.46it/s]"
     ]
    },
    {
     "name": "stdout",
     "output_type": "stream",
     "text": [
      "\n",
      "================================================================================2023-12-26 23:08:24\n",
      "Epoch 42 / 50\n",
      "\n"
     ]
    },
    {
     "name": "stderr",
     "output_type": "stream",
     "text": [
      "\n",
      "100%|██████████████████████████████████████████████████████████▉| 1198/1200 [00:23<00:00, 64.92it/s]"
     ]
    },
    {
     "name": "stdout",
     "output_type": "stream",
     "text": [
      "Epoch...43 Cross entropy loss 1..0.0029354386039574364\n"
     ]
    },
    {
     "name": "stderr",
     "output_type": "stream",
     "text": [
      "100%|███████████████████████████████████████████████████████████| 1200/1200 [00:24<00:00, 49.71it/s]"
     ]
    },
    {
     "name": "stdout",
     "output_type": "stream",
     "text": [
      "\n",
      "================================================================================2023-12-26 23:08:48\n",
      "Epoch 43 / 50\n",
      "\n"
     ]
    },
    {
     "name": "stderr",
     "output_type": "stream",
     "text": [
      "\n",
      "100%|██████████████████████████████████████████████████████████▉| 1198/1200 [00:26<00:00, 68.31it/s]"
     ]
    },
    {
     "name": "stdout",
     "output_type": "stream",
     "text": [
      "Epoch...44 Cross entropy loss 1..0.007401372979304596\n"
     ]
    },
    {
     "name": "stderr",
     "output_type": "stream",
     "text": [
      "100%|███████████████████████████████████████████████████████████| 1200/1200 [00:26<00:00, 44.61it/s]"
     ]
    },
    {
     "name": "stdout",
     "output_type": "stream",
     "text": [
      "\n",
      "================================================================================2023-12-26 23:09:15\n",
      "Epoch 44 / 50\n",
      "\n"
     ]
    },
    {
     "name": "stderr",
     "output_type": "stream",
     "text": [
      "\n",
      "100%|██████████████████████████████████████████████████████████▊| 1196/1200 [00:22<00:00, 63.24it/s]"
     ]
    },
    {
     "name": "stdout",
     "output_type": "stream",
     "text": [
      "Epoch...45 Cross entropy loss 1..0.005313436218639254\n"
     ]
    },
    {
     "name": "stderr",
     "output_type": "stream",
     "text": [
      "100%|███████████████████████████████████████████████████████████| 1200/1200 [00:23<00:00, 52.14it/s]"
     ]
    },
    {
     "name": "stdout",
     "output_type": "stream",
     "text": [
      "\n",
      "================================================================================2023-12-26 23:09:38\n",
      "Epoch 45 / 50\n",
      "\n"
     ]
    },
    {
     "name": "stderr",
     "output_type": "stream",
     "text": [
      "\n",
      "100%|███████████████████████████████████████████████████████████| 1200/1200 [00:24<00:00, 49.41it/s]"
     ]
    },
    {
     "name": "stdout",
     "output_type": "stream",
     "text": [
      "Epoch...46 Cross entropy loss 1..0.003892841303217362\n"
     ]
    },
    {
     "name": "stderr",
     "output_type": "stream",
     "text": [
      "100%|███████████████████████████████████████████████████████████| 1200/1200 [00:25<00:00, 47.80it/s]"
     ]
    },
    {
     "name": "stdout",
     "output_type": "stream",
     "text": [
      "\n",
      "================================================================================2023-12-26 23:10:03\n",
      "Epoch 46 / 50\n",
      "\n"
     ]
    },
    {
     "name": "stderr",
     "output_type": "stream",
     "text": [
      "\n",
      "100%|██████████████████████████████████████████████████████████▊| 1196/1200 [00:24<00:00, 59.42it/s]"
     ]
    },
    {
     "name": "stdout",
     "output_type": "stream",
     "text": [
      "Epoch...47 Cross entropy loss 1..0.0012348860429635049\n"
     ]
    },
    {
     "name": "stderr",
     "output_type": "stream",
     "text": [
      "100%|███████████████████████████████████████████████████████████| 1200/1200 [00:24<00:00, 49.07it/s]"
     ]
    },
    {
     "name": "stdout",
     "output_type": "stream",
     "text": [
      "\n",
      "================================================================================2023-12-26 23:10:28\n",
      "Epoch 47 / 50\n",
      "\n"
     ]
    },
    {
     "name": "stderr",
     "output_type": "stream",
     "text": [
      "\n",
      "100%|███████████████████████████████████████████████████████████| 1200/1200 [00:25<00:00, 62.90it/s]"
     ]
    },
    {
     "name": "stdout",
     "output_type": "stream",
     "text": [
      "Epoch...48 Cross entropy loss 1..0.007613518757303078\n"
     ]
    },
    {
     "name": "stderr",
     "output_type": "stream",
     "text": [
      "100%|███████████████████████████████████████████████████████████| 1200/1200 [00:25<00:00, 46.34it/s]"
     ]
    },
    {
     "name": "stdout",
     "output_type": "stream",
     "text": [
      "\n",
      "================================================================================2023-12-26 23:10:53\n",
      "Epoch 48 / 50\n",
      "\n"
     ]
    },
    {
     "name": "stderr",
     "output_type": "stream",
     "text": [
      "\n",
      "100%|██████████████████████████████████████████████████████████▋| 1194/1200 [00:22<00:00, 68.28it/s]"
     ]
    },
    {
     "name": "stdout",
     "output_type": "stream",
     "text": [
      "Epoch...49 Cross entropy loss 1..0.006198370278829088\n"
     ]
    },
    {
     "name": "stderr",
     "output_type": "stream",
     "text": [
      "100%|███████████████████████████████████████████████████████████| 1200/1200 [00:23<00:00, 51.23it/s]"
     ]
    },
    {
     "name": "stdout",
     "output_type": "stream",
     "text": [
      "\n",
      "================================================================================2023-12-26 23:11:17\n",
      "Epoch 49 / 50\n",
      "\n"
     ]
    },
    {
     "name": "stderr",
     "output_type": "stream",
     "text": [
      "\n",
      "100%|██████████████████████████████████████████████████████████▊| 1197/1200 [00:24<00:00, 57.22it/s]"
     ]
    },
    {
     "name": "stdout",
     "output_type": "stream",
     "text": [
      "Epoch...50 Cross entropy loss 1..0.0029736560586403962\n"
     ]
    },
    {
     "name": "stderr",
     "output_type": "stream",
     "text": [
      "100%|███████████████████████████████████████████████████████████| 1200/1200 [00:25<00:00, 47.63it/s]"
     ]
    },
    {
     "name": "stdout",
     "output_type": "stream",
     "text": [
      "Done \n"
     ]
    },
    {
     "name": "stderr",
     "output_type": "stream",
     "text": [
      "\n"
     ]
    }
   ],
   "source": [
    "# random seeding\n",
    "np.random.seed(1)  \n",
    "torch.manual_seed(1)\n",
    "print(\"\\nLoading 60000 item training dataset\")\n",
    "print(\"\\nCreating LSTM classification network\")\n",
    "print(lstm_class_model)\n",
    "\n",
    "max_epoch = 50\n",
    "arraylosses = []  \n",
    "\n",
    "print(\"loss = Cross Entropy Loss\")\n",
    "print(\"optimizer = Adam\")\n",
    "print(\"maximum epochs = %3d \" % max_epoch)\n",
    "print(\"learning rate = %0.3f \" % learning_rate)\n",
    "print(\"\\nStarting training\")\n",
    "lstm_class_model.train()  \n",
    "\n",
    "for epoch in range(0, max_epoch):\n",
    "    printlog('Epoch {0} / {1}'.format(epoch, max_epoch))\n",
    "    ep_loss = 0\n",
    "    loop = tqdm(enumerate(train_ldr), total=len(train_ldr), ncols=100)\n",
    "    # for batch, (image, label) in enumerate(train_ldr):\n",
    "    for i, batch in loop:\n",
    "        features, labels = batch\n",
    "\n",
    "        # 需要对图像进行重塑，使其适合LSTM模型, LSTM模型预期输入为3D数据  \n",
    "        features = features.view(-1, 28, 28)\n",
    "\n",
    "        features = features.to(device)\n",
    "        labels = labels.to(device)\n",
    "\n",
    "        preds = lstm_class_model(features)\n",
    "        loss = loss_fn(preds, labels)\n",
    "    \n",
    "        # 损失求和\n",
    "        ep_loss += loss.item()           \n",
    "        opt.zero_grad()\n",
    "        loss.backward()\n",
    "        opt.step()\n",
    "        if (i + 1) % 1200 == 0:\n",
    "            # 使用数组来存储损失，以便绘制损失与时间的关系图\n",
    "            arraylosses.append(ep_loss / 1200)    \n",
    "            print(\"Epoch...{}\".format(epoch + 1), \"Cross entropy loss 1..{}\".format(ep_loss / 1200))\n",
    "print(\"Done \")"
   ]
  },
  {
   "cell_type": "code",
   "execution_count": 63,
   "metadata": {},
   "outputs": [
    {
     "data": {
      "image/png": "[encoded data removed]",
      "text/plain": [
       "<Figure size 640x480 with 1 Axes>"
      ]
     },
     "metadata": {},
     "output_type": "display_data"
    }
   ],
   "source": [
    "plt.plot(range(max_epoch), arraylosses)\n",
    "plt.title(\"LSTM classification model training\")\n",
    "plt.xlabel(\"Epochs\")\n",
    "plt.ylabel(\"Losses\")\n",
    "plt.show()"
   ]
  },
  {
   "cell_type": "code",
   "execution_count": 64,
   "metadata": {},
   "outputs": [
    {
     "data": {
      "text/plain": [
       "LSTM(\n",
       "  (lstm): LSTM(28, 128, num_layers=3, batch_first=True)\n",
       "  (output_layer): Linear(in_features=128, out_features=10, bias=True)\n",
       ")"
      ]
     },
     "execution_count": 64,
     "metadata": {},
     "output_type": "execute_result"
    }
   ],
   "source": [
    "lstm_class_model.eval()"
   ]
  },
  {
   "cell_type": "code",
   "execution_count": 65,
   "metadata": {},
   "outputs": [],
   "source": [
    "# 为 mnist 数据创建一个数据加载器实例\n",
    "# 将批量大小设为 1，这将用于创建我们的Siamese神经网络训练数据集\n",
    "siamese_training_set = torch.utils.data.DataLoader(ds_train, batch_size=1)  "
   ]
  },
  {
   "cell_type": "code",
   "execution_count": 66,
   "metadata": {},
   "outputs": [],
   "source": [
    "# 图像数组可存储 60000 个图像\n",
    "first_image_array = []  \n",
    "# 标签数组，用于存储相应的图像标签\n",
    "first_label_array = []  \n",
    "\n",
    "for batch, (image, label) in enumerate(siamese_training_set):\n",
    "    first_image_array.append(image)\n",
    "    first_label_array.append(label)\n"
   ]
  },
  {
   "cell_type": "code",
   "execution_count": 67,
   "metadata": {},
   "outputs": [],
   "source": [
    "import random\n",
    "\n",
    "tempimagearray = first_image_array\n",
    "templabelarray = first_label_array\n",
    "# 声明 2 组包含图像以及标签的数组\n",
    "firstsetimagearray = []\n",
    "firstsetlabelarray = []    \n",
    "secondsetimagearray = []    \n",
    "secondsetlabelarray = []\n",
    "\n",
    "# 创建一个标识数组\n",
    "flagarray = []\n",
    "flag = 0\n",
    "\n",
    "# 创建的数组大小为 30000\n",
    "for i in range(30000): \n",
    "    # 从下 30000 个数组中随机生成一个数组位置\n",
    "    num = random.randint(30000, 59999) \n",
    "    if first_label_array[i] == templabelarray[num]:\n",
    "        # 评估随机生成的图像标签是否相似\n",
    "        flag = 0        \n",
    "    else: flag = 1\n",
    "    # 将标识转换为张量进行处理\n",
    "    flag = torch.tensor(flag, dtype=torch.float32).to(device) \n",
    "    firstsetimagearray.append(first_image_array[i])\n",
    "    firstsetlabelarray.append(first_label_array[i])\n",
    "    secondsetimagearray.append(tempimagearray[num])\n",
    "    secondsetlabelarray.append(templabelarray[num])\n",
    "    flagarray.append(flag)"
   ]
  },
  {
   "cell_type": "code",
   "execution_count": 68,
   "metadata": {},
   "outputs": [
    {
     "name": "stderr",
     "output_type": "stream",
     "text": [
      "/var/folders/h4/7cr1cmpn7v5b3x20_9wz8m740000gn/T/ipykernel_78947/1201670612.py:1: FutureWarning: The input object of type 'Tensor' is an array-like implementing one of the corresponding protocols (`__array__`, `__array_interface__` or `__array_struct__`); but not a sequence (or 0-D). In the future, this object will be coerced as if it was first converted using `np.array(obj)`. To retain the old behaviour, you have to either modify the type 'Tensor', or assign to an empty array created with `np.empty(correct_shape, dtype=object)`.\n",
      "  a = np.array(firstsetlabelarray)\n",
      "/var/folders/h4/7cr1cmpn7v5b3x20_9wz8m740000gn/T/ipykernel_78947/1201670612.py:1: VisibleDeprecationWarning: Creating an ndarray from ragged nested sequences (which is a list-or-tuple of lists-or-tuples-or ndarrays with different lengths or shapes) is deprecated. If you meant to do this, you must specify 'dtype=object' when creating the ndarray.\n",
      "  a = np.array(firstsetlabelarray)\n",
      "/var/folders/h4/7cr1cmpn7v5b3x20_9wz8m740000gn/T/ipykernel_78947/1201670612.py:2: FutureWarning: The input object of type 'Tensor' is an array-like implementing one of the corresponding protocols (`__array__`, `__array_interface__` or `__array_struct__`); but not a sequence (or 0-D). In the future, this object will be coerced as if it was first converted using `np.array(obj)`. To retain the old behaviour, you have to either modify the type 'Tensor', or assign to an empty array created with `np.empty(correct_shape, dtype=object)`.\n",
      "  b = np.array(firstsetimagearray)\n",
      "/var/folders/h4/7cr1cmpn7v5b3x20_9wz8m740000gn/T/ipykernel_78947/1201670612.py:2: VisibleDeprecationWarning: Creating an ndarray from ragged nested sequences (which is a list-or-tuple of lists-or-tuples-or ndarrays with different lengths or shapes) is deprecated. If you meant to do this, you must specify 'dtype=object' when creating the ndarray.\n",
      "  b = np.array(firstsetimagearray)\n",
      "/var/folders/h4/7cr1cmpn7v5b3x20_9wz8m740000gn/T/ipykernel_78947/1201670612.py:4: FutureWarning: The input object of type 'Tensor' is an array-like implementing one of the corresponding protocols (`__array__`, `__array_interface__` or `__array_struct__`); but not a sequence (or 0-D). In the future, this object will be coerced as if it was first converted using `np.array(obj)`. To retain the old behaviour, you have to either modify the type 'Tensor', or assign to an empty array created with `np.empty(correct_shape, dtype=object)`.\n",
      "  c = np.array(secondsetlabelarray)\n",
      "/var/folders/h4/7cr1cmpn7v5b3x20_9wz8m740000gn/T/ipykernel_78947/1201670612.py:4: VisibleDeprecationWarning: Creating an ndarray from ragged nested sequences (which is a list-or-tuple of lists-or-tuples-or ndarrays with different lengths or shapes) is deprecated. If you meant to do this, you must specify 'dtype=object' when creating the ndarray.\n",
      "  c = np.array(secondsetlabelarray)\n",
      "/var/folders/h4/7cr1cmpn7v5b3x20_9wz8m740000gn/T/ipykernel_78947/1201670612.py:6: FutureWarning: The input object of type 'Tensor' is an array-like implementing one of the corresponding protocols (`__array__`, `__array_interface__` or `__array_struct__`); but not a sequence (or 0-D). In the future, this object will be coerced as if it was first converted using `np.array(obj)`. To retain the old behaviour, you have to either modify the type 'Tensor', or assign to an empty array created with `np.empty(correct_shape, dtype=object)`.\n",
      "  d = np.array(secondsetimagearray)\n",
      "/var/folders/h4/7cr1cmpn7v5b3x20_9wz8m740000gn/T/ipykernel_78947/1201670612.py:6: VisibleDeprecationWarning: Creating an ndarray from ragged nested sequences (which is a list-or-tuple of lists-or-tuples-or ndarrays with different lengths or shapes) is deprecated. If you meant to do this, you must specify 'dtype=object' when creating the ndarray.\n",
      "  d = np.array(secondsetimagearray)\n"
     ]
    }
   ],
   "source": [
    "a = np.array(firstsetlabelarray)\n",
    "b = np.array(firstsetimagearray)\n",
    "# 使用NumPy数组将标签与相应图像堆叠在一起\n",
    "c = np.array(secondsetlabelarray)   \n",
    "# 创建一个二维数组\n",
    "d = np.array(secondsetimagearray)   \n",
    "firstsetarray = np.stack((a, b), axis=1)\n",
    "secondsetarray = np.stack((c, d), axis=1)"
   ]
  },
  {
   "cell_type": "code",
   "execution_count": 69,
   "metadata": {},
   "outputs": [],
   "source": [
    "class Siamese_Training_Dataset(torch.utils.data.Dataset):\n",
    "    # 现在我们将创建Siamese训练数据集类\n",
    "    def __init__(self, firstsetarray, secondsetarray, flagarray):              \n",
    "        self.dataset_size = len(firstsetarray)\n",
    "        self.firstsetarray = firstsetarray\n",
    "        self.secondsetarray = secondsetarray\n",
    "        self.flagarray = flagarray\n",
    "\n",
    "    def __len__(self):\n",
    "        # 返回数组的大小，即3000\n",
    "        return self.dataset_size \n",
    "        \n",
    "    def __getitem__(self, index):\n",
    "        image1 = self.firstsetarray[index][1]\n",
    "        # 调整图像尺寸，以防万一\n",
    "        image1 = image1.reshape(1, 28, 28)          \n",
    "        label1 = self.firstsetarray[index][0]\n",
    "        image2 = self.secondsetarray[index][1]\n",
    "        image2 = image2.reshape(1, 28, 28)\n",
    "        label2 = self.secondsetarray[index][0]\n",
    "        flag = flagarray[index]\n",
    "        return(image1, label1, image2, label2, flag)"
   ]
  },
  {
   "cell_type": "code",
   "execution_count": 70,
   "metadata": {},
   "outputs": [],
   "source": [
    "# 创建数据集实例并用数组初始化\n",
    "ds_siamese = Siamese_Training_Dataset(firstsetarray, secondsetarray, flagarray)  "
   ]
  },
  {
   "cell_type": "code",
   "execution_count": 71,
   "metadata": {},
   "outputs": [],
   "source": [
    "# 从数据集创建数据加载器\n",
    "siamese_dataloader = torch.utils.data.DataLoader(ds_siamese, batch_size=50, shuffle=True)  "
   ]
  },
  {
   "cell_type": "code",
   "execution_count": 72,
   "metadata": {},
   "outputs": [],
   "source": [
    "class ContrastiveLoss(nn.Module):\n",
    "    def __init__(self, margin):\n",
    "        # pre 3.3 语法\n",
    "        super(ContrastiveLoss, self).__init__()\n",
    "        # 边距或半径，这是一个可以定义的参数，定义为 2.0\n",
    "        self.margin = margin  \n",
    "\n",
    "    def forward(self, out1, out2, flag):                \n",
    "        # flag = 0 意味着 out1 和 out2 应该是相同的\n",
    "        # flag = 1 意味着 out1 和 out2 应该是不同的\n",
    "        \n",
    "        # 如前所述，计算2个输出向量之间的欧氏距离\n",
    "        euclidean_distance = torch.nn.functional.pairwise_distance(out1, out2)  \n",
    "\n",
    "        # 您可以选择按照 LeCun 的精确公式，乘以 1/2 损失值将减少一半                                        \n",
    "        loss = torch.mean((1-flag) * torch.pow(euclidean_distance, 2) +\n",
    "        (flag) * torch.pow(torch.clamp(self.margin - euclidean_distance, min=0.0), 2)) \n",
    "        \n",
    "        return loss"
   ]
  },
  {
   "cell_type": "code",
   "execution_count": 73,
   "metadata": {},
   "outputs": [],
   "source": [
    "class LSTM_Siamese_network(nn.Module):\n",
    "    '''\n",
    "    `input_len` 指的是 MNIST 图像的尺寸，在本例中为 28, 因为每幅图像的尺寸为 28 x 28\n",
    "    '''\n",
    "    def __init__(self, input_len, hidden_size, num_classes, n_layers):\n",
    "        super(LSTM_Siamese_network, self).__init__()\n",
    "        self.hidden_size = hidden_size \n",
    "        self.n_layers = n_layers\n",
    "        \n",
    "        # 层数可使模型捕捉到不同层次的抽象概念\n",
    "        self.lstm = nn.LSTM(input_len, hidden_size, n_layers, batch_first=True) \n",
    "        # 最后通过线性层输出\n",
    "        self.output_layer = nn.Linear(hidden_size, num_classes)\n",
    "\n",
    "    def feed(self, X):\n",
    "        # 动态生成隐藏状态和细胞状态\n",
    "        batch_size = X.size(0)\n",
    "        hidden_states = torch.zeros(self.n_layers, batch_size, self.hidden_size).to(X.device)\n",
    "        cell_states = torch.zeros(self.n_layers, batch_size, self.hidden_size).to(X.device)\n",
    "        \n",
    "        # 通过forward方法传入数据和动态生成的隐藏状态和细胞状态\n",
    "        output, (hide, cell) = self.lstm(X, (hidden_states, cell_states))\n",
    "        output = self.output_layer(output[:, -1, :])\n",
    "        return output\n",
    "    \n",
    "    # 这里的 LSTM Siamese Model与分类模型不同, 它被转入2个LSTM网络，并返回2个输出结果\n",
    "    def forward(self, x1, x2):    \n",
    "        out1 = self.feed(x1)        \n",
    "        out2 = self.feed(x2)        \n",
    "        return out1, out2\n",
    "\n"
   ]
  },
  {
   "cell_type": "code",
   "execution_count": 76,
   "metadata": {},
   "outputs": [
    {
     "data": {
      "text/plain": [
       "LSTM_Siamese_network(\n",
       "  (lstm): LSTM(28, 128, num_layers=3, batch_first=True)\n",
       "  (output_layer): Linear(in_features=128, out_features=10, bias=True)\n",
       ")"
      ]
     },
     "execution_count": 76,
     "metadata": {},
     "output_type": "execute_result"
    }
   ],
   "source": [
    "lstm_siamese_train = LSTM_Siamese_network(28, 128, 10, 3)\n",
    "lstm_siamese_train.to(device)"
   ]
  },
  {
   "cell_type": "code",
   "execution_count": 80,
   "metadata": {},
   "outputs": [
    {
     "name": "stdout",
     "output_type": "stream",
     "text": [
      "\n",
      "Loading 30000 item training dataset\n",
      "\n",
      "Creating LSTM Siamese network\n",
      "LSTM_Siamese_network(\n",
      "  (lstm): LSTM(28, 128, num_layers=3, batch_first=True)\n",
      "  (output_layer): Linear(in_features=128, out_features=10, bias=True)\n",
      ")\n",
      "loss = Contrastive Loss\n",
      "optimizer = Adam\n",
      "maximum epochs =  50 \n",
      "learning rate = 0.001 \n",
      "\n",
      "Starting training\n",
      "================================================================================\n",
      "2023-12-26 23:14:33\n",
      "Epoch 1 / 50\n",
      "\n"
     ]
    },
    {
     "name": "stderr",
     "output_type": "stream",
     "text": [
      "  0%|                                                                       | 0/600 [00:00<?, ?it/s]"
     ]
    },
    {
     "name": "stderr",
     "output_type": "stream",
     "text": [
      "100%|█████████████████████████████████████████████████████████████| 600/600 [00:18<00:00, 33.18it/s]\n"
     ]
    },
    {
     "name": "stdout",
     "output_type": "stream",
     "text": [
      "Epoch...1 Contrastive loss...0.27657042890166245\n",
      "================================================================================\n",
      "2023-12-26 23:14:51\n",
      "Epoch 2 / 50\n",
      "\n"
     ]
    },
    {
     "name": "stderr",
     "output_type": "stream",
     "text": [
      "100%|█████████████████████████████████████████████████████████████| 600/600 [00:17<00:00, 34.01it/s]\n"
     ]
    },
    {
     "name": "stdout",
     "output_type": "stream",
     "text": [
      "Epoch...2 Contrastive loss...0.15808886252343654\n",
      "================================================================================\n",
      "2023-12-26 23:15:08\n",
      "Epoch 3 / 50\n",
      "\n"
     ]
    },
    {
     "name": "stderr",
     "output_type": "stream",
     "text": [
      "100%|█████████████████████████████████████████████████████████████| 600/600 [00:17<00:00, 34.24it/s]\n"
     ]
    },
    {
     "name": "stdout",
     "output_type": "stream",
     "text": [
      "Epoch...3 Contrastive loss...0.10161651302206641\n",
      "================================================================================\n",
      "2023-12-26 23:15:26\n",
      "Epoch 4 / 50\n",
      "\n"
     ]
    },
    {
     "name": "stderr",
     "output_type": "stream",
     "text": [
      "100%|█████████████████████████████████████████████████████████████| 600/600 [00:16<00:00, 35.42it/s]\n"
     ]
    },
    {
     "name": "stdout",
     "output_type": "stream",
     "text": [
      "Epoch...4 Contrastive loss...0.0751670205387442\n",
      "================================================================================\n",
      "2023-12-26 23:15:43\n",
      "Epoch 5 / 50\n",
      "\n"
     ]
    },
    {
     "name": "stderr",
     "output_type": "stream",
     "text": [
      "100%|█████████████████████████████████████████████████████████████| 600/600 [00:16<00:00, 35.33it/s]\n"
     ]
    },
    {
     "name": "stdout",
     "output_type": "stream",
     "text": [
      "Epoch...5 Contrastive loss...0.059994866779989026\n",
      "================================================================================\n",
      "2023-12-26 23:16:00\n",
      "Epoch 6 / 50\n",
      "\n"
     ]
    },
    {
     "name": "stderr",
     "output_type": "stream",
     "text": [
      "100%|█████████████████████████████████████████████████████████████| 600/600 [00:18<00:00, 33.20it/s]\n"
     ]
    },
    {
     "name": "stdout",
     "output_type": "stream",
     "text": [
      "Epoch...6 Contrastive loss...0.047004175094916716\n",
      "================================================================================\n",
      "2023-12-26 23:16:18\n",
      "Epoch 7 / 50\n",
      "\n"
     ]
    },
    {
     "name": "stderr",
     "output_type": "stream",
     "text": [
      "100%|█████████████████████████████████████████████████████████████| 600/600 [00:18<00:00, 33.27it/s]\n"
     ]
    },
    {
     "name": "stdout",
     "output_type": "stream",
     "text": [
      "Epoch...7 Contrastive loss...0.042022492290410204\n",
      "================================================================================\n",
      "2023-12-26 23:16:36\n",
      "Epoch 8 / 50\n",
      "\n"
     ]
    },
    {
     "name": "stderr",
     "output_type": "stream",
     "text": [
      "100%|█████████████████████████████████████████████████████████████| 600/600 [00:19<00:00, 31.52it/s]\n"
     ]
    },
    {
     "name": "stdout",
     "output_type": "stream",
     "text": [
      "Epoch...8 Contrastive loss...0.04049936957269286\n",
      "================================================================================\n",
      "2023-12-26 23:16:55\n",
      "Epoch 9 / 50\n",
      "\n"
     ]
    },
    {
     "name": "stderr",
     "output_type": "stream",
     "text": [
      "100%|█████████████████████████████████████████████████████████████| 600/600 [00:19<00:00, 30.88it/s]\n"
     ]
    },
    {
     "name": "stdout",
     "output_type": "stream",
     "text": [
      "Epoch...9 Contrastive loss...0.03039470607965389\n",
      "================================================================================\n",
      "2023-12-26 23:17:14\n",
      "Epoch 10 / 50\n",
      "\n"
     ]
    },
    {
     "name": "stderr",
     "output_type": "stream",
     "text": [
      "100%|█████████████████████████████████████████████████████████████| 600/600 [00:18<00:00, 31.85it/s]\n"
     ]
    },
    {
     "name": "stdout",
     "output_type": "stream",
     "text": [
      "Epoch...10 Contrastive loss...0.023970488077648042\n",
      "================================================================================\n",
      "2023-12-26 23:17:33\n",
      "Epoch 11 / 50\n",
      "\n"
     ]
    },
    {
     "name": "stderr",
     "output_type": "stream",
     "text": [
      "100%|█████████████████████████████████████████████████████████████| 600/600 [00:18<00:00, 31.79it/s]\n"
     ]
    },
    {
     "name": "stdout",
     "output_type": "stream",
     "text": [
      "Epoch...11 Contrastive loss...0.02591616656062494\n",
      "================================================================================\n",
      "2023-12-26 23:17:52\n",
      "Epoch 12 / 50\n",
      "\n"
     ]
    },
    {
     "name": "stderr",
     "output_type": "stream",
     "text": [
      "100%|█████████████████████████████████████████████████████████████| 600/600 [00:19<00:00, 31.54it/s]\n"
     ]
    },
    {
     "name": "stdout",
     "output_type": "stream",
     "text": [
      "Epoch...12 Contrastive loss...0.022943078416016456\n",
      "================================================================================\n",
      "2023-12-26 23:18:11\n",
      "Epoch 13 / 50\n",
      "\n"
     ]
    },
    {
     "name": "stderr",
     "output_type": "stream",
     "text": [
      "100%|█████████████████████████████████████████████████████████████| 600/600 [00:17<00:00, 33.87it/s]\n"
     ]
    },
    {
     "name": "stdout",
     "output_type": "stream",
     "text": [
      "Epoch...13 Contrastive loss...0.022862786617473225\n",
      "================================================================================\n",
      "2023-12-26 23:18:29\n",
      "Epoch 14 / 50\n",
      "\n"
     ]
    },
    {
     "name": "stderr",
     "output_type": "stream",
     "text": [
      "100%|█████████████████████████████████████████████████████████████| 600/600 [00:17<00:00, 33.47it/s]\n"
     ]
    },
    {
     "name": "stdout",
     "output_type": "stream",
     "text": [
      "Epoch...14 Contrastive loss...0.02101527919649622\n",
      "================================================================================\n",
      "2023-12-26 23:18:47\n",
      "Epoch 15 / 50\n",
      "\n"
     ]
    },
    {
     "name": "stderr",
     "output_type": "stream",
     "text": [
      "100%|█████████████████████████████████████████████████████████████| 600/600 [00:18<00:00, 32.61it/s]\n"
     ]
    },
    {
     "name": "stdout",
     "output_type": "stream",
     "text": [
      "Epoch...15 Contrastive loss...0.021925089223235165\n",
      "================================================================================\n",
      "2023-12-26 23:19:05\n",
      "Epoch 16 / 50\n",
      "\n"
     ]
    },
    {
     "name": "stderr",
     "output_type": "stream",
     "text": [
      "100%|█████████████████████████████████████████████████████████████| 600/600 [00:17<00:00, 34.22it/s]\n"
     ]
    },
    {
     "name": "stdout",
     "output_type": "stream",
     "text": [
      "Epoch...16 Contrastive loss...0.01554769723232918\n",
      "================================================================================\n",
      "2023-12-26 23:19:23\n",
      "Epoch 17 / 50\n",
      "\n"
     ]
    },
    {
     "name": "stderr",
     "output_type": "stream",
     "text": [
      "100%|█████████████████████████████████████████████████████████████| 600/600 [00:19<00:00, 31.25it/s]\n"
     ]
    },
    {
     "name": "stdout",
     "output_type": "stream",
     "text": [
      "Epoch...17 Contrastive loss...0.010143528786405417\n",
      "================================================================================\n",
      "2023-12-26 23:19:42\n",
      "Epoch 18 / 50\n",
      "\n"
     ]
    },
    {
     "name": "stderr",
     "output_type": "stream",
     "text": [
      "100%|█████████████████████████████████████████████████████████████| 600/600 [00:17<00:00, 35.26it/s]\n"
     ]
    },
    {
     "name": "stdout",
     "output_type": "stream",
     "text": [
      "Epoch...18 Contrastive loss...0.01543819851165002\n",
      "================================================================================\n",
      "2023-12-26 23:19:59\n",
      "Epoch 19 / 50\n",
      "\n"
     ]
    },
    {
     "name": "stderr",
     "output_type": "stream",
     "text": [
      "100%|█████████████████████████████████████████████████████████████| 600/600 [00:18<00:00, 32.93it/s]\n"
     ]
    },
    {
     "name": "stdout",
     "output_type": "stream",
     "text": [
      "Epoch...19 Contrastive loss...0.01507763192109754\n",
      "================================================================================\n",
      "2023-12-26 23:20:17\n",
      "Epoch 20 / 50\n",
      "\n"
     ]
    },
    {
     "name": "stderr",
     "output_type": "stream",
     "text": [
      "100%|█████████████████████████████████████████████████████████████| 600/600 [00:19<00:00, 30.74it/s]\n"
     ]
    },
    {
     "name": "stdout",
     "output_type": "stream",
     "text": [
      "Epoch...20 Contrastive loss...0.009260869467896858\n",
      "================================================================================\n",
      "2023-12-26 23:20:37\n",
      "Epoch 21 / 50\n",
      "\n"
     ]
    },
    {
     "name": "stderr",
     "output_type": "stream",
     "text": [
      "100%|█████████████████████████████████████████████████████████████| 600/600 [00:18<00:00, 32.96it/s]\n"
     ]
    },
    {
     "name": "stdout",
     "output_type": "stream",
     "text": [
      "Epoch...21 Contrastive loss...0.01279381834598098\n",
      "================================================================================\n",
      "2023-12-26 23:20:55\n",
      "Epoch 22 / 50\n",
      "\n"
     ]
    },
    {
     "name": "stderr",
     "output_type": "stream",
     "text": [
      "100%|█████████████████████████████████████████████████████████████| 600/600 [00:20<00:00, 29.92it/s]\n"
     ]
    },
    {
     "name": "stdout",
     "output_type": "stream",
     "text": [
      "Epoch...22 Contrastive loss...0.011751030396996308\n",
      "================================================================================\n",
      "2023-12-26 23:21:15\n",
      "Epoch 23 / 50\n",
      "\n"
     ]
    },
    {
     "name": "stderr",
     "output_type": "stream",
     "text": [
      "100%|█████████████████████████████████████████████████████████████| 600/600 [00:20<00:00, 29.92it/s]\n"
     ]
    },
    {
     "name": "stdout",
     "output_type": "stream",
     "text": [
      "Epoch...23 Contrastive loss...0.012669613334250016\n",
      "================================================================================\n",
      "2023-12-26 23:21:35\n",
      "Epoch 24 / 50\n",
      "\n"
     ]
    },
    {
     "name": "stderr",
     "output_type": "stream",
     "text": [
      "100%|█████████████████████████████████████████████████████████████| 600/600 [00:19<00:00, 30.30it/s]\n"
     ]
    },
    {
     "name": "stdout",
     "output_type": "stream",
     "text": [
      "Epoch...24 Contrastive loss...0.010719227937726146\n",
      "================================================================================\n",
      "2023-12-26 23:21:55\n",
      "Epoch 25 / 50\n",
      "\n"
     ]
    },
    {
     "name": "stderr",
     "output_type": "stream",
     "text": [
      "100%|█████████████████████████████████████████████████████████████| 600/600 [00:19<00:00, 30.59it/s]\n"
     ]
    },
    {
     "name": "stdout",
     "output_type": "stream",
     "text": [
      "Epoch...25 Contrastive loss...0.009111428927787225\n",
      "================================================================================\n",
      "2023-12-26 23:22:14\n",
      "Epoch 26 / 50\n",
      "\n"
     ]
    },
    {
     "name": "stderr",
     "output_type": "stream",
     "text": [
      "100%|█████████████████████████████████████████████████████████████| 600/600 [00:20<00:00, 29.79it/s]\n"
     ]
    },
    {
     "name": "stdout",
     "output_type": "stream",
     "text": [
      "Epoch...26 Contrastive loss...0.010456110375034768\n",
      "================================================================================\n",
      "2023-12-26 23:22:35\n",
      "Epoch 27 / 50\n",
      "\n"
     ]
    },
    {
     "name": "stderr",
     "output_type": "stream",
     "text": [
      "100%|█████████████████████████████████████████████████████████████| 600/600 [00:17<00:00, 33.74it/s]\n"
     ]
    },
    {
     "name": "stdout",
     "output_type": "stream",
     "text": [
      "Epoch...27 Contrastive loss...0.007761787197856999\n",
      "================================================================================\n",
      "2023-12-26 23:22:52\n",
      "Epoch 28 / 50\n",
      "\n"
     ]
    },
    {
     "name": "stderr",
     "output_type": "stream",
     "text": [
      "100%|█████████████████████████████████████████████████████████████| 600/600 [00:20<00:00, 29.43it/s]\n"
     ]
    },
    {
     "name": "stdout",
     "output_type": "stream",
     "text": [
      "Epoch...28 Contrastive loss...0.01262195240325648\n",
      "================================================================================\n",
      "2023-12-26 23:23:13\n",
      "Epoch 29 / 50\n",
      "\n"
     ]
    },
    {
     "name": "stderr",
     "output_type": "stream",
     "text": [
      "100%|█████████████████████████████████████████████████████████████| 600/600 [00:18<00:00, 32.53it/s]\n"
     ]
    },
    {
     "name": "stdout",
     "output_type": "stream",
     "text": [
      "Epoch...29 Contrastive loss...0.010063982238164139\n",
      "================================================================================\n",
      "2023-12-26 23:23:31\n",
      "Epoch 30 / 50\n",
      "\n"
     ]
    },
    {
     "name": "stderr",
     "output_type": "stream",
     "text": [
      "100%|█████████████████████████████████████████████████████████████| 600/600 [00:16<00:00, 35.50it/s]\n"
     ]
    },
    {
     "name": "stdout",
     "output_type": "stream",
     "text": [
      "Epoch...30 Contrastive loss...0.006675530878725719\n",
      "================================================================================\n",
      "2023-12-26 23:23:48\n",
      "Epoch 31 / 50\n",
      "\n"
     ]
    },
    {
     "name": "stderr",
     "output_type": "stream",
     "text": [
      "100%|█████████████████████████████████████████████████████████████| 600/600 [00:18<00:00, 32.50it/s]\n"
     ]
    },
    {
     "name": "stdout",
     "output_type": "stream",
     "text": [
      "Epoch...31 Contrastive loss...0.009639265340967616\n",
      "================================================================================\n",
      "2023-12-26 23:24:07\n",
      "Epoch 32 / 50\n",
      "\n"
     ]
    },
    {
     "name": "stderr",
     "output_type": "stream",
     "text": [
      "100%|█████████████████████████████████████████████████████████████| 600/600 [00:19<00:00, 31.22it/s]\n"
     ]
    },
    {
     "name": "stdout",
     "output_type": "stream",
     "text": [
      "Epoch...32 Contrastive loss...0.0062051033292308\n",
      "================================================================================\n",
      "2023-12-26 23:24:26\n",
      "Epoch 33 / 50\n",
      "\n"
     ]
    },
    {
     "name": "stderr",
     "output_type": "stream",
     "text": [
      "100%|█████████████████████████████████████████████████████████████| 600/600 [00:18<00:00, 32.61it/s]\n"
     ]
    },
    {
     "name": "stdout",
     "output_type": "stream",
     "text": [
      "Epoch...33 Contrastive loss...0.006065331799639656\n",
      "================================================================================\n",
      "2023-12-26 23:24:44\n",
      "Epoch 34 / 50\n",
      "\n"
     ]
    },
    {
     "name": "stderr",
     "output_type": "stream",
     "text": [
      "100%|█████████████████████████████████████████████████████████████| 600/600 [00:17<00:00, 35.07it/s]\n"
     ]
    },
    {
     "name": "stdout",
     "output_type": "stream",
     "text": [
      "Epoch...34 Contrastive loss...0.005136878936349755\n",
      "================================================================================\n",
      "2023-12-26 23:25:01\n",
      "Epoch 35 / 50\n",
      "\n"
     ]
    },
    {
     "name": "stderr",
     "output_type": "stream",
     "text": [
      "100%|█████████████████████████████████████████████████████████████| 600/600 [00:16<00:00, 35.54it/s]\n"
     ]
    },
    {
     "name": "stdout",
     "output_type": "stream",
     "text": [
      "Epoch...35 Contrastive loss...0.006316626926010637\n",
      "================================================================================\n",
      "2023-12-26 23:25:18\n",
      "Epoch 36 / 50\n",
      "\n"
     ]
    },
    {
     "name": "stderr",
     "output_type": "stream",
     "text": [
      "100%|█████████████████████████████████████████████████████████████| 600/600 [00:17<00:00, 33.38it/s]\n"
     ]
    },
    {
     "name": "stdout",
     "output_type": "stream",
     "text": [
      "Epoch...36 Contrastive loss...0.006825536995540157\n",
      "================================================================================\n",
      "2023-12-26 23:25:36\n",
      "Epoch 37 / 50\n",
      "\n"
     ]
    },
    {
     "name": "stderr",
     "output_type": "stream",
     "text": [
      "100%|█████████████████████████████████████████████████████████████| 600/600 [00:18<00:00, 32.81it/s]\n"
     ]
    },
    {
     "name": "stdout",
     "output_type": "stream",
     "text": [
      "Epoch...37 Contrastive loss...0.005588032004437764\n",
      "================================================================================\n",
      "2023-12-26 23:25:54\n",
      "Epoch 38 / 50\n",
      "\n"
     ]
    },
    {
     "name": "stderr",
     "output_type": "stream",
     "text": [
      "100%|█████████████████████████████████████████████████████████████| 600/600 [00:18<00:00, 33.27it/s]\n"
     ]
    },
    {
     "name": "stdout",
     "output_type": "stream",
     "text": [
      "Epoch...38 Contrastive loss...0.005856601306691876\n",
      "================================================================================\n",
      "2023-12-26 23:26:13\n",
      "Epoch 39 / 50\n",
      "\n"
     ]
    },
    {
     "name": "stderr",
     "output_type": "stream",
     "text": [
      "100%|█████████████████████████████████████████████████████████████| 600/600 [00:15<00:00, 37.84it/s]\n"
     ]
    },
    {
     "name": "stdout",
     "output_type": "stream",
     "text": [
      "Epoch...39 Contrastive loss...0.007622397251359416\n",
      "================================================================================\n",
      "2023-12-26 23:26:28\n",
      "Epoch 40 / 50\n",
      "\n"
     ]
    },
    {
     "name": "stderr",
     "output_type": "stream",
     "text": [
      "100%|█████████████████████████████████████████████████████████████| 600/600 [00:17<00:00, 34.52it/s]\n"
     ]
    },
    {
     "name": "stdout",
     "output_type": "stream",
     "text": [
      "Epoch...40 Contrastive loss...0.0050722520451093565\n",
      "================================================================================\n",
      "2023-12-26 23:26:46\n",
      "Epoch 41 / 50\n",
      "\n"
     ]
    },
    {
     "name": "stderr",
     "output_type": "stream",
     "text": [
      "100%|█████████████████████████████████████████████████████████████| 600/600 [00:18<00:00, 32.28it/s]\n"
     ]
    },
    {
     "name": "stdout",
     "output_type": "stream",
     "text": [
      "Epoch...41 Contrastive loss...0.005124777764811673\n",
      "================================================================================\n",
      "2023-12-26 23:27:04\n",
      "Epoch 42 / 50\n",
      "\n"
     ]
    },
    {
     "name": "stderr",
     "output_type": "stream",
     "text": [
      "100%|█████████████████████████████████████████████████████████████| 600/600 [00:17<00:00, 34.10it/s]\n"
     ]
    },
    {
     "name": "stdout",
     "output_type": "stream",
     "text": [
      "Epoch...42 Contrastive loss...0.007879210524883778\n",
      "================================================================================\n",
      "2023-12-26 23:27:22\n",
      "Epoch 43 / 50\n",
      "\n"
     ]
    },
    {
     "name": "stderr",
     "output_type": "stream",
     "text": [
      "100%|█████████████████████████████████████████████████████████████| 600/600 [00:16<00:00, 36.02it/s]\n"
     ]
    },
    {
     "name": "stdout",
     "output_type": "stream",
     "text": [
      "Epoch...43 Contrastive loss...0.008265791867601516\n",
      "================================================================================\n",
      "2023-12-26 23:27:39\n",
      "Epoch 44 / 50\n",
      "\n"
     ]
    },
    {
     "name": "stderr",
     "output_type": "stream",
     "text": [
      "100%|█████████████████████████████████████████████████████████████| 600/600 [00:17<00:00, 34.22it/s]\n"
     ]
    },
    {
     "name": "stdout",
     "output_type": "stream",
     "text": [
      "Epoch...44 Contrastive loss...0.007364776968782205\n",
      "================================================================================\n",
      "2023-12-26 23:27:56\n",
      "Epoch 45 / 50\n",
      "\n"
     ]
    },
    {
     "name": "stderr",
     "output_type": "stream",
     "text": [
      "100%|█████████████████████████████████████████████████████████████| 600/600 [00:17<00:00, 33.44it/s]\n"
     ]
    },
    {
     "name": "stdout",
     "output_type": "stream",
     "text": [
      "Epoch...45 Contrastive loss...0.005981523557231109\n",
      "================================================================================\n",
      "2023-12-26 23:28:14\n",
      "Epoch 46 / 50\n",
      "\n"
     ]
    },
    {
     "name": "stderr",
     "output_type": "stream",
     "text": [
      "100%|█████████████████████████████████████████████████████████████| 600/600 [00:18<00:00, 32.04it/s]\n"
     ]
    },
    {
     "name": "stdout",
     "output_type": "stream",
     "text": [
      "Epoch...46 Contrastive loss...0.005687114001480988\n",
      "================================================================================\n",
      "2023-12-26 23:28:33\n",
      "Epoch 47 / 50\n",
      "\n"
     ]
    },
    {
     "name": "stderr",
     "output_type": "stream",
     "text": [
      "100%|█████████████████████████████████████████████████████████████| 600/600 [00:16<00:00, 35.40it/s]\n"
     ]
    },
    {
     "name": "stdout",
     "output_type": "stream",
     "text": [
      "Epoch...47 Contrastive loss...0.005221049467064442\n",
      "================================================================================\n",
      "2023-12-26 23:28:50\n",
      "Epoch 48 / 50\n",
      "\n"
     ]
    },
    {
     "name": "stderr",
     "output_type": "stream",
     "text": [
      "100%|█████████████████████████████████████████████████████████████| 600/600 [00:18<00:00, 33.20it/s]\n"
     ]
    },
    {
     "name": "stdout",
     "output_type": "stream",
     "text": [
      "Epoch...48 Contrastive loss...0.0035327216527942557\n",
      "================================================================================\n",
      "2023-12-26 23:29:08\n",
      "Epoch 49 / 50\n",
      "\n"
     ]
    },
    {
     "name": "stderr",
     "output_type": "stream",
     "text": [
      "100%|█████████████████████████████████████████████████████████████| 600/600 [00:17<00:00, 33.93it/s]\n"
     ]
    },
    {
     "name": "stdout",
     "output_type": "stream",
     "text": [
      "Epoch...49 Contrastive loss...0.0034644032775918276\n",
      "================================================================================\n",
      "2023-12-26 23:29:26\n",
      "Epoch 50 / 50\n",
      "\n"
     ]
    },
    {
     "name": "stderr",
     "output_type": "stream",
     "text": [
      "100%|█████████████████████████████████████████████████████████████| 600/600 [00:18<00:00, 33.04it/s]"
     ]
    },
    {
     "name": "stdout",
     "output_type": "stream",
     "text": [
      "Epoch...50 Contrastive loss...0.004726815089738921\n",
      "Done \n"
     ]
    },
    {
     "name": "stderr",
     "output_type": "stream",
     "text": [
      "\n"
     ]
    }
   ],
   "source": [
    "np.random.seed(1)  #random seeding\n",
    "torch.manual_seed(1)\n",
    "print(\"\\nLoading 30000 item training dataset\")\n",
    "print(\"\\nCreating LSTM Siamese network\")\n",
    "print(lstm_siamese_train)\n",
    "\n",
    "# 创建损失值数组\n",
    "arraylosses2 = []  \n",
    "\n",
    "# 用于调整权重的交叉熵损失\n",
    "loss_fn2 = ContrastiveLoss(2.0)\n",
    "loss_fn2.to(device)\n",
    "\n",
    "# 这里使用Adam优化器，当然还有其他选项\n",
    "# 带或不带动量的梯度下降算法\n",
    "opt2= torch.optim.Adam(lstm_siamese_train.parameters(), lr=learning_rate)  \n",
    "\n",
    "print(\"loss = Contrastive Loss\")\n",
    "print(\"optimizer = Adam\")\n",
    "print(\"maximum epochs = %3d \" % max_epoch)\n",
    "print(\"learning rate = %0.3f \" % learning_rate)\n",
    "print(\"\\nStarting training\")\n",
    "lstm_siamese_train.train()\n",
    "\n",
    "\n",
    "for epoch in range(0, max_epoch):\n",
    "    printlog('Epoch {0} / {1}'.format(epoch+1, max_epoch))\n",
    "    con_loss = 0\n",
    "    loop = tqdm(enumerate(siamese_dataloader), total=len(siamese_dataloader), ncols=100) \n",
    "    for i, batch in loop:\n",
    "        feature1, label1, feature2, label2, flag = batch\n",
    "\n",
    "        feature1 = feature1.reshape(-1, 28, 28).to(device)\n",
    "        feature2 = feature2.reshape(-1, 28, 28).to(device)\n",
    "        label1 = label1.to(device)\n",
    "        label2 = label2.to(device)\n",
    "\n",
    "        preds1, preds2 = lstm_siamese_train(feature1, feature2)\n",
    "        loss = loss_fn2(preds1, preds2, flag)\n",
    "\n",
    "        # 损失求和\n",
    "        con_loss += loss.item()\n",
    "        opt2.zero_grad()\n",
    "        loss.backward()\n",
    "        opt2.step()\n",
    "\n",
    "        # 由于样本总数为 30000，批次总数 = 30000 / 50 = 600\n",
    "        if (i + 1) % 600 == 0: \n",
    "            # 使用数组来存储损失，以便绘制损失与时间的关系图\n",
    "            arraylosses2.append(con_loss / 600) \n",
    "            print(\n",
    "                \"Epoch...{}\".format(epoch + 1),\n",
    "                \"Contrastive loss...{}\".format(con_loss / 600),\n",
    "            )\n",
    "print(\"Done \")"
   ]
  },
  {
   "cell_type": "code",
   "execution_count": 81,
   "metadata": {},
   "outputs": [
    {
     "data": {
      "image/png": "[encoded data removed]",
      "text/plain": [
       "<Figure size 640x480 with 1 Axes>"
      ]
     },
     "metadata": {},
     "output_type": "display_data"
    }
   ],
   "source": [
    "plt.plot(range(max_epoch), arraylosses2)\n",
    "plt.xlabel(\"Epochs\")\n",
    "plt.ylabel(\"Losses\")\n",
    "plt.title(\"LSTM Siamese neural network training\")\n",
    "plt.show()"
   ]
  },
  {
   "cell_type": "code",
   "execution_count": 82,
   "metadata": {},
   "outputs": [
    {
     "data": {
      "text/plain": [
       "LSTM_Siamese_network(\n",
       "  (lstm): LSTM(28, 128, num_layers=3, batch_first=True)\n",
       "  (output_layer): Linear(in_features=128, out_features=10, bias=True)\n",
       ")"
      ]
     },
     "execution_count": 82,
     "metadata": {},
     "output_type": "execute_result"
    }
   ],
   "source": [
    "lstm_siamese_train.eval()"
   ]
  },
  {
   "cell_type": "code",
   "execution_count": 89,
   "metadata": {},
   "outputs": [],
   "source": [
    "# 创建数据加载器，以创建存储测试的数组\n",
    "mnist_siamese_set = torch.utils.data.DataLoader(ds_val, batch_size=1, shuffle=False) "
   ]
  },
  {
   "cell_type": "code",
   "execution_count": 108,
   "metadata": {},
   "outputs": [],
   "source": [
    "# 包含所有测试图像的数组\n",
    "masterimagearray = [] \n",
    "masterimagelabels = []\n",
    "\n",
    "# 创建可访问的 0 至 9 数组, 通过LSTM Siamese Network进行评估\n",
    "testzeros = []\n",
    "testones = []\n",
    "testtwos = []    \n",
    "testthrees = []  \n",
    "testfours = []\n",
    "testfives = []\n",
    "testsixes = []\n",
    "testsevens = []\n",
    "testeights = []\n",
    "testnines = []\n",
    "\n",
    "for batch, (images, labels) in enumerate(mnist_siamese_set):\n",
    "    images = images.to(device)\n",
    "    labels = labels.to(device)\n",
    "    masterimagearray.append(images)\n",
    "    masterimagelabels.append(labels)\n",
    "\n",
    "    if labels == 0:\n",
    "        testzeros.append(images)\n",
    "    elif labels == 1:\n",
    "        testones.append(images)\n",
    "    elif labels == 2:\n",
    "        testtwos.append(images)\n",
    "    elif labels == 3:\n",
    "        testthrees.append(images)\n",
    "    elif labels == 4:\n",
    "        testfours.append(images)\n",
    "    elif labels == 5:\n",
    "        testfives.append(images)\n",
    "    elif labels == 6:\n",
    "        testsixes.append(images)\n",
    "    elif labels == 7:\n",
    "        testsevens.append(images)\n",
    "    elif labels == 8:\n",
    "        testeights.append(images)\n",
    "    else:\n",
    "        testnines.append(images)"
   ]
  },
  {
   "cell_type": "code",
   "execution_count": 109,
   "metadata": {},
   "outputs": [],
   "source": [
    "arrayoftestnumbers = [testzeros, testones, testtwos, testthrees, testfours, testfives, testsixes, testsevens, testeights, testnines]"
   ]
  },
  {
   "cell_type": "code",
   "execution_count": 110,
   "metadata": {},
   "outputs": [],
   "source": [
    "def EvaluateSiamese(image):\n",
    "    sumdist = []\n",
    "    resultsarray = []\n",
    "    euclid_distance = None\n",
    "    for i in range(len(arrayoftestnumbers)):\n",
    "        num = 0\n",
    "        for ii in range(10):\n",
    "            # 生成随机数的方式不会生成相同的随机数\n",
    "            num = random.randint(num, num + 80)\n",
    "            with torch.no_grad():\n",
    "                out1, out2 = lstm_siamese_train(image.view(-1, 28, 28), arrayoftestnumbers[i][num].view(-1, 28, 28))\n",
    "                # 计算欧几里得距离\n",
    "                dist = torch.nn.functional.pairwise_distance(out1, out2) \n",
    "            # 追加到数组\n",
    "            sumdist.append(dist)\n",
    "        # 欧几里得距离平均值\n",
    "        result = sum(sumdist) / 10 \n",
    "        sumdist = []\n",
    "        resultsarray.append(result)\n",
    "\n",
    "    correctanswer = None\n",
    "\n",
    "    for i in range(10):\n",
    "        # 正确答案是欧氏距离小于1.0的答案\n",
    "        if resultsarray[i] < 1.0: \n",
    "            correctanswer = i\n",
    "            euclid_distance = resultsarray[i]\n",
    "    # 用欧几里得距离返回正确答案\n",
    "    return correctanswer, euclid_distance #returns the correct answer with euclidean distance"
   ]
  },
  {
   "cell_type": "code",
   "execution_count": 111,
   "metadata": {},
   "outputs": [],
   "source": [
    "# 创建测试集\n",
    "mnist_test_set = torch.utils.data.DataLoader(ds_val, batch_size=50, shuffle=False)"
   ]
  },
  {
   "cell_type": "code",
   "execution_count": 112,
   "metadata": {},
   "outputs": [],
   "source": [
    "test_image_batch = None\n",
    "test_image_label = None\n",
    "# 从测试集中选择一个随机图像集来测试分类模型\n",
    "for batch, (image, label) in enumerate(mnist_test_set):  \n",
    "    # 测试集包括 10000 个样本，分成 200 批，每批 50 个图像\n",
    "    if batch == 51: \n",
    "        test_image_batch = image.to(device)\n",
    "        test_image_label = label.to(device)\n",
    "        break"
   ]
  },
  {
   "cell_type": "code",
   "execution_count": 113,
   "metadata": {},
   "outputs": [],
   "source": [
    "with torch.no_grad():\n",
    "    # 使用视图功能将图像重塑为 50、28、28\n",
    "    output = lstm_class_model(test_image_batch.view(-1, 28, 28)) "
   ]
  },
  {
   "cell_type": "code",
   "execution_count": 114,
   "metadata": {},
   "outputs": [],
   "source": [
    "predicted = torch.max(output, 1)[1]"
   ]
  },
  {
   "cell_type": "code",
   "execution_count": 140,
   "metadata": {},
   "outputs": [],
   "source": [
    "positions = []\n",
    "\n",
    "for i in range(50):\n",
    "    # 获得数组中的位置\n",
    "    if predicted[i] != test_image_label[i]:\n",
    "       # 图像被错误分类\n",
    "       positions.append(i)"
   ]
  },
  {
   "cell_type": "code",
   "execution_count": 116,
   "metadata": {},
   "outputs": [
    {
     "data": {
      "text/plain": [
       "[47]"
      ]
     },
     "execution_count": 116,
     "metadata": {},
     "output_type": "execute_result"
    }
   ],
   "source": [
    "positions"
   ]
  },
  {
   "cell_type": "code",
   "execution_count": 138,
   "metadata": {},
   "outputs": [
    {
     "data": {
      "text/plain": [
       "tensor(3, device='mps:0')"
      ]
     },
     "execution_count": 138,
     "metadata": {},
     "output_type": "execute_result"
    }
   ],
   "source": [
    "predicted[47]"
   ]
  },
  {
   "cell_type": "code",
   "execution_count": 135,
   "metadata": {},
   "outputs": [
    {
     "data": {
      "image/png": "[encoded data removed]",
      "text/plain": [
       "<Figure size 640x480 with 1 Axes>"
      ]
     },
     "metadata": {},
     "output_type": "display_data"
    }
   ],
   "source": [
    "# 将张量移动到CPU并转换为NumPy数组\n",
    "image_for_plot = masterimagearray[2597].cpu().detach().numpy()\n",
    "\n",
    "# 去除单通道的维度\n",
    "image_data = image_for_plot.squeeze()\n",
    "\n",
    "# 显示图像\n",
    "plt.imshow(image_data)\n",
    "plt.draw()\n",
    "plt.show()"
   ]
  },
  {
   "cell_type": "code",
   "execution_count": 125,
   "metadata": {},
   "outputs": [
    {
     "name": "stdout",
     "output_type": "stream",
     "text": [
      "Answer is 5 and correct  distance is tensor([0.2242], device='mps:0')\n"
     ]
    }
   ],
   "source": [
    "answer, dist = EvaluateSiamese(masterimagearray[3462])\n",
    "\n",
    "if answer == masterimagelabels[3462]:\n",
    "    print(\"Answer is \" + str(answer) + \" and correct \" + \" distance is \" + str(dist))\n",
    "# 有时，Siamese Model无法预测，如果答案为None，将输出 \"Don't know answer\"。\n",
    "elif answer is None:\n",
    "    print(\"Don't know answer\")\n",
    "else: print(\"Wrong answer, given answer is \" + str(answer) + \" but answer is \" + str(masterimagelabels[3462]))"
   ]
  },
  {
   "cell_type": "code",
   "execution_count": 120,
   "metadata": {},
   "outputs": [
    {
     "name": "stdout",
     "output_type": "stream",
     "text": [
      "Answer is 6 and correct  distance is tensor([0.5165], device='mps:0')\n"
     ]
    }
   ],
   "source": [
    "answer, dist = EvaluateSiamese(masterimagearray[3762])\n",
    "\n",
    "if answer == masterimagelabels[3762]:\n",
    "    print(\"Answer is \" + str(answer) + \" and correct \" + \" distance is \" + str(dist))\n",
    "elif answer is None:\n",
    "    print(\"Don't know answer\")\n",
    "else: print(\"Wrong answer, given answer is \" + str(answer) + \" but answer is \" + str(masterimagelabels[3762]))"
   ]
  },
  {
   "cell_type": "code",
   "execution_count": 121,
   "metadata": {},
   "outputs": [
    {
     "name": "stdout",
     "output_type": "stream",
     "text": [
      "Answer is 7 and correct  distance is tensor([0.6107], device='mps:0')\n"
     ]
    }
   ],
   "source": [
    "answer, dist = EvaluateSiamese(masterimagearray[3767])\n",
    "\n",
    "if answer == masterimagelabels[3767]:\n",
    "   print(\"Answer is \" + str(answer) + \" and correct \" + \" distance is \" + str(dist))\n",
    "elif answer is None:\n",
    "   print(\"Don't know answer\")\n",
    "else: print(\"Wrong answer, given answer is \" + str(answer) + \" but answer is \" + str(masterimagelabels[3767]))"
   ]
  },
  {
   "cell_type": "code",
   "execution_count": 122,
   "metadata": {},
   "outputs": [
    {
     "name": "stdout",
     "output_type": "stream",
     "text": [
      "Answer is 4 and correct  distance is tensor([0.6454], device='mps:0')\n"
     ]
    }
   ],
   "source": [
    "answer, dist = EvaluateSiamese(masterimagearray[3941])\n",
    "\n",
    "if answer == masterimagelabels[3941]:\n",
    "   print(\"Answer is \" + str(answer) + \" and correct \" + \" distance is \" + str(dist))\n",
    "elif answer is None:\n",
    "    print(\"Don't know answer\")\n",
    "else: print(\"Wrong answer, given answer is \" + str(answer) + \" but answer is \" + str(masterimagelabels[3941]))"
   ]
  },
  {
   "cell_type": "code",
   "execution_count": null,
   "metadata": {},
   "outputs": [],
   "source": []
  }
 ],
 "metadata": {
  "kernelspec": {
   "display_name": "tf",
   "language": "python",
   "name": "python3"
  },
  "language_info": {
   "codemirror_mode": {
    "name": "ipython",
    "version": 3
   },
   "file_extension": ".py",
   "mimetype": "text/x-python",
   "name": "python",
   "nbconvert_exporter": "python",
   "pygments_lexer": "ipython3",
   "version": "3.10.12"
  }
 },
 "nbformat": 4,
 "nbformat_minor": 2
}
