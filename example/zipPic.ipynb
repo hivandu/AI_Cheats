{
 "cells": [
  {
   "cell_type": "markdown",
   "metadata": {},
   "source": [
    "# 利用人工智能更改图像大小"
   ]
  },
  {
   "cell_type": "code",
   "execution_count": 1,
   "metadata": {},
   "outputs": [],
   "source": [
    "import cv2\n",
    "\n",
    "# imread用于从位置读取图像\n",
    "image = cv2.imread(\"./data/Capture-2023-08-05-013149.png\")\n",
    "\n",
    "cv2.imwrite(\"./data/Capture-2023-08-05-013149.jpeg\", image)\n",
    "\n",
    "cv2.waitKey()\n",
    "cv2.destroyAllWindows()"
   ]
  },
  {
   "cell_type": "code",
   "execution_count": 5,
   "metadata": {},
   "outputs": [
    {
     "name": "stdout",
     "output_type": "stream",
     "text": [
      "Metal device set to: Apple M1\n",
      "\n",
      "systemMemory: 16.00 GB\n",
      "maxCacheSize: 5.33 GB\n",
      "\n"
     ]
    },
    {
     "name": "stderr",
     "output_type": "stream",
     "text": [
      "2023-08-06 01:57:55.963448: W tensorflow/tsl/platform/profile_utils/cpu_utils.cc:128] Failed to get CPU frequency: 0 Hz\n"
     ]
    },
    {
     "name": "stdout",
     "output_type": "stream",
     "text": [
      "1/1 [==============================] - 1s 592ms/step\n",
      "[[9 7]\n",
      " [8 6]]\n"
     ]
    }
   ],
   "source": [
    "import numpy as np\n",
    "from keras.models import Sequential\n",
    "from keras.layers import MaxPooling2D\n",
    "\n",
    "# 定义输入图像\n",
    "image = np.array([[2, 2, 7, 3],\n",
    "                 [9, 4, 6, 1],\n",
    "                 [8, 5, 2, 4],\n",
    "                 [3, 1, 2, 6]])\n",
    "image = image.reshape(1, 4, 4, 1)\n",
    "\n",
    "# 定义仅包含一个最大池化层的模型\n",
    "model = Sequential(\n",
    "  [MaxPooling2D(pool_size = 2, strides = 2)])\n",
    "\n",
    "# 生成池化输出\n",
    "output = model.predict(image)\n",
    "\n",
    "# 打印输出图像\n",
    "output = np.squeeze(output)\n",
    "print(output)"
   ]
  },
  {
   "cell_type": "code",
   "execution_count": 3,
   "metadata": {},
   "outputs": [
    {
     "name": "stdout",
     "output_type": "stream",
     "text": [
      "Metadata informations of the photos:\n",
      "{'0th': {274: 1, 282: (72, 1), 283: (72, 1), 296: 2, 531: 1, 34665: 102}, 'Exif': {36864: b'0221', 37121: b'\\x01\\x02\\x03\\x00', 40960: b'0100', 40961: 1, 40962: 6000, 40963: 4000, 41990: 0}, 'GPS': {}, 'Interop': {}, '1st': {}, 'thumbnail': None}\n",
      "Photo saved with unnecessary metadata removed and file size reduced: ./data/Capture-2023-08-05-013319_no_unnecessary_metadata.jpg\n"
     ]
    }
   ],
   "source": [
    "import cv2\n",
    "import piexif\n",
    "\n",
    "def read_metadata(image_path):\n",
    "    # 读取元数据信息\n",
    "    exif_data = piexif.load(image_path)\n",
    "    print(\"Metadata informations of the photos:\")\n",
    "    print(exif_data)\n",
    "\n",
    "    return exif_data\n",
    "\n",
    "def remove_unnecessary_metadata(exif_data):\n",
    "    # 仅存储“Exif”、“GPS”和“互操作”元数据作为示例\n",
    "    keep_tags = {\n",
    "        'Exif': exif_data.get('Exif', {}),\n",
    "        'GPS': exif_data.get('GPS', {}),\n",
    "        'Interop': exif_data.get('Interop', {}),\n",
    "    }\n",
    "\n",
    "    # 使用剩余的基本元数据创建新的 exif 数据\n",
    "    exif_data.clear()\n",
    "    exif_data.update(keep_tags)\n",
    "\n",
    "    return exif_data\n",
    "\n",
    "if __name__ == \"__main__\":\n",
    "    input_image_path = \"./data/Capture-2023-08-05-013319.jpg\"\n",
    "    output_image_path = \"./data/Capture-2023-08-05-013319_no_unnecessary_metadata.jpg\"\n",
    "\n",
    "    # 读取原始照片的元数据\n",
    "    exif_info = read_metadata(input_image_path)\n",
    "\n",
    "    if exif_info:\n",
    "        # 删除不必要的元数据信息并保存新照片\n",
    "        new_exif_info = remove_unnecessary_metadata(exif_info)\n",
    "        img = cv2.imread(input_image_path)\n",
    "        # 通过降低JPEG质量来减小文件大小\n",
    "        cv2.imwrite(output_image_path, img, [int(cv2.IMWRITE_JPEG_QUALITY), 50])\n",
    "\n",
    "        # 将原始照片的元数据信息添加到新照片\n",
    "        piexif.insert(piexif.dump(new_exif_info), output_image_path)\n",
    "        \n",
    "        print(\"Photo saved with unnecessary metadata removed and file size reduced:\", output_image_path)\n",
    "    else:\n",
    "        print(\"Photo processing error.\")"
   ]
  },
  {
   "cell_type": "code",
   "execution_count": null,
   "metadata": {},
   "outputs": [],
   "source": []
  }
 ],
 "metadata": {
  "kernelspec": {
   "display_name": "glm",
   "language": "python",
   "name": "python3"
  },
  "language_info": {
   "codemirror_mode": {
    "name": "ipython",
    "version": 3
   },
   "file_extension": ".py",
   "mimetype": "text/x-python",
   "name": "python",
   "nbconvert_exporter": "python",
   "pygments_lexer": "ipython3",
   "version": "3.10.11"
  },
  "orig_nbformat": 4
 },
 "nbformat": 4,
 "nbformat_minor": 2
}
